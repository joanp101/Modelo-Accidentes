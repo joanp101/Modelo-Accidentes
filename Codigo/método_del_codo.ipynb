{
 "cells": [
  {
   "cell_type": "code",
   "execution_count": 0,
   "metadata": {
    "colab": {},
    "colab_type": "code",
    "id": "Dzr8taU8e7Ml"
   },
   "outputs": [],
   "source": [
    "import numpy as np\n",
    "import matplotlib.pyplot as plt\n",
    "from sklearn.cluster import KMeans"
   ]
  },
  {
   "cell_type": "code",
   "execution_count": 0,
   "metadata": {
    "colab": {},
    "colab_type": "code",
    "id": "fV3CRApsfUnP"
   },
   "outputs": [],
   "source": [
    "DATASET1 = '/content/X.txt'\n",
    "LOOPS = 10\n",
    "MAX_ITERATIONS = 10\n",
    "INITIALIZE_CLUSTERS = 'k-means++'\n",
    "CONVERGENCE_TOLERANCE = 0.001\n",
    "NUM_THREADS = 8"
   ]
  },
  {
   "cell_type": "code",
   "execution_count": 0,
   "metadata": {
    "colab": {},
    "colab_type": "code",
    "id": "izFTB_MSfvpb"
   },
   "outputs": [],
   "source": [
    "def dataset_to_list_points(dir_dataset):\n",
    "    \"\"\"\n",
    "    Lea un archivo txt con un conjunto de puntos y devuelva una lista de objetos Punto\n",
    "    :conjunto de datos param dir:\n",
    "    \"\"\"\n",
    "    \n",
    "    points = list()\n",
    "    with open(dir_dataset, 'rt') as reader:\n",
    "        for point in reader:\n",
    "            points.append(np.asarray(list(map(float, point.split(\"::\")))))\n",
    "    return points"
   ]
  },
  {
   "cell_type": "code",
   "execution_count": 0,
   "metadata": {
    "colab": {},
    "colab_type": "code",
    "id": "4AVxlQesf2s-"
   },
   "outputs": [],
   "source": [
    "def plot_results(inertials):\n",
    "    x, y = zip(*[inertia for inertia in inertials])\n",
    "    plt.plot(x, y, 'ro-', markersize=8, lw=2)\n",
    "    plt.grid(True)\n",
    "    plt.xlabel('Num Clusters')\n",
    "    plt.ylabel('Inertia')\n",
    "    plt.show()"
   ]
  },
  {
   "cell_type": "code",
   "execution_count": 0,
   "metadata": {
    "colab": {},
    "colab_type": "code",
    "id": "xNZdahaBf4i4"
   },
   "outputs": [],
   "source": [
    "def select_clusters(dataset, loops, max_iterations, init_cluster, tolerance,\n",
    "                    num_threads):\n",
    "    # Leer conjunto de datos\n",
    "    points = dataset_to_list_points(dataset)\n",
    "\n",
    "    inertia_clusters = list()\n",
    "\n",
    "    for i in range(1, loops + 1, 1):\n",
    "        # Object KMeans\n",
    "        kmeans = KMeans(n_clusters=i, max_iter=max_iterations,\n",
    "                        init=init_cluster, tol=tolerance, n_jobs=num_threads)\n",
    "\n",
    "        # Calcular Kmeans\n",
    "        kmeans.fit(points)\n",
    "\n",
    "        # Obtener inercia\n",
    "        inertia_clusters.append([i, kmeans.inertia_])\n",
    "\n",
    "    plot_results(inertia_clusters)"
   ]
  },
  {
   "cell_type": "code",
   "execution_count": 43,
   "metadata": {
    "colab": {
     "base_uri": "https://localhost:8080/",
     "height": 290
    },
    "colab_type": "code",
    "id": "RnaiPrsDf615",
    "outputId": "48b207de-deb6-41eb-e2e6-db8f536d8b7d"
   },
   "outputs": [
    {
     "data": {
      "image/png": "[encoded data removed]",
      "text/plain": [
       "<Figure size 432x288 with 1 Axes>"
      ]
     },
     "metadata": {
      "tags": []
     },
     "output_type": "display_data"
    }
   ],
   "source": [
    "if __name__ == '__main__':\n",
    "    select_clusters(DATASET1, LOOPS, MAX_ITERATIONS, INITIALIZE_CLUSTERS,\n",
    "                    CONVERGENCE_TOLERANCE, NUM_THREADS)"
   ]
  },
  {
   "cell_type": "code",
   "execution_count": 0,
   "metadata": {
    "colab": {},
    "colab_type": "code",
    "id": "ckJiQdrPf-rU"
   },
   "outputs": [],
   "source": []
  }
 ],
 "metadata": {
  "accelerator": "GPU",
  "colab": {
   "name": "método del codo.ipynb",
   "provenance": []
  },
  "kernelspec": {
   "display_name": "Python 3",
   "language": "python",
   "name": "python3"
  },
  "language_info": {
   "codemirror_mode": {
    "name": "ipython",
    "version": 3
   },
   "file_extension": ".py",
   "mimetype": "text/x-python",
   "name": "python",
   "nbconvert_exporter": "python",
   "pygments_lexer": "ipython3",
   "version": "3.8.1"
  }
 },
 "nbformat": 4,
 "nbformat_minor": 1
}
