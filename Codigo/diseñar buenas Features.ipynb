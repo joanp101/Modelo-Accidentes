{
 "cells": [
  {
   "cell_type": "code",
   "execution_count": 1,
   "metadata": {},
   "outputs": [],
   "source": [
    "%matplotlib inline\n",
    "import pandas as pd\n",
    "import seaborn as sns\n",
    "\n",
    "X = pd.read_csv(\"C:/Users/sergi/modalidad/Dataset/X.csv\").drop(['DIA','PERIODO'],axis=1)"
   ]
  },
  {
   "cell_type": "code",
   "execution_count": 2,
   "metadata": {},
   "outputs": [
    {
     "data": {
      "text/html": [
       "<div>\n",
       "<style scoped>\n",
       "    .dataframe tbody tr th:only-of-type {\n",
       "        vertical-align: middle;\n",
       "    }\n",
       "\n",
       "    .dataframe tbody tr th {\n",
       "        vertical-align: top;\n",
       "    }\n",
       "\n",
       "    .dataframe thead th {\n",
       "        text-align: right;\n",
       "    }\n",
       "</style>\n",
       "<table border=\"1\" class=\"dataframe\">\n",
       "  <thead>\n",
       "    <tr style=\"text-align: right;\">\n",
       "      <th></th>\n",
       "      <th>X</th>\n",
       "      <th>Y</th>\n",
       "      <th>OBJECTID</th>\n",
       "      <th>RADICADO</th>\n",
       "      <th>DIA_NUMERO</th>\n",
       "      <th>CBML</th>\n",
       "      <th>MES</th>\n",
       "      <th>NUM_COMUNA</th>\n",
       "    </tr>\n",
       "  </thead>\n",
       "  <tbody>\n",
       "    <tr>\n",
       "      <th>X</th>\n",
       "      <td>1.000000</td>\n",
       "      <td>0.266602</td>\n",
       "      <td>0.007389</td>\n",
       "      <td>0.010116</td>\n",
       "      <td>0.004170</td>\n",
       "      <td>0.012727</td>\n",
       "      <td>0.011016</td>\n",
       "      <td>-0.610683</td>\n",
       "    </tr>\n",
       "    <tr>\n",
       "      <th>Y</th>\n",
       "      <td>0.266602</td>\n",
       "      <td>1.000000</td>\n",
       "      <td>-0.012020</td>\n",
       "      <td>-0.022999</td>\n",
       "      <td>0.035211</td>\n",
       "      <td>0.011249</td>\n",
       "      <td>-0.020037</td>\n",
       "      <td>-0.785335</td>\n",
       "    </tr>\n",
       "    <tr>\n",
       "      <th>OBJECTID</th>\n",
       "      <td>0.007389</td>\n",
       "      <td>-0.012020</td>\n",
       "      <td>1.000000</td>\n",
       "      <td>0.706011</td>\n",
       "      <td>-0.004158</td>\n",
       "      <td>-0.002020</td>\n",
       "      <td>0.701936</td>\n",
       "      <td>0.006998</td>\n",
       "    </tr>\n",
       "    <tr>\n",
       "      <th>RADICADO</th>\n",
       "      <td>0.010116</td>\n",
       "      <td>-0.022999</td>\n",
       "      <td>0.706011</td>\n",
       "      <td>1.000000</td>\n",
       "      <td>0.017039</td>\n",
       "      <td>-0.007555</td>\n",
       "      <td>0.992689</td>\n",
       "      <td>0.011661</td>\n",
       "    </tr>\n",
       "    <tr>\n",
       "      <th>DIA_NUMERO</th>\n",
       "      <td>0.004170</td>\n",
       "      <td>0.035211</td>\n",
       "      <td>-0.004158</td>\n",
       "      <td>0.017039</td>\n",
       "      <td>1.000000</td>\n",
       "      <td>0.004397</td>\n",
       "      <td>0.018305</td>\n",
       "      <td>-0.024547</td>\n",
       "    </tr>\n",
       "    <tr>\n",
       "      <th>CBML</th>\n",
       "      <td>0.012727</td>\n",
       "      <td>0.011249</td>\n",
       "      <td>-0.002020</td>\n",
       "      <td>-0.007555</td>\n",
       "      <td>0.004397</td>\n",
       "      <td>1.000000</td>\n",
       "      <td>-0.008036</td>\n",
       "      <td>-0.019241</td>\n",
       "    </tr>\n",
       "    <tr>\n",
       "      <th>MES</th>\n",
       "      <td>0.011016</td>\n",
       "      <td>-0.020037</td>\n",
       "      <td>0.701936</td>\n",
       "      <td>0.992689</td>\n",
       "      <td>0.018305</td>\n",
       "      <td>-0.008036</td>\n",
       "      <td>1.000000</td>\n",
       "      <td>0.008946</td>\n",
       "    </tr>\n",
       "    <tr>\n",
       "      <th>NUM_COMUNA</th>\n",
       "      <td>-0.610683</td>\n",
       "      <td>-0.785335</td>\n",
       "      <td>0.006998</td>\n",
       "      <td>0.011661</td>\n",
       "      <td>-0.024547</td>\n",
       "      <td>-0.019241</td>\n",
       "      <td>0.008946</td>\n",
       "      <td>1.000000</td>\n",
       "    </tr>\n",
       "  </tbody>\n",
       "</table>\n",
       "</div>"
      ],
      "text/plain": [
       "                   X         Y  OBJECTID  RADICADO  DIA_NUMERO      CBML  \\\n",
       "X           1.000000  0.266602  0.007389  0.010116    0.004170  0.012727   \n",
       "Y           0.266602  1.000000 -0.012020 -0.022999    0.035211  0.011249   \n",
       "OBJECTID    0.007389 -0.012020  1.000000  0.706011   -0.004158 -0.002020   \n",
       "RADICADO    0.010116 -0.022999  0.706011  1.000000    0.017039 -0.007555   \n",
       "DIA_NUMERO  0.004170  0.035211 -0.004158  0.017039    1.000000  0.004397   \n",
       "CBML        0.012727  0.011249 -0.002020 -0.007555    0.004397  1.000000   \n",
       "MES         0.011016 -0.020037  0.701936  0.992689    0.018305 -0.008036   \n",
       "NUM_COMUNA -0.610683 -0.785335  0.006998  0.011661   -0.024547 -0.019241   \n",
       "\n",
       "                 MES  NUM_COMUNA  \n",
       "X           0.011016   -0.610683  \n",
       "Y          -0.020037   -0.785335  \n",
       "OBJECTID    0.701936    0.006998  \n",
       "RADICADO    0.992689    0.011661  \n",
       "DIA_NUMERO  0.018305   -0.024547  \n",
       "CBML       -0.008036   -0.019241  \n",
       "MES         1.000000    0.008946  \n",
       "NUM_COMUNA  0.008946    1.000000  "
      ]
     },
     "execution_count": 2,
     "metadata": {},
     "output_type": "execute_result"
    }
   ],
   "source": [
    "X.corr()"
   ]
  },
  {
   "cell_type": "code",
   "execution_count": 3,
   "metadata": {},
   "outputs": [
    {
     "data": {
      "text/plain": [
       "<matplotlib.axes._subplots.AxesSubplot at 0x28887f3f880>"
      ]
     },
     "execution_count": 3,
     "metadata": {},
     "output_type": "execute_result"
    },
    {
     "data": {
      "image/png": "[encoded data removed]",
      "text/plain": [
       "<Figure size 432x288 with 2 Axes>"
      ]
     },
     "metadata": {
      "needs_background": "light"
     },
     "output_type": "display_data"
    }
   ],
   "source": [
    "sns.heatmap(X.corr())"
   ]
  },
  {
   "cell_type": "code",
   "execution_count": null,
   "metadata": {},
   "outputs": [],
   "source": []
  }
 ],
 "metadata": {
  "kernelspec": {
   "display_name": "Python 3",
   "language": "python",
   "name": "python3"
  },
  "language_info": {
   "codemirror_mode": {
    "name": "ipython",
    "version": 3
   },
   "file_extension": ".py",
   "mimetype": "text/x-python",
   "name": "python",
   "nbconvert_exporter": "python",
   "pygments_lexer": "ipython3",
   "version": "3.8.1"
  }
 },
 "nbformat": 4,
 "nbformat_minor": 4
}
