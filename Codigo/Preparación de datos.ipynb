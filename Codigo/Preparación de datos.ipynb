{
 "cells": [
  {
   "cell_type": "code",
   "execution_count": 3,
   "metadata": {},
   "outputs": [],
   "source": [
    "import warnings\n",
    "\n",
    "warnings.simplefilter(\"ignore\")"
   ]
  },
  {
   "cell_type": "code",
   "execution_count": 1,
   "metadata": {},
   "outputs": [],
   "source": [
    "%matplotlib inline\n",
    "\n",
    "import numpy as np\n",
    "import pandas as pd\n",
    "import matplotlib.pyplot as plt\n",
    "import seaborn as ssb\n",
    "\n"
   ]
  },
  {
   "cell_type": "code",
   "execution_count": 8,
   "metadata": {},
   "outputs": [],
   "source": [
    "\n",
    "accidentes = pd.read_csv(\"C:/Users/sergi/modalidad/DataSet/Accidentalidad_2019.csv\",encoding='utf-8')\n"
   ]
  },
  {
   "cell_type": "code",
   "execution_count": 9,
   "metadata": {
    "scrolled": true
   },
   "outputs": [
    {
     "data": {
      "text/html": [
       "<div>\n",
       "<style scoped>\n",
       "    .dataframe tbody tr th:only-of-type {\n",
       "        vertical-align: middle;\n",
       "    }\n",
       "\n",
       "    .dataframe tbody tr th {\n",
       "        vertical-align: top;\n",
       "    }\n",
       "\n",
       "    .dataframe thead th {\n",
       "        text-align: right;\n",
       "    }\n",
       "</style>\n",
       "<table border=\"1\" class=\"dataframe\">\n",
       "  <thead>\n",
       "    <tr style=\"text-align: right;\">\n",
       "      <th></th>\n",
       "      <th>X</th>\n",
       "      <th>Y</th>\n",
       "      <th>OBJECTID</th>\n",
       "      <th>RADICADO</th>\n",
       "      <th>HORA</th>\n",
       "      <th>DIA_NOMBRE</th>\n",
       "      <th>PERIODO</th>\n",
       "      <th>CLASE</th>\n",
       "      <th>DIRECCION</th>\n",
       "      <th>DIRECCION_ENC</th>\n",
       "      <th>CBML</th>\n",
       "      <th>TIPO_GEOCOD</th>\n",
       "      <th>GRAVEDAD</th>\n",
       "      <th>BARRIO</th>\n",
       "      <th>COMUNA</th>\n",
       "      <th>DISENO</th>\n",
       "      <th>MES</th>\n",
       "      <th>DIA</th>\n",
       "      <th>FECHA</th>\n",
       "      <th>MES_NOMBRE</th>\n",
       "    </tr>\n",
       "  </thead>\n",
       "  <tbody>\n",
       "    <tr>\n",
       "      <th>0</th>\n",
       "      <td>-75.596093</td>\n",
       "      <td>6.256489</td>\n",
       "      <td>709812</td>\n",
       "      <td>1674223</td>\n",
       "      <td>12:30:00 p. m.</td>\n",
       "      <td>DOMINGO</td>\n",
       "      <td>2019</td>\n",
       "      <td>Choque</td>\n",
       "      <td>CL 47 CR 78</td>\n",
       "      <td>CL  047   078  000 00000</td>\n",
       "      <td>1112</td>\n",
       "      <td>Malla vial cruce invertido</td>\n",
       "      <td>SOLO DAÑOS</td>\n",
       "      <td>El Velódromo</td>\n",
       "      <td>Laureles Estadio</td>\n",
       "      <td>Tramo de via</td>\n",
       "      <td>6</td>\n",
       "      <td>9</td>\n",
       "      <td>2019-06-09T00:00:00.000Z</td>\n",
       "      <td>JUNIO</td>\n",
       "    </tr>\n",
       "    <tr>\n",
       "      <th>1</th>\n",
       "      <td>-75.583161</td>\n",
       "      <td>6.250155</td>\n",
       "      <td>709813</td>\n",
       "      <td>1675562</td>\n",
       "      <td>6:50:00 p. m.</td>\n",
       "      <td>VIERNES</td>\n",
       "      <td>2019</td>\n",
       "      <td>Choque</td>\n",
       "      <td>CR 65 CL 45</td>\n",
       "      <td>CR  065   045  000 00000</td>\n",
       "      <td>1103</td>\n",
       "      <td>Malla vial</td>\n",
       "      <td>SOLO DAÑOS</td>\n",
       "      <td>Naranjal</td>\n",
       "      <td>Laureles Estadio</td>\n",
       "      <td>Lote o Predio</td>\n",
       "      <td>6</td>\n",
       "      <td>21</td>\n",
       "      <td>2019-06-21T00:00:00.000Z</td>\n",
       "      <td>JUNIO</td>\n",
       "    </tr>\n",
       "    <tr>\n",
       "      <th>2</th>\n",
       "      <td>-75.563856</td>\n",
       "      <td>6.250657</td>\n",
       "      <td>709814</td>\n",
       "      <td>1661788</td>\n",
       "      <td>8:50:00 a. m.</td>\n",
       "      <td>MIÉRCOLES</td>\n",
       "      <td>2019</td>\n",
       "      <td>Volcamiento</td>\n",
       "      <td>CR 46 CL 53</td>\n",
       "      <td>CR  046   053  000 00000</td>\n",
       "      <td>1019</td>\n",
       "      <td>Malla vial</td>\n",
       "      <td>HERIDO</td>\n",
       "      <td>La Candelaria</td>\n",
       "      <td>La Candelaria</td>\n",
       "      <td>Tramo de via</td>\n",
       "      <td>2</td>\n",
       "      <td>27</td>\n",
       "      <td>2019-02-27T00:00:00.000Z</td>\n",
       "      <td>FEBRERO</td>\n",
       "    </tr>\n",
       "    <tr>\n",
       "      <th>3</th>\n",
       "      <td>-75.576757</td>\n",
       "      <td>6.268025</td>\n",
       "      <td>709815</td>\n",
       "      <td>1675911</td>\n",
       "      <td>7:00:00 a. m.</td>\n",
       "      <td>MARTES</td>\n",
       "      <td>2019</td>\n",
       "      <td>Choque</td>\n",
       "      <td>CR 65 CL 67</td>\n",
       "      <td>CR  065   067  000 00000</td>\n",
       "      <td>0517</td>\n",
       "      <td>Malla vial</td>\n",
       "      <td>SOLO DAÑOS</td>\n",
       "      <td>Caribe</td>\n",
       "      <td>Castilla</td>\n",
       "      <td>Tramo de via</td>\n",
       "      <td>6</td>\n",
       "      <td>25</td>\n",
       "      <td>2019-06-25T00:00:00.000Z</td>\n",
       "      <td>JUNIO</td>\n",
       "    </tr>\n",
       "    <tr>\n",
       "      <th>4</th>\n",
       "      <td>-75.571897</td>\n",
       "      <td>6.202827</td>\n",
       "      <td>709816</td>\n",
       "      <td>1673388</td>\n",
       "      <td>11:30:00 a. m.</td>\n",
       "      <td>MARTES</td>\n",
       "      <td>2019</td>\n",
       "      <td>Choque</td>\n",
       "      <td>CR 43 A CL 1 A Sur</td>\n",
       "      <td>CR  043 A  S 001 A  000 00000</td>\n",
       "      <td>1416</td>\n",
       "      <td>Malla vial</td>\n",
       "      <td>SOLO DAÑOS</td>\n",
       "      <td>Alejandría</td>\n",
       "      <td>El Poblado</td>\n",
       "      <td>Tramo de via</td>\n",
       "      <td>6</td>\n",
       "      <td>4</td>\n",
       "      <td>2019-06-04T00:00:00.000Z</td>\n",
       "      <td>JUNIO</td>\n",
       "    </tr>\n",
       "  </tbody>\n",
       "</table>\n",
       "</div>"
      ],
      "text/plain": [
       "           X         Y  OBJECTID  RADICADO            HORA DIA_NOMBRE  \\\n",
       "0 -75.596093  6.256489    709812   1674223  12:30:00 p. m.  DOMINGO     \n",
       "1 -75.583161  6.250155    709813   1675562   6:50:00 p. m.  VIERNES     \n",
       "2 -75.563856  6.250657    709814   1661788   8:50:00 a. m.  MIÉRCOLES   \n",
       "3 -75.576757  6.268025    709815   1675911   7:00:00 a. m.  MARTES      \n",
       "4 -75.571897  6.202827    709816   1673388  11:30:00 a. m.  MARTES      \n",
       "\n",
       "   PERIODO        CLASE           DIRECCION                  DIRECCION_ENC  \\\n",
       "0     2019       Choque         CL 47 CR 78       CL  047   078  000 00000   \n",
       "1     2019       Choque         CR 65 CL 45       CR  065   045  000 00000   \n",
       "2     2019  Volcamiento         CR 46 CL 53       CR  046   053  000 00000   \n",
       "3     2019       Choque         CR 65 CL 67       CR  065   067  000 00000   \n",
       "4     2019       Choque  CR 43 A CL 1 A Sur  CR  043 A  S 001 A  000 00000   \n",
       "\n",
       "   CBML                 TIPO_GEOCOD    GRAVEDAD         BARRIO  \\\n",
       "0  1112  Malla vial cruce invertido  SOLO DAÑOS   El Velódromo   \n",
       "1  1103                  Malla vial  SOLO DAÑOS       Naranjal   \n",
       "2  1019                  Malla vial      HERIDO  La Candelaria   \n",
       "3  0517                  Malla vial  SOLO DAÑOS         Caribe   \n",
       "4  1416                  Malla vial  SOLO DAÑOS     Alejandría   \n",
       "\n",
       "             COMUNA         DISENO  MES  DIA                     FECHA  \\\n",
       "0  Laureles Estadio   Tramo de via    6    9  2019-06-09T00:00:00.000Z   \n",
       "1  Laureles Estadio  Lote o Predio    6   21  2019-06-21T00:00:00.000Z   \n",
       "2     La Candelaria   Tramo de via    2   27  2019-02-27T00:00:00.000Z   \n",
       "3          Castilla   Tramo de via    6   25  2019-06-25T00:00:00.000Z   \n",
       "4        El Poblado   Tramo de via    6    4  2019-06-04T00:00:00.000Z   \n",
       "\n",
       "   MES_NOMBRE  \n",
       "0  JUNIO       \n",
       "1  JUNIO       \n",
       "2  FEBRERO     \n",
       "3  JUNIO       \n",
       "4  JUNIO       "
      ]
     },
     "execution_count": 9,
     "metadata": {},
     "output_type": "execute_result"
    }
   ],
   "source": [
    "accidentes.head(5)"
   ]
  },
  {
   "cell_type": "markdown",
   "metadata": {},
   "source": [
    "Cambiamos el nombre de la columna DIA_NOMBRE por DIA_NUMERO"
   ]
  },
  {
   "cell_type": "code",
   "execution_count": 10,
   "metadata": {},
   "outputs": [],
   "source": [
    "accidentes = accidentes.rename(columns={'DIA_NOMBRE':'DIA_NUMERO'})"
   ]
  },
  {
   "cell_type": "markdown",
   "metadata": {},
   "source": [
    "\n",
    "Cambiando los valores de las columna DIA_NOMBRE por los dias numericos de la semana 1:7"
   ]
  },
  {
   "cell_type": "code",
   "execution_count": 11,
   "metadata": {},
   "outputs": [],
   "source": [
    "accidentes.DIA_NUMERO = accidentes.DIA_NUMERO.str.replace('LUNES','1')\n",
    "accidentes.DIA_NUMERO = accidentes.DIA_NUMERO.str.replace('MARTES', '2')\n",
    "accidentes.DIA_NUMERO = accidentes.DIA_NUMERO.str.replace('MIÉRCOLES', '3')\n",
    "accidentes.DIA_NUMERO = accidentes.DIA_NUMERO.str.replace('JUEVES', '4')\n",
    "accidentes.DIA_NUMERO = accidentes.DIA_NUMERO.str.replace('VIERNES', '5')\n",
    "accidentes.DIA_NUMERO = accidentes.DIA_NUMERO.str.replace('SÁBADO', '6')\n",
    "accidentes.DIA_NUMERO = accidentes.DIA_NUMERO.str.replace('DOMINGO', '7')"
   ]
  },
  {
   "cell_type": "code",
   "execution_count": 12,
   "metadata": {},
   "outputs": [],
   "source": [
    "accidentes['NUM_COMUNA'] = accidentes['COMUNA']"
   ]
  },
  {
   "cell_type": "code",
   "execution_count": 13,
   "metadata": {
    "scrolled": false
   },
   "outputs": [
    {
     "data": {
      "text/html": [
       "<div>\n",
       "<style scoped>\n",
       "    .dataframe tbody tr th:only-of-type {\n",
       "        vertical-align: middle;\n",
       "    }\n",
       "\n",
       "    .dataframe tbody tr th {\n",
       "        vertical-align: top;\n",
       "    }\n",
       "\n",
       "    .dataframe thead th {\n",
       "        text-align: right;\n",
       "    }\n",
       "</style>\n",
       "<table border=\"1\" class=\"dataframe\">\n",
       "  <thead>\n",
       "    <tr style=\"text-align: right;\">\n",
       "      <th></th>\n",
       "      <th>X</th>\n",
       "      <th>Y</th>\n",
       "      <th>OBJECTID</th>\n",
       "      <th>RADICADO</th>\n",
       "      <th>HORA</th>\n",
       "      <th>DIA_NUMERO</th>\n",
       "      <th>PERIODO</th>\n",
       "      <th>CLASE</th>\n",
       "      <th>DIRECCION</th>\n",
       "      <th>DIRECCION_ENC</th>\n",
       "      <th>...</th>\n",
       "      <th>TIPO_GEOCOD</th>\n",
       "      <th>GRAVEDAD</th>\n",
       "      <th>BARRIO</th>\n",
       "      <th>COMUNA</th>\n",
       "      <th>DISENO</th>\n",
       "      <th>MES</th>\n",
       "      <th>DIA</th>\n",
       "      <th>FECHA</th>\n",
       "      <th>MES_NOMBRE</th>\n",
       "      <th>NUM_COMUNA</th>\n",
       "    </tr>\n",
       "  </thead>\n",
       "  <tbody>\n",
       "    <tr>\n",
       "      <th>0</th>\n",
       "      <td>-75.596093</td>\n",
       "      <td>6.256489</td>\n",
       "      <td>709812</td>\n",
       "      <td>1674223</td>\n",
       "      <td>12:30:00 p. m.</td>\n",
       "      <td>7</td>\n",
       "      <td>2019</td>\n",
       "      <td>Choque</td>\n",
       "      <td>CL 47 CR 78</td>\n",
       "      <td>CL  047   078  000 00000</td>\n",
       "      <td>...</td>\n",
       "      <td>Malla vial cruce invertido</td>\n",
       "      <td>SOLO DAÑOS</td>\n",
       "      <td>El Velódromo</td>\n",
       "      <td>Laureles Estadio</td>\n",
       "      <td>Tramo de via</td>\n",
       "      <td>6</td>\n",
       "      <td>9</td>\n",
       "      <td>2019-06-09T00:00:00.000Z</td>\n",
       "      <td>JUNIO</td>\n",
       "      <td>Laureles Estadio</td>\n",
       "    </tr>\n",
       "    <tr>\n",
       "      <th>1</th>\n",
       "      <td>-75.583161</td>\n",
       "      <td>6.250155</td>\n",
       "      <td>709813</td>\n",
       "      <td>1675562</td>\n",
       "      <td>6:50:00 p. m.</td>\n",
       "      <td>5</td>\n",
       "      <td>2019</td>\n",
       "      <td>Choque</td>\n",
       "      <td>CR 65 CL 45</td>\n",
       "      <td>CR  065   045  000 00000</td>\n",
       "      <td>...</td>\n",
       "      <td>Malla vial</td>\n",
       "      <td>SOLO DAÑOS</td>\n",
       "      <td>Naranjal</td>\n",
       "      <td>Laureles Estadio</td>\n",
       "      <td>Lote o Predio</td>\n",
       "      <td>6</td>\n",
       "      <td>21</td>\n",
       "      <td>2019-06-21T00:00:00.000Z</td>\n",
       "      <td>JUNIO</td>\n",
       "      <td>Laureles Estadio</td>\n",
       "    </tr>\n",
       "    <tr>\n",
       "      <th>2</th>\n",
       "      <td>-75.563856</td>\n",
       "      <td>6.250657</td>\n",
       "      <td>709814</td>\n",
       "      <td>1661788</td>\n",
       "      <td>8:50:00 a. m.</td>\n",
       "      <td>3</td>\n",
       "      <td>2019</td>\n",
       "      <td>Volcamiento</td>\n",
       "      <td>CR 46 CL 53</td>\n",
       "      <td>CR  046   053  000 00000</td>\n",
       "      <td>...</td>\n",
       "      <td>Malla vial</td>\n",
       "      <td>HERIDO</td>\n",
       "      <td>La Candelaria</td>\n",
       "      <td>La Candelaria</td>\n",
       "      <td>Tramo de via</td>\n",
       "      <td>2</td>\n",
       "      <td>27</td>\n",
       "      <td>2019-02-27T00:00:00.000Z</td>\n",
       "      <td>FEBRERO</td>\n",
       "      <td>La Candelaria</td>\n",
       "    </tr>\n",
       "    <tr>\n",
       "      <th>3</th>\n",
       "      <td>-75.576757</td>\n",
       "      <td>6.268025</td>\n",
       "      <td>709815</td>\n",
       "      <td>1675911</td>\n",
       "      <td>7:00:00 a. m.</td>\n",
       "      <td>2</td>\n",
       "      <td>2019</td>\n",
       "      <td>Choque</td>\n",
       "      <td>CR 65 CL 67</td>\n",
       "      <td>CR  065   067  000 00000</td>\n",
       "      <td>...</td>\n",
       "      <td>Malla vial</td>\n",
       "      <td>SOLO DAÑOS</td>\n",
       "      <td>Caribe</td>\n",
       "      <td>Castilla</td>\n",
       "      <td>Tramo de via</td>\n",
       "      <td>6</td>\n",
       "      <td>25</td>\n",
       "      <td>2019-06-25T00:00:00.000Z</td>\n",
       "      <td>JUNIO</td>\n",
       "      <td>Castilla</td>\n",
       "    </tr>\n",
       "    <tr>\n",
       "      <th>4</th>\n",
       "      <td>-75.571897</td>\n",
       "      <td>6.202827</td>\n",
       "      <td>709816</td>\n",
       "      <td>1673388</td>\n",
       "      <td>11:30:00 a. m.</td>\n",
       "      <td>2</td>\n",
       "      <td>2019</td>\n",
       "      <td>Choque</td>\n",
       "      <td>CR 43 A CL 1 A Sur</td>\n",
       "      <td>CR  043 A  S 001 A  000 00000</td>\n",
       "      <td>...</td>\n",
       "      <td>Malla vial</td>\n",
       "      <td>SOLO DAÑOS</td>\n",
       "      <td>Alejandría</td>\n",
       "      <td>El Poblado</td>\n",
       "      <td>Tramo de via</td>\n",
       "      <td>6</td>\n",
       "      <td>4</td>\n",
       "      <td>2019-06-04T00:00:00.000Z</td>\n",
       "      <td>JUNIO</td>\n",
       "      <td>El Poblado</td>\n",
       "    </tr>\n",
       "    <tr>\n",
       "      <th>5</th>\n",
       "      <td>-75.576737</td>\n",
       "      <td>6.207613</td>\n",
       "      <td>709817</td>\n",
       "      <td>1666474</td>\n",
       "      <td>12:20:00 p. m.</td>\n",
       "      <td>5</td>\n",
       "      <td>2019</td>\n",
       "      <td>Choque</td>\n",
       "      <td>CR 48 CL 1</td>\n",
       "      <td>CR  048   001  000 00000</td>\n",
       "      <td>...</td>\n",
       "      <td>Malla vial</td>\n",
       "      <td>SOLO DAÑOS</td>\n",
       "      <td>Patio Bonito</td>\n",
       "      <td>El Poblado</td>\n",
       "      <td>Tramo de via</td>\n",
       "      <td>4</td>\n",
       "      <td>5</td>\n",
       "      <td>2019-04-05T00:00:00.000Z</td>\n",
       "      <td>ABRIL</td>\n",
       "      <td>El Poblado</td>\n",
       "    </tr>\n",
       "    <tr>\n",
       "      <th>6</th>\n",
       "      <td>-75.609766</td>\n",
       "      <td>6.257146</td>\n",
       "      <td>709818</td>\n",
       "      <td>1660673</td>\n",
       "      <td>3:00:00 a. m.</td>\n",
       "      <td>1</td>\n",
       "      <td>2019</td>\n",
       "      <td>Choque</td>\n",
       "      <td>CR 93 CL 47 B</td>\n",
       "      <td>CR  093   047 B  000 00000</td>\n",
       "      <td>...</td>\n",
       "      <td>Malla vial</td>\n",
       "      <td>SOLO DAÑOS</td>\n",
       "      <td>Santa Lucía</td>\n",
       "      <td>La América</td>\n",
       "      <td>Tramo de via</td>\n",
       "      <td>2</td>\n",
       "      <td>18</td>\n",
       "      <td>2019-02-18T00:00:00.000Z</td>\n",
       "      <td>FEBRERO</td>\n",
       "      <td>La América</td>\n",
       "    </tr>\n",
       "    <tr>\n",
       "      <th>7</th>\n",
       "      <td>-75.563572</td>\n",
       "      <td>6.293681</td>\n",
       "      <td>709819</td>\n",
       "      <td>1655464</td>\n",
       "      <td>2:30:00 a. m.</td>\n",
       "      <td>2</td>\n",
       "      <td>2019</td>\n",
       "      <td>Caida Ocupante</td>\n",
       "      <td>CR 63 CL 101 C</td>\n",
       "      <td>CR  063   101 C  000 00000</td>\n",
       "      <td>...</td>\n",
       "      <td>Malla vial</td>\n",
       "      <td>HERIDO</td>\n",
       "      <td>Belalcázar</td>\n",
       "      <td>Castilla</td>\n",
       "      <td>Tramo de via</td>\n",
       "      <td>1</td>\n",
       "      <td>1</td>\n",
       "      <td>2019-01-01T00:00:00.000Z</td>\n",
       "      <td>ENERO</td>\n",
       "      <td>Castilla</td>\n",
       "    </tr>\n",
       "    <tr>\n",
       "      <th>8</th>\n",
       "      <td>-75.571333</td>\n",
       "      <td>6.255336</td>\n",
       "      <td>709820</td>\n",
       "      <td>1672593</td>\n",
       "      <td>5:30:00 p. m.</td>\n",
       "      <td>3</td>\n",
       "      <td>2019</td>\n",
       "      <td>Volcamiento</td>\n",
       "      <td>CL 55 CR 56</td>\n",
       "      <td>CL  055   056  000 00000</td>\n",
       "      <td>...</td>\n",
       "      <td>Malla vial</td>\n",
       "      <td>HERIDO</td>\n",
       "      <td>San Benito</td>\n",
       "      <td>La Candelaria</td>\n",
       "      <td>Tramo de via</td>\n",
       "      <td>5</td>\n",
       "      <td>29</td>\n",
       "      <td>2019-05-29T00:00:00.000Z</td>\n",
       "      <td>MAYO</td>\n",
       "      <td>La Candelaria</td>\n",
       "    </tr>\n",
       "    <tr>\n",
       "      <th>9</th>\n",
       "      <td>-75.576701</td>\n",
       "      <td>6.243748</td>\n",
       "      <td>709821</td>\n",
       "      <td>1669539</td>\n",
       "      <td>9:00:00 a. m.</td>\n",
       "      <td>5</td>\n",
       "      <td>2019</td>\n",
       "      <td>Choque</td>\n",
       "      <td>CR 57 CL 42</td>\n",
       "      <td>CR  057   042  000 00000</td>\n",
       "      <td>...</td>\n",
       "      <td>Malla vial</td>\n",
       "      <td>SOLO DAÑOS</td>\n",
       "      <td>La Alpujarra</td>\n",
       "      <td>La Candelaria</td>\n",
       "      <td>Tramo de via</td>\n",
       "      <td>5</td>\n",
       "      <td>3</td>\n",
       "      <td>2019-05-03T00:00:00.000Z</td>\n",
       "      <td>MAYO</td>\n",
       "      <td>La Candelaria</td>\n",
       "    </tr>\n",
       "  </tbody>\n",
       "</table>\n",
       "<p>10 rows × 21 columns</p>\n",
       "</div>"
      ],
      "text/plain": [
       "           X         Y  OBJECTID  RADICADO            HORA DIA_NUMERO  \\\n",
       "0 -75.596093  6.256489    709812   1674223  12:30:00 p. m.        7     \n",
       "1 -75.583161  6.250155    709813   1675562   6:50:00 p. m.        5     \n",
       "2 -75.563856  6.250657    709814   1661788   8:50:00 a. m.          3   \n",
       "3 -75.576757  6.268025    709815   1675911   7:00:00 a. m.       2      \n",
       "4 -75.571897  6.202827    709816   1673388  11:30:00 a. m.       2      \n",
       "5 -75.576737  6.207613    709817   1666474  12:20:00 p. m.        5     \n",
       "6 -75.609766  6.257146    709818   1660673   3:00:00 a. m.      1       \n",
       "7 -75.563572  6.293681    709819   1655464   2:30:00 a. m.       2      \n",
       "8 -75.571333  6.255336    709820   1672593   5:30:00 p. m.          3   \n",
       "9 -75.576701  6.243748    709821   1669539   9:00:00 a. m.        5     \n",
       "\n",
       "   PERIODO           CLASE           DIRECCION                  DIRECCION_ENC  \\\n",
       "0     2019          Choque         CL 47 CR 78       CL  047   078  000 00000   \n",
       "1     2019          Choque         CR 65 CL 45       CR  065   045  000 00000   \n",
       "2     2019     Volcamiento         CR 46 CL 53       CR  046   053  000 00000   \n",
       "3     2019          Choque         CR 65 CL 67       CR  065   067  000 00000   \n",
       "4     2019          Choque  CR 43 A CL 1 A Sur  CR  043 A  S 001 A  000 00000   \n",
       "5     2019          Choque          CR 48 CL 1       CR  048   001  000 00000   \n",
       "6     2019          Choque       CR 93 CL 47 B     CR  093   047 B  000 00000   \n",
       "7     2019  Caida Ocupante      CR 63 CL 101 C     CR  063   101 C  000 00000   \n",
       "8     2019     Volcamiento         CL 55 CR 56       CL  055   056  000 00000   \n",
       "9     2019          Choque         CR 57 CL 42       CR  057   042  000 00000   \n",
       "\n",
       "   ...                 TIPO_GEOCOD    GRAVEDAD         BARRIO  \\\n",
       "0  ...  Malla vial cruce invertido  SOLO DAÑOS   El Velódromo   \n",
       "1  ...                  Malla vial  SOLO DAÑOS       Naranjal   \n",
       "2  ...                  Malla vial      HERIDO  La Candelaria   \n",
       "3  ...                  Malla vial  SOLO DAÑOS         Caribe   \n",
       "4  ...                  Malla vial  SOLO DAÑOS     Alejandría   \n",
       "5  ...                  Malla vial  SOLO DAÑOS   Patio Bonito   \n",
       "6  ...                  Malla vial  SOLO DAÑOS    Santa Lucía   \n",
       "7  ...                  Malla vial      HERIDO     Belalcázar   \n",
       "8  ...                  Malla vial      HERIDO     San Benito   \n",
       "9  ...                  Malla vial  SOLO DAÑOS   La Alpujarra   \n",
       "\n",
       "             COMUNA         DISENO MES  DIA                     FECHA  \\\n",
       "0  Laureles Estadio   Tramo de via   6    9  2019-06-09T00:00:00.000Z   \n",
       "1  Laureles Estadio  Lote o Predio   6   21  2019-06-21T00:00:00.000Z   \n",
       "2     La Candelaria   Tramo de via   2   27  2019-02-27T00:00:00.000Z   \n",
       "3          Castilla   Tramo de via   6   25  2019-06-25T00:00:00.000Z   \n",
       "4        El Poblado   Tramo de via   6    4  2019-06-04T00:00:00.000Z   \n",
       "5        El Poblado   Tramo de via   4    5  2019-04-05T00:00:00.000Z   \n",
       "6        La América   Tramo de via   2   18  2019-02-18T00:00:00.000Z   \n",
       "7          Castilla   Tramo de via   1    1  2019-01-01T00:00:00.000Z   \n",
       "8     La Candelaria   Tramo de via   5   29  2019-05-29T00:00:00.000Z   \n",
       "9     La Candelaria   Tramo de via   5    3  2019-05-03T00:00:00.000Z   \n",
       "\n",
       "   MES_NOMBRE        NUM_COMUNA  \n",
       "0  JUNIO       Laureles Estadio  \n",
       "1  JUNIO       Laureles Estadio  \n",
       "2  FEBRERO        La Candelaria  \n",
       "3  JUNIO               Castilla  \n",
       "4  JUNIO             El Poblado  \n",
       "5  ABRIL             El Poblado  \n",
       "6  FEBRERO           La América  \n",
       "7  ENERO               Castilla  \n",
       "8  MAYO           La Candelaria  \n",
       "9  MAYO           La Candelaria  \n",
       "\n",
       "[10 rows x 21 columns]"
      ]
     },
     "execution_count": 13,
     "metadata": {},
     "output_type": "execute_result"
    }
   ],
   "source": [
    "accidentes.head(10)"
   ]
  },
  {
   "cell_type": "markdown",
   "metadata": {},
   "source": [
    "Cambiamos los valores de la columna COMUNA y los pasamos por su representación numerica\n",
    "\n",
    "Nota importante : a los corregimientos tambien se le asignaron un numero, despues del 17"
   ]
  },
  {
   "cell_type": "code",
   "execution_count": 16,
   "metadata": {},
   "outputs": [],
   "source": [
    "accidentes.NUM_COMUNA = accidentes.NUM_COMUNA.replace({\"Popular\":1, \"Santa Cruz\":2, \"Manrique\": 3 , \"Aranjuez\":4, \"Castilla\":5,\n",
    "                                               \"Doce de Octubre\":6, \"Robledo\":7, \"Villa Hermosa\":8, \"Buenos Aires\":9,\n",
    "                                               \"La Candelaria\": 10, \"Laureles Estadio\": 11, \"La América\":12, \"San Javier\": 13,\n",
    "                                              \"El Poblado\": 14, \"Guayabal\":15, \"Belén\":16 , \"Corregimiento de Santa Elena\":17,\n",
    "                                              \"Corregimiento de Altavista\":18, \"Corregimiento de San Sebastián de Palmitas\":19,\n",
    "                                              \"Corregimiento de San Antonio de Prado\":20, \"Corregimiento de San Cristóbal\":21})"
   ]
  },
  {
   "cell_type": "markdown",
   "metadata": {},
   "source": [
    "Eliminamos las filas que contenian datos vacios, para contar con la misma dimension de los mismos"
   ]
  },
  {
   "cell_type": "code",
   "execution_count": 18,
   "metadata": {
    "scrolled": true
   },
   "outputs": [
    {
     "data": {
      "text/plain": [
       "(30862, 21)"
      ]
     },
     "execution_count": 18,
     "metadata": {},
     "output_type": "execute_result"
    }
   ],
   "source": [
    "#Eliminamos las filas de las columnas que no tienen información   \n",
    "accidentes = accidentes.drop(accidentes[accidentes['COMUNA']=='Sin Inf'].index)\n",
    "\n",
    "accidentes.drop(accidentes[accidentes.CBML.isnull()].index, inplace = True)\n",
    "accidentes.drop(accidentes[accidentes.BARRIO.isnull()].index, inplace = True)\n",
    "accidentes.drop(accidentes[accidentes.COMUNA.isnull()].index, inplace = True)\n",
    "\n",
    "accidentes.shape"
   ]
  },
  {
   "cell_type": "code",
   "execution_count": 20,
   "metadata": {},
   "outputs": [
    {
     "data": {
      "text/plain": [
       "array([11, 10, 5, 14, 12, 15, 20, 9, 4, 2, 7, 21, 16, 8, 6, 3, 13, 1, 17,\n",
       "       18, 19], dtype=object)"
      ]
     },
     "execution_count": 20,
     "metadata": {},
     "output_type": "execute_result"
    }
   ],
   "source": [
    "accidentes['NUM_COMUNA'].unique()"
   ]
  },
  {
   "cell_type": "markdown",
   "metadata": {},
   "source": [
    "cambiamos el tipo de dato de Object a int en las columnas DIA_NUMERO,CBML,NUM_COMUNA"
   ]
  },
  {
   "cell_type": "code",
   "execution_count": 22,
   "metadata": {},
   "outputs": [],
   "source": [
    "accidentes[['DIA_NUMERO','CBML','NUM_COMUNA']] = accidentes[['DIA_NUMERO','CBML','NUM_COMUNA']].astype('int64')"
   ]
  },
  {
   "cell_type": "code",
   "execution_count": 23,
   "metadata": {},
   "outputs": [
    {
     "data": {
      "text/plain": [
       "Index(['X', 'Y', 'OBJECTID', 'RADICADO', 'HORA', 'DIA_NUMERO', 'PERIODO',\n",
       "       'CLASE', 'DIRECCION', 'DIRECCION_ENC', 'CBML', 'TIPO_GEOCOD',\n",
       "       'GRAVEDAD', 'BARRIO', 'COMUNA', 'DISENO', 'MES', 'DIA', 'FECHA',\n",
       "       'MES_NOMBRE', 'NUM_COMUNA'],\n",
       "      dtype='object')"
      ]
     },
     "execution_count": 23,
     "metadata": {},
     "output_type": "execute_result"
    }
   ],
   "source": [
    "accidentes.columns"
   ]
  },
  {
   "cell_type": "code",
   "execution_count": 24,
   "metadata": {},
   "outputs": [
    {
     "data": {
      "text/plain": [
       "(30862, 21)"
      ]
     },
     "execution_count": 24,
     "metadata": {},
     "output_type": "execute_result"
    }
   ],
   "source": [
    "accidentes.shape"
   ]
  },
  {
   "cell_type": "code",
   "execution_count": 25,
   "metadata": {
    "scrolled": true
   },
   "outputs": [
    {
     "data": {
      "text/plain": [
       "0        2019-06-09T00:00:00.000Z\n",
       "1        2019-06-21T00:00:00.000Z\n",
       "2        2019-02-27T00:00:00.000Z\n",
       "3        2019-06-25T00:00:00.000Z\n",
       "4        2019-06-04T00:00:00.000Z\n",
       "                   ...           \n",
       "30902    2019-08-06T00:00:00.000Z\n",
       "30903    2019-07-05T00:00:00.000Z\n",
       "30904    2019-08-23T00:00:00.000Z\n",
       "30905    2019-07-19T00:00:00.000Z\n",
       "30906    2019-07-29T00:00:00.000Z\n",
       "Name: FECHA, Length: 30862, dtype: object"
      ]
     },
     "execution_count": 25,
     "metadata": {},
     "output_type": "execute_result"
    }
   ],
   "source": [
    "columna_fecha = accidentes['FECHA']\n",
    "columna_fecha"
   ]
  },
  {
   "cell_type": "code",
   "execution_count": 26,
   "metadata": {
    "scrolled": true
   },
   "outputs": [
    {
     "data": {
      "text/plain": [
       "0        12:30:00 p. m.\n",
       "1         6:50:00 p. m.\n",
       "2         8:50:00 a. m.\n",
       "3         7:00:00 a. m.\n",
       "4        11:30:00 a. m.\n",
       "              ...      \n",
       "30902    09:40:00 p. m.\n",
       "30903    07:55:00 a. m.\n",
       "30904    02:40:00 a. m.\n",
       "30905    09:30:00 a. m.\n",
       "30906    04:40:00 p. m.\n",
       "Name: HORA, Length: 30862, dtype: object"
      ]
     },
     "execution_count": 26,
     "metadata": {},
     "output_type": "execute_result"
    }
   ],
   "source": [
    "columna_hora = accidentes['HORA']\n",
    "columna_hora"
   ]
  },
  {
   "cell_type": "code",
   "execution_count": 27,
   "metadata": {},
   "outputs": [
    {
     "data": {
      "text/plain": [
       "X                                -75.5715\n",
       "Y                                 6.24505\n",
       "OBJECTID                           709822\n",
       "RADICADO                          1664436\n",
       "HORA                        1:00:00 p. m.\n",
       "DIA_NUMERO                              3\n",
       "PERIODO                              2019\n",
       "CLASE                              Choque\n",
       "DIRECCION                     CL 44 CR 52\n",
       "DIRECCION_ENC    CL  044   052  000 00000\n",
       "CBML                                 1007\n",
       "TIPO_GEOCOD                    Malla vial\n",
       "GRAVEDAD                       SOLO DAÑOS\n",
       "BARRIO                          Guayaquil\n",
       "COMUNA                      La Candelaria\n",
       "DISENO                       Interseccion\n",
       "MES                                     3\n",
       "DIA                                    20\n",
       "FECHA            2019-03-20T00:00:00.000Z\n",
       "MES_NOMBRE                     MARZO     \n",
       "NUM_COMUNA                             10\n",
       "Name: 10, dtype: object"
      ]
     },
     "execution_count": 27,
     "metadata": {},
     "output_type": "execute_result"
    }
   ],
   "source": [
    "linea = accidentes.loc[10,:]\n",
    "linea"
   ]
  },
  {
   "cell_type": "code",
   "execution_count": 28,
   "metadata": {},
   "outputs": [
    {
     "data": {
      "text/plain": [
       "0        7\n",
       "1        5\n",
       "2        3\n",
       "3        2\n",
       "4        2\n",
       "        ..\n",
       "30902    2\n",
       "30903    5\n",
       "30904    5\n",
       "30905    5\n",
       "30906    1\n",
       "Name: DIA_NUMERO, Length: 30862, dtype: int64"
      ]
     },
     "execution_count": 28,
     "metadata": {},
     "output_type": "execute_result"
    }
   ],
   "source": [
    "accidentes['DIA_NUMERO']"
   ]
  },
  {
   "cell_type": "markdown",
   "metadata": {},
   "source": [
    "# Inspeccionar nuestros datos"
   ]
  },
  {
   "cell_type": "code",
   "execution_count": 29,
   "metadata": {},
   "outputs": [
    {
     "name": "stdout",
     "output_type": "stream",
     "text": [
      "<class 'pandas.core.frame.DataFrame'>\n",
      "Int64Index: 30862 entries, 0 to 30906\n",
      "Data columns (total 21 columns):\n",
      " #   Column         Non-Null Count  Dtype  \n",
      "---  ------         --------------  -----  \n",
      " 0   X              30862 non-null  float64\n",
      " 1   Y              30862 non-null  float64\n",
      " 2   OBJECTID       30862 non-null  int64  \n",
      " 3   RADICADO       30862 non-null  int64  \n",
      " 4   HORA           30862 non-null  object \n",
      " 5   DIA_NUMERO     30862 non-null  int64  \n",
      " 6   PERIODO        30862 non-null  int64  \n",
      " 7   CLASE          30862 non-null  object \n",
      " 8   DIRECCION      30862 non-null  object \n",
      " 9   DIRECCION_ENC  30862 non-null  object \n",
      " 10  CBML           30862 non-null  int64  \n",
      " 11  TIPO_GEOCOD    30862 non-null  object \n",
      " 12  GRAVEDAD       30862 non-null  object \n",
      " 13  BARRIO         30862 non-null  object \n",
      " 14  COMUNA         30862 non-null  object \n",
      " 15  DISENO         30862 non-null  object \n",
      " 16  MES            30862 non-null  int64  \n",
      " 17  DIA            30862 non-null  int64  \n",
      " 18  FECHA          30862 non-null  object \n",
      " 19  MES_NOMBRE     30862 non-null  object \n",
      " 20  NUM_COMUNA     30862 non-null  int64  \n",
      "dtypes: float64(2), int64(8), object(11)\n",
      "memory usage: 6.4+ MB\n"
     ]
    }
   ],
   "source": [
    "accidentes.info()"
   ]
  },
  {
   "cell_type": "markdown",
   "metadata": {},
   "source": [
    "Columnas numericas y columnas de texto\n",
    "\n"
   ]
  },
  {
   "cell_type": "code",
   "execution_count": 30,
   "metadata": {},
   "outputs": [
    {
     "data": {
      "text/plain": [
       "X                 True\n",
       "Y                 True\n",
       "OBJECTID          True\n",
       "RADICADO          True\n",
       "HORA             False\n",
       "DIA_NUMERO        True\n",
       "PERIODO           True\n",
       "CLASE            False\n",
       "DIRECCION        False\n",
       "DIRECCION_ENC    False\n",
       "CBML              True\n",
       "TIPO_GEOCOD      False\n",
       "GRAVEDAD         False\n",
       "BARRIO           False\n",
       "COMUNA           False\n",
       "DISENO           False\n",
       "MES               True\n",
       "DIA               True\n",
       "FECHA            False\n",
       "MES_NOMBRE       False\n",
       "NUM_COMUNA        True\n",
       "dtype: bool"
      ]
     },
     "execution_count": 30,
     "metadata": {},
     "output_type": "execute_result"
    }
   ],
   "source": [
    "(accidentes.dtypes != object)\n"
   ]
  },
  {
   "cell_type": "code",
   "execution_count": 31,
   "metadata": {},
   "outputs": [
    {
     "data": {
      "text/plain": [
       "X                False\n",
       "Y                False\n",
       "OBJECTID         False\n",
       "RADICADO         False\n",
       "HORA              True\n",
       "DIA_NUMERO       False\n",
       "PERIODO          False\n",
       "CLASE             True\n",
       "DIRECCION         True\n",
       "DIRECCION_ENC     True\n",
       "CBML             False\n",
       "TIPO_GEOCOD       True\n",
       "GRAVEDAD          True\n",
       "BARRIO            True\n",
       "COMUNA            True\n",
       "DISENO            True\n",
       "MES              False\n",
       "DIA              False\n",
       "FECHA             True\n",
       "MES_NOMBRE        True\n",
       "NUM_COMUNA       False\n",
       "dtype: bool"
      ]
     },
     "execution_count": 31,
     "metadata": {},
     "output_type": "execute_result"
    }
   ],
   "source": [
    "accidentes.dtypes == object\n"
   ]
  },
  {
   "cell_type": "code",
   "execution_count": 32,
   "metadata": {},
   "outputs": [
    {
     "data": {
      "text/plain": [
       "Index(['X', 'Y', 'OBJECTID', 'RADICADO', 'HORA', 'DIA_NUMERO', 'PERIODO',\n",
       "       'CLASE', 'DIRECCION', 'DIRECCION_ENC', 'CBML', 'TIPO_GEOCOD',\n",
       "       'GRAVEDAD', 'BARRIO', 'COMUNA', 'DISENO', 'MES', 'DIA', 'FECHA',\n",
       "       'MES_NOMBRE', 'NUM_COMUNA'],\n",
       "      dtype='object')"
      ]
     },
     "execution_count": 32,
     "metadata": {},
     "output_type": "execute_result"
    }
   ],
   "source": [
    "num = (accidentes.dtypes != object )\n",
    "num.index"
   ]
  },
  {
   "cell_type": "code",
   "execution_count": 33,
   "metadata": {},
   "outputs": [
    {
     "name": "stdout",
     "output_type": "stream",
     "text": [
      "X\n",
      "Y\n",
      "OBJECTID\n",
      "RADICADO\n",
      "HORA\n",
      "DIA_NUMERO\n",
      "PERIODO\n",
      "CLASE\n",
      "DIRECCION\n",
      "DIRECCION_ENC\n",
      "CBML\n",
      "TIPO_GEOCOD\n",
      "GRAVEDAD\n",
      "BARRIO\n",
      "COMUNA\n",
      "DISENO\n",
      "MES\n",
      "DIA\n",
      "FECHA\n",
      "MES_NOMBRE\n",
      "NUM_COMUNA\n"
     ]
    }
   ],
   "source": [
    "for i in num.index:\n",
    "    print(i)"
   ]
  },
  {
   "cell_type": "code",
   "execution_count": 34,
   "metadata": {},
   "outputs": [],
   "source": [
    "num_cols = [c for c in num.index if num[c]]"
   ]
  },
  {
   "cell_type": "code",
   "execution_count": 35,
   "metadata": {},
   "outputs": [
    {
     "data": {
      "text/plain": [
       "['X',\n",
       " 'Y',\n",
       " 'OBJECTID',\n",
       " 'RADICADO',\n",
       " 'DIA_NUMERO',\n",
       " 'PERIODO',\n",
       " 'CBML',\n",
       " 'MES',\n",
       " 'DIA',\n",
       " 'NUM_COMUNA']"
      ]
     },
     "execution_count": 35,
     "metadata": {},
     "output_type": "execute_result"
    }
   ],
   "source": [
    "num_cols"
   ]
  },
  {
   "cell_type": "code",
   "execution_count": 36,
   "metadata": {},
   "outputs": [
    {
     "data": {
      "text/plain": [
       "X                False\n",
       "Y                False\n",
       "OBJECTID         False\n",
       "RADICADO         False\n",
       "HORA              True\n",
       "DIA_NUMERO       False\n",
       "PERIODO          False\n",
       "CLASE             True\n",
       "DIRECCION         True\n",
       "DIRECCION_ENC     True\n",
       "CBML             False\n",
       "TIPO_GEOCOD       True\n",
       "GRAVEDAD          True\n",
       "BARRIO            True\n",
       "COMUNA            True\n",
       "DISENO            True\n",
       "MES              False\n",
       "DIA              False\n",
       "FECHA             True\n",
       "MES_NOMBRE        True\n",
       "NUM_COMUNA       False\n",
       "dtype: bool"
      ]
     },
     "execution_count": 36,
     "metadata": {},
     "output_type": "execute_result"
    }
   ],
   "source": [
    "accidentes.dtypes == object"
   ]
  },
  {
   "cell_type": "code",
   "execution_count": 37,
   "metadata": {},
   "outputs": [],
   "source": [
    "obj = (accidentes.dtypes == object)\n",
    "obj_cols =  [c for c in obj.index if obj[c]]"
   ]
  },
  {
   "cell_type": "code",
   "execution_count": 38,
   "metadata": {},
   "outputs": [
    {
     "data": {
      "text/plain": [
       "['HORA',\n",
       " 'CLASE',\n",
       " 'DIRECCION',\n",
       " 'DIRECCION_ENC',\n",
       " 'TIPO_GEOCOD',\n",
       " 'GRAVEDAD',\n",
       " 'BARRIO',\n",
       " 'COMUNA',\n",
       " 'DISENO',\n",
       " 'FECHA',\n",
       " 'MES_NOMBRE']"
      ]
     },
     "execution_count": 38,
     "metadata": {},
     "output_type": "execute_result"
    }
   ],
   "source": [
    "obj_cols"
   ]
  },
  {
   "cell_type": "code",
   "execution_count": 39,
   "metadata": {},
   "outputs": [],
   "source": [
    "accidentes_num = accidentes[num_cols]\n",
    "accidentes_obj = accidentes[obj_cols]"
   ]
  },
  {
   "cell_type": "code",
   "execution_count": 40,
   "metadata": {},
   "outputs": [],
   "source": [
    "accidentes_obj.to_csv(\"C:/Users/sergi/modalidad/Dataset/accidentes_obj.csv\",index = False)"
   ]
  },
  {
   "cell_type": "markdown",
   "metadata": {},
   "source": [
    "# Estadisticas de las columnas"
   ]
  },
  {
   "cell_type": "code",
   "execution_count": 41,
   "metadata": {
    "scrolled": true
   },
   "outputs": [
    {
     "data": {
      "text/html": [
       "<div>\n",
       "<style scoped>\n",
       "    .dataframe tbody tr th:only-of-type {\n",
       "        vertical-align: middle;\n",
       "    }\n",
       "\n",
       "    .dataframe tbody tr th {\n",
       "        vertical-align: top;\n",
       "    }\n",
       "\n",
       "    .dataframe thead th {\n",
       "        text-align: right;\n",
       "    }\n",
       "</style>\n",
       "<table border=\"1\" class=\"dataframe\">\n",
       "  <thead>\n",
       "    <tr style=\"text-align: right;\">\n",
       "      <th></th>\n",
       "      <th>X</th>\n",
       "      <th>Y</th>\n",
       "      <th>OBJECTID</th>\n",
       "      <th>RADICADO</th>\n",
       "      <th>DIA_NUMERO</th>\n",
       "      <th>PERIODO</th>\n",
       "      <th>CBML</th>\n",
       "      <th>MES</th>\n",
       "      <th>DIA</th>\n",
       "      <th>NUM_COMUNA</th>\n",
       "    </tr>\n",
       "  </thead>\n",
       "  <tbody>\n",
       "    <tr>\n",
       "      <th>count</th>\n",
       "      <td>30862.000000</td>\n",
       "      <td>30862.000000</td>\n",
       "      <td>30862.000000</td>\n",
       "      <td>3.086200e+04</td>\n",
       "      <td>30862.000000</td>\n",
       "      <td>30862.0</td>\n",
       "      <td>3.086200e+04</td>\n",
       "      <td>30862.000000</td>\n",
       "      <td>30862.000000</td>\n",
       "      <td>30862.000000</td>\n",
       "    </tr>\n",
       "    <tr>\n",
       "      <th>mean</th>\n",
       "      <td>-75.576762</td>\n",
       "      <td>6.249781</td>\n",
       "      <td>725555.244249</td>\n",
       "      <td>1.672449e+06</td>\n",
       "      <td>3.824866</td>\n",
       "      <td>2019.0</td>\n",
       "      <td>4.521071e+06</td>\n",
       "      <td>5.271078</td>\n",
       "      <td>15.540503</td>\n",
       "      <td>9.960664</td>\n",
       "    </tr>\n",
       "    <tr>\n",
       "      <th>std</th>\n",
       "      <td>0.019582</td>\n",
       "      <td>0.028669</td>\n",
       "      <td>9714.995802</td>\n",
       "      <td>9.837798e+03</td>\n",
       "      <td>1.905230</td>\n",
       "      <td>0.0</td>\n",
       "      <td>1.760085e+08</td>\n",
       "      <td>2.589672</td>\n",
       "      <td>8.673975</td>\n",
       "      <td>4.302420</td>\n",
       "    </tr>\n",
       "    <tr>\n",
       "      <th>min</th>\n",
       "      <td>-75.701661</td>\n",
       "      <td>6.167576</td>\n",
       "      <td>708812.000000</td>\n",
       "      <td>1.655108e+06</td>\n",
       "      <td>1.000000</td>\n",
       "      <td>2019.0</td>\n",
       "      <td>1.000000e+01</td>\n",
       "      <td>1.000000</td>\n",
       "      <td>1.000000</td>\n",
       "      <td>1.000000</td>\n",
       "    </tr>\n",
       "    <tr>\n",
       "      <th>25%</th>\n",
       "      <td>-75.586115</td>\n",
       "      <td>6.231884</td>\n",
       "      <td>717153.500000</td>\n",
       "      <td>1.663925e+06</td>\n",
       "      <td>2.000000</td>\n",
       "      <td>2019.0</td>\n",
       "      <td>7.010000e+02</td>\n",
       "      <td>3.000000</td>\n",
       "      <td>8.000000</td>\n",
       "      <td>7.000000</td>\n",
       "    </tr>\n",
       "    <tr>\n",
       "      <th>50%</th>\n",
       "      <td>-75.574435</td>\n",
       "      <td>6.249715</td>\n",
       "      <td>725467.500000</td>\n",
       "      <td>1.672466e+06</td>\n",
       "      <td>4.000000</td>\n",
       "      <td>2019.0</td>\n",
       "      <td>1.013000e+03</td>\n",
       "      <td>5.000000</td>\n",
       "      <td>15.000000</td>\n",
       "      <td>10.000000</td>\n",
       "    </tr>\n",
       "    <tr>\n",
       "      <th>75%</th>\n",
       "      <td>-75.564609</td>\n",
       "      <td>6.270452</td>\n",
       "      <td>734035.750000</td>\n",
       "      <td>1.680978e+06</td>\n",
       "      <td>5.000000</td>\n",
       "      <td>2019.0</td>\n",
       "      <td>1.403000e+03</td>\n",
       "      <td>8.000000</td>\n",
       "      <td>23.000000</td>\n",
       "      <td>14.000000</td>\n",
       "    </tr>\n",
       "    <tr>\n",
       "      <th>max</th>\n",
       "      <td>-75.504666</td>\n",
       "      <td>6.368394</td>\n",
       "      <td>742352.000000</td>\n",
       "      <td>1.689537e+06</td>\n",
       "      <td>7.000000</td>\n",
       "      <td>2019.0</td>\n",
       "      <td>9.140040e+09</td>\n",
       "      <td>9.000000</td>\n",
       "      <td>31.000000</td>\n",
       "      <td>21.000000</td>\n",
       "    </tr>\n",
       "  </tbody>\n",
       "</table>\n",
       "</div>"
      ],
      "text/plain": [
       "                  X             Y       OBJECTID      RADICADO    DIA_NUMERO  \\\n",
       "count  30862.000000  30862.000000   30862.000000  3.086200e+04  30862.000000   \n",
       "mean     -75.576762      6.249781  725555.244249  1.672449e+06      3.824866   \n",
       "std        0.019582      0.028669    9714.995802  9.837798e+03      1.905230   \n",
       "min      -75.701661      6.167576  708812.000000  1.655108e+06      1.000000   \n",
       "25%      -75.586115      6.231884  717153.500000  1.663925e+06      2.000000   \n",
       "50%      -75.574435      6.249715  725467.500000  1.672466e+06      4.000000   \n",
       "75%      -75.564609      6.270452  734035.750000  1.680978e+06      5.000000   \n",
       "max      -75.504666      6.368394  742352.000000  1.689537e+06      7.000000   \n",
       "\n",
       "       PERIODO          CBML           MES           DIA    NUM_COMUNA  \n",
       "count  30862.0  3.086200e+04  30862.000000  30862.000000  30862.000000  \n",
       "mean    2019.0  4.521071e+06      5.271078     15.540503      9.960664  \n",
       "std        0.0  1.760085e+08      2.589672      8.673975      4.302420  \n",
       "min     2019.0  1.000000e+01      1.000000      1.000000      1.000000  \n",
       "25%     2019.0  7.010000e+02      3.000000      8.000000      7.000000  \n",
       "50%     2019.0  1.013000e+03      5.000000     15.000000     10.000000  \n",
       "75%     2019.0  1.403000e+03      8.000000     23.000000     14.000000  \n",
       "max     2019.0  9.140040e+09      9.000000     31.000000     21.000000  "
      ]
     },
     "execution_count": 41,
     "metadata": {},
     "output_type": "execute_result"
    }
   ],
   "source": [
    "accidentes_num.describe()"
   ]
  },
  {
   "cell_type": "markdown",
   "metadata": {},
   "source": [
    "# Observando los datos con graficos"
   ]
  },
  {
   "cell_type": "code",
   "execution_count": 56,
   "metadata": {
    "scrolled": true
   },
   "outputs": [
    {
     "data": {
      "text/plain": [
       "<matplotlib.axes._subplots.AxesSubplot at 0x26e471aa370>"
      ]
     },
     "execution_count": 56,
     "metadata": {},
     "output_type": "execute_result"
    },
    {
     "data": {
      "image/png": "[encoded data removed]",
      "text/plain": [
       "<Figure size 432x288 with 1 Axes>"
      ]
     },
     "metadata": {
      "needs_background": "light"
     },
     "output_type": "display_data"
    }
   ],
   "source": [
    "accidentes_num['MES'].hist()"
   ]
  },
  {
   "cell_type": "code",
   "execution_count": 43,
   "metadata": {
    "scrolled": true
   },
   "outputs": [
    {
     "name": "stdout",
     "output_type": "stream",
     "text": [
      "mes 0\n",
      " False    27945\n",
      "True      2917\n",
      "Name: MES, dtype: int64\n",
      " \n",
      "mes 1\n",
      " False    27732\n",
      "True      3130\n",
      "Name: MES, dtype: int64\n",
      " \n",
      "mes 2\n",
      " False    27711\n",
      "True      3151\n",
      "Name: MES, dtype: int64\n",
      " \n",
      "mes 3\n",
      " False    27709\n",
      "True      3153\n",
      "Name: MES, dtype: int64\n",
      " \n",
      "mes 4\n",
      " False    27391\n",
      "True      3471\n",
      "Name: MES, dtype: int64\n",
      " \n",
      "mes 5\n",
      " False    27601\n",
      "True      3261\n",
      "Name: MES, dtype: int64\n",
      " \n",
      "mes 6\n",
      " False    27164\n",
      "True      3698\n",
      "Name: MES, dtype: int64\n",
      " \n",
      "mes 7\n",
      " False    26760\n",
      "True      4102\n",
      "Name: MES, dtype: int64\n",
      " \n",
      "mes 8\n",
      " False    26883\n",
      "True      3979\n",
      "Name: MES, dtype: int64\n",
      " \n",
      "mes 9\n",
      " False    30862\n",
      "Name: MES, dtype: int64\n",
      " \n",
      "mes 10\n",
      " False    30862\n",
      "Name: MES, dtype: int64\n",
      " \n",
      "mes 11\n",
      " False    30862\n",
      "Name: MES, dtype: int64\n",
      " \n"
     ]
    }
   ],
   "source": [
    "\n",
    "\n",
    "\n",
    "for i in range(12):\n",
    "       \n",
    "    meses = (accidentes_num['MES'] == i+1 ).value_counts()\n",
    "    print(f'mes {i}\\n {meses}\\n ')\n",
    "           \n"
   ]
  },
  {
   "cell_type": "code",
   "execution_count": 44,
   "metadata": {},
   "outputs": [
    {
     "data": {
      "text/plain": [
       "(30862, 21)"
      ]
     },
     "execution_count": 44,
     "metadata": {},
     "output_type": "execute_result"
    }
   ],
   "source": [
    "accidentes.shape"
   ]
  },
  {
   "cell_type": "markdown",
   "metadata": {},
   "source": [
    "# Buscando datos faltantes (nulos o NaN)"
   ]
  },
  {
   "cell_type": "code",
   "execution_count": 45,
   "metadata": {},
   "outputs": [
    {
     "data": {
      "text/html": [
       "<div>\n",
       "<style scoped>\n",
       "    .dataframe tbody tr th:only-of-type {\n",
       "        vertical-align: middle;\n",
       "    }\n",
       "\n",
       "    .dataframe tbody tr th {\n",
       "        vertical-align: top;\n",
       "    }\n",
       "\n",
       "    .dataframe thead th {\n",
       "        text-align: right;\n",
       "    }\n",
       "</style>\n",
       "<table border=\"1\" class=\"dataframe\">\n",
       "  <thead>\n",
       "    <tr style=\"text-align: right;\">\n",
       "      <th></th>\n",
       "      <th>X</th>\n",
       "      <th>Y</th>\n",
       "      <th>OBJECTID</th>\n",
       "      <th>RADICADO</th>\n",
       "      <th>DIA_NUMERO</th>\n",
       "      <th>PERIODO</th>\n",
       "      <th>CBML</th>\n",
       "      <th>MES</th>\n",
       "      <th>DIA</th>\n",
       "      <th>NUM_COMUNA</th>\n",
       "    </tr>\n",
       "  </thead>\n",
       "  <tbody>\n",
       "    <tr>\n",
       "      <th>True</th>\n",
       "      <td>30862</td>\n",
       "      <td>30862</td>\n",
       "      <td>30862</td>\n",
       "      <td>30862</td>\n",
       "      <td>30862</td>\n",
       "      <td>30862</td>\n",
       "      <td>30862</td>\n",
       "      <td>30862</td>\n",
       "      <td>30862</td>\n",
       "      <td>30862</td>\n",
       "    </tr>\n",
       "  </tbody>\n",
       "</table>\n",
       "</div>"
      ],
      "text/plain": [
       "          X      Y  OBJECTID  RADICADO  DIA_NUMERO  PERIODO   CBML    MES  \\\n",
       "True  30862  30862     30862     30862       30862    30862  30862  30862   \n",
       "\n",
       "        DIA  NUM_COMUNA  \n",
       "True  30862       30862  "
      ]
     },
     "execution_count": 45,
     "metadata": {},
     "output_type": "execute_result"
    }
   ],
   "source": [
    "accidentes_num.notnull().apply(pd.Series.value_counts)"
   ]
  },
  {
   "cell_type": "code",
   "execution_count": 46,
   "metadata": {},
   "outputs": [
    {
     "data": {
      "text/html": [
       "<div>\n",
       "<style scoped>\n",
       "    .dataframe tbody tr th:only-of-type {\n",
       "        vertical-align: middle;\n",
       "    }\n",
       "\n",
       "    .dataframe tbody tr th {\n",
       "        vertical-align: top;\n",
       "    }\n",
       "\n",
       "    .dataframe thead th {\n",
       "        text-align: right;\n",
       "    }\n",
       "</style>\n",
       "<table border=\"1\" class=\"dataframe\">\n",
       "  <thead>\n",
       "    <tr style=\"text-align: right;\">\n",
       "      <th></th>\n",
       "      <th>X</th>\n",
       "      <th>Y</th>\n",
       "      <th>OBJECTID</th>\n",
       "      <th>RADICADO</th>\n",
       "      <th>DIA_NUMERO</th>\n",
       "      <th>PERIODO</th>\n",
       "      <th>CBML</th>\n",
       "      <th>MES</th>\n",
       "      <th>DIA</th>\n",
       "      <th>NUM_COMUNA</th>\n",
       "    </tr>\n",
       "  </thead>\n",
       "  <tbody>\n",
       "    <tr>\n",
       "      <th>True</th>\n",
       "      <td>30862</td>\n",
       "      <td>30862</td>\n",
       "      <td>30862</td>\n",
       "      <td>30862</td>\n",
       "      <td>30862</td>\n",
       "      <td>30862</td>\n",
       "      <td>30862</td>\n",
       "      <td>30862</td>\n",
       "      <td>30862</td>\n",
       "      <td>30862</td>\n",
       "    </tr>\n",
       "  </tbody>\n",
       "</table>\n",
       "</div>"
      ],
      "text/plain": [
       "          X      Y  OBJECTID  RADICADO  DIA_NUMERO  PERIODO   CBML    MES  \\\n",
       "True  30862  30862     30862     30862       30862    30862  30862  30862   \n",
       "\n",
       "        DIA  NUM_COMUNA  \n",
       "True  30862       30862  "
      ]
     },
     "execution_count": 46,
     "metadata": {},
     "output_type": "execute_result"
    }
   ],
   "source": [
    "(accidentes_num != 0).apply(pd.Series.value_counts)"
   ]
  },
  {
   "cell_type": "code",
   "execution_count": 47,
   "metadata": {},
   "outputs": [],
   "source": [
    "from sklearn.impute import SimpleImputer as Imputer\n",
    "imputer = Imputer(missing_values=np.nan, strategy='mean')"
   ]
  },
  {
   "cell_type": "code",
   "execution_count": 48,
   "metadata": {},
   "outputs": [],
   "source": [
    "values = imputer.fit_transform(accidentes_num)"
   ]
  },
  {
   "cell_type": "code",
   "execution_count": 49,
   "metadata": {},
   "outputs": [
    {
     "data": {
      "text/plain": [
       "array([[-7.55960929e+01,  6.25648935e+00,  7.09812000e+05, ...,\n",
       "         6.00000000e+00,  9.00000000e+00,  1.10000000e+01],\n",
       "       [-7.55831606e+01,  6.25015530e+00,  7.09813000e+05, ...,\n",
       "         6.00000000e+00,  2.10000000e+01,  1.10000000e+01],\n",
       "       [-7.55638558e+01,  6.25065673e+00,  7.09814000e+05, ...,\n",
       "         2.00000000e+00,  2.70000000e+01,  1.00000000e+01],\n",
       "       ...,\n",
       "       [-7.55542974e+01,  6.30033736e+00,  7.41809000e+05, ...,\n",
       "         8.00000000e+00,  2.30000000e+01,  2.00000000e+00],\n",
       "       [-7.56025386e+01,  6.24321643e+00,  7.41810000e+05, ...,\n",
       "         7.00000000e+00,  1.90000000e+01,  1.10000000e+01],\n",
       "       [-7.55612869e+01,  6.29231249e+00,  7.41811000e+05, ...,\n",
       "         7.00000000e+00,  2.90000000e+01,  2.00000000e+00]])"
      ]
     },
     "execution_count": 49,
     "metadata": {},
     "output_type": "execute_result"
    }
   ],
   "source": [
    "#Array numpy\n",
    "\n",
    "accidentes_num.values\n"
   ]
  },
  {
   "cell_type": "code",
   "execution_count": 50,
   "metadata": {},
   "outputs": [],
   "source": [
    "x = pd.DataFrame(values)"
   ]
  },
  {
   "cell_type": "code",
   "execution_count": 51,
   "metadata": {},
   "outputs": [],
   "source": [
    "x.columns = accidentes_num.columns"
   ]
  },
  {
   "cell_type": "code",
   "execution_count": 52,
   "metadata": {},
   "outputs": [],
   "source": [
    "x.index = accidentes_num.index"
   ]
  },
  {
   "cell_type": "code",
   "execution_count": 53,
   "metadata": {
    "scrolled": true
   },
   "outputs": [
    {
     "data": {
      "text/html": [
       "<div>\n",
       "<style scoped>\n",
       "    .dataframe tbody tr th:only-of-type {\n",
       "        vertical-align: middle;\n",
       "    }\n",
       "\n",
       "    .dataframe tbody tr th {\n",
       "        vertical-align: top;\n",
       "    }\n",
       "\n",
       "    .dataframe thead th {\n",
       "        text-align: right;\n",
       "    }\n",
       "</style>\n",
       "<table border=\"1\" class=\"dataframe\">\n",
       "  <thead>\n",
       "    <tr style=\"text-align: right;\">\n",
       "      <th></th>\n",
       "      <th>X</th>\n",
       "      <th>Y</th>\n",
       "      <th>OBJECTID</th>\n",
       "      <th>RADICADO</th>\n",
       "      <th>DIA_NUMERO</th>\n",
       "      <th>PERIODO</th>\n",
       "      <th>CBML</th>\n",
       "      <th>MES</th>\n",
       "      <th>DIA</th>\n",
       "      <th>NUM_COMUNA</th>\n",
       "    </tr>\n",
       "  </thead>\n",
       "  <tbody>\n",
       "    <tr>\n",
       "      <th>0</th>\n",
       "      <td>-75.596093</td>\n",
       "      <td>6.256489</td>\n",
       "      <td>709812.0</td>\n",
       "      <td>1674223.0</td>\n",
       "      <td>7.0</td>\n",
       "      <td>2019.0</td>\n",
       "      <td>1112.0</td>\n",
       "      <td>6.0</td>\n",
       "      <td>9.0</td>\n",
       "      <td>11.0</td>\n",
       "    </tr>\n",
       "    <tr>\n",
       "      <th>1</th>\n",
       "      <td>-75.583161</td>\n",
       "      <td>6.250155</td>\n",
       "      <td>709813.0</td>\n",
       "      <td>1675562.0</td>\n",
       "      <td>5.0</td>\n",
       "      <td>2019.0</td>\n",
       "      <td>1103.0</td>\n",
       "      <td>6.0</td>\n",
       "      <td>21.0</td>\n",
       "      <td>11.0</td>\n",
       "    </tr>\n",
       "    <tr>\n",
       "      <th>2</th>\n",
       "      <td>-75.563856</td>\n",
       "      <td>6.250657</td>\n",
       "      <td>709814.0</td>\n",
       "      <td>1661788.0</td>\n",
       "      <td>3.0</td>\n",
       "      <td>2019.0</td>\n",
       "      <td>1019.0</td>\n",
       "      <td>2.0</td>\n",
       "      <td>27.0</td>\n",
       "      <td>10.0</td>\n",
       "    </tr>\n",
       "    <tr>\n",
       "      <th>3</th>\n",
       "      <td>-75.576757</td>\n",
       "      <td>6.268025</td>\n",
       "      <td>709815.0</td>\n",
       "      <td>1675911.0</td>\n",
       "      <td>2.0</td>\n",
       "      <td>2019.0</td>\n",
       "      <td>517.0</td>\n",
       "      <td>6.0</td>\n",
       "      <td>25.0</td>\n",
       "      <td>5.0</td>\n",
       "    </tr>\n",
       "    <tr>\n",
       "      <th>4</th>\n",
       "      <td>-75.571897</td>\n",
       "      <td>6.202827</td>\n",
       "      <td>709816.0</td>\n",
       "      <td>1673388.0</td>\n",
       "      <td>2.0</td>\n",
       "      <td>2019.0</td>\n",
       "      <td>1416.0</td>\n",
       "      <td>6.0</td>\n",
       "      <td>4.0</td>\n",
       "      <td>14.0</td>\n",
       "    </tr>\n",
       "  </tbody>\n",
       "</table>\n",
       "</div>"
      ],
      "text/plain": [
       "           X         Y  OBJECTID   RADICADO  DIA_NUMERO  PERIODO    CBML  MES  \\\n",
       "0 -75.596093  6.256489  709812.0  1674223.0         7.0   2019.0  1112.0  6.0   \n",
       "1 -75.583161  6.250155  709813.0  1675562.0         5.0   2019.0  1103.0  6.0   \n",
       "2 -75.563856  6.250657  709814.0  1661788.0         3.0   2019.0  1019.0  2.0   \n",
       "3 -75.576757  6.268025  709815.0  1675911.0         2.0   2019.0   517.0  6.0   \n",
       "4 -75.571897  6.202827  709816.0  1673388.0         2.0   2019.0  1416.0  6.0   \n",
       "\n",
       "    DIA  NUM_COMUNA  \n",
       "0   9.0        11.0  \n",
       "1  21.0        11.0  \n",
       "2  27.0        10.0  \n",
       "3  25.0         5.0  \n",
       "4   4.0        14.0  "
      ]
     },
     "execution_count": 53,
     "metadata": {},
     "output_type": "execute_result"
    }
   ],
   "source": [
    "x.head()"
   ]
  },
  {
   "cell_type": "code",
   "execution_count": 57,
   "metadata": {},
   "outputs": [],
   "source": [
    "x.to_csv(\"C:/Users/sergi/modalidad/Dataset/X.csv\",index = False)"
   ]
  }
 ],
 "metadata": {
  "kernelspec": {
   "display_name": "Python 3",
   "language": "python",
   "name": "python3"
  },
  "language_info": {
   "codemirror_mode": {
    "name": "ipython",
    "version": 3
   },
   "file_extension": ".py",
   "mimetype": "text/x-python",
   "name": "python",
   "nbconvert_exporter": "python",
   "pygments_lexer": "ipython3",
   "version": "3.8.1"
  }
 },
 "nbformat": 4,
 "nbformat_minor": 4
}
