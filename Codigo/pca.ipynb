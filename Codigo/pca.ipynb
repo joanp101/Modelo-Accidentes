{
 "cells": [
  {
   "cell_type": "code",
   "execution_count": 1,
   "metadata": {},
   "outputs": [],
   "source": [
    "import warnings\n",
    "warnings.simplefilter('ignore')"
   ]
  },
  {
   "cell_type": "code",
   "execution_count": 2,
   "metadata": {},
   "outputs": [],
   "source": [
    "%matplotlib inline\n",
    "\n",
    "import numpy as np\n",
    "import pandas as pd\n",
    "import matplotlib.pyplot as plt\n",
    "import sklearn\n",
    "import seaborn as sns\n",
    "\n",
    "from sklearn.decomposition import PCA\n",
    "from sklearn.decomposition import IncrementalPCA\n",
    "from sklearn.decomposition import KernelPCA\n",
    "\n",
    "\n",
    "from sklearn.linear_model import LogisticRegression\n",
    "\n",
    "from sklearn.preprocessing import StandardScaler\n",
    "from sklearn.model_selection import train_test_split"
   ]
  },
  {
   "cell_type": "code",
   "execution_count": 3,
   "metadata": {},
   "outputs": [],
   "source": [
    "df_accidentes = pd.read_csv(\"C:/Users/sergi/modalidad/X.csv\")"
   ]
  },
  {
   "cell_type": "code",
   "execution_count": 4,
   "metadata": {
    "scrolled": true
   },
   "outputs": [
    {
     "data": {
      "text/html": [
       "<div>\n",
       "<style scoped>\n",
       "    .dataframe tbody tr th:only-of-type {\n",
       "        vertical-align: middle;\n",
       "    }\n",
       "\n",
       "    .dataframe tbody tr th {\n",
       "        vertical-align: top;\n",
       "    }\n",
       "\n",
       "    .dataframe thead th {\n",
       "        text-align: right;\n",
       "    }\n",
       "</style>\n",
       "<table border=\"1\" class=\"dataframe\">\n",
       "  <thead>\n",
       "    <tr style=\"text-align: right;\">\n",
       "      <th></th>\n",
       "      <th>X</th>\n",
       "      <th>Y</th>\n",
       "      <th>OBJECTID</th>\n",
       "      <th>RADICADO</th>\n",
       "      <th>DIA_NUMERO</th>\n",
       "      <th>PERIODO</th>\n",
       "      <th>CBML</th>\n",
       "      <th>MES</th>\n",
       "      <th>DIA</th>\n",
       "      <th>NUM_COMUNA</th>\n",
       "    </tr>\n",
       "  </thead>\n",
       "  <tbody>\n",
       "    <tr>\n",
       "      <th>0</th>\n",
       "      <td>-75.596093</td>\n",
       "      <td>6.256489</td>\n",
       "      <td>709812.0</td>\n",
       "      <td>1674223.0</td>\n",
       "      <td>7.0</td>\n",
       "      <td>2019.0</td>\n",
       "      <td>1112.0</td>\n",
       "      <td>6.0</td>\n",
       "      <td>9.0</td>\n",
       "      <td>11.0</td>\n",
       "    </tr>\n",
       "    <tr>\n",
       "      <th>1</th>\n",
       "      <td>-75.583161</td>\n",
       "      <td>6.250155</td>\n",
       "      <td>709813.0</td>\n",
       "      <td>1675562.0</td>\n",
       "      <td>5.0</td>\n",
       "      <td>2019.0</td>\n",
       "      <td>1103.0</td>\n",
       "      <td>6.0</td>\n",
       "      <td>21.0</td>\n",
       "      <td>11.0</td>\n",
       "    </tr>\n",
       "    <tr>\n",
       "      <th>2</th>\n",
       "      <td>-75.563856</td>\n",
       "      <td>6.250657</td>\n",
       "      <td>709814.0</td>\n",
       "      <td>1661788.0</td>\n",
       "      <td>3.0</td>\n",
       "      <td>2019.0</td>\n",
       "      <td>1019.0</td>\n",
       "      <td>2.0</td>\n",
       "      <td>27.0</td>\n",
       "      <td>10.0</td>\n",
       "    </tr>\n",
       "    <tr>\n",
       "      <th>3</th>\n",
       "      <td>-75.576757</td>\n",
       "      <td>6.268025</td>\n",
       "      <td>709815.0</td>\n",
       "      <td>1675911.0</td>\n",
       "      <td>2.0</td>\n",
       "      <td>2019.0</td>\n",
       "      <td>517.0</td>\n",
       "      <td>6.0</td>\n",
       "      <td>25.0</td>\n",
       "      <td>5.0</td>\n",
       "    </tr>\n",
       "    <tr>\n",
       "      <th>4</th>\n",
       "      <td>-75.571897</td>\n",
       "      <td>6.202827</td>\n",
       "      <td>709816.0</td>\n",
       "      <td>1673388.0</td>\n",
       "      <td>2.0</td>\n",
       "      <td>2019.0</td>\n",
       "      <td>1416.0</td>\n",
       "      <td>6.0</td>\n",
       "      <td>4.0</td>\n",
       "      <td>14.0</td>\n",
       "    </tr>\n",
       "    <tr>\n",
       "      <th>5</th>\n",
       "      <td>-75.576737</td>\n",
       "      <td>6.207613</td>\n",
       "      <td>709817.0</td>\n",
       "      <td>1666474.0</td>\n",
       "      <td>5.0</td>\n",
       "      <td>2019.0</td>\n",
       "      <td>1421.0</td>\n",
       "      <td>4.0</td>\n",
       "      <td>5.0</td>\n",
       "      <td>14.0</td>\n",
       "    </tr>\n",
       "    <tr>\n",
       "      <th>6</th>\n",
       "      <td>-75.609766</td>\n",
       "      <td>6.257146</td>\n",
       "      <td>709818.0</td>\n",
       "      <td>1660673.0</td>\n",
       "      <td>1.0</td>\n",
       "      <td>2019.0</td>\n",
       "      <td>1206.0</td>\n",
       "      <td>2.0</td>\n",
       "      <td>18.0</td>\n",
       "      <td>12.0</td>\n",
       "    </tr>\n",
       "    <tr>\n",
       "      <th>7</th>\n",
       "      <td>-75.563572</td>\n",
       "      <td>6.293681</td>\n",
       "      <td>709819.0</td>\n",
       "      <td>1655464.0</td>\n",
       "      <td>2.0</td>\n",
       "      <td>2019.0</td>\n",
       "      <td>508.0</td>\n",
       "      <td>1.0</td>\n",
       "      <td>1.0</td>\n",
       "      <td>5.0</td>\n",
       "    </tr>\n",
       "    <tr>\n",
       "      <th>8</th>\n",
       "      <td>-75.571333</td>\n",
       "      <td>6.255336</td>\n",
       "      <td>709820.0</td>\n",
       "      <td>1672593.0</td>\n",
       "      <td>3.0</td>\n",
       "      <td>2019.0</td>\n",
       "      <td>1006.0</td>\n",
       "      <td>5.0</td>\n",
       "      <td>29.0</td>\n",
       "      <td>10.0</td>\n",
       "    </tr>\n",
       "    <tr>\n",
       "      <th>9</th>\n",
       "      <td>-75.576701</td>\n",
       "      <td>6.243748</td>\n",
       "      <td>709821.0</td>\n",
       "      <td>1669539.0</td>\n",
       "      <td>5.0</td>\n",
       "      <td>2019.0</td>\n",
       "      <td>1009.0</td>\n",
       "      <td>5.0</td>\n",
       "      <td>3.0</td>\n",
       "      <td>10.0</td>\n",
       "    </tr>\n",
       "  </tbody>\n",
       "</table>\n",
       "</div>"
      ],
      "text/plain": [
       "           X         Y  OBJECTID   RADICADO  DIA_NUMERO  PERIODO    CBML  MES  \\\n",
       "0 -75.596093  6.256489  709812.0  1674223.0         7.0   2019.0  1112.0  6.0   \n",
       "1 -75.583161  6.250155  709813.0  1675562.0         5.0   2019.0  1103.0  6.0   \n",
       "2 -75.563856  6.250657  709814.0  1661788.0         3.0   2019.0  1019.0  2.0   \n",
       "3 -75.576757  6.268025  709815.0  1675911.0         2.0   2019.0   517.0  6.0   \n",
       "4 -75.571897  6.202827  709816.0  1673388.0         2.0   2019.0  1416.0  6.0   \n",
       "5 -75.576737  6.207613  709817.0  1666474.0         5.0   2019.0  1421.0  4.0   \n",
       "6 -75.609766  6.257146  709818.0  1660673.0         1.0   2019.0  1206.0  2.0   \n",
       "7 -75.563572  6.293681  709819.0  1655464.0         2.0   2019.0   508.0  1.0   \n",
       "8 -75.571333  6.255336  709820.0  1672593.0         3.0   2019.0  1006.0  5.0   \n",
       "9 -75.576701  6.243748  709821.0  1669539.0         5.0   2019.0  1009.0  5.0   \n",
       "\n",
       "    DIA  NUM_COMUNA  \n",
       "0   9.0        11.0  \n",
       "1  21.0        11.0  \n",
       "2  27.0        10.0  \n",
       "3  25.0         5.0  \n",
       "4   4.0        14.0  \n",
       "5   5.0        14.0  \n",
       "6  18.0        12.0  \n",
       "7   1.0         5.0  \n",
       "8  29.0        10.0  \n",
       "9   3.0        10.0  "
      ]
     },
     "execution_count": 4,
     "metadata": {},
     "output_type": "execute_result"
    }
   ],
   "source": [
    "df_accidentes.head(10)"
   ]
  },
  {
   "cell_type": "code",
   "execution_count": 5,
   "metadata": {
    "scrolled": true
   },
   "outputs": [
    {
     "data": {
      "text/plain": [
       "(30862, 10)"
      ]
     },
     "execution_count": 5,
     "metadata": {},
     "output_type": "execute_result"
    }
   ],
   "source": [
    "df_accidentes.shape"
   ]
  },
  {
   "cell_type": "code",
   "execution_count": 6,
   "metadata": {},
   "outputs": [],
   "source": [
    "dt_features = df_accidentes.drop(['DIA'], axis =1)\n",
    "dt_target = df_accidentes['DIA']\n",
    "\n",
    "dt_features = StandardScaler().fit_transform(dt_features)\n",
    "    \n",
    "X_train, X_test, y_train, y_test = train_test_split(dt_features, dt_target, test_size=0.6, random_state=50)"
   ]
  },
  {
   "cell_type": "code",
   "execution_count": 7,
   "metadata": {},
   "outputs": [
    {
     "name": "stdout",
     "output_type": "stream",
     "text": [
      "Tamaño para X_train (12344, 9)\n",
      "Tamaño para y_train (12344,)\n"
     ]
    }
   ],
   "source": [
    "print(f'Tamaño para X_train {X_train.shape}')\n",
    "print(f'Tamaño para y_train {y_train.shape}')"
   ]
  },
  {
   "cell_type": "code",
   "execution_count": 8,
   "metadata": {},
   "outputs": [
    {
     "data": {
      "text/plain": [
       "IncrementalPCA(batch_size=10, copy=True, n_components=3, whiten=False)"
      ]
     },
     "execution_count": 8,
     "metadata": {},
     "output_type": "execute_result"
    }
   ],
   "source": [
    "#n_components = min(n_muestras, n_features)\n",
    "\n",
    "pca = PCA(n_components=3)\n",
    "pca.fit(X_train)\n",
    "\n",
    "ipca = IncrementalPCA(n_components=3, batch_size=10)\n",
    "ipca.fit(X_train)\n"
   ]
  },
  {
   "cell_type": "code",
   "execution_count": 9,
   "metadata": {},
   "outputs": [
    {
     "data": {
      "image/png": "[encoded data removed]",
      "text/plain": [
       "<Figure size 432x288 with 1 Axes>"
      ]
     },
     "metadata": {
      "needs_background": "light"
     },
     "output_type": "display_data"
    }
   ],
   "source": [
    "plt.plot(range(len(pca.explained_variance_)), pca.explained_variance_ratio_)\n",
    "plt.show()"
   ]
  },
  {
   "cell_type": "code",
   "execution_count": 10,
   "metadata": {},
   "outputs": [
    {
     "name": "stdout",
     "output_type": "stream",
     "text": [
      "SCORE PCA 0.038881088670482775\n",
      "SCORE IPCA 0.03720704179717032\n"
     ]
    }
   ],
   "source": [
    "logistic = LogisticRegression(solver='lbfgs')\n",
    "    \n",
    "dt_train = pca.transform(X_train)\n",
    "dt_test = pca.transform(X_test)\n",
    "logistic.fit(dt_train,y_train)\n",
    "print(f'SCORE PCA {logistic.score(dt_test, y_test)}')\n",
    "\n",
    "dt_train = ipca.transform(X_train)\n",
    "dt_test = ipca.transform(X_test)\n",
    "logistic.fit(dt_train,y_train)\n",
    "print(f'SCORE IPCA {logistic.score(dt_test, y_test)}')"
   ]
  },
  {
   "cell_type": "markdown",
   "metadata": {},
   "source": [
    "El rendimiento es exactamente el mismo"
   ]
  },
  {
   "cell_type": "markdown",
   "metadata": {},
   "source": [
    "# Kernel"
   ]
  },
  {
   "cell_type": "code",
   "execution_count": 11,
   "metadata": {},
   "outputs": [
    {
     "data": {
      "text/plain": [
       "KernelPCA(alpha=1.0, coef0=1, copy_X=True, degree=3, eigen_solver='auto',\n",
       "          fit_inverse_transform=False, gamma=None, kernel='poly',\n",
       "          kernel_params=None, max_iter=None, n_components=3, n_jobs=None,\n",
       "          random_state=None, remove_zero_eig=False, tol=0)"
      ]
     },
     "execution_count": 11,
     "metadata": {},
     "output_type": "execute_result"
    }
   ],
   "source": [
    "kpca = KernelPCA(n_components =3, kernel='poly')\n",
    "kpca.fit(X_train)"
   ]
  },
  {
   "cell_type": "code",
   "execution_count": 12,
   "metadata": {},
   "outputs": [
    {
     "name": "stdout",
     "output_type": "stream",
     "text": [
      "SCORE KPCA 0.034776973755265145\n"
     ]
    }
   ],
   "source": [
    "dt_train = kpca.transform(X_train)\n",
    "dt_test = kpca.transform(X_test)\n",
    "\n",
    "logistic = LogisticRegression(solver = 'lbfgs')\n",
    "logistic.fit(dt_train, y_train)\n",
    "print(f'SCORE KPCA {logistic.score(dt_test, y_test)}')"
   ]
  },
  {
   "cell_type": "markdown",
   "metadata": {},
   "source": [
    "# Regularizacion"
   ]
  },
  {
   "cell_type": "code",
   "execution_count": 13,
   "metadata": {},
   "outputs": [],
   "source": [
    "from sklearn.linear_model import LinearRegression\n",
    "from sklearn.linear_model import Lasso\n",
    "from sklearn.linear_model import Ridge\n",
    "from sklearn.metrics import mean_squared_error"
   ]
  },
  {
   "cell_type": "code",
   "execution_count": 15,
   "metadata": {},
   "outputs": [],
   "source": [
    "X = df_accidentes[['X','Y','OBJECTID','RADICADO','DIA_NUMERO','PERIODO','CBML','MES','NUM_COMUNA']]\n",
    "y = df_accidentes[['DIA']]"
   ]
  },
  {
   "cell_type": "code",
   "execution_count": 16,
   "metadata": {},
   "outputs": [],
   "source": [
    "X_train, X_test, y_train, y_test = train_test_split(X,y, test_size=0.25)\n"
   ]
  },
  {
   "cell_type": "markdown",
   "metadata": {},
   "source": [
    "# Modelo linaeal"
   ]
  },
  {
   "cell_type": "code",
   "execution_count": 17,
   "metadata": {},
   "outputs": [],
   "source": [
    "modelLinear = LinearRegression().fit(X_train, y_train)\n",
    "y_predict_linear = modelLinear.predict(X_test)"
   ]
  },
  {
   "cell_type": "markdown",
   "metadata": {},
   "source": [
    "# modelo Lasso"
   ]
  },
  {
   "cell_type": "code",
   "execution_count": 18,
   "metadata": {},
   "outputs": [],
   "source": [
    "modelLasso = Lasso(alpha=0.02).fit(X_train, y_train)\n",
    "y_predict_lasso = modelLasso.predict(X_test)"
   ]
  },
  {
   "cell_type": "markdown",
   "metadata": {},
   "source": [
    "# Modelo Ridge"
   ]
  },
  {
   "cell_type": "code",
   "execution_count": 19,
   "metadata": {},
   "outputs": [],
   "source": [
    "modelRidge = Ridge(alpha=1).fit(X_train, y_train)\n",
    "y_predict_ridge = modelRidge.predict(X_test)"
   ]
  },
  {
   "cell_type": "markdown",
   "metadata": {},
   "source": [
    "# definiendo perdida"
   ]
  },
  {
   "cell_type": "code",
   "execution_count": 20,
   "metadata": {},
   "outputs": [],
   "source": [
    "linear_loss = mean_squared_error(y_test, y_predict_linear)\n",
    "lasso_loss = mean_squared_error(y_test, y_predict_lasso)\n",
    "ridge_loss = mean_squared_error(y_test, y_predict_ridge)\n",
    "\n"
   ]
  },
  {
   "cell_type": "code",
   "execution_count": 24,
   "metadata": {},
   "outputs": [
    {
     "name": "stdout",
     "output_type": "stream",
     "text": [
      "Linear Loss 11.24769732796787\n",
      "Lasso Loss 11.264647930645499\n",
      "Ridge Loss 11.248846463223662\n"
     ]
    }
   ],
   "source": [
    "print(f'Linear Loss',linear_loss)\n",
    "print(f'Lasso Loss',lasso_loss)\n",
    "print(f'Ridge Loss',ridge_loss)"
   ]
  },
  {
   "cell_type": "markdown",
   "metadata": {},
   "source": [
    "# Coeficientes"
   ]
  },
  {
   "cell_type": "code",
   "execution_count": 25,
   "metadata": {},
   "outputs": [
    {
     "name": "stdout",
     "output_type": "stream",
     "text": [
      "================================\n",
      "Coeficiente LASSO\n",
      "[-0.00000000e+00  0.00000000e+00 -9.44222150e-05  6.70461480e-03\n",
      " -8.40053011e-03  0.00000000e+00 -4.13684291e-10 -2.50242778e+01\n",
      " -1.72669126e-02]\n",
      "================================\n",
      "Coeficiente RIDGE\n",
      "[[-5.64405171e-01  1.96050575e+00 -9.43287530e-05  6.75605663e-03\n",
      "  -1.43322857e-02  0.00000000e+00 -4.15223325e-10 -2.52207860e+01\n",
      "  -1.00025205e-02]]\n"
     ]
    }
   ],
   "source": [
    "print(\"=\"*32)\n",
    "print(\"Coeficiente LASSO\")\n",
    "print(modelLasso.coef_)\n",
    "\n",
    "print(\"=\"*32)\n",
    "print(\"Coeficiente RIDGE\")\n",
    "print(modelRidge.coef_)"
   ]
  },
  {
   "cell_type": "code",
   "execution_count": null,
   "metadata": {},
   "outputs": [],
   "source": []
  }
 ],
 "metadata": {
  "kernelspec": {
   "display_name": "Python 3",
   "language": "python",
   "name": "python3"
  },
  "language_info": {
   "codemirror_mode": {
    "name": "ipython",
    "version": 3
   },
   "file_extension": ".py",
   "mimetype": "text/x-python",
   "name": "python",
   "nbconvert_exporter": "python",
   "pygments_lexer": "ipython3",
   "version": "3.8.1"
  }
 },
 "nbformat": 4,
 "nbformat_minor": 4
}
