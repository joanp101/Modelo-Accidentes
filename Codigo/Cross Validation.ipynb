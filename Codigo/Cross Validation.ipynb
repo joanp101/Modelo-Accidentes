{
 "cells": [
  {
   "cell_type": "code",
   "execution_count": 1,
   "metadata": {},
   "outputs": [],
   "source": [
    "import warnings\n",
    "warnings.simplefilter(\"ignore\")"
   ]
  },
  {
   "cell_type": "code",
   "execution_count": 3,
   "metadata": {},
   "outputs": [],
   "source": [
    "%matplotlib inline\n",
    "import numpy as np\n",
    "import pandas as pd\n",
    "import matplotlib.pyplot as plt"
   ]
  },
  {
   "cell_type": "code",
   "execution_count": 5,
   "metadata": {},
   "outputs": [],
   "source": [
    "X = pd.read_csv(\"C:/Users/sergi/modalidad/X.csv\")\n",
    "y = X['DIA']\n",
    "X = X.drop('DIA',axis = 1)"
   ]
  },
  {
   "cell_type": "code",
   "execution_count": 6,
   "metadata": {},
   "outputs": [
    {
     "data": {
      "text/plain": [
       "Index(['X', 'Y', 'OBJECTID', 'RADICADO', 'PERIODO', 'MES'], dtype='object')"
      ]
     },
     "execution_count": 6,
     "metadata": {},
     "output_type": "execute_result"
    }
   ],
   "source": [
    "X.columns"
   ]
  },
  {
   "cell_type": "code",
   "execution_count": 7,
   "metadata": {},
   "outputs": [],
   "source": [
    "from sklearn.model_selection import train_test_split\n",
    "\n",
    "X_train, X_test, y_train, y_test =train_test_split(X,y, random_state=1)"
   ]
  },
  {
   "cell_type": "code",
   "execution_count": 8,
   "metadata": {},
   "outputs": [
    {
     "data": {
      "text/html": [
       "<div>\n",
       "<style scoped>\n",
       "    .dataframe tbody tr th:only-of-type {\n",
       "        vertical-align: middle;\n",
       "    }\n",
       "\n",
       "    .dataframe tbody tr th {\n",
       "        vertical-align: top;\n",
       "    }\n",
       "\n",
       "    .dataframe thead th {\n",
       "        text-align: right;\n",
       "    }\n",
       "</style>\n",
       "<table border=\"1\" class=\"dataframe\">\n",
       "  <thead>\n",
       "    <tr style=\"text-align: right;\">\n",
       "      <th></th>\n",
       "      <th>X</th>\n",
       "      <th>Y</th>\n",
       "      <th>OBJECTID</th>\n",
       "      <th>RADICADO</th>\n",
       "      <th>PERIODO</th>\n",
       "      <th>MES</th>\n",
       "    </tr>\n",
       "  </thead>\n",
       "  <tbody>\n",
       "    <tr>\n",
       "      <th>15203</th>\n",
       "      <td>-75.572639</td>\n",
       "      <td>6.287191</td>\n",
       "      <td>712201.0</td>\n",
       "      <td>1655382.0</td>\n",
       "      <td>2019.0</td>\n",
       "      <td>1.0</td>\n",
       "    </tr>\n",
       "    <tr>\n",
       "      <th>8471</th>\n",
       "      <td>-75.563300</td>\n",
       "      <td>6.246261</td>\n",
       "      <td>720943.0</td>\n",
       "      <td>1666003.0</td>\n",
       "      <td>2019.0</td>\n",
       "      <td>4.0</td>\n",
       "    </tr>\n",
       "    <tr>\n",
       "      <th>28515</th>\n",
       "      <td>-75.582006</td>\n",
       "      <td>6.215066</td>\n",
       "      <td>737777.0</td>\n",
       "      <td>1683107.0</td>\n",
       "      <td>2019.0</td>\n",
       "      <td>8.0</td>\n",
       "    </tr>\n",
       "    <tr>\n",
       "      <th>17013</th>\n",
       "      <td>-75.600812</td>\n",
       "      <td>6.250584</td>\n",
       "      <td>728157.0</td>\n",
       "      <td>1671804.0</td>\n",
       "      <td>2019.0</td>\n",
       "      <td>5.0</td>\n",
       "    </tr>\n",
       "    <tr>\n",
       "      <th>30386</th>\n",
       "      <td>-75.587381</td>\n",
       "      <td>6.234862</td>\n",
       "      <td>741253.0</td>\n",
       "      <td>1678248.0</td>\n",
       "      <td>2019.0</td>\n",
       "      <td>7.0</td>\n",
       "    </tr>\n",
       "  </tbody>\n",
       "</table>\n",
       "</div>"
      ],
      "text/plain": [
       "               X         Y  OBJECTID   RADICADO  PERIODO  MES\n",
       "15203 -75.572639  6.287191  712201.0  1655382.0   2019.0  1.0\n",
       "8471  -75.563300  6.246261  720943.0  1666003.0   2019.0  4.0\n",
       "28515 -75.582006  6.215066  737777.0  1683107.0   2019.0  8.0\n",
       "17013 -75.600812  6.250584  728157.0  1671804.0   2019.0  5.0\n",
       "30386 -75.587381  6.234862  741253.0  1678248.0   2019.0  7.0"
      ]
     },
     "execution_count": 8,
     "metadata": {},
     "output_type": "execute_result"
    }
   ],
   "source": [
    "X_train.head()"
   ]
  },
  {
   "cell_type": "code",
   "execution_count": 9,
   "metadata": {},
   "outputs": [
    {
     "data": {
      "text/html": [
       "<div>\n",
       "<style scoped>\n",
       "    .dataframe tbody tr th:only-of-type {\n",
       "        vertical-align: middle;\n",
       "    }\n",
       "\n",
       "    .dataframe tbody tr th {\n",
       "        vertical-align: top;\n",
       "    }\n",
       "\n",
       "    .dataframe thead th {\n",
       "        text-align: right;\n",
       "    }\n",
       "</style>\n",
       "<table border=\"1\" class=\"dataframe\">\n",
       "  <thead>\n",
       "    <tr style=\"text-align: right;\">\n",
       "      <th></th>\n",
       "      <th>X</th>\n",
       "      <th>Y</th>\n",
       "      <th>OBJECTID</th>\n",
       "      <th>RADICADO</th>\n",
       "      <th>PERIODO</th>\n",
       "      <th>MES</th>\n",
       "    </tr>\n",
       "  </thead>\n",
       "  <tbody>\n",
       "    <tr>\n",
       "      <th>15203</th>\n",
       "      <td>-75.572639</td>\n",
       "      <td>6.287191</td>\n",
       "      <td>712201.0</td>\n",
       "      <td>1655382.0</td>\n",
       "      <td>2019.0</td>\n",
       "      <td>1.0</td>\n",
       "    </tr>\n",
       "    <tr>\n",
       "      <th>8471</th>\n",
       "      <td>-75.563300</td>\n",
       "      <td>6.246261</td>\n",
       "      <td>720943.0</td>\n",
       "      <td>1666003.0</td>\n",
       "      <td>2019.0</td>\n",
       "      <td>4.0</td>\n",
       "    </tr>\n",
       "    <tr>\n",
       "      <th>28515</th>\n",
       "      <td>-75.582006</td>\n",
       "      <td>6.215066</td>\n",
       "      <td>737777.0</td>\n",
       "      <td>1683107.0</td>\n",
       "      <td>2019.0</td>\n",
       "      <td>8.0</td>\n",
       "    </tr>\n",
       "    <tr>\n",
       "      <th>17013</th>\n",
       "      <td>-75.600812</td>\n",
       "      <td>6.250584</td>\n",
       "      <td>728157.0</td>\n",
       "      <td>1671804.0</td>\n",
       "      <td>2019.0</td>\n",
       "      <td>5.0</td>\n",
       "    </tr>\n",
       "    <tr>\n",
       "      <th>30386</th>\n",
       "      <td>-75.587381</td>\n",
       "      <td>6.234862</td>\n",
       "      <td>741253.0</td>\n",
       "      <td>1678248.0</td>\n",
       "      <td>2019.0</td>\n",
       "      <td>7.0</td>\n",
       "    </tr>\n",
       "  </tbody>\n",
       "</table>\n",
       "</div>"
      ],
      "text/plain": [
       "               X         Y  OBJECTID   RADICADO  PERIODO  MES\n",
       "15203 -75.572639  6.287191  712201.0  1655382.0   2019.0  1.0\n",
       "8471  -75.563300  6.246261  720943.0  1666003.0   2019.0  4.0\n",
       "28515 -75.582006  6.215066  737777.0  1683107.0   2019.0  8.0\n",
       "17013 -75.600812  6.250584  728157.0  1671804.0   2019.0  5.0\n",
       "30386 -75.587381  6.234862  741253.0  1678248.0   2019.0  7.0"
      ]
     },
     "execution_count": 9,
     "metadata": {},
     "output_type": "execute_result"
    }
   ],
   "source": [
    "X_train.head()"
   ]
  },
  {
   "cell_type": "markdown",
   "metadata": {},
   "source": [
    "# Cross Validation"
   ]
  },
  {
   "cell_type": "code",
   "execution_count": 10,
   "metadata": {},
   "outputs": [
    {
     "data": {
      "text/plain": [
       "array([0.69821066, 0.70055812, 0.69121681, 0.70188714, 0.72233151])"
      ]
     },
     "execution_count": 10,
     "metadata": {},
     "output_type": "execute_result"
    }
   ],
   "source": [
    "from sklearn.model_selection import cross_val_score\n",
    "from sklearn.linear_model import Lasso\n",
    "\n",
    "scores = cross_val_score(Lasso(),X,y, cv=5, scoring='r2')\n",
    "scores"
   ]
  },
  {
   "cell_type": "code",
   "execution_count": 11,
   "metadata": {},
   "outputs": [
    {
     "data": {
      "text/plain": [
       "0.7028408480199048"
      ]
     },
     "execution_count": 11,
     "metadata": {},
     "output_type": "execute_result"
    }
   ],
   "source": [
    "scores.mean()"
   ]
  },
  {
   "cell_type": "code",
   "execution_count": 12,
   "metadata": {},
   "outputs": [
    {
     "data": {
      "text/plain": [
       "0.7096004712318615"
      ]
     },
     "execution_count": 12,
     "metadata": {},
     "output_type": "execute_result"
    }
   ],
   "source": [
    "Lasso().fit(X_train,y_train).score(X_test,y_test)"
   ]
  },
  {
   "cell_type": "markdown",
   "metadata": {},
   "source": [
    "# Seleccion de modelos"
   ]
  },
  {
   "cell_type": "code",
   "execution_count": 14,
   "metadata": {},
   "outputs": [
    {
     "name": "stdout",
     "output_type": "stream",
     "text": [
      "Requirement already up-to-date: scikit-learn in c:\\users\\sergi\\anaconda3\\envs\\machine-learning\\lib\\site-packages (0.22.2.post1)\n",
      "Requirement already satisfied, skipping upgrade: numpy>=1.11.0 in c:\\users\\sergi\\anaconda3\\envs\\machine-learning\\lib\\site-packages (from scikit-learn) (1.18.1)\n",
      "Requirement already satisfied, skipping upgrade: joblib>=0.11 in c:\\users\\sergi\\anaconda3\\envs\\machine-learning\\lib\\site-packages (from scikit-learn) (0.14.1)\n",
      "Requirement already satisfied, skipping upgrade: scipy>=0.17.0 in c:\\users\\sergi\\anaconda3\\envs\\machine-learning\\lib\\site-packages (from scikit-learn) (1.3.2)\n"
     ]
    }
   ],
   "source": [
    "!pip install --upgrade scikit-learn"
   ]
  },
  {
   "cell_type": "code",
   "execution_count": 15,
   "metadata": {},
   "outputs": [
    {
     "data": {
      "text/plain": [
       "{'fit_time': array([0.13100886, 0.07800412, 0.06300354, 0.0860045 , 0.06100464]),\n",
       " 'score_time': array([0.00199986, 0.00200081, 0.00200009, 0.00200009, 0.00200033]),\n",
       " 'test_score': array([0.69821066, 0.70055812, 0.69121681, 0.70188714, 0.72233151]),\n",
       " 'train_score': array([0.70646844, 0.70526056, 0.70858195, 0.7213834 , 0.71829586])}"
      ]
     },
     "execution_count": 15,
     "metadata": {},
     "output_type": "execute_result"
    }
   ],
   "source": [
    "from sklearn.model_selection import cross_validate\n",
    "\n",
    "results = cross_validate(Lasso(),X,y,return_train_score=True, cv=5)\n",
    "results"
   ]
  },
  {
   "cell_type": "code",
   "execution_count": 16,
   "metadata": {},
   "outputs": [
    {
     "name": "stdout",
     "output_type": "stream",
     "text": [
      "0.7119980415230757\n",
      "0.7028408480199048\n"
     ]
    }
   ],
   "source": [
    "test_scores = results['test_score']\n",
    "train_scores = results['train_score']\n",
    "print(np.mean(train_scores))\n",
    "print(np.mean(test_scores))"
   ]
  },
  {
   "cell_type": "markdown",
   "metadata": {},
   "source": [
    "El score de 0.71 no es malo, pero tampoco es muy bueno.\n",
    "nuestro modelo no esta encajando tambien a los datos"
   ]
  },
  {
   "cell_type": "markdown",
   "metadata": {},
   "source": [
    "# Validation Curves y Learning Curves"
   ]
  },
  {
   "cell_type": "markdown",
   "metadata": {},
   "source": [
    "Vecino mas cercano"
   ]
  },
  {
   "cell_type": "code",
   "execution_count": 18,
   "metadata": {},
   "outputs": [
    {
     "data": {
      "text/plain": [
       "{'fit_time': array([0.10703754, 0.05700493, 0.06500387, 0.06500435, 0.06600523]),\n",
       " 'score_time': array([0.03200221, 0.0340023 , 0.03300357, 0.04000354, 0.03600192]),\n",
       " 'test_score': array([0.73448942, 0.68406928, 0.45299932, 0.76182544, 0.79043978])}"
      ]
     },
     "execution_count": 18,
     "metadata": {},
     "output_type": "execute_result"
    }
   ],
   "source": [
    "from sklearn.neighbors import KNeighborsRegressor\n",
    "\n",
    "cross_validate(KNeighborsRegressor(),X,y,cv=5)"
   ]
  },
  {
   "cell_type": "code",
   "execution_count": 19,
   "metadata": {},
   "outputs": [
    {
     "data": {
      "text/plain": [
       "{'fit_time': array([0.06900144, 0.06500483, 0.06300378, 0.0620048 , 0.0650053 ]),\n",
       " 'score_time': array([0.03800249, 0.08700609, 0.04000401, 0.04600334, 0.04300284]),\n",
       " 'test_score': array([0.68664093, 0.67998384, 0.46795063, 0.76175733, 0.79491682])}"
      ]
     },
     "execution_count": 19,
     "metadata": {},
     "output_type": "execute_result"
    }
   ],
   "source": [
    "cross_validate(KNeighborsRegressor(n_neighbors=10),X,y,cv=5)"
   ]
  },
  {
   "cell_type": "code",
   "execution_count": 20,
   "metadata": {},
   "outputs": [
    {
     "data": {
      "text/plain": [
       "array([ 2,  4,  6,  8, 10, 12, 14, 16, 18, 20, 22, 24, 26, 28, 30, 32, 34,\n",
       "       36, 38, 40, 42, 44, 46, 48])"
      ]
     },
     "execution_count": 20,
     "metadata": {},
     "output_type": "execute_result"
    }
   ],
   "source": [
    "n = np.arange(2,50,2)\n",
    "n"
   ]
  },
  {
   "cell_type": "code",
   "execution_count": 21,
   "metadata": {},
   "outputs": [],
   "source": [
    "from sklearn.model_selection import validation_curve\n",
    "\n",
    "train_scores, test_scores = validation_curve(KNeighborsRegressor(),\n",
    "                                            X,\n",
    "                                            y,\n",
    "                                            param_name='n_neighbors',\n",
    "                                            param_range=n,\n",
    "                                            cv=5)"
   ]
  },
  {
   "cell_type": "code",
   "execution_count": 22,
   "metadata": {},
   "outputs": [
    {
     "data": {
      "text/plain": [
       "array([0.94611644, 0.91234003, 0.89871831, 0.88688112, 0.87703904,\n",
       "       0.8707753 , 0.86395385, 0.85811111, 0.85209536, 0.84725054,\n",
       "       0.84169573, 0.83745158, 0.83323204, 0.82889169, 0.82473275,\n",
       "       0.82051943, 0.81628307, 0.8120951 , 0.80819095, 0.80387003,\n",
       "       0.79983531, 0.79620072, 0.79265942, 0.78899486])"
      ]
     },
     "execution_count": 22,
     "metadata": {},
     "output_type": "execute_result"
    }
   ],
   "source": [
    "np.mean(train_scores, axis=1)"
   ]
  },
  {
   "cell_type": "code",
   "execution_count": 23,
   "metadata": {
    "scrolled": true
   },
   "outputs": [
    {
     "data": {
      "text/plain": [
       "([<matplotlib.axis.XTick at 0x22d66e8faf0>,\n",
       "  <matplotlib.axis.XTick at 0x22d66e8f880>,\n",
       "  <matplotlib.axis.XTick at 0x22d66eb6fd0>,\n",
       "  <matplotlib.axis.XTick at 0x22d66eacf40>,\n",
       "  <matplotlib.axis.XTick at 0x22d66e3b940>,\n",
       "  <matplotlib.axis.XTick at 0x22d66ea8730>,\n",
       "  <matplotlib.axis.XTick at 0x22d66eb2310>,\n",
       "  <matplotlib.axis.XTick at 0x22d66eb28b0>,\n",
       "  <matplotlib.axis.XTick at 0x22d66eb2e50>,\n",
       "  <matplotlib.axis.XTick at 0x22d66eed430>,\n",
       "  <matplotlib.axis.XTick at 0x22d66eed9d0>,\n",
       "  <matplotlib.axis.XTick at 0x22d66eedf70>,\n",
       "  <matplotlib.axis.XTick at 0x22d66eed520>,\n",
       "  <matplotlib.axis.XTick at 0x22d66ea8be0>,\n",
       "  <matplotlib.axis.XTick at 0x22d66eb68e0>,\n",
       "  <matplotlib.axis.XTick at 0x22d66ef2700>,\n",
       "  <matplotlib.axis.XTick at 0x22d66ef2ca0>,\n",
       "  <matplotlib.axis.XTick at 0x22d66ef8280>,\n",
       "  <matplotlib.axis.XTick at 0x22d66ef8820>,\n",
       "  <matplotlib.axis.XTick at 0x22d66ef8dc0>,\n",
       "  <matplotlib.axis.XTick at 0x22d66efe3a0>,\n",
       "  <matplotlib.axis.XTick at 0x22d66efe940>,\n",
       "  <matplotlib.axis.XTick at 0x22d66ef8400>,\n",
       "  <matplotlib.axis.XTick at 0x22d66ef22e0>],\n",
       " <a list of 24 Text xticklabel objects>)"
      ]
     },
     "execution_count": 23,
     "metadata": {},
     "output_type": "execute_result"
    },
    {
     "data": {
      "image/png": "[encoded data removed]",
      "text/plain": [
       "<Figure size 432x288 with 1 Axes>"
      ]
     },
     "metadata": {
      "needs_background": "light"
     },
     "output_type": "display_data"
    }
   ],
   "source": [
    "plt.plot(np.mean(train_scores, axis=1))\n",
    "plt.plot(np.mean(test_scores, axis=1))\n",
    "plt.xticks(np.arange(24),n)"
   ]
  },
  {
   "cell_type": "markdown",
   "metadata": {},
   "source": [
    "El mejor parametro que se puede elijir es 7 vecinos"
   ]
  },
  {
   "cell_type": "markdown",
   "metadata": {},
   "source": [
    "# Curva de aprendizaje"
   ]
  },
  {
   "cell_type": "code",
   "execution_count": 24,
   "metadata": {},
   "outputs": [],
   "source": [
    "from sklearn.model_selection import learning_curve\n",
    "\n",
    "lc = learning_curve(KNeighborsRegressor(n_neighbors=7),X,y, cv=5)\n",
    "\n",
    "samples, train, test = lc[0],lc[1],lc[2] "
   ]
  },
  {
   "cell_type": "code",
   "execution_count": 25,
   "metadata": {},
   "outputs": [
    {
     "data": {
      "text/plain": [
       "[<matplotlib.lines.Line2D at 0x22d66f37550>]"
      ]
     },
     "execution_count": 25,
     "metadata": {},
     "output_type": "execute_result"
    },
    {
     "data": {
      "image/png": "[encoded data removed]",
      "text/plain": [
       "<Figure size 432x288 with 1 Axes>"
      ]
     },
     "metadata": {
      "needs_background": "light"
     },
     "output_type": "display_data"
    }
   ],
   "source": [
    "plt.plot(samples[1:],np.mean(train,axis=1)[1:])\n",
    "plt.plot(samples[1:],np.mean(test,axis=1)[1:])\n"
   ]
  },
  {
   "cell_type": "markdown",
   "metadata": {},
   "source": [
    "El modelo KNeighbors esta aprendiendo va creciendo pero a un no a terminado de aprender"
   ]
  },
  {
   "cell_type": "markdown",
   "metadata": {},
   "source": [
    "para que termine de aprender debemos agregarle mas datos"
   ]
  },
  {
   "cell_type": "markdown",
   "metadata": {},
   "source": [
    "Aprender: Cuando mejora el score en función de la cantidad de datos"
   ]
  }
 ],
 "metadata": {
  "kernelspec": {
   "display_name": "Python 3",
   "language": "python",
   "name": "python3"
  },
  "language_info": {
   "codemirror_mode": {
    "name": "ipython",
    "version": 3
   },
   "file_extension": ".py",
   "mimetype": "text/x-python",
   "name": "python",
   "nbconvert_exporter": "python",
   "pygments_lexer": "ipython3",
   "version": "3.8.1"
  }
 },
 "nbformat": 4,
 "nbformat_minor": 4
}
