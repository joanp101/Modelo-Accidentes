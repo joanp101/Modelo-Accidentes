{
 "cells": [
  {
   "cell_type": "code",
   "execution_count": 1,
   "metadata": {},
   "outputs": [],
   "source": [
    "import warnings\n",
    "warnings.simplefilter(\"ignore\")"
   ]
  },
  {
   "cell_type": "code",
   "execution_count": 2,
   "metadata": {},
   "outputs": [],
   "source": [
    "import numpy as np\n",
    "import pandas as pd"
   ]
  },
  {
   "cell_type": "markdown",
   "metadata": {},
   "source": [
    "# Modelo simple de regresion"
   ]
  },
  {
   "cell_type": "code",
   "execution_count": 3,
   "metadata": {},
   "outputs": [],
   "source": [
    "X =pd.read_csv(\"C:/Users/sergi/modalidad/Dataset/X.csv\", encoding = 'utf-8')"
   ]
  },
  {
   "cell_type": "code",
   "execution_count": 4,
   "metadata": {
    "scrolled": true
   },
   "outputs": [
    {
     "data": {
      "text/html": [
       "<div>\n",
       "<style scoped>\n",
       "    .dataframe tbody tr th:only-of-type {\n",
       "        vertical-align: middle;\n",
       "    }\n",
       "\n",
       "    .dataframe tbody tr th {\n",
       "        vertical-align: top;\n",
       "    }\n",
       "\n",
       "    .dataframe thead th {\n",
       "        text-align: right;\n",
       "    }\n",
       "</style>\n",
       "<table border=\"1\" class=\"dataframe\">\n",
       "  <thead>\n",
       "    <tr style=\"text-align: right;\">\n",
       "      <th></th>\n",
       "      <th>X</th>\n",
       "      <th>Y</th>\n",
       "      <th>OBJECTID</th>\n",
       "      <th>RADICADO</th>\n",
       "      <th>DIA</th>\n",
       "      <th>PERIODO</th>\n",
       "      <th>CBML</th>\n",
       "      <th>DIA_SEMANA</th>\n",
       "      <th>MES</th>\n",
       "      <th>NUM_COMUNA</th>\n",
       "      <th>NUM_GRAVEDAD</th>\n",
       "      <th>NUM_DISENO</th>\n",
       "      <th>NUM_CLASE</th>\n",
       "    </tr>\n",
       "  </thead>\n",
       "  <tbody>\n",
       "    <tr>\n",
       "      <th>0</th>\n",
       "      <td>-75.578357</td>\n",
       "      <td>6.213719</td>\n",
       "      <td>673380.0</td>\n",
       "      <td>1642888.0</td>\n",
       "      <td>20.0</td>\n",
       "      <td>2018.0</td>\n",
       "      <td>1507.0</td>\n",
       "      <td>4.0</td>\n",
       "      <td>9.0</td>\n",
       "      <td>15.0</td>\n",
       "      <td>1.0</td>\n",
       "      <td>1.0</td>\n",
       "      <td>1.0</td>\n",
       "    </tr>\n",
       "    <tr>\n",
       "      <th>1</th>\n",
       "      <td>-75.592022</td>\n",
       "      <td>6.279157</td>\n",
       "      <td>557526.0</td>\n",
       "      <td>1620950.0</td>\n",
       "      <td>21.0</td>\n",
       "      <td>2018.0</td>\n",
       "      <td>715.0</td>\n",
       "      <td>3.0</td>\n",
       "      <td>3.0</td>\n",
       "      <td>7.0</td>\n",
       "      <td>1.0</td>\n",
       "      <td>1.0</td>\n",
       "      <td>2.0</td>\n",
       "    </tr>\n",
       "    <tr>\n",
       "      <th>2</th>\n",
       "      <td>-75.595882</td>\n",
       "      <td>6.275555</td>\n",
       "      <td>674912.0</td>\n",
       "      <td>1640270.0</td>\n",
       "      <td>30.0</td>\n",
       "      <td>2018.0</td>\n",
       "      <td>717.0</td>\n",
       "      <td>4.0</td>\n",
       "      <td>8.0</td>\n",
       "      <td>7.0</td>\n",
       "      <td>2.0</td>\n",
       "      <td>2.0</td>\n",
       "      <td>1.0</td>\n",
       "    </tr>\n",
       "    <tr>\n",
       "      <th>3</th>\n",
       "      <td>-75.567284</td>\n",
       "      <td>6.248271</td>\n",
       "      <td>674286.0</td>\n",
       "      <td>1641770.0</td>\n",
       "      <td>10.0</td>\n",
       "      <td>2018.0</td>\n",
       "      <td>1019.0</td>\n",
       "      <td>1.0</td>\n",
       "      <td>9.0</td>\n",
       "      <td>10.0</td>\n",
       "      <td>2.0</td>\n",
       "      <td>2.0</td>\n",
       "      <td>1.0</td>\n",
       "    </tr>\n",
       "    <tr>\n",
       "      <th>4</th>\n",
       "      <td>-75.576195</td>\n",
       "      <td>6.213677</td>\n",
       "      <td>681701.0</td>\n",
       "      <td>1645768.0</td>\n",
       "      <td>12.0</td>\n",
       "      <td>2018.0</td>\n",
       "      <td>1419.0</td>\n",
       "      <td>5.0</td>\n",
       "      <td>10.0</td>\n",
       "      <td>14.0</td>\n",
       "      <td>2.0</td>\n",
       "      <td>1.0</td>\n",
       "      <td>1.0</td>\n",
       "    </tr>\n",
       "    <tr>\n",
       "      <th>...</th>\n",
       "      <td>...</td>\n",
       "      <td>...</td>\n",
       "      <td>...</td>\n",
       "      <td>...</td>\n",
       "      <td>...</td>\n",
       "      <td>...</td>\n",
       "      <td>...</td>\n",
       "      <td>...</td>\n",
       "      <td>...</td>\n",
       "      <td>...</td>\n",
       "      <td>...</td>\n",
       "      <td>...</td>\n",
       "      <td>...</td>\n",
       "    </tr>\n",
       "    <tr>\n",
       "      <th>35467</th>\n",
       "      <td>-75.557681</td>\n",
       "      <td>6.263142</td>\n",
       "      <td>719236.0</td>\n",
       "      <td>1666784.0</td>\n",
       "      <td>10.0</td>\n",
       "      <td>2019.0</td>\n",
       "      <td>409.0</td>\n",
       "      <td>3.0</td>\n",
       "      <td>4.0</td>\n",
       "      <td>4.0</td>\n",
       "      <td>1.0</td>\n",
       "      <td>1.0</td>\n",
       "      <td>4.0</td>\n",
       "    </tr>\n",
       "    <tr>\n",
       "      <th>35468</th>\n",
       "      <td>-75.558421</td>\n",
       "      <td>6.232295</td>\n",
       "      <td>735811.0</td>\n",
       "      <td>1680406.0</td>\n",
       "      <td>1.0</td>\n",
       "      <td>2019.0</td>\n",
       "      <td>913.0</td>\n",
       "      <td>4.0</td>\n",
       "      <td>8.0</td>\n",
       "      <td>9.0</td>\n",
       "      <td>1.0</td>\n",
       "      <td>3.0</td>\n",
       "      <td>6.0</td>\n",
       "    </tr>\n",
       "    <tr>\n",
       "      <th>35469</th>\n",
       "      <td>-75.563815</td>\n",
       "      <td>6.301392</td>\n",
       "      <td>740535.0</td>\n",
       "      <td>1685787.0</td>\n",
       "      <td>5.0</td>\n",
       "      <td>2019.0</td>\n",
       "      <td>502.0</td>\n",
       "      <td>4.0</td>\n",
       "      <td>9.0</td>\n",
       "      <td>5.0</td>\n",
       "      <td>1.0</td>\n",
       "      <td>1.0</td>\n",
       "      <td>1.0</td>\n",
       "    </tr>\n",
       "    <tr>\n",
       "      <th>35470</th>\n",
       "      <td>-75.566617</td>\n",
       "      <td>6.243250</td>\n",
       "      <td>711309.0</td>\n",
       "      <td>1668093.0</td>\n",
       "      <td>23.0</td>\n",
       "      <td>2019.0</td>\n",
       "      <td>1013.0</td>\n",
       "      <td>2.0</td>\n",
       "      <td>4.0</td>\n",
       "      <td>10.0</td>\n",
       "      <td>1.0</td>\n",
       "      <td>1.0</td>\n",
       "      <td>6.0</td>\n",
       "    </tr>\n",
       "    <tr>\n",
       "      <th>35471</th>\n",
       "      <td>-75.559189</td>\n",
       "      <td>6.240963</td>\n",
       "      <td>720466.0</td>\n",
       "      <td>1668186.0</td>\n",
       "      <td>23.0</td>\n",
       "      <td>2019.0</td>\n",
       "      <td>907.0</td>\n",
       "      <td>2.0</td>\n",
       "      <td>4.0</td>\n",
       "      <td>9.0</td>\n",
       "      <td>1.0</td>\n",
       "      <td>2.0</td>\n",
       "      <td>1.0</td>\n",
       "    </tr>\n",
       "  </tbody>\n",
       "</table>\n",
       "<p>35472 rows × 13 columns</p>\n",
       "</div>"
      ],
      "text/plain": [
       "               X         Y  OBJECTID   RADICADO   DIA  PERIODO    CBML  \\\n",
       "0     -75.578357  6.213719  673380.0  1642888.0  20.0   2018.0  1507.0   \n",
       "1     -75.592022  6.279157  557526.0  1620950.0  21.0   2018.0   715.0   \n",
       "2     -75.595882  6.275555  674912.0  1640270.0  30.0   2018.0   717.0   \n",
       "3     -75.567284  6.248271  674286.0  1641770.0  10.0   2018.0  1019.0   \n",
       "4     -75.576195  6.213677  681701.0  1645768.0  12.0   2018.0  1419.0   \n",
       "...          ...       ...       ...        ...   ...      ...     ...   \n",
       "35467 -75.557681  6.263142  719236.0  1666784.0  10.0   2019.0   409.0   \n",
       "35468 -75.558421  6.232295  735811.0  1680406.0   1.0   2019.0   913.0   \n",
       "35469 -75.563815  6.301392  740535.0  1685787.0   5.0   2019.0   502.0   \n",
       "35470 -75.566617  6.243250  711309.0  1668093.0  23.0   2019.0  1013.0   \n",
       "35471 -75.559189  6.240963  720466.0  1668186.0  23.0   2019.0   907.0   \n",
       "\n",
       "       DIA_SEMANA   MES  NUM_COMUNA  NUM_GRAVEDAD  NUM_DISENO  NUM_CLASE  \n",
       "0             4.0   9.0        15.0           1.0         1.0        1.0  \n",
       "1             3.0   3.0         7.0           1.0         1.0        2.0  \n",
       "2             4.0   8.0         7.0           2.0         2.0        1.0  \n",
       "3             1.0   9.0        10.0           2.0         2.0        1.0  \n",
       "4             5.0  10.0        14.0           2.0         1.0        1.0  \n",
       "...           ...   ...         ...           ...         ...        ...  \n",
       "35467         3.0   4.0         4.0           1.0         1.0        4.0  \n",
       "35468         4.0   8.0         9.0           1.0         3.0        6.0  \n",
       "35469         4.0   9.0         5.0           1.0         1.0        1.0  \n",
       "35470         2.0   4.0        10.0           1.0         1.0        6.0  \n",
       "35471         2.0   4.0         9.0           1.0         2.0        1.0  \n",
       "\n",
       "[35472 rows x 13 columns]"
      ]
     },
     "execution_count": 4,
     "metadata": {},
     "output_type": "execute_result"
    }
   ],
   "source": [
    "X"
   ]
  },
  {
   "cell_type": "code",
   "execution_count": 5,
   "metadata": {},
   "outputs": [
    {
     "data": {
      "text/plain": [
       "(35472, 13)"
      ]
     },
     "execution_count": 5,
     "metadata": {},
     "output_type": "execute_result"
    }
   ],
   "source": [
    "X.shape"
   ]
  },
  {
   "cell_type": "code",
   "execution_count": 6,
   "metadata": {
    "scrolled": true
   },
   "outputs": [
    {
     "data": {
      "text/html": [
       "<div>\n",
       "<style scoped>\n",
       "    .dataframe tbody tr th:only-of-type {\n",
       "        vertical-align: middle;\n",
       "    }\n",
       "\n",
       "    .dataframe tbody tr th {\n",
       "        vertical-align: top;\n",
       "    }\n",
       "\n",
       "    .dataframe thead th {\n",
       "        text-align: right;\n",
       "    }\n",
       "</style>\n",
       "<table border=\"1\" class=\"dataframe\">\n",
       "  <thead>\n",
       "    <tr style=\"text-align: right;\">\n",
       "      <th></th>\n",
       "      <th>NUM_GRAVEDAD</th>\n",
       "    </tr>\n",
       "  </thead>\n",
       "  <tbody>\n",
       "    <tr>\n",
       "      <th>0</th>\n",
       "      <td>1.0</td>\n",
       "    </tr>\n",
       "    <tr>\n",
       "      <th>1</th>\n",
       "      <td>1.0</td>\n",
       "    </tr>\n",
       "    <tr>\n",
       "      <th>2</th>\n",
       "      <td>2.0</td>\n",
       "    </tr>\n",
       "    <tr>\n",
       "      <th>3</th>\n",
       "      <td>2.0</td>\n",
       "    </tr>\n",
       "    <tr>\n",
       "      <th>4</th>\n",
       "      <td>2.0</td>\n",
       "    </tr>\n",
       "  </tbody>\n",
       "</table>\n",
       "</div>"
      ],
      "text/plain": [
       "   NUM_GRAVEDAD\n",
       "0           1.0\n",
       "1           1.0\n",
       "2           2.0\n",
       "3           2.0\n",
       "4           2.0"
      ]
     },
     "execution_count": 6,
     "metadata": {},
     "output_type": "execute_result"
    }
   ],
   "source": [
    "y = X.drop(X.columns[[0,1,2,3,4,5,6,7,8,9,11,12]], axis='columns')\n",
    "y.head(5)"
   ]
  },
  {
   "cell_type": "code",
   "execution_count": 7,
   "metadata": {
    "scrolled": false
   },
   "outputs": [
    {
     "name": "stdout",
     "output_type": "stream",
     "text": [
      "               X         Y  OBJECTID   RADICADO   DIA  PERIODO    CBML  \\\n",
      "0     -75.578357  6.213719  673380.0  1642888.0  20.0   2018.0  1507.0   \n",
      "1     -75.592022  6.279157  557526.0  1620950.0  21.0   2018.0   715.0   \n",
      "2     -75.595882  6.275555  674912.0  1640270.0  30.0   2018.0   717.0   \n",
      "3     -75.567284  6.248271  674286.0  1641770.0  10.0   2018.0  1019.0   \n",
      "4     -75.576195  6.213677  681701.0  1645768.0  12.0   2018.0  1419.0   \n",
      "...          ...       ...       ...        ...   ...      ...     ...   \n",
      "35467 -75.557681  6.263142  719236.0  1666784.0  10.0   2019.0   409.0   \n",
      "35468 -75.558421  6.232295  735811.0  1680406.0   1.0   2019.0   913.0   \n",
      "35469 -75.563815  6.301392  740535.0  1685787.0   5.0   2019.0   502.0   \n",
      "35470 -75.566617  6.243250  711309.0  1668093.0  23.0   2019.0  1013.0   \n",
      "35471 -75.559189  6.240963  720466.0  1668186.0  23.0   2019.0   907.0   \n",
      "\n",
      "       DIA_SEMANA  NUM_COMUNA  NUM_GRAVEDAD  NUM_DISENO  NUM_CLASE  \n",
      "0             4.0        15.0           1.0         1.0        1.0  \n",
      "1             3.0         7.0           1.0         1.0        2.0  \n",
      "2             4.0         7.0           2.0         2.0        1.0  \n",
      "3             1.0        10.0           2.0         2.0        1.0  \n",
      "4             5.0        14.0           2.0         1.0        1.0  \n",
      "...           ...         ...           ...         ...        ...  \n",
      "35467         3.0         4.0           1.0         1.0        4.0  \n",
      "35468         4.0         9.0           1.0         3.0        6.0  \n",
      "35469         4.0         5.0           1.0         1.0        1.0  \n",
      "35470         2.0        10.0           1.0         1.0        6.0  \n",
      "35471         2.0         9.0           1.0         2.0        1.0  \n",
      "\n",
      "[35472 rows x 12 columns]\n"
     ]
    }
   ],
   "source": [
    "X = X.drop(X.columns[[8]], axis='columns')\n",
    "print(X)"
   ]
  },
  {
   "cell_type": "code",
   "execution_count": 8,
   "metadata": {},
   "outputs": [],
   "source": [
    "from sklearn.model_selection import train_test_split\n",
    "\n",
    "X_train, X_test, y_train, y_test = train_test_split(X,y,test_size =0.4)"
   ]
  },
  {
   "cell_type": "code",
   "execution_count": 9,
   "metadata": {},
   "outputs": [
    {
     "name": "stdout",
     "output_type": "stream",
     "text": [
      "35472\n",
      "60 % de los datos es 21283\n",
      "40 % de los datos es 14189\n"
     ]
    }
   ],
   "source": [
    "print(len(X))\n",
    "print(f'60 % de los datos es {len(X_train)}')\n",
    "print(f'40 % de los datos es {len(X_test)}')"
   ]
  },
  {
   "cell_type": "code",
   "execution_count": 10,
   "metadata": {},
   "outputs": [
    {
     "data": {
      "text/html": [
       "<div>\n",
       "<style scoped>\n",
       "    .dataframe tbody tr th:only-of-type {\n",
       "        vertical-align: middle;\n",
       "    }\n",
       "\n",
       "    .dataframe tbody tr th {\n",
       "        vertical-align: top;\n",
       "    }\n",
       "\n",
       "    .dataframe thead th {\n",
       "        text-align: right;\n",
       "    }\n",
       "</style>\n",
       "<table border=\"1\" class=\"dataframe\">\n",
       "  <thead>\n",
       "    <tr style=\"text-align: right;\">\n",
       "      <th></th>\n",
       "      <th>X</th>\n",
       "      <th>Y</th>\n",
       "      <th>OBJECTID</th>\n",
       "      <th>RADICADO</th>\n",
       "      <th>DIA</th>\n",
       "      <th>PERIODO</th>\n",
       "      <th>CBML</th>\n",
       "      <th>DIA_SEMANA</th>\n",
       "      <th>NUM_COMUNA</th>\n",
       "      <th>NUM_GRAVEDAD</th>\n",
       "      <th>NUM_DISENO</th>\n",
       "      <th>NUM_CLASE</th>\n",
       "    </tr>\n",
       "  </thead>\n",
       "  <tbody>\n",
       "    <tr>\n",
       "      <th>0</th>\n",
       "      <td>-75.578357</td>\n",
       "      <td>6.213719</td>\n",
       "      <td>673380.0</td>\n",
       "      <td>1642888.0</td>\n",
       "      <td>20.0</td>\n",
       "      <td>2018.0</td>\n",
       "      <td>1507.0</td>\n",
       "      <td>4.0</td>\n",
       "      <td>15.0</td>\n",
       "      <td>1.0</td>\n",
       "      <td>1.0</td>\n",
       "      <td>1.0</td>\n",
       "    </tr>\n",
       "  </tbody>\n",
       "</table>\n",
       "</div>"
      ],
      "text/plain": [
       "           X         Y  OBJECTID   RADICADO   DIA  PERIODO    CBML  \\\n",
       "0 -75.578357  6.213719  673380.0  1642888.0  20.0   2018.0  1507.0   \n",
       "\n",
       "   DIA_SEMANA  NUM_COMUNA  NUM_GRAVEDAD  NUM_DISENO  NUM_CLASE  \n",
       "0         4.0        15.0           1.0         1.0        1.0  "
      ]
     },
     "execution_count": 10,
     "metadata": {},
     "output_type": "execute_result"
    }
   ],
   "source": [
    "X.head(1)"
   ]
  },
  {
   "cell_type": "markdown",
   "metadata": {},
   "source": [
    "# Regresion Lasso"
   ]
  },
  {
   "cell_type": "code",
   "execution_count": 11,
   "metadata": {},
   "outputs": [],
   "source": [
    "from sklearn.linear_model import Lasso\n",
    "\n",
    "model = Lasso()"
   ]
  },
  {
   "cell_type": "code",
   "execution_count": 12,
   "metadata": {},
   "outputs": [
    {
     "data": {
      "text/plain": [
       "Lasso(alpha=1.0, copy_X=True, fit_intercept=True, max_iter=1000,\n",
       "      normalize=False, positive=False, precompute=False, random_state=None,\n",
       "      selection='cyclic', tol=0.0001, warm_start=False)"
      ]
     },
     "execution_count": 12,
     "metadata": {},
     "output_type": "execute_result"
    }
   ],
   "source": [
    "model.fit(X_train, y_train)"
   ]
  },
  {
   "cell_type": "code",
   "execution_count": 13,
   "metadata": {},
   "outputs": [],
   "source": [
    "predicted = model.predict(X_test)"
   ]
  },
  {
   "cell_type": "code",
   "execution_count": 14,
   "metadata": {},
   "outputs": [
    {
     "data": {
      "text/plain": [
       "array([1.47458391, 1.47452072, 1.47526675, ..., 1.47540546, 1.47681524,\n",
       "       1.47386703])"
      ]
     },
     "execution_count": 14,
     "metadata": {},
     "output_type": "execute_result"
    }
   ],
   "source": [
    "predicted"
   ]
  },
  {
   "cell_type": "code",
   "execution_count": 15,
   "metadata": {},
   "outputs": [
    {
     "data": {
      "text/plain": [
       "(14189,)"
      ]
     },
     "execution_count": 15,
     "metadata": {},
     "output_type": "execute_result"
    }
   ],
   "source": [
    "predicted.shape"
   ]
  },
  {
   "cell_type": "markdown",
   "metadata": {},
   "source": [
    "# Distribucion geometrica"
   ]
  },
  {
   "cell_type": "code",
   "execution_count": 16,
   "metadata": {
    "scrolled": false
   },
   "outputs": [
    {
     "data": {
      "image/png": "[encoded data removed]",
      "text/plain": [
       "<Figure size 432x288 with 1 Axes>"
      ]
     },
     "metadata": {
      "needs_background": "light"
     },
     "output_type": "display_data"
    }
   ],
   "source": [
    "import matplotlib.pyplot as plt\n",
    "%matplotlib inline\n",
    "\n",
    "plt.hist([predicted]);\n"
   ]
  },
  {
   "cell_type": "markdown",
   "metadata": {},
   "source": [
    "La gravedad 1 y 2 son las mas concurrentes"
   ]
  },
  {
   "cell_type": "markdown",
   "metadata": {},
   "source": [
    "Debemos evaluar de forma más fina el comportamiento de nuestro modelo."
   ]
  },
  {
   "cell_type": "code",
   "execution_count": 17,
   "metadata": {},
   "outputs": [
    {
     "data": {
      "image/png": "[encoded data removed]",
      "text/plain": [
       "<Figure size 432x288 with 1 Axes>"
      ]
     },
     "metadata": {
      "needs_background": "light"
     },
     "output_type": "display_data"
    }
   ],
   "source": [
    "plt.hist([predicted], bins=90);"
   ]
  },
  {
   "cell_type": "markdown",
   "metadata": {},
   "source": [
    "# Evaluando de forma más fina el comportamiento de nuestro modelo"
   ]
  },
  {
   "cell_type": "markdown",
   "metadata": {},
   "source": [
    "El score r2 entre mas cercano al 1 es mejor, podemos entender su poder predictivo"
   ]
  },
  {
   "cell_type": "code",
   "execution_count": 18,
   "metadata": {},
   "outputs": [
    {
     "data": {
      "text/plain": [
       "-2.8510321617769563e-05"
      ]
     },
     "execution_count": 18,
     "metadata": {},
     "output_type": "execute_result"
    }
   ],
   "source": [
    "model.score(X_test, y_test)"
   ]
  },
  {
   "cell_type": "markdown",
   "metadata": {},
   "source": [
    "Muy bueno el Score para un primer modelo"
   ]
  },
  {
   "cell_type": "code",
   "execution_count": 19,
   "metadata": {},
   "outputs": [
    {
     "data": {
      "text/plain": [
       "(14189, 1)"
      ]
     },
     "execution_count": 19,
     "metadata": {},
     "output_type": "execute_result"
    }
   ],
   "source": [
    "y_test.shape"
   ]
  },
  {
   "cell_type": "code",
   "execution_count": 20,
   "metadata": {},
   "outputs": [],
   "source": [
    "predicted=predicted.reshape(14189,1)"
   ]
  },
  {
   "cell_type": "code",
   "execution_count": 21,
   "metadata": {},
   "outputs": [],
   "source": [
    "residuals = y_test - predicted"
   ]
  },
  {
   "cell_type": "code",
   "execution_count": 22,
   "metadata": {},
   "outputs": [
    {
     "data": {
      "text/plain": [
       "<matplotlib.collections.PathCollection at 0x29b75cc8640>"
      ]
     },
     "execution_count": 22,
     "metadata": {},
     "output_type": "execute_result"
    },
    {
     "data": {
      "image/png": "[encoded data removed]",
      "text/plain": [
       "<Figure size 432x288 with 1 Axes>"
      ]
     },
     "metadata": {
      "needs_background": "light"
     },
     "output_type": "display_data"
    }
   ],
   "source": [
    "plt.scatter(y_test,residuals)"
   ]
  },
  {
   "cell_type": "markdown",
   "metadata": {},
   "source": [
    "Errores porcentajes"
   ]
  },
  {
   "cell_type": "code",
   "execution_count": 23,
   "metadata": {},
   "outputs": [],
   "source": [
    "ap_residuals = np.abs(residuals)/ y_test"
   ]
  },
  {
   "cell_type": "code",
   "execution_count": 24,
   "metadata": {
    "scrolled": true
   },
   "outputs": [
    {
     "data": {
      "text/plain": [
       "<matplotlib.collections.PathCollection at 0x29b75d331c0>"
      ]
     },
     "execution_count": 24,
     "metadata": {},
     "output_type": "execute_result"
    },
    {
     "data": {
      "image/png": "[encoded data removed]",
      "text/plain": [
       "<Figure size 432x288 with 1 Axes>"
      ]
     },
     "metadata": {
      "needs_background": "light"
     },
     "output_type": "display_data"
    }
   ],
   "source": [
    "plt.scatter(y_test,ap_residuals)"
   ]
  },
  {
   "cell_type": "markdown",
   "metadata": {},
   "source": [
    "Aplicando una escala logaritmica"
   ]
  },
  {
   "cell_type": "code",
   "execution_count": 25,
   "metadata": {},
   "outputs": [
    {
     "data": {
      "text/html": [
       "<div>\n",
       "<style scoped>\n",
       "    .dataframe tbody tr th:only-of-type {\n",
       "        vertical-align: middle;\n",
       "    }\n",
       "\n",
       "    .dataframe tbody tr th {\n",
       "        vertical-align: top;\n",
       "    }\n",
       "\n",
       "    .dataframe thead th {\n",
       "        text-align: right;\n",
       "    }\n",
       "</style>\n",
       "<table border=\"1\" class=\"dataframe\">\n",
       "  <thead>\n",
       "    <tr style=\"text-align: right;\">\n",
       "      <th></th>\n",
       "      <th>NUM_GRAVEDAD</th>\n",
       "    </tr>\n",
       "  </thead>\n",
       "  <tbody>\n",
       "    <tr>\n",
       "      <th>11222</th>\n",
       "      <td>-0.745317</td>\n",
       "    </tr>\n",
       "    <tr>\n",
       "      <th>16518</th>\n",
       "      <td>-0.745450</td>\n",
       "    </tr>\n",
       "    <tr>\n",
       "      <th>25966</th>\n",
       "      <td>-0.743879</td>\n",
       "    </tr>\n",
       "    <tr>\n",
       "      <th>14878</th>\n",
       "      <td>-0.744060</td>\n",
       "    </tr>\n",
       "    <tr>\n",
       "      <th>4156</th>\n",
       "      <td>-0.746249</td>\n",
       "    </tr>\n",
       "    <tr>\n",
       "      <th>...</th>\n",
       "      <td>...</td>\n",
       "    </tr>\n",
       "    <tr>\n",
       "      <th>4850</th>\n",
       "      <td>-1.337364</td>\n",
       "    </tr>\n",
       "    <tr>\n",
       "      <th>30379</th>\n",
       "      <td>-0.740648</td>\n",
       "    </tr>\n",
       "    <tr>\n",
       "      <th>4898</th>\n",
       "      <td>-0.743587</td>\n",
       "    </tr>\n",
       "    <tr>\n",
       "      <th>23423</th>\n",
       "      <td>-1.340968</td>\n",
       "    </tr>\n",
       "    <tr>\n",
       "      <th>3172</th>\n",
       "      <td>-0.746829</td>\n",
       "    </tr>\n",
       "  </tbody>\n",
       "</table>\n",
       "<p>14189 rows × 1 columns</p>\n",
       "</div>"
      ],
      "text/plain": [
       "       NUM_GRAVEDAD\n",
       "11222     -0.745317\n",
       "16518     -0.745450\n",
       "25966     -0.743879\n",
       "14878     -0.744060\n",
       "4156      -0.746249\n",
       "...             ...\n",
       "4850      -1.337364\n",
       "30379     -0.740648\n",
       "4898      -0.743587\n",
       "23423     -1.340968\n",
       "3172      -0.746829\n",
       "\n",
       "[14189 rows x 1 columns]"
      ]
     },
     "execution_count": 25,
     "metadata": {},
     "output_type": "execute_result"
    }
   ],
   "source": [
    "lap_residuals = np.log(ap_residuals)\n",
    "lap_residuals"
   ]
  },
  {
   "cell_type": "code",
   "execution_count": 26,
   "metadata": {},
   "outputs": [
    {
     "data": {
      "text/plain": [
       "<matplotlib.collections.PathCollection at 0x29b75d91af0>"
      ]
     },
     "execution_count": 26,
     "metadata": {},
     "output_type": "execute_result"
    },
    {
     "data": {
      "image/png": "[encoded data removed]",
      "text/plain": [
       "<Figure size 432x288 with 1 Axes>"
      ]
     },
     "metadata": {
      "needs_background": "light"
     },
     "output_type": "display_data"
    }
   ],
   "source": [
    "plt.scatter(y_test,lap_residuals)"
   ]
  },
  {
   "cell_type": "code",
   "execution_count": null,
   "metadata": {},
   "outputs": [],
   "source": []
  }
 ],
 "metadata": {
  "kernelspec": {
   "display_name": "Python 3",
   "language": "python",
   "name": "python3"
  },
  "language_info": {
   "codemirror_mode": {
    "name": "ipython",
    "version": 3
   },
   "file_extension": ".py",
   "mimetype": "text/x-python",
   "name": "python",
   "nbconvert_exporter": "python",
   "pygments_lexer": "ipython3",
   "version": "3.8.1"
  }
 },
 "nbformat": 4,
 "nbformat_minor": 4
}
