{
 "cells": [
  {
   "cell_type": "code",
   "execution_count": 1,
   "metadata": {},
   "outputs": [],
   "source": [
    "import warnings\n",
    "warnings.simplefilter(\"ignore\")"
   ]
  },
  {
   "cell_type": "code",
   "execution_count": 2,
   "metadata": {},
   "outputs": [],
   "source": [
    "%matplotlib inline\n",
    "import numpy as np\n",
    "import pandas as pd\n",
    "import matplotlib.pyplot as plt"
   ]
  },
  {
   "cell_type": "code",
   "execution_count": 3,
   "metadata": {},
   "outputs": [],
   "source": [
    "X = pd.read_csv(\"C:/Users/sergi/modalidad/Dataset/X.csv\")\n",
    "y = X['DIA']\n",
    "X = X.drop('DIA',axis = 1)"
   ]
  },
  {
   "cell_type": "code",
   "execution_count": 4,
   "metadata": {},
   "outputs": [
    {
     "data": {
      "text/plain": [
       "Index(['X', 'Y', 'OBJECTID', 'RADICADO', 'DIA_NUMERO', 'PERIODO', 'CBML',\n",
       "       'MES', 'NUM_COMUNA'],\n",
       "      dtype='object')"
      ]
     },
     "execution_count": 4,
     "metadata": {},
     "output_type": "execute_result"
    }
   ],
   "source": [
    "X.columns"
   ]
  },
  {
   "cell_type": "code",
   "execution_count": 5,
   "metadata": {},
   "outputs": [],
   "source": [
    "from sklearn.model_selection import train_test_split\n",
    "\n",
    "X_train, X_test, y_train, y_test =train_test_split(X,y, random_state=1)"
   ]
  },
  {
   "cell_type": "code",
   "execution_count": 6,
   "metadata": {},
   "outputs": [
    {
     "data": {
      "text/html": [
       "<div>\n",
       "<style scoped>\n",
       "    .dataframe tbody tr th:only-of-type {\n",
       "        vertical-align: middle;\n",
       "    }\n",
       "\n",
       "    .dataframe tbody tr th {\n",
       "        vertical-align: top;\n",
       "    }\n",
       "\n",
       "    .dataframe thead th {\n",
       "        text-align: right;\n",
       "    }\n",
       "</style>\n",
       "<table border=\"1\" class=\"dataframe\">\n",
       "  <thead>\n",
       "    <tr style=\"text-align: right;\">\n",
       "      <th></th>\n",
       "      <th>X</th>\n",
       "      <th>Y</th>\n",
       "      <th>OBJECTID</th>\n",
       "      <th>RADICADO</th>\n",
       "      <th>DIA_NUMERO</th>\n",
       "      <th>PERIODO</th>\n",
       "      <th>CBML</th>\n",
       "      <th>MES</th>\n",
       "      <th>NUM_COMUNA</th>\n",
       "    </tr>\n",
       "  </thead>\n",
       "  <tbody>\n",
       "    <tr>\n",
       "      <th>4324</th>\n",
       "      <td>-75.579996</td>\n",
       "      <td>6.285553</td>\n",
       "      <td>716504.0</td>\n",
       "      <td>1656413.0</td>\n",
       "      <td>4.0</td>\n",
       "      <td>2019.0</td>\n",
       "      <td>514.0</td>\n",
       "      <td>1.0</td>\n",
       "      <td>5.0</td>\n",
       "    </tr>\n",
       "    <tr>\n",
       "      <th>18719</th>\n",
       "      <td>-75.566349</td>\n",
       "      <td>6.269555</td>\n",
       "      <td>731267.0</td>\n",
       "      <td>1687365.0</td>\n",
       "      <td>2.0</td>\n",
       "      <td>2019.0</td>\n",
       "      <td>417.0</td>\n",
       "      <td>9.0</td>\n",
       "      <td>4.0</td>\n",
       "    </tr>\n",
       "    <tr>\n",
       "      <th>8669</th>\n",
       "      <td>-75.572973</td>\n",
       "      <td>6.256310</td>\n",
       "      <td>721171.0</td>\n",
       "      <td>1671026.0</td>\n",
       "      <td>4.0</td>\n",
       "      <td>2019.0</td>\n",
       "      <td>1006.0</td>\n",
       "      <td>5.0</td>\n",
       "      <td>10.0</td>\n",
       "    </tr>\n",
       "    <tr>\n",
       "      <th>2316</th>\n",
       "      <td>-75.567062</td>\n",
       "      <td>6.291756</td>\n",
       "      <td>714302.0</td>\n",
       "      <td>1656232.0</td>\n",
       "      <td>3.0</td>\n",
       "      <td>2019.0</td>\n",
       "      <td>510.0</td>\n",
       "      <td>1.0</td>\n",
       "      <td>5.0</td>\n",
       "    </tr>\n",
       "    <tr>\n",
       "      <th>940</th>\n",
       "      <td>-75.558637</td>\n",
       "      <td>6.263287</td>\n",
       "      <td>712817.0</td>\n",
       "      <td>1675732.0</td>\n",
       "      <td>6.0</td>\n",
       "      <td>2019.0</td>\n",
       "      <td>409.0</td>\n",
       "      <td>6.0</td>\n",
       "      <td>4.0</td>\n",
       "    </tr>\n",
       "  </tbody>\n",
       "</table>\n",
       "</div>"
      ],
      "text/plain": [
       "               X         Y  OBJECTID   RADICADO  DIA_NUMERO  PERIODO    CBML  \\\n",
       "4324  -75.579996  6.285553  716504.0  1656413.0         4.0   2019.0   514.0   \n",
       "18719 -75.566349  6.269555  731267.0  1687365.0         2.0   2019.0   417.0   \n",
       "8669  -75.572973  6.256310  721171.0  1671026.0         4.0   2019.0  1006.0   \n",
       "2316  -75.567062  6.291756  714302.0  1656232.0         3.0   2019.0   510.0   \n",
       "940   -75.558637  6.263287  712817.0  1675732.0         6.0   2019.0   409.0   \n",
       "\n",
       "       MES  NUM_COMUNA  \n",
       "4324   1.0         5.0  \n",
       "18719  9.0         4.0  \n",
       "8669   5.0        10.0  \n",
       "2316   1.0         5.0  \n",
       "940    6.0         4.0  "
      ]
     },
     "execution_count": 6,
     "metadata": {},
     "output_type": "execute_result"
    }
   ],
   "source": [
    "X_train.head()"
   ]
  },
  {
   "cell_type": "code",
   "execution_count": 7,
   "metadata": {},
   "outputs": [
    {
     "data": {
      "text/html": [
       "<div>\n",
       "<style scoped>\n",
       "    .dataframe tbody tr th:only-of-type {\n",
       "        vertical-align: middle;\n",
       "    }\n",
       "\n",
       "    .dataframe tbody tr th {\n",
       "        vertical-align: top;\n",
       "    }\n",
       "\n",
       "    .dataframe thead th {\n",
       "        text-align: right;\n",
       "    }\n",
       "</style>\n",
       "<table border=\"1\" class=\"dataframe\">\n",
       "  <thead>\n",
       "    <tr style=\"text-align: right;\">\n",
       "      <th></th>\n",
       "      <th>X</th>\n",
       "      <th>Y</th>\n",
       "      <th>OBJECTID</th>\n",
       "      <th>RADICADO</th>\n",
       "      <th>DIA_NUMERO</th>\n",
       "      <th>PERIODO</th>\n",
       "      <th>CBML</th>\n",
       "      <th>MES</th>\n",
       "      <th>NUM_COMUNA</th>\n",
       "    </tr>\n",
       "  </thead>\n",
       "  <tbody>\n",
       "    <tr>\n",
       "      <th>4324</th>\n",
       "      <td>-75.579996</td>\n",
       "      <td>6.285553</td>\n",
       "      <td>716504.0</td>\n",
       "      <td>1656413.0</td>\n",
       "      <td>4.0</td>\n",
       "      <td>2019.0</td>\n",
       "      <td>514.0</td>\n",
       "      <td>1.0</td>\n",
       "      <td>5.0</td>\n",
       "    </tr>\n",
       "    <tr>\n",
       "      <th>18719</th>\n",
       "      <td>-75.566349</td>\n",
       "      <td>6.269555</td>\n",
       "      <td>731267.0</td>\n",
       "      <td>1687365.0</td>\n",
       "      <td>2.0</td>\n",
       "      <td>2019.0</td>\n",
       "      <td>417.0</td>\n",
       "      <td>9.0</td>\n",
       "      <td>4.0</td>\n",
       "    </tr>\n",
       "    <tr>\n",
       "      <th>8669</th>\n",
       "      <td>-75.572973</td>\n",
       "      <td>6.256310</td>\n",
       "      <td>721171.0</td>\n",
       "      <td>1671026.0</td>\n",
       "      <td>4.0</td>\n",
       "      <td>2019.0</td>\n",
       "      <td>1006.0</td>\n",
       "      <td>5.0</td>\n",
       "      <td>10.0</td>\n",
       "    </tr>\n",
       "    <tr>\n",
       "      <th>2316</th>\n",
       "      <td>-75.567062</td>\n",
       "      <td>6.291756</td>\n",
       "      <td>714302.0</td>\n",
       "      <td>1656232.0</td>\n",
       "      <td>3.0</td>\n",
       "      <td>2019.0</td>\n",
       "      <td>510.0</td>\n",
       "      <td>1.0</td>\n",
       "      <td>5.0</td>\n",
       "    </tr>\n",
       "    <tr>\n",
       "      <th>940</th>\n",
       "      <td>-75.558637</td>\n",
       "      <td>6.263287</td>\n",
       "      <td>712817.0</td>\n",
       "      <td>1675732.0</td>\n",
       "      <td>6.0</td>\n",
       "      <td>2019.0</td>\n",
       "      <td>409.0</td>\n",
       "      <td>6.0</td>\n",
       "      <td>4.0</td>\n",
       "    </tr>\n",
       "  </tbody>\n",
       "</table>\n",
       "</div>"
      ],
      "text/plain": [
       "               X         Y  OBJECTID   RADICADO  DIA_NUMERO  PERIODO    CBML  \\\n",
       "4324  -75.579996  6.285553  716504.0  1656413.0         4.0   2019.0   514.0   \n",
       "18719 -75.566349  6.269555  731267.0  1687365.0         2.0   2019.0   417.0   \n",
       "8669  -75.572973  6.256310  721171.0  1671026.0         4.0   2019.0  1006.0   \n",
       "2316  -75.567062  6.291756  714302.0  1656232.0         3.0   2019.0   510.0   \n",
       "940   -75.558637  6.263287  712817.0  1675732.0         6.0   2019.0   409.0   \n",
       "\n",
       "       MES  NUM_COMUNA  \n",
       "4324   1.0         5.0  \n",
       "18719  9.0         4.0  \n",
       "8669   5.0        10.0  \n",
       "2316   1.0         5.0  \n",
       "940    6.0         4.0  "
      ]
     },
     "execution_count": 7,
     "metadata": {},
     "output_type": "execute_result"
    }
   ],
   "source": [
    "X_train.head()"
   ]
  },
  {
   "cell_type": "markdown",
   "metadata": {},
   "source": [
    "# Cross Validation"
   ]
  },
  {
   "cell_type": "code",
   "execution_count": 8,
   "metadata": {},
   "outputs": [
    {
     "data": {
      "text/plain": [
       "array([0.69820346, 0.70057871, 0.69131256, 0.70162256, 0.7225998 ])"
      ]
     },
     "execution_count": 8,
     "metadata": {},
     "output_type": "execute_result"
    }
   ],
   "source": [
    "from sklearn.model_selection import cross_val_score\n",
    "from sklearn.linear_model import Lasso\n",
    "\n",
    "scores = cross_val_score(Lasso(),X,y, cv=5, scoring='r2')\n",
    "scores"
   ]
  },
  {
   "cell_type": "code",
   "execution_count": 9,
   "metadata": {},
   "outputs": [
    {
     "data": {
      "text/plain": [
       "0.7028634183641895"
      ]
     },
     "execution_count": 9,
     "metadata": {},
     "output_type": "execute_result"
    }
   ],
   "source": [
    "scores.mean()"
   ]
  },
  {
   "cell_type": "code",
   "execution_count": 10,
   "metadata": {},
   "outputs": [
    {
     "data": {
      "text/plain": [
       "0.707926679815436"
      ]
     },
     "execution_count": 10,
     "metadata": {},
     "output_type": "execute_result"
    }
   ],
   "source": [
    "Lasso().fit(X_train,y_train).score(X_test,y_test)"
   ]
  },
  {
   "cell_type": "markdown",
   "metadata": {},
   "source": [
    "# Seleccion de modelos"
   ]
  },
  {
   "cell_type": "code",
   "execution_count": 11,
   "metadata": {},
   "outputs": [
    {
     "name": "stdout",
     "output_type": "stream",
     "text": [
      "Requirement already up-to-date: scikit-learn in c:\\users\\sergi\\anaconda3\\envs\\machine-learning\\lib\\site-packages (0.22.2.post1)\n",
      "Requirement already satisfied, skipping upgrade: numpy>=1.11.0 in c:\\users\\sergi\\anaconda3\\envs\\machine-learning\\lib\\site-packages (from scikit-learn) (1.18.1)\n",
      "Requirement already satisfied, skipping upgrade: scipy>=0.17.0 in c:\\users\\sergi\\anaconda3\\envs\\machine-learning\\lib\\site-packages (from scikit-learn) (1.3.2)\n",
      "Requirement already satisfied, skipping upgrade: joblib>=0.11 in c:\\users\\sergi\\anaconda3\\envs\\machine-learning\\lib\\site-packages (from scikit-learn) (0.14.1)\n"
     ]
    }
   ],
   "source": [
    "!pip install --upgrade scikit-learn"
   ]
  },
  {
   "cell_type": "code",
   "execution_count": 12,
   "metadata": {},
   "outputs": [
    {
     "data": {
      "text/plain": [
       "{'fit_time': array([0.17001367, 0.18101501, 0.17001367, 0.16401386, 0.15201116]),\n",
       " 'score_time': array([0.00199795, 0.00200057, 0.00099945, 0.0009985 , 0.00199986]),\n",
       " 'test_score': array([0.69820346, 0.70057871, 0.69131256, 0.70162256, 0.7225998 ]),\n",
       " 'train_score': array([0.70659448, 0.70541018, 0.70857781, 0.72149161, 0.71850024])}"
      ]
     },
     "execution_count": 12,
     "metadata": {},
     "output_type": "execute_result"
    }
   ],
   "source": [
    "from sklearn.model_selection import cross_validate\n",
    "\n",
    "results = cross_validate(Lasso(),X,y,return_train_score=True, cv=5)\n",
    "results"
   ]
  },
  {
   "cell_type": "code",
   "execution_count": 13,
   "metadata": {},
   "outputs": [
    {
     "name": "stdout",
     "output_type": "stream",
     "text": [
      "0.7121148641300117\n",
      "0.7028634183641895\n"
     ]
    }
   ],
   "source": [
    "test_scores = results['test_score']\n",
    "train_scores = results['train_score']\n",
    "print(np.mean(train_scores))\n",
    "print(np.mean(test_scores))"
   ]
  },
  {
   "cell_type": "markdown",
   "metadata": {},
   "source": [
    "El score de 0.71 no es malo, pero tampoco es muy bueno.\n",
    "nuestro modelo no esta encajando tambien a los datos"
   ]
  },
  {
   "cell_type": "markdown",
   "metadata": {},
   "source": [
    "# Validation Curves y Learning Curves"
   ]
  },
  {
   "cell_type": "markdown",
   "metadata": {},
   "source": [
    "Vecino mas cercano"
   ]
  },
  {
   "cell_type": "code",
   "execution_count": 14,
   "metadata": {},
   "outputs": [
    {
     "data": {
      "text/plain": [
       "{'fit_time': array([0.08451009, 0.08700562, 0.09400725, 0.09200573, 0.09500623]),\n",
       " 'score_time': array([0.11500859, 0.12401938, 0.12601781, 0.12700915, 0.12401056]),\n",
       " 'test_score': array([0.67143349, 0.62748271, 0.41362742, 0.71202378, 0.75905147])}"
      ]
     },
     "execution_count": 14,
     "metadata": {},
     "output_type": "execute_result"
    }
   ],
   "source": [
    "from sklearn.neighbors import KNeighborsRegressor\n",
    "\n",
    "cross_validate(KNeighborsRegressor(),X,y,cv=5)"
   ]
  },
  {
   "cell_type": "code",
   "execution_count": 15,
   "metadata": {},
   "outputs": [
    {
     "data": {
      "text/plain": [
       "{'fit_time': array([0.0870049 , 0.09000397, 0.09400845, 0.09300685, 0.08700538]),\n",
       " 'score_time': array([0.143013  , 0.15201139, 0.1520102 , 0.13501072, 0.13901138]),\n",
       " 'test_score': array([0.63940318, 0.62169246, 0.42528498, 0.70755358, 0.75422049])}"
      ]
     },
     "execution_count": 15,
     "metadata": {},
     "output_type": "execute_result"
    }
   ],
   "source": [
    "cross_validate(KNeighborsRegressor(n_neighbors=10),X,y,cv=5)"
   ]
  },
  {
   "cell_type": "code",
   "execution_count": 16,
   "metadata": {},
   "outputs": [
    {
     "data": {
      "text/plain": [
       "array([ 2,  4,  6,  8, 10, 12, 14, 16, 18, 20, 22, 24, 26, 28, 30, 32, 34,\n",
       "       36, 38, 40, 42, 44, 46, 48])"
      ]
     },
     "execution_count": 16,
     "metadata": {},
     "output_type": "execute_result"
    }
   ],
   "source": [
    "n = np.arange(2,50,2)\n",
    "n"
   ]
  },
  {
   "cell_type": "code",
   "execution_count": 17,
   "metadata": {},
   "outputs": [],
   "source": [
    "from sklearn.model_selection import validation_curve\n",
    "\n",
    "train_scores, test_scores = validation_curve(KNeighborsRegressor(),\n",
    "                                            X,\n",
    "                                            y,\n",
    "                                            param_name='n_neighbors',\n",
    "                                            param_range=n,\n",
    "                                            cv=5)"
   ]
  },
  {
   "cell_type": "code",
   "execution_count": 18,
   "metadata": {},
   "outputs": [
    {
     "data": {
      "text/plain": [
       "array([0.92322258, 0.87952667, 0.85625601, 0.84289334, 0.83277421,\n",
       "       0.8237046 , 0.81559715, 0.80896328, 0.80289473, 0.79721837,\n",
       "       0.79231754, 0.7873562 , 0.78275338, 0.77744659, 0.77288736,\n",
       "       0.76892086, 0.76474613, 0.76080429, 0.7569838 , 0.7530532 ,\n",
       "       0.74924327, 0.74515293, 0.74127155, 0.73761754])"
      ]
     },
     "execution_count": 18,
     "metadata": {},
     "output_type": "execute_result"
    }
   ],
   "source": [
    "np.mean(train_scores, axis=1)"
   ]
  },
  {
   "cell_type": "code",
   "execution_count": 19,
   "metadata": {
    "scrolled": true
   },
   "outputs": [
    {
     "data": {
      "text/plain": [
       "([<matplotlib.axis.XTick at 0x1ae8f43a760>,\n",
       "  <matplotlib.axis.XTick at 0x1ae8f43a6a0>,\n",
       "  <matplotlib.axis.XTick at 0x1ae8cdf5d60>,\n",
       "  <matplotlib.axis.XTick at 0x1ae8f630c40>,\n",
       "  <matplotlib.axis.XTick at 0x1ae8f630e20>,\n",
       "  <matplotlib.axis.XTick at 0x1ae8f630c70>,\n",
       "  <matplotlib.axis.XTick at 0x1ae8f62e130>,\n",
       "  <matplotlib.axis.XTick at 0x1ae8f62eac0>,\n",
       "  <matplotlib.axis.XTick at 0x1ae8f48a0a0>,\n",
       "  <matplotlib.axis.XTick at 0x1ae8f48a640>,\n",
       "  <matplotlib.axis.XTick at 0x1ae8f48abe0>,\n",
       "  <matplotlib.axis.XTick at 0x1ae8f6309a0>,\n",
       "  <matplotlib.axis.XTick at 0x1ae8f48ac70>,\n",
       "  <matplotlib.axis.XTick at 0x1ae8f48af40>,\n",
       "  <matplotlib.axis.XTick at 0x1ae8f492520>,\n",
       "  <matplotlib.axis.XTick at 0x1ae8f492ac0>,\n",
       "  <matplotlib.axis.XTick at 0x1ae8f4960a0>,\n",
       "  <matplotlib.axis.XTick at 0x1ae8f496640>,\n",
       "  <matplotlib.axis.XTick at 0x1ae8f496be0>,\n",
       "  <matplotlib.axis.XTick at 0x1ae8f49b1c0>,\n",
       "  <matplotlib.axis.XTick at 0x1ae8f4966a0>,\n",
       "  <matplotlib.axis.XTick at 0x1ae8f4920d0>,\n",
       "  <matplotlib.axis.XTick at 0x1ae8f62ecd0>,\n",
       "  <matplotlib.axis.XTick at 0x1ae8f49b9a0>],\n",
       " <a list of 24 Text xticklabel objects>)"
      ]
     },
     "execution_count": 19,
     "metadata": {},
     "output_type": "execute_result"
    },
    {
     "data": {
      "image/png": "[encoded data removed]",
      "text/plain": [
       "<Figure size 432x288 with 1 Axes>"
      ]
     },
     "metadata": {
      "needs_background": "light"
     },
     "output_type": "display_data"
    }
   ],
   "source": [
    "plt.plot(np.mean(train_scores, axis=1))\n",
    "plt.plot(np.mean(test_scores, axis=1))\n",
    "plt.xticks(np.arange(24),n)"
   ]
  },
  {
   "cell_type": "markdown",
   "metadata": {},
   "source": [
    "El mejor parametro que se puede elijir es 7 vecinos"
   ]
  },
  {
   "cell_type": "markdown",
   "metadata": {},
   "source": [
    "# Curva de aprendizaje"
   ]
  },
  {
   "cell_type": "code",
   "execution_count": 20,
   "metadata": {},
   "outputs": [],
   "source": [
    "from sklearn.model_selection import learning_curve\n",
    "\n",
    "lc = learning_curve(KNeighborsRegressor(n_neighbors=7),X,y, cv=5)\n",
    "\n",
    "samples, train, test = lc[0],lc[1],lc[2] "
   ]
  },
  {
   "cell_type": "code",
   "execution_count": 21,
   "metadata": {},
   "outputs": [
    {
     "data": {
      "text/plain": [
       "[<matplotlib.lines.Line2D at 0x1ae8f630af0>]"
      ]
     },
     "execution_count": 21,
     "metadata": {},
     "output_type": "execute_result"
    },
    {
     "data": {
      "image/png": "[encoded data removed]",
      "text/plain": [
       "<Figure size 432x288 with 1 Axes>"
      ]
     },
     "metadata": {
      "needs_background": "light"
     },
     "output_type": "display_data"
    }
   ],
   "source": [
    "plt.plot(samples[1:],np.mean(train,axis=1)[1:])\n",
    "plt.plot(samples[1:],np.mean(test,axis=1)[1:])\n"
   ]
  },
  {
   "cell_type": "markdown",
   "metadata": {},
   "source": [
    "El modelo KNeighbors esta aprendiendo va creciendo pero a un no a terminado de aprender"
   ]
  },
  {
   "cell_type": "markdown",
   "metadata": {},
   "source": [
    "para que termine de aprender debemos agregarle mas datos"
   ]
  },
  {
   "cell_type": "markdown",
   "metadata": {},
   "source": [
    "Aprender: Cuando mejora el score en función de la cantidad de datos"
   ]
  },
  {
   "cell_type": "code",
   "execution_count": null,
   "metadata": {},
   "outputs": [],
   "source": []
  }
 ],
 "metadata": {
  "kernelspec": {
   "display_name": "Python 3",
   "language": "python",
   "name": "python3"
  },
  "language_info": {
   "codemirror_mode": {
    "name": "ipython",
    "version": 3
   },
   "file_extension": ".py",
   "mimetype": "text/x-python",
   "name": "python",
   "nbconvert_exporter": "python",
   "pygments_lexer": "ipython3",
   "version": "3.8.1"
  }
 },
 "nbformat": 4,
 "nbformat_minor": 4
}
