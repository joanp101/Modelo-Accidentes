{
  "nbformat": 4,
  "nbformat_minor": 0,
  "metadata": {
    "kernelspec": {
      "name": "python3",
      "display_name": "Python 3"
    },
    "language_info": {
      "codemirror_mode": {
        "name": "ipython",
        "version": 3
      },
      "file_extension": ".py",
      "mimetype": "text/x-python",
      "name": "python",
      "nbconvert_exporter": "python",
      "pygments_lexer": "ipython3",
      "version": "3.8.1"
    },
    "colab": {
      "name": "Cross Validation (5).ipynb",
      "provenance": [],
      "toc_visible": true
    },
    "accelerator": "GPU"
  },
  "cells": [
    {
      "cell_type": "code",
      "metadata": {
        "id": "FZbq_jvqbbh5",
        "colab_type": "code",
        "colab": {}
      },
      "source": [
        "import warnings\n",
        "warnings.simplefilter(\"ignore\")"
      ],
      "execution_count": 0,
      "outputs": []
    },
    {
      "cell_type": "code",
      "metadata": {
        "id": "8SO_6fuebbiA",
        "colab_type": "code",
        "colab": {}
      },
      "source": [
        "%matplotlib inline\n",
        "import numpy as np\n",
        "import pandas as pd\n",
        "import matplotlib.pyplot as plt"
      ],
      "execution_count": 0,
      "outputs": []
    },
    {
      "cell_type": "code",
      "metadata": {
        "id": "G3GPtUFubbiE",
        "colab_type": "code",
        "colab": {}
      },
      "source": [
        "X = pd.read_csv(\"X.csv\")\n",
        "y = X['NUM_GRAVEDAD']\n",
        "X = X.drop('NUM_GRAVEDAD',axis = 1)"
      ],
      "execution_count": 0,
      "outputs": []
    },
    {
      "cell_type": "code",
      "metadata": {
        "id": "XhxO5eejbbiH",
        "colab_type": "code",
        "colab": {
          "base_uri": "https://localhost:8080/",
          "height": 68
        },
        "outputId": "d029b96c-7640-43fe-feff-7633f4a41e7d"
      },
      "source": [
        "X.columns"
      ],
      "execution_count": 4,
      "outputs": [
        {
          "output_type": "execute_result",
          "data": {
            "text/plain": [
              "Index(['X', 'Y', 'OBJECTID', 'RADICADO', 'DIA', 'PERIODO', 'CBML',\n",
              "       'DIA_SEMANA', 'MES', 'NUM_COMUNA', 'NUM_DISENO', 'NUM_CLASE'],\n",
              "      dtype='object')"
            ]
          },
          "metadata": {
            "tags": []
          },
          "execution_count": 4
        }
      ]
    },
    {
      "cell_type": "code",
      "metadata": {
        "id": "EK8rZQtNbbiL",
        "colab_type": "code",
        "colab": {}
      },
      "source": [
        "from sklearn.model_selection import train_test_split\n",
        "\n",
        "X_train, X_test, y_train, y_test =train_test_split(X,y, random_state=1)"
      ],
      "execution_count": 0,
      "outputs": []
    },
    {
      "cell_type": "code",
      "metadata": {
        "id": "bBy9K_i2bbiO",
        "colab_type": "code",
        "colab": {
          "base_uri": "https://localhost:8080/",
          "height": 204
        },
        "outputId": "df2169ce-d6d1-4ad9-879b-116020c6896a"
      },
      "source": [
        "X_train.head()"
      ],
      "execution_count": 6,
      "outputs": [
        {
          "output_type": "execute_result",
          "data": {
            "text/html": [
              "<div>\n",
              "<style scoped>\n",
              "    .dataframe tbody tr th:only-of-type {\n",
              "        vertical-align: middle;\n",
              "    }\n",
              "\n",
              "    .dataframe tbody tr th {\n",
              "        vertical-align: top;\n",
              "    }\n",
              "\n",
              "    .dataframe thead th {\n",
              "        text-align: right;\n",
              "    }\n",
              "</style>\n",
              "<table border=\"1\" class=\"dataframe\">\n",
              "  <thead>\n",
              "    <tr style=\"text-align: right;\">\n",
              "      <th></th>\n",
              "      <th>X</th>\n",
              "      <th>Y</th>\n",
              "      <th>OBJECTID</th>\n",
              "      <th>RADICADO</th>\n",
              "      <th>DIA</th>\n",
              "      <th>PERIODO</th>\n",
              "      <th>CBML</th>\n",
              "      <th>DIA_SEMANA</th>\n",
              "      <th>MES</th>\n",
              "      <th>NUM_COMUNA</th>\n",
              "      <th>NUM_DISENO</th>\n",
              "      <th>NUM_CLASE</th>\n",
              "    </tr>\n",
              "  </thead>\n",
              "  <tbody>\n",
              "    <tr>\n",
              "      <th>23596</th>\n",
              "      <td>-75.555822</td>\n",
              "      <td>6.238784</td>\n",
              "      <td>725339.0</td>\n",
              "      <td>1668985.0</td>\n",
              "      <td>29.0</td>\n",
              "      <td>2019.0</td>\n",
              "      <td>907.0</td>\n",
              "      <td>1.0</td>\n",
              "      <td>4.0</td>\n",
              "      <td>9.0</td>\n",
              "      <td>1.0</td>\n",
              "      <td>1.0</td>\n",
              "    </tr>\n",
              "    <tr>\n",
              "      <th>7410</th>\n",
              "      <td>-75.588506</td>\n",
              "      <td>6.200947</td>\n",
              "      <td>683117.0</td>\n",
              "      <td>1654360.0</td>\n",
              "      <td>20.0</td>\n",
              "      <td>2018.0</td>\n",
              "      <td>1510.0</td>\n",
              "      <td>4.0</td>\n",
              "      <td>12.0</td>\n",
              "      <td>15.0</td>\n",
              "      <td>1.0</td>\n",
              "      <td>1.0</td>\n",
              "    </tr>\n",
              "    <tr>\n",
              "      <th>18792</th>\n",
              "      <td>-75.566349</td>\n",
              "      <td>6.269555</td>\n",
              "      <td>664695.0</td>\n",
              "      <td>1630713.0</td>\n",
              "      <td>11.0</td>\n",
              "      <td>2018.0</td>\n",
              "      <td>417.0</td>\n",
              "      <td>1.0</td>\n",
              "      <td>6.0</td>\n",
              "      <td>4.0</td>\n",
              "      <td>1.0</td>\n",
              "      <td>1.0</td>\n",
              "    </tr>\n",
              "    <tr>\n",
              "      <th>14174</th>\n",
              "      <td>-75.585019</td>\n",
              "      <td>6.198451</td>\n",
              "      <td>671737.0</td>\n",
              "      <td>1644637.0</td>\n",
              "      <td>3.0</td>\n",
              "      <td>2018.0</td>\n",
              "      <td>1510.0</td>\n",
              "      <td>3.0</td>\n",
              "      <td>10.0</td>\n",
              "      <td>15.0</td>\n",
              "      <td>2.0</td>\n",
              "      <td>1.0</td>\n",
              "    </tr>\n",
              "    <tr>\n",
              "      <th>22001</th>\n",
              "      <td>-75.554974</td>\n",
              "      <td>6.290521</td>\n",
              "      <td>714078.0</td>\n",
              "      <td>1667588.0</td>\n",
              "      <td>16.0</td>\n",
              "      <td>2019.0</td>\n",
              "      <td>209.0</td>\n",
              "      <td>2.0</td>\n",
              "      <td>4.0</td>\n",
              "      <td>2.0</td>\n",
              "      <td>2.0</td>\n",
              "      <td>1.0</td>\n",
              "    </tr>\n",
              "  </tbody>\n",
              "</table>\n",
              "</div>"
            ],
            "text/plain": [
              "               X         Y  OBJECTID  ...  NUM_COMUNA  NUM_DISENO  NUM_CLASE\n",
              "23596 -75.555822  6.238784  725339.0  ...         9.0         1.0        1.0\n",
              "7410  -75.588506  6.200947  683117.0  ...        15.0         1.0        1.0\n",
              "18792 -75.566349  6.269555  664695.0  ...         4.0         1.0        1.0\n",
              "14174 -75.585019  6.198451  671737.0  ...        15.0         2.0        1.0\n",
              "22001 -75.554974  6.290521  714078.0  ...         2.0         2.0        1.0\n",
              "\n",
              "[5 rows x 12 columns]"
            ]
          },
          "metadata": {
            "tags": []
          },
          "execution_count": 6
        }
      ]
    },
    {
      "cell_type": "markdown",
      "metadata": {
        "id": "1jZC6tUHbbiS",
        "colab_type": "text"
      },
      "source": [
        "# Cross Validation"
      ]
    },
    {
      "cell_type": "code",
      "metadata": {
        "id": "NOyjRXvabbiT",
        "colab_type": "code",
        "colab": {
          "base_uri": "https://localhost:8080/",
          "height": 51
        },
        "outputId": "484dcd9f-bbee-453e-8d4a-910e47c7f9ff"
      },
      "source": [
        "from sklearn.model_selection import cross_val_score\n",
        "from sklearn.linear_model import Lasso\n",
        "\n",
        "scores = cross_val_score(Lasso(),X,y, cv=5, scoring='r2')\n",
        "scores"
      ],
      "execution_count": 7,
      "outputs": [
        {
          "output_type": "execute_result",
          "data": {
            "text/plain": [
              "array([-3.73956449e-04, -2.41881221e-04, -2.00366580e-04, -9.51513775e-04,\n",
              "       -8.94989886e-05])"
            ]
          },
          "metadata": {
            "tags": []
          },
          "execution_count": 7
        }
      ]
    },
    {
      "cell_type": "code",
      "metadata": {
        "id": "tznOzbX1bbiY",
        "colab_type": "code",
        "colab": {
          "base_uri": "https://localhost:8080/",
          "height": 34
        },
        "outputId": "49abf46f-181e-429f-b1f6-8f85d5c1a01b"
      },
      "source": [
        "scores.mean()"
      ],
      "execution_count": 8,
      "outputs": [
        {
          "output_type": "execute_result",
          "data": {
            "text/plain": [
              "-0.0003714434028563307"
            ]
          },
          "metadata": {
            "tags": []
          },
          "execution_count": 8
        }
      ]
    },
    {
      "cell_type": "code",
      "metadata": {
        "id": "PLLn8IO0bbic",
        "colab_type": "code",
        "colab": {
          "base_uri": "https://localhost:8080/",
          "height": 34
        },
        "outputId": "df7db60a-b077-4179-98c9-704104afc5da"
      },
      "source": [
        "Lasso().fit(X_train,y_train).score(X_test,y_test)"
      ],
      "execution_count": 9,
      "outputs": [
        {
          "output_type": "execute_result",
          "data": {
            "text/plain": [
              "-0.001092889704334965"
            ]
          },
          "metadata": {
            "tags": []
          },
          "execution_count": 9
        }
      ]
    },
    {
      "cell_type": "markdown",
      "metadata": {
        "id": "gC4fXgN3bbig",
        "colab_type": "text"
      },
      "source": [
        "# Seleccion de modelos"
      ]
    },
    {
      "cell_type": "code",
      "metadata": {
        "id": "-l9FIo9Rbbih",
        "colab_type": "code",
        "colab": {
          "base_uri": "https://localhost:8080/",
          "height": 85
        },
        "outputId": "4c958f28-0452-4ff3-99d3-861142957f0d"
      },
      "source": [
        "!pip install --upgrade scikit-learn"
      ],
      "execution_count": 10,
      "outputs": [
        {
          "output_type": "stream",
          "text": [
            "Requirement already up-to-date: scikit-learn in /usr/local/lib/python3.6/dist-packages (0.22.2.post1)\n",
            "Requirement already satisfied, skipping upgrade: numpy>=1.11.0 in /usr/local/lib/python3.6/dist-packages (from scikit-learn) (1.18.2)\n",
            "Requirement already satisfied, skipping upgrade: scipy>=0.17.0 in /usr/local/lib/python3.6/dist-packages (from scikit-learn) (1.4.1)\n",
            "Requirement already satisfied, skipping upgrade: joblib>=0.11 in /usr/local/lib/python3.6/dist-packages (from scikit-learn) (0.14.1)\n"
          ],
          "name": "stdout"
        }
      ]
    },
    {
      "cell_type": "code",
      "metadata": {
        "id": "PxB3Ik5Kbbik",
        "colab_type": "code",
        "colab": {
          "base_uri": "https://localhost:8080/",
          "height": 119
        },
        "outputId": "61003e19-af08-4e39-f9bf-04a5755e6d48"
      },
      "source": [
        "from sklearn.model_selection import cross_validate\n",
        "\n",
        "results = cross_validate(Lasso(),X,y,return_train_score=True, cv=5)\n",
        "results"
      ],
      "execution_count": 11,
      "outputs": [
        {
          "output_type": "execute_result",
          "data": {
            "text/plain": [
              "{'fit_time': array([0.01895928, 0.0141921 , 0.01883554, 0.01541162, 0.01408792]),\n",
              " 'score_time': array([0.00184464, 0.00164342, 0.00174737, 0.00167203, 0.0016849 ]),\n",
              " 'test_score': array([-3.73956449e-04, -2.41881221e-04, -2.00366580e-04, -9.51513775e-04,\n",
              "        -8.94989886e-05]),\n",
              " 'train_score': array([9.96663223e-05, 1.13550207e-04, 1.24069619e-04, 1.33158657e-04,\n",
              "        8.31044321e-05])}"
            ]
          },
          "metadata": {
            "tags": []
          },
          "execution_count": 11
        }
      ]
    },
    {
      "cell_type": "code",
      "metadata": {
        "id": "0WGS49vlbbip",
        "colab_type": "code",
        "colab": {
          "base_uri": "https://localhost:8080/",
          "height": 51
        },
        "outputId": "a6678e2b-575d-46ac-e49b-8109b70e5f33"
      },
      "source": [
        "test_scores = results['test_score']\n",
        "train_scores = results['train_score']\n",
        "print(np.mean(train_scores))\n",
        "print(np.mean(test_scores))"
      ],
      "execution_count": 12,
      "outputs": [
        {
          "output_type": "stream",
          "text": [
            "0.00011070984740033652\n",
            "-0.0003714434028563307\n"
          ],
          "name": "stdout"
        }
      ]
    },
    {
      "cell_type": "markdown",
      "metadata": {
        "id": "gQAc7aEFbbis",
        "colab_type": "text"
      },
      "source": [
        "El score de 0.71 no es malo, pero tampoco es muy bueno.\n",
        "nuestro modelo no esta encajando tambien a los datos"
      ]
    },
    {
      "cell_type": "markdown",
      "metadata": {
        "id": "fPflTfo3bbit",
        "colab_type": "text"
      },
      "source": [
        "# Validation Curves y Learning Curves"
      ]
    },
    {
      "cell_type": "markdown",
      "metadata": {
        "id": "hLHPvlGabbiu",
        "colab_type": "text"
      },
      "source": [
        "Vecino mas cercano"
      ]
    },
    {
      "cell_type": "code",
      "metadata": {
        "id": "gcjO8-Lybbiv",
        "colab_type": "code",
        "colab": {
          "base_uri": "https://localhost:8080/",
          "height": 68
        },
        "outputId": "a3b5835e-3782-4664-a70c-0b86593b69ed"
      },
      "source": [
        "from sklearn.neighbors import KNeighborsRegressor\n",
        "\n",
        "cross_validate(KNeighborsRegressor(),X,y,cv=5)"
      ],
      "execution_count": 13,
      "outputs": [
        {
          "output_type": "execute_result",
          "data": {
            "text/plain": [
              "{'fit_time': array([0.04619336, 0.04434085, 0.04527974, 0.04658842, 0.04674554]),\n",
              " 'score_time': array([0.07703996, 0.08267379, 0.08249903, 0.10280085, 0.10853887]),\n",
              " 'test_score': array([ 0.00050973,  0.01287409,  0.00160111, -0.15287162, -0.15693525])}"
            ]
          },
          "metadata": {
            "tags": []
          },
          "execution_count": 13
        }
      ]
    },
    {
      "cell_type": "code",
      "metadata": {
        "id": "UKufts5Jbbiz",
        "colab_type": "code",
        "colab": {
          "base_uri": "https://localhost:8080/",
          "height": 68
        },
        "outputId": "636de977-fc2b-4af8-8412-f145457bcda9"
      },
      "source": [
        "cross_validate(KNeighborsRegressor(n_neighbors=10),X,y,cv=5)"
      ],
      "execution_count": 14,
      "outputs": [
        {
          "output_type": "execute_result",
          "data": {
            "text/plain": [
              "{'fit_time': array([0.05122948, 0.04737592, 0.04371548, 0.04915881, 0.04612637]),\n",
              " 'score_time': array([0.09662843, 0.09507608, 0.10036993, 0.13494897, 0.12733412]),\n",
              " 'test_score': array([ 0.03507695,  0.04133701,  0.02890134, -0.05607604, -0.06691998])}"
            ]
          },
          "metadata": {
            "tags": []
          },
          "execution_count": 14
        }
      ]
    },
    {
      "cell_type": "code",
      "metadata": {
        "id": "0LKdsIacbbi3",
        "colab_type": "code",
        "colab": {
          "base_uri": "https://localhost:8080/",
          "height": 51
        },
        "outputId": "1ace4c17-5ef7-4a84-8d35-2a3278f1597d"
      },
      "source": [
        "n = np.arange(2,50,2)\n",
        "n"
      ],
      "execution_count": 15,
      "outputs": [
        {
          "output_type": "execute_result",
          "data": {
            "text/plain": [
              "array([ 2,  4,  6,  8, 10, 12, 14, 16, 18, 20, 22, 24, 26, 28, 30, 32, 34,\n",
              "       36, 38, 40, 42, 44, 46, 48])"
            ]
          },
          "metadata": {
            "tags": []
          },
          "execution_count": 15
        }
      ]
    },
    {
      "cell_type": "code",
      "metadata": {
        "id": "GmZwwS6dbbi6",
        "colab_type": "code",
        "colab": {}
      },
      "source": [
        "from sklearn.model_selection import validation_curve\n",
        "\n",
        "train_scores, test_scores = validation_curve(KNeighborsRegressor(),\n",
        "                                            X,\n",
        "                                            y,\n",
        "                                            param_name='n_neighbors',\n",
        "                                            param_range=n,\n",
        "                                            cv=5)"
      ],
      "execution_count": 0,
      "outputs": []
    },
    {
      "cell_type": "code",
      "metadata": {
        "id": "vHEjw5zNbbi8",
        "colab_type": "code",
        "colab": {
          "base_uri": "https://localhost:8080/",
          "height": 102
        },
        "outputId": "c3b2ba92-ace3-431c-9386-4d9c4575137a"
      },
      "source": [
        "np.mean(train_scores, axis=1)"
      ],
      "execution_count": 17,
      "outputs": [
        {
          "output_type": "execute_result",
          "data": {
            "text/plain": [
              "array([0.58938266, 0.35716525, 0.26995386, 0.22130045, 0.19017591,\n",
              "       0.16604699, 0.14785942, 0.13345745, 0.12256661, 0.11302622,\n",
              "       0.1056506 , 0.09838532, 0.09233158, 0.0865096 , 0.08206358,\n",
              "       0.07818467, 0.07466537, 0.07140308, 0.06832508, 0.06542593,\n",
              "       0.06268827, 0.0607547 , 0.05857026, 0.05651183])"
            ]
          },
          "metadata": {
            "tags": []
          },
          "execution_count": 17
        }
      ]
    },
    {
      "cell_type": "code",
      "metadata": {
        "scrolled": true,
        "id": "abjEGwRCbbjD",
        "colab_type": "code",
        "colab": {
          "base_uri": "https://localhost:8080/",
          "height": 1000
        },
        "outputId": "3ca9f7ff-7ceb-4351-9c09-16a43910bdcf"
      },
      "source": [
        "plt.plot(np.mean(train_scores, axis=1))\n",
        "plt.plot(np.mean(test_scores, axis=1))\n",
        "plt.xticks(np.arange(24),n)"
      ],
      "execution_count": 19,
      "outputs": [
        {
          "output_type": "execute_result",
          "data": {
            "text/plain": [
              "([<matplotlib.axis.XTick at 0x7fe6875cff28>,\n",
              "  <matplotlib.axis.XTick at 0x7fe6875cfef0>,\n",
              "  <matplotlib.axis.XTick at 0x7fe6875cfb38>,\n",
              "  <matplotlib.axis.XTick at 0x7fe687584b70>,\n",
              "  <matplotlib.axis.XTick at 0x7fe6875900b8>,\n",
              "  <matplotlib.axis.XTick at 0x7fe687584978>,\n",
              "  <matplotlib.axis.XTick at 0x7fe687590668>,\n",
              "  <matplotlib.axis.XTick at 0x7fe687590b70>,\n",
              "  <matplotlib.axis.XTick at 0x7fe6875190b8>,\n",
              "  <matplotlib.axis.XTick at 0x7fe6875194e0>,\n",
              "  <matplotlib.axis.XTick at 0x7fe687519978>,\n",
              "  <matplotlib.axis.XTick at 0x7fe687519e10>,\n",
              "  <matplotlib.axis.XTick at 0x7fe6875212e8>,\n",
              "  <matplotlib.axis.XTick at 0x7fe687521780>,\n",
              "  <matplotlib.axis.XTick at 0x7fe687519940>,\n",
              "  <matplotlib.axis.XTick at 0x7fe687590c18>,\n",
              "  <matplotlib.axis.XTick at 0x7fe687521eb8>,\n",
              "  <matplotlib.axis.XTick at 0x7fe687521f60>,\n",
              "  <matplotlib.axis.XTick at 0x7fe68752b438>,\n",
              "  <matplotlib.axis.XTick at 0x7fe68752b8d0>,\n",
              "  <matplotlib.axis.XTick at 0x7fe68752bd68>,\n",
              "  <matplotlib.axis.XTick at 0x7fe687533240>,\n",
              "  <matplotlib.axis.XTick at 0x7fe6875336d8>,\n",
              "  <matplotlib.axis.XTick at 0x7fe687533b70>],\n",
              " [Text(0, 0, '2'),\n",
              "  Text(0, 0, '4'),\n",
              "  Text(0, 0, '6'),\n",
              "  Text(0, 0, '8'),\n",
              "  Text(0, 0, '10'),\n",
              "  Text(0, 0, '12'),\n",
              "  Text(0, 0, '14'),\n",
              "  Text(0, 0, '16'),\n",
              "  Text(0, 0, '18'),\n",
              "  Text(0, 0, '20'),\n",
              "  Text(0, 0, '22'),\n",
              "  Text(0, 0, '24'),\n",
              "  Text(0, 0, '26'),\n",
              "  Text(0, 0, '28'),\n",
              "  Text(0, 0, '30'),\n",
              "  Text(0, 0, '32'),\n",
              "  Text(0, 0, '34'),\n",
              "  Text(0, 0, '36'),\n",
              "  Text(0, 0, '38'),\n",
              "  Text(0, 0, '40'),\n",
              "  Text(0, 0, '42'),\n",
              "  Text(0, 0, '44'),\n",
              "  Text(0, 0, '46'),\n",
              "  Text(0, 0, '48')])"
            ]
          },
          "metadata": {
            "tags": []
          },
          "execution_count": 19
        },
        {
          "output_type": "display_data",
          "data": {
            "image/png": "[encoded data removed]",
            "text/plain": [
              "<Figure size 432x288 with 1 Axes>"
            ]
          },
          "metadata": {
            "tags": []
          }
        }
      ]
    },
    {
      "cell_type": "markdown",
      "metadata": {
        "id": "DTeKEt7NbbjG",
        "colab_type": "text"
      },
      "source": [
        "El mejor parametro que se puede elijir es 7 vecinos"
      ]
    },
    {
      "cell_type": "markdown",
      "metadata": {
        "id": "AiCLUHJobbjH",
        "colab_type": "text"
      },
      "source": [
        "# Curva de aprendizaje"
      ]
    },
    {
      "cell_type": "code",
      "metadata": {
        "id": "SmdDYPvxbbjJ",
        "colab_type": "code",
        "colab": {}
      },
      "source": [
        "from sklearn.model_selection import learning_curve\n",
        "\n",
        "lc = learning_curve(KNeighborsRegressor(n_neighbors=7),X,y, cv=5)\n",
        "\n",
        "samples, train, test = lc[0],lc[1],lc[2] "
      ],
      "execution_count": 0,
      "outputs": []
    },
    {
      "cell_type": "code",
      "metadata": {
        "id": "oCVNWUhHbbjL",
        "colab_type": "code",
        "colab": {
          "base_uri": "https://localhost:8080/",
          "height": 286
        },
        "outputId": "9dcf99ed-544d-4e9d-c4e0-898851f1a809"
      },
      "source": [
        "plt.plot(samples[1:],np.mean(train,axis=1)[1:])\n",
        "plt.plot(samples[1:],np.mean(test,axis=1)[1:])\n"
      ],
      "execution_count": 21,
      "outputs": [
        {
          "output_type": "execute_result",
          "data": {
            "text/plain": [
              "[<matplotlib.lines.Line2D at 0x7fe68cc80a58>]"
            ]
          },
          "metadata": {
            "tags": []
          },
          "execution_count": 21
        },
        {
          "output_type": "display_data",
          "data": {
            "image/png": "[encoded data removed]",
            "text/plain": [
              "<Figure size 432x288 with 1 Axes>"
            ]
          },
          "metadata": {
            "tags": []
          }
        }
      ]
    },
    {
      "cell_type": "markdown",
      "metadata": {
        "id": "MEvGHAWCbbjP",
        "colab_type": "text"
      },
      "source": [
        "El modelo KNeighbors esta aprendiendo va creciendo pero a un no a terminado de aprender"
      ]
    },
    {
      "cell_type": "markdown",
      "metadata": {
        "id": "RtkrJZIzbbjQ",
        "colab_type": "text"
      },
      "source": [
        "para que termine de aprender debemos agregarle mas datos"
      ]
    },
    {
      "cell_type": "markdown",
      "metadata": {
        "id": "4u-antlGbbjR",
        "colab_type": "text"
      },
      "source": [
        "Aprender: Cuando mejora el score en función de la cantidad de datos"
      ]
    }
  ]
}