{
  "nbformat": 4,
  "nbformat_minor": 0,
  "metadata": {
    "kernelspec": {
      "name": "python3",
      "display_name": "Python 3"
    },
    "language_info": {
      "codemirror_mode": {
        "name": "ipython",
        "version": 3
      },
      "file_extension": ".py",
      "mimetype": "text/x-python",
      "name": "python",
      "nbconvert_exporter": "python",
      "pygments_lexer": "ipython3",
      "version": "3.8.1"
    },
    "colab": {
      "name": "Cross_Validation.ipynb",
      "provenance": []
    },
    "accelerator": "GPU"
  },
  "cells": [
    {
      "cell_type": "code",
      "metadata": {
        "id": "FZbq_jvqbbh5",
        "colab_type": "code",
        "colab": {}
      },
      "source": [
        "import warnings\n",
        "warnings.simplefilter(\"ignore\")"
      ],
      "execution_count": 0,
      "outputs": []
    },
    {
      "cell_type": "code",
      "metadata": {
        "id": "8SO_6fuebbiA",
        "colab_type": "code",
        "colab": {}
      },
      "source": [
        "%matplotlib inline\n",
        "import numpy as np\n",
        "import pandas as pd\n",
        "import matplotlib.pyplot as plt"
      ],
      "execution_count": 0,
      "outputs": []
    },
    {
      "cell_type": "code",
      "metadata": {
        "id": "G3GPtUFubbiE",
        "colab_type": "code",
        "colab": {}
      },
      "source": [
        "X = pd.read_csv(\"X.csv\")\n",
        "y = X['NUM_GRAVEDAD']\n",
        "X = X.drop('NUM_GRAVEDAD',axis = 1)"
      ],
      "execution_count": 0,
      "outputs": []
    },
    {
      "cell_type": "code",
      "metadata": {
        "id": "XhxO5eejbbiH",
        "colab_type": "code",
        "outputId": "a9150c06-e344-4004-e44d-5d49268c3cd0",
        "colab": {
          "base_uri": "https://localhost:8080/",
          "height": 68
        }
      },
      "source": [
        "X.columns"
      ],
      "execution_count": 13,
      "outputs": [
        {
          "output_type": "execute_result",
          "data": {
            "text/plain": [
              "Index(['X', 'Y', 'OBJECTID', 'RADICADO', 'DIA', 'PERIODO', 'CBML',\n",
              "       'DIA_SEMANA', 'MES', 'NUM_COMUNA', 'NUM_DISENO', 'NUM_CLASE'],\n",
              "      dtype='object')"
            ]
          },
          "metadata": {
            "tags": []
          },
          "execution_count": 13
        }
      ]
    },
    {
      "cell_type": "code",
      "metadata": {
        "id": "EK8rZQtNbbiL",
        "colab_type": "code",
        "colab": {}
      },
      "source": [
        "from sklearn.model_selection import train_test_split\n",
        "\n",
        "X_train, X_test, y_train, y_test =train_test_split(X,y, random_state=1)"
      ],
      "execution_count": 0,
      "outputs": []
    },
    {
      "cell_type": "code",
      "metadata": {
        "id": "bBy9K_i2bbiO",
        "colab_type": "code",
        "outputId": "6502145e-4747-497e-b39f-1214aa921773",
        "colab": {
          "base_uri": "https://localhost:8080/",
          "height": 224
        }
      },
      "source": [
        "X_train.head()"
      ],
      "execution_count": 15,
      "outputs": [
        {
          "output_type": "execute_result",
          "data": {
            "text/html": [
              "<div>\n",
              "<style scoped>\n",
              "    .dataframe tbody tr th:only-of-type {\n",
              "        vertical-align: middle;\n",
              "    }\n",
              "\n",
              "    .dataframe tbody tr th {\n",
              "        vertical-align: top;\n",
              "    }\n",
              "\n",
              "    .dataframe thead th {\n",
              "        text-align: right;\n",
              "    }\n",
              "</style>\n",
              "<table border=\"1\" class=\"dataframe\">\n",
              "  <thead>\n",
              "    <tr style=\"text-align: right;\">\n",
              "      <th></th>\n",
              "      <th>X</th>\n",
              "      <th>Y</th>\n",
              "      <th>OBJECTID</th>\n",
              "      <th>RADICADO</th>\n",
              "      <th>DIA</th>\n",
              "      <th>PERIODO</th>\n",
              "      <th>CBML</th>\n",
              "      <th>DIA_SEMANA</th>\n",
              "      <th>MES</th>\n",
              "      <th>NUM_COMUNA</th>\n",
              "      <th>NUM_DISENO</th>\n",
              "      <th>NUM_CLASE</th>\n",
              "    </tr>\n",
              "  </thead>\n",
              "  <tbody>\n",
              "    <tr>\n",
              "      <th>23596</th>\n",
              "      <td>-75.555822</td>\n",
              "      <td>6.238784</td>\n",
              "      <td>725339.0</td>\n",
              "      <td>1668985.0</td>\n",
              "      <td>29.0</td>\n",
              "      <td>2019.0</td>\n",
              "      <td>907.0</td>\n",
              "      <td>1.0</td>\n",
              "      <td>4.0</td>\n",
              "      <td>9.0</td>\n",
              "      <td>1.0</td>\n",
              "      <td>1.0</td>\n",
              "    </tr>\n",
              "    <tr>\n",
              "      <th>7410</th>\n",
              "      <td>-75.588506</td>\n",
              "      <td>6.200947</td>\n",
              "      <td>683117.0</td>\n",
              "      <td>1654360.0</td>\n",
              "      <td>20.0</td>\n",
              "      <td>2018.0</td>\n",
              "      <td>1510.0</td>\n",
              "      <td>4.0</td>\n",
              "      <td>12.0</td>\n",
              "      <td>15.0</td>\n",
              "      <td>1.0</td>\n",
              "      <td>1.0</td>\n",
              "    </tr>\n",
              "    <tr>\n",
              "      <th>18792</th>\n",
              "      <td>-75.566349</td>\n",
              "      <td>6.269555</td>\n",
              "      <td>664695.0</td>\n",
              "      <td>1630713.0</td>\n",
              "      <td>11.0</td>\n",
              "      <td>2018.0</td>\n",
              "      <td>417.0</td>\n",
              "      <td>1.0</td>\n",
              "      <td>6.0</td>\n",
              "      <td>4.0</td>\n",
              "      <td>1.0</td>\n",
              "      <td>1.0</td>\n",
              "    </tr>\n",
              "    <tr>\n",
              "      <th>14174</th>\n",
              "      <td>-75.585019</td>\n",
              "      <td>6.198451</td>\n",
              "      <td>671737.0</td>\n",
              "      <td>1644637.0</td>\n",
              "      <td>3.0</td>\n",
              "      <td>2018.0</td>\n",
              "      <td>1510.0</td>\n",
              "      <td>3.0</td>\n",
              "      <td>10.0</td>\n",
              "      <td>15.0</td>\n",
              "      <td>2.0</td>\n",
              "      <td>1.0</td>\n",
              "    </tr>\n",
              "    <tr>\n",
              "      <th>22001</th>\n",
              "      <td>-75.554974</td>\n",
              "      <td>6.290521</td>\n",
              "      <td>714078.0</td>\n",
              "      <td>1667588.0</td>\n",
              "      <td>16.0</td>\n",
              "      <td>2019.0</td>\n",
              "      <td>209.0</td>\n",
              "      <td>2.0</td>\n",
              "      <td>4.0</td>\n",
              "      <td>2.0</td>\n",
              "      <td>2.0</td>\n",
              "      <td>1.0</td>\n",
              "    </tr>\n",
              "  </tbody>\n",
              "</table>\n",
              "</div>"
            ],
            "text/plain": [
              "               X         Y  OBJECTID  ...  NUM_COMUNA  NUM_DISENO  NUM_CLASE\n",
              "23596 -75.555822  6.238784  725339.0  ...         9.0         1.0        1.0\n",
              "7410  -75.588506  6.200947  683117.0  ...        15.0         1.0        1.0\n",
              "18792 -75.566349  6.269555  664695.0  ...         4.0         1.0        1.0\n",
              "14174 -75.585019  6.198451  671737.0  ...        15.0         2.0        1.0\n",
              "22001 -75.554974  6.290521  714078.0  ...         2.0         2.0        1.0\n",
              "\n",
              "[5 rows x 12 columns]"
            ]
          },
          "metadata": {
            "tags": []
          },
          "execution_count": 15
        }
      ]
    },
    {
      "cell_type": "markdown",
      "metadata": {
        "id": "1jZC6tUHbbiS",
        "colab_type": "text"
      },
      "source": [
        "# Cross Validation"
      ]
    },
    {
      "cell_type": "code",
      "metadata": {
        "id": "NOyjRXvabbiT",
        "colab_type": "code",
        "outputId": "d52edd43-19f3-47d9-a191-3fa2cb758e2b",
        "colab": {
          "base_uri": "https://localhost:8080/",
          "height": 51
        }
      },
      "source": [
        "from sklearn.model_selection import cross_val_score\n",
        "from sklearn.linear_model import Lasso\n",
        "\n",
        "scores = cross_val_score(Lasso(),X,y, cv=5, scoring='r2')\n",
        "scores"
      ],
      "execution_count": 16,
      "outputs": [
        {
          "output_type": "execute_result",
          "data": {
            "text/plain": [
              "array([-3.73956449e-04, -2.41881221e-04, -2.00366580e-04, -9.51513775e-04,\n",
              "       -8.94989886e-05])"
            ]
          },
          "metadata": {
            "tags": []
          },
          "execution_count": 16
        }
      ]
    },
    {
      "cell_type": "code",
      "metadata": {
        "id": "tznOzbX1bbiY",
        "colab_type": "code",
        "outputId": "64304d4c-1065-4e78-d8b5-290e4f664f3e",
        "colab": {
          "base_uri": "https://localhost:8080/",
          "height": 34
        }
      },
      "source": [
        "scores.mean()"
      ],
      "execution_count": 17,
      "outputs": [
        {
          "output_type": "execute_result",
          "data": {
            "text/plain": [
              "-0.0003714434028563307"
            ]
          },
          "metadata": {
            "tags": []
          },
          "execution_count": 17
        }
      ]
    },
    {
      "cell_type": "code",
      "metadata": {
        "id": "PLLn8IO0bbic",
        "colab_type": "code",
        "outputId": "4caa7b0f-541a-4dd6-9c2b-100f81f5d0a8",
        "colab": {
          "base_uri": "https://localhost:8080/",
          "height": 34
        }
      },
      "source": [
        "Lasso().fit(X_train,y_train).score(X_test,y_test)"
      ],
      "execution_count": 18,
      "outputs": [
        {
          "output_type": "execute_result",
          "data": {
            "text/plain": [
              "-0.001092889704334965"
            ]
          },
          "metadata": {
            "tags": []
          },
          "execution_count": 18
        }
      ]
    },
    {
      "cell_type": "markdown",
      "metadata": {
        "id": "gC4fXgN3bbig",
        "colab_type": "text"
      },
      "source": [
        "# Seleccion de modelos"
      ]
    },
    {
      "cell_type": "code",
      "metadata": {
        "id": "PxB3Ik5Kbbik",
        "colab_type": "code",
        "outputId": "a172462e-6055-443b-fa7a-1ddd81730b87",
        "colab": {
          "base_uri": "https://localhost:8080/",
          "height": 119
        }
      },
      "source": [
        "from sklearn.model_selection import cross_validate\n",
        "\n",
        "results = cross_validate(Lasso(),X,y,return_train_score=True, cv=5)\n",
        "results"
      ],
      "execution_count": 19,
      "outputs": [
        {
          "output_type": "execute_result",
          "data": {
            "text/plain": [
              "{'fit_time': array([0.022542  , 0.01660967, 0.01736689, 0.01876283, 0.01418161]),\n",
              " 'score_time': array([0.00298214, 0.00196314, 0.00182676, 0.00183272, 0.00167871]),\n",
              " 'test_score': array([-3.73956449e-04, -2.41881221e-04, -2.00366580e-04, -9.51513775e-04,\n",
              "        -8.94989886e-05]),\n",
              " 'train_score': array([9.96663223e-05, 1.13550207e-04, 1.24069619e-04, 1.33158657e-04,\n",
              "        8.31044321e-05])}"
            ]
          },
          "metadata": {
            "tags": []
          },
          "execution_count": 19
        }
      ]
    },
    {
      "cell_type": "code",
      "metadata": {
        "id": "0WGS49vlbbip",
        "colab_type": "code",
        "outputId": "f20dedc0-3731-40d1-b4cb-7474f3759b34",
        "colab": {
          "base_uri": "https://localhost:8080/",
          "height": 51
        }
      },
      "source": [
        "test_scores = results['test_score']\n",
        "train_scores = results['train_score']\n",
        "print(np.mean(train_scores))\n",
        "print(np.mean(test_scores))"
      ],
      "execution_count": 20,
      "outputs": [
        {
          "output_type": "stream",
          "text": [
            "0.00011070984740033652\n",
            "-0.0003714434028563307\n"
          ],
          "name": "stdout"
        }
      ]
    },
    {
      "cell_type": "code",
      "metadata": {
        "id": "qmfqVAjTa2qi",
        "colab_type": "code",
        "colab": {
          "base_uri": "https://localhost:8080/",
          "height": 34
        },
        "outputId": "a37e7bc7-4daa-4da4-a89b-6ce74b54f09a"
      },
      "source": [
        "varianza = np.mean(train_scores) / np.mean(test_scores)\n",
        "print(f'varianza : {varianza }')"
      ],
      "execution_count": 25,
      "outputs": [
        {
          "output_type": "stream",
          "text": [
            "varianza : -0.2980530722823407\n"
          ],
          "name": "stdout"
        }
      ]
    },
    {
      "cell_type": "markdown",
      "metadata": {
        "id": "usWUtyBocAH-",
        "colab_type": "text"
      },
      "source": [
        "**Hasta aqui lasso nos dice que no puede mejorar mas, debemos ver otros modelos**"
      ]
    },
    {
      "cell_type": "markdown",
      "metadata": {
        "id": "fPflTfo3bbit",
        "colab_type": "text"
      },
      "source": [
        "# Validation Curves y Learning Curves"
      ]
    },
    {
      "cell_type": "markdown",
      "metadata": {
        "id": "hLHPvlGabbiu",
        "colab_type": "text"
      },
      "source": [
        "Vecino mas cercano"
      ]
    },
    {
      "cell_type": "code",
      "metadata": {
        "id": "gcjO8-Lybbiv",
        "colab_type": "code",
        "outputId": "9a0c7e69-267a-4228-e928-b221a9f0f43a",
        "colab": {
          "base_uri": "https://localhost:8080/",
          "height": 68
        }
      },
      "source": [
        "from sklearn.neighbors import KNeighborsRegressor\n",
        "\n",
        "cross_validate(KNeighborsRegressor(),X,y,cv=5)"
      ],
      "execution_count": 26,
      "outputs": [
        {
          "output_type": "execute_result",
          "data": {
            "text/plain": [
              "{'fit_time': array([0.05360746, 0.05063701, 0.04841757, 0.0459013 , 0.04836154]),\n",
              " 'score_time': array([0.08688998, 0.08823514, 0.08732557, 0.11898088, 0.11416292]),\n",
              " 'test_score': array([ 0.00050973,  0.01287409,  0.00160111, -0.15287162, -0.15693525])}"
            ]
          },
          "metadata": {
            "tags": []
          },
          "execution_count": 26
        }
      ]
    },
    {
      "cell_type": "code",
      "metadata": {
        "id": "UKufts5Jbbiz",
        "colab_type": "code",
        "outputId": "1eb0156e-1a79-4f07-8a99-1d9515f4ff97",
        "colab": {
          "base_uri": "https://localhost:8080/",
          "height": 68
        }
      },
      "source": [
        "cross_validate(KNeighborsRegressor(n_neighbors=10),X,y,cv=5)"
      ],
      "execution_count": 27,
      "outputs": [
        {
          "output_type": "execute_result",
          "data": {
            "text/plain": [
              "{'fit_time': array([0.05609369, 0.04697061, 0.0450995 , 0.04578161, 0.0511241 ]),\n",
              " 'score_time': array([0.10211706, 0.09936786, 0.10402918, 0.13862967, 0.1392467 ]),\n",
              " 'test_score': array([ 0.03507695,  0.04133701,  0.02890134, -0.05607604, -0.06691998])}"
            ]
          },
          "metadata": {
            "tags": []
          },
          "execution_count": 27
        }
      ]
    },
    {
      "cell_type": "code",
      "metadata": {
        "id": "0LKdsIacbbi3",
        "colab_type": "code",
        "outputId": "6ce7811b-bb83-4a56-ebf0-0a7fddcadf14",
        "colab": {
          "base_uri": "https://localhost:8080/",
          "height": 51
        }
      },
      "source": [
        "n = np.arange(2,50,2)\n",
        "n"
      ],
      "execution_count": 28,
      "outputs": [
        {
          "output_type": "execute_result",
          "data": {
            "text/plain": [
              "array([ 2,  4,  6,  8, 10, 12, 14, 16, 18, 20, 22, 24, 26, 28, 30, 32, 34,\n",
              "       36, 38, 40, 42, 44, 46, 48])"
            ]
          },
          "metadata": {
            "tags": []
          },
          "execution_count": 28
        }
      ]
    },
    {
      "cell_type": "code",
      "metadata": {
        "id": "GmZwwS6dbbi6",
        "colab_type": "code",
        "colab": {}
      },
      "source": [
        "from sklearn.model_selection import validation_curve\n",
        "\n",
        "train_scores, test_scores = validation_curve(KNeighborsRegressor(),\n",
        "                                            X,\n",
        "                                            y,\n",
        "                                            param_name='n_neighbors',\n",
        "                                            param_range=n,\n",
        "                                            cv=5)"
      ],
      "execution_count": 0,
      "outputs": []
    },
    {
      "cell_type": "code",
      "metadata": {
        "id": "vHEjw5zNbbi8",
        "colab_type": "code",
        "outputId": "230765be-eb0c-4e30-e58d-532431e9a5e6",
        "colab": {
          "base_uri": "https://localhost:8080/",
          "height": 102
        }
      },
      "source": [
        "np.mean(train_scores, axis=1)"
      ],
      "execution_count": 33,
      "outputs": [
        {
          "output_type": "execute_result",
          "data": {
            "text/plain": [
              "array([0.58938266, 0.35716525, 0.26995386, 0.22130045, 0.19017591,\n",
              "       0.16604699, 0.14785942, 0.13345745, 0.12256661, 0.11302622,\n",
              "       0.1056506 , 0.09838532, 0.09233158, 0.0865096 , 0.08206358,\n",
              "       0.07818467, 0.07466537, 0.07140308, 0.06832508, 0.06542593,\n",
              "       0.06268827, 0.0607547 , 0.05857026, 0.05651183])"
            ]
          },
          "metadata": {
            "tags": []
          },
          "execution_count": 33
        }
      ]
    },
    {
      "cell_type": "code",
      "metadata": {
        "id": "jMJ6Ex1jggzN",
        "colab_type": "code",
        "colab": {
          "base_uri": "https://localhost:8080/",
          "height": 34
        },
        "outputId": "7505e0dc-617d-4b70-889a-15a96fb12a5f"
      },
      "source": [
        "print(f'Score :  {np.mean(train_scores)}')"
      ],
      "execution_count": 39,
      "outputs": [
        {
          "output_type": "stream",
          "text": [
            "Score :  0.14051686203221128\n"
          ],
          "name": "stdout"
        }
      ]
    },
    {
      "cell_type": "code",
      "metadata": {
        "scrolled": true,
        "id": "abjEGwRCbbjD",
        "colab_type": "code",
        "outputId": "b3dc5edd-e8a4-45cc-c6a2-c74631ecd113",
        "colab": {
          "base_uri": "https://localhost:8080/",
          "height": 1000
        }
      },
      "source": [
        "plt.plot(np.mean(train_scores, axis=1))\n",
        "plt.plot(np.mean(test_scores, axis=1))\n",
        "plt.xticks(np.arange(24),n)"
      ],
      "execution_count": 34,
      "outputs": [
        {
          "output_type": "execute_result",
          "data": {
            "text/plain": [
              "([<matplotlib.axis.XTick at 0x7f68fbd75748>,\n",
              "  <matplotlib.axis.XTick at 0x7f68fbd75710>,\n",
              "  <matplotlib.axis.XTick at 0x7f68fbd75358>,\n",
              "  <matplotlib.axis.XTick at 0x7f68fbd9d390>,\n",
              "  <matplotlib.axis.XTick at 0x7f68fbd9d828>,\n",
              "  <matplotlib.axis.XTick at 0x7f68fbd9dcc0>,\n",
              "  <matplotlib.axis.XTick at 0x7f68fbda7198>,\n",
              "  <matplotlib.axis.XTick at 0x7f68fbda7630>,\n",
              "  <matplotlib.axis.XTick at 0x7f68fbd9d780>,\n",
              "  <matplotlib.axis.XTick at 0x7f68fbda77f0>,\n",
              "  <matplotlib.axis.XTick at 0x7f68fbda7d68>,\n",
              "  <matplotlib.axis.XTick at 0x7f68fbd30240>,\n",
              "  <matplotlib.axis.XTick at 0x7f68fbd306d8>,\n",
              "  <matplotlib.axis.XTick at 0x7f68fbd30b70>,\n",
              "  <matplotlib.axis.XTick at 0x7f68fbd380b8>,\n",
              "  <matplotlib.axis.XTick at 0x7f68fbd384e0>,\n",
              "  <matplotlib.axis.XTick at 0x7f68fbd38978>,\n",
              "  <matplotlib.axis.XTick at 0x7f68fbd38e10>,\n",
              "  <matplotlib.axis.XTick at 0x7f68fbd38a58>,\n",
              "  <matplotlib.axis.XTick at 0x7f68fbd309e8>,\n",
              "  <matplotlib.axis.XTick at 0x7f68fbda7ac8>,\n",
              "  <matplotlib.axis.XTick at 0x7f68fbd404e0>,\n",
              "  <matplotlib.axis.XTick at 0x7f68fbd40978>,\n",
              "  <matplotlib.axis.XTick at 0x7f68fbd40e10>],\n",
              " [Text(0, 0, '2'),\n",
              "  Text(0, 0, '4'),\n",
              "  Text(0, 0, '6'),\n",
              "  Text(0, 0, '8'),\n",
              "  Text(0, 0, '10'),\n",
              "  Text(0, 0, '12'),\n",
              "  Text(0, 0, '14'),\n",
              "  Text(0, 0, '16'),\n",
              "  Text(0, 0, '18'),\n",
              "  Text(0, 0, '20'),\n",
              "  Text(0, 0, '22'),\n",
              "  Text(0, 0, '24'),\n",
              "  Text(0, 0, '26'),\n",
              "  Text(0, 0, '28'),\n",
              "  Text(0, 0, '30'),\n",
              "  Text(0, 0, '32'),\n",
              "  Text(0, 0, '34'),\n",
              "  Text(0, 0, '36'),\n",
              "  Text(0, 0, '38'),\n",
              "  Text(0, 0, '40'),\n",
              "  Text(0, 0, '42'),\n",
              "  Text(0, 0, '44'),\n",
              "  Text(0, 0, '46'),\n",
              "  Text(0, 0, '48')])"
            ]
          },
          "metadata": {
            "tags": []
          },
          "execution_count": 34
        },
        {
          "output_type": "display_data",
          "data": {
            "image/png": "[encoded data removed]",
            "text/plain": [
              "<Figure size 432x288 with 1 Axes>"
            ]
          },
          "metadata": {
            "tags": []
          }
        }
      ]
    },
    {
      "cell_type": "markdown",
      "metadata": {
        "id": "DTeKEt7NbbjG",
        "colab_type": "text"
      },
      "source": [
        "El mejor parametro que se puede elijir es 8 vecinos"
      ]
    },
    {
      "cell_type": "markdown",
      "metadata": {
        "id": "AiCLUHJobbjH",
        "colab_type": "text"
      },
      "source": [
        "# Curva de aprendizaje"
      ]
    },
    {
      "cell_type": "code",
      "metadata": {
        "id": "SmdDYPvxbbjJ",
        "colab_type": "code",
        "colab": {}
      },
      "source": [
        "from sklearn.model_selection import learning_curve\n",
        "\n",
        "lc = learning_curve(KNeighborsRegressor(n_neighbors=8),X,y, cv=5)\n",
        "\n",
        "samples, train, test = lc[0],lc[1],lc[2] "
      ],
      "execution_count": 0,
      "outputs": []
    },
    {
      "cell_type": "code",
      "metadata": {
        "id": "oCVNWUhHbbjL",
        "colab_type": "code",
        "outputId": "df1a0f60-800d-4c1c-97d4-af7c56db2566",
        "colab": {
          "base_uri": "https://localhost:8080/",
          "height": 282
        }
      },
      "source": [
        "plt.plot(samples[1:],np.mean(train,axis=1)[1:])\n",
        "plt.plot(samples[1:],np.mean(test,axis=1)[1:])\n"
      ],
      "execution_count": 47,
      "outputs": [
        {
          "output_type": "execute_result",
          "data": {
            "text/plain": [
              "[<matplotlib.lines.Line2D at 0x7f68fba2e4e0>]"
            ]
          },
          "metadata": {
            "tags": []
          },
          "execution_count": 47
        },
        {
          "output_type": "display_data",
          "data": {
            "image/png": "[encoded data removed]",
            "text/plain": [
              "<Figure size 432x288 with 1 Axes>"
            ]
          },
          "metadata": {
            "tags": []
          }
        }
      ]
    },
    {
      "cell_type": "markdown",
      "metadata": {
        "id": "MEvGHAWCbbjP",
        "colab_type": "text"
      },
      "source": [
        "El modelo KNeighbors esta aprendiendo va creciendo pero a un no a terminado de aprender"
      ]
    },
    {
      "cell_type": "markdown",
      "metadata": {
        "id": "RtkrJZIzbbjQ",
        "colab_type": "text"
      },
      "source": [
        "para que termine de aprender debemos agregarle mas datos"
      ]
    },
    {
      "cell_type": "markdown",
      "metadata": {
        "id": "4u-antlGbbjR",
        "colab_type": "text"
      },
      "source": [
        "Aprender: Cuando mejora el score en función de la cantidad de datos"
      ]
    }
  ]
}