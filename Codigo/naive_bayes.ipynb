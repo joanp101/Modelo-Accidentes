{
  "nbformat": 4,
  "nbformat_minor": 0,
  "metadata": {
    "colab": {
      "name": "naive_bayes.ipynb",
      "provenance": [],
      "collapsed_sections": []
    },
    "kernelspec": {
      "name": "python3",
      "display_name": "Python 3"
    }
  },
  "cells": [
    {
      "cell_type": "code",
      "metadata": {
        "id": "8zKE3NoUVa3E",
        "colab_type": "code",
        "colab": {}
      },
      "source": [
        "import pandas as pd\n",
        "import matplotlib.pyplot as plt\n",
        "import numpy as np\n",
        "from sklearn.naive_bayes import GaussianNB"
      ],
      "execution_count": 0,
      "outputs": []
    },
    {
      "cell_type": "code",
      "metadata": {
        "id": "su7SnWfQVibt",
        "colab_type": "code",
        "colab": {}
      },
      "source": [
        "df = pd.read_csv('X.csv')"
      ],
      "execution_count": 0,
      "outputs": []
    },
    {
      "cell_type": "code",
      "metadata": {
        "id": "KHg6l2nZ23VF",
        "colab_type": "code",
        "colab": {}
      },
      "source": [
        "X = df\n",
        "y = df['NUM_GRAVEDAD']\n",
        "\n"
      ],
      "execution_count": 0,
      "outputs": []
    },
    {
      "cell_type": "code",
      "metadata": {
        "id": "s0nWrXGLV5a7",
        "colab_type": "code",
        "outputId": "771f83b7-93bb-4ace-d3ce-19c649231ee7",
        "colab": {
          "base_uri": "https://localhost:8080/",
          "height": 204
        }
      },
      "source": [
        "X.head(5)"
      ],
      "execution_count": 4,
      "outputs": [
        {
          "output_type": "execute_result",
          "data": {
            "text/html": [
              "<div>\n",
              "<style scoped>\n",
              "    .dataframe tbody tr th:only-of-type {\n",
              "        vertical-align: middle;\n",
              "    }\n",
              "\n",
              "    .dataframe tbody tr th {\n",
              "        vertical-align: top;\n",
              "    }\n",
              "\n",
              "    .dataframe thead th {\n",
              "        text-align: right;\n",
              "    }\n",
              "</style>\n",
              "<table border=\"1\" class=\"dataframe\">\n",
              "  <thead>\n",
              "    <tr style=\"text-align: right;\">\n",
              "      <th></th>\n",
              "      <th>X</th>\n",
              "      <th>Y</th>\n",
              "      <th>OBJECTID</th>\n",
              "      <th>RADICADO</th>\n",
              "      <th>DIA</th>\n",
              "      <th>PERIODO</th>\n",
              "      <th>DIA_SEMANA</th>\n",
              "      <th>MES</th>\n",
              "      <th>NUM_COMUNA</th>\n",
              "      <th>NUM_GRAVEDAD</th>\n",
              "      <th>NUM_DISENO</th>\n",
              "      <th>NUM_CLASE</th>\n",
              "      <th>NUM_BARRIO</th>\n",
              "    </tr>\n",
              "  </thead>\n",
              "  <tbody>\n",
              "    <tr>\n",
              "      <th>0</th>\n",
              "      <td>-75.584608</td>\n",
              "      <td>6.261152</td>\n",
              "      <td>550556.0</td>\n",
              "      <td>1612819.0</td>\n",
              "      <td>14.0</td>\n",
              "      <td>2018.0</td>\n",
              "      <td>0.0</td>\n",
              "      <td>1.0</td>\n",
              "      <td>0.0</td>\n",
              "      <td>0.0</td>\n",
              "      <td>0.0</td>\n",
              "      <td>0.0</td>\n",
              "      <td>0.0</td>\n",
              "    </tr>\n",
              "    <tr>\n",
              "      <th>1</th>\n",
              "      <td>-75.582266</td>\n",
              "      <td>6.293102</td>\n",
              "      <td>550557.0</td>\n",
              "      <td>1612866.0</td>\n",
              "      <td>14.0</td>\n",
              "      <td>2018.0</td>\n",
              "      <td>0.0</td>\n",
              "      <td>1.0</td>\n",
              "      <td>1.0</td>\n",
              "      <td>1.0</td>\n",
              "      <td>1.0</td>\n",
              "      <td>0.0</td>\n",
              "      <td>1.0</td>\n",
              "    </tr>\n",
              "    <tr>\n",
              "      <th>2</th>\n",
              "      <td>-75.560337</td>\n",
              "      <td>6.252080</td>\n",
              "      <td>550558.0</td>\n",
              "      <td>1612809.0</td>\n",
              "      <td>14.0</td>\n",
              "      <td>2018.0</td>\n",
              "      <td>0.0</td>\n",
              "      <td>1.0</td>\n",
              "      <td>2.0</td>\n",
              "      <td>0.0</td>\n",
              "      <td>1.0</td>\n",
              "      <td>1.0</td>\n",
              "      <td>2.0</td>\n",
              "    </tr>\n",
              "    <tr>\n",
              "      <th>3</th>\n",
              "      <td>-75.597828</td>\n",
              "      <td>6.222382</td>\n",
              "      <td>550559.0</td>\n",
              "      <td>1612812.0</td>\n",
              "      <td>14.0</td>\n",
              "      <td>2018.0</td>\n",
              "      <td>0.0</td>\n",
              "      <td>1.0</td>\n",
              "      <td>3.0</td>\n",
              "      <td>0.0</td>\n",
              "      <td>0.0</td>\n",
              "      <td>2.0</td>\n",
              "      <td>3.0</td>\n",
              "    </tr>\n",
              "    <tr>\n",
              "      <th>4</th>\n",
              "      <td>-75.561804</td>\n",
              "      <td>6.236754</td>\n",
              "      <td>550560.0</td>\n",
              "      <td>1612817.0</td>\n",
              "      <td>14.0</td>\n",
              "      <td>2018.0</td>\n",
              "      <td>0.0</td>\n",
              "      <td>1.0</td>\n",
              "      <td>4.0</td>\n",
              "      <td>1.0</td>\n",
              "      <td>1.0</td>\n",
              "      <td>0.0</td>\n",
              "      <td>4.0</td>\n",
              "    </tr>\n",
              "  </tbody>\n",
              "</table>\n",
              "</div>"
            ],
            "text/plain": [
              "           X         Y  OBJECTID  ...  NUM_DISENO  NUM_CLASE  NUM_BARRIO\n",
              "0 -75.584608  6.261152  550556.0  ...         0.0        0.0         0.0\n",
              "1 -75.582266  6.293102  550557.0  ...         1.0        0.0         1.0\n",
              "2 -75.560337  6.252080  550558.0  ...         1.0        1.0         2.0\n",
              "3 -75.597828  6.222382  550559.0  ...         0.0        2.0         3.0\n",
              "4 -75.561804  6.236754  550560.0  ...         1.0        0.0         4.0\n",
              "\n",
              "[5 rows x 13 columns]"
            ]
          },
          "metadata": {
            "tags": []
          },
          "execution_count": 4
        }
      ]
    },
    {
      "cell_type": "code",
      "metadata": {
        "id": "ytkrrV3s3YqI",
        "colab_type": "code",
        "colab": {}
      },
      "source": [
        "from sklearn.model_selection import train_test_split\n",
        "\n",
        "X_train, X_test, y_train, y_test = train_test_split(X, y, test_size=0.4)"
      ],
      "execution_count": 0,
      "outputs": []
    },
    {
      "cell_type": "code",
      "metadata": {
        "id": "J3WmwnXh85Cv",
        "colab_type": "code",
        "outputId": "b97e91c8-adca-4bff-d71a-0793266e05ce",
        "colab": {
          "base_uri": "https://localhost:8080/",
          "height": 51
        }
      },
      "source": [
        "print(f'Numero en entrenamiento : {len(X_train)}')\n",
        "print(f'Numero en prueba : {len(y_test)}')\n"
      ],
      "execution_count": 6,
      "outputs": [
        {
          "output_type": "stream",
          "text": [
            "Numero en entrenamiento : 42551\n",
            "Numero en prueba : 28368\n"
          ],
          "name": "stdout"
        }
      ]
    },
    {
      "cell_type": "code",
      "metadata": {
        "id": "o7QoPQfi3cy9",
        "colab_type": "code",
        "colab": {}
      },
      "source": [
        "clf = GaussianNB()"
      ],
      "execution_count": 0,
      "outputs": []
    },
    {
      "cell_type": "code",
      "metadata": {
        "id": "vhV2uanD3o2A",
        "colab_type": "code",
        "outputId": "541b05bc-10be-4deb-c1c0-dd4961d137e6",
        "colab": {
          "base_uri": "https://localhost:8080/",
          "height": 34
        }
      },
      "source": [
        "clf.fit(X_train, y_train)"
      ],
      "execution_count": 8,
      "outputs": [
        {
          "output_type": "execute_result",
          "data": {
            "text/plain": [
              "GaussianNB(priors=None, var_smoothing=1e-09)"
            ]
          },
          "metadata": {
            "tags": []
          },
          "execution_count": 8
        }
      ]
    },
    {
      "cell_type": "code",
      "metadata": {
        "id": "P8uKew3m3dr2",
        "colab_type": "code",
        "colab": {}
      },
      "source": [
        "y_pred = clf.predict(X_test)"
      ],
      "execution_count": 0,
      "outputs": []
    },
    {
      "cell_type": "code",
      "metadata": {
        "id": "o8DkEabp3uCL",
        "colab_type": "code",
        "outputId": "e021cf36-3361-41c7-893f-7633d703d7ad",
        "colab": {
          "base_uri": "https://localhost:8080/",
          "height": 204
        }
      },
      "source": [
        "from sklearn.metrics import confusion_matrix\n",
        "matriz = pd.crosstab(y_test, y_pred, rownames=['Gravedad'], colnames=['Predicted'], margins=True)\n",
        "matriz"
      ],
      "execution_count": 24,
      "outputs": [
        {
          "output_type": "execute_result",
          "data": {
            "text/html": [
              "<div>\n",
              "<style scoped>\n",
              "    .dataframe tbody tr th:only-of-type {\n",
              "        vertical-align: middle;\n",
              "    }\n",
              "\n",
              "    .dataframe tbody tr th {\n",
              "        vertical-align: top;\n",
              "    }\n",
              "\n",
              "    .dataframe thead th {\n",
              "        text-align: right;\n",
              "    }\n",
              "</style>\n",
              "<table border=\"1\" class=\"dataframe\">\n",
              "  <thead>\n",
              "    <tr style=\"text-align: right;\">\n",
              "      <th>Predicted</th>\n",
              "      <th>0.0</th>\n",
              "      <th>1.0</th>\n",
              "      <th>All</th>\n",
              "    </tr>\n",
              "    <tr>\n",
              "      <th>Gravedad</th>\n",
              "      <th></th>\n",
              "      <th></th>\n",
              "      <th></th>\n",
              "    </tr>\n",
              "  </thead>\n",
              "  <tbody>\n",
              "    <tr>\n",
              "      <th>0.0</th>\n",
              "      <td>9682</td>\n",
              "      <td>5219</td>\n",
              "      <td>14901</td>\n",
              "    </tr>\n",
              "    <tr>\n",
              "      <th>1.0</th>\n",
              "      <td>1766</td>\n",
              "      <td>11604</td>\n",
              "      <td>13370</td>\n",
              "    </tr>\n",
              "    <tr>\n",
              "      <th>2.0</th>\n",
              "      <td>46</td>\n",
              "      <td>51</td>\n",
              "      <td>97</td>\n",
              "    </tr>\n",
              "    <tr>\n",
              "      <th>All</th>\n",
              "      <td>11494</td>\n",
              "      <td>16874</td>\n",
              "      <td>28368</td>\n",
              "    </tr>\n",
              "  </tbody>\n",
              "</table>\n",
              "</div>"
            ],
            "text/plain": [
              "Predicted    0.0    1.0    All\n",
              "Gravedad                      \n",
              "0.0         9682   5219  14901\n",
              "1.0         1766  11604  13370\n",
              "2.0           46     51     97\n",
              "All        11494  16874  28368"
            ]
          },
          "metadata": {
            "tags": []
          },
          "execution_count": 24
        }
      ]
    },
    {
      "cell_type": "code",
      "metadata": {
        "id": "LPg_M9di8Xin",
        "colab_type": "code",
        "colab": {
          "base_uri": "https://localhost:8080/",
          "height": 328
        },
        "outputId": "96e13895-a62d-4f96-80e1-042338f844a7"
      },
      "source": [
        "def plot_confusion_matrix(matriz , title='Confusion matrix', cmap=plt.cm.gray_r):\n",
        "    plt.matshow(matriz , cmap=cmap)\n",
        "    #plt.title(title)\n",
        "    plt.colorbar()\n",
        "    tick_marks = np.arange(len(matriz .columns))\n",
        "    plt.xticks(tick_marks, matriz .columns, rotation=45)\n",
        "    plt.yticks(tick_marks, matriz .index)\n",
        "    #plt.tight_layout()\n",
        "    plt.ylabel(matriz .index.name)\n",
        "    plt.xlabel(matriz .columns.name)\n",
        "\n",
        "plot_confusion_matrix(matriz )"
      ],
      "execution_count": 25,
      "outputs": [
        {
          "output_type": "display_data",
          "data": {
            "image/png": "[encoded data removed]",
            "text/plain": [
              "<Figure size 288x384 with 2 Axes>"
            ]
          },
          "metadata": {
            "tags": [],
            "needs_background": "light"
          }
        }
      ]
    },
    {
      "cell_type": "code",
      "metadata": {
        "id": "5H6vE4hhUvAB",
        "colab_type": "code",
        "outputId": "83b7fdea-f19a-4fe3-db1b-d375a2e7a9a9",
        "colab": {
          "base_uri": "https://localhost:8080/",
          "height": 51
        }
      },
      "source": [
        "from sklearn.metrics import precision_score\n",
        "precision = precision_score(y_test, y_pred, average='micro')\n",
        "print('Precisión del modelo:')\n",
        "print(precision)"
      ],
      "execution_count": 26,
      "outputs": [
        {
          "output_type": "stream",
          "text": [
            "Precisión del modelo:\n",
            "0.7503525098702764\n"
          ],
          "name": "stdout"
        }
      ]
    },
    {
      "cell_type": "code",
      "metadata": {
        "id": "2AShvP5M30WP",
        "colab_type": "code",
        "colab": {}
      },
      "source": [
        "Y_train=X_train[\"NUM_GRAVEDAD\"]"
      ],
      "execution_count": 0,
      "outputs": []
    },
    {
      "cell_type": "code",
      "metadata": {
        "id": "VGuptfYv35JV",
        "colab_type": "code",
        "colab": {}
      },
      "source": [
        "submission=pd.DataFrame()\n",
        "submission[\"RADICADO\"]=X_train[\"RADICADO\"]"
      ],
      "execution_count": 0,
      "outputs": []
    },
    {
      "cell_type": "code",
      "metadata": {
        "id": "MMqIYMpu35Mu",
        "colab_type": "code",
        "outputId": "47d40232-74b3-44e2-db87-7b0d233fe961",
        "colab": {
          "base_uri": "https://localhost:8080/",
          "height": 359
        }
      },
      "source": [
        "\"\"\"Make a Csv with Results\"\"\"\n",
        "pred = pd.DataFrame(clf.predict(X_test),columns=[\"clasificacion\"])\n",
        "submission=submission.join(pred,how=\"inner\")\n",
        "submission.to_csv(\"prediccion.csv\", index=False)\n",
        "submission.head(10)"
      ],
      "execution_count": 31,
      "outputs": [
        {
          "output_type": "execute_result",
          "data": {
            "text/html": [
              "<div>\n",
              "<style scoped>\n",
              "    .dataframe tbody tr th:only-of-type {\n",
              "        vertical-align: middle;\n",
              "    }\n",
              "\n",
              "    .dataframe tbody tr th {\n",
              "        vertical-align: top;\n",
              "    }\n",
              "\n",
              "    .dataframe thead th {\n",
              "        text-align: right;\n",
              "    }\n",
              "</style>\n",
              "<table border=\"1\" class=\"dataframe\">\n",
              "  <thead>\n",
              "    <tr style=\"text-align: right;\">\n",
              "      <th></th>\n",
              "      <th>RADICADO</th>\n",
              "      <th>clasificacion</th>\n",
              "    </tr>\n",
              "  </thead>\n",
              "  <tbody>\n",
              "    <tr>\n",
              "      <th>27373</th>\n",
              "      <td>1640442.0</td>\n",
              "      <td>0.0</td>\n",
              "    </tr>\n",
              "    <tr>\n",
              "      <th>8889</th>\n",
              "      <td>1614124.0</td>\n",
              "      <td>0.0</td>\n",
              "    </tr>\n",
              "    <tr>\n",
              "      <th>10088</th>\n",
              "      <td>1624967.0</td>\n",
              "      <td>1.0</td>\n",
              "    </tr>\n",
              "    <tr>\n",
              "      <th>26412</th>\n",
              "      <td>1644977.0</td>\n",
              "      <td>0.0</td>\n",
              "    </tr>\n",
              "    <tr>\n",
              "      <th>10174</th>\n",
              "      <td>1628729.0</td>\n",
              "      <td>0.0</td>\n",
              "    </tr>\n",
              "    <tr>\n",
              "      <th>8039</th>\n",
              "      <td>1619611.0</td>\n",
              "      <td>1.0</td>\n",
              "    </tr>\n",
              "    <tr>\n",
              "      <th>12186</th>\n",
              "      <td>1624703.0</td>\n",
              "      <td>0.0</td>\n",
              "    </tr>\n",
              "    <tr>\n",
              "      <th>11783</th>\n",
              "      <td>1625162.0</td>\n",
              "      <td>0.0</td>\n",
              "    </tr>\n",
              "    <tr>\n",
              "      <th>19306</th>\n",
              "      <td>1632241.0</td>\n",
              "      <td>1.0</td>\n",
              "    </tr>\n",
              "    <tr>\n",
              "      <th>10111</th>\n",
              "      <td>1622875.0</td>\n",
              "      <td>1.0</td>\n",
              "    </tr>\n",
              "  </tbody>\n",
              "</table>\n",
              "</div>"
            ],
            "text/plain": [
              "        RADICADO  clasificacion\n",
              "27373  1640442.0            0.0\n",
              "8889   1614124.0            0.0\n",
              "10088  1624967.0            1.0\n",
              "26412  1644977.0            0.0\n",
              "10174  1628729.0            0.0\n",
              "8039   1619611.0            1.0\n",
              "12186  1624703.0            0.0\n",
              "11783  1625162.0            0.0\n",
              "19306  1632241.0            1.0\n",
              "10111  1622875.0            1.0"
            ]
          },
          "metadata": {
            "tags": []
          },
          "execution_count": 31
        }
      ]
    },
    {
      "cell_type": "code",
      "metadata": {
        "id": "JHaDlxmk35Pc",
        "colab_type": "code",
        "outputId": "39325990-c155-469e-a9b2-070aff756fa0",
        "colab": {
          "base_uri": "https://localhost:8080/",
          "height": 68
        }
      },
      "source": [
        "pred['clasificacion'].value_counts()"
      ],
      "execution_count": 32,
      "outputs": [
        {
          "output_type": "execute_result",
          "data": {
            "text/plain": [
              "1.0    16874\n",
              "0.0    11494\n",
              "Name: clasificacion, dtype: int64"
            ]
          },
          "metadata": {
            "tags": []
          },
          "execution_count": 32
        }
      ]
    },
    {
      "cell_type": "code",
      "metadata": {
        "id": "37eF2WHRLM-r",
        "colab_type": "code",
        "colab": {}
      },
      "source": [
        ""
      ],
      "execution_count": 0,
      "outputs": []
    }
  ]
}