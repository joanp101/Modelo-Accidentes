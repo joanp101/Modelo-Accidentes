{
  "nbformat": 4,
  "nbformat_minor": 0,
  "metadata": {
    "colab": {
      "name": "naive_bayes.ipynb",
      "provenance": [],
      "collapsed_sections": []
    },
    "kernelspec": {
      "name": "python3",
      "display_name": "Python 3"
    }
  },
  "cells": [
    {
      "cell_type": "code",
      "metadata": {
        "id": "8zKE3NoUVa3E",
        "colab_type": "code",
        "colab": {}
      },
      "source": [
        "import pandas as pd\n",
        "import matplotlib.pyplot as plt\n",
        "import numpy as np\n",
        "import seaborn as sns\n",
        "from sklearn.naive_bayes import GaussianNB"
      ],
      "execution_count": 0,
      "outputs": []
    },
    {
      "cell_type": "code",
      "metadata": {
        "id": "su7SnWfQVibt",
        "colab_type": "code",
        "colab": {}
      },
      "source": [
        "df = pd.read_csv('X.csv')\n",
        "obj = pd.read_csv('accidentes_obj.csv')"
      ],
      "execution_count": 0,
      "outputs": []
    },
    {
      "cell_type": "code",
      "metadata": {
        "id": "KHg6l2nZ23VF",
        "colab_type": "code",
        "colab": {}
      },
      "source": [
        "df = df.drop(['NUM_GRAVEDAD'],axis=1)\n",
        "y = obj.drop(['FECHA',\t'HORA',\t'CLASE',\t'DIRECCION',\t'DIRECCION_ENC','CBML','TIPO_GEOCOD',\t'BARRIO',\t'COMUNA',\t'DISENO',\t'MES_NOMBRE'], axis = 1)"
      ],
      "execution_count": 0,
      "outputs": []
    },
    {
      "cell_type": "code",
      "metadata": {
        "id": "1edAhk_AOwu-",
        "colab_type": "code",
        "colab": {}
      },
      "source": [
        "df['clasificacion'] = y['GRAVEDAD']"
      ],
      "execution_count": 0,
      "outputs": []
    },
    {
      "cell_type": "code",
      "metadata": {
        "id": "s0nWrXGLV5a7",
        "colab_type": "code",
        "outputId": "35176aba-177b-46da-9566-80ba4beef51d",
        "colab": {
          "base_uri": "https://localhost:8080/",
          "height": 204
        }
      },
      "source": [
        "df.head(5)"
      ],
      "execution_count": 90,
      "outputs": [
        {
          "output_type": "execute_result",
          "data": {
            "text/html": [
              "<div>\n",
              "<style scoped>\n",
              "    .dataframe tbody tr th:only-of-type {\n",
              "        vertical-align: middle;\n",
              "    }\n",
              "\n",
              "    .dataframe tbody tr th {\n",
              "        vertical-align: top;\n",
              "    }\n",
              "\n",
              "    .dataframe thead th {\n",
              "        text-align: right;\n",
              "    }\n",
              "</style>\n",
              "<table border=\"1\" class=\"dataframe\">\n",
              "  <thead>\n",
              "    <tr style=\"text-align: right;\">\n",
              "      <th></th>\n",
              "      <th>X</th>\n",
              "      <th>Y</th>\n",
              "      <th>OBJECTID</th>\n",
              "      <th>RADICADO</th>\n",
              "      <th>DIA</th>\n",
              "      <th>PERIODO</th>\n",
              "      <th>DIA_SEMANA</th>\n",
              "      <th>MES</th>\n",
              "      <th>NUM_COMUNA</th>\n",
              "      <th>NUM_DISENO</th>\n",
              "      <th>NUM_CLASE</th>\n",
              "      <th>NUM_BARRIO</th>\n",
              "      <th>clasificacion</th>\n",
              "    </tr>\n",
              "  </thead>\n",
              "  <tbody>\n",
              "    <tr>\n",
              "      <th>0</th>\n",
              "      <td>-75.584608</td>\n",
              "      <td>6.261152</td>\n",
              "      <td>550556.0</td>\n",
              "      <td>1612819.0</td>\n",
              "      <td>14.0</td>\n",
              "      <td>2018.0</td>\n",
              "      <td>0.0</td>\n",
              "      <td>1.0</td>\n",
              "      <td>0.0</td>\n",
              "      <td>0.0</td>\n",
              "      <td>0.0</td>\n",
              "      <td>0.0</td>\n",
              "      <td>HERIDO</td>\n",
              "    </tr>\n",
              "    <tr>\n",
              "      <th>1</th>\n",
              "      <td>-75.582266</td>\n",
              "      <td>6.293102</td>\n",
              "      <td>550557.0</td>\n",
              "      <td>1612866.0</td>\n",
              "      <td>14.0</td>\n",
              "      <td>2018.0</td>\n",
              "      <td>0.0</td>\n",
              "      <td>1.0</td>\n",
              "      <td>1.0</td>\n",
              "      <td>1.0</td>\n",
              "      <td>0.0</td>\n",
              "      <td>1.0</td>\n",
              "      <td>SOLO DAÑOS</td>\n",
              "    </tr>\n",
              "    <tr>\n",
              "      <th>2</th>\n",
              "      <td>-75.560337</td>\n",
              "      <td>6.252080</td>\n",
              "      <td>550558.0</td>\n",
              "      <td>1612809.0</td>\n",
              "      <td>14.0</td>\n",
              "      <td>2018.0</td>\n",
              "      <td>0.0</td>\n",
              "      <td>1.0</td>\n",
              "      <td>2.0</td>\n",
              "      <td>1.0</td>\n",
              "      <td>1.0</td>\n",
              "      <td>2.0</td>\n",
              "      <td>HERIDO</td>\n",
              "    </tr>\n",
              "    <tr>\n",
              "      <th>3</th>\n",
              "      <td>-75.597828</td>\n",
              "      <td>6.222382</td>\n",
              "      <td>550559.0</td>\n",
              "      <td>1612812.0</td>\n",
              "      <td>14.0</td>\n",
              "      <td>2018.0</td>\n",
              "      <td>0.0</td>\n",
              "      <td>1.0</td>\n",
              "      <td>3.0</td>\n",
              "      <td>0.0</td>\n",
              "      <td>2.0</td>\n",
              "      <td>3.0</td>\n",
              "      <td>HERIDO</td>\n",
              "    </tr>\n",
              "    <tr>\n",
              "      <th>4</th>\n",
              "      <td>-75.561804</td>\n",
              "      <td>6.236754</td>\n",
              "      <td>550560.0</td>\n",
              "      <td>1612817.0</td>\n",
              "      <td>14.0</td>\n",
              "      <td>2018.0</td>\n",
              "      <td>0.0</td>\n",
              "      <td>1.0</td>\n",
              "      <td>4.0</td>\n",
              "      <td>1.0</td>\n",
              "      <td>0.0</td>\n",
              "      <td>4.0</td>\n",
              "      <td>SOLO DAÑOS</td>\n",
              "    </tr>\n",
              "  </tbody>\n",
              "</table>\n",
              "</div>"
            ],
            "text/plain": [
              "           X         Y  OBJECTID  ...  NUM_CLASE  NUM_BARRIO  clasificacion\n",
              "0 -75.584608  6.261152  550556.0  ...        0.0         0.0         HERIDO\n",
              "1 -75.582266  6.293102  550557.0  ...        0.0         1.0     SOLO DAÑOS\n",
              "2 -75.560337  6.252080  550558.0  ...        1.0         2.0         HERIDO\n",
              "3 -75.597828  6.222382  550559.0  ...        2.0         3.0         HERIDO\n",
              "4 -75.561804  6.236754  550560.0  ...        0.0         4.0     SOLO DAÑOS\n",
              "\n",
              "[5 rows x 13 columns]"
            ]
          },
          "metadata": {
            "tags": []
          },
          "execution_count": 90
        }
      ]
    },
    {
      "cell_type": "code",
      "metadata": {
        "id": "ytkrrV3s3YqI",
        "colab_type": "code",
        "colab": {}
      },
      "source": [
        "trainRandom = np.random.rand(len(df))< 0.6\n",
        "train= df[trainRandom]\n",
        "test = df[~trainRandom]"
      ],
      "execution_count": 0,
      "outputs": []
    },
    {
      "cell_type": "code",
      "metadata": {
        "id": "J3WmwnXh85Cv",
        "colab_type": "code",
        "outputId": "02d734ff-5fc4-4d12-e282-654be7cd2625",
        "colab": {
          "base_uri": "https://localhost:8080/",
          "height": 51
        }
      },
      "source": [
        "print(f'Numero en entrenamiento : {len(train)}')\n",
        "print(f'Numero en prueba : {len(test)}')\n"
      ],
      "execution_count": 92,
      "outputs": [
        {
          "output_type": "stream",
          "text": [
            "Numero en entrenamiento : 42594\n",
            "Numero en prueba : 28325\n"
          ],
          "name": "stdout"
        }
      ]
    },
    {
      "cell_type": "code",
      "metadata": {
        "id": "k2dskQLgQXO8",
        "colab_type": "code",
        "colab": {
          "base_uri": "https://localhost:8080/",
          "height": 68
        },
        "outputId": "089d1296-01ee-4b92-80ba-8ab6c22c1efc"
      },
      "source": [
        "features = df.columns[:12]\n",
        "features"
      ],
      "execution_count": 104,
      "outputs": [
        {
          "output_type": "execute_result",
          "data": {
            "text/plain": [
              "Index(['X', 'Y', 'OBJECTID', 'RADICADO', 'DIA', 'PERIODO', 'DIA_SEMANA', 'MES',\n",
              "       'NUM_COMUNA', 'NUM_DISENO', 'NUM_CLASE', 'NUM_BARRIO'],\n",
              "      dtype='object')"
            ]
          },
          "metadata": {
            "tags": []
          },
          "execution_count": 104
        }
      ]
    },
    {
      "cell_type": "code",
      "metadata": {
        "id": "DHvN2VrUQXaZ",
        "colab_type": "code",
        "colab": {}
      },
      "source": [
        "y_ = pd.factorize(train['clasificacion'])[0]\n",
        "p = pd.DataFrame({\"clase\":y_})"
      ],
      "execution_count": 0,
      "outputs": []
    },
    {
      "cell_type": "code",
      "metadata": {
        "id": "o7QoPQfi3cy9",
        "colab_type": "code",
        "colab": {}
      },
      "source": [
        "clf = GaussianNB()"
      ],
      "execution_count": 0,
      "outputs": []
    },
    {
      "cell_type": "code",
      "metadata": {
        "id": "wGgKBRLUTAf6",
        "colab_type": "code",
        "colab": {
          "base_uri": "https://localhost:8080/",
          "height": 34
        },
        "outputId": "df2f437b-9ff3-4632-a58a-cae73b472f93"
      },
      "source": [
        "clf.fit(train[features], y_)"
      ],
      "execution_count": 108,
      "outputs": [
        {
          "output_type": "execute_result",
          "data": {
            "text/plain": [
              "GaussianNB(priors=None, var_smoothing=1e-09)"
            ]
          },
          "metadata": {
            "tags": []
          },
          "execution_count": 108
        }
      ]
    },
    {
      "cell_type": "code",
      "metadata": {
        "id": "AiVXuRgQRBue",
        "colab_type": "code",
        "colab": {
          "base_uri": "https://localhost:8080/",
          "height": 34
        },
        "outputId": "e68b44f8-e4e5-462a-b219-2321290ef3f6"
      },
      "source": [
        "clf.predict(test[features])"
      ],
      "execution_count": 109,
      "outputs": [
        {
          "output_type": "execute_result",
          "data": {
            "text/plain": [
              "array([0, 0, 0, ..., 1, 0, 1])"
            ]
          },
          "metadata": {
            "tags": []
          },
          "execution_count": 109
        }
      ]
    },
    {
      "cell_type": "code",
      "metadata": {
        "id": "vhV2uanD3o2A",
        "colab_type": "code",
        "colab": {}
      },
      "source": [
        "preds = df.clasificacion[clf.predict(test[features])]\n",
        "preds = np.array(preds[0:len(test)])"
      ],
      "execution_count": 0,
      "outputs": []
    },
    {
      "cell_type": "code",
      "metadata": {
        "id": "o8DkEabp3uCL",
        "colab_type": "code",
        "outputId": "25ca612b-732c-4412-b282-43847b68d26b",
        "colab": {
          "base_uri": "https://localhost:8080/",
          "height": 204
        }
      },
      "source": [
        "from sklearn.metrics import confusion_matrix\n",
        "matrix = pd.crosstab(test['clasificacion'],preds, rownames=['Gravedad'], colnames=['Predicted'], margins = True)\n",
        "matrix\n"
      ],
      "execution_count": 114,
      "outputs": [
        {
          "output_type": "execute_result",
          "data": {
            "text/html": [
              "<div>\n",
              "<style scoped>\n",
              "    .dataframe tbody tr th:only-of-type {\n",
              "        vertical-align: middle;\n",
              "    }\n",
              "\n",
              "    .dataframe tbody tr th {\n",
              "        vertical-align: top;\n",
              "    }\n",
              "\n",
              "    .dataframe thead th {\n",
              "        text-align: right;\n",
              "    }\n",
              "</style>\n",
              "<table border=\"1\" class=\"dataframe\">\n",
              "  <thead>\n",
              "    <tr style=\"text-align: right;\">\n",
              "      <th>Predicted</th>\n",
              "      <th>HERIDO</th>\n",
              "      <th>SOLO DAÑOS</th>\n",
              "      <th>All</th>\n",
              "    </tr>\n",
              "    <tr>\n",
              "      <th>Gravedad</th>\n",
              "      <th></th>\n",
              "      <th></th>\n",
              "      <th></th>\n",
              "    </tr>\n",
              "  </thead>\n",
              "  <tbody>\n",
              "    <tr>\n",
              "      <th>HERIDO</th>\n",
              "      <td>6427</td>\n",
              "      <td>8602</td>\n",
              "      <td>15029</td>\n",
              "    </tr>\n",
              "    <tr>\n",
              "      <th>MUERTO</th>\n",
              "      <td>39</td>\n",
              "      <td>64</td>\n",
              "      <td>103</td>\n",
              "    </tr>\n",
              "    <tr>\n",
              "      <th>SOLO DAÑOS</th>\n",
              "      <td>10853</td>\n",
              "      <td>2340</td>\n",
              "      <td>13193</td>\n",
              "    </tr>\n",
              "    <tr>\n",
              "      <th>All</th>\n",
              "      <td>17319</td>\n",
              "      <td>11006</td>\n",
              "      <td>28325</td>\n",
              "    </tr>\n",
              "  </tbody>\n",
              "</table>\n",
              "</div>"
            ],
            "text/plain": [
              "Predicted   HERIDO  SOLO DAÑOS    All\n",
              "Gravedad                             \n",
              "HERIDO        6427        8602  15029\n",
              "MUERTO          39          64    103\n",
              "SOLO DAÑOS   10853        2340  13193\n",
              "All          17319       11006  28325"
            ]
          },
          "metadata": {
            "tags": []
          },
          "execution_count": 114
        }
      ]
    },
    {
      "cell_type": "code",
      "metadata": {
        "id": "LPg_M9di8Xin",
        "colab_type": "code",
        "outputId": "8329f22b-a263-4f3e-9293-effacfffd83a",
        "colab": {
          "base_uri": "https://localhost:8080/",
          "height": 330
        }
      },
      "source": [
        "class_names = [0, 1]\n",
        "fig, ax = plt.subplots()\n",
        "tick_marks = np.arange(len(class_names))\n",
        "plt.xticks(tick_marks, class_names)\n",
        "plt.yticks(tick_marks, class_names)\n",
        "\n",
        "sns.heatmap(pd.DataFrame(matrix), annot = True, cmap = 'BuPu_r', fmt = 'g')\n",
        "ax.xaxis.set_label_position('top')\n",
        "plt.tight_layout()\n",
        "plt.title('Matriz de confusion', y = 1.1)\n",
        "plt.ylabel('Etiqueta actual')\n",
        "plt.xlabel('Etiqueta de prediccion')"
      ],
      "execution_count": 180,
      "outputs": [
        {
          "output_type": "execute_result",
          "data": {
            "text/plain": [
              "Text(0.5, 257.44, 'Etiqueta de prediccion')"
            ]
          },
          "metadata": {
            "tags": []
          },
          "execution_count": 180
        },
        {
          "output_type": "display_data",
          "data": {
            "image/png": "[encoded data removed]",
            "text/plain": [
              "<Figure size 432x288 with 2 Axes>"
            ]
          },
          "metadata": {
            "tags": [],
            "needs_background": "light"
          }
        }
      ]
    },
    {
      "cell_type": "code",
      "metadata": {
        "id": "5H6vE4hhUvAB",
        "colab_type": "code",
        "outputId": "666121ad-c8ab-4847-a9cf-73f4f9713002",
        "colab": {
          "base_uri": "https://localhost:8080/",
          "height": 51
        }
      },
      "source": [
        "from sklearn.metrics import accuracy_score\n",
        "precision = accuracy_score(test['clasificacion'], preds)\n",
        "print('Precisión del modelo:\\n',precision)"
      ],
      "execution_count": 146,
      "outputs": [
        {
          "output_type": "stream",
          "text": [
            "Precisión del modelo:\n",
            " 0.3095145631067961\n"
          ],
          "name": "stdout"
        }
      ]
    },
    {
      "cell_type": "code",
      "metadata": {
        "id": "cS4f8WqDTT-V",
        "colab_type": "code",
        "colab": {}
      },
      "source": [
        ""
      ],
      "execution_count": 0,
      "outputs": []
    }
  ]
}