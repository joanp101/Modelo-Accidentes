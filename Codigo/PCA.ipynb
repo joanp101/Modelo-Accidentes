{
  "nbformat": 4,
  "nbformat_minor": 0,
  "metadata": {
    "colab": {
      "name": "PCA (2).ipynb",
      "provenance": []
    },
    "kernelspec": {
      "display_name": "Python 3",
      "language": "python",
      "name": "python3"
    },
    "language_info": {
      "codemirror_mode": {
        "name": "ipython",
        "version": 3
      },
      "file_extension": ".py",
      "mimetype": "text/x-python",
      "name": "python",
      "nbconvert_exporter": "python",
      "pygments_lexer": "ipython3",
      "version": "3.8.1"
    }
  },
  "cells": [
    {
      "cell_type": "code",
      "metadata": {
        "colab_type": "code",
        "id": "Q_2KtRtUeKqj",
        "colab": {}
      },
      "source": [
        "import warnings\n",
        "warnings.simplefilter('ignore')"
      ],
      "execution_count": 0,
      "outputs": []
    },
    {
      "cell_type": "code",
      "metadata": {
        "colab_type": "code",
        "id": "4KislS5veKqr",
        "colab": {}
      },
      "source": [
        "%matplotlib inline\n",
        "\n",
        "import numpy as np\n",
        "import pandas as pd\n",
        "import matplotlib.pyplot as plt\n",
        "import sklearn\n",
        "import seaborn as sns\n",
        "\n",
        "from sklearn.decomposition import PCA\n",
        "from sklearn.decomposition import IncrementalPCA\n",
        "from sklearn.decomposition import KernelPCA\n",
        "\n",
        "\n",
        "from sklearn.linear_model import LogisticRegression\n",
        "\n",
        "from sklearn.preprocessing import StandardScaler\n",
        "from sklearn.model_selection import train_test_split"
      ],
      "execution_count": 0,
      "outputs": []
    },
    {
      "cell_type": "code",
      "metadata": {
        "colab_type": "code",
        "id": "zpytEU4veKqv",
        "colab": {}
      },
      "source": [
        "df_accidentes = pd.read_csv(\"X.csv\")"
      ],
      "execution_count": 0,
      "outputs": []
    },
    {
      "cell_type": "code",
      "metadata": {
        "colab_type": "code",
        "id": "YjGuZTlSeKqz",
        "outputId": "b767a3d6-d266-490c-a7b2-43cb6dd9c03a",
        "scrolled": true,
        "colab": {
          "base_uri": "https://localhost:8080/",
          "height": 359
        }
      },
      "source": [
        "df_accidentes.head(10)"
      ],
      "execution_count": 4,
      "outputs": [
        {
          "output_type": "execute_result",
          "data": {
            "text/html": [
              "<div>\n",
              "<style scoped>\n",
              "    .dataframe tbody tr th:only-of-type {\n",
              "        vertical-align: middle;\n",
              "    }\n",
              "\n",
              "    .dataframe tbody tr th {\n",
              "        vertical-align: top;\n",
              "    }\n",
              "\n",
              "    .dataframe thead th {\n",
              "        text-align: right;\n",
              "    }\n",
              "</style>\n",
              "<table border=\"1\" class=\"dataframe\">\n",
              "  <thead>\n",
              "    <tr style=\"text-align: right;\">\n",
              "      <th></th>\n",
              "      <th>X</th>\n",
              "      <th>Y</th>\n",
              "      <th>OBJECTID</th>\n",
              "      <th>RADICADO</th>\n",
              "      <th>DIA</th>\n",
              "      <th>PERIODO</th>\n",
              "      <th>CBML</th>\n",
              "      <th>DIA_SEMANA</th>\n",
              "      <th>MES</th>\n",
              "      <th>NUM_COMUNA</th>\n",
              "      <th>NUM_GRAVEDAD</th>\n",
              "      <th>NUM_DISENO</th>\n",
              "      <th>NUM_CLASE</th>\n",
              "    </tr>\n",
              "  </thead>\n",
              "  <tbody>\n",
              "    <tr>\n",
              "      <th>0</th>\n",
              "      <td>-75.578357</td>\n",
              "      <td>6.213719</td>\n",
              "      <td>673380.0</td>\n",
              "      <td>1642888.0</td>\n",
              "      <td>20.0</td>\n",
              "      <td>2018.0</td>\n",
              "      <td>1507.0</td>\n",
              "      <td>4.0</td>\n",
              "      <td>9.0</td>\n",
              "      <td>15.0</td>\n",
              "      <td>1.0</td>\n",
              "      <td>1.0</td>\n",
              "      <td>1.0</td>\n",
              "    </tr>\n",
              "    <tr>\n",
              "      <th>1</th>\n",
              "      <td>-75.592022</td>\n",
              "      <td>6.279157</td>\n",
              "      <td>557526.0</td>\n",
              "      <td>1620950.0</td>\n",
              "      <td>21.0</td>\n",
              "      <td>2018.0</td>\n",
              "      <td>715.0</td>\n",
              "      <td>3.0</td>\n",
              "      <td>3.0</td>\n",
              "      <td>7.0</td>\n",
              "      <td>1.0</td>\n",
              "      <td>1.0</td>\n",
              "      <td>2.0</td>\n",
              "    </tr>\n",
              "    <tr>\n",
              "      <th>2</th>\n",
              "      <td>-75.595882</td>\n",
              "      <td>6.275555</td>\n",
              "      <td>674912.0</td>\n",
              "      <td>1640270.0</td>\n",
              "      <td>30.0</td>\n",
              "      <td>2018.0</td>\n",
              "      <td>717.0</td>\n",
              "      <td>4.0</td>\n",
              "      <td>8.0</td>\n",
              "      <td>7.0</td>\n",
              "      <td>2.0</td>\n",
              "      <td>2.0</td>\n",
              "      <td>1.0</td>\n",
              "    </tr>\n",
              "    <tr>\n",
              "      <th>3</th>\n",
              "      <td>-75.567284</td>\n",
              "      <td>6.248271</td>\n",
              "      <td>674286.0</td>\n",
              "      <td>1641770.0</td>\n",
              "      <td>10.0</td>\n",
              "      <td>2018.0</td>\n",
              "      <td>1019.0</td>\n",
              "      <td>1.0</td>\n",
              "      <td>9.0</td>\n",
              "      <td>10.0</td>\n",
              "      <td>2.0</td>\n",
              "      <td>2.0</td>\n",
              "      <td>1.0</td>\n",
              "    </tr>\n",
              "    <tr>\n",
              "      <th>4</th>\n",
              "      <td>-75.576195</td>\n",
              "      <td>6.213677</td>\n",
              "      <td>681701.0</td>\n",
              "      <td>1645768.0</td>\n",
              "      <td>12.0</td>\n",
              "      <td>2018.0</td>\n",
              "      <td>1419.0</td>\n",
              "      <td>5.0</td>\n",
              "      <td>10.0</td>\n",
              "      <td>14.0</td>\n",
              "      <td>2.0</td>\n",
              "      <td>1.0</td>\n",
              "      <td>1.0</td>\n",
              "    </tr>\n",
              "    <tr>\n",
              "      <th>5</th>\n",
              "      <td>-75.603532</td>\n",
              "      <td>6.257358</td>\n",
              "      <td>685968.0</td>\n",
              "      <td>1653788.0</td>\n",
              "      <td>16.0</td>\n",
              "      <td>2018.0</td>\n",
              "      <td>1205.0</td>\n",
              "      <td>7.0</td>\n",
              "      <td>12.0</td>\n",
              "      <td>12.0</td>\n",
              "      <td>1.0</td>\n",
              "      <td>2.0</td>\n",
              "      <td>1.0</td>\n",
              "    </tr>\n",
              "    <tr>\n",
              "      <th>6</th>\n",
              "      <td>-75.578357</td>\n",
              "      <td>6.213719</td>\n",
              "      <td>679913.0</td>\n",
              "      <td>1647340.0</td>\n",
              "      <td>26.0</td>\n",
              "      <td>2018.0</td>\n",
              "      <td>1507.0</td>\n",
              "      <td>5.0</td>\n",
              "      <td>10.0</td>\n",
              "      <td>15.0</td>\n",
              "      <td>1.0</td>\n",
              "      <td>1.0</td>\n",
              "      <td>2.0</td>\n",
              "    </tr>\n",
              "    <tr>\n",
              "      <th>7</th>\n",
              "      <td>-75.545204</td>\n",
              "      <td>6.277668</td>\n",
              "      <td>674799.0</td>\n",
              "      <td>1641184.0</td>\n",
              "      <td>5.0</td>\n",
              "      <td>2018.0</td>\n",
              "      <td>302.0</td>\n",
              "      <td>3.0</td>\n",
              "      <td>9.0</td>\n",
              "      <td>3.0</td>\n",
              "      <td>2.0</td>\n",
              "      <td>1.0</td>\n",
              "      <td>1.0</td>\n",
              "    </tr>\n",
              "    <tr>\n",
              "      <th>8</th>\n",
              "      <td>-75.559241</td>\n",
              "      <td>6.248664</td>\n",
              "      <td>562288.0</td>\n",
              "      <td>1618534.0</td>\n",
              "      <td>2.0</td>\n",
              "      <td>2018.0</td>\n",
              "      <td>1016.0</td>\n",
              "      <td>5.0</td>\n",
              "      <td>3.0</td>\n",
              "      <td>10.0</td>\n",
              "      <td>2.0</td>\n",
              "      <td>2.0</td>\n",
              "      <td>1.0</td>\n",
              "    </tr>\n",
              "    <tr>\n",
              "      <th>9</th>\n",
              "      <td>-75.546005</td>\n",
              "      <td>6.233018</td>\n",
              "      <td>550047.0</td>\n",
              "      <td>1612113.0</td>\n",
              "      <td>6.0</td>\n",
              "      <td>2018.0</td>\n",
              "      <td>904.0</td>\n",
              "      <td>6.0</td>\n",
              "      <td>1.0</td>\n",
              "      <td>9.0</td>\n",
              "      <td>2.0</td>\n",
              "      <td>2.0</td>\n",
              "      <td>1.0</td>\n",
              "    </tr>\n",
              "  </tbody>\n",
              "</table>\n",
              "</div>"
            ],
            "text/plain": [
              "           X         Y  OBJECTID  ...  NUM_GRAVEDAD  NUM_DISENO  NUM_CLASE\n",
              "0 -75.578357  6.213719  673380.0  ...           1.0         1.0        1.0\n",
              "1 -75.592022  6.279157  557526.0  ...           1.0         1.0        2.0\n",
              "2 -75.595882  6.275555  674912.0  ...           2.0         2.0        1.0\n",
              "3 -75.567284  6.248271  674286.0  ...           2.0         2.0        1.0\n",
              "4 -75.576195  6.213677  681701.0  ...           2.0         1.0        1.0\n",
              "5 -75.603532  6.257358  685968.0  ...           1.0         2.0        1.0\n",
              "6 -75.578357  6.213719  679913.0  ...           1.0         1.0        2.0\n",
              "7 -75.545204  6.277668  674799.0  ...           2.0         1.0        1.0\n",
              "8 -75.559241  6.248664  562288.0  ...           2.0         2.0        1.0\n",
              "9 -75.546005  6.233018  550047.0  ...           2.0         2.0        1.0\n",
              "\n",
              "[10 rows x 13 columns]"
            ]
          },
          "metadata": {
            "tags": []
          },
          "execution_count": 4
        }
      ]
    },
    {
      "cell_type": "code",
      "metadata": {
        "colab_type": "code",
        "id": "5lsihljMeKq5",
        "outputId": "a0cf28e9-96d8-42cf-f43b-97403a849129",
        "scrolled": true,
        "colab": {
          "base_uri": "https://localhost:8080/",
          "height": 34
        }
      },
      "source": [
        "df_accidentes.shape"
      ],
      "execution_count": 5,
      "outputs": [
        {
          "output_type": "execute_result",
          "data": {
            "text/plain": [
              "(35472, 13)"
            ]
          },
          "metadata": {
            "tags": []
          },
          "execution_count": 5
        }
      ]
    },
    {
      "cell_type": "code",
      "metadata": {
        "colab_type": "code",
        "id": "2nFOIIOveKq_",
        "colab": {}
      },
      "source": [
        "dt_features = df_accidentes.drop(['NUM_GRAVEDAD'], axis =1)\n",
        "dt_target = df_accidentes['NUM_GRAVEDAD']\n",
        "\n",
        "dt_features = StandardScaler().fit_transform(dt_features)\n",
        "    \n",
        "X_train, X_test, y_train, y_test = train_test_split(dt_features, dt_target, test_size=0.6, random_state=50)"
      ],
      "execution_count": 0,
      "outputs": []
    },
    {
      "cell_type": "code",
      "metadata": {
        "colab_type": "code",
        "id": "J88NreeoeKrD",
        "outputId": "52c1cd57-aaf7-4fba-edbe-92349aedb073",
        "colab": {
          "base_uri": "https://localhost:8080/",
          "height": 51
        }
      },
      "source": [
        "print(f'Tamaño para X_train {X_train.shape}')\n",
        "print(f'Tamaño para y_train {y_train.shape}')"
      ],
      "execution_count": 7,
      "outputs": [
        {
          "output_type": "stream",
          "text": [
            "Tamaño para X_train (14188, 12)\n",
            "Tamaño para y_train (14188,)\n"
          ],
          "name": "stdout"
        }
      ]
    },
    {
      "cell_type": "code",
      "metadata": {
        "colab_type": "code",
        "id": "0zifNaNjeKrH",
        "outputId": "b537dc51-d05c-4e22-87c3-ea864ab63f09",
        "colab": {
          "base_uri": "https://localhost:8080/",
          "height": 34
        }
      },
      "source": [
        "#n_components = min(n_muestras, n_features)\n",
        "\n",
        "pca = PCA(n_components=3)\n",
        "pca.fit(X_train)\n",
        "\n",
        "ipca = IncrementalPCA(n_components=3, batch_size=10)\n",
        "ipca.fit(X_train)\n"
      ],
      "execution_count": 8,
      "outputs": [
        {
          "output_type": "execute_result",
          "data": {
            "text/plain": [
              "IncrementalPCA(batch_size=10, copy=True, n_components=3, whiten=False)"
            ]
          },
          "metadata": {
            "tags": []
          },
          "execution_count": 8
        }
      ]
    },
    {
      "cell_type": "code",
      "metadata": {
        "colab_type": "code",
        "id": "cNkQwClteKrL",
        "outputId": "42a6450a-ad2c-4d5c-8aee-68bf7c5f7100",
        "colab": {
          "base_uri": "https://localhost:8080/",
          "height": 265
        }
      },
      "source": [
        "plt.plot(range(len(pca.explained_variance_)), pca.explained_variance_ratio_)\n",
        "plt.show()"
      ],
      "execution_count": 9,
      "outputs": [
        {
          "output_type": "display_data",
          "data": {
            "image/png": "[encoded data removed]",
            "text/plain": [
              "<Figure size 432x288 with 1 Axes>"
            ]
          },
          "metadata": {
            "tags": []
          }
        }
      ]
    },
    {
      "cell_type": "code",
      "metadata": {
        "colab_type": "code",
        "id": "ApsuSjQxeKrP",
        "outputId": "7994ccd6-6e5f-466a-e89e-4fa00f7e0c4b",
        "colab": {
          "base_uri": "https://localhost:8080/",
          "height": 51
        }
      },
      "source": [
        "logistic = LogisticRegression(solver='lbfgs')\n",
        "    \n",
        "dt_train = pca.transform(X_train)\n",
        "dt_test = pca.transform(X_test)\n",
        "logistic.fit(dt_train,y_train)\n",
        "print(f'SCORE PCA {logistic.score(dt_test, y_test)}')\n",
        "\n",
        "dt_train = ipca.transform(X_train)\n",
        "dt_test = ipca.transform(X_test)\n",
        "logistic.fit(dt_train,y_train)\n",
        "print(f'SCORE IPCA {logistic.score(dt_test, y_test)}')"
      ],
      "execution_count": 10,
      "outputs": [
        {
          "output_type": "stream",
          "text": [
            "SCORE PCA 0.6455083630896448\n",
            "SCORE IPCA 0.62248637474159\n"
          ],
          "name": "stdout"
        }
      ]
    },
    {
      "cell_type": "markdown",
      "metadata": {
        "colab_type": "text",
        "id": "a-YhvGAAeKrU"
      },
      "source": [
        "El rendimiento es exactamente el mismo"
      ]
    },
    {
      "cell_type": "markdown",
      "metadata": {
        "colab_type": "text",
        "id": "AZIZXQdFeKrV"
      },
      "source": [
        "# Kernel"
      ]
    },
    {
      "cell_type": "code",
      "metadata": {
        "colab_type": "code",
        "id": "VDYwdms0eKrW",
        "outputId": "47148be5-ddce-4929-c493-5f47a2defd0e",
        "colab": {
          "base_uri": "https://localhost:8080/",
          "height": 85
        }
      },
      "source": [
        "kpca = KernelPCA(n_components =3, kernel='poly')\n",
        "kpca.fit(X_train)"
      ],
      "execution_count": 11,
      "outputs": [
        {
          "output_type": "execute_result",
          "data": {
            "text/plain": [
              "KernelPCA(alpha=1.0, coef0=1, copy_X=True, degree=3, eigen_solver='auto',\n",
              "          fit_inverse_transform=False, gamma=None, kernel='poly',\n",
              "          kernel_params=None, max_iter=None, n_components=3, n_jobs=None,\n",
              "          random_state=None, remove_zero_eig=False, tol=0)"
            ]
          },
          "metadata": {
            "tags": []
          },
          "execution_count": 11
        }
      ]
    },
    {
      "cell_type": "code",
      "metadata": {
        "colab_type": "code",
        "id": "D5fQvZhoeKra",
        "outputId": "5d1b9dd1-2bf0-4b1a-dd40-153fab0fc6b2",
        "colab": {
          "base_uri": "https://localhost:8080/",
          "height": 34
        }
      },
      "source": [
        "dt_train = kpca.transform(X_train)\n",
        "dt_test = kpca.transform(X_test)\n",
        "\n",
        "logistic = LogisticRegression(solver = 'lbfgs')\n",
        "logistic.fit(dt_train, y_train)\n",
        "print(f'SCORE KPCA {logistic.score(dt_test, y_test)}')"
      ],
      "execution_count": 12,
      "outputs": [
        {
          "output_type": "stream",
          "text": [
            "SCORE KPCA 0.5294587483555723\n"
          ],
          "name": "stdout"
        }
      ]
    },
    {
      "cell_type": "markdown",
      "metadata": {
        "colab_type": "text",
        "id": "iBXnb52neKrd"
      },
      "source": [
        "# Regularizacion"
      ]
    },
    {
      "cell_type": "code",
      "metadata": {
        "colab_type": "code",
        "id": "YPmdrYJKeKre",
        "colab": {}
      },
      "source": [
        "from sklearn.linear_model import LinearRegression\n",
        "from sklearn.linear_model import Lasso\n",
        "from sklearn.linear_model import Ridge\n",
        "from sklearn.metrics import mean_squared_error"
      ],
      "execution_count": 0,
      "outputs": []
    },
    {
      "cell_type": "code",
      "metadata": {
        "colab_type": "code",
        "id": "1uVPFgZBeKrh",
        "colab": {}
      },
      "source": [
        "X = df_accidentes[['X',\t'Y',\t'OBJECTID',\t'RADICADO',\t'DIA',\t'PERIODO',\t'CBML',\t'DIA_SEMANA',\t'MES',\t'NUM_COMUNA',\t'NUM_DISENO',\t'NUM_CLASE']]\n",
        "y = df_accidentes[['NUM_GRAVEDAD']]"
      ],
      "execution_count": 0,
      "outputs": []
    },
    {
      "cell_type": "code",
      "metadata": {
        "colab_type": "code",
        "id": "KCjaNUXGeKrl",
        "colab": {}
      },
      "source": [
        "X_train, X_test, y_train, y_test = train_test_split(X,y, test_size=0.25)\n"
      ],
      "execution_count": 0,
      "outputs": []
    },
    {
      "cell_type": "markdown",
      "metadata": {
        "colab_type": "text",
        "id": "MXe7XhCQeKrq"
      },
      "source": [
        "# Modelo linaeal"
      ]
    },
    {
      "cell_type": "code",
      "metadata": {
        "colab_type": "code",
        "id": "l_4MMSEheKrr",
        "colab": {}
      },
      "source": [
        "modelLinear = LinearRegression().fit(X_train, y_train)\n",
        "y_predict_linear = modelLinear.predict(X_test)"
      ],
      "execution_count": 0,
      "outputs": []
    },
    {
      "cell_type": "markdown",
      "metadata": {
        "colab_type": "text",
        "id": "Ka-n4e3XeKrv"
      },
      "source": [
        "# modelo Lasso"
      ]
    },
    {
      "cell_type": "code",
      "metadata": {
        "colab_type": "code",
        "id": "MeP3VFoLeKrw",
        "colab": {}
      },
      "source": [
        "modelLasso = Lasso(alpha=0.02).fit(X_train, y_train)\n",
        "y_predict_lasso = modelLasso.predict(X_test)"
      ],
      "execution_count": 0,
      "outputs": []
    },
    {
      "cell_type": "markdown",
      "metadata": {
        "colab_type": "text",
        "id": "yazLM2jNeKr0"
      },
      "source": [
        "# Modelo Ridge"
      ]
    },
    {
      "cell_type": "code",
      "metadata": {
        "colab_type": "code",
        "id": "6zjNn6aEeKr1",
        "colab": {}
      },
      "source": [
        "modelRidge = Ridge(alpha=1).fit(X_train, y_train)\n",
        "y_predict_ridge = modelRidge.predict(X_test)"
      ],
      "execution_count": 0,
      "outputs": []
    },
    {
      "cell_type": "markdown",
      "metadata": {
        "colab_type": "text",
        "id": "TLCvnHuseKr5"
      },
      "source": [
        "# definiendo perdida"
      ]
    },
    {
      "cell_type": "code",
      "metadata": {
        "colab_type": "code",
        "id": "tByuwPT9eKr7",
        "colab": {}
      },
      "source": [
        "linear_loss = mean_squared_error(y_test, y_predict_linear)\n",
        "lasso_loss = mean_squared_error(y_test, y_predict_lasso)\n",
        "ridge_loss = mean_squared_error(y_test, y_predict_ridge)\n",
        "\n"
      ],
      "execution_count": 0,
      "outputs": []
    },
    {
      "cell_type": "code",
      "metadata": {
        "colab_type": "code",
        "id": "4YHt1Wn9eKr-",
        "outputId": "1a39e993-24f4-452b-a931-edd3530f2945",
        "colab": {
          "base_uri": "https://localhost:8080/",
          "height": 68
        }
      },
      "source": [
        "print(f'Linear Loss',linear_loss)\n",
        "print(f'Lasso Loss',lasso_loss)\n",
        "print(f'Ridge Loss',ridge_loss)"
      ],
      "execution_count": 20,
      "outputs": [
        {
          "output_type": "stream",
          "text": [
            "Linear Loss 0.18653027867623165\n",
            "Lasso Loss 0.19024894778965087\n",
            "Ridge Loss 0.1866216909853479\n"
          ],
          "name": "stdout"
        }
      ]
    },
    {
      "cell_type": "markdown",
      "metadata": {
        "colab_type": "text",
        "id": "icMCu_gPeKsD"
      },
      "source": [
        "# Coeficientes"
      ]
    },
    {
      "cell_type": "code",
      "metadata": {
        "colab_type": "code",
        "id": "TWdKXMNPeKsE",
        "outputId": "e2f2b944-2fec-40ca-c3cd-877c40fdc8a9",
        "colab": {
          "base_uri": "https://localhost:8080/",
          "height": 187
        }
      },
      "source": [
        "print(\"=\"*32)\n",
        "print(\"Coeficiente LASSO\")\n",
        "print(modelLasso.coef_)\n",
        "\n",
        "print(\"=\"*32)\n",
        "print(\"Coeficiente RIDGE\")\n",
        "print(modelRidge.coef_)"
      ],
      "execution_count": 21,
      "outputs": [
        {
          "output_type": "stream",
          "text": [
            "================================\n",
            "Coeficiente LASSO\n",
            "[ 0.00000000e+00 -0.00000000e+00 -9.74016450e-08  2.96513578e-07\n",
            " -7.21378626e-06 -0.00000000e+00 -2.04949251e-11 -0.00000000e+00\n",
            " -0.00000000e+00  7.90738750e-03 -0.00000000e+00 -1.49033966e-01]\n",
            "================================\n",
            "Coeficiente RIDGE\n",
            "[[ 6.88879490e-01 -1.14085955e+00  2.74693597e-07  9.73179315e-05\n",
            "  -1.22227083e-02 -4.29514122e+00 -2.51816293e-11 -3.67705480e-03\n",
            "  -3.64501490e-01  4.43233078e-03 -1.28226656e-02 -1.51357692e-01]]\n"
          ],
          "name": "stdout"
        }
      ]
    },
    {
      "cell_type": "code",
      "metadata": {
        "colab_type": "code",
        "id": "4pKwjXlLeKsH",
        "colab": {}
      },
      "source": [
        ""
      ],
      "execution_count": 0,
      "outputs": []
    }
  ]
}