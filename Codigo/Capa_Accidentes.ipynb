{
  "nbformat": 4,
  "nbformat_minor": 0,
  "metadata": {
    "colab": {
      "name": "Capa Accidentes",
      "provenance": [],
      "collapsed_sections": []
    },
    "kernelspec": {
      "name": "python3",
      "display_name": "Python 3"
    }
  },
  "cells": [
    {
      "cell_type": "code",
      "metadata": {
        "id": "R5Hat0leK2Oz",
        "colab_type": "code",
        "colab": {}
      },
      "source": [
        "import pandas as pd"
      ],
      "execution_count": 0,
      "outputs": []
    },
    {
      "cell_type": "code",
      "metadata": {
        "id": "RWYsUm9yLEQo",
        "colab_type": "code",
        "colab": {}
      },
      "source": [
        "df = pd.read_csv('subMuestra-Accidentalidad.csv')"
      ],
      "execution_count": 0,
      "outputs": []
    },
    {
      "cell_type": "code",
      "metadata": {
        "id": "EI1cYh7rLKAT",
        "colab_type": "code",
        "colab": {
          "base_uri": "https://localhost:8080/",
          "height": 34
        },
        "outputId": "4556c9b1-c23d-4f3d-e384-ce31ae17212f"
      },
      "source": [
        "df.shape"
      ],
      "execution_count": 139,
      "outputs": [
        {
          "output_type": "execute_result",
          "data": {
            "text/plain": [
              "(35619, 20)"
            ]
          },
          "metadata": {
            "tags": []
          },
          "execution_count": 139
        }
      ]
    },
    {
      "cell_type": "code",
      "metadata": {
        "id": "0ZnwgcHjXNHo",
        "colab_type": "code",
        "colab": {}
      },
      "source": [
        "df = df.drop(['DIRECCION_ENC','RADICADO','OBJECTID'], axis=1)"
      ],
      "execution_count": 0,
      "outputs": []
    },
    {
      "cell_type": "code",
      "metadata": {
        "id": "-BoeZ3WHXveN",
        "colab_type": "code",
        "colab": {}
      },
      "source": [
        "df.rename(columns={'CBML':'CODIGO CBML','DIA_NOMBRE':'NOMBRE DEL DIA','DISENO':'DISEÑO','MES_NOMBRE':'NOMBRE DEL MES','TIPO_GEOCOD':'TIPO DE COORDENADA'}, inplace = True)"
      ],
      "execution_count": 0,
      "outputs": []
    },
    {
      "cell_type": "code",
      "metadata": {
        "id": "GmwfRtH7LLUu",
        "colab_type": "code",
        "colab": {
          "base_uri": "https://localhost:8080/",
          "height": 357
        },
        "outputId": "6cb75864-d39f-4f49-92de-e5b2f8d86a88"
      },
      "source": [
        "df.head(5)"
      ],
      "execution_count": 142,
      "outputs": [
        {
          "output_type": "execute_result",
          "data": {
            "text/html": [
              "<div>\n",
              "<style scoped>\n",
              "    .dataframe tbody tr th:only-of-type {\n",
              "        vertical-align: middle;\n",
              "    }\n",
              "\n",
              "    .dataframe tbody tr th {\n",
              "        vertical-align: top;\n",
              "    }\n",
              "\n",
              "    .dataframe thead th {\n",
              "        text-align: right;\n",
              "    }\n",
              "</style>\n",
              "<table border=\"1\" class=\"dataframe\">\n",
              "  <thead>\n",
              "    <tr style=\"text-align: right;\">\n",
              "      <th></th>\n",
              "      <th>BARRIO</th>\n",
              "      <th>CODIGO CBML</th>\n",
              "      <th>CLASE</th>\n",
              "      <th>COMUNA</th>\n",
              "      <th>DIA</th>\n",
              "      <th>NOMBRE DEL DIA</th>\n",
              "      <th>DIRECCION</th>\n",
              "      <th>DISEÑO</th>\n",
              "      <th>FECHA</th>\n",
              "      <th>GRAVEDAD</th>\n",
              "      <th>HORA</th>\n",
              "      <th>MES</th>\n",
              "      <th>NOMBRE DEL MES</th>\n",
              "      <th>PERIODO</th>\n",
              "      <th>TIPO DE COORDENADA</th>\n",
              "      <th>X</th>\n",
              "      <th>Y</th>\n",
              "    </tr>\n",
              "  </thead>\n",
              "  <tbody>\n",
              "    <tr>\n",
              "      <th>0</th>\n",
              "      <td>Campo Amor</td>\n",
              "      <td>1507</td>\n",
              "      <td>Choque</td>\n",
              "      <td>Guayabal</td>\n",
              "      <td>20</td>\n",
              "      <td>JUEVES</td>\n",
              "      <td>CR 50 FF CL 9 AA</td>\n",
              "      <td>Tramo de via</td>\n",
              "      <td>2018-09-20T00:00:00.000Z</td>\n",
              "      <td>HERIDO</td>\n",
              "      <td>02:10:00 p. m.</td>\n",
              "      <td>9</td>\n",
              "      <td>SEPTIEMBRE</td>\n",
              "      <td>2018</td>\n",
              "      <td>Malla vial aproximada: CR 50-10</td>\n",
              "      <td>-75.578357</td>\n",
              "      <td>6.213719</td>\n",
              "    </tr>\n",
              "    <tr>\n",
              "      <th>1</th>\n",
              "      <td>Villa Flora</td>\n",
              "      <td>0715</td>\n",
              "      <td>Atropello</td>\n",
              "      <td>Robledo</td>\n",
              "      <td>21</td>\n",
              "      <td>MIÉRCOLES</td>\n",
              "      <td>CL 76 AE CR 83</td>\n",
              "      <td>Tramo de via</td>\n",
              "      <td>2018-03-21T00:00:00.000Z</td>\n",
              "      <td>HERIDO</td>\n",
              "      <td>08:30 PM</td>\n",
              "      <td>3</td>\n",
              "      <td>MARZO</td>\n",
              "      <td>2018</td>\n",
              "      <td>Malla vial</td>\n",
              "      <td>-75.592022</td>\n",
              "      <td>6.279157</td>\n",
              "    </tr>\n",
              "    <tr>\n",
              "      <th>2</th>\n",
              "      <td>Robledo</td>\n",
              "      <td>0717</td>\n",
              "      <td>Choque</td>\n",
              "      <td>Robledo</td>\n",
              "      <td>30</td>\n",
              "      <td>JUEVES</td>\n",
              "      <td>CR 85 CL 65</td>\n",
              "      <td>Interseccion</td>\n",
              "      <td>2018-08-30T00:00:00.000Z</td>\n",
              "      <td>SOLO DAÑOS</td>\n",
              "      <td>09:20:00 p. m.</td>\n",
              "      <td>8</td>\n",
              "      <td>AGOSTO</td>\n",
              "      <td>2018</td>\n",
              "      <td>Malla vial</td>\n",
              "      <td>-75.595882</td>\n",
              "      <td>6.275555</td>\n",
              "    </tr>\n",
              "    <tr>\n",
              "      <th>3</th>\n",
              "      <td>La Candelaria</td>\n",
              "      <td>1019</td>\n",
              "      <td>Choque</td>\n",
              "      <td>La Candelaria</td>\n",
              "      <td>10</td>\n",
              "      <td>LUNES</td>\n",
              "      <td>CL 49 A CR 49</td>\n",
              "      <td>Interseccion</td>\n",
              "      <td>2018-09-10T00:00:00.000Z</td>\n",
              "      <td>SOLO DAÑOS</td>\n",
              "      <td>08:50:00 a. m.</td>\n",
              "      <td>9</td>\n",
              "      <td>SEPTIEMBRE</td>\n",
              "      <td>2018</td>\n",
              "      <td>Malla vial aproximada: CL 49-49</td>\n",
              "      <td>-75.567284</td>\n",
              "      <td>6.248271</td>\n",
              "    </tr>\n",
              "    <tr>\n",
              "      <th>4</th>\n",
              "      <td>Manila</td>\n",
              "      <td>1419</td>\n",
              "      <td>Choque</td>\n",
              "      <td>El Poblado</td>\n",
              "      <td>12</td>\n",
              "      <td>VIERNES</td>\n",
              "      <td>CR 48 DD CL 9</td>\n",
              "      <td>Tramo de via</td>\n",
              "      <td>2018-10-12T00:00:00.000Z</td>\n",
              "      <td>SOLO DAÑOS</td>\n",
              "      <td>06:18:00 p. m.</td>\n",
              "      <td>10</td>\n",
              "      <td>OCTUBRE</td>\n",
              "      <td>2018</td>\n",
              "      <td>Malla vial aproximada: CR 48-10</td>\n",
              "      <td>-75.576195</td>\n",
              "      <td>6.213677</td>\n",
              "    </tr>\n",
              "  </tbody>\n",
              "</table>\n",
              "</div>"
            ],
            "text/plain": [
              "          BARRIO CODIGO CBML  ...          X         Y\n",
              "0     Campo Amor        1507  ... -75.578357  6.213719\n",
              "1    Villa Flora        0715  ... -75.592022  6.279157\n",
              "2        Robledo        0717  ... -75.595882  6.275555\n",
              "3  La Candelaria        1019  ... -75.567284  6.248271\n",
              "4         Manila        1419  ... -75.576195  6.213677\n",
              "\n",
              "[5 rows x 17 columns]"
            ]
          },
          "metadata": {
            "tags": []
          },
          "execution_count": 142
        }
      ]
    },
    {
      "cell_type": "code",
      "metadata": {
        "id": "E4SqrLXMLPsy",
        "colab_type": "code",
        "colab": {
          "base_uri": "https://localhost:8080/",
          "height": 425
        },
        "outputId": "bd0cafce-6c0e-4dbc-80ea-c4e01f29e732"
      },
      "source": [
        "df.info()"
      ],
      "execution_count": 143,
      "outputs": [
        {
          "output_type": "stream",
          "text": [
            "<class 'pandas.core.frame.DataFrame'>\n",
            "RangeIndex: 35619 entries, 0 to 35618\n",
            "Data columns (total 17 columns):\n",
            " #   Column              Non-Null Count  Dtype  \n",
            "---  ------              --------------  -----  \n",
            " 0   BARRIO              35566 non-null  object \n",
            " 1   CODIGO CBML         35577 non-null  object \n",
            " 2   CLASE               35619 non-null  object \n",
            " 3   COMUNA              35579 non-null  object \n",
            " 4   DIA                 35619 non-null  int64  \n",
            " 5   NOMBRE DEL DIA      35619 non-null  object \n",
            " 6   DIRECCION           35619 non-null  object \n",
            " 7   DISEÑO              35523 non-null  object \n",
            " 8   FECHA               35619 non-null  object \n",
            " 9   GRAVEDAD            35619 non-null  object \n",
            " 10  HORA                35619 non-null  object \n",
            " 11  MES                 35619 non-null  int64  \n",
            " 12  NOMBRE DEL MES      35619 non-null  object \n",
            " 13  PERIODO             35619 non-null  int64  \n",
            " 14  TIPO DE COORDENADA  35619 non-null  object \n",
            " 15  X                   35619 non-null  float64\n",
            " 16  Y                   35619 non-null  float64\n",
            "dtypes: float64(2), int64(3), object(12)\n",
            "memory usage: 4.6+ MB\n"
          ],
          "name": "stdout"
        }
      ]
    },
    {
      "cell_type": "code",
      "metadata": {
        "id": "IEA-y5j8aI6o",
        "colab_type": "code",
        "colab": {
          "base_uri": "https://localhost:8080/",
          "height": 85
        },
        "outputId": "a04aa98f-b8b2-4b3d-c47d-6cba244853fd"
      },
      "source": [
        "df.columns"
      ],
      "execution_count": 147,
      "outputs": [
        {
          "output_type": "execute_result",
          "data": {
            "text/plain": [
              "Index(['BARRIO', 'CODIGO CBML', 'CLASE', 'COMUNA', 'DIA', 'NOMBRE DEL DIA',\n",
              "       'DIRECCION', 'DISEÑO', 'FECHA', 'GRAVEDAD', 'HORA', 'MES',\n",
              "       'NOMBRE DEL MES', 'PERIODO', 'TIPO DE COORDENADA', 'X', 'Y'],\n",
              "      dtype='object')"
            ]
          },
          "metadata": {
            "tags": []
          },
          "execution_count": 147
        }
      ]
    },
    {
      "cell_type": "code",
      "metadata": {
        "id": "3xViGWTbM2zP",
        "colab_type": "code",
        "colab": {}
      },
      "source": [
        "#Eliminamos las filas de las columnas que no tienen información   \n",
        "df = df.drop(df[df['COMUNA']=='Sin Inf'].index)\n",
        "\n",
        "df.drop(df[df['CODIGO CBML'].isnull()].index, inplace = True)\n",
        "df.drop(df[df['BARRIO'].isnull()].index,inplace = True)\n",
        "df.drop(df[df['COMUNA'].isnull()].index, inplace = True)\n",
        "df.drop(df[df['DISEÑO'].isnull()].index, inplace = True)\n",
        "df.drop(df[df['GRAVEDAD'].isnull()].index, inplace = True)"
      ],
      "execution_count": 0,
      "outputs": []
    },
    {
      "cell_type": "code",
      "metadata": {
        "id": "tT9Vr4BzNLsj",
        "colab_type": "code",
        "colab": {
          "base_uri": "https://localhost:8080/",
          "height": 34
        },
        "outputId": "4b57a97f-507c-452d-dfef-b56c1146318b"
      },
      "source": [
        "df.shape"
      ],
      "execution_count": 150,
      "outputs": [
        {
          "output_type": "execute_result",
          "data": {
            "text/plain": [
              "(35472, 17)"
            ]
          },
          "metadata": {
            "tags": []
          },
          "execution_count": 150
        }
      ]
    },
    {
      "cell_type": "code",
      "metadata": {
        "id": "1Q2fbeM7NUFX",
        "colab_type": "code",
        "colab": {
          "base_uri": "https://localhost:8080/",
          "height": 425
        },
        "outputId": "15e007e3-ec02-4227-d650-f2ac9e941d95"
      },
      "source": [
        "df.info()"
      ],
      "execution_count": 151,
      "outputs": [
        {
          "output_type": "stream",
          "text": [
            "<class 'pandas.core.frame.DataFrame'>\n",
            "Int64Index: 35472 entries, 0 to 35618\n",
            "Data columns (total 17 columns):\n",
            " #   Column              Non-Null Count  Dtype  \n",
            "---  ------              --------------  -----  \n",
            " 0   BARRIO              35472 non-null  object \n",
            " 1   CODIGO CBML         35472 non-null  object \n",
            " 2   CLASE               35472 non-null  object \n",
            " 3   COMUNA              35472 non-null  object \n",
            " 4   DIA                 35472 non-null  int64  \n",
            " 5   NOMBRE DEL DIA      35472 non-null  object \n",
            " 6   DIRECCION           35472 non-null  object \n",
            " 7   DISEÑO              35472 non-null  object \n",
            " 8   FECHA               35472 non-null  object \n",
            " 9   GRAVEDAD            35472 non-null  object \n",
            " 10  HORA                35472 non-null  object \n",
            " 11  MES                 35472 non-null  int64  \n",
            " 12  NOMBRE DEL MES      35472 non-null  object \n",
            " 13  PERIODO             35472 non-null  int64  \n",
            " 14  TIPO DE COORDENADA  35472 non-null  object \n",
            " 15  X                   35472 non-null  float64\n",
            " 16  Y                   35472 non-null  float64\n",
            "dtypes: float64(2), int64(3), object(12)\n",
            "memory usage: 4.9+ MB\n"
          ],
          "name": "stdout"
        }
      ]
    },
    {
      "cell_type": "code",
      "metadata": {
        "id": "1B5FzrATOb72",
        "colab_type": "code",
        "colab": {
          "base_uri": "https://localhost:8080/",
          "height": 357
        },
        "outputId": "53c9df56-de10-4750-9141-acb8aee42093"
      },
      "source": [
        "df.head(5)"
      ],
      "execution_count": 152,
      "outputs": [
        {
          "output_type": "execute_result",
          "data": {
            "text/html": [
              "<div>\n",
              "<style scoped>\n",
              "    .dataframe tbody tr th:only-of-type {\n",
              "        vertical-align: middle;\n",
              "    }\n",
              "\n",
              "    .dataframe tbody tr th {\n",
              "        vertical-align: top;\n",
              "    }\n",
              "\n",
              "    .dataframe thead th {\n",
              "        text-align: right;\n",
              "    }\n",
              "</style>\n",
              "<table border=\"1\" class=\"dataframe\">\n",
              "  <thead>\n",
              "    <tr style=\"text-align: right;\">\n",
              "      <th></th>\n",
              "      <th>BARRIO</th>\n",
              "      <th>CODIGO CBML</th>\n",
              "      <th>CLASE</th>\n",
              "      <th>COMUNA</th>\n",
              "      <th>DIA</th>\n",
              "      <th>NOMBRE DEL DIA</th>\n",
              "      <th>DIRECCION</th>\n",
              "      <th>DISEÑO</th>\n",
              "      <th>FECHA</th>\n",
              "      <th>GRAVEDAD</th>\n",
              "      <th>HORA</th>\n",
              "      <th>MES</th>\n",
              "      <th>NOMBRE DEL MES</th>\n",
              "      <th>PERIODO</th>\n",
              "      <th>TIPO DE COORDENADA</th>\n",
              "      <th>X</th>\n",
              "      <th>Y</th>\n",
              "    </tr>\n",
              "  </thead>\n",
              "  <tbody>\n",
              "    <tr>\n",
              "      <th>0</th>\n",
              "      <td>Campo Amor</td>\n",
              "      <td>1507</td>\n",
              "      <td>Choque</td>\n",
              "      <td>Guayabal</td>\n",
              "      <td>20</td>\n",
              "      <td>JUEVES</td>\n",
              "      <td>CR 50 FF CL 9 AA</td>\n",
              "      <td>Tramo de via</td>\n",
              "      <td>2018-09-20T00:00:00.000Z</td>\n",
              "      <td>HERIDO</td>\n",
              "      <td>02:10:00 p. m.</td>\n",
              "      <td>9</td>\n",
              "      <td>SEPTIEMBRE</td>\n",
              "      <td>2018</td>\n",
              "      <td>Malla vial aproximada: CR 50-10</td>\n",
              "      <td>-75.578357</td>\n",
              "      <td>6.213719</td>\n",
              "    </tr>\n",
              "    <tr>\n",
              "      <th>1</th>\n",
              "      <td>Villa Flora</td>\n",
              "      <td>0715</td>\n",
              "      <td>Atropello</td>\n",
              "      <td>Robledo</td>\n",
              "      <td>21</td>\n",
              "      <td>MIÉRCOLES</td>\n",
              "      <td>CL 76 AE CR 83</td>\n",
              "      <td>Tramo de via</td>\n",
              "      <td>2018-03-21T00:00:00.000Z</td>\n",
              "      <td>HERIDO</td>\n",
              "      <td>08:30 PM</td>\n",
              "      <td>3</td>\n",
              "      <td>MARZO</td>\n",
              "      <td>2018</td>\n",
              "      <td>Malla vial</td>\n",
              "      <td>-75.592022</td>\n",
              "      <td>6.279157</td>\n",
              "    </tr>\n",
              "    <tr>\n",
              "      <th>2</th>\n",
              "      <td>Robledo</td>\n",
              "      <td>0717</td>\n",
              "      <td>Choque</td>\n",
              "      <td>Robledo</td>\n",
              "      <td>30</td>\n",
              "      <td>JUEVES</td>\n",
              "      <td>CR 85 CL 65</td>\n",
              "      <td>Interseccion</td>\n",
              "      <td>2018-08-30T00:00:00.000Z</td>\n",
              "      <td>SOLO DAÑOS</td>\n",
              "      <td>09:20:00 p. m.</td>\n",
              "      <td>8</td>\n",
              "      <td>AGOSTO</td>\n",
              "      <td>2018</td>\n",
              "      <td>Malla vial</td>\n",
              "      <td>-75.595882</td>\n",
              "      <td>6.275555</td>\n",
              "    </tr>\n",
              "    <tr>\n",
              "      <th>3</th>\n",
              "      <td>La Candelaria</td>\n",
              "      <td>1019</td>\n",
              "      <td>Choque</td>\n",
              "      <td>La Candelaria</td>\n",
              "      <td>10</td>\n",
              "      <td>LUNES</td>\n",
              "      <td>CL 49 A CR 49</td>\n",
              "      <td>Interseccion</td>\n",
              "      <td>2018-09-10T00:00:00.000Z</td>\n",
              "      <td>SOLO DAÑOS</td>\n",
              "      <td>08:50:00 a. m.</td>\n",
              "      <td>9</td>\n",
              "      <td>SEPTIEMBRE</td>\n",
              "      <td>2018</td>\n",
              "      <td>Malla vial aproximada: CL 49-49</td>\n",
              "      <td>-75.567284</td>\n",
              "      <td>6.248271</td>\n",
              "    </tr>\n",
              "    <tr>\n",
              "      <th>4</th>\n",
              "      <td>Manila</td>\n",
              "      <td>1419</td>\n",
              "      <td>Choque</td>\n",
              "      <td>El Poblado</td>\n",
              "      <td>12</td>\n",
              "      <td>VIERNES</td>\n",
              "      <td>CR 48 DD CL 9</td>\n",
              "      <td>Tramo de via</td>\n",
              "      <td>2018-10-12T00:00:00.000Z</td>\n",
              "      <td>SOLO DAÑOS</td>\n",
              "      <td>06:18:00 p. m.</td>\n",
              "      <td>10</td>\n",
              "      <td>OCTUBRE</td>\n",
              "      <td>2018</td>\n",
              "      <td>Malla vial aproximada: CR 48-10</td>\n",
              "      <td>-75.576195</td>\n",
              "      <td>6.213677</td>\n",
              "    </tr>\n",
              "  </tbody>\n",
              "</table>\n",
              "</div>"
            ],
            "text/plain": [
              "          BARRIO CODIGO CBML  ...          X         Y\n",
              "0     Campo Amor        1507  ... -75.578357  6.213719\n",
              "1    Villa Flora        0715  ... -75.592022  6.279157\n",
              "2        Robledo        0717  ... -75.595882  6.275555\n",
              "3  La Candelaria        1019  ... -75.567284  6.248271\n",
              "4         Manila        1419  ... -75.576195  6.213677\n",
              "\n",
              "[5 rows x 17 columns]"
            ]
          },
          "metadata": {
            "tags": []
          },
          "execution_count": 152
        }
      ]
    },
    {
      "cell_type": "code",
      "metadata": {
        "id": "0oUmTKncP__O",
        "colab_type": "code",
        "colab": {}
      },
      "source": [
        "df['FECHA'] = pd.to_datetime(df['FECHA'])"
      ],
      "execution_count": 0,
      "outputs": []
    },
    {
      "cell_type": "code",
      "metadata": {
        "id": "4YxZG0-rQ2v5",
        "colab_type": "code",
        "colab": {
          "base_uri": "https://localhost:8080/",
          "height": 425
        },
        "outputId": "5fe822e1-3f65-45f9-8a9d-2b3a09cab66c"
      },
      "source": [
        "df.info()"
      ],
      "execution_count": 154,
      "outputs": [
        {
          "output_type": "stream",
          "text": [
            "<class 'pandas.core.frame.DataFrame'>\n",
            "Int64Index: 35472 entries, 0 to 35618\n",
            "Data columns (total 17 columns):\n",
            " #   Column              Non-Null Count  Dtype              \n",
            "---  ------              --------------  -----              \n",
            " 0   BARRIO              35472 non-null  object             \n",
            " 1   CODIGO CBML         35472 non-null  object             \n",
            " 2   CLASE               35472 non-null  object             \n",
            " 3   COMUNA              35472 non-null  object             \n",
            " 4   DIA                 35472 non-null  int64              \n",
            " 5   NOMBRE DEL DIA      35472 non-null  object             \n",
            " 6   DIRECCION           35472 non-null  object             \n",
            " 7   DISEÑO              35472 non-null  object             \n",
            " 8   FECHA               35472 non-null  datetime64[ns, UTC]\n",
            " 9   GRAVEDAD            35472 non-null  object             \n",
            " 10  HORA                35472 non-null  object             \n",
            " 11  MES                 35472 non-null  int64              \n",
            " 12  NOMBRE DEL MES      35472 non-null  object             \n",
            " 13  PERIODO             35472 non-null  int64              \n",
            " 14  TIPO DE COORDENADA  35472 non-null  object             \n",
            " 15  X                   35472 non-null  float64            \n",
            " 16  Y                   35472 non-null  float64            \n",
            "dtypes: datetime64[ns, UTC](1), float64(2), int64(3), object(11)\n",
            "memory usage: 4.9+ MB\n"
          ],
          "name": "stdout"
        }
      ]
    },
    {
      "cell_type": "code",
      "metadata": {
        "id": "KrCU62thRDZz",
        "colab_type": "code",
        "colab": {}
      },
      "source": [
        "df['FECHA'] = df['FECHA'].dt.date\n"
      ],
      "execution_count": 0,
      "outputs": []
    },
    {
      "cell_type": "code",
      "metadata": {
        "id": "IGm4RJwdRLJJ",
        "colab_type": "code",
        "colab": {}
      },
      "source": [
        "df['HORA'] = pd.to_datetime(df['HORA'])"
      ],
      "execution_count": 0,
      "outputs": []
    },
    {
      "cell_type": "code",
      "metadata": {
        "id": "nfOT0oSwS1Pd",
        "colab_type": "code",
        "colab": {
          "base_uri": "https://localhost:8080/",
          "height": 221
        },
        "outputId": "6b49981b-8649-40cf-f67c-9629987cc214"
      },
      "source": [
        "df['HORA']"
      ],
      "execution_count": 157,
      "outputs": [
        {
          "output_type": "execute_result",
          "data": {
            "text/plain": [
              "0       2020-05-18 14:10:00\n",
              "1       2020-05-18 20:30:00\n",
              "2       2020-05-18 21:20:00\n",
              "3       2020-05-18 08:50:00\n",
              "4       2020-05-18 18:18:00\n",
              "                ...        \n",
              "35614   2020-05-18 18:50:00\n",
              "35615   2020-05-18 01:00:00\n",
              "35616   2020-05-18 10:30:00\n",
              "35617   2020-05-18 16:00:00\n",
              "35618   2020-05-18 16:20:00\n",
              "Name: HORA, Length: 35472, dtype: datetime64[ns]"
            ]
          },
          "metadata": {
            "tags": []
          },
          "execution_count": 157
        }
      ]
    },
    {
      "cell_type": "code",
      "metadata": {
        "id": "-CxpudrMS2tR",
        "colab_type": "code",
        "colab": {}
      },
      "source": [
        "df['HORA'] = df['HORA'].dt.time"
      ],
      "execution_count": 0,
      "outputs": []
    },
    {
      "cell_type": "code",
      "metadata": {
        "id": "e6DEbv6AUc8l",
        "colab_type": "code",
        "colab": {
          "base_uri": "https://localhost:8080/",
          "height": 306
        },
        "outputId": "3ade8e99-3e6d-4d98-a5c7-bdafaa622ebd"
      },
      "source": [
        "df.head(5)"
      ],
      "execution_count": 159,
      "outputs": [
        {
          "output_type": "execute_result",
          "data": {
            "text/html": [
              "<div>\n",
              "<style scoped>\n",
              "    .dataframe tbody tr th:only-of-type {\n",
              "        vertical-align: middle;\n",
              "    }\n",
              "\n",
              "    .dataframe tbody tr th {\n",
              "        vertical-align: top;\n",
              "    }\n",
              "\n",
              "    .dataframe thead th {\n",
              "        text-align: right;\n",
              "    }\n",
              "</style>\n",
              "<table border=\"1\" class=\"dataframe\">\n",
              "  <thead>\n",
              "    <tr style=\"text-align: right;\">\n",
              "      <th></th>\n",
              "      <th>BARRIO</th>\n",
              "      <th>CODIGO CBML</th>\n",
              "      <th>CLASE</th>\n",
              "      <th>COMUNA</th>\n",
              "      <th>DIA</th>\n",
              "      <th>NOMBRE DEL DIA</th>\n",
              "      <th>DIRECCION</th>\n",
              "      <th>DISEÑO</th>\n",
              "      <th>FECHA</th>\n",
              "      <th>GRAVEDAD</th>\n",
              "      <th>HORA</th>\n",
              "      <th>MES</th>\n",
              "      <th>NOMBRE DEL MES</th>\n",
              "      <th>PERIODO</th>\n",
              "      <th>TIPO DE COORDENADA</th>\n",
              "      <th>X</th>\n",
              "      <th>Y</th>\n",
              "    </tr>\n",
              "  </thead>\n",
              "  <tbody>\n",
              "    <tr>\n",
              "      <th>0</th>\n",
              "      <td>Campo Amor</td>\n",
              "      <td>1507</td>\n",
              "      <td>Choque</td>\n",
              "      <td>Guayabal</td>\n",
              "      <td>20</td>\n",
              "      <td>JUEVES</td>\n",
              "      <td>CR 50 FF CL 9 AA</td>\n",
              "      <td>Tramo de via</td>\n",
              "      <td>2018-09-20</td>\n",
              "      <td>HERIDO</td>\n",
              "      <td>14:10:00</td>\n",
              "      <td>9</td>\n",
              "      <td>SEPTIEMBRE</td>\n",
              "      <td>2018</td>\n",
              "      <td>Malla vial aproximada: CR 50-10</td>\n",
              "      <td>-75.578357</td>\n",
              "      <td>6.213719</td>\n",
              "    </tr>\n",
              "    <tr>\n",
              "      <th>1</th>\n",
              "      <td>Villa Flora</td>\n",
              "      <td>0715</td>\n",
              "      <td>Atropello</td>\n",
              "      <td>Robledo</td>\n",
              "      <td>21</td>\n",
              "      <td>MIÉRCOLES</td>\n",
              "      <td>CL 76 AE CR 83</td>\n",
              "      <td>Tramo de via</td>\n",
              "      <td>2018-03-21</td>\n",
              "      <td>HERIDO</td>\n",
              "      <td>20:30:00</td>\n",
              "      <td>3</td>\n",
              "      <td>MARZO</td>\n",
              "      <td>2018</td>\n",
              "      <td>Malla vial</td>\n",
              "      <td>-75.592022</td>\n",
              "      <td>6.279157</td>\n",
              "    </tr>\n",
              "    <tr>\n",
              "      <th>2</th>\n",
              "      <td>Robledo</td>\n",
              "      <td>0717</td>\n",
              "      <td>Choque</td>\n",
              "      <td>Robledo</td>\n",
              "      <td>30</td>\n",
              "      <td>JUEVES</td>\n",
              "      <td>CR 85 CL 65</td>\n",
              "      <td>Interseccion</td>\n",
              "      <td>2018-08-30</td>\n",
              "      <td>SOLO DAÑOS</td>\n",
              "      <td>21:20:00</td>\n",
              "      <td>8</td>\n",
              "      <td>AGOSTO</td>\n",
              "      <td>2018</td>\n",
              "      <td>Malla vial</td>\n",
              "      <td>-75.595882</td>\n",
              "      <td>6.275555</td>\n",
              "    </tr>\n",
              "    <tr>\n",
              "      <th>3</th>\n",
              "      <td>La Candelaria</td>\n",
              "      <td>1019</td>\n",
              "      <td>Choque</td>\n",
              "      <td>La Candelaria</td>\n",
              "      <td>10</td>\n",
              "      <td>LUNES</td>\n",
              "      <td>CL 49 A CR 49</td>\n",
              "      <td>Interseccion</td>\n",
              "      <td>2018-09-10</td>\n",
              "      <td>SOLO DAÑOS</td>\n",
              "      <td>08:50:00</td>\n",
              "      <td>9</td>\n",
              "      <td>SEPTIEMBRE</td>\n",
              "      <td>2018</td>\n",
              "      <td>Malla vial aproximada: CL 49-49</td>\n",
              "      <td>-75.567284</td>\n",
              "      <td>6.248271</td>\n",
              "    </tr>\n",
              "    <tr>\n",
              "      <th>4</th>\n",
              "      <td>Manila</td>\n",
              "      <td>1419</td>\n",
              "      <td>Choque</td>\n",
              "      <td>El Poblado</td>\n",
              "      <td>12</td>\n",
              "      <td>VIERNES</td>\n",
              "      <td>CR 48 DD CL 9</td>\n",
              "      <td>Tramo de via</td>\n",
              "      <td>2018-10-12</td>\n",
              "      <td>SOLO DAÑOS</td>\n",
              "      <td>18:18:00</td>\n",
              "      <td>10</td>\n",
              "      <td>OCTUBRE</td>\n",
              "      <td>2018</td>\n",
              "      <td>Malla vial aproximada: CR 48-10</td>\n",
              "      <td>-75.576195</td>\n",
              "      <td>6.213677</td>\n",
              "    </tr>\n",
              "  </tbody>\n",
              "</table>\n",
              "</div>"
            ],
            "text/plain": [
              "          BARRIO CODIGO CBML  ...          X         Y\n",
              "0     Campo Amor        1507  ... -75.578357  6.213719\n",
              "1    Villa Flora        0715  ... -75.592022  6.279157\n",
              "2        Robledo        0717  ... -75.595882  6.275555\n",
              "3  La Candelaria        1019  ... -75.567284  6.248271\n",
              "4         Manila        1419  ... -75.576195  6.213677\n",
              "\n",
              "[5 rows x 17 columns]"
            ]
          },
          "metadata": {
            "tags": []
          },
          "execution_count": 159
        }
      ]
    },
    {
      "cell_type": "code",
      "metadata": {
        "id": "5NHJaZ4AV_WJ",
        "colab_type": "code",
        "colab": {
          "base_uri": "https://localhost:8080/",
          "height": 425
        },
        "outputId": "a7f83f92-7c38-4aea-a0c0-4c9bbbffb236"
      },
      "source": [
        "df.info()"
      ],
      "execution_count": 169,
      "outputs": [
        {
          "output_type": "stream",
          "text": [
            "<class 'pandas.core.frame.DataFrame'>\n",
            "Int64Index: 35472 entries, 0 to 35618\n",
            "Data columns (total 17 columns):\n",
            " #   Column              Non-Null Count  Dtype         \n",
            "---  ------              --------------  -----         \n",
            " 0   BARRIO              35472 non-null  object        \n",
            " 1   CODIGO CBML         35472 non-null  object        \n",
            " 2   CLASE               35472 non-null  object        \n",
            " 3   COMUNA              35472 non-null  object        \n",
            " 4   DIA                 35472 non-null  int64         \n",
            " 5   NOMBRE DEL DIA      35472 non-null  object        \n",
            " 6   DIRECCION           35472 non-null  object        \n",
            " 7   DISEÑO              35472 non-null  object        \n",
            " 8   FECHA               35472 non-null  datetime64[ns]\n",
            " 9   GRAVEDAD            35472 non-null  object        \n",
            " 10  HORA                35472 non-null  object        \n",
            " 11  MES                 35472 non-null  int64         \n",
            " 12  NOMBRE DEL MES      35472 non-null  object        \n",
            " 13  PERIODO             35472 non-null  int64         \n",
            " 14  TIPO DE COORDENADA  35472 non-null  object        \n",
            " 15  X                   35472 non-null  float64       \n",
            " 16  Y                   35472 non-null  float64       \n",
            "dtypes: datetime64[ns](1), float64(2), int64(3), object(11)\n",
            "memory usage: 4.9+ MB\n"
          ],
          "name": "stdout"
        }
      ]
    },
    {
      "cell_type": "code",
      "metadata": {
        "id": "zk1n2t7EWFcS",
        "colab_type": "code",
        "colab": {}
      },
      "source": [
        "df.to_csv('Capa Accidentes.csv', index = False)"
      ],
      "execution_count": 0,
      "outputs": []
    },
    {
      "cell_type": "code",
      "metadata": {
        "id": "4_xZppa_a2J9",
        "colab_type": "code",
        "colab": {}
      },
      "source": [
        "df['FECHA'] = pd.to_datetime(df['FECHA'])"
      ],
      "execution_count": 0,
      "outputs": []
    },
    {
      "cell_type": "code",
      "metadata": {
        "id": "Rh6k1glKcRkE",
        "colab_type": "code",
        "colab": {
          "base_uri": "https://localhost:8080/",
          "height": 657
        },
        "outputId": "a00d44a7-7102-4c00-f061-a82f5fa84a21"
      },
      "source": [
        "df"
      ],
      "execution_count": 172,
      "outputs": [
        {
          "output_type": "execute_result",
          "data": {
            "text/html": [
              "<div>\n",
              "<style scoped>\n",
              "    .dataframe tbody tr th:only-of-type {\n",
              "        vertical-align: middle;\n",
              "    }\n",
              "\n",
              "    .dataframe tbody tr th {\n",
              "        vertical-align: top;\n",
              "    }\n",
              "\n",
              "    .dataframe thead th {\n",
              "        text-align: right;\n",
              "    }\n",
              "</style>\n",
              "<table border=\"1\" class=\"dataframe\">\n",
              "  <thead>\n",
              "    <tr style=\"text-align: right;\">\n",
              "      <th></th>\n",
              "      <th>BARRIO</th>\n",
              "      <th>CODIGO CBML</th>\n",
              "      <th>CLASE</th>\n",
              "      <th>COMUNA</th>\n",
              "      <th>DIA</th>\n",
              "      <th>NOMBRE DEL DIA</th>\n",
              "      <th>DIRECCION</th>\n",
              "      <th>DISEÑO</th>\n",
              "      <th>FECHA</th>\n",
              "      <th>GRAVEDAD</th>\n",
              "      <th>HORA</th>\n",
              "      <th>MES</th>\n",
              "      <th>NOMBRE DEL MES</th>\n",
              "      <th>PERIODO</th>\n",
              "      <th>TIPO DE COORDENADA</th>\n",
              "      <th>X</th>\n",
              "      <th>Y</th>\n",
              "    </tr>\n",
              "  </thead>\n",
              "  <tbody>\n",
              "    <tr>\n",
              "      <th>0</th>\n",
              "      <td>Campo Amor</td>\n",
              "      <td>1507</td>\n",
              "      <td>Choque</td>\n",
              "      <td>Guayabal</td>\n",
              "      <td>20</td>\n",
              "      <td>JUEVES</td>\n",
              "      <td>CR 50 FF CL 9 AA</td>\n",
              "      <td>Tramo de via</td>\n",
              "      <td>2018-09-20</td>\n",
              "      <td>HERIDO</td>\n",
              "      <td>14:10:00</td>\n",
              "      <td>9</td>\n",
              "      <td>SEPTIEMBRE</td>\n",
              "      <td>2018</td>\n",
              "      <td>Malla vial aproximada: CR 50-10</td>\n",
              "      <td>-75.578357</td>\n",
              "      <td>6.213719</td>\n",
              "    </tr>\n",
              "    <tr>\n",
              "      <th>1</th>\n",
              "      <td>Villa Flora</td>\n",
              "      <td>0715</td>\n",
              "      <td>Atropello</td>\n",
              "      <td>Robledo</td>\n",
              "      <td>21</td>\n",
              "      <td>MIÉRCOLES</td>\n",
              "      <td>CL 76 AE CR 83</td>\n",
              "      <td>Tramo de via</td>\n",
              "      <td>2018-03-21</td>\n",
              "      <td>HERIDO</td>\n",
              "      <td>20:30:00</td>\n",
              "      <td>3</td>\n",
              "      <td>MARZO</td>\n",
              "      <td>2018</td>\n",
              "      <td>Malla vial</td>\n",
              "      <td>-75.592022</td>\n",
              "      <td>6.279157</td>\n",
              "    </tr>\n",
              "    <tr>\n",
              "      <th>2</th>\n",
              "      <td>Robledo</td>\n",
              "      <td>0717</td>\n",
              "      <td>Choque</td>\n",
              "      <td>Robledo</td>\n",
              "      <td>30</td>\n",
              "      <td>JUEVES</td>\n",
              "      <td>CR 85 CL 65</td>\n",
              "      <td>Interseccion</td>\n",
              "      <td>2018-08-30</td>\n",
              "      <td>SOLO DAÑOS</td>\n",
              "      <td>21:20:00</td>\n",
              "      <td>8</td>\n",
              "      <td>AGOSTO</td>\n",
              "      <td>2018</td>\n",
              "      <td>Malla vial</td>\n",
              "      <td>-75.595882</td>\n",
              "      <td>6.275555</td>\n",
              "    </tr>\n",
              "    <tr>\n",
              "      <th>3</th>\n",
              "      <td>La Candelaria</td>\n",
              "      <td>1019</td>\n",
              "      <td>Choque</td>\n",
              "      <td>La Candelaria</td>\n",
              "      <td>10</td>\n",
              "      <td>LUNES</td>\n",
              "      <td>CL 49 A CR 49</td>\n",
              "      <td>Interseccion</td>\n",
              "      <td>2018-09-10</td>\n",
              "      <td>SOLO DAÑOS</td>\n",
              "      <td>08:50:00</td>\n",
              "      <td>9</td>\n",
              "      <td>SEPTIEMBRE</td>\n",
              "      <td>2018</td>\n",
              "      <td>Malla vial aproximada: CL 49-49</td>\n",
              "      <td>-75.567284</td>\n",
              "      <td>6.248271</td>\n",
              "    </tr>\n",
              "    <tr>\n",
              "      <th>4</th>\n",
              "      <td>Manila</td>\n",
              "      <td>1419</td>\n",
              "      <td>Choque</td>\n",
              "      <td>El Poblado</td>\n",
              "      <td>12</td>\n",
              "      <td>VIERNES</td>\n",
              "      <td>CR 48 DD CL 9</td>\n",
              "      <td>Tramo de via</td>\n",
              "      <td>2018-10-12</td>\n",
              "      <td>SOLO DAÑOS</td>\n",
              "      <td>18:18:00</td>\n",
              "      <td>10</td>\n",
              "      <td>OCTUBRE</td>\n",
              "      <td>2018</td>\n",
              "      <td>Malla vial aproximada: CR 48-10</td>\n",
              "      <td>-75.576195</td>\n",
              "      <td>6.213677</td>\n",
              "    </tr>\n",
              "    <tr>\n",
              "      <th>...</th>\n",
              "      <td>...</td>\n",
              "      <td>...</td>\n",
              "      <td>...</td>\n",
              "      <td>...</td>\n",
              "      <td>...</td>\n",
              "      <td>...</td>\n",
              "      <td>...</td>\n",
              "      <td>...</td>\n",
              "      <td>...</td>\n",
              "      <td>...</td>\n",
              "      <td>...</td>\n",
              "      <td>...</td>\n",
              "      <td>...</td>\n",
              "      <td>...</td>\n",
              "      <td>...</td>\n",
              "      <td>...</td>\n",
              "      <td>...</td>\n",
              "    </tr>\n",
              "    <tr>\n",
              "      <th>35614</th>\n",
              "      <td>Manrique Central No. 1</td>\n",
              "      <td>0409</td>\n",
              "      <td>Caida Ocupante</td>\n",
              "      <td>Aranjuez</td>\n",
              "      <td>10</td>\n",
              "      <td>MIÉRCOLES</td>\n",
              "      <td>CL 67 CR 48</td>\n",
              "      <td>Tramo de via</td>\n",
              "      <td>2019-04-10</td>\n",
              "      <td>HERIDO</td>\n",
              "      <td>18:50:00</td>\n",
              "      <td>4</td>\n",
              "      <td>ABRIL</td>\n",
              "      <td>2019</td>\n",
              "      <td>Malla vial</td>\n",
              "      <td>-75.557681</td>\n",
              "      <td>6.263142</td>\n",
              "    </tr>\n",
              "    <tr>\n",
              "      <th>35615</th>\n",
              "      <td>Loreto</td>\n",
              "      <td>0913</td>\n",
              "      <td>Otro</td>\n",
              "      <td>Buenos Aires</td>\n",
              "      <td>1</td>\n",
              "      <td>JUEVES</td>\n",
              "      <td>CR 30 CL 35</td>\n",
              "      <td>Lote o Predio</td>\n",
              "      <td>2019-08-01</td>\n",
              "      <td>HERIDO</td>\n",
              "      <td>01:00:00</td>\n",
              "      <td>8</td>\n",
              "      <td>AGOSTO</td>\n",
              "      <td>2019</td>\n",
              "      <td>Malla vial</td>\n",
              "      <td>-75.558421</td>\n",
              "      <td>6.232295</td>\n",
              "    </tr>\n",
              "    <tr>\n",
              "      <th>35616</th>\n",
              "      <td>Las Brisas</td>\n",
              "      <td>0502</td>\n",
              "      <td>Choque</td>\n",
              "      <td>Castilla</td>\n",
              "      <td>5</td>\n",
              "      <td>JUEVES</td>\n",
              "      <td>CR 64 C CL 104</td>\n",
              "      <td>Tramo de via</td>\n",
              "      <td>2019-09-05</td>\n",
              "      <td>HERIDO</td>\n",
              "      <td>10:30:00</td>\n",
              "      <td>9</td>\n",
              "      <td>SEPTIEMBRE</td>\n",
              "      <td>2019</td>\n",
              "      <td>Malla vial</td>\n",
              "      <td>-75.563815</td>\n",
              "      <td>6.301392</td>\n",
              "    </tr>\n",
              "    <tr>\n",
              "      <th>35617</th>\n",
              "      <td>Barrio Colón</td>\n",
              "      <td>1013</td>\n",
              "      <td>Otro</td>\n",
              "      <td>La Candelaria</td>\n",
              "      <td>23</td>\n",
              "      <td>MARTES</td>\n",
              "      <td>CR 44 CL 44</td>\n",
              "      <td>Tramo de via</td>\n",
              "      <td>2019-04-23</td>\n",
              "      <td>HERIDO</td>\n",
              "      <td>16:00:00</td>\n",
              "      <td>4</td>\n",
              "      <td>ABRIL</td>\n",
              "      <td>2019</td>\n",
              "      <td>Malla vial</td>\n",
              "      <td>-75.566617</td>\n",
              "      <td>6.243250</td>\n",
              "    </tr>\n",
              "    <tr>\n",
              "      <th>35618</th>\n",
              "      <td>Buenos Aires</td>\n",
              "      <td>0907</td>\n",
              "      <td>Choque</td>\n",
              "      <td>Buenos Aires</td>\n",
              "      <td>23</td>\n",
              "      <td>MARTES</td>\n",
              "      <td>CR 36 A DG 45</td>\n",
              "      <td>Interseccion</td>\n",
              "      <td>2019-04-23</td>\n",
              "      <td>HERIDO</td>\n",
              "      <td>16:20:00</td>\n",
              "      <td>4</td>\n",
              "      <td>ABRIL</td>\n",
              "      <td>2019</td>\n",
              "      <td>Malla vial</td>\n",
              "      <td>-75.559189</td>\n",
              "      <td>6.240963</td>\n",
              "    </tr>\n",
              "  </tbody>\n",
              "</table>\n",
              "<p>35472 rows × 17 columns</p>\n",
              "</div>"
            ],
            "text/plain": [
              "                       BARRIO CODIGO CBML  ...          X         Y\n",
              "0                  Campo Amor        1507  ... -75.578357  6.213719\n",
              "1                 Villa Flora        0715  ... -75.592022  6.279157\n",
              "2                     Robledo        0717  ... -75.595882  6.275555\n",
              "3               La Candelaria        1019  ... -75.567284  6.248271\n",
              "4                      Manila        1419  ... -75.576195  6.213677\n",
              "...                       ...         ...  ...        ...       ...\n",
              "35614  Manrique Central No. 1        0409  ... -75.557681  6.263142\n",
              "35615                  Loreto        0913  ... -75.558421  6.232295\n",
              "35616              Las Brisas        0502  ... -75.563815  6.301392\n",
              "35617            Barrio Colón        1013  ... -75.566617  6.243250\n",
              "35618            Buenos Aires        0907  ... -75.559189  6.240963\n",
              "\n",
              "[35472 rows x 17 columns]"
            ]
          },
          "metadata": {
            "tags": []
          },
          "execution_count": 172
        }
      ]
    },
    {
      "cell_type": "code",
      "metadata": {
        "id": "xAGv6X85dIxX",
        "colab_type": "code",
        "colab": {
          "base_uri": "https://localhost:8080/",
          "height": 425
        },
        "outputId": "9aad0242-9451-4fde-b3f0-9f2fece71e13"
      },
      "source": [
        "df.info()"
      ],
      "execution_count": 181,
      "outputs": [
        {
          "output_type": "stream",
          "text": [
            "<class 'pandas.core.frame.DataFrame'>\n",
            "Int64Index: 35472 entries, 0 to 35618\n",
            "Data columns (total 17 columns):\n",
            " #   Column              Non-Null Count  Dtype         \n",
            "---  ------              --------------  -----         \n",
            " 0   BARRIO              35472 non-null  object        \n",
            " 1   CODIGO CBML         35472 non-null  object        \n",
            " 2   CLASE               35472 non-null  object        \n",
            " 3   COMUNA              35472 non-null  object        \n",
            " 4   DIA                 35472 non-null  int64         \n",
            " 5   NOMBRE DEL DIA      35472 non-null  object        \n",
            " 6   DIRECCION           35472 non-null  object        \n",
            " 7   DISEÑO              35472 non-null  object        \n",
            " 8   FECHA               35472 non-null  datetime64[ns]\n",
            " 9   GRAVEDAD            35472 non-null  object        \n",
            " 10  HORA                35472 non-null  object        \n",
            " 11  MES                 35472 non-null  int64         \n",
            " 12  NOMBRE DEL MES      35472 non-null  object        \n",
            " 13  PERIODO             35472 non-null  int64         \n",
            " 14  TIPO DE COORDENADA  35472 non-null  object        \n",
            " 15  X                   35472 non-null  float64       \n",
            " 16  Y                   35472 non-null  float64       \n",
            "dtypes: datetime64[ns](1), float64(2), int64(3), object(11)\n",
            "memory usage: 4.9+ MB\n"
          ],
          "name": "stdout"
        }
      ]
    },
    {
      "cell_type": "code",
      "metadata": {
        "id": "PBhz5fROdY_3",
        "colab_type": "code",
        "colab": {}
      },
      "source": [
        "df.to_csv('Capa Accidentes.csv', index = False)"
      ],
      "execution_count": 0,
      "outputs": []
    },
    {
      "cell_type": "code",
      "metadata": {
        "id": "2Fi2ww-bd-Et",
        "colab_type": "code",
        "colab": {}
      },
      "source": [
        ""
      ],
      "execution_count": 0,
      "outputs": []
    }
  ]
}