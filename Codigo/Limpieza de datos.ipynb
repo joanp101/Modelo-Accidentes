{
 "cells": [
  {
   "cell_type": "code",
   "execution_count": 1,
   "metadata": {},
   "outputs": [],
   "source": [
    "import warnings\n",
    "\n",
    "warnings.simplefilter(\"ignore\")"
   ]
  },
  {
   "cell_type": "code",
   "execution_count": 2,
   "metadata": {},
   "outputs": [],
   "source": [
    "%matplotlib inline\n",
    "\n",
    "import numpy as np\n",
    "import pandas as pd\n",
    "import matplotlib.pyplot as plt\n",
    "import seaborn as ssb\n",
    "\n"
   ]
  },
  {
   "cell_type": "code",
   "execution_count": 4,
   "metadata": {},
   "outputs": [],
   "source": [
    "accidentes = pd.read_csv(\"C:/Users/sergi/Repositorios/modalidad/DataSet/Accidentalidad.csv\",encoding='utf-8')"
   ]
  },
  {
   "cell_type": "code",
   "execution_count": 319,
   "metadata": {
    "scrolled": false
   },
   "outputs": [
    {
     "data": {
      "text/html": [
       "<div>\n",
       "<style scoped>\n",
       "    .dataframe tbody tr th:only-of-type {\n",
       "        vertical-align: middle;\n",
       "    }\n",
       "\n",
       "    .dataframe tbody tr th {\n",
       "        vertical-align: top;\n",
       "    }\n",
       "\n",
       "    .dataframe thead th {\n",
       "        text-align: right;\n",
       "    }\n",
       "</style>\n",
       "<table border=\"1\" class=\"dataframe\">\n",
       "  <thead>\n",
       "    <tr style=\"text-align: right;\">\n",
       "      <th></th>\n",
       "      <th>X</th>\n",
       "      <th>Y</th>\n",
       "      <th>OBJECTID</th>\n",
       "      <th>RADICADO</th>\n",
       "      <th>FECHA</th>\n",
       "      <th>HORA</th>\n",
       "      <th>DIA</th>\n",
       "      <th>PERIODO</th>\n",
       "      <th>CLASE</th>\n",
       "      <th>DIRECCION</th>\n",
       "      <th>DIRECCION_ENC</th>\n",
       "      <th>CBML</th>\n",
       "      <th>TIPO_GEOCOD</th>\n",
       "      <th>GRAVEDAD</th>\n",
       "      <th>BARRIO</th>\n",
       "      <th>COMUNA</th>\n",
       "      <th>DISENO</th>\n",
       "      <th>DIA_NOMBRE</th>\n",
       "      <th>MES</th>\n",
       "      <th>MES_NOMBRE</th>\n",
       "    </tr>\n",
       "  </thead>\n",
       "  <tbody>\n",
       "    <tr>\n",
       "      <th>0</th>\n",
       "      <td>-75.584608</td>\n",
       "      <td>6.261152</td>\n",
       "      <td>550556</td>\n",
       "      <td>1612819.0</td>\n",
       "      <td>2018-01-14T00:00:00.000Z</td>\n",
       "      <td>01:30 PM</td>\n",
       "      <td>14</td>\n",
       "      <td>2018</td>\n",
       "      <td>Choque</td>\n",
       "      <td>CR 70 CL 55</td>\n",
       "      <td>CR  070   055  000 00000</td>\n",
       "      <td>1101</td>\n",
       "      <td>Malla vial</td>\n",
       "      <td>HERIDO</td>\n",
       "      <td>Carlos E. Restrepo</td>\n",
       "      <td>Laureles Estadio</td>\n",
       "      <td>Interseccion</td>\n",
       "      <td>DOMINGO</td>\n",
       "      <td>1</td>\n",
       "      <td>ENERO</td>\n",
       "    </tr>\n",
       "    <tr>\n",
       "      <th>1</th>\n",
       "      <td>-75.582266</td>\n",
       "      <td>6.293102</td>\n",
       "      <td>550557</td>\n",
       "      <td>1612866.0</td>\n",
       "      <td>2018-01-14T00:00:00.000Z</td>\n",
       "      <td>01:30 PM</td>\n",
       "      <td>14</td>\n",
       "      <td>2018</td>\n",
       "      <td>Choque</td>\n",
       "      <td>CR 79 CL 95</td>\n",
       "      <td>CR  079   095  000 00000</td>\n",
       "      <td>606</td>\n",
       "      <td>Malla vial</td>\n",
       "      <td>SOLO DAÑOS</td>\n",
       "      <td>San Martín de Porres</td>\n",
       "      <td>Doce de Octubre</td>\n",
       "      <td>Tramo de via</td>\n",
       "      <td>DOMINGO</td>\n",
       "      <td>1</td>\n",
       "      <td>ENERO</td>\n",
       "    </tr>\n",
       "    <tr>\n",
       "      <th>2</th>\n",
       "      <td>-75.560337</td>\n",
       "      <td>6.252080</td>\n",
       "      <td>550558</td>\n",
       "      <td>1612809.0</td>\n",
       "      <td>2018-01-14T00:00:00.000Z</td>\n",
       "      <td>02:30 PM</td>\n",
       "      <td>14</td>\n",
       "      <td>2018</td>\n",
       "      <td>Caida Ocupante</td>\n",
       "      <td>CR 43 CL 57</td>\n",
       "      <td>CR  043   057  000 00000</td>\n",
       "      <td>1017</td>\n",
       "      <td>Malla vial</td>\n",
       "      <td>HERIDO</td>\n",
       "      <td>Los Ángeles</td>\n",
       "      <td>La Candelaria</td>\n",
       "      <td>Tramo de via</td>\n",
       "      <td>DOMINGO</td>\n",
       "      <td>1</td>\n",
       "      <td>ENERO</td>\n",
       "    </tr>\n",
       "    <tr>\n",
       "      <th>3</th>\n",
       "      <td>-75.597828</td>\n",
       "      <td>6.222382</td>\n",
       "      <td>550559</td>\n",
       "      <td>1612812.0</td>\n",
       "      <td>2018-01-14T00:00:00.000Z</td>\n",
       "      <td>02:30 PM</td>\n",
       "      <td>14</td>\n",
       "      <td>2018</td>\n",
       "      <td>Otro</td>\n",
       "      <td>CR 76 CL 16</td>\n",
       "      <td>CR  076   016  000 00000</td>\n",
       "      <td>1605</td>\n",
       "      <td>Malla vial</td>\n",
       "      <td>HERIDO</td>\n",
       "      <td>San Bernardo</td>\n",
       "      <td>Belén</td>\n",
       "      <td>Interseccion</td>\n",
       "      <td>DOMINGO</td>\n",
       "      <td>1</td>\n",
       "      <td>ENERO</td>\n",
       "    </tr>\n",
       "    <tr>\n",
       "      <th>4</th>\n",
       "      <td>-75.561804</td>\n",
       "      <td>6.236754</td>\n",
       "      <td>550560</td>\n",
       "      <td>1612817.0</td>\n",
       "      <td>2018-01-14T00:00:00.000Z</td>\n",
       "      <td>02:37 PM</td>\n",
       "      <td>14</td>\n",
       "      <td>2018</td>\n",
       "      <td>Choque</td>\n",
       "      <td>CR 36 CL 39</td>\n",
       "      <td>CR  036   039  000 00000</td>\n",
       "      <td>912</td>\n",
       "      <td>Malla vial</td>\n",
       "      <td>SOLO DAÑOS</td>\n",
       "      <td>El Salvador</td>\n",
       "      <td>Buenos Aires</td>\n",
       "      <td>Tramo de via</td>\n",
       "      <td>DOMINGO</td>\n",
       "      <td>1</td>\n",
       "      <td>ENERO</td>\n",
       "    </tr>\n",
       "  </tbody>\n",
       "</table>\n",
       "</div>"
      ],
      "text/plain": [
       "           X         Y  OBJECTID   RADICADO                     FECHA  \\\n",
       "0 -75.584608  6.261152    550556  1612819.0  2018-01-14T00:00:00.000Z   \n",
       "1 -75.582266  6.293102    550557  1612866.0  2018-01-14T00:00:00.000Z   \n",
       "2 -75.560337  6.252080    550558  1612809.0  2018-01-14T00:00:00.000Z   \n",
       "3 -75.597828  6.222382    550559  1612812.0  2018-01-14T00:00:00.000Z   \n",
       "4 -75.561804  6.236754    550560  1612817.0  2018-01-14T00:00:00.000Z   \n",
       "\n",
       "       HORA  DIA  PERIODO           CLASE    DIRECCION  \\\n",
       "0  01:30 PM   14     2018          Choque  CR 70 CL 55   \n",
       "1  01:30 PM   14     2018          Choque  CR 79 CL 95   \n",
       "2  02:30 PM   14     2018  Caida Ocupante  CR 43 CL 57   \n",
       "3  02:30 PM   14     2018            Otro  CR 76 CL 16   \n",
       "4  02:37 PM   14     2018          Choque  CR 36 CL 39   \n",
       "\n",
       "              DIRECCION_ENC  CBML TIPO_GEOCOD    GRAVEDAD  \\\n",
       "0  CR  070   055  000 00000  1101  Malla vial      HERIDO   \n",
       "1  CR  079   095  000 00000   606  Malla vial  SOLO DAÑOS   \n",
       "2  CR  043   057  000 00000  1017  Malla vial      HERIDO   \n",
       "3  CR  076   016  000 00000  1605  Malla vial      HERIDO   \n",
       "4  CR  036   039  000 00000   912  Malla vial  SOLO DAÑOS   \n",
       "\n",
       "                 BARRIO            COMUNA        DISENO DIA_NOMBRE  MES  \\\n",
       "0    Carlos E. Restrepo  Laureles Estadio  Interseccion  DOMINGO      1   \n",
       "1  San Martín de Porres   Doce de Octubre  Tramo de via  DOMINGO      1   \n",
       "2           Los Ángeles     La Candelaria  Tramo de via  DOMINGO      1   \n",
       "3          San Bernardo             Belén  Interseccion  DOMINGO      1   \n",
       "4           El Salvador      Buenos Aires  Tramo de via  DOMINGO      1   \n",
       "\n",
       "  MES_NOMBRE  \n",
       "0      ENERO  \n",
       "1      ENERO  \n",
       "2      ENERO  \n",
       "3      ENERO  \n",
       "4      ENERO  "
      ]
     },
     "execution_count": 319,
     "metadata": {},
     "output_type": "execute_result"
    }
   ],
   "source": [
    "accidentes.head(5)"
   ]
  },
  {
   "cell_type": "code",
   "execution_count": 320,
   "metadata": {},
   "outputs": [
    {
     "data": {
      "text/plain": [
       "(71237, 20)"
      ]
     },
     "execution_count": 320,
     "metadata": {},
     "output_type": "execute_result"
    }
   ],
   "source": [
    "accidentes.shape"
   ]
  },
  {
   "cell_type": "markdown",
   "metadata": {},
   "source": [
    "Cambiamos el nombre de la columna DIA_NOMBRE por DIA_NUMERO y factorizamos"
   ]
  },
  {
   "cell_type": "code",
   "execution_count": 321,
   "metadata": {
    "scrolled": true
   },
   "outputs": [],
   "source": [
    "accidentes = accidentes.rename(columns={'DIA_NOMBRE':'DIA_SEMANA'})\n",
    "\n",
    "\n",
    "accidentes['DIA_SEMANA'] = pd.factorize(accidentes['DIA_SEMANA'])[0]\n",
    "\n",
    "\n"
   ]
  },
  {
   "cell_type": "code",
   "execution_count": 322,
   "metadata": {},
   "outputs": [
    {
     "data": {
      "text/plain": [
       "array([0, 1, 2, 3, 4, 5, 6], dtype=int64)"
      ]
     },
     "execution_count": 322,
     "metadata": {},
     "output_type": "execute_result"
    }
   ],
   "source": [
    "accidentes['DIA_SEMANA'].unique()"
   ]
  },
  {
   "cell_type": "markdown",
   "metadata": {},
   "source": [
    "\n",
    "Factorizamos los dias de la comuna"
   ]
  },
  {
   "cell_type": "code",
   "execution_count": 323,
   "metadata": {},
   "outputs": [],
   "source": [
    "accidentes['NUM_COMUNA'] = accidentes['COMUNA']\n",
    "\n",
    "accidentes['NUM_COMUNA'] = pd.factorize(accidentes['NUM_COMUNA'])[0]"
   ]
  },
  {
   "cell_type": "code",
   "execution_count": 324,
   "metadata": {
    "scrolled": false
   },
   "outputs": [
    {
     "name": "stdout",
     "output_type": "stream",
     "text": [
      "Faztorizamos la columna GRAVEDAD donde\n",
      "\n",
      "0 = HERIDO\n",
      "1 = SOLO DAÑOS\n",
      "2 = MUERTO\n"
     ]
    }
   ],
   "source": [
    "accidentes['NUM_GRAVEDAD'] = accidentes['GRAVEDAD']\n",
    "\n",
    "print(f'Faztorizamos la columna GRAVEDAD donde\\n')\n",
    "print(f'0 = HERIDO\\n1 = SOLO DAÑOS\\n2 = MUERTO')\n",
    "\n"
   ]
  },
  {
   "cell_type": "code",
   "execution_count": 325,
   "metadata": {},
   "outputs": [
    {
     "data": {
      "text/plain": [
       "HERIDO        37418\n",
       "SOLO DAÑOS    33375\n",
       "MUERTO          444\n",
       "Name: NUM_GRAVEDAD, dtype: int64"
      ]
     },
     "execution_count": 325,
     "metadata": {},
     "output_type": "execute_result"
    }
   ],
   "source": [
    "accidentes['NUM_GRAVEDAD'].value_counts()"
   ]
  },
  {
   "cell_type": "code",
   "execution_count": 326,
   "metadata": {},
   "outputs": [],
   "source": [
    "accidentes['NUM_GRAVEDAD'] = pd.factorize(accidentes['NUM_GRAVEDAD'])[0]"
   ]
  },
  {
   "cell_type": "code",
   "execution_count": 327,
   "metadata": {
    "scrolled": true
   },
   "outputs": [
    {
     "name": "stdout",
     "output_type": "stream",
     "text": [
      "Cambiamos los valores de la columna DISENO donde\n",
      "\n",
      "0 = Tramo de via\n",
      "1 = Interseccion\n",
      "2 = Lote o Predio\n",
      "3 = Glorieta\n",
      "4 = Paso Inferior\n",
      "5 = Paso Elevado\n",
      "6 = Puente\n",
      "7 = Ciclo Ruta\n",
      "8 = Paso a Nivel\n",
      "9 = Via peatonal\n",
      "10 = Tunel\n",
      "11 = Pontón\n"
     ]
    }
   ],
   "source": [
    "accidentes['NUM_DISENO'] = accidentes['DISENO']\n",
    "\n",
    "print(f'Cambiamos los valores de la columna DISENO donde\\n')\n",
    "print(f'0 = Tramo de via\\n1 = Interseccion\\n2 = Lote o Predio\\n3 = Glorieta\\n4 = Paso Inferior\\n5 = Paso Elevado\\n6 = Puente\\n7 = Ciclo Ruta\\n8 = Paso a Nivel\\n9 = Via peatonal\\n10 = Tunel\\n11 = Pontón')\n",
    "\n"
   ]
  },
  {
   "cell_type": "code",
   "execution_count": 328,
   "metadata": {},
   "outputs": [],
   "source": [
    "accidentes['NUM_DISENO'] = pd.factorize(accidentes['NUM_DISENO'])[0]"
   ]
  },
  {
   "cell_type": "code",
   "execution_count": 329,
   "metadata": {},
   "outputs": [
    {
     "name": "stdout",
     "output_type": "stream",
     "text": [
      "Cambiamos los valores de la columna CLASE donde\n",
      "\n",
      "0 = Choque\n",
      "1 = Atropello\n",
      "2 = Volcamiento\n",
      "3 = Caida Ocupante\n",
      "4 = Incendio\n",
      "5 = Otro\n",
      "\n"
     ]
    }
   ],
   "source": [
    "accidentes['NUM_CLASE'] = accidentes['CLASE']\n",
    "\n",
    "\n",
    "print(f'Cambiamos los valores de la columna CLASE donde\\n')\n",
    "print(f'0 = Choque\\n1 = Atropello\\n2 = Volcamiento\\n3 = Caida Ocupante\\n4 = Incendio\\n5 = Otro\\n')\n"
   ]
  },
  {
   "cell_type": "code",
   "execution_count": 330,
   "metadata": {},
   "outputs": [],
   "source": [
    "accidentes['NUM_CLASE'] = pd.factorize(accidentes['NUM_CLASE'])[0]"
   ]
  },
  {
   "cell_type": "code",
   "execution_count": 331,
   "metadata": {},
   "outputs": [],
   "source": [
    "accidentes['NUM_BARRIO'] = accidentes['BARRIO']\n",
    "\n",
    "\n",
    "accidentes['NUM_BARRIO'] = pd.factorize(accidentes['NUM_BARRIO'])[0]"
   ]
  },
  {
   "cell_type": "code",
   "execution_count": 332,
   "metadata": {
    "scrolled": false
   },
   "outputs": [
    {
     "data": {
      "text/plain": [
       "Index(['X', 'Y', 'OBJECTID', 'RADICADO', 'FECHA', 'HORA', 'DIA', 'PERIODO',\n",
       "       'CLASE', 'DIRECCION', 'DIRECCION_ENC', 'CBML', 'TIPO_GEOCOD',\n",
       "       'GRAVEDAD', 'BARRIO', 'COMUNA', 'DISENO', 'DIA_SEMANA', 'MES',\n",
       "       'MES_NOMBRE', 'NUM_COMUNA', 'NUM_GRAVEDAD', 'NUM_DISENO', 'NUM_CLASE',\n",
       "       'NUM_BARRIO'],\n",
       "      dtype='object')"
      ]
     },
     "execution_count": 332,
     "metadata": {},
     "output_type": "execute_result"
    }
   ],
   "source": [
    "accidentes.columns"
   ]
  },
  {
   "cell_type": "code",
   "execution_count": 333,
   "metadata": {},
   "outputs": [
    {
     "data": {
      "text/html": [
       "<div>\n",
       "<style scoped>\n",
       "    .dataframe tbody tr th:only-of-type {\n",
       "        vertical-align: middle;\n",
       "    }\n",
       "\n",
       "    .dataframe tbody tr th {\n",
       "        vertical-align: top;\n",
       "    }\n",
       "\n",
       "    .dataframe thead th {\n",
       "        text-align: right;\n",
       "    }\n",
       "</style>\n",
       "<table border=\"1\" class=\"dataframe\">\n",
       "  <thead>\n",
       "    <tr style=\"text-align: right;\">\n",
       "      <th></th>\n",
       "      <th>X</th>\n",
       "      <th>Y</th>\n",
       "      <th>OBJECTID</th>\n",
       "      <th>RADICADO</th>\n",
       "      <th>FECHA</th>\n",
       "      <th>HORA</th>\n",
       "      <th>DIA</th>\n",
       "      <th>PERIODO</th>\n",
       "      <th>CLASE</th>\n",
       "      <th>DIRECCION</th>\n",
       "      <th>...</th>\n",
       "      <th>COMUNA</th>\n",
       "      <th>DISENO</th>\n",
       "      <th>DIA_SEMANA</th>\n",
       "      <th>MES</th>\n",
       "      <th>MES_NOMBRE</th>\n",
       "      <th>NUM_COMUNA</th>\n",
       "      <th>NUM_GRAVEDAD</th>\n",
       "      <th>NUM_DISENO</th>\n",
       "      <th>NUM_CLASE</th>\n",
       "      <th>NUM_BARRIO</th>\n",
       "    </tr>\n",
       "  </thead>\n",
       "  <tbody>\n",
       "    <tr>\n",
       "      <th>0</th>\n",
       "      <td>-75.584608</td>\n",
       "      <td>6.261152</td>\n",
       "      <td>550556</td>\n",
       "      <td>1612819.0</td>\n",
       "      <td>2018-01-14T00:00:00.000Z</td>\n",
       "      <td>01:30 PM</td>\n",
       "      <td>14</td>\n",
       "      <td>2018</td>\n",
       "      <td>Choque</td>\n",
       "      <td>CR 70 CL 55</td>\n",
       "      <td>...</td>\n",
       "      <td>Laureles Estadio</td>\n",
       "      <td>Interseccion</td>\n",
       "      <td>0</td>\n",
       "      <td>1</td>\n",
       "      <td>ENERO</td>\n",
       "      <td>0</td>\n",
       "      <td>0</td>\n",
       "      <td>0</td>\n",
       "      <td>0</td>\n",
       "      <td>0</td>\n",
       "    </tr>\n",
       "    <tr>\n",
       "      <th>1</th>\n",
       "      <td>-75.582266</td>\n",
       "      <td>6.293102</td>\n",
       "      <td>550557</td>\n",
       "      <td>1612866.0</td>\n",
       "      <td>2018-01-14T00:00:00.000Z</td>\n",
       "      <td>01:30 PM</td>\n",
       "      <td>14</td>\n",
       "      <td>2018</td>\n",
       "      <td>Choque</td>\n",
       "      <td>CR 79 CL 95</td>\n",
       "      <td>...</td>\n",
       "      <td>Doce de Octubre</td>\n",
       "      <td>Tramo de via</td>\n",
       "      <td>0</td>\n",
       "      <td>1</td>\n",
       "      <td>ENERO</td>\n",
       "      <td>1</td>\n",
       "      <td>1</td>\n",
       "      <td>1</td>\n",
       "      <td>0</td>\n",
       "      <td>1</td>\n",
       "    </tr>\n",
       "    <tr>\n",
       "      <th>2</th>\n",
       "      <td>-75.560337</td>\n",
       "      <td>6.252080</td>\n",
       "      <td>550558</td>\n",
       "      <td>1612809.0</td>\n",
       "      <td>2018-01-14T00:00:00.000Z</td>\n",
       "      <td>02:30 PM</td>\n",
       "      <td>14</td>\n",
       "      <td>2018</td>\n",
       "      <td>Caida Ocupante</td>\n",
       "      <td>CR 43 CL 57</td>\n",
       "      <td>...</td>\n",
       "      <td>La Candelaria</td>\n",
       "      <td>Tramo de via</td>\n",
       "      <td>0</td>\n",
       "      <td>1</td>\n",
       "      <td>ENERO</td>\n",
       "      <td>2</td>\n",
       "      <td>0</td>\n",
       "      <td>1</td>\n",
       "      <td>1</td>\n",
       "      <td>2</td>\n",
       "    </tr>\n",
       "    <tr>\n",
       "      <th>3</th>\n",
       "      <td>-75.597828</td>\n",
       "      <td>6.222382</td>\n",
       "      <td>550559</td>\n",
       "      <td>1612812.0</td>\n",
       "      <td>2018-01-14T00:00:00.000Z</td>\n",
       "      <td>02:30 PM</td>\n",
       "      <td>14</td>\n",
       "      <td>2018</td>\n",
       "      <td>Otro</td>\n",
       "      <td>CR 76 CL 16</td>\n",
       "      <td>...</td>\n",
       "      <td>Belén</td>\n",
       "      <td>Interseccion</td>\n",
       "      <td>0</td>\n",
       "      <td>1</td>\n",
       "      <td>ENERO</td>\n",
       "      <td>3</td>\n",
       "      <td>0</td>\n",
       "      <td>0</td>\n",
       "      <td>2</td>\n",
       "      <td>3</td>\n",
       "    </tr>\n",
       "    <tr>\n",
       "      <th>4</th>\n",
       "      <td>-75.561804</td>\n",
       "      <td>6.236754</td>\n",
       "      <td>550560</td>\n",
       "      <td>1612817.0</td>\n",
       "      <td>2018-01-14T00:00:00.000Z</td>\n",
       "      <td>02:37 PM</td>\n",
       "      <td>14</td>\n",
       "      <td>2018</td>\n",
       "      <td>Choque</td>\n",
       "      <td>CR 36 CL 39</td>\n",
       "      <td>...</td>\n",
       "      <td>Buenos Aires</td>\n",
       "      <td>Tramo de via</td>\n",
       "      <td>0</td>\n",
       "      <td>1</td>\n",
       "      <td>ENERO</td>\n",
       "      <td>4</td>\n",
       "      <td>1</td>\n",
       "      <td>1</td>\n",
       "      <td>0</td>\n",
       "      <td>4</td>\n",
       "    </tr>\n",
       "    <tr>\n",
       "      <th>5</th>\n",
       "      <td>-75.554249</td>\n",
       "      <td>6.262941</td>\n",
       "      <td>550562</td>\n",
       "      <td>1612856.0</td>\n",
       "      <td>2018-01-14T00:00:00.000Z</td>\n",
       "      <td>03:00 PM</td>\n",
       "      <td>14</td>\n",
       "      <td>2018</td>\n",
       "      <td>Atropello</td>\n",
       "      <td>CR 44 CL 67</td>\n",
       "      <td>...</td>\n",
       "      <td>Manrique</td>\n",
       "      <td>Tramo de via</td>\n",
       "      <td>0</td>\n",
       "      <td>1</td>\n",
       "      <td>ENERO</td>\n",
       "      <td>5</td>\n",
       "      <td>0</td>\n",
       "      <td>1</td>\n",
       "      <td>3</td>\n",
       "      <td>5</td>\n",
       "    </tr>\n",
       "    <tr>\n",
       "      <th>6</th>\n",
       "      <td>-75.591549</td>\n",
       "      <td>6.244591</td>\n",
       "      <td>550563</td>\n",
       "      <td>1612823.0</td>\n",
       "      <td>2018-01-14T00:00:00.000Z</td>\n",
       "      <td>03:30 PM</td>\n",
       "      <td>14</td>\n",
       "      <td>2018</td>\n",
       "      <td>Choque</td>\n",
       "      <td>CQ 2 CR 72</td>\n",
       "      <td>...</td>\n",
       "      <td>Laureles Estadio</td>\n",
       "      <td>Interseccion</td>\n",
       "      <td>0</td>\n",
       "      <td>1</td>\n",
       "      <td>ENERO</td>\n",
       "      <td>0</td>\n",
       "      <td>1</td>\n",
       "      <td>0</td>\n",
       "      <td>0</td>\n",
       "      <td>6</td>\n",
       "    </tr>\n",
       "    <tr>\n",
       "      <th>7</th>\n",
       "      <td>-75.572067</td>\n",
       "      <td>6.234996</td>\n",
       "      <td>550564</td>\n",
       "      <td>1612825.0</td>\n",
       "      <td>2018-01-14T00:00:00.000Z</td>\n",
       "      <td>04:00 PM</td>\n",
       "      <td>14</td>\n",
       "      <td>2018</td>\n",
       "      <td>Choque</td>\n",
       "      <td>CL 34 CR 46</td>\n",
       "      <td>...</td>\n",
       "      <td>La Candelaria</td>\n",
       "      <td>Lote o Predio</td>\n",
       "      <td>0</td>\n",
       "      <td>1</td>\n",
       "      <td>ENERO</td>\n",
       "      <td>2</td>\n",
       "      <td>1</td>\n",
       "      <td>2</td>\n",
       "      <td>0</td>\n",
       "      <td>7</td>\n",
       "    </tr>\n",
       "    <tr>\n",
       "      <th>8</th>\n",
       "      <td>-75.599717</td>\n",
       "      <td>6.250105</td>\n",
       "      <td>550565</td>\n",
       "      <td>1612850.0</td>\n",
       "      <td>2018-01-14T00:00:00.000Z</td>\n",
       "      <td>04:10 PM</td>\n",
       "      <td>14</td>\n",
       "      <td>2018</td>\n",
       "      <td>Choque</td>\n",
       "      <td>CL 44 CR 80</td>\n",
       "      <td>...</td>\n",
       "      <td>La América</td>\n",
       "      <td>Tramo de via</td>\n",
       "      <td>0</td>\n",
       "      <td>1</td>\n",
       "      <td>ENERO</td>\n",
       "      <td>6</td>\n",
       "      <td>1</td>\n",
       "      <td>1</td>\n",
       "      <td>0</td>\n",
       "      <td>8</td>\n",
       "    </tr>\n",
       "    <tr>\n",
       "      <th>9</th>\n",
       "      <td>-75.578964</td>\n",
       "      <td>6.288339</td>\n",
       "      <td>550566</td>\n",
       "      <td>1612815.0</td>\n",
       "      <td>2018-01-14T00:00:00.000Z</td>\n",
       "      <td>04:20 PM</td>\n",
       "      <td>14</td>\n",
       "      <td>2018</td>\n",
       "      <td>Caida Ocupante</td>\n",
       "      <td>CR 74 CL 92</td>\n",
       "      <td>...</td>\n",
       "      <td>Doce de Octubre</td>\n",
       "      <td>Interseccion</td>\n",
       "      <td>0</td>\n",
       "      <td>1</td>\n",
       "      <td>ENERO</td>\n",
       "      <td>1</td>\n",
       "      <td>0</td>\n",
       "      <td>0</td>\n",
       "      <td>1</td>\n",
       "      <td>9</td>\n",
       "    </tr>\n",
       "  </tbody>\n",
       "</table>\n",
       "<p>10 rows × 25 columns</p>\n",
       "</div>"
      ],
      "text/plain": [
       "           X         Y  OBJECTID   RADICADO                     FECHA  \\\n",
       "0 -75.584608  6.261152    550556  1612819.0  2018-01-14T00:00:00.000Z   \n",
       "1 -75.582266  6.293102    550557  1612866.0  2018-01-14T00:00:00.000Z   \n",
       "2 -75.560337  6.252080    550558  1612809.0  2018-01-14T00:00:00.000Z   \n",
       "3 -75.597828  6.222382    550559  1612812.0  2018-01-14T00:00:00.000Z   \n",
       "4 -75.561804  6.236754    550560  1612817.0  2018-01-14T00:00:00.000Z   \n",
       "5 -75.554249  6.262941    550562  1612856.0  2018-01-14T00:00:00.000Z   \n",
       "6 -75.591549  6.244591    550563  1612823.0  2018-01-14T00:00:00.000Z   \n",
       "7 -75.572067  6.234996    550564  1612825.0  2018-01-14T00:00:00.000Z   \n",
       "8 -75.599717  6.250105    550565  1612850.0  2018-01-14T00:00:00.000Z   \n",
       "9 -75.578964  6.288339    550566  1612815.0  2018-01-14T00:00:00.000Z   \n",
       "\n",
       "       HORA  DIA  PERIODO           CLASE    DIRECCION  ...            COMUNA  \\\n",
       "0  01:30 PM   14     2018          Choque  CR 70 CL 55  ...  Laureles Estadio   \n",
       "1  01:30 PM   14     2018          Choque  CR 79 CL 95  ...   Doce de Octubre   \n",
       "2  02:30 PM   14     2018  Caida Ocupante  CR 43 CL 57  ...     La Candelaria   \n",
       "3  02:30 PM   14     2018            Otro  CR 76 CL 16  ...             Belén   \n",
       "4  02:37 PM   14     2018          Choque  CR 36 CL 39  ...      Buenos Aires   \n",
       "5  03:00 PM   14     2018       Atropello  CR 44 CL 67  ...          Manrique   \n",
       "6  03:30 PM   14     2018          Choque   CQ 2 CR 72  ...  Laureles Estadio   \n",
       "7  04:00 PM   14     2018          Choque  CL 34 CR 46  ...     La Candelaria   \n",
       "8  04:10 PM   14     2018          Choque  CL 44 CR 80  ...        La América   \n",
       "9  04:20 PM   14     2018  Caida Ocupante  CR 74 CL 92  ...   Doce de Octubre   \n",
       "\n",
       "          DISENO DIA_SEMANA MES MES_NOMBRE NUM_COMUNA NUM_GRAVEDAD  \\\n",
       "0   Interseccion          0   1      ENERO          0            0   \n",
       "1   Tramo de via          0   1      ENERO          1            1   \n",
       "2   Tramo de via          0   1      ENERO          2            0   \n",
       "3   Interseccion          0   1      ENERO          3            0   \n",
       "4   Tramo de via          0   1      ENERO          4            1   \n",
       "5   Tramo de via          0   1      ENERO          5            0   \n",
       "6   Interseccion          0   1      ENERO          0            1   \n",
       "7  Lote o Predio          0   1      ENERO          2            1   \n",
       "8   Tramo de via          0   1      ENERO          6            1   \n",
       "9   Interseccion          0   1      ENERO          1            0   \n",
       "\n",
       "   NUM_DISENO  NUM_CLASE NUM_BARRIO  \n",
       "0           0          0          0  \n",
       "1           1          0          1  \n",
       "2           1          1          2  \n",
       "3           0          2          3  \n",
       "4           1          0          4  \n",
       "5           1          3          5  \n",
       "6           0          0          6  \n",
       "7           2          0          7  \n",
       "8           1          0          8  \n",
       "9           0          1          9  \n",
       "\n",
       "[10 rows x 25 columns]"
      ]
     },
     "execution_count": 333,
     "metadata": {},
     "output_type": "execute_result"
    }
   ],
   "source": [
    "accidentes.head(10)"
   ]
  },
  {
   "cell_type": "markdown",
   "metadata": {},
   "source": [
    "Eliminamos las filas que contenian datos vacios, para contar con la misma dimension de los mismos"
   ]
  },
  {
   "cell_type": "code",
   "execution_count": 334,
   "metadata": {
    "scrolled": true
   },
   "outputs": [
    {
     "data": {
      "text/plain": [
       "(70919, 25)"
      ]
     },
     "execution_count": 334,
     "metadata": {},
     "output_type": "execute_result"
    }
   ],
   "source": [
    "#Eliminamos las filas de las columnas que no tienen información   \n",
    "accidentes = accidentes.drop(accidentes[accidentes['COMUNA']=='Sin Inf'].index)\n",
    "\n",
    "accidentes.drop(accidentes[accidentes.CBML.isnull()].index, inplace = True)\n",
    "accidentes.drop(accidentes[accidentes.BARRIO.isnull()].index, inplace = True)\n",
    "accidentes.drop(accidentes[accidentes.COMUNA.isnull()].index, inplace = True)\n",
    "accidentes.drop(accidentes[accidentes.DISENO.isnull()].index, inplace = True)\n",
    "accidentes.drop(accidentes[accidentes.GRAVEDAD.isnull()].index, inplace = True)\n",
    "\n",
    "accidentes.shape"
   ]
  },
  {
   "cell_type": "code",
   "execution_count": 335,
   "metadata": {},
   "outputs": [
    {
     "data": {
      "text/plain": [
       "array([ 0,  1,  2,  3,  4,  5,  6,  7,  8,  9, 10, 11, 12, 13, 14, 15, 16,\n",
       "       17, 18, 19, 20], dtype=int64)"
      ]
     },
     "execution_count": 335,
     "metadata": {},
     "output_type": "execute_result"
    }
   ],
   "source": [
    "accidentes['NUM_COMUNA'].unique()"
   ]
  },
  {
   "cell_type": "markdown",
   "metadata": {},
   "source": [
    "cambiamos el tipo de dato de Object a int en las columnas DIA_NUMERO,CBML,NUM_COMUNA"
   ]
  },
  {
   "cell_type": "code",
   "execution_count": 336,
   "metadata": {},
   "outputs": [],
   "source": [
    "#accidentes[['DIA_SEMANA','CBML','NUM_DISENO','NUM_BARRIO','NUM_CLASE','NUM_GRAVEDAD','NUM_COMUNA']] = accidentes[['DIA_SEMANA','CBML','NUM_DISENO','NUM_BARRIO','NUM_CLASE','NUM_GRAVEDAD','NUM_COMUNA']].astype('int64')\n",
    "\n"
   ]
  },
  {
   "cell_type": "code",
   "execution_count": 337,
   "metadata": {},
   "outputs": [
    {
     "data": {
      "text/plain": [
       "Index(['X', 'Y', 'OBJECTID', 'RADICADO', 'FECHA', 'HORA', 'DIA', 'PERIODO',\n",
       "       'CLASE', 'DIRECCION', 'DIRECCION_ENC', 'CBML', 'TIPO_GEOCOD',\n",
       "       'GRAVEDAD', 'BARRIO', 'COMUNA', 'DISENO', 'DIA_SEMANA', 'MES',\n",
       "       'MES_NOMBRE', 'NUM_COMUNA', 'NUM_GRAVEDAD', 'NUM_DISENO', 'NUM_CLASE',\n",
       "       'NUM_BARRIO'],\n",
       "      dtype='object')"
      ]
     },
     "execution_count": 337,
     "metadata": {},
     "output_type": "execute_result"
    }
   ],
   "source": [
    "accidentes.columns"
   ]
  },
  {
   "cell_type": "code",
   "execution_count": 338,
   "metadata": {},
   "outputs": [
    {
     "data": {
      "text/plain": [
       "(70919, 25)"
      ]
     },
     "execution_count": 338,
     "metadata": {},
     "output_type": "execute_result"
    }
   ],
   "source": [
    "accidentes.shape"
   ]
  },
  {
   "cell_type": "code",
   "execution_count": 339,
   "metadata": {},
   "outputs": [
    {
     "data": {
      "text/plain": [
       "X                                -75.5697\n",
       "Y                                 6.25662\n",
       "OBJECTID                           550567\n",
       "RADICADO                       1.6128e+06\n",
       "FECHA            2018-01-14T00:00:00.000Z\n",
       "HORA                             04:30 PM\n",
       "DIA                                    14\n",
       "PERIODO                              2018\n",
       "CLASE                              Choque\n",
       "DIRECCION                     CR 54 CL 57\n",
       "DIRECCION_ENC    CR  054   057  000 00000\n",
       "CBML                                 1005\n",
       "TIPO_GEOCOD                    Malla vial\n",
       "GRAVEDAD                           HERIDO\n",
       "BARRIO                     Estación Villa\n",
       "COMUNA                      La Candelaria\n",
       "DISENO                       Interseccion\n",
       "DIA_SEMANA                              0\n",
       "MES                                     1\n",
       "MES_NOMBRE                          ENERO\n",
       "NUM_COMUNA                              2\n",
       "NUM_GRAVEDAD                            0\n",
       "NUM_DISENO                              0\n",
       "NUM_CLASE                               0\n",
       "NUM_BARRIO                             10\n",
       "Name: 10, dtype: object"
      ]
     },
     "execution_count": 339,
     "metadata": {},
     "output_type": "execute_result"
    }
   ],
   "source": [
    "linea = accidentes.loc[10,:]\n",
    "linea"
   ]
  },
  {
   "cell_type": "markdown",
   "metadata": {},
   "source": [
    "# Inspeccionar nuestros datos"
   ]
  },
  {
   "cell_type": "code",
   "execution_count": 340,
   "metadata": {},
   "outputs": [
    {
     "name": "stdout",
     "output_type": "stream",
     "text": [
      "<class 'pandas.core.frame.DataFrame'>\n",
      "Int64Index: 70919 entries, 0 to 71236\n",
      "Data columns (total 25 columns):\n",
      " #   Column         Non-Null Count  Dtype  \n",
      "---  ------         --------------  -----  \n",
      " 0   X              70919 non-null  float64\n",
      " 1   Y              70919 non-null  float64\n",
      " 2   OBJECTID       70919 non-null  int64  \n",
      " 3   RADICADO       70919 non-null  float64\n",
      " 4   FECHA          70919 non-null  object \n",
      " 5   HORA           70919 non-null  object \n",
      " 6   DIA            70919 non-null  int64  \n",
      " 7   PERIODO        70919 non-null  int64  \n",
      " 8   CLASE          70919 non-null  object \n",
      " 9   DIRECCION      70919 non-null  object \n",
      " 10  DIRECCION_ENC  70919 non-null  object \n",
      " 11  CBML           70919 non-null  object \n",
      " 12  TIPO_GEOCOD    70919 non-null  object \n",
      " 13  GRAVEDAD       70919 non-null  object \n",
      " 14  BARRIO         70919 non-null  object \n",
      " 15  COMUNA         70919 non-null  object \n",
      " 16  DISENO         70919 non-null  object \n",
      " 17  DIA_SEMANA     70919 non-null  int64  \n",
      " 18  MES            70919 non-null  int64  \n",
      " 19  MES_NOMBRE     70919 non-null  object \n",
      " 20  NUM_COMUNA     70919 non-null  int64  \n",
      " 21  NUM_GRAVEDAD   70919 non-null  int64  \n",
      " 22  NUM_DISENO     70919 non-null  int64  \n",
      " 23  NUM_CLASE      70919 non-null  int64  \n",
      " 24  NUM_BARRIO     70919 non-null  int64  \n",
      "dtypes: float64(3), int64(10), object(12)\n",
      "memory usage: 16.6+ MB\n"
     ]
    }
   ],
   "source": [
    "accidentes.info()"
   ]
  },
  {
   "cell_type": "markdown",
   "metadata": {},
   "source": [
    "Columnas numericas y columnas de texto\n",
    "\n"
   ]
  },
  {
   "cell_type": "code",
   "execution_count": 341,
   "metadata": {},
   "outputs": [
    {
     "data": {
      "text/plain": [
       "X                 True\n",
       "Y                 True\n",
       "OBJECTID          True\n",
       "RADICADO          True\n",
       "FECHA            False\n",
       "HORA             False\n",
       "DIA               True\n",
       "PERIODO           True\n",
       "CLASE            False\n",
       "DIRECCION        False\n",
       "DIRECCION_ENC    False\n",
       "CBML             False\n",
       "TIPO_GEOCOD      False\n",
       "GRAVEDAD         False\n",
       "BARRIO           False\n",
       "COMUNA           False\n",
       "DISENO           False\n",
       "DIA_SEMANA        True\n",
       "MES               True\n",
       "MES_NOMBRE       False\n",
       "NUM_COMUNA        True\n",
       "NUM_GRAVEDAD      True\n",
       "NUM_DISENO        True\n",
       "NUM_CLASE         True\n",
       "NUM_BARRIO        True\n",
       "dtype: bool"
      ]
     },
     "execution_count": 341,
     "metadata": {},
     "output_type": "execute_result"
    }
   ],
   "source": [
    "(accidentes.dtypes != object)\n"
   ]
  },
  {
   "cell_type": "code",
   "execution_count": 342,
   "metadata": {},
   "outputs": [
    {
     "data": {
      "text/plain": [
       "X                False\n",
       "Y                False\n",
       "OBJECTID         False\n",
       "RADICADO         False\n",
       "FECHA             True\n",
       "HORA              True\n",
       "DIA              False\n",
       "PERIODO          False\n",
       "CLASE             True\n",
       "DIRECCION         True\n",
       "DIRECCION_ENC     True\n",
       "CBML              True\n",
       "TIPO_GEOCOD       True\n",
       "GRAVEDAD          True\n",
       "BARRIO            True\n",
       "COMUNA            True\n",
       "DISENO            True\n",
       "DIA_SEMANA       False\n",
       "MES              False\n",
       "MES_NOMBRE        True\n",
       "NUM_COMUNA       False\n",
       "NUM_GRAVEDAD     False\n",
       "NUM_DISENO       False\n",
       "NUM_CLASE        False\n",
       "NUM_BARRIO       False\n",
       "dtype: bool"
      ]
     },
     "execution_count": 342,
     "metadata": {},
     "output_type": "execute_result"
    }
   ],
   "source": [
    "accidentes.dtypes == object\n"
   ]
  },
  {
   "cell_type": "code",
   "execution_count": 343,
   "metadata": {},
   "outputs": [
    {
     "data": {
      "text/plain": [
       "Index(['X', 'Y', 'OBJECTID', 'RADICADO', 'FECHA', 'HORA', 'DIA', 'PERIODO',\n",
       "       'CLASE', 'DIRECCION', 'DIRECCION_ENC', 'CBML', 'TIPO_GEOCOD',\n",
       "       'GRAVEDAD', 'BARRIO', 'COMUNA', 'DISENO', 'DIA_SEMANA', 'MES',\n",
       "       'MES_NOMBRE', 'NUM_COMUNA', 'NUM_GRAVEDAD', 'NUM_DISENO', 'NUM_CLASE',\n",
       "       'NUM_BARRIO'],\n",
       "      dtype='object')"
      ]
     },
     "execution_count": 343,
     "metadata": {},
     "output_type": "execute_result"
    }
   ],
   "source": [
    "num = (accidentes.dtypes != object )\n",
    "num.index"
   ]
  },
  {
   "cell_type": "code",
   "execution_count": 344,
   "metadata": {},
   "outputs": [
    {
     "name": "stdout",
     "output_type": "stream",
     "text": [
      "X\n",
      "Y\n",
      "OBJECTID\n",
      "RADICADO\n",
      "FECHA\n",
      "HORA\n",
      "DIA\n",
      "PERIODO\n",
      "CLASE\n",
      "DIRECCION\n",
      "DIRECCION_ENC\n",
      "CBML\n",
      "TIPO_GEOCOD\n",
      "GRAVEDAD\n",
      "BARRIO\n",
      "COMUNA\n",
      "DISENO\n",
      "DIA_SEMANA\n",
      "MES\n",
      "MES_NOMBRE\n",
      "NUM_COMUNA\n",
      "NUM_GRAVEDAD\n",
      "NUM_DISENO\n",
      "NUM_CLASE\n",
      "NUM_BARRIO\n"
     ]
    }
   ],
   "source": [
    "for i in num.index:\n",
    "    print(i)"
   ]
  },
  {
   "cell_type": "code",
   "execution_count": 345,
   "metadata": {},
   "outputs": [],
   "source": [
    "num_cols = [c for c in num.index if num[c]]"
   ]
  },
  {
   "cell_type": "code",
   "execution_count": 346,
   "metadata": {},
   "outputs": [
    {
     "data": {
      "text/plain": [
       "['X',\n",
       " 'Y',\n",
       " 'OBJECTID',\n",
       " 'RADICADO',\n",
       " 'DIA',\n",
       " 'PERIODO',\n",
       " 'DIA_SEMANA',\n",
       " 'MES',\n",
       " 'NUM_COMUNA',\n",
       " 'NUM_GRAVEDAD',\n",
       " 'NUM_DISENO',\n",
       " 'NUM_CLASE',\n",
       " 'NUM_BARRIO']"
      ]
     },
     "execution_count": 346,
     "metadata": {},
     "output_type": "execute_result"
    }
   ],
   "source": [
    "num_cols"
   ]
  },
  {
   "cell_type": "code",
   "execution_count": 347,
   "metadata": {},
   "outputs": [
    {
     "data": {
      "text/plain": [
       "X                False\n",
       "Y                False\n",
       "OBJECTID         False\n",
       "RADICADO         False\n",
       "FECHA             True\n",
       "HORA              True\n",
       "DIA              False\n",
       "PERIODO          False\n",
       "CLASE             True\n",
       "DIRECCION         True\n",
       "DIRECCION_ENC     True\n",
       "CBML              True\n",
       "TIPO_GEOCOD       True\n",
       "GRAVEDAD          True\n",
       "BARRIO            True\n",
       "COMUNA            True\n",
       "DISENO            True\n",
       "DIA_SEMANA       False\n",
       "MES              False\n",
       "MES_NOMBRE        True\n",
       "NUM_COMUNA       False\n",
       "NUM_GRAVEDAD     False\n",
       "NUM_DISENO       False\n",
       "NUM_CLASE        False\n",
       "NUM_BARRIO       False\n",
       "dtype: bool"
      ]
     },
     "execution_count": 347,
     "metadata": {},
     "output_type": "execute_result"
    }
   ],
   "source": [
    "accidentes.dtypes == object"
   ]
  },
  {
   "cell_type": "code",
   "execution_count": 348,
   "metadata": {},
   "outputs": [],
   "source": [
    "obj = (accidentes.dtypes == object)\n",
    "obj_cols =  [c for c in obj.index if obj[c]]"
   ]
  },
  {
   "cell_type": "code",
   "execution_count": 349,
   "metadata": {},
   "outputs": [
    {
     "data": {
      "text/plain": [
       "['FECHA',\n",
       " 'HORA',\n",
       " 'CLASE',\n",
       " 'DIRECCION',\n",
       " 'DIRECCION_ENC',\n",
       " 'CBML',\n",
       " 'TIPO_GEOCOD',\n",
       " 'GRAVEDAD',\n",
       " 'BARRIO',\n",
       " 'COMUNA',\n",
       " 'DISENO',\n",
       " 'MES_NOMBRE']"
      ]
     },
     "execution_count": 349,
     "metadata": {},
     "output_type": "execute_result"
    }
   ],
   "source": [
    "obj_cols"
   ]
  },
  {
   "cell_type": "code",
   "execution_count": 350,
   "metadata": {},
   "outputs": [],
   "source": [
    "accidentes_num = accidentes[num_cols]\n",
    "accidentes_obj = accidentes[obj_cols]"
   ]
  },
  {
   "cell_type": "code",
   "execution_count": 351,
   "metadata": {},
   "outputs": [],
   "source": [
    "accidentes_obj.to_csv(\"C:/Users/sergi/Repositorios/modalidad/Dataset/accidentes_obj.csv\",index = False)"
   ]
  },
  {
   "cell_type": "markdown",
   "metadata": {},
   "source": [
    "# Estadisticas de las columnas"
   ]
  },
  {
   "cell_type": "code",
   "execution_count": 352,
   "metadata": {
    "scrolled": true
   },
   "outputs": [
    {
     "data": {
      "text/html": [
       "<div>\n",
       "<style scoped>\n",
       "    .dataframe tbody tr th:only-of-type {\n",
       "        vertical-align: middle;\n",
       "    }\n",
       "\n",
       "    .dataframe tbody tr th {\n",
       "        vertical-align: top;\n",
       "    }\n",
       "\n",
       "    .dataframe thead th {\n",
       "        text-align: right;\n",
       "    }\n",
       "</style>\n",
       "<table border=\"1\" class=\"dataframe\">\n",
       "  <thead>\n",
       "    <tr style=\"text-align: right;\">\n",
       "      <th></th>\n",
       "      <th>X</th>\n",
       "      <th>Y</th>\n",
       "      <th>OBJECTID</th>\n",
       "      <th>RADICADO</th>\n",
       "      <th>DIA</th>\n",
       "      <th>PERIODO</th>\n",
       "      <th>DIA_SEMANA</th>\n",
       "      <th>MES</th>\n",
       "      <th>NUM_COMUNA</th>\n",
       "      <th>NUM_GRAVEDAD</th>\n",
       "      <th>NUM_DISENO</th>\n",
       "      <th>NUM_CLASE</th>\n",
       "      <th>NUM_BARRIO</th>\n",
       "    </tr>\n",
       "  </thead>\n",
       "  <tbody>\n",
       "    <tr>\n",
       "      <th>count</th>\n",
       "      <td>70919.000000</td>\n",
       "      <td>70919.000000</td>\n",
       "      <td>70919.000000</td>\n",
       "      <td>7.091900e+04</td>\n",
       "      <td>70919.000000</td>\n",
       "      <td>70919.000000</td>\n",
       "      <td>70919.000000</td>\n",
       "      <td>70919.000000</td>\n",
       "      <td>70919.000000</td>\n",
       "      <td>70919.000000</td>\n",
       "      <td>70919.000000</td>\n",
       "      <td>70919.000000</td>\n",
       "      <td>70919.000000</td>\n",
       "    </tr>\n",
       "    <tr>\n",
       "      <th>mean</th>\n",
       "      <td>-75.576975</td>\n",
       "      <td>6.250309</td>\n",
       "      <td>669752.805764</td>\n",
       "      <td>1.650460e+06</td>\n",
       "      <td>15.610316</td>\n",
       "      <td>2018.435173</td>\n",
       "      <td>3.190866</td>\n",
       "      <td>6.013748</td>\n",
       "      <td>6.143544</td>\n",
       "      <td>0.476572</td>\n",
       "      <td>1.131911</td>\n",
       "      <td>0.675094</td>\n",
       "      <td>88.884558</td>\n",
       "    </tr>\n",
       "    <tr>\n",
       "      <th>std</th>\n",
       "      <td>0.019243</td>\n",
       "      <td>0.028630</td>\n",
       "      <td>65454.039651</td>\n",
       "      <td>2.245798e+04</td>\n",
       "      <td>8.693016</td>\n",
       "      <td>0.495783</td>\n",
       "      <td>1.908569</td>\n",
       "      <td>3.147214</td>\n",
       "      <td>4.647647</td>\n",
       "      <td>0.506073</td>\n",
       "      <td>1.039309</td>\n",
       "      <td>1.151718</td>\n",
       "      <td>68.531707</td>\n",
       "    </tr>\n",
       "    <tr>\n",
       "      <th>min</th>\n",
       "      <td>-75.701661</td>\n",
       "      <td>6.167576</td>\n",
       "      <td>549556.000000</td>\n",
       "      <td>1.611518e+06</td>\n",
       "      <td>1.000000</td>\n",
       "      <td>2018.000000</td>\n",
       "      <td>0.000000</td>\n",
       "      <td>1.000000</td>\n",
       "      <td>0.000000</td>\n",
       "      <td>0.000000</td>\n",
       "      <td>0.000000</td>\n",
       "      <td>0.000000</td>\n",
       "      <td>0.000000</td>\n",
       "    </tr>\n",
       "    <tr>\n",
       "      <th>25%</th>\n",
       "      <td>-75.586220</td>\n",
       "      <td>6.231916</td>\n",
       "      <td>662520.500000</td>\n",
       "      <td>1.631016e+06</td>\n",
       "      <td>8.000000</td>\n",
       "      <td>2018.000000</td>\n",
       "      <td>2.000000</td>\n",
       "      <td>3.000000</td>\n",
       "      <td>2.000000</td>\n",
       "      <td>0.000000</td>\n",
       "      <td>1.000000</td>\n",
       "      <td>0.000000</td>\n",
       "      <td>32.000000</td>\n",
       "    </tr>\n",
       "    <tr>\n",
       "      <th>50%</th>\n",
       "      <td>-75.574758</td>\n",
       "      <td>6.250098</td>\n",
       "      <td>681666.000000</td>\n",
       "      <td>1.650273e+06</td>\n",
       "      <td>16.000000</td>\n",
       "      <td>2018.000000</td>\n",
       "      <td>3.000000</td>\n",
       "      <td>6.000000</td>\n",
       "      <td>6.000000</td>\n",
       "      <td>0.000000</td>\n",
       "      <td>1.000000</td>\n",
       "      <td>0.000000</td>\n",
       "      <td>70.000000</td>\n",
       "    </tr>\n",
       "    <tr>\n",
       "      <th>75%</th>\n",
       "      <td>-75.564990</td>\n",
       "      <td>6.271538</td>\n",
       "      <td>722987.500000</td>\n",
       "      <td>1.669974e+06</td>\n",
       "      <td>23.000000</td>\n",
       "      <td>2019.000000</td>\n",
       "      <td>5.000000</td>\n",
       "      <td>8.000000</td>\n",
       "      <td>9.000000</td>\n",
       "      <td>1.000000</td>\n",
       "      <td>1.000000</td>\n",
       "      <td>1.000000</td>\n",
       "      <td>132.000000</td>\n",
       "    </tr>\n",
       "    <tr>\n",
       "      <th>max</th>\n",
       "      <td>-75.504666</td>\n",
       "      <td>6.368394</td>\n",
       "      <td>742352.000000</td>\n",
       "      <td>1.689537e+06</td>\n",
       "      <td>31.000000</td>\n",
       "      <td>2019.000000</td>\n",
       "      <td>6.000000</td>\n",
       "      <td>12.000000</td>\n",
       "      <td>20.000000</td>\n",
       "      <td>2.000000</td>\n",
       "      <td>11.000000</td>\n",
       "      <td>5.000000</td>\n",
       "      <td>324.000000</td>\n",
       "    </tr>\n",
       "  </tbody>\n",
       "</table>\n",
       "</div>"
      ],
      "text/plain": [
       "                  X             Y       OBJECTID      RADICADO           DIA  \\\n",
       "count  70919.000000  70919.000000   70919.000000  7.091900e+04  70919.000000   \n",
       "mean     -75.576975      6.250309  669752.805764  1.650460e+06     15.610316   \n",
       "std        0.019243      0.028630   65454.039651  2.245798e+04      8.693016   \n",
       "min      -75.701661      6.167576  549556.000000  1.611518e+06      1.000000   \n",
       "25%      -75.586220      6.231916  662520.500000  1.631016e+06      8.000000   \n",
       "50%      -75.574758      6.250098  681666.000000  1.650273e+06     16.000000   \n",
       "75%      -75.564990      6.271538  722987.500000  1.669974e+06     23.000000   \n",
       "max      -75.504666      6.368394  742352.000000  1.689537e+06     31.000000   \n",
       "\n",
       "            PERIODO    DIA_SEMANA           MES    NUM_COMUNA  NUM_GRAVEDAD  \\\n",
       "count  70919.000000  70919.000000  70919.000000  70919.000000  70919.000000   \n",
       "mean    2018.435173      3.190866      6.013748      6.143544      0.476572   \n",
       "std        0.495783      1.908569      3.147214      4.647647      0.506073   \n",
       "min     2018.000000      0.000000      1.000000      0.000000      0.000000   \n",
       "25%     2018.000000      2.000000      3.000000      2.000000      0.000000   \n",
       "50%     2018.000000      3.000000      6.000000      6.000000      0.000000   \n",
       "75%     2019.000000      5.000000      8.000000      9.000000      1.000000   \n",
       "max     2019.000000      6.000000     12.000000     20.000000      2.000000   \n",
       "\n",
       "         NUM_DISENO     NUM_CLASE    NUM_BARRIO  \n",
       "count  70919.000000  70919.000000  70919.000000  \n",
       "mean       1.131911      0.675094     88.884558  \n",
       "std        1.039309      1.151718     68.531707  \n",
       "min        0.000000      0.000000      0.000000  \n",
       "25%        1.000000      0.000000     32.000000  \n",
       "50%        1.000000      0.000000     70.000000  \n",
       "75%        1.000000      1.000000    132.000000  \n",
       "max       11.000000      5.000000    324.000000  "
      ]
     },
     "execution_count": 352,
     "metadata": {},
     "output_type": "execute_result"
    }
   ],
   "source": [
    "accidentes_num.describe()"
   ]
  },
  {
   "cell_type": "markdown",
   "metadata": {},
   "source": [
    "# Observando los datos con graficos"
   ]
  },
  {
   "cell_type": "code",
   "execution_count": 353,
   "metadata": {
    "scrolled": false
   },
   "outputs": [
    {
     "data": {
      "text/plain": [
       "<matplotlib.axes._subplots.AxesSubplot at 0x1f10a4e1c70>"
      ]
     },
     "execution_count": 353,
     "metadata": {},
     "output_type": "execute_result"
    },
    {
     "data": {
      "image/png": "[encoded data removed]",
      "text/plain": [
       "<Figure size 432x288 with 1 Axes>"
      ]
     },
     "metadata": {
      "needs_background": "light"
     },
     "output_type": "display_data"
    }
   ],
   "source": [
    "accidentes_num['MES'].hist()"
   ]
  },
  {
   "cell_type": "code",
   "execution_count": 354,
   "metadata": {},
   "outputs": [
    {
     "data": {
      "text/plain": [
       "array([ 1,  2,  3,  4,  5,  7,  6,  8, 10,  9, 11, 12], dtype=int64)"
      ]
     },
     "execution_count": 354,
     "metadata": {},
     "output_type": "execute_result"
    }
   ],
   "source": [
    "accidentes_num['MES'].unique()"
   ]
  },
  {
   "cell_type": "code",
   "execution_count": 355,
   "metadata": {
    "scrolled": true
   },
   "outputs": [
    {
     "name": "stdout",
     "output_type": "stream",
     "text": [
      "mes 0\n",
      " False    65062\n",
      "True      5857\n",
      "Name: MES, dtype: int64\n",
      " \n",
      "mes 1\n",
      " False    64555\n",
      "True      6364\n",
      "Name: MES, dtype: int64\n",
      " \n",
      "mes 2\n",
      " False    64460\n",
      "True      6459\n",
      "Name: MES, dtype: int64\n",
      " \n",
      "mes 3\n",
      " False    64408\n",
      "True      6511\n",
      "Name: MES, dtype: int64\n",
      " \n",
      "mes 4\n",
      " False    63950\n",
      "True      6969\n",
      "Name: MES, dtype: int64\n",
      " \n",
      "mes 5\n",
      " False    64387\n",
      "True      6532\n",
      "Name: MES, dtype: int64\n",
      " \n",
      "mes 6\n",
      " False    63903\n",
      "True      7016\n",
      "Name: MES, dtype: int64\n",
      " \n",
      "mes 7\n",
      " False    63238\n",
      "True      7681\n",
      "Name: MES, dtype: int64\n",
      " \n",
      "mes 8\n",
      " False    63512\n",
      "True      7407\n",
      "Name: MES, dtype: int64\n",
      " \n",
      "mes 9\n",
      " False    67413\n",
      "True      3506\n",
      "Name: MES, dtype: int64\n",
      " \n",
      "mes 10\n",
      " False    67678\n",
      "True      3241\n",
      "Name: MES, dtype: int64\n",
      " \n",
      "mes 11\n",
      " False    67543\n",
      "True      3376\n",
      "Name: MES, dtype: int64\n",
      " \n"
     ]
    }
   ],
   "source": [
    "\n",
    "\n",
    "\n",
    "for i in range(12):\n",
    "       \n",
    "    meses = (accidentes_num['MES'] == i+1 ).value_counts()\n",
    "    print(f'mes {i}\\n {meses}\\n ')\n",
    "           \n"
   ]
  },
  {
   "cell_type": "code",
   "execution_count": 356,
   "metadata": {},
   "outputs": [
    {
     "data": {
      "text/plain": [
       "(70919, 25)"
      ]
     },
     "execution_count": 356,
     "metadata": {},
     "output_type": "execute_result"
    }
   ],
   "source": [
    "accidentes.shape"
   ]
  },
  {
   "cell_type": "markdown",
   "metadata": {},
   "source": [
    "# Buscando datos faltantes (nulos o NaN)"
   ]
  },
  {
   "cell_type": "code",
   "execution_count": 357,
   "metadata": {},
   "outputs": [
    {
     "data": {
      "text/html": [
       "<div>\n",
       "<style scoped>\n",
       "    .dataframe tbody tr th:only-of-type {\n",
       "        vertical-align: middle;\n",
       "    }\n",
       "\n",
       "    .dataframe tbody tr th {\n",
       "        vertical-align: top;\n",
       "    }\n",
       "\n",
       "    .dataframe thead th {\n",
       "        text-align: right;\n",
       "    }\n",
       "</style>\n",
       "<table border=\"1\" class=\"dataframe\">\n",
       "  <thead>\n",
       "    <tr style=\"text-align: right;\">\n",
       "      <th></th>\n",
       "      <th>X</th>\n",
       "      <th>Y</th>\n",
       "      <th>OBJECTID</th>\n",
       "      <th>RADICADO</th>\n",
       "      <th>DIA</th>\n",
       "      <th>PERIODO</th>\n",
       "      <th>DIA_SEMANA</th>\n",
       "      <th>MES</th>\n",
       "      <th>NUM_COMUNA</th>\n",
       "      <th>NUM_GRAVEDAD</th>\n",
       "      <th>NUM_DISENO</th>\n",
       "      <th>NUM_CLASE</th>\n",
       "      <th>NUM_BARRIO</th>\n",
       "    </tr>\n",
       "  </thead>\n",
       "  <tbody>\n",
       "    <tr>\n",
       "      <th>True</th>\n",
       "      <td>70919</td>\n",
       "      <td>70919</td>\n",
       "      <td>70919</td>\n",
       "      <td>70919</td>\n",
       "      <td>70919</td>\n",
       "      <td>70919</td>\n",
       "      <td>70919</td>\n",
       "      <td>70919</td>\n",
       "      <td>70919</td>\n",
       "      <td>70919</td>\n",
       "      <td>70919</td>\n",
       "      <td>70919</td>\n",
       "      <td>70919</td>\n",
       "    </tr>\n",
       "  </tbody>\n",
       "</table>\n",
       "</div>"
      ],
      "text/plain": [
       "          X      Y  OBJECTID  RADICADO    DIA  PERIODO  DIA_SEMANA    MES  \\\n",
       "True  70919  70919     70919     70919  70919    70919       70919  70919   \n",
       "\n",
       "      NUM_COMUNA  NUM_GRAVEDAD  NUM_DISENO  NUM_CLASE  NUM_BARRIO  \n",
       "True       70919         70919       70919      70919       70919  "
      ]
     },
     "execution_count": 357,
     "metadata": {},
     "output_type": "execute_result"
    }
   ],
   "source": [
    "accidentes_num.notnull().apply(pd.Series.value_counts)"
   ]
  },
  {
   "cell_type": "code",
   "execution_count": 358,
   "metadata": {},
   "outputs": [
    {
     "data": {
      "text/html": [
       "<div>\n",
       "<style scoped>\n",
       "    .dataframe tbody tr th:only-of-type {\n",
       "        vertical-align: middle;\n",
       "    }\n",
       "\n",
       "    .dataframe tbody tr th {\n",
       "        vertical-align: top;\n",
       "    }\n",
       "\n",
       "    .dataframe thead th {\n",
       "        text-align: right;\n",
       "    }\n",
       "</style>\n",
       "<table border=\"1\" class=\"dataframe\">\n",
       "  <thead>\n",
       "    <tr style=\"text-align: right;\">\n",
       "      <th></th>\n",
       "      <th>X</th>\n",
       "      <th>Y</th>\n",
       "      <th>OBJECTID</th>\n",
       "      <th>RADICADO</th>\n",
       "      <th>DIA</th>\n",
       "      <th>PERIODO</th>\n",
       "      <th>DIA_SEMANA</th>\n",
       "      <th>MES</th>\n",
       "      <th>NUM_COMUNA</th>\n",
       "      <th>NUM_GRAVEDAD</th>\n",
       "      <th>NUM_DISENO</th>\n",
       "      <th>NUM_CLASE</th>\n",
       "      <th>NUM_BARRIO</th>\n",
       "    </tr>\n",
       "  </thead>\n",
       "  <tbody>\n",
       "    <tr>\n",
       "      <th>False</th>\n",
       "      <td>NaN</td>\n",
       "      <td>NaN</td>\n",
       "      <td>NaN</td>\n",
       "      <td>NaN</td>\n",
       "      <td>NaN</td>\n",
       "      <td>NaN</td>\n",
       "      <td>6468</td>\n",
       "      <td>NaN</td>\n",
       "      <td>7712</td>\n",
       "      <td>37357</td>\n",
       "      <td>13589</td>\n",
       "      <td>49296</td>\n",
       "      <td>956</td>\n",
       "    </tr>\n",
       "    <tr>\n",
       "      <th>True</th>\n",
       "      <td>70919.0</td>\n",
       "      <td>70919.0</td>\n",
       "      <td>70919.0</td>\n",
       "      <td>70919.0</td>\n",
       "      <td>70919.0</td>\n",
       "      <td>70919.0</td>\n",
       "      <td>64451</td>\n",
       "      <td>70919.0</td>\n",
       "      <td>63207</td>\n",
       "      <td>33562</td>\n",
       "      <td>57330</td>\n",
       "      <td>21623</td>\n",
       "      <td>69963</td>\n",
       "    </tr>\n",
       "  </tbody>\n",
       "</table>\n",
       "</div>"
      ],
      "text/plain": [
       "             X        Y  OBJECTID  RADICADO      DIA  PERIODO  DIA_SEMANA  \\\n",
       "False      NaN      NaN       NaN       NaN      NaN      NaN        6468   \n",
       "True   70919.0  70919.0   70919.0   70919.0  70919.0  70919.0       64451   \n",
       "\n",
       "           MES  NUM_COMUNA  NUM_GRAVEDAD  NUM_DISENO  NUM_CLASE  NUM_BARRIO  \n",
       "False      NaN        7712         37357       13589      49296         956  \n",
       "True   70919.0       63207         33562       57330      21623       69963  "
      ]
     },
     "execution_count": 358,
     "metadata": {},
     "output_type": "execute_result"
    }
   ],
   "source": [
    "(accidentes_num != 0).apply(pd.Series.value_counts)"
   ]
  },
  {
   "cell_type": "code",
   "execution_count": 359,
   "metadata": {},
   "outputs": [],
   "source": [
    "from sklearn.impute import SimpleImputer as Imputer\n",
    "imputer = Imputer(missing_values=np.nan, strategy='mean')"
   ]
  },
  {
   "cell_type": "code",
   "execution_count": 360,
   "metadata": {},
   "outputs": [],
   "source": [
    "values = imputer.fit_transform(accidentes_num)"
   ]
  },
  {
   "cell_type": "code",
   "execution_count": 361,
   "metadata": {},
   "outputs": [
    {
     "data": {
      "text/plain": [
       "array([[-7.55846082e+01,  6.26115208e+00,  5.50556000e+05, ...,\n",
       "         0.00000000e+00,  0.00000000e+00,  0.00000000e+00],\n",
       "       [-7.55822656e+01,  6.29310209e+00,  5.50557000e+05, ...,\n",
       "         1.00000000e+00,  0.00000000e+00,  1.00000000e+00],\n",
       "       [-7.55603371e+01,  6.25208040e+00,  5.50558000e+05, ...,\n",
       "         1.00000000e+00,  1.00000000e+00,  2.00000000e+00],\n",
       "       ...,\n",
       "       [-7.55542974e+01,  6.30033736e+00,  7.41809000e+05, ...,\n",
       "         1.00000000e+00,  2.00000000e+00,  1.40000000e+02],\n",
       "       [-7.56025386e+01,  6.24321643e+00,  7.41810000e+05, ...,\n",
       "         1.00000000e+00,  0.00000000e+00,  6.20000000e+01],\n",
       "       [-7.55612869e+01,  6.29231249e+00,  7.41811000e+05, ...,\n",
       "         1.00000000e+00,  0.00000000e+00,  2.42000000e+02]])"
      ]
     },
     "execution_count": 361,
     "metadata": {},
     "output_type": "execute_result"
    }
   ],
   "source": [
    "#Array numpy\n",
    "\n",
    "accidentes_num.values\n"
   ]
  },
  {
   "cell_type": "code",
   "execution_count": 362,
   "metadata": {},
   "outputs": [],
   "source": [
    "x = pd.DataFrame(values)"
   ]
  },
  {
   "cell_type": "code",
   "execution_count": 363,
   "metadata": {},
   "outputs": [],
   "source": [
    "x.columns = accidentes_num.columns"
   ]
  },
  {
   "cell_type": "code",
   "execution_count": 364,
   "metadata": {},
   "outputs": [],
   "source": [
    "x.index = accidentes_num.index"
   ]
  },
  {
   "cell_type": "code",
   "execution_count": 365,
   "metadata": {
    "scrolled": true
   },
   "outputs": [
    {
     "data": {
      "text/html": [
       "<div>\n",
       "<style scoped>\n",
       "    .dataframe tbody tr th:only-of-type {\n",
       "        vertical-align: middle;\n",
       "    }\n",
       "\n",
       "    .dataframe tbody tr th {\n",
       "        vertical-align: top;\n",
       "    }\n",
       "\n",
       "    .dataframe thead th {\n",
       "        text-align: right;\n",
       "    }\n",
       "</style>\n",
       "<table border=\"1\" class=\"dataframe\">\n",
       "  <thead>\n",
       "    <tr style=\"text-align: right;\">\n",
       "      <th></th>\n",
       "      <th>X</th>\n",
       "      <th>Y</th>\n",
       "      <th>OBJECTID</th>\n",
       "      <th>RADICADO</th>\n",
       "      <th>DIA</th>\n",
       "      <th>PERIODO</th>\n",
       "      <th>DIA_SEMANA</th>\n",
       "      <th>MES</th>\n",
       "      <th>NUM_COMUNA</th>\n",
       "      <th>NUM_GRAVEDAD</th>\n",
       "      <th>NUM_DISENO</th>\n",
       "      <th>NUM_CLASE</th>\n",
       "      <th>NUM_BARRIO</th>\n",
       "    </tr>\n",
       "  </thead>\n",
       "  <tbody>\n",
       "    <tr>\n",
       "      <th>0</th>\n",
       "      <td>-75.584608</td>\n",
       "      <td>6.261152</td>\n",
       "      <td>550556.0</td>\n",
       "      <td>1612819.0</td>\n",
       "      <td>14.0</td>\n",
       "      <td>2018.0</td>\n",
       "      <td>0.0</td>\n",
       "      <td>1.0</td>\n",
       "      <td>0.0</td>\n",
       "      <td>0.0</td>\n",
       "      <td>0.0</td>\n",
       "      <td>0.0</td>\n",
       "      <td>0.0</td>\n",
       "    </tr>\n",
       "    <tr>\n",
       "      <th>1</th>\n",
       "      <td>-75.582266</td>\n",
       "      <td>6.293102</td>\n",
       "      <td>550557.0</td>\n",
       "      <td>1612866.0</td>\n",
       "      <td>14.0</td>\n",
       "      <td>2018.0</td>\n",
       "      <td>0.0</td>\n",
       "      <td>1.0</td>\n",
       "      <td>1.0</td>\n",
       "      <td>1.0</td>\n",
       "      <td>1.0</td>\n",
       "      <td>0.0</td>\n",
       "      <td>1.0</td>\n",
       "    </tr>\n",
       "    <tr>\n",
       "      <th>2</th>\n",
       "      <td>-75.560337</td>\n",
       "      <td>6.252080</td>\n",
       "      <td>550558.0</td>\n",
       "      <td>1612809.0</td>\n",
       "      <td>14.0</td>\n",
       "      <td>2018.0</td>\n",
       "      <td>0.0</td>\n",
       "      <td>1.0</td>\n",
       "      <td>2.0</td>\n",
       "      <td>0.0</td>\n",
       "      <td>1.0</td>\n",
       "      <td>1.0</td>\n",
       "      <td>2.0</td>\n",
       "    </tr>\n",
       "    <tr>\n",
       "      <th>3</th>\n",
       "      <td>-75.597828</td>\n",
       "      <td>6.222382</td>\n",
       "      <td>550559.0</td>\n",
       "      <td>1612812.0</td>\n",
       "      <td>14.0</td>\n",
       "      <td>2018.0</td>\n",
       "      <td>0.0</td>\n",
       "      <td>1.0</td>\n",
       "      <td>3.0</td>\n",
       "      <td>0.0</td>\n",
       "      <td>0.0</td>\n",
       "      <td>2.0</td>\n",
       "      <td>3.0</td>\n",
       "    </tr>\n",
       "    <tr>\n",
       "      <th>4</th>\n",
       "      <td>-75.561804</td>\n",
       "      <td>6.236754</td>\n",
       "      <td>550560.0</td>\n",
       "      <td>1612817.0</td>\n",
       "      <td>14.0</td>\n",
       "      <td>2018.0</td>\n",
       "      <td>0.0</td>\n",
       "      <td>1.0</td>\n",
       "      <td>4.0</td>\n",
       "      <td>1.0</td>\n",
       "      <td>1.0</td>\n",
       "      <td>0.0</td>\n",
       "      <td>4.0</td>\n",
       "    </tr>\n",
       "  </tbody>\n",
       "</table>\n",
       "</div>"
      ],
      "text/plain": [
       "           X         Y  OBJECTID   RADICADO   DIA  PERIODO  DIA_SEMANA  MES  \\\n",
       "0 -75.584608  6.261152  550556.0  1612819.0  14.0   2018.0         0.0  1.0   \n",
       "1 -75.582266  6.293102  550557.0  1612866.0  14.0   2018.0         0.0  1.0   \n",
       "2 -75.560337  6.252080  550558.0  1612809.0  14.0   2018.0         0.0  1.0   \n",
       "3 -75.597828  6.222382  550559.0  1612812.0  14.0   2018.0         0.0  1.0   \n",
       "4 -75.561804  6.236754  550560.0  1612817.0  14.0   2018.0         0.0  1.0   \n",
       "\n",
       "   NUM_COMUNA  NUM_GRAVEDAD  NUM_DISENO  NUM_CLASE  NUM_BARRIO  \n",
       "0         0.0           0.0         0.0        0.0         0.0  \n",
       "1         1.0           1.0         1.0        0.0         1.0  \n",
       "2         2.0           0.0         1.0        1.0         2.0  \n",
       "3         3.0           0.0         0.0        2.0         3.0  \n",
       "4         4.0           1.0         1.0        0.0         4.0  "
      ]
     },
     "execution_count": 365,
     "metadata": {},
     "output_type": "execute_result"
    }
   ],
   "source": [
    "x.head()"
   ]
  },
  {
   "cell_type": "code",
   "execution_count": 366,
   "metadata": {},
   "outputs": [
    {
     "data": {
      "text/plain": [
       "array([0, 1, 2], dtype=int64)"
      ]
     },
     "execution_count": 366,
     "metadata": {},
     "output_type": "execute_result"
    }
   ],
   "source": [
    "accidentes['NUM_GRAVEDAD'].unique()"
   ]
  },
  {
   "cell_type": "code",
   "execution_count": 367,
   "metadata": {},
   "outputs": [],
   "source": [
    "x.to_csv(\"C:/Users/sergi/Repositorios/modalidad/Dataset/X.csv\",index = False)"
   ]
  }
 ],
 "metadata": {
  "kernelspec": {
   "display_name": "Python 3",
   "language": "python",
   "name": "python3"
  },
  "language_info": {
   "codemirror_mode": {
    "name": "ipython",
    "version": 3
   },
   "file_extension": ".py",
   "mimetype": "text/x-python",
   "name": "python",
   "nbconvert_exporter": "python",
   "pygments_lexer": "ipython3",
   "version": "3.8.1"
  }
 },
 "nbformat": 4,
 "nbformat_minor": 4
}
