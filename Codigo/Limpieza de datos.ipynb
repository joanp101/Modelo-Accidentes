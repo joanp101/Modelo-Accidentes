{
 "cells": [
  {
   "cell_type": "code",
   "execution_count": 2,
   "metadata": {},
   "outputs": [],
   "source": [
    "import warnings\n",
    "\n",
    "warnings.simplefilter(\"ignore\")"
   ]
  },
  {
   "cell_type": "code",
   "execution_count": 1,
   "metadata": {},
   "outputs": [],
   "source": [
    "%matplotlib inline\n",
    "\n",
    "import numpy as np\n",
    "import pandas as pd\n",
    "import matplotlib.pyplot as plt\n",
    "import seaborn as ssb\n",
    "\n",
    ""
   ]
  },
  {
   "cell_type": "code",
   "execution_count": 3,
   "metadata": {},
   "outputs": [],
   "source": [
    "accidentes = pd.read_csv(\"subMuestra-Accidentalidad.csv\",encoding='utf-8')"
   ]
  },
  {
   "cell_type": "code",
   "execution_count": 4,
   "metadata": {
    "scrolled": false
   },
   "outputs": [
    {
     "output_type": "execute_result",
     "data": {
      "text/plain": "          BARRIO  CBML      CLASE         COMUNA  DIA DIA_NOMBRE  \\\n0     Campo Amor  1507     Choque       Guayabal   20  JUEVES      \n1    Villa Flora  0715  Atropello        Robledo   21  MIÉRCOLES   \n2        Robledo  0717     Choque        Robledo   30  JUEVES      \n3  La Candelaria  1019     Choque  La Candelaria   10  LUNES       \n4         Manila  1419     Choque     El Poblado   12  VIERNES     \n\n          DIRECCION                 DIRECCION_ENC        DISENO  \\\n0  CR 50 FF CL 9 AA  CR  050 FF  009 AA 000 00000  Tramo de via   \n1    CL 76 AE CR 83    CL  076 AE  083  000 00000  Tramo de via   \n2       CR 85 CL 65      CR  085   065  000 00000  Interseccion   \n3     CL 49 A CR 49    CL  049 A   049  000 00000  Interseccion   \n4     CR 48 DD CL 9    CR  048 DD  009  000 00000  Tramo de via   \n\n                      FECHA    GRAVEDAD            HORA  MES  MES_NOMBRE  \\\n0  2018-09-20T00:00:00.000Z      HERIDO  02:10:00 p. m.    9  SEPTIEMBRE   \n1  2018-03-21T00:00:00.000Z      HERIDO        08:30 PM    3       MARZO   \n2  2018-08-30T00:00:00.000Z  SOLO DAÑOS  09:20:00 p. m.    8      AGOSTO   \n3  2018-09-10T00:00:00.000Z  SOLO DAÑOS  08:50:00 a. m.    9  SEPTIEMBRE   \n4  2018-10-12T00:00:00.000Z  SOLO DAÑOS  06:18:00 p. m.   10     OCTUBRE   \n\n   OBJECTID  PERIODO   RADICADO                      TIPO_GEOCOD          X  \\\n0    673380     2018  1642888.0  Malla vial aproximada: CR 50-10 -75.578357   \n1    557526     2018  1620950.0                       Malla vial -75.592022   \n2    674912     2018  1640270.0                       Malla vial -75.595882   \n3    674286     2018  1641770.0  Malla vial aproximada: CL 49-49 -75.567284   \n4    681701     2018  1645768.0  Malla vial aproximada: CR 48-10 -75.576195   \n\n          Y  \n0  6.213719  \n1  6.279157  \n2  6.275555  \n3  6.248271  \n4  6.213677  ",
      "text/html": "<div>\n<style scoped>\n    .dataframe tbody tr th:only-of-type {\n        vertical-align: middle;\n    }\n\n    .dataframe tbody tr th {\n        vertical-align: top;\n    }\n\n    .dataframe thead th {\n        text-align: right;\n    }\n</style>\n<table border=\"1\" class=\"dataframe\">\n  <thead>\n    <tr style=\"text-align: right;\">\n      <th></th>\n      <th>BARRIO</th>\n      <th>CBML</th>\n      <th>CLASE</th>\n      <th>COMUNA</th>\n      <th>DIA</th>\n      <th>DIA_NOMBRE</th>\n      <th>DIRECCION</th>\n      <th>DIRECCION_ENC</th>\n      <th>DISENO</th>\n      <th>FECHA</th>\n      <th>GRAVEDAD</th>\n      <th>HORA</th>\n      <th>MES</th>\n      <th>MES_NOMBRE</th>\n      <th>OBJECTID</th>\n      <th>PERIODO</th>\n      <th>RADICADO</th>\n      <th>TIPO_GEOCOD</th>\n      <th>X</th>\n      <th>Y</th>\n    </tr>\n  </thead>\n  <tbody>\n    <tr>\n      <th>0</th>\n      <td>Campo Amor</td>\n      <td>1507</td>\n      <td>Choque</td>\n      <td>Guayabal</td>\n      <td>20</td>\n      <td>JUEVES</td>\n      <td>CR 50 FF CL 9 AA</td>\n      <td>CR  050 FF  009 AA 000 00000</td>\n      <td>Tramo de via</td>\n      <td>2018-09-20T00:00:00.000Z</td>\n      <td>HERIDO</td>\n      <td>02:10:00 p. m.</td>\n      <td>9</td>\n      <td>SEPTIEMBRE</td>\n      <td>673380</td>\n      <td>2018</td>\n      <td>1642888.0</td>\n      <td>Malla vial aproximada: CR 50-10</td>\n      <td>-75.578357</td>\n      <td>6.213719</td>\n    </tr>\n    <tr>\n      <th>1</th>\n      <td>Villa Flora</td>\n      <td>0715</td>\n      <td>Atropello</td>\n      <td>Robledo</td>\n      <td>21</td>\n      <td>MIÉRCOLES</td>\n      <td>CL 76 AE CR 83</td>\n      <td>CL  076 AE  083  000 00000</td>\n      <td>Tramo de via</td>\n      <td>2018-03-21T00:00:00.000Z</td>\n      <td>HERIDO</td>\n      <td>08:30 PM</td>\n      <td>3</td>\n      <td>MARZO</td>\n      <td>557526</td>\n      <td>2018</td>\n      <td>1620950.0</td>\n      <td>Malla vial</td>\n      <td>-75.592022</td>\n      <td>6.279157</td>\n    </tr>\n    <tr>\n      <th>2</th>\n      <td>Robledo</td>\n      <td>0717</td>\n      <td>Choque</td>\n      <td>Robledo</td>\n      <td>30</td>\n      <td>JUEVES</td>\n      <td>CR 85 CL 65</td>\n      <td>CR  085   065  000 00000</td>\n      <td>Interseccion</td>\n      <td>2018-08-30T00:00:00.000Z</td>\n      <td>SOLO DAÑOS</td>\n      <td>09:20:00 p. m.</td>\n      <td>8</td>\n      <td>AGOSTO</td>\n      <td>674912</td>\n      <td>2018</td>\n      <td>1640270.0</td>\n      <td>Malla vial</td>\n      <td>-75.595882</td>\n      <td>6.275555</td>\n    </tr>\n    <tr>\n      <th>3</th>\n      <td>La Candelaria</td>\n      <td>1019</td>\n      <td>Choque</td>\n      <td>La Candelaria</td>\n      <td>10</td>\n      <td>LUNES</td>\n      <td>CL 49 A CR 49</td>\n      <td>CL  049 A   049  000 00000</td>\n      <td>Interseccion</td>\n      <td>2018-09-10T00:00:00.000Z</td>\n      <td>SOLO DAÑOS</td>\n      <td>08:50:00 a. m.</td>\n      <td>9</td>\n      <td>SEPTIEMBRE</td>\n      <td>674286</td>\n      <td>2018</td>\n      <td>1641770.0</td>\n      <td>Malla vial aproximada: CL 49-49</td>\n      <td>-75.567284</td>\n      <td>6.248271</td>\n    </tr>\n    <tr>\n      <th>4</th>\n      <td>Manila</td>\n      <td>1419</td>\n      <td>Choque</td>\n      <td>El Poblado</td>\n      <td>12</td>\n      <td>VIERNES</td>\n      <td>CR 48 DD CL 9</td>\n      <td>CR  048 DD  009  000 00000</td>\n      <td>Tramo de via</td>\n      <td>2018-10-12T00:00:00.000Z</td>\n      <td>SOLO DAÑOS</td>\n      <td>06:18:00 p. m.</td>\n      <td>10</td>\n      <td>OCTUBRE</td>\n      <td>681701</td>\n      <td>2018</td>\n      <td>1645768.0</td>\n      <td>Malla vial aproximada: CR 48-10</td>\n      <td>-75.576195</td>\n      <td>6.213677</td>\n    </tr>\n  </tbody>\n</table>\n</div>"
     },
     "metadata": {},
     "execution_count": 4
    }
   ],
   "source": [
    "accidentes.head(5)"
   ]
  },
  {
   "cell_type": "code",
   "execution_count": 5,
   "metadata": {},
   "outputs": [
    {
     "output_type": "execute_result",
     "data": {
      "text/plain": "(35619, 20)"
     },
     "metadata": {},
     "execution_count": 5
    }
   ],
   "source": [
    "accidentes.shape"
   ]
  },
  {
   "cell_type": "markdown",
   "metadata": {},
   "source": [
    "Cambiamos el nombre de la columna DIA_NOMBRE por DIA_NUMERO y factorizamos"
   ]
  },
  {
   "cell_type": "code",
   "execution_count": 6,
   "metadata": {
    "scrolled": true
   },
   "outputs": [],
   "source": [
    "accidentes = accidentes.rename(columns={'DIA_NOMBRE':'DIA_SEMANA'})\n",
    "\n",
    "\n",
    "accidentes['DIA_SEMANA'] = pd.factorize(accidentes['DIA_SEMANA'])[0]\n",
    "\n",
    "\n",
    ""
   ]
  },
  {
   "cell_type": "code",
   "execution_count": 7,
   "metadata": {},
   "outputs": [
    {
     "output_type": "execute_result",
     "data": {
      "text/plain": "array([0, 1, 2, 3, 4, 5, 6], dtype=int64)"
     },
     "metadata": {},
     "execution_count": 7
    }
   ],
   "source": [
    "accidentes['DIA_SEMANA'].unique()"
   ]
  },
  {
   "cell_type": "markdown",
   "metadata": {},
   "source": [
    "\n",
    "Factorizamos los dias de la comuna"
   ]
  },
  {
   "cell_type": "code",
   "execution_count": 8,
   "metadata": {},
   "outputs": [],
   "source": [
    "accidentes['NUM_COMUNA'] = accidentes['COMUNA']\n",
    "\n",
    "accidentes['NUM_COMUNA'] = pd.factorize(accidentes['NUM_COMUNA'])[0]"
   ]
  },
  {
   "cell_type": "code",
   "execution_count": 9,
   "metadata": {
    "scrolled": false
   },
   "outputs": [
    {
     "output_type": "stream",
     "name": "stdout",
     "text": "Faztorizamos la columna GRAVEDAD donde\n\n0 = HERIDO\n1 = SOLO DAÑOS\n2 = MUERTO\n"
    }
   ],
   "source": [
    "accidentes['NUM_GRAVEDAD'] = accidentes['GRAVEDAD']\n",
    "\n",
    "print(f'Faztorizamos la columna GRAVEDAD donde\\n')\n",
    "print(f'0 = HERIDO\\n1 = SOLO DAÑOS\\n2 = MUERTO')\n",
    "\n",
    ""
   ]
  },
  {
   "cell_type": "code",
   "execution_count": 10,
   "metadata": {},
   "outputs": [
    {
     "output_type": "execute_result",
     "data": {
      "text/plain": "HERIDO        18773\nSOLO DAÑOS    16622\nMUERTO          224\nName: NUM_GRAVEDAD, dtype: int64"
     },
     "metadata": {},
     "execution_count": 10
    }
   ],
   "source": [
    "accidentes['NUM_GRAVEDAD'].value_counts()"
   ]
  },
  {
   "cell_type": "code",
   "execution_count": 11,
   "metadata": {},
   "outputs": [],
   "source": [
    "accidentes['NUM_GRAVEDAD'] = pd.factorize(accidentes['NUM_GRAVEDAD'])[0]"
   ]
  },
  {
   "cell_type": "code",
   "execution_count": 12,
   "metadata": {
    "scrolled": true
   },
   "outputs": [
    {
     "output_type": "stream",
     "name": "stdout",
     "text": "Cambiamos los valores de la columna DISENO donde\n\n0 = Tramo de via\n1 = Interseccion\n2 = Lote o Predio\n3 = Glorieta\n4 = Paso Inferior\n5 = Paso Elevado\n6 = Puente\n7 = Ciclo Ruta\n8 = Paso a Nivel\n9 = Via peatonal\n10 = Tunel\n11 = Pontón\n"
    }
   ],
   "source": [
    "accidentes['NUM_DISENO'] = accidentes['DISENO']\n",
    "\n",
    "print(f'Cambiamos los valores de la columna DISENO donde\\n')\n",
    "print(f'0 = Tramo de via\\n1 = Interseccion\\n2 = Lote o Predio\\n3 = Glorieta\\n4 = Paso Inferior\\n5 = Paso Elevado\\n6 = Puente\\n7 = Ciclo Ruta\\n8 = Paso a Nivel\\n9 = Via peatonal\\n10 = Tunel\\n11 = Pontón')\n",
    "\n",
    ""
   ]
  },
  {
   "cell_type": "code",
   "execution_count": 13,
   "metadata": {},
   "outputs": [],
   "source": [
    "accidentes['NUM_DISENO'] = pd.factorize(accidentes['NUM_DISENO'])[0]"
   ]
  },
  {
   "cell_type": "code",
   "execution_count": 14,
   "metadata": {},
   "outputs": [
    {
     "output_type": "stream",
     "name": "stdout",
     "text": "Cambiamos los valores de la columna CLASE donde\n\n0 = Choque\n1 = Atropello\n2 = Volcamiento\n3 = Caida Ocupante\n4 = Incendio\n5 = Otro\n\n"
    }
   ],
   "source": [
    "accidentes['NUM_CLASE'] = accidentes['CLASE']\n",
    "\n",
    "\n",
    "print(f'Cambiamos los valores de la columna CLASE donde\\n')\n",
    "print(f'0 = Choque\\n1 = Atropello\\n2 = Volcamiento\\n3 = Caida Ocupante\\n4 = Incendio\\n5 = Otro\\n')\n",
    ""
   ]
  },
  {
   "cell_type": "code",
   "execution_count": 15,
   "metadata": {},
   "outputs": [],
   "source": [
    "accidentes['NUM_CLASE'] = pd.factorize(accidentes['NUM_CLASE'])[0]"
   ]
  },
  {
   "cell_type": "code",
   "execution_count": 16,
   "metadata": {},
   "outputs": [],
   "source": [
    "accidentes['NUM_BARRIO'] = accidentes['BARRIO']\n",
    "\n",
    "\n",
    "accidentes['NUM_BARRIO'] = pd.factorize(accidentes['NUM_BARRIO'])[0]"
   ]
  },
  {
   "cell_type": "code",
   "execution_count": 17,
   "metadata": {
    "scrolled": false
   },
   "outputs": [
    {
     "output_type": "execute_result",
     "data": {
      "text/plain": "Index(['BARRIO', 'CBML', 'CLASE', 'COMUNA', 'DIA', 'DIA_SEMANA', 'DIRECCION',\n       'DIRECCION_ENC', 'DISENO', 'FECHA', 'GRAVEDAD', 'HORA', 'MES',\n       'MES_NOMBRE', 'OBJECTID', 'PERIODO', 'RADICADO', 'TIPO_GEOCOD', 'X',\n       'Y', 'NUM_COMUNA', 'NUM_GRAVEDAD', 'NUM_DISENO', 'NUM_CLASE',\n       'NUM_BARRIO'],\n      dtype='object')"
     },
     "metadata": {},
     "execution_count": 17
    }
   ],
   "source": [
    "accidentes.columns"
   ]
  },
  {
   "cell_type": "code",
   "execution_count": 18,
   "metadata": {},
   "outputs": [
    {
     "output_type": "execute_result",
     "data": {
      "text/plain": "                 BARRIO  CBML      CLASE         COMUNA  DIA  DIA_SEMANA  \\\n0            Campo Amor  1507     Choque       Guayabal   20           0   \n1           Villa Flora  0715  Atropello        Robledo   21           1   \n2               Robledo  0717     Choque        Robledo   30           0   \n3         La Candelaria  1019     Choque  La Candelaria   10           2   \n4                Manila  1419     Choque     El Poblado   12           3   \n5           La Floresta  1205     Choque     La América   16           4   \n6            Campo Amor  1507  Atropello       Guayabal   26           3   \n7           Las Granjas  0302     Choque       Manrique    5           1   \n8                Boston  1016     Choque  La Candelaria    2           3   \n9  Los Cerros El Vergel  0904     Choque   Buenos Aires    6           5   \n\n          DIRECCION                 DIRECCION_ENC        DISENO  \\\n0  CR 50 FF CL 9 AA  CR  050 FF  009 AA 000 00000  Tramo de via   \n1    CL 76 AE CR 83    CL  076 AE  083  000 00000  Tramo de via   \n2       CR 85 CL 65      CR  085   065  000 00000  Interseccion   \n3     CL 49 A CR 49    CL  049 A   049  000 00000  Interseccion   \n4     CR 48 DD CL 9    CR  048 DD  009  000 00000  Tramo de via   \n5    CR 87 CL 47 BB    CR  087   047 BB 000 00000  Interseccion   \n6    CR 50 F CL 9 A  CR  050 F   009 A  000 00000  Tramo de via   \n7     CL 85 D CR 32    CL  085 D   032  000 00000  Tramo de via   \n8       CR 40 CL 54      CR  040   054  000 00000  Interseccion   \n9     CL 45 CR 16 A    CL  045   016 A  000 00000  Interseccion   \n\n                      FECHA  ... PERIODO   RADICADO  \\\n0  2018-09-20T00:00:00.000Z  ...    2018  1642888.0   \n1  2018-03-21T00:00:00.000Z  ...    2018  1620950.0   \n2  2018-08-30T00:00:00.000Z  ...    2018  1640270.0   \n3  2018-09-10T00:00:00.000Z  ...    2018  1641770.0   \n4  2018-10-12T00:00:00.000Z  ...    2018  1645768.0   \n5  2018-12-16T00:00:00.000Z  ...    2018  1653788.0   \n6  2018-10-26T00:00:00.000Z  ...    2018  1647340.0   \n7  2018-09-05T00:00:00.000Z  ...    2018  1641184.0   \n8  2018-03-02T00:00:00.000Z  ...    2018  1618534.0   \n9  2018-01-06T00:00:00.000Z  ...    2018  1612113.0   \n\n                        TIPO_GEOCOD          X         Y  NUM_COMUNA  \\\n0   Malla vial aproximada: CR 50-10 -75.578357  6.213719           0   \n1                        Malla vial -75.592022  6.279157           1   \n2                        Malla vial -75.595882  6.275555           1   \n3   Malla vial aproximada: CL 49-49 -75.567284  6.248271           2   \n4   Malla vial aproximada: CR 48-10 -75.576195  6.213677           3   \n5  Malla vial aproximada: CR 87-47A -75.603532  6.257358           4   \n6   Malla vial aproximada: CR 50-10 -75.578357  6.213719           0   \n7                        Malla vial -75.545204  6.277668           5   \n8                        Malla vial -75.559241  6.248664           2   \n9                        Malla vial -75.546005  6.233018           6   \n\n   NUM_GRAVEDAD NUM_DISENO  NUM_CLASE  NUM_BARRIO  \n0             0          0          0           0  \n1             0          0          1           1  \n2             1          1          0           2  \n3             1          1          0           3  \n4             1          0          0           4  \n5             0          1          0           5  \n6             0          0          1           0  \n7             1          0          0           6  \n8             1          1          0           7  \n9             1          1          0           8  \n\n[10 rows x 25 columns]",
      "text/html": "<div>\n<style scoped>\n    .dataframe tbody tr th:only-of-type {\n        vertical-align: middle;\n    }\n\n    .dataframe tbody tr th {\n        vertical-align: top;\n    }\n\n    .dataframe thead th {\n        text-align: right;\n    }\n</style>\n<table border=\"1\" class=\"dataframe\">\n  <thead>\n    <tr style=\"text-align: right;\">\n      <th></th>\n      <th>BARRIO</th>\n      <th>CBML</th>\n      <th>CLASE</th>\n      <th>COMUNA</th>\n      <th>DIA</th>\n      <th>DIA_SEMANA</th>\n      <th>DIRECCION</th>\n      <th>DIRECCION_ENC</th>\n      <th>DISENO</th>\n      <th>FECHA</th>\n      <th>...</th>\n      <th>PERIODO</th>\n      <th>RADICADO</th>\n      <th>TIPO_GEOCOD</th>\n      <th>X</th>\n      <th>Y</th>\n      <th>NUM_COMUNA</th>\n      <th>NUM_GRAVEDAD</th>\n      <th>NUM_DISENO</th>\n      <th>NUM_CLASE</th>\n      <th>NUM_BARRIO</th>\n    </tr>\n  </thead>\n  <tbody>\n    <tr>\n      <th>0</th>\n      <td>Campo Amor</td>\n      <td>1507</td>\n      <td>Choque</td>\n      <td>Guayabal</td>\n      <td>20</td>\n      <td>0</td>\n      <td>CR 50 FF CL 9 AA</td>\n      <td>CR  050 FF  009 AA 000 00000</td>\n      <td>Tramo de via</td>\n      <td>2018-09-20T00:00:00.000Z</td>\n      <td>...</td>\n      <td>2018</td>\n      <td>1642888.0</td>\n      <td>Malla vial aproximada: CR 50-10</td>\n      <td>-75.578357</td>\n      <td>6.213719</td>\n      <td>0</td>\n      <td>0</td>\n      <td>0</td>\n      <td>0</td>\n      <td>0</td>\n    </tr>\n    <tr>\n      <th>1</th>\n      <td>Villa Flora</td>\n      <td>0715</td>\n      <td>Atropello</td>\n      <td>Robledo</td>\n      <td>21</td>\n      <td>1</td>\n      <td>CL 76 AE CR 83</td>\n      <td>CL  076 AE  083  000 00000</td>\n      <td>Tramo de via</td>\n      <td>2018-03-21T00:00:00.000Z</td>\n      <td>...</td>\n      <td>2018</td>\n      <td>1620950.0</td>\n      <td>Malla vial</td>\n      <td>-75.592022</td>\n      <td>6.279157</td>\n      <td>1</td>\n      <td>0</td>\n      <td>0</td>\n      <td>1</td>\n      <td>1</td>\n    </tr>\n    <tr>\n      <th>2</th>\n      <td>Robledo</td>\n      <td>0717</td>\n      <td>Choque</td>\n      <td>Robledo</td>\n      <td>30</td>\n      <td>0</td>\n      <td>CR 85 CL 65</td>\n      <td>CR  085   065  000 00000</td>\n      <td>Interseccion</td>\n      <td>2018-08-30T00:00:00.000Z</td>\n      <td>...</td>\n      <td>2018</td>\n      <td>1640270.0</td>\n      <td>Malla vial</td>\n      <td>-75.595882</td>\n      <td>6.275555</td>\n      <td>1</td>\n      <td>1</td>\n      <td>1</td>\n      <td>0</td>\n      <td>2</td>\n    </tr>\n    <tr>\n      <th>3</th>\n      <td>La Candelaria</td>\n      <td>1019</td>\n      <td>Choque</td>\n      <td>La Candelaria</td>\n      <td>10</td>\n      <td>2</td>\n      <td>CL 49 A CR 49</td>\n      <td>CL  049 A   049  000 00000</td>\n      <td>Interseccion</td>\n      <td>2018-09-10T00:00:00.000Z</td>\n      <td>...</td>\n      <td>2018</td>\n      <td>1641770.0</td>\n      <td>Malla vial aproximada: CL 49-49</td>\n      <td>-75.567284</td>\n      <td>6.248271</td>\n      <td>2</td>\n      <td>1</td>\n      <td>1</td>\n      <td>0</td>\n      <td>3</td>\n    </tr>\n    <tr>\n      <th>4</th>\n      <td>Manila</td>\n      <td>1419</td>\n      <td>Choque</td>\n      <td>El Poblado</td>\n      <td>12</td>\n      <td>3</td>\n      <td>CR 48 DD CL 9</td>\n      <td>CR  048 DD  009  000 00000</td>\n      <td>Tramo de via</td>\n      <td>2018-10-12T00:00:00.000Z</td>\n      <td>...</td>\n      <td>2018</td>\n      <td>1645768.0</td>\n      <td>Malla vial aproximada: CR 48-10</td>\n      <td>-75.576195</td>\n      <td>6.213677</td>\n      <td>3</td>\n      <td>1</td>\n      <td>0</td>\n      <td>0</td>\n      <td>4</td>\n    </tr>\n    <tr>\n      <th>5</th>\n      <td>La Floresta</td>\n      <td>1205</td>\n      <td>Choque</td>\n      <td>La América</td>\n      <td>16</td>\n      <td>4</td>\n      <td>CR 87 CL 47 BB</td>\n      <td>CR  087   047 BB 000 00000</td>\n      <td>Interseccion</td>\n      <td>2018-12-16T00:00:00.000Z</td>\n      <td>...</td>\n      <td>2018</td>\n      <td>1653788.0</td>\n      <td>Malla vial aproximada: CR 87-47A</td>\n      <td>-75.603532</td>\n      <td>6.257358</td>\n      <td>4</td>\n      <td>0</td>\n      <td>1</td>\n      <td>0</td>\n      <td>5</td>\n    </tr>\n    <tr>\n      <th>6</th>\n      <td>Campo Amor</td>\n      <td>1507</td>\n      <td>Atropello</td>\n      <td>Guayabal</td>\n      <td>26</td>\n      <td>3</td>\n      <td>CR 50 F CL 9 A</td>\n      <td>CR  050 F   009 A  000 00000</td>\n      <td>Tramo de via</td>\n      <td>2018-10-26T00:00:00.000Z</td>\n      <td>...</td>\n      <td>2018</td>\n      <td>1647340.0</td>\n      <td>Malla vial aproximada: CR 50-10</td>\n      <td>-75.578357</td>\n      <td>6.213719</td>\n      <td>0</td>\n      <td>0</td>\n      <td>0</td>\n      <td>1</td>\n      <td>0</td>\n    </tr>\n    <tr>\n      <th>7</th>\n      <td>Las Granjas</td>\n      <td>0302</td>\n      <td>Choque</td>\n      <td>Manrique</td>\n      <td>5</td>\n      <td>1</td>\n      <td>CL 85 D CR 32</td>\n      <td>CL  085 D   032  000 00000</td>\n      <td>Tramo de via</td>\n      <td>2018-09-05T00:00:00.000Z</td>\n      <td>...</td>\n      <td>2018</td>\n      <td>1641184.0</td>\n      <td>Malla vial</td>\n      <td>-75.545204</td>\n      <td>6.277668</td>\n      <td>5</td>\n      <td>1</td>\n      <td>0</td>\n      <td>0</td>\n      <td>6</td>\n    </tr>\n    <tr>\n      <th>8</th>\n      <td>Boston</td>\n      <td>1016</td>\n      <td>Choque</td>\n      <td>La Candelaria</td>\n      <td>2</td>\n      <td>3</td>\n      <td>CR 40 CL 54</td>\n      <td>CR  040   054  000 00000</td>\n      <td>Interseccion</td>\n      <td>2018-03-02T00:00:00.000Z</td>\n      <td>...</td>\n      <td>2018</td>\n      <td>1618534.0</td>\n      <td>Malla vial</td>\n      <td>-75.559241</td>\n      <td>6.248664</td>\n      <td>2</td>\n      <td>1</td>\n      <td>1</td>\n      <td>0</td>\n      <td>7</td>\n    </tr>\n    <tr>\n      <th>9</th>\n      <td>Los Cerros El Vergel</td>\n      <td>0904</td>\n      <td>Choque</td>\n      <td>Buenos Aires</td>\n      <td>6</td>\n      <td>5</td>\n      <td>CL 45 CR 16 A</td>\n      <td>CL  045   016 A  000 00000</td>\n      <td>Interseccion</td>\n      <td>2018-01-06T00:00:00.000Z</td>\n      <td>...</td>\n      <td>2018</td>\n      <td>1612113.0</td>\n      <td>Malla vial</td>\n      <td>-75.546005</td>\n      <td>6.233018</td>\n      <td>6</td>\n      <td>1</td>\n      <td>1</td>\n      <td>0</td>\n      <td>8</td>\n    </tr>\n  </tbody>\n</table>\n<p>10 rows × 25 columns</p>\n</div>"
     },
     "metadata": {},
     "execution_count": 18
    }
   ],
   "source": [
    "accidentes.head(10)"
   ]
  },
  {
   "cell_type": "markdown",
   "metadata": {},
   "source": [
    "Eliminamos las filas que contenian datos vacios, para contar con la misma dimension de los mismos"
   ]
  },
  {
   "cell_type": "code",
   "execution_count": 19,
   "metadata": {
    "scrolled": true
   },
   "outputs": [
    {
     "output_type": "execute_result",
     "data": {
      "text/plain": "(35472, 25)"
     },
     "metadata": {},
     "execution_count": 19
    }
   ],
   "source": [
    "#Eliminamos las filas de las columnas que no tienen información   \n",
    "accidentes = accidentes.drop(accidentes[accidentes['COMUNA']=='Sin Inf'].index)\n",
    "\n",
    "accidentes.drop(accidentes[accidentes.CBML.isnull()].index, inplace = True)\n",
    "accidentes.drop(accidentes[accidentes.BARRIO.isnull()].index, inplace = True)\n",
    "accidentes.drop(accidentes[accidentes.COMUNA.isnull()].index, inplace = True)\n",
    "accidentes.drop(accidentes[accidentes.DISENO.isnull()].index, inplace = True)\n",
    "accidentes.drop(accidentes[accidentes.GRAVEDAD.isnull()].index, inplace = True)\n",
    "\n",
    "accidentes.shape"
   ]
  },
  {
   "cell_type": "code",
   "execution_count": 20,
   "metadata": {},
   "outputs": [
    {
     "output_type": "execute_result",
     "data": {
      "text/plain": "array([ 0,  1,  2,  3,  4,  5,  6,  7,  8,  9, 10, 11, 12, 13, 14, 15, 16,\n       17, 18, 19], dtype=int64)"
     },
     "metadata": {},
     "execution_count": 20
    }
   ],
   "source": [
    "accidentes['NUM_COMUNA'].unique()"
   ]
  },
  {
   "cell_type": "markdown",
   "metadata": {},
   "source": [
    "cambiamos el tipo de dato de Object a int en las columnas DIA_NUMERO,CBML,NUM_COMUNA"
   ]
  },
  {
   "cell_type": "code",
   "execution_count": 21,
   "metadata": {},
   "outputs": [],
   "source": [
    "#accidentes[['DIA_SEMANA','CBML','NUM_DISENO','NUM_BARRIO','NUM_CLASE','NUM_GRAVEDAD','NUM_COMUNA']] = accidentes[['DIA_SEMANA','CBML','NUM_DISENO','NUM_BARRIO','NUM_CLASE','NUM_GRAVEDAD','NUM_COMUNA']].astype('int64')\n",
    "\n",
    ""
   ]
  },
  {
   "cell_type": "code",
   "execution_count": 22,
   "metadata": {},
   "outputs": [
    {
     "output_type": "execute_result",
     "data": {
      "text/plain": "Index(['BARRIO', 'CBML', 'CLASE', 'COMUNA', 'DIA', 'DIA_SEMANA', 'DIRECCION',\n       'DIRECCION_ENC', 'DISENO', 'FECHA', 'GRAVEDAD', 'HORA', 'MES',\n       'MES_NOMBRE', 'OBJECTID', 'PERIODO', 'RADICADO', 'TIPO_GEOCOD', 'X',\n       'Y', 'NUM_COMUNA', 'NUM_GRAVEDAD', 'NUM_DISENO', 'NUM_CLASE',\n       'NUM_BARRIO'],\n      dtype='object')"
     },
     "metadata": {},
     "execution_count": 22
    }
   ],
   "source": [
    "accidentes.columns"
   ]
  },
  {
   "cell_type": "code",
   "execution_count": 23,
   "metadata": {},
   "outputs": [
    {
     "output_type": "execute_result",
     "data": {
      "text/plain": "(35472, 25)"
     },
     "metadata": {},
     "execution_count": 23
    }
   ],
   "source": [
    "accidentes.shape"
   ]
  },
  {
   "cell_type": "code",
   "execution_count": 24,
   "metadata": {},
   "outputs": [
    {
     "output_type": "execute_result",
     "data": {
      "text/plain": "BARRIO                        Las Acacias\nCBML                                 1109\nCLASE                              Choque\nCOMUNA                   Laureles Estadio\nDIA                                    27\nDIA_SEMANA                              6\nDIRECCION                     CR 81 CL 34\nDIRECCION_ENC    CR  081   034  000 00000\nDISENO                       Tramo de via\nFECHA            2018-11-27T00:00:00.000Z\nGRAVEDAD                       SOLO DAÑOS\nHORA                       11:50:00 a. m.\nMES                                    11\nMES_NOMBRE                      NOVIEMBRE\nOBJECTID                           685200\nPERIODO                              2018\nRADICADO                      1.65139e+06\nTIPO_GEOCOD                    Malla vial\nX                                -75.6028\nY                                   6.241\nNUM_COMUNA                              7\nNUM_GRAVEDAD                            1\nNUM_DISENO                              0\nNUM_CLASE                               0\nNUM_BARRIO                              9\nName: 10, dtype: object"
     },
     "metadata": {},
     "execution_count": 24
    }
   ],
   "source": [
    "linea = accidentes.loc[10,:]\n",
    "linea"
   ]
  },
  {
   "cell_type": "markdown",
   "metadata": {},
   "source": [
    "# Inspeccionar nuestros datos"
   ]
  },
  {
   "cell_type": "code",
   "execution_count": 25,
   "metadata": {},
   "outputs": [
    {
     "output_type": "stream",
     "name": "stdout",
     "text": "<class 'pandas.core.frame.DataFrame'>\nInt64Index: 35472 entries, 0 to 35618\nData columns (total 25 columns):\nBARRIO           35472 non-null object\nCBML             35472 non-null object\nCLASE            35472 non-null object\nCOMUNA           35472 non-null object\nDIA              35472 non-null int64\nDIA_SEMANA       35472 non-null int64\nDIRECCION        35472 non-null object\nDIRECCION_ENC    35472 non-null object\nDISENO           35472 non-null object\nFECHA            35472 non-null object\nGRAVEDAD         35472 non-null object\nHORA             35472 non-null object\nMES              35472 non-null int64\nMES_NOMBRE       35472 non-null object\nOBJECTID         35472 non-null int64\nPERIODO          35472 non-null int64\nRADICADO         35472 non-null float64\nTIPO_GEOCOD      35472 non-null object\nX                35472 non-null float64\nY                35472 non-null float64\nNUM_COMUNA       35472 non-null int64\nNUM_GRAVEDAD     35472 non-null int64\nNUM_DISENO       35472 non-null int64\nNUM_CLASE        35472 non-null int64\nNUM_BARRIO       35472 non-null int64\ndtypes: float64(3), int64(10), object(12)\nmemory usage: 8.3+ MB\n"
    }
   ],
   "source": [
    "accidentes.info()"
   ]
  },
  {
   "cell_type": "markdown",
   "metadata": {},
   "source": [
    "Columnas numericas y columnas de texto\n",
    "\n"
   ]
  },
  {
   "cell_type": "code",
   "execution_count": 26,
   "metadata": {},
   "outputs": [
    {
     "output_type": "execute_result",
     "data": {
      "text/plain": "BARRIO           False\nCBML             False\nCLASE            False\nCOMUNA           False\nDIA               True\nDIA_SEMANA        True\nDIRECCION        False\nDIRECCION_ENC    False\nDISENO           False\nFECHA            False\nGRAVEDAD         False\nHORA             False\nMES               True\nMES_NOMBRE       False\nOBJECTID          True\nPERIODO           True\nRADICADO          True\nTIPO_GEOCOD      False\nX                 True\nY                 True\nNUM_COMUNA        True\nNUM_GRAVEDAD      True\nNUM_DISENO        True\nNUM_CLASE         True\nNUM_BARRIO        True\ndtype: bool"
     },
     "metadata": {},
     "execution_count": 26
    }
   ],
   "source": [
    "(accidentes.dtypes != object)\n",
    ""
   ]
  },
  {
   "cell_type": "code",
   "execution_count": 27,
   "metadata": {},
   "outputs": [
    {
     "output_type": "execute_result",
     "data": {
      "text/plain": "BARRIO            True\nCBML              True\nCLASE             True\nCOMUNA            True\nDIA              False\nDIA_SEMANA       False\nDIRECCION         True\nDIRECCION_ENC     True\nDISENO            True\nFECHA             True\nGRAVEDAD          True\nHORA              True\nMES              False\nMES_NOMBRE        True\nOBJECTID         False\nPERIODO          False\nRADICADO         False\nTIPO_GEOCOD       True\nX                False\nY                False\nNUM_COMUNA       False\nNUM_GRAVEDAD     False\nNUM_DISENO       False\nNUM_CLASE        False\nNUM_BARRIO       False\ndtype: bool"
     },
     "metadata": {},
     "execution_count": 27
    }
   ],
   "source": [
    "accidentes.dtypes == object\n",
    ""
   ]
  },
  {
   "cell_type": "code",
   "execution_count": 28,
   "metadata": {},
   "outputs": [
    {
     "output_type": "execute_result",
     "data": {
      "text/plain": "Index(['BARRIO', 'CBML', 'CLASE', 'COMUNA', 'DIA', 'DIA_SEMANA', 'DIRECCION',\n       'DIRECCION_ENC', 'DISENO', 'FECHA', 'GRAVEDAD', 'HORA', 'MES',\n       'MES_NOMBRE', 'OBJECTID', 'PERIODO', 'RADICADO', 'TIPO_GEOCOD', 'X',\n       'Y', 'NUM_COMUNA', 'NUM_GRAVEDAD', 'NUM_DISENO', 'NUM_CLASE',\n       'NUM_BARRIO'],\n      dtype='object')"
     },
     "metadata": {},
     "execution_count": 28
    }
   ],
   "source": [
    "num = (accidentes.dtypes != object )\n",
    "num.index"
   ]
  },
  {
   "cell_type": "code",
   "execution_count": 29,
   "metadata": {},
   "outputs": [
    {
     "output_type": "stream",
     "name": "stdout",
     "text": "BARRIO\nCBML\nCLASE\nCOMUNA\nDIA\nDIA_SEMANA\nDIRECCION\nDIRECCION_ENC\nDISENO\nFECHA\nGRAVEDAD\nHORA\nMES\nMES_NOMBRE\nOBJECTID\nPERIODO\nRADICADO\nTIPO_GEOCOD\nX\nY\nNUM_COMUNA\nNUM_GRAVEDAD\nNUM_DISENO\nNUM_CLASE\nNUM_BARRIO\n"
    }
   ],
   "source": [
    "for i in num.index:\n",
    "    print(i)"
   ]
  },
  {
   "cell_type": "code",
   "execution_count": 30,
   "metadata": {},
   "outputs": [],
   "source": [
    "num_cols = [c for c in num.index if num[c]]"
   ]
  },
  {
   "cell_type": "code",
   "execution_count": 31,
   "metadata": {},
   "outputs": [
    {
     "output_type": "execute_result",
     "data": {
      "text/plain": "['DIA',\n 'DIA_SEMANA',\n 'MES',\n 'OBJECTID',\n 'PERIODO',\n 'RADICADO',\n 'X',\n 'Y',\n 'NUM_COMUNA',\n 'NUM_GRAVEDAD',\n 'NUM_DISENO',\n 'NUM_CLASE',\n 'NUM_BARRIO']"
     },
     "metadata": {},
     "execution_count": 31
    }
   ],
   "source": [
    "num_cols"
   ]
  },
  {
   "cell_type": "code",
   "execution_count": 32,
   "metadata": {},
   "outputs": [
    {
     "output_type": "execute_result",
     "data": {
      "text/plain": "BARRIO            True\nCBML              True\nCLASE             True\nCOMUNA            True\nDIA              False\nDIA_SEMANA       False\nDIRECCION         True\nDIRECCION_ENC     True\nDISENO            True\nFECHA             True\nGRAVEDAD          True\nHORA              True\nMES              False\nMES_NOMBRE        True\nOBJECTID         False\nPERIODO          False\nRADICADO         False\nTIPO_GEOCOD       True\nX                False\nY                False\nNUM_COMUNA       False\nNUM_GRAVEDAD     False\nNUM_DISENO       False\nNUM_CLASE        False\nNUM_BARRIO       False\ndtype: bool"
     },
     "metadata": {},
     "execution_count": 32
    }
   ],
   "source": [
    "accidentes.dtypes == object"
   ]
  },
  {
   "cell_type": "code",
   "execution_count": 33,
   "metadata": {},
   "outputs": [],
   "source": [
    "obj = (accidentes.dtypes == object)\n",
    "obj_cols =  [c for c in obj.index if obj[c]]"
   ]
  },
  {
   "cell_type": "code",
   "execution_count": 34,
   "metadata": {},
   "outputs": [
    {
     "output_type": "execute_result",
     "data": {
      "text/plain": "['BARRIO',\n 'CBML',\n 'CLASE',\n 'COMUNA',\n 'DIRECCION',\n 'DIRECCION_ENC',\n 'DISENO',\n 'FECHA',\n 'GRAVEDAD',\n 'HORA',\n 'MES_NOMBRE',\n 'TIPO_GEOCOD']"
     },
     "metadata": {},
     "execution_count": 34
    }
   ],
   "source": [
    "obj_cols"
   ]
  },
  {
   "cell_type": "code",
   "execution_count": 35,
   "metadata": {},
   "outputs": [],
   "source": [
    "accidentes_num = accidentes[num_cols]\n",
    "accidentes_obj = accidentes[obj_cols]"
   ]
  },
  {
   "cell_type": "code",
   "execution_count": 36,
   "metadata": {},
   "outputs": [],
   "source": [
    "accidentes_obj.to_csv(\"subMuestra-Accidentes_obj.csv\",index = False)"
   ]
  },
  {
   "cell_type": "markdown",
   "metadata": {},
   "source": [
    "# Estadisticas de las columnas"
   ]
  },
  {
   "cell_type": "code",
   "execution_count": 37,
   "metadata": {
    "scrolled": true
   },
   "outputs": [
    {
     "output_type": "execute_result",
     "data": {
      "text/plain": "                DIA    DIA_SEMANA           MES       OBJECTID       PERIODO  \\\ncount  35472.000000  35472.000000  35472.000000   35472.000000  35472.000000   \nmean      15.597457      2.965550      6.000056  669641.569802   2018.435019   \nstd        8.672317      2.043078      3.144029   65480.319456      0.495766   \nmin        1.000000      0.000000      1.000000  549559.000000   2018.000000   \n25%        8.000000      1.000000      3.000000  662493.750000   2018.000000   \n50%       16.000000      3.000000      6.000000  681557.500000   2018.000000   \n75%       23.000000      5.000000      8.000000  722916.750000   2019.000000   \nmax       31.000000      6.000000     12.000000  742350.000000   2019.000000   \n\n           RADICADO             X             Y    NUM_COMUNA  NUM_GRAVEDAD  \\\ncount  3.547200e+04  35472.000000  35472.000000  35472.000000  35472.000000   \nmean   1.650399e+06    -75.576881      6.250349      6.243093      0.475276   \nstd    2.245319e+04      0.019220      0.028612      4.798869      0.506570   \nmin    1.611518e+06    -75.684655      6.167769      0.000000      0.000000   \n25%    1.630931e+06    -75.586115      6.231943      2.000000      0.000000   \n50%    1.650214e+06    -75.574644      6.250105      6.000000      0.000000   \n75%    1.669899e+06    -75.564945      6.271571     11.000000      1.000000   \nmax    1.689537e+06    -75.504666      6.312059     19.000000      2.000000   \n\n         NUM_DISENO     NUM_CLASE    NUM_BARRIO  \ncount  35472.000000  35472.000000  35472.000000  \nmean       0.697931      0.790003     84.477362  \nstd        1.141486      1.360555     69.633038  \nmin        0.000000      0.000000      0.000000  \n25%        0.000000      0.000000     29.000000  \n50%        0.000000      0.000000     67.000000  \n75%        1.000000      1.000000    129.000000  \nmax       11.000000      6.000000    314.000000  ",
      "text/html": "<div>\n<style scoped>\n    .dataframe tbody tr th:only-of-type {\n        vertical-align: middle;\n    }\n\n    .dataframe tbody tr th {\n        vertical-align: top;\n    }\n\n    .dataframe thead th {\n        text-align: right;\n    }\n</style>\n<table border=\"1\" class=\"dataframe\">\n  <thead>\n    <tr style=\"text-align: right;\">\n      <th></th>\n      <th>DIA</th>\n      <th>DIA_SEMANA</th>\n      <th>MES</th>\n      <th>OBJECTID</th>\n      <th>PERIODO</th>\n      <th>RADICADO</th>\n      <th>X</th>\n      <th>Y</th>\n      <th>NUM_COMUNA</th>\n      <th>NUM_GRAVEDAD</th>\n      <th>NUM_DISENO</th>\n      <th>NUM_CLASE</th>\n      <th>NUM_BARRIO</th>\n    </tr>\n  </thead>\n  <tbody>\n    <tr>\n      <th>count</th>\n      <td>35472.000000</td>\n      <td>35472.000000</td>\n      <td>35472.000000</td>\n      <td>35472.000000</td>\n      <td>35472.000000</td>\n      <td>3.547200e+04</td>\n      <td>35472.000000</td>\n      <td>35472.000000</td>\n      <td>35472.000000</td>\n      <td>35472.000000</td>\n      <td>35472.000000</td>\n      <td>35472.000000</td>\n      <td>35472.000000</td>\n    </tr>\n    <tr>\n      <th>mean</th>\n      <td>15.597457</td>\n      <td>2.965550</td>\n      <td>6.000056</td>\n      <td>669641.569802</td>\n      <td>2018.435019</td>\n      <td>1.650399e+06</td>\n      <td>-75.576881</td>\n      <td>6.250349</td>\n      <td>6.243093</td>\n      <td>0.475276</td>\n      <td>0.697931</td>\n      <td>0.790003</td>\n      <td>84.477362</td>\n    </tr>\n    <tr>\n      <th>std</th>\n      <td>8.672317</td>\n      <td>2.043078</td>\n      <td>3.144029</td>\n      <td>65480.319456</td>\n      <td>0.495766</td>\n      <td>2.245319e+04</td>\n      <td>0.019220</td>\n      <td>0.028612</td>\n      <td>4.798869</td>\n      <td>0.506570</td>\n      <td>1.141486</td>\n      <td>1.360555</td>\n      <td>69.633038</td>\n    </tr>\n    <tr>\n      <th>min</th>\n      <td>1.000000</td>\n      <td>0.000000</td>\n      <td>1.000000</td>\n      <td>549559.000000</td>\n      <td>2018.000000</td>\n      <td>1.611518e+06</td>\n      <td>-75.684655</td>\n      <td>6.167769</td>\n      <td>0.000000</td>\n      <td>0.000000</td>\n      <td>0.000000</td>\n      <td>0.000000</td>\n      <td>0.000000</td>\n    </tr>\n    <tr>\n      <th>25%</th>\n      <td>8.000000</td>\n      <td>1.000000</td>\n      <td>3.000000</td>\n      <td>662493.750000</td>\n      <td>2018.000000</td>\n      <td>1.630931e+06</td>\n      <td>-75.586115</td>\n      <td>6.231943</td>\n      <td>2.000000</td>\n      <td>0.000000</td>\n      <td>0.000000</td>\n      <td>0.000000</td>\n      <td>29.000000</td>\n    </tr>\n    <tr>\n      <th>50%</th>\n      <td>16.000000</td>\n      <td>3.000000</td>\n      <td>6.000000</td>\n      <td>681557.500000</td>\n      <td>2018.000000</td>\n      <td>1.650214e+06</td>\n      <td>-75.574644</td>\n      <td>6.250105</td>\n      <td>6.000000</td>\n      <td>0.000000</td>\n      <td>0.000000</td>\n      <td>0.000000</td>\n      <td>67.000000</td>\n    </tr>\n    <tr>\n      <th>75%</th>\n      <td>23.000000</td>\n      <td>5.000000</td>\n      <td>8.000000</td>\n      <td>722916.750000</td>\n      <td>2019.000000</td>\n      <td>1.669899e+06</td>\n      <td>-75.564945</td>\n      <td>6.271571</td>\n      <td>11.000000</td>\n      <td>1.000000</td>\n      <td>1.000000</td>\n      <td>1.000000</td>\n      <td>129.000000</td>\n    </tr>\n    <tr>\n      <th>max</th>\n      <td>31.000000</td>\n      <td>6.000000</td>\n      <td>12.000000</td>\n      <td>742350.000000</td>\n      <td>2019.000000</td>\n      <td>1.689537e+06</td>\n      <td>-75.504666</td>\n      <td>6.312059</td>\n      <td>19.000000</td>\n      <td>2.000000</td>\n      <td>11.000000</td>\n      <td>6.000000</td>\n      <td>314.000000</td>\n    </tr>\n  </tbody>\n</table>\n</div>"
     },
     "metadata": {},
     "execution_count": 37
    }
   ],
   "source": [
    "accidentes_num.describe()"
   ]
  },
  {
   "cell_type": "markdown",
   "metadata": {},
   "source": [
    "# Observando los datos con graficos"
   ]
  },
  {
   "cell_type": "code",
   "execution_count": 38,
   "metadata": {
    "scrolled": false
   },
   "outputs": [
    {
     "output_type": "execute_result",
     "data": {
      "text/plain": "<matplotlib.axes._subplots.AxesSubplot at 0x20609969c18>"
     },
     "metadata": {},
     "execution_count": 38
    },
    {
     "output_type": "display_data",
     "data": {
      "text/plain": "<Figure size 432x288 with 1 Axes>",
      "image/svg+xml": "<?xml version=\"1.0\" encoding=\"utf-8\" standalone=\"no\"?>\r\n<!DOCTYPE svg PUBLIC \"-//W3C//DTD SVG 1.1//EN\"\r\n  \"http://www.w3.org/Graphics/SVG/1.1/DTD/svg11.dtd\">\r\n<!-- Created with matplotlib (https://matplotlib.org/) -->\r\n<svg height=\"248.518125pt\" version=\"1.1\" viewBox=\"0 0 381.65 248.518125\" width=\"381.65pt\" xmlns=\"http://www.w3.org/2000/svg\" xmlns:xlink=\"http://www.w3.org/1999/xlink\">\r\n <defs>\r\n  <style type=\"text/css\">\r\n*{stroke-linecap:butt;stroke-linejoin:round;white-space:pre;}\r\n  </style>\r\n </defs>\r\n <g id=\"figure_1\">\r\n  <g id=\"patch_1\">\r\n   <path d=\"M -0 248.518125 \r\nL 381.65 248.518125 \r\nL 381.65 0 \r\nL -0 0 \r\nz\r\n\" style=\"fill:none;\"/>\r\n  </g>\r\n  <g id=\"axes_1\">\r\n   <g id=\"patch_2\">\r\n    <path d=\"M 39.65 224.64 \r\nL 374.45 224.64 \r\nL 374.45 7.2 \r\nL 39.65 7.2 \r\nz\r\n\" style=\"fill:#ffffff;\"/>\r\n   </g>\r\n   <g id=\"patch_3\">\r\n    <path clip-path=\"url(#p75fbbe933a)\" d=\"M 54.868182 224.64 \r\nL 85.304545 224.64 \r\nL 85.304545 17.554286 \r\nL 54.868182 17.554286 \r\nz\r\n\" style=\"fill:#1f77b4;\"/>\r\n   </g>\r\n   <g id=\"patch_4\">\r\n    <path clip-path=\"url(#p75fbbe933a)\" d=\"M 85.304545 224.64 \r\nL 115.740909 224.64 \r\nL 115.740909 115.073874 \r\nL 85.304545 115.073874 \r\nz\r\n\" style=\"fill:#1f77b4;\"/>\r\n   </g>\r\n   <g id=\"patch_5\">\r\n    <path clip-path=\"url(#p75fbbe933a)\" d=\"M 115.740909 224.64 \r\nL 146.177273 224.64 \r\nL 146.177273 115.107618 \r\nL 115.740909 115.107618 \r\nz\r\n\" style=\"fill:#1f77b4;\"/>\r\n   </g>\r\n   <g id=\"patch_6\">\r\n    <path clip-path=\"url(#p75fbbe933a)\" d=\"M 146.177273 224.64 \r\nL 176.613636 224.64 \r\nL 176.613636 106.064279 \r\nL 146.177273 106.064279 \r\nz\r\n\" style=\"fill:#1f77b4;\"/>\r\n   </g>\r\n   <g id=\"patch_7\">\r\n    <path clip-path=\"url(#p75fbbe933a)\" d=\"M 176.613636 224.64 \r\nL 207.05 224.64 \r\nL 207.05 113.184221 \r\nL 176.613636 113.184221 \r\nz\r\n\" style=\"fill:#1f77b4;\"/>\r\n   </g>\r\n   <g id=\"patch_8\">\r\n    <path clip-path=\"url(#p75fbbe933a)\" d=\"M 207.05 224.64 \r\nL 237.486364 224.64 \r\nL 237.486364 107.414031 \r\nL 207.05 107.414031 \r\nz\r\n\" style=\"fill:#1f77b4;\"/>\r\n   </g>\r\n   <g id=\"patch_9\">\r\n    <path clip-path=\"url(#p75fbbe933a)\" d=\"M 237.486364 224.64 \r\nL 267.922727 224.64 \r\nL 267.922727 94.35518 \r\nL 237.486364 94.35518 \r\nz\r\n\" style=\"fill:#1f77b4;\"/>\r\n   </g>\r\n   <g id=\"patch_10\">\r\n    <path clip-path=\"url(#p75fbbe933a)\" d=\"M 267.922727 224.64 \r\nL 298.359091 224.64 \r\nL 298.359091 102.284973 \r\nL 267.922727 102.284973 \r\nz\r\n\" style=\"fill:#1f77b4;\"/>\r\n   </g>\r\n   <g id=\"patch_11\">\r\n    <path clip-path=\"url(#p75fbbe933a)\" d=\"M 298.359091 224.64 \r\nL 328.795455 224.64 \r\nL 328.795455 164.069875 \r\nL 298.359091 164.069875 \r\nz\r\n\" style=\"fill:#1f77b4;\"/>\r\n   </g>\r\n   <g id=\"patch_12\">\r\n    <path clip-path=\"url(#p75fbbe933a)\" d=\"M 328.795455 224.64 \r\nL 359.231818 224.64 \r\nL 359.231818 114.331511 \r\nL 328.795455 114.331511 \r\nz\r\n\" style=\"fill:#1f77b4;\"/>\r\n   </g>\r\n   <g id=\"matplotlib.axis_1\">\r\n    <g id=\"xtick_1\">\r\n     <g id=\"line2d_1\">\r\n      <path clip-path=\"url(#p75fbbe933a)\" d=\"M 82.537603 224.64 \r\nL 82.537603 7.2 \r\n\" style=\"fill:none;stroke:#b0b0b0;stroke-linecap:square;stroke-width:0.8;\"/>\r\n     </g>\r\n     <g id=\"line2d_2\">\r\n      <defs>\r\n       <path d=\"M 0 0 \r\nL 0 3.5 \r\n\" id=\"m60afc3014b\" style=\"stroke:#000000;stroke-width:0.8;\"/>\r\n      </defs>\r\n      <g>\r\n       <use style=\"stroke:#000000;stroke-width:0.8;\" x=\"82.537603\" xlink:href=\"#m60afc3014b\" y=\"224.64\"/>\r\n      </g>\r\n     </g>\r\n     <g id=\"text_1\">\r\n      <!-- 2 -->\r\n      <defs>\r\n       <path d=\"M 19.1875 8.296875 \r\nL 53.609375 8.296875 \r\nL 53.609375 0 \r\nL 7.328125 0 \r\nL 7.328125 8.296875 \r\nQ 12.9375 14.109375 22.625 23.890625 \r\nQ 32.328125 33.6875 34.8125 36.53125 \r\nQ 39.546875 41.84375 41.421875 45.53125 \r\nQ 43.3125 49.21875 43.3125 52.78125 \r\nQ 43.3125 58.59375 39.234375 62.25 \r\nQ 35.15625 65.921875 28.609375 65.921875 \r\nQ 23.96875 65.921875 18.8125 64.3125 \r\nQ 13.671875 62.703125 7.8125 59.421875 \r\nL 7.8125 69.390625 \r\nQ 13.765625 71.78125 18.9375 73 \r\nQ 24.125 74.21875 28.421875 74.21875 \r\nQ 39.75 74.21875 46.484375 68.546875 \r\nQ 53.21875 62.890625 53.21875 53.421875 \r\nQ 53.21875 48.921875 51.53125 44.890625 \r\nQ 49.859375 40.875 45.40625 35.40625 \r\nQ 44.1875 33.984375 37.640625 27.21875 \r\nQ 31.109375 20.453125 19.1875 8.296875 \r\nz\r\n\" id=\"DejaVuSans-50\"/>\r\n      </defs>\r\n      <g transform=\"translate(79.356353 239.238437)scale(0.1 -0.1)\">\r\n       <use xlink:href=\"#DejaVuSans-50\"/>\r\n      </g>\r\n     </g>\r\n    </g>\r\n    <g id=\"xtick_2\">\r\n     <g id=\"line2d_3\">\r\n      <path clip-path=\"url(#p75fbbe933a)\" d=\"M 137.876446 224.64 \r\nL 137.876446 7.2 \r\n\" style=\"fill:none;stroke:#b0b0b0;stroke-linecap:square;stroke-width:0.8;\"/>\r\n     </g>\r\n     <g id=\"line2d_4\">\r\n      <g>\r\n       <use style=\"stroke:#000000;stroke-width:0.8;\" x=\"137.876446\" xlink:href=\"#m60afc3014b\" y=\"224.64\"/>\r\n      </g>\r\n     </g>\r\n     <g id=\"text_2\">\r\n      <!-- 4 -->\r\n      <defs>\r\n       <path d=\"M 37.796875 64.3125 \r\nL 12.890625 25.390625 \r\nL 37.796875 25.390625 \r\nz\r\nM 35.203125 72.90625 \r\nL 47.609375 72.90625 \r\nL 47.609375 25.390625 \r\nL 58.015625 25.390625 \r\nL 58.015625 17.1875 \r\nL 47.609375 17.1875 \r\nL 47.609375 0 \r\nL 37.796875 0 \r\nL 37.796875 17.1875 \r\nL 4.890625 17.1875 \r\nL 4.890625 26.703125 \r\nz\r\n\" id=\"DejaVuSans-52\"/>\r\n      </defs>\r\n      <g transform=\"translate(134.695196 239.238437)scale(0.1 -0.1)\">\r\n       <use xlink:href=\"#DejaVuSans-52\"/>\r\n      </g>\r\n     </g>\r\n    </g>\r\n    <g id=\"xtick_3\">\r\n     <g id=\"line2d_5\">\r\n      <path clip-path=\"url(#p75fbbe933a)\" d=\"M 193.215289 224.64 \r\nL 193.215289 7.2 \r\n\" style=\"fill:none;stroke:#b0b0b0;stroke-linecap:square;stroke-width:0.8;\"/>\r\n     </g>\r\n     <g id=\"line2d_6\">\r\n      <g>\r\n       <use style=\"stroke:#000000;stroke-width:0.8;\" x=\"193.215289\" xlink:href=\"#m60afc3014b\" y=\"224.64\"/>\r\n      </g>\r\n     </g>\r\n     <g id=\"text_3\">\r\n      <!-- 6 -->\r\n      <defs>\r\n       <path d=\"M 33.015625 40.375 \r\nQ 26.375 40.375 22.484375 35.828125 \r\nQ 18.609375 31.296875 18.609375 23.390625 \r\nQ 18.609375 15.53125 22.484375 10.953125 \r\nQ 26.375 6.390625 33.015625 6.390625 \r\nQ 39.65625 6.390625 43.53125 10.953125 \r\nQ 47.40625 15.53125 47.40625 23.390625 \r\nQ 47.40625 31.296875 43.53125 35.828125 \r\nQ 39.65625 40.375 33.015625 40.375 \r\nz\r\nM 52.59375 71.296875 \r\nL 52.59375 62.3125 \r\nQ 48.875 64.0625 45.09375 64.984375 \r\nQ 41.3125 65.921875 37.59375 65.921875 \r\nQ 27.828125 65.921875 22.671875 59.328125 \r\nQ 17.53125 52.734375 16.796875 39.40625 \r\nQ 19.671875 43.65625 24.015625 45.921875 \r\nQ 28.375 48.1875 33.59375 48.1875 \r\nQ 44.578125 48.1875 50.953125 41.515625 \r\nQ 57.328125 34.859375 57.328125 23.390625 \r\nQ 57.328125 12.15625 50.6875 5.359375 \r\nQ 44.046875 -1.421875 33.015625 -1.421875 \r\nQ 20.359375 -1.421875 13.671875 8.265625 \r\nQ 6.984375 17.96875 6.984375 36.375 \r\nQ 6.984375 53.65625 15.1875 63.9375 \r\nQ 23.390625 74.21875 37.203125 74.21875 \r\nQ 40.921875 74.21875 44.703125 73.484375 \r\nQ 48.484375 72.75 52.59375 71.296875 \r\nz\r\n\" id=\"DejaVuSans-54\"/>\r\n      </defs>\r\n      <g transform=\"translate(190.034039 239.238437)scale(0.1 -0.1)\">\r\n       <use xlink:href=\"#DejaVuSans-54\"/>\r\n      </g>\r\n     </g>\r\n    </g>\r\n    <g id=\"xtick_4\">\r\n     <g id=\"line2d_7\">\r\n      <path clip-path=\"url(#p75fbbe933a)\" d=\"M 248.554132 224.64 \r\nL 248.554132 7.2 \r\n\" style=\"fill:none;stroke:#b0b0b0;stroke-linecap:square;stroke-width:0.8;\"/>\r\n     </g>\r\n     <g id=\"line2d_8\">\r\n      <g>\r\n       <use style=\"stroke:#000000;stroke-width:0.8;\" x=\"248.554132\" xlink:href=\"#m60afc3014b\" y=\"224.64\"/>\r\n      </g>\r\n     </g>\r\n     <g id=\"text_4\">\r\n      <!-- 8 -->\r\n      <defs>\r\n       <path d=\"M 31.78125 34.625 \r\nQ 24.75 34.625 20.71875 30.859375 \r\nQ 16.703125 27.09375 16.703125 20.515625 \r\nQ 16.703125 13.921875 20.71875 10.15625 \r\nQ 24.75 6.390625 31.78125 6.390625 \r\nQ 38.8125 6.390625 42.859375 10.171875 \r\nQ 46.921875 13.96875 46.921875 20.515625 \r\nQ 46.921875 27.09375 42.890625 30.859375 \r\nQ 38.875 34.625 31.78125 34.625 \r\nz\r\nM 21.921875 38.8125 \r\nQ 15.578125 40.375 12.03125 44.71875 \r\nQ 8.5 49.078125 8.5 55.328125 \r\nQ 8.5 64.0625 14.71875 69.140625 \r\nQ 20.953125 74.21875 31.78125 74.21875 \r\nQ 42.671875 74.21875 48.875 69.140625 \r\nQ 55.078125 64.0625 55.078125 55.328125 \r\nQ 55.078125 49.078125 51.53125 44.71875 \r\nQ 48 40.375 41.703125 38.8125 \r\nQ 48.828125 37.15625 52.796875 32.3125 \r\nQ 56.78125 27.484375 56.78125 20.515625 \r\nQ 56.78125 9.90625 50.3125 4.234375 \r\nQ 43.84375 -1.421875 31.78125 -1.421875 \r\nQ 19.734375 -1.421875 13.25 4.234375 \r\nQ 6.78125 9.90625 6.78125 20.515625 \r\nQ 6.78125 27.484375 10.78125 32.3125 \r\nQ 14.796875 37.15625 21.921875 38.8125 \r\nz\r\nM 18.3125 54.390625 \r\nQ 18.3125 48.734375 21.84375 45.5625 \r\nQ 25.390625 42.390625 31.78125 42.390625 \r\nQ 38.140625 42.390625 41.71875 45.5625 \r\nQ 45.3125 48.734375 45.3125 54.390625 \r\nQ 45.3125 60.0625 41.71875 63.234375 \r\nQ 38.140625 66.40625 31.78125 66.40625 \r\nQ 25.390625 66.40625 21.84375 63.234375 \r\nQ 18.3125 60.0625 18.3125 54.390625 \r\nz\r\n\" id=\"DejaVuSans-56\"/>\r\n      </defs>\r\n      <g transform=\"translate(245.372882 239.238437)scale(0.1 -0.1)\">\r\n       <use xlink:href=\"#DejaVuSans-56\"/>\r\n      </g>\r\n     </g>\r\n    </g>\r\n    <g id=\"xtick_5\">\r\n     <g id=\"line2d_9\">\r\n      <path clip-path=\"url(#p75fbbe933a)\" d=\"M 303.892975 224.64 \r\nL 303.892975 7.2 \r\n\" style=\"fill:none;stroke:#b0b0b0;stroke-linecap:square;stroke-width:0.8;\"/>\r\n     </g>\r\n     <g id=\"line2d_10\">\r\n      <g>\r\n       <use style=\"stroke:#000000;stroke-width:0.8;\" x=\"303.892975\" xlink:href=\"#m60afc3014b\" y=\"224.64\"/>\r\n      </g>\r\n     </g>\r\n     <g id=\"text_5\">\r\n      <!-- 10 -->\r\n      <defs>\r\n       <path d=\"M 12.40625 8.296875 \r\nL 28.515625 8.296875 \r\nL 28.515625 63.921875 \r\nL 10.984375 60.40625 \r\nL 10.984375 69.390625 \r\nL 28.421875 72.90625 \r\nL 38.28125 72.90625 \r\nL 38.28125 8.296875 \r\nL 54.390625 8.296875 \r\nL 54.390625 0 \r\nL 12.40625 0 \r\nz\r\n\" id=\"DejaVuSans-49\"/>\r\n       <path d=\"M 31.78125 66.40625 \r\nQ 24.171875 66.40625 20.328125 58.90625 \r\nQ 16.5 51.421875 16.5 36.375 \r\nQ 16.5 21.390625 20.328125 13.890625 \r\nQ 24.171875 6.390625 31.78125 6.390625 \r\nQ 39.453125 6.390625 43.28125 13.890625 \r\nQ 47.125 21.390625 47.125 36.375 \r\nQ 47.125 51.421875 43.28125 58.90625 \r\nQ 39.453125 66.40625 31.78125 66.40625 \r\nz\r\nM 31.78125 74.21875 \r\nQ 44.046875 74.21875 50.515625 64.515625 \r\nQ 56.984375 54.828125 56.984375 36.375 \r\nQ 56.984375 17.96875 50.515625 8.265625 \r\nQ 44.046875 -1.421875 31.78125 -1.421875 \r\nQ 19.53125 -1.421875 13.0625 8.265625 \r\nQ 6.59375 17.96875 6.59375 36.375 \r\nQ 6.59375 54.828125 13.0625 64.515625 \r\nQ 19.53125 74.21875 31.78125 74.21875 \r\nz\r\n\" id=\"DejaVuSans-48\"/>\r\n      </defs>\r\n      <g transform=\"translate(297.530475 239.238437)scale(0.1 -0.1)\">\r\n       <use xlink:href=\"#DejaVuSans-49\"/>\r\n       <use x=\"63.623047\" xlink:href=\"#DejaVuSans-48\"/>\r\n      </g>\r\n     </g>\r\n    </g>\r\n    <g id=\"xtick_6\">\r\n     <g id=\"line2d_11\">\r\n      <path clip-path=\"url(#p75fbbe933a)\" d=\"M 359.231818 224.64 \r\nL 359.231818 7.2 \r\n\" style=\"fill:none;stroke:#b0b0b0;stroke-linecap:square;stroke-width:0.8;\"/>\r\n     </g>\r\n     <g id=\"line2d_12\">\r\n      <g>\r\n       <use style=\"stroke:#000000;stroke-width:0.8;\" x=\"359.231818\" xlink:href=\"#m60afc3014b\" y=\"224.64\"/>\r\n      </g>\r\n     </g>\r\n     <g id=\"text_6\">\r\n      <!-- 12 -->\r\n      <g transform=\"translate(352.869318 239.238437)scale(0.1 -0.1)\">\r\n       <use xlink:href=\"#DejaVuSans-49\"/>\r\n       <use x=\"63.623047\" xlink:href=\"#DejaVuSans-50\"/>\r\n      </g>\r\n     </g>\r\n    </g>\r\n   </g>\r\n   <g id=\"matplotlib.axis_2\">\r\n    <g id=\"ytick_1\">\r\n     <g id=\"line2d_13\">\r\n      <path clip-path=\"url(#p75fbbe933a)\" d=\"M 39.65 224.64 \r\nL 374.45 224.64 \r\n\" style=\"fill:none;stroke:#b0b0b0;stroke-linecap:square;stroke-width:0.8;\"/>\r\n     </g>\r\n     <g id=\"line2d_14\">\r\n      <defs>\r\n       <path d=\"M 0 0 \r\nL -3.5 0 \r\n\" id=\"m46480c2ba4\" style=\"stroke:#000000;stroke-width:0.8;\"/>\r\n      </defs>\r\n      <g>\r\n       <use style=\"stroke:#000000;stroke-width:0.8;\" x=\"39.65\" xlink:href=\"#m46480c2ba4\" y=\"224.64\"/>\r\n      </g>\r\n     </g>\r\n     <g id=\"text_7\">\r\n      <!-- 0 -->\r\n      <g transform=\"translate(26.2875 228.439219)scale(0.1 -0.1)\">\r\n       <use xlink:href=\"#DejaVuSans-48\"/>\r\n      </g>\r\n     </g>\r\n    </g>\r\n    <g id=\"ytick_2\">\r\n     <g id=\"line2d_15\">\r\n      <path clip-path=\"url(#p75fbbe933a)\" d=\"M 39.65 190.896198 \r\nL 374.45 190.896198 \r\n\" style=\"fill:none;stroke:#b0b0b0;stroke-linecap:square;stroke-width:0.8;\"/>\r\n     </g>\r\n     <g id=\"line2d_16\">\r\n      <g>\r\n       <use style=\"stroke:#000000;stroke-width:0.8;\" x=\"39.65\" xlink:href=\"#m46480c2ba4\" y=\"190.896198\"/>\r\n      </g>\r\n     </g>\r\n     <g id=\"text_8\">\r\n      <!-- 1000 -->\r\n      <g transform=\"translate(7.2 194.695417)scale(0.1 -0.1)\">\r\n       <use xlink:href=\"#DejaVuSans-49\"/>\r\n       <use x=\"63.623047\" xlink:href=\"#DejaVuSans-48\"/>\r\n       <use x=\"127.246094\" xlink:href=\"#DejaVuSans-48\"/>\r\n       <use x=\"190.869141\" xlink:href=\"#DejaVuSans-48\"/>\r\n      </g>\r\n     </g>\r\n    </g>\r\n    <g id=\"ytick_3\">\r\n     <g id=\"line2d_17\">\r\n      <path clip-path=\"url(#p75fbbe933a)\" d=\"M 39.65 157.152396 \r\nL 374.45 157.152396 \r\n\" style=\"fill:none;stroke:#b0b0b0;stroke-linecap:square;stroke-width:0.8;\"/>\r\n     </g>\r\n     <g id=\"line2d_18\">\r\n      <g>\r\n       <use style=\"stroke:#000000;stroke-width:0.8;\" x=\"39.65\" xlink:href=\"#m46480c2ba4\" y=\"157.152396\"/>\r\n      </g>\r\n     </g>\r\n     <g id=\"text_9\">\r\n      <!-- 2000 -->\r\n      <g transform=\"translate(7.2 160.951614)scale(0.1 -0.1)\">\r\n       <use xlink:href=\"#DejaVuSans-50\"/>\r\n       <use x=\"63.623047\" xlink:href=\"#DejaVuSans-48\"/>\r\n       <use x=\"127.246094\" xlink:href=\"#DejaVuSans-48\"/>\r\n       <use x=\"190.869141\" xlink:href=\"#DejaVuSans-48\"/>\r\n      </g>\r\n     </g>\r\n    </g>\r\n    <g id=\"ytick_4\">\r\n     <g id=\"line2d_19\">\r\n      <path clip-path=\"url(#p75fbbe933a)\" d=\"M 39.65 123.408593 \r\nL 374.45 123.408593 \r\n\" style=\"fill:none;stroke:#b0b0b0;stroke-linecap:square;stroke-width:0.8;\"/>\r\n     </g>\r\n     <g id=\"line2d_20\">\r\n      <g>\r\n       <use style=\"stroke:#000000;stroke-width:0.8;\" x=\"39.65\" xlink:href=\"#m46480c2ba4\" y=\"123.408593\"/>\r\n      </g>\r\n     </g>\r\n     <g id=\"text_10\">\r\n      <!-- 3000 -->\r\n      <defs>\r\n       <path d=\"M 40.578125 39.3125 \r\nQ 47.65625 37.796875 51.625 33 \r\nQ 55.609375 28.21875 55.609375 21.1875 \r\nQ 55.609375 10.40625 48.1875 4.484375 \r\nQ 40.765625 -1.421875 27.09375 -1.421875 \r\nQ 22.515625 -1.421875 17.65625 -0.515625 \r\nQ 12.796875 0.390625 7.625 2.203125 \r\nL 7.625 11.71875 \r\nQ 11.71875 9.328125 16.59375 8.109375 \r\nQ 21.484375 6.890625 26.8125 6.890625 \r\nQ 36.078125 6.890625 40.9375 10.546875 \r\nQ 45.796875 14.203125 45.796875 21.1875 \r\nQ 45.796875 27.640625 41.28125 31.265625 \r\nQ 36.765625 34.90625 28.71875 34.90625 \r\nL 20.21875 34.90625 \r\nL 20.21875 43.015625 \r\nL 29.109375 43.015625 \r\nQ 36.375 43.015625 40.234375 45.921875 \r\nQ 44.09375 48.828125 44.09375 54.296875 \r\nQ 44.09375 59.90625 40.109375 62.90625 \r\nQ 36.140625 65.921875 28.71875 65.921875 \r\nQ 24.65625 65.921875 20.015625 65.03125 \r\nQ 15.375 64.15625 9.8125 62.3125 \r\nL 9.8125 71.09375 \r\nQ 15.4375 72.65625 20.34375 73.4375 \r\nQ 25.25 74.21875 29.59375 74.21875 \r\nQ 40.828125 74.21875 47.359375 69.109375 \r\nQ 53.90625 64.015625 53.90625 55.328125 \r\nQ 53.90625 49.265625 50.4375 45.09375 \r\nQ 46.96875 40.921875 40.578125 39.3125 \r\nz\r\n\" id=\"DejaVuSans-51\"/>\r\n      </defs>\r\n      <g transform=\"translate(7.2 127.207812)scale(0.1 -0.1)\">\r\n       <use xlink:href=\"#DejaVuSans-51\"/>\r\n       <use x=\"63.623047\" xlink:href=\"#DejaVuSans-48\"/>\r\n       <use x=\"127.246094\" xlink:href=\"#DejaVuSans-48\"/>\r\n       <use x=\"190.869141\" xlink:href=\"#DejaVuSans-48\"/>\r\n      </g>\r\n     </g>\r\n    </g>\r\n    <g id=\"ytick_5\">\r\n     <g id=\"line2d_21\">\r\n      <path clip-path=\"url(#p75fbbe933a)\" d=\"M 39.65 89.664791 \r\nL 374.45 89.664791 \r\n\" style=\"fill:none;stroke:#b0b0b0;stroke-linecap:square;stroke-width:0.8;\"/>\r\n     </g>\r\n     <g id=\"line2d_22\">\r\n      <g>\r\n       <use style=\"stroke:#000000;stroke-width:0.8;\" x=\"39.65\" xlink:href=\"#m46480c2ba4\" y=\"89.664791\"/>\r\n      </g>\r\n     </g>\r\n     <g id=\"text_11\">\r\n      <!-- 4000 -->\r\n      <g transform=\"translate(7.2 93.46401)scale(0.1 -0.1)\">\r\n       <use xlink:href=\"#DejaVuSans-52\"/>\r\n       <use x=\"63.623047\" xlink:href=\"#DejaVuSans-48\"/>\r\n       <use x=\"127.246094\" xlink:href=\"#DejaVuSans-48\"/>\r\n       <use x=\"190.869141\" xlink:href=\"#DejaVuSans-48\"/>\r\n      </g>\r\n     </g>\r\n    </g>\r\n    <g id=\"ytick_6\">\r\n     <g id=\"line2d_23\">\r\n      <path clip-path=\"url(#p75fbbe933a)\" d=\"M 39.65 55.920989 \r\nL 374.45 55.920989 \r\n\" style=\"fill:none;stroke:#b0b0b0;stroke-linecap:square;stroke-width:0.8;\"/>\r\n     </g>\r\n     <g id=\"line2d_24\">\r\n      <g>\r\n       <use style=\"stroke:#000000;stroke-width:0.8;\" x=\"39.65\" xlink:href=\"#m46480c2ba4\" y=\"55.920989\"/>\r\n      </g>\r\n     </g>\r\n     <g id=\"text_12\">\r\n      <!-- 5000 -->\r\n      <defs>\r\n       <path d=\"M 10.796875 72.90625 \r\nL 49.515625 72.90625 \r\nL 49.515625 64.59375 \r\nL 19.828125 64.59375 \r\nL 19.828125 46.734375 \r\nQ 21.96875 47.46875 24.109375 47.828125 \r\nQ 26.265625 48.1875 28.421875 48.1875 \r\nQ 40.625 48.1875 47.75 41.5 \r\nQ 54.890625 34.8125 54.890625 23.390625 \r\nQ 54.890625 11.625 47.5625 5.09375 \r\nQ 40.234375 -1.421875 26.90625 -1.421875 \r\nQ 22.3125 -1.421875 17.546875 -0.640625 \r\nQ 12.796875 0.140625 7.71875 1.703125 \r\nL 7.71875 11.625 \r\nQ 12.109375 9.234375 16.796875 8.0625 \r\nQ 21.484375 6.890625 26.703125 6.890625 \r\nQ 35.15625 6.890625 40.078125 11.328125 \r\nQ 45.015625 15.765625 45.015625 23.390625 \r\nQ 45.015625 31 40.078125 35.4375 \r\nQ 35.15625 39.890625 26.703125 39.890625 \r\nQ 22.75 39.890625 18.8125 39.015625 \r\nQ 14.890625 38.140625 10.796875 36.28125 \r\nz\r\n\" id=\"DejaVuSans-53\"/>\r\n      </defs>\r\n      <g transform=\"translate(7.2 59.720208)scale(0.1 -0.1)\">\r\n       <use xlink:href=\"#DejaVuSans-53\"/>\r\n       <use x=\"63.623047\" xlink:href=\"#DejaVuSans-48\"/>\r\n       <use x=\"127.246094\" xlink:href=\"#DejaVuSans-48\"/>\r\n       <use x=\"190.869141\" xlink:href=\"#DejaVuSans-48\"/>\r\n      </g>\r\n     </g>\r\n    </g>\r\n    <g id=\"ytick_7\">\r\n     <g id=\"line2d_25\">\r\n      <path clip-path=\"url(#p75fbbe933a)\" d=\"M 39.65 22.177187 \r\nL 374.45 22.177187 \r\n\" style=\"fill:none;stroke:#b0b0b0;stroke-linecap:square;stroke-width:0.8;\"/>\r\n     </g>\r\n     <g id=\"line2d_26\">\r\n      <g>\r\n       <use style=\"stroke:#000000;stroke-width:0.8;\" x=\"39.65\" xlink:href=\"#m46480c2ba4\" y=\"22.177187\"/>\r\n      </g>\r\n     </g>\r\n     <g id=\"text_13\">\r\n      <!-- 6000 -->\r\n      <g transform=\"translate(7.2 25.976405)scale(0.1 -0.1)\">\r\n       <use xlink:href=\"#DejaVuSans-54\"/>\r\n       <use x=\"63.623047\" xlink:href=\"#DejaVuSans-48\"/>\r\n       <use x=\"127.246094\" xlink:href=\"#DejaVuSans-48\"/>\r\n       <use x=\"190.869141\" xlink:href=\"#DejaVuSans-48\"/>\r\n      </g>\r\n     </g>\r\n    </g>\r\n   </g>\r\n   <g id=\"patch_13\">\r\n    <path d=\"M 39.65 224.64 \r\nL 39.65 7.2 \r\n\" style=\"fill:none;stroke:#000000;stroke-linecap:square;stroke-linejoin:miter;stroke-width:0.8;\"/>\r\n   </g>\r\n   <g id=\"patch_14\">\r\n    <path d=\"M 374.45 224.64 \r\nL 374.45 7.2 \r\n\" style=\"fill:none;stroke:#000000;stroke-linecap:square;stroke-linejoin:miter;stroke-width:0.8;\"/>\r\n   </g>\r\n   <g id=\"patch_15\">\r\n    <path d=\"M 39.65 224.64 \r\nL 374.45 224.64 \r\n\" style=\"fill:none;stroke:#000000;stroke-linecap:square;stroke-linejoin:miter;stroke-width:0.8;\"/>\r\n   </g>\r\n   <g id=\"patch_16\">\r\n    <path d=\"M 39.65 7.2 \r\nL 374.45 7.2 \r\n\" style=\"fill:none;stroke:#000000;stroke-linecap:square;stroke-linejoin:miter;stroke-width:0.8;\"/>\r\n   </g>\r\n  </g>\r\n </g>\r\n <defs>\r\n  <clipPath id=\"p75fbbe933a\">\r\n   <rect height=\"217.44\" width=\"334.8\" x=\"39.65\" y=\"7.2\"/>\r\n  </clipPath>\r\n </defs>\r\n</svg>\r\n",
      "image/png": "[encoded data removed]"
     },
     "metadata": {
      "needs_background": "light"
     }
    }
   ],
   "source": [
    "accidentes_num['MES'].hist()"
   ]
  },
  {
   "cell_type": "code",
   "execution_count": 39,
   "metadata": {},
   "outputs": [
    {
     "output_type": "execute_result",
     "data": {
      "text/plain": "array([ 9,  3,  8, 10, 12,  1, 11,  4,  5,  6,  7,  2], dtype=int64)"
     },
     "metadata": {},
     "execution_count": 39
    }
   ],
   "source": [
    "accidentes_num['MES'].unique()"
   ]
  },
  {
   "cell_type": "code",
   "execution_count": 40,
   "metadata": {
    "scrolled": true
   },
   "outputs": [
    {
     "output_type": "stream",
     "name": "stdout",
     "text": "mes 0\n False    32520\nTrue      2952\nName: MES, dtype: int64\n \nmes 1\n False    32287\nTrue      3185\nName: MES, dtype: int64\n \nmes 2\n False    32225\nTrue      3247\nName: MES, dtype: int64\n \nmes 3\n False    32226\nTrue      3246\nName: MES, dtype: int64\n \nmes 4\n False    31958\nTrue      3514\nName: MES, dtype: int64\n \nmes 5\n False    32169\nTrue      3303\nName: MES, dtype: int64\n \nmes 6\n False    31998\nTrue      3474\nName: MES, dtype: int64\n \nmes 7\n False    31611\nTrue      3861\nName: MES, dtype: int64\n \nmes 8\n False    31846\nTrue      3626\nName: MES, dtype: int64\n \nmes 9\n False    33677\nTrue      1795\nName: MES, dtype: int64\n \nmes 10\n False    33853\nTrue      1619\nName: MES, dtype: int64\n \nmes 11\n False    33822\nTrue      1650\nName: MES, dtype: int64\n \n"
    }
   ],
   "source": [
    "\n",
    "\n",
    "\n",
    "for i in range(12):\n",
    "       \n",
    "    meses = (accidentes_num['MES'] == i+1 ).value_counts()\n",
    "    print(f'mes {i}\\n {meses}\\n ')\n",
    "           \n",
    ""
   ]
  },
  {
   "cell_type": "code",
   "execution_count": 41,
   "metadata": {},
   "outputs": [
    {
     "output_type": "execute_result",
     "data": {
      "text/plain": "(35472, 25)"
     },
     "metadata": {},
     "execution_count": 41
    }
   ],
   "source": [
    "accidentes.shape"
   ]
  },
  {
   "cell_type": "markdown",
   "metadata": {},
   "source": [
    "# Buscando datos faltantes (nulos o NaN)"
   ]
  },
  {
   "cell_type": "code",
   "execution_count": 42,
   "metadata": {},
   "outputs": [
    {
     "output_type": "execute_result",
     "data": {
      "text/plain": "        DIA  DIA_SEMANA    MES  OBJECTID  PERIODO  RADICADO      X      Y  \\\nTrue  35472       35472  35472     35472    35472     35472  35472  35472   \n\n      NUM_COMUNA  NUM_GRAVEDAD  NUM_DISENO  NUM_CLASE  NUM_BARRIO  \nTrue       35472         35472       35472      35472       35472  ",
      "text/html": "<div>\n<style scoped>\n    .dataframe tbody tr th:only-of-type {\n        vertical-align: middle;\n    }\n\n    .dataframe tbody tr th {\n        vertical-align: top;\n    }\n\n    .dataframe thead th {\n        text-align: right;\n    }\n</style>\n<table border=\"1\" class=\"dataframe\">\n  <thead>\n    <tr style=\"text-align: right;\">\n      <th></th>\n      <th>DIA</th>\n      <th>DIA_SEMANA</th>\n      <th>MES</th>\n      <th>OBJECTID</th>\n      <th>PERIODO</th>\n      <th>RADICADO</th>\n      <th>X</th>\n      <th>Y</th>\n      <th>NUM_COMUNA</th>\n      <th>NUM_GRAVEDAD</th>\n      <th>NUM_DISENO</th>\n      <th>NUM_CLASE</th>\n      <th>NUM_BARRIO</th>\n    </tr>\n  </thead>\n  <tbody>\n    <tr>\n      <th>True</th>\n      <td>35472</td>\n      <td>35472</td>\n      <td>35472</td>\n      <td>35472</td>\n      <td>35472</td>\n      <td>35472</td>\n      <td>35472</td>\n      <td>35472</td>\n      <td>35472</td>\n      <td>35472</td>\n      <td>35472</td>\n      <td>35472</td>\n      <td>35472</td>\n    </tr>\n  </tbody>\n</table>\n</div>"
     },
     "metadata": {},
     "execution_count": 42
    }
   ],
   "source": [
    "accidentes_num.notnull().apply(pd.Series.value_counts)"
   ]
  },
  {
   "cell_type": "code",
   "execution_count": 43,
   "metadata": {},
   "outputs": [
    {
     "output_type": "execute_result",
     "data": {
      "text/plain": "           DIA  DIA_SEMANA      MES  OBJECTID  PERIODO  RADICADO        X  \\\nFalse      NaN        5245      NaN       NaN      NaN       NaN      NaN   \nTrue   35472.0       30227  35472.0   35472.0  35472.0   35472.0  35472.0   \n\n             Y  NUM_COMUNA  NUM_GRAVEDAD  NUM_DISENO  NUM_CLASE  NUM_BARRIO  \nFalse      NaN        2612         18741       21707      24658         880  \nTrue   35472.0       32860         16731       13765      10814       34592  ",
      "text/html": "<div>\n<style scoped>\n    .dataframe tbody tr th:only-of-type {\n        vertical-align: middle;\n    }\n\n    .dataframe tbody tr th {\n        vertical-align: top;\n    }\n\n    .dataframe thead th {\n        text-align: right;\n    }\n</style>\n<table border=\"1\" class=\"dataframe\">\n  <thead>\n    <tr style=\"text-align: right;\">\n      <th></th>\n      <th>DIA</th>\n      <th>DIA_SEMANA</th>\n      <th>MES</th>\n      <th>OBJECTID</th>\n      <th>PERIODO</th>\n      <th>RADICADO</th>\n      <th>X</th>\n      <th>Y</th>\n      <th>NUM_COMUNA</th>\n      <th>NUM_GRAVEDAD</th>\n      <th>NUM_DISENO</th>\n      <th>NUM_CLASE</th>\n      <th>NUM_BARRIO</th>\n    </tr>\n  </thead>\n  <tbody>\n    <tr>\n      <th>False</th>\n      <td>NaN</td>\n      <td>5245</td>\n      <td>NaN</td>\n      <td>NaN</td>\n      <td>NaN</td>\n      <td>NaN</td>\n      <td>NaN</td>\n      <td>NaN</td>\n      <td>2612</td>\n      <td>18741</td>\n      <td>21707</td>\n      <td>24658</td>\n      <td>880</td>\n    </tr>\n    <tr>\n      <th>True</th>\n      <td>35472.0</td>\n      <td>30227</td>\n      <td>35472.0</td>\n      <td>35472.0</td>\n      <td>35472.0</td>\n      <td>35472.0</td>\n      <td>35472.0</td>\n      <td>35472.0</td>\n      <td>32860</td>\n      <td>16731</td>\n      <td>13765</td>\n      <td>10814</td>\n      <td>34592</td>\n    </tr>\n  </tbody>\n</table>\n</div>"
     },
     "metadata": {},
     "execution_count": 43
    }
   ],
   "source": [
    "(accidentes_num != 0).apply(pd.Series.value_counts)"
   ]
  },
  {
   "cell_type": "code",
   "execution_count": 44,
   "metadata": {},
   "outputs": [],
   "source": [
    "from sklearn.impute import SimpleImputer as Imputer\n",
    "imputer = Imputer(missing_values=np.nan, strategy='mean')"
   ]
  },
  {
   "cell_type": "code",
   "execution_count": 45,
   "metadata": {},
   "outputs": [],
   "source": [
    "values = imputer.fit_transform(accidentes_num)"
   ]
  },
  {
   "cell_type": "code",
   "execution_count": 46,
   "metadata": {},
   "outputs": [
    {
     "output_type": "execute_result",
     "data": {
      "text/plain": "array([[ 20.,   0.,   9., ...,   0.,   0.,   0.],\n       [ 21.,   1.,   3., ...,   0.,   1.,   1.],\n       [ 30.,   0.,   8., ...,   1.,   0.,   2.],\n       ...,\n       [  5.,   0.,   9., ...,   0.,   0., 152.],\n       [ 23.,   6.,   4., ...,   0.,   3.,  53.],\n       [ 23.,   6.,   4., ...,   1.,   0.,  66.]])"
     },
     "metadata": {},
     "execution_count": 46
    }
   ],
   "source": [
    "#Array numpy\n",
    "\n",
    "accidentes_num.values\n",
    ""
   ]
  },
  {
   "cell_type": "code",
   "execution_count": 47,
   "metadata": {},
   "outputs": [],
   "source": [
    "x = pd.DataFrame(values)"
   ]
  },
  {
   "cell_type": "code",
   "execution_count": 48,
   "metadata": {},
   "outputs": [],
   "source": [
    "x.columns = accidentes_num.columns"
   ]
  },
  {
   "cell_type": "code",
   "execution_count": 49,
   "metadata": {},
   "outputs": [],
   "source": [
    "x.index = accidentes_num.index"
   ]
  },
  {
   "cell_type": "code",
   "execution_count": 50,
   "metadata": {
    "scrolled": true
   },
   "outputs": [
    {
     "output_type": "execute_result",
     "data": {
      "text/plain": "    DIA  DIA_SEMANA   MES  OBJECTID  PERIODO   RADICADO          X         Y  \\\n0  20.0         0.0   9.0  673380.0   2018.0  1642888.0 -75.578357  6.213719   \n1  21.0         1.0   3.0  557526.0   2018.0  1620950.0 -75.592022  6.279157   \n2  30.0         0.0   8.0  674912.0   2018.0  1640270.0 -75.595882  6.275555   \n3  10.0         2.0   9.0  674286.0   2018.0  1641770.0 -75.567284  6.248271   \n4  12.0         3.0  10.0  681701.0   2018.0  1645768.0 -75.576195  6.213677   \n\n   NUM_COMUNA  NUM_GRAVEDAD  NUM_DISENO  NUM_CLASE  NUM_BARRIO  \n0         0.0           0.0         0.0        0.0         0.0  \n1         1.0           0.0         0.0        1.0         1.0  \n2         1.0           1.0         1.0        0.0         2.0  \n3         2.0           1.0         1.0        0.0         3.0  \n4         3.0           1.0         0.0        0.0         4.0  ",
      "text/html": "<div>\n<style scoped>\n    .dataframe tbody tr th:only-of-type {\n        vertical-align: middle;\n    }\n\n    .dataframe tbody tr th {\n        vertical-align: top;\n    }\n\n    .dataframe thead th {\n        text-align: right;\n    }\n</style>\n<table border=\"1\" class=\"dataframe\">\n  <thead>\n    <tr style=\"text-align: right;\">\n      <th></th>\n      <th>DIA</th>\n      <th>DIA_SEMANA</th>\n      <th>MES</th>\n      <th>OBJECTID</th>\n      <th>PERIODO</th>\n      <th>RADICADO</th>\n      <th>X</th>\n      <th>Y</th>\n      <th>NUM_COMUNA</th>\n      <th>NUM_GRAVEDAD</th>\n      <th>NUM_DISENO</th>\n      <th>NUM_CLASE</th>\n      <th>NUM_BARRIO</th>\n    </tr>\n  </thead>\n  <tbody>\n    <tr>\n      <th>0</th>\n      <td>20.0</td>\n      <td>0.0</td>\n      <td>9.0</td>\n      <td>673380.0</td>\n      <td>2018.0</td>\n      <td>1642888.0</td>\n      <td>-75.578357</td>\n      <td>6.213719</td>\n      <td>0.0</td>\n      <td>0.0</td>\n      <td>0.0</td>\n      <td>0.0</td>\n      <td>0.0</td>\n    </tr>\n    <tr>\n      <th>1</th>\n      <td>21.0</td>\n      <td>1.0</td>\n      <td>3.0</td>\n      <td>557526.0</td>\n      <td>2018.0</td>\n      <td>1620950.0</td>\n      <td>-75.592022</td>\n      <td>6.279157</td>\n      <td>1.0</td>\n      <td>0.0</td>\n      <td>0.0</td>\n      <td>1.0</td>\n      <td>1.0</td>\n    </tr>\n    <tr>\n      <th>2</th>\n      <td>30.0</td>\n      <td>0.0</td>\n      <td>8.0</td>\n      <td>674912.0</td>\n      <td>2018.0</td>\n      <td>1640270.0</td>\n      <td>-75.595882</td>\n      <td>6.275555</td>\n      <td>1.0</td>\n      <td>1.0</td>\n      <td>1.0</td>\n      <td>0.0</td>\n      <td>2.0</td>\n    </tr>\n    <tr>\n      <th>3</th>\n      <td>10.0</td>\n      <td>2.0</td>\n      <td>9.0</td>\n      <td>674286.0</td>\n      <td>2018.0</td>\n      <td>1641770.0</td>\n      <td>-75.567284</td>\n      <td>6.248271</td>\n      <td>2.0</td>\n      <td>1.0</td>\n      <td>1.0</td>\n      <td>0.0</td>\n      <td>3.0</td>\n    </tr>\n    <tr>\n      <th>4</th>\n      <td>12.0</td>\n      <td>3.0</td>\n      <td>10.0</td>\n      <td>681701.0</td>\n      <td>2018.0</td>\n      <td>1645768.0</td>\n      <td>-75.576195</td>\n      <td>6.213677</td>\n      <td>3.0</td>\n      <td>1.0</td>\n      <td>0.0</td>\n      <td>0.0</td>\n      <td>4.0</td>\n    </tr>\n  </tbody>\n</table>\n</div>"
     },
     "metadata": {},
     "execution_count": 50
    }
   ],
   "source": [
    "x.head()"
   ]
  },
  {
   "cell_type": "code",
   "execution_count": 52,
   "metadata": {},
   "outputs": [
    {
     "output_type": "execute_result",
     "data": {
      "text/plain": "array([0, 1, 2], dtype=int64)"
     },
     "metadata": {},
     "execution_count": 52
    }
   ],
   "source": [
    "accidentes['NUM_GRAVEDAD'].unique()"
   ]
  },
  {
   "cell_type": "code",
   "execution_count": 53,
   "metadata": {},
   "outputs": [],
   "source": [
    "x.to_csv(\"subMuestra-X.csv\",index = False)"
   ]
  }
 ],
 "metadata": {
  "kernelspec": {
   "display_name": "Python 3",
   "language": "python",
   "name": "python3"
  },
  "language_info": {
   "codemirror_mode": {
    "name": "ipython",
    "version": 3
   },
   "file_extension": ".py",
   "mimetype": "text/x-python",
   "name": "python",
   "nbconvert_exporter": "python",
   "pygments_lexer": "ipython3",
   "version": "3.7.3-final"
  }
 },
 "nbformat": 4,
 "nbformat_minor": 4
}