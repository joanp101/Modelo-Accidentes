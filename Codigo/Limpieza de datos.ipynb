{
 "cells": [
  {
   "cell_type": "code",
   "execution_count": 1,
   "metadata": {},
   "outputs": [],
   "source": [
    "import warnings\n",
    "\n",
    "warnings.simplefilter(\"ignore\")"
   ]
  },
  {
   "cell_type": "code",
   "execution_count": 2,
   "metadata": {},
   "outputs": [],
   "source": [
    "%matplotlib inline\n",
    "\n",
    "import numpy as np\n",
    "import pandas as pd\n",
    "import matplotlib.pyplot as plt\n",
    "import seaborn as ssb\n",
    "\n"
   ]
  },
  {
   "cell_type": "code",
   "execution_count": 3,
   "metadata": {},
   "outputs": [],
   "source": [
    "accidentes = pd.read_csv(\"C:/Users/sergi/modalidad/DataSet/Accidentalidad.csv\",encoding='utf-8')"
   ]
  },
  {
   "cell_type": "code",
   "execution_count": 4,
   "metadata": {
    "scrolled": false
   },
   "outputs": [
    {
     "data": {
      "text/html": [
       "<div>\n",
       "<style scoped>\n",
       "    .dataframe tbody tr th:only-of-type {\n",
       "        vertical-align: middle;\n",
       "    }\n",
       "\n",
       "    .dataframe tbody tr th {\n",
       "        vertical-align: top;\n",
       "    }\n",
       "\n",
       "    .dataframe thead th {\n",
       "        text-align: right;\n",
       "    }\n",
       "</style>\n",
       "<table border=\"1\" class=\"dataframe\">\n",
       "  <thead>\n",
       "    <tr style=\"text-align: right;\">\n",
       "      <th></th>\n",
       "      <th>X</th>\n",
       "      <th>Y</th>\n",
       "      <th>OBJECTID</th>\n",
       "      <th>RADICADO</th>\n",
       "      <th>FECHA</th>\n",
       "      <th>HORA</th>\n",
       "      <th>DIA</th>\n",
       "      <th>PERIODO</th>\n",
       "      <th>CLASE</th>\n",
       "      <th>DIRECCION</th>\n",
       "      <th>DIRECCION_ENC</th>\n",
       "      <th>CBML</th>\n",
       "      <th>TIPO_GEOCOD</th>\n",
       "      <th>GRAVEDAD</th>\n",
       "      <th>BARRIO</th>\n",
       "      <th>COMUNA</th>\n",
       "      <th>DISENO</th>\n",
       "      <th>DIA_NOMBRE</th>\n",
       "      <th>MES</th>\n",
       "      <th>MES_NOMBRE</th>\n",
       "    </tr>\n",
       "  </thead>\n",
       "  <tbody>\n",
       "    <tr>\n",
       "      <th>0</th>\n",
       "      <td>-75.578357</td>\n",
       "      <td>6.213719</td>\n",
       "      <td>673380</td>\n",
       "      <td>1642888.0</td>\n",
       "      <td>2018-09-20T00:00:00.000Z</td>\n",
       "      <td>02:10:00 p. m.</td>\n",
       "      <td>20</td>\n",
       "      <td>2018</td>\n",
       "      <td>Choque</td>\n",
       "      <td>CR 50 FF CL 9 AA</td>\n",
       "      <td>CR  050 FF  009 AA 000 00000</td>\n",
       "      <td>1507</td>\n",
       "      <td>Malla vial aproximada: CR 50-10</td>\n",
       "      <td>HERIDO</td>\n",
       "      <td>Campo Amor</td>\n",
       "      <td>Guayabal</td>\n",
       "      <td>Tramo de via</td>\n",
       "      <td>JUEVES</td>\n",
       "      <td>9</td>\n",
       "      <td>SEPTIEMBRE</td>\n",
       "    </tr>\n",
       "    <tr>\n",
       "      <th>1</th>\n",
       "      <td>-75.592022</td>\n",
       "      <td>6.279157</td>\n",
       "      <td>557526</td>\n",
       "      <td>1620950.0</td>\n",
       "      <td>2018-03-21T00:00:00.000Z</td>\n",
       "      <td>08:30 PM</td>\n",
       "      <td>21</td>\n",
       "      <td>2018</td>\n",
       "      <td>Atropello</td>\n",
       "      <td>CL 76 AE CR 83</td>\n",
       "      <td>CL  076 AE  083  000 00000</td>\n",
       "      <td>0715</td>\n",
       "      <td>Malla vial</td>\n",
       "      <td>HERIDO</td>\n",
       "      <td>Villa Flora</td>\n",
       "      <td>Robledo</td>\n",
       "      <td>Tramo de via</td>\n",
       "      <td>MIÉRCOLES</td>\n",
       "      <td>3</td>\n",
       "      <td>MARZO</td>\n",
       "    </tr>\n",
       "    <tr>\n",
       "      <th>2</th>\n",
       "      <td>-75.595882</td>\n",
       "      <td>6.275555</td>\n",
       "      <td>674912</td>\n",
       "      <td>1640270.0</td>\n",
       "      <td>2018-08-30T00:00:00.000Z</td>\n",
       "      <td>09:20:00 p. m.</td>\n",
       "      <td>30</td>\n",
       "      <td>2018</td>\n",
       "      <td>Choque</td>\n",
       "      <td>CR 85 CL 65</td>\n",
       "      <td>CR  085   065  000 00000</td>\n",
       "      <td>0717</td>\n",
       "      <td>Malla vial</td>\n",
       "      <td>SOLO DAÑOS</td>\n",
       "      <td>Robledo</td>\n",
       "      <td>Robledo</td>\n",
       "      <td>Interseccion</td>\n",
       "      <td>JUEVES</td>\n",
       "      <td>8</td>\n",
       "      <td>AGOSTO</td>\n",
       "    </tr>\n",
       "    <tr>\n",
       "      <th>3</th>\n",
       "      <td>-75.567284</td>\n",
       "      <td>6.248271</td>\n",
       "      <td>674286</td>\n",
       "      <td>1641770.0</td>\n",
       "      <td>2018-09-10T00:00:00.000Z</td>\n",
       "      <td>08:50:00 a. m.</td>\n",
       "      <td>10</td>\n",
       "      <td>2018</td>\n",
       "      <td>Choque</td>\n",
       "      <td>CL 49 A CR 49</td>\n",
       "      <td>CL  049 A   049  000 00000</td>\n",
       "      <td>1019</td>\n",
       "      <td>Malla vial aproximada: CL 49-49</td>\n",
       "      <td>SOLO DAÑOS</td>\n",
       "      <td>La Candelaria</td>\n",
       "      <td>La Candelaria</td>\n",
       "      <td>Interseccion</td>\n",
       "      <td>LUNES</td>\n",
       "      <td>9</td>\n",
       "      <td>SEPTIEMBRE</td>\n",
       "    </tr>\n",
       "    <tr>\n",
       "      <th>4</th>\n",
       "      <td>-75.576195</td>\n",
       "      <td>6.213677</td>\n",
       "      <td>681701</td>\n",
       "      <td>1645768.0</td>\n",
       "      <td>2018-10-12T00:00:00.000Z</td>\n",
       "      <td>06:18:00 p. m.</td>\n",
       "      <td>12</td>\n",
       "      <td>2018</td>\n",
       "      <td>Choque</td>\n",
       "      <td>CR 48 DD CL 9</td>\n",
       "      <td>CR  048 DD  009  000 00000</td>\n",
       "      <td>1419</td>\n",
       "      <td>Malla vial aproximada: CR 48-10</td>\n",
       "      <td>SOLO DAÑOS</td>\n",
       "      <td>Manila</td>\n",
       "      <td>El Poblado</td>\n",
       "      <td>Tramo de via</td>\n",
       "      <td>VIERNES</td>\n",
       "      <td>10</td>\n",
       "      <td>OCTUBRE</td>\n",
       "    </tr>\n",
       "  </tbody>\n",
       "</table>\n",
       "</div>"
      ],
      "text/plain": [
       "           X         Y  OBJECTID   RADICADO                     FECHA  \\\n",
       "0 -75.578357  6.213719    673380  1642888.0  2018-09-20T00:00:00.000Z   \n",
       "1 -75.592022  6.279157    557526  1620950.0  2018-03-21T00:00:00.000Z   \n",
       "2 -75.595882  6.275555    674912  1640270.0  2018-08-30T00:00:00.000Z   \n",
       "3 -75.567284  6.248271    674286  1641770.0  2018-09-10T00:00:00.000Z   \n",
       "4 -75.576195  6.213677    681701  1645768.0  2018-10-12T00:00:00.000Z   \n",
       "\n",
       "             HORA  DIA  PERIODO      CLASE         DIRECCION  \\\n",
       "0  02:10:00 p. m.   20     2018     Choque  CR 50 FF CL 9 AA   \n",
       "1        08:30 PM   21     2018  Atropello    CL 76 AE CR 83   \n",
       "2  09:20:00 p. m.   30     2018     Choque       CR 85 CL 65   \n",
       "3  08:50:00 a. m.   10     2018     Choque     CL 49 A CR 49   \n",
       "4  06:18:00 p. m.   12     2018     Choque     CR 48 DD CL 9   \n",
       "\n",
       "                  DIRECCION_ENC  CBML                      TIPO_GEOCOD  \\\n",
       "0  CR  050 FF  009 AA 000 00000  1507  Malla vial aproximada: CR 50-10   \n",
       "1    CL  076 AE  083  000 00000  0715                       Malla vial   \n",
       "2      CR  085   065  000 00000  0717                       Malla vial   \n",
       "3    CL  049 A   049  000 00000  1019  Malla vial aproximada: CL 49-49   \n",
       "4    CR  048 DD  009  000 00000  1419  Malla vial aproximada: CR 48-10   \n",
       "\n",
       "     GRAVEDAD         BARRIO         COMUNA        DISENO DIA_NOMBRE  MES  \\\n",
       "0      HERIDO     Campo Amor       Guayabal  Tramo de via  JUEVES       9   \n",
       "1      HERIDO    Villa Flora        Robledo  Tramo de via  MIÉRCOLES    3   \n",
       "2  SOLO DAÑOS        Robledo        Robledo  Interseccion  JUEVES       8   \n",
       "3  SOLO DAÑOS  La Candelaria  La Candelaria  Interseccion  LUNES        9   \n",
       "4  SOLO DAÑOS         Manila     El Poblado  Tramo de via  VIERNES     10   \n",
       "\n",
       "   MES_NOMBRE  \n",
       "0  SEPTIEMBRE  \n",
       "1       MARZO  \n",
       "2      AGOSTO  \n",
       "3  SEPTIEMBRE  \n",
       "4     OCTUBRE  "
      ]
     },
     "execution_count": 4,
     "metadata": {},
     "output_type": "execute_result"
    }
   ],
   "source": [
    "accidentes.head(5)"
   ]
  },
  {
   "cell_type": "code",
   "execution_count": 5,
   "metadata": {},
   "outputs": [
    {
     "data": {
      "text/plain": [
       "(35619, 20)"
      ]
     },
     "execution_count": 5,
     "metadata": {},
     "output_type": "execute_result"
    }
   ],
   "source": [
    "accidentes.shape"
   ]
  },
  {
   "cell_type": "markdown",
   "metadata": {},
   "source": [
    "Cambiamos el nombre de la columna DIA_NOMBRE por DIA_NUMERO"
   ]
  },
  {
   "cell_type": "code",
   "execution_count": 6,
   "metadata": {},
   "outputs": [],
   "source": [
    "accidentes = accidentes.rename(columns={'DIA_NOMBRE':'DIA_SEMANA'})"
   ]
  },
  {
   "cell_type": "markdown",
   "metadata": {},
   "source": [
    "\n",
    "Cambiando los valores de las columna DIA_NOMBRE por los dias numericos de la semana 1:7"
   ]
  },
  {
   "cell_type": "code",
   "execution_count": 7,
   "metadata": {},
   "outputs": [],
   "source": [
    "accidentes.DIA_SEMANA = accidentes.DIA_SEMANA.str.replace('LUNES','1')\n",
    "accidentes.DIA_SEMANA = accidentes.DIA_SEMANA.str.replace('MARTES', '2')\n",
    "accidentes.DIA_SEMANA = accidentes.DIA_SEMANA.str.replace('MIÉRCOLES', '3')\n",
    "accidentes.DIA_SEMANA = accidentes.DIA_SEMANA.str.replace('JUEVES', '4')\n",
    "accidentes.DIA_SEMANA = accidentes.DIA_SEMANA.str.replace('VIERNES', '5')\n",
    "accidentes.DIA_SEMANA = accidentes.DIA_SEMANA.str.replace('SÁBADO', '6')\n",
    "accidentes.DIA_SEMANA = accidentes.DIA_SEMANA.str.replace('DOMINGO', '7')"
   ]
  },
  {
   "cell_type": "code",
   "execution_count": 8,
   "metadata": {},
   "outputs": [],
   "source": [
    "accidentes['NUM_COMUNA'] = accidentes['COMUNA']"
   ]
  },
  {
   "cell_type": "markdown",
   "metadata": {},
   "source": [
    "Cambiamos los valores de la columna COMUNA y los pasamos por su representación numerica\n",
    "\n",
    "Nota importante : a los corregimientos tambien se le asignaron un numero, despues del 17"
   ]
  },
  {
   "cell_type": "code",
   "execution_count": 9,
   "metadata": {},
   "outputs": [],
   "source": [
    "accidentes.NUM_COMUNA = accidentes.NUM_COMUNA.replace({\"Popular\":1, \"Santa Cruz\":2, \"Manrique\": 3 , \"Aranjuez\":4, \"Castilla\":5,\n",
    "                                               \"Doce de Octubre\":6, \"Robledo\":7, \"Villa Hermosa\":8, \"Buenos Aires\":9,\n",
    "                                               \"La Candelaria\": 10, \"Laureles Estadio\": 11, \"La América\":12, \"San Javier\": 13,\n",
    "                                              \"El Poblado\": 14, \"Guayabal\":15, \"Belén\":16 , \"Corregimiento de Santa Elena\":17,\n",
    "                                              \"Corregimiento de Altavista\":18, \"Corregimiento de San Sebastián de Palmitas\":19,\n",
    "                                              \"Corregimiento de San Antonio de Prado\":20, \"Corregimiento de San Cristóbal\":21})"
   ]
  },
  {
   "cell_type": "code",
   "execution_count": 10,
   "metadata": {
    "scrolled": false
   },
   "outputs": [
    {
     "name": "stdout",
     "output_type": "stream",
     "text": [
      "Cambiamos los valores de la columna GRAVEDAD donde\n",
      "\n",
      "1 = HERIDO\n",
      "2 = SOLO DAÑOS\n",
      "3 = MUERTO\n"
     ]
    }
   ],
   "source": [
    "accidentes['NUM_GRAVEDAD'] = accidentes['GRAVEDAD']\n",
    "\n",
    "print(f'Cambiamos los valores de la columna GRAVEDAD donde\\n')\n",
    "print(f'1 = HERIDO\\n2 = SOLO DAÑOS\\n3 = MUERTO')\n",
    "\n"
   ]
  },
  {
   "cell_type": "code",
   "execution_count": 11,
   "metadata": {},
   "outputs": [
    {
     "data": {
      "text/plain": [
       "HERIDO        18773\n",
       "SOLO DAÑOS    16622\n",
       "MUERTO          224\n",
       "Name: NUM_GRAVEDAD, dtype: int64"
      ]
     },
     "execution_count": 11,
     "metadata": {},
     "output_type": "execute_result"
    }
   ],
   "source": [
    "accidentes['NUM_GRAVEDAD'].value_counts()"
   ]
  },
  {
   "cell_type": "code",
   "execution_count": 12,
   "metadata": {},
   "outputs": [],
   "source": [
    "accidentes.NUM_GRAVEDAD = accidentes.NUM_GRAVEDAD.replace({\"HERIDO\":1,\"SOLO DAÑOS\":2,\"MUERTO\":3,})"
   ]
  },
  {
   "cell_type": "code",
   "execution_count": 13,
   "metadata": {
    "scrolled": true
   },
   "outputs": [
    {
     "name": "stdout",
     "output_type": "stream",
     "text": [
      "Cambiamos los valores de la columna DISENO donde\n",
      "\n",
      "1 = Tramo de via\n",
      "2 = Interseccion\n",
      "3 = Lote o Predio\n",
      "4 = Glorieta\n",
      "5 = Paso Inferior\n",
      "6 = Paso Elevado\n",
      "7 = Puente\n",
      "8 = Ciclo Ruta\n",
      "9 = Paso a Nivel\n",
      "10 = Via peatonal\n",
      "11 = Tunel\n",
      "12 = Pontón\n"
     ]
    }
   ],
   "source": [
    "accidentes['NUM_DISENO'] = accidentes['DISENO']\n",
    "\n",
    "print(f'Cambiamos los valores de la columna DISENO donde\\n')\n",
    "print(f'1 = Tramo de via\\n2 = Interseccion\\n3 = Lote o Predio\\n4 = Glorieta\\n5 = Paso Inferior\\n6 = Paso Elevado\\n7 = Puente\\n8 = Ciclo Ruta\\n9 = Paso a Nivel\\n10 = Via peatonal\\n11 = Tunel\\n12 = Pontón')\n",
    "\n"
   ]
  },
  {
   "cell_type": "code",
   "execution_count": 14,
   "metadata": {},
   "outputs": [],
   "source": [
    "accidentes.NUM_DISENO = accidentes.NUM_DISENO.replace({\"Tramo de via\":1,\"Interseccion\":2,\"Lote o Predio\":3,\"Glorieta\":4,\"Paso Inferior\":5,\"Paso Elevado\":6,\"Puente\":7,\"Ciclo Ruta\":8,\"Paso a Nivel\":9,\"Via peatonal\":10,\"Tunel\":11,\"Pontón\":12})"
   ]
  },
  {
   "cell_type": "code",
   "execution_count": 15,
   "metadata": {},
   "outputs": [
    {
     "data": {
      "text/plain": [
       "array(['Choque', 'Atropello', 'Volcamiento', 'Otro', 'Caida Ocupante',\n",
       "       'Caída Ocupante', 'Incendio'], dtype=object)"
      ]
     },
     "execution_count": 15,
     "metadata": {},
     "output_type": "execute_result"
    }
   ],
   "source": [
    "accidentes['CLASE'].unique()"
   ]
  },
  {
   "cell_type": "code",
   "execution_count": 16,
   "metadata": {},
   "outputs": [
    {
     "name": "stdout",
     "output_type": "stream",
     "text": [
      "Cambiamos los valores de la columna CLASE donde\n",
      "\n",
      "1 = Choque\n",
      "2 = Atropello\n",
      "3 = Volcamiento\n",
      "4 = Caida Ocupante\n",
      "5 = Incendio\n",
      "6 = Otro\n",
      "\n"
     ]
    }
   ],
   "source": [
    "accidentes['NUM_CLASE'] = accidentes['CLASE']\n",
    "\n",
    "\n",
    "print(f'Cambiamos los valores de la columna CLASE donde\\n')\n",
    "print(f'1 = Choque\\n2 = Atropello\\n3 = Volcamiento\\n4 = Caida Ocupante\\n5 = Incendio\\n6 = Otro\\n')\n"
   ]
  },
  {
   "cell_type": "code",
   "execution_count": 17,
   "metadata": {},
   "outputs": [],
   "source": [
    "accidentes.NUM_CLASE = accidentes.NUM_CLASE.replace({\"Choque\":1,\"Atropello\":2,\"Volcamiento\":3,\"Caida Ocupante\":4,\"Incendio\":5,\"Otro\":6})"
   ]
  },
  {
   "cell_type": "markdown",
   "metadata": {},
   "source": [
    "Eliminamos las filas que contenian datos vacios, para contar con la misma dimension de los mismos"
   ]
  },
  {
   "cell_type": "code",
   "execution_count": 18,
   "metadata": {
    "scrolled": true
   },
   "outputs": [
    {
     "data": {
      "text/plain": [
       "(35472, 24)"
      ]
     },
     "execution_count": 18,
     "metadata": {},
     "output_type": "execute_result"
    }
   ],
   "source": [
    "#Eliminamos las filas de las columnas que no tienen información   \n",
    "accidentes = accidentes.drop(accidentes[accidentes['COMUNA']=='Sin Inf'].index)\n",
    "\n",
    "accidentes.drop(accidentes[accidentes.CBML.isnull()].index, inplace = True)\n",
    "accidentes.drop(accidentes[accidentes.BARRIO.isnull()].index, inplace = True)\n",
    "accidentes.drop(accidentes[accidentes.COMUNA.isnull()].index, inplace = True)\n",
    "accidentes.drop(accidentes[accidentes.DISENO.isnull()].index, inplace = True)\n",
    "\n",
    "accidentes.shape"
   ]
  },
  {
   "cell_type": "code",
   "execution_count": 19,
   "metadata": {
    "scrolled": true
   },
   "outputs": [
    {
     "data": {
      "text/html": [
       "<div>\n",
       "<style scoped>\n",
       "    .dataframe tbody tr th:only-of-type {\n",
       "        vertical-align: middle;\n",
       "    }\n",
       "\n",
       "    .dataframe tbody tr th {\n",
       "        vertical-align: top;\n",
       "    }\n",
       "\n",
       "    .dataframe thead th {\n",
       "        text-align: right;\n",
       "    }\n",
       "</style>\n",
       "<table border=\"1\" class=\"dataframe\">\n",
       "  <thead>\n",
       "    <tr style=\"text-align: right;\">\n",
       "      <th></th>\n",
       "      <th>X</th>\n",
       "      <th>Y</th>\n",
       "      <th>OBJECTID</th>\n",
       "      <th>RADICADO</th>\n",
       "      <th>FECHA</th>\n",
       "      <th>HORA</th>\n",
       "      <th>DIA</th>\n",
       "      <th>PERIODO</th>\n",
       "      <th>CLASE</th>\n",
       "      <th>DIRECCION</th>\n",
       "      <th>...</th>\n",
       "      <th>BARRIO</th>\n",
       "      <th>COMUNA</th>\n",
       "      <th>DISENO</th>\n",
       "      <th>DIA_SEMANA</th>\n",
       "      <th>MES</th>\n",
       "      <th>MES_NOMBRE</th>\n",
       "      <th>NUM_COMUNA</th>\n",
       "      <th>NUM_GRAVEDAD</th>\n",
       "      <th>NUM_DISENO</th>\n",
       "      <th>NUM_CLASE</th>\n",
       "    </tr>\n",
       "  </thead>\n",
       "  <tbody>\n",
       "    <tr>\n",
       "      <th>0</th>\n",
       "      <td>-75.578357</td>\n",
       "      <td>6.213719</td>\n",
       "      <td>673380</td>\n",
       "      <td>1642888.0</td>\n",
       "      <td>2018-09-20T00:00:00.000Z</td>\n",
       "      <td>02:10:00 p. m.</td>\n",
       "      <td>20</td>\n",
       "      <td>2018</td>\n",
       "      <td>Choque</td>\n",
       "      <td>CR 50 FF CL 9 AA</td>\n",
       "      <td>...</td>\n",
       "      <td>Campo Amor</td>\n",
       "      <td>Guayabal</td>\n",
       "      <td>Tramo de via</td>\n",
       "      <td>4</td>\n",
       "      <td>9</td>\n",
       "      <td>SEPTIEMBRE</td>\n",
       "      <td>15</td>\n",
       "      <td>1</td>\n",
       "      <td>1.0</td>\n",
       "      <td>1</td>\n",
       "    </tr>\n",
       "    <tr>\n",
       "      <th>1</th>\n",
       "      <td>-75.592022</td>\n",
       "      <td>6.279157</td>\n",
       "      <td>557526</td>\n",
       "      <td>1620950.0</td>\n",
       "      <td>2018-03-21T00:00:00.000Z</td>\n",
       "      <td>08:30 PM</td>\n",
       "      <td>21</td>\n",
       "      <td>2018</td>\n",
       "      <td>Atropello</td>\n",
       "      <td>CL 76 AE CR 83</td>\n",
       "      <td>...</td>\n",
       "      <td>Villa Flora</td>\n",
       "      <td>Robledo</td>\n",
       "      <td>Tramo de via</td>\n",
       "      <td>3</td>\n",
       "      <td>3</td>\n",
       "      <td>MARZO</td>\n",
       "      <td>7</td>\n",
       "      <td>1</td>\n",
       "      <td>1.0</td>\n",
       "      <td>2</td>\n",
       "    </tr>\n",
       "    <tr>\n",
       "      <th>2</th>\n",
       "      <td>-75.595882</td>\n",
       "      <td>6.275555</td>\n",
       "      <td>674912</td>\n",
       "      <td>1640270.0</td>\n",
       "      <td>2018-08-30T00:00:00.000Z</td>\n",
       "      <td>09:20:00 p. m.</td>\n",
       "      <td>30</td>\n",
       "      <td>2018</td>\n",
       "      <td>Choque</td>\n",
       "      <td>CR 85 CL 65</td>\n",
       "      <td>...</td>\n",
       "      <td>Robledo</td>\n",
       "      <td>Robledo</td>\n",
       "      <td>Interseccion</td>\n",
       "      <td>4</td>\n",
       "      <td>8</td>\n",
       "      <td>AGOSTO</td>\n",
       "      <td>7</td>\n",
       "      <td>2</td>\n",
       "      <td>2.0</td>\n",
       "      <td>1</td>\n",
       "    </tr>\n",
       "    <tr>\n",
       "      <th>3</th>\n",
       "      <td>-75.567284</td>\n",
       "      <td>6.248271</td>\n",
       "      <td>674286</td>\n",
       "      <td>1641770.0</td>\n",
       "      <td>2018-09-10T00:00:00.000Z</td>\n",
       "      <td>08:50:00 a. m.</td>\n",
       "      <td>10</td>\n",
       "      <td>2018</td>\n",
       "      <td>Choque</td>\n",
       "      <td>CL 49 A CR 49</td>\n",
       "      <td>...</td>\n",
       "      <td>La Candelaria</td>\n",
       "      <td>La Candelaria</td>\n",
       "      <td>Interseccion</td>\n",
       "      <td>1</td>\n",
       "      <td>9</td>\n",
       "      <td>SEPTIEMBRE</td>\n",
       "      <td>10</td>\n",
       "      <td>2</td>\n",
       "      <td>2.0</td>\n",
       "      <td>1</td>\n",
       "    </tr>\n",
       "    <tr>\n",
       "      <th>4</th>\n",
       "      <td>-75.576195</td>\n",
       "      <td>6.213677</td>\n",
       "      <td>681701</td>\n",
       "      <td>1645768.0</td>\n",
       "      <td>2018-10-12T00:00:00.000Z</td>\n",
       "      <td>06:18:00 p. m.</td>\n",
       "      <td>12</td>\n",
       "      <td>2018</td>\n",
       "      <td>Choque</td>\n",
       "      <td>CR 48 DD CL 9</td>\n",
       "      <td>...</td>\n",
       "      <td>Manila</td>\n",
       "      <td>El Poblado</td>\n",
       "      <td>Tramo de via</td>\n",
       "      <td>5</td>\n",
       "      <td>10</td>\n",
       "      <td>OCTUBRE</td>\n",
       "      <td>14</td>\n",
       "      <td>2</td>\n",
       "      <td>1.0</td>\n",
       "      <td>1</td>\n",
       "    </tr>\n",
       "  </tbody>\n",
       "</table>\n",
       "<p>5 rows × 24 columns</p>\n",
       "</div>"
      ],
      "text/plain": [
       "           X         Y  OBJECTID   RADICADO                     FECHA  \\\n",
       "0 -75.578357  6.213719    673380  1642888.0  2018-09-20T00:00:00.000Z   \n",
       "1 -75.592022  6.279157    557526  1620950.0  2018-03-21T00:00:00.000Z   \n",
       "2 -75.595882  6.275555    674912  1640270.0  2018-08-30T00:00:00.000Z   \n",
       "3 -75.567284  6.248271    674286  1641770.0  2018-09-10T00:00:00.000Z   \n",
       "4 -75.576195  6.213677    681701  1645768.0  2018-10-12T00:00:00.000Z   \n",
       "\n",
       "             HORA  DIA  PERIODO      CLASE         DIRECCION  ...  \\\n",
       "0  02:10:00 p. m.   20     2018     Choque  CR 50 FF CL 9 AA  ...   \n",
       "1        08:30 PM   21     2018  Atropello    CL 76 AE CR 83  ...   \n",
       "2  09:20:00 p. m.   30     2018     Choque       CR 85 CL 65  ...   \n",
       "3  08:50:00 a. m.   10     2018     Choque     CL 49 A CR 49  ...   \n",
       "4  06:18:00 p. m.   12     2018     Choque     CR 48 DD CL 9  ...   \n",
       "\n",
       "          BARRIO         COMUNA        DISENO DIA_SEMANA MES  MES_NOMBRE  \\\n",
       "0     Campo Amor       Guayabal  Tramo de via       4      9  SEPTIEMBRE   \n",
       "1    Villa Flora        Robledo  Tramo de via          3   3       MARZO   \n",
       "2        Robledo        Robledo  Interseccion       4      8      AGOSTO   \n",
       "3  La Candelaria  La Candelaria  Interseccion      1       9  SEPTIEMBRE   \n",
       "4         Manila     El Poblado  Tramo de via        5    10     OCTUBRE   \n",
       "\n",
       "  NUM_COMUNA NUM_GRAVEDAD  NUM_DISENO NUM_CLASE  \n",
       "0         15            1         1.0         1  \n",
       "1          7            1         1.0         2  \n",
       "2          7            2         2.0         1  \n",
       "3         10            2         2.0         1  \n",
       "4         14            2         1.0         1  \n",
       "\n",
       "[5 rows x 24 columns]"
      ]
     },
     "execution_count": 19,
     "metadata": {},
     "output_type": "execute_result"
    }
   ],
   "source": [
    "accidentes.head(5)"
   ]
  },
  {
   "cell_type": "code",
   "execution_count": 21,
   "metadata": {},
   "outputs": [
    {
     "data": {
      "text/plain": [
       "array([15, 7, 10, 14, 12, 3, 9, 11, 8, 20, 4, 16, 5, 21, 2, 6, 1, 17, 13,\n",
       "       18], dtype=object)"
      ]
     },
     "execution_count": 21,
     "metadata": {},
     "output_type": "execute_result"
    }
   ],
   "source": [
    "accidentes['NUM_COMUNA'].unique()"
   ]
  },
  {
   "cell_type": "markdown",
   "metadata": {},
   "source": [
    "cambiamos el tipo de dato de Object a int en las columnas DIA_NUMERO,CBML,NUM_COMUNA"
   ]
  },
  {
   "cell_type": "code",
   "execution_count": 22,
   "metadata": {},
   "outputs": [],
   "source": [
    "accidentes[['DIA_SEMANA','CBML','NUM_DISENO','NUM_CLASE','NUM_GRAVEDAD','NUM_COMUNA']] = accidentes[['DIA_SEMANA','CBML','NUM_DISENO','NUM_CLASE','NUM_GRAVEDAD','NUM_COMUNA']].astype('int64')\n",
    "\n"
   ]
  },
  {
   "cell_type": "code",
   "execution_count": 24,
   "metadata": {},
   "outputs": [
    {
     "data": {
      "text/plain": [
       "Index(['X', 'Y', 'OBJECTID', 'RADICADO', 'FECHA', 'HORA', 'DIA', 'PERIODO',\n",
       "       'CLASE', 'DIRECCION', 'DIRECCION_ENC', 'CBML', 'TIPO_GEOCOD',\n",
       "       'GRAVEDAD', 'BARRIO', 'COMUNA', 'DISENO', 'DIA_SEMANA', 'MES',\n",
       "       'MES_NOMBRE', 'NUM_COMUNA', 'NUM_GRAVEDAD', 'NUM_DISENO', 'NUM_CLASE'],\n",
       "      dtype='object')"
      ]
     },
     "execution_count": 24,
     "metadata": {},
     "output_type": "execute_result"
    }
   ],
   "source": [
    "accidentes.columns"
   ]
  },
  {
   "cell_type": "code",
   "execution_count": 25,
   "metadata": {},
   "outputs": [
    {
     "data": {
      "text/plain": [
       "(35472, 24)"
      ]
     },
     "execution_count": 25,
     "metadata": {},
     "output_type": "execute_result"
    }
   ],
   "source": [
    "accidentes.shape"
   ]
  },
  {
   "cell_type": "code",
   "execution_count": 26,
   "metadata": {},
   "outputs": [
    {
     "data": {
      "text/plain": [
       "X                                -75.6028\n",
       "Y                                   6.241\n",
       "OBJECTID                           685200\n",
       "RADICADO                      1.65139e+06\n",
       "FECHA            2018-11-27T00:00:00.000Z\n",
       "HORA                       11:50:00 a. m.\n",
       "DIA                                    27\n",
       "PERIODO                              2018\n",
       "CLASE                              Choque\n",
       "DIRECCION                     CR 81 CL 34\n",
       "DIRECCION_ENC    CR  081   034  000 00000\n",
       "CBML                                 1109\n",
       "TIPO_GEOCOD                    Malla vial\n",
       "GRAVEDAD                       SOLO DAÑOS\n",
       "BARRIO                        Las Acacias\n",
       "COMUNA                   Laureles Estadio\n",
       "DISENO                       Tramo de via\n",
       "DIA_SEMANA                              2\n",
       "MES                                    11\n",
       "MES_NOMBRE                      NOVIEMBRE\n",
       "NUM_COMUNA                             11\n",
       "NUM_GRAVEDAD                            2\n",
       "NUM_DISENO                              1\n",
       "NUM_CLASE                               1\n",
       "Name: 10, dtype: object"
      ]
     },
     "execution_count": 26,
     "metadata": {},
     "output_type": "execute_result"
    }
   ],
   "source": [
    "linea = accidentes.loc[10,:]\n",
    "linea"
   ]
  },
  {
   "cell_type": "markdown",
   "metadata": {},
   "source": [
    "# Inspeccionar nuestros datos"
   ]
  },
  {
   "cell_type": "code",
   "execution_count": 27,
   "metadata": {},
   "outputs": [
    {
     "name": "stdout",
     "output_type": "stream",
     "text": [
      "<class 'pandas.core.frame.DataFrame'>\n",
      "Int64Index: 35472 entries, 0 to 35618\n",
      "Data columns (total 24 columns):\n",
      " #   Column         Non-Null Count  Dtype  \n",
      "---  ------         --------------  -----  \n",
      " 0   X              35472 non-null  float64\n",
      " 1   Y              35472 non-null  float64\n",
      " 2   OBJECTID       35472 non-null  int64  \n",
      " 3   RADICADO       35472 non-null  float64\n",
      " 4   FECHA          35472 non-null  object \n",
      " 5   HORA           35472 non-null  object \n",
      " 6   DIA            35472 non-null  int64  \n",
      " 7   PERIODO        35472 non-null  int64  \n",
      " 8   CLASE          35472 non-null  object \n",
      " 9   DIRECCION      35472 non-null  object \n",
      " 10  DIRECCION_ENC  35472 non-null  object \n",
      " 11  CBML           35472 non-null  int64  \n",
      " 12  TIPO_GEOCOD    35472 non-null  object \n",
      " 13  GRAVEDAD       35472 non-null  object \n",
      " 14  BARRIO         35472 non-null  object \n",
      " 15  COMUNA         35472 non-null  object \n",
      " 16  DISENO         35472 non-null  object \n",
      " 17  DIA_SEMANA     35472 non-null  int64  \n",
      " 18  MES            35472 non-null  int64  \n",
      " 19  MES_NOMBRE     35472 non-null  object \n",
      " 20  NUM_COMUNA     35472 non-null  int64  \n",
      " 21  NUM_GRAVEDAD   35472 non-null  int64  \n",
      " 22  NUM_DISENO     35472 non-null  int64  \n",
      " 23  NUM_CLASE      35472 non-null  int64  \n",
      "dtypes: float64(3), int64(10), object(11)\n",
      "memory usage: 8.0+ MB\n"
     ]
    }
   ],
   "source": [
    "accidentes.info()"
   ]
  },
  {
   "cell_type": "markdown",
   "metadata": {},
   "source": [
    "Columnas numericas y columnas de texto\n",
    "\n"
   ]
  },
  {
   "cell_type": "code",
   "execution_count": 28,
   "metadata": {},
   "outputs": [
    {
     "data": {
      "text/plain": [
       "X                 True\n",
       "Y                 True\n",
       "OBJECTID          True\n",
       "RADICADO          True\n",
       "FECHA            False\n",
       "HORA             False\n",
       "DIA               True\n",
       "PERIODO           True\n",
       "CLASE            False\n",
       "DIRECCION        False\n",
       "DIRECCION_ENC    False\n",
       "CBML              True\n",
       "TIPO_GEOCOD      False\n",
       "GRAVEDAD         False\n",
       "BARRIO           False\n",
       "COMUNA           False\n",
       "DISENO           False\n",
       "DIA_SEMANA        True\n",
       "MES               True\n",
       "MES_NOMBRE       False\n",
       "NUM_COMUNA        True\n",
       "NUM_GRAVEDAD      True\n",
       "NUM_DISENO        True\n",
       "NUM_CLASE         True\n",
       "dtype: bool"
      ]
     },
     "execution_count": 28,
     "metadata": {},
     "output_type": "execute_result"
    }
   ],
   "source": [
    "(accidentes.dtypes != object)\n"
   ]
  },
  {
   "cell_type": "code",
   "execution_count": 29,
   "metadata": {},
   "outputs": [
    {
     "data": {
      "text/plain": [
       "X                False\n",
       "Y                False\n",
       "OBJECTID         False\n",
       "RADICADO         False\n",
       "FECHA             True\n",
       "HORA              True\n",
       "DIA              False\n",
       "PERIODO          False\n",
       "CLASE             True\n",
       "DIRECCION         True\n",
       "DIRECCION_ENC     True\n",
       "CBML             False\n",
       "TIPO_GEOCOD       True\n",
       "GRAVEDAD          True\n",
       "BARRIO            True\n",
       "COMUNA            True\n",
       "DISENO            True\n",
       "DIA_SEMANA       False\n",
       "MES              False\n",
       "MES_NOMBRE        True\n",
       "NUM_COMUNA       False\n",
       "NUM_GRAVEDAD     False\n",
       "NUM_DISENO       False\n",
       "NUM_CLASE        False\n",
       "dtype: bool"
      ]
     },
     "execution_count": 29,
     "metadata": {},
     "output_type": "execute_result"
    }
   ],
   "source": [
    "accidentes.dtypes == object\n"
   ]
  },
  {
   "cell_type": "code",
   "execution_count": 30,
   "metadata": {},
   "outputs": [
    {
     "data": {
      "text/plain": [
       "Index(['X', 'Y', 'OBJECTID', 'RADICADO', 'FECHA', 'HORA', 'DIA', 'PERIODO',\n",
       "       'CLASE', 'DIRECCION', 'DIRECCION_ENC', 'CBML', 'TIPO_GEOCOD',\n",
       "       'GRAVEDAD', 'BARRIO', 'COMUNA', 'DISENO', 'DIA_SEMANA', 'MES',\n",
       "       'MES_NOMBRE', 'NUM_COMUNA', 'NUM_GRAVEDAD', 'NUM_DISENO', 'NUM_CLASE'],\n",
       "      dtype='object')"
      ]
     },
     "execution_count": 30,
     "metadata": {},
     "output_type": "execute_result"
    }
   ],
   "source": [
    "num = (accidentes.dtypes != object )\n",
    "num.index"
   ]
  },
  {
   "cell_type": "code",
   "execution_count": 31,
   "metadata": {},
   "outputs": [
    {
     "name": "stdout",
     "output_type": "stream",
     "text": [
      "X\n",
      "Y\n",
      "OBJECTID\n",
      "RADICADO\n",
      "FECHA\n",
      "HORA\n",
      "DIA\n",
      "PERIODO\n",
      "CLASE\n",
      "DIRECCION\n",
      "DIRECCION_ENC\n",
      "CBML\n",
      "TIPO_GEOCOD\n",
      "GRAVEDAD\n",
      "BARRIO\n",
      "COMUNA\n",
      "DISENO\n",
      "DIA_SEMANA\n",
      "MES\n",
      "MES_NOMBRE\n",
      "NUM_COMUNA\n",
      "NUM_GRAVEDAD\n",
      "NUM_DISENO\n",
      "NUM_CLASE\n"
     ]
    }
   ],
   "source": [
    "for i in num.index:\n",
    "    print(i)"
   ]
  },
  {
   "cell_type": "code",
   "execution_count": 32,
   "metadata": {},
   "outputs": [],
   "source": [
    "num_cols = [c for c in num.index if num[c]]"
   ]
  },
  {
   "cell_type": "code",
   "execution_count": 33,
   "metadata": {},
   "outputs": [
    {
     "data": {
      "text/plain": [
       "['X',\n",
       " 'Y',\n",
       " 'OBJECTID',\n",
       " 'RADICADO',\n",
       " 'DIA',\n",
       " 'PERIODO',\n",
       " 'CBML',\n",
       " 'DIA_SEMANA',\n",
       " 'MES',\n",
       " 'NUM_COMUNA',\n",
       " 'NUM_GRAVEDAD',\n",
       " 'NUM_DISENO',\n",
       " 'NUM_CLASE']"
      ]
     },
     "execution_count": 33,
     "metadata": {},
     "output_type": "execute_result"
    }
   ],
   "source": [
    "num_cols"
   ]
  },
  {
   "cell_type": "code",
   "execution_count": 34,
   "metadata": {},
   "outputs": [
    {
     "data": {
      "text/plain": [
       "X                False\n",
       "Y                False\n",
       "OBJECTID         False\n",
       "RADICADO         False\n",
       "FECHA             True\n",
       "HORA              True\n",
       "DIA              False\n",
       "PERIODO          False\n",
       "CLASE             True\n",
       "DIRECCION         True\n",
       "DIRECCION_ENC     True\n",
       "CBML             False\n",
       "TIPO_GEOCOD       True\n",
       "GRAVEDAD          True\n",
       "BARRIO            True\n",
       "COMUNA            True\n",
       "DISENO            True\n",
       "DIA_SEMANA       False\n",
       "MES              False\n",
       "MES_NOMBRE        True\n",
       "NUM_COMUNA       False\n",
       "NUM_GRAVEDAD     False\n",
       "NUM_DISENO       False\n",
       "NUM_CLASE        False\n",
       "dtype: bool"
      ]
     },
     "execution_count": 34,
     "metadata": {},
     "output_type": "execute_result"
    }
   ],
   "source": [
    "accidentes.dtypes == object"
   ]
  },
  {
   "cell_type": "code",
   "execution_count": 35,
   "metadata": {},
   "outputs": [],
   "source": [
    "obj = (accidentes.dtypes == object)\n",
    "obj_cols =  [c for c in obj.index if obj[c]]"
   ]
  },
  {
   "cell_type": "code",
   "execution_count": 36,
   "metadata": {},
   "outputs": [
    {
     "data": {
      "text/plain": [
       "['FECHA',\n",
       " 'HORA',\n",
       " 'CLASE',\n",
       " 'DIRECCION',\n",
       " 'DIRECCION_ENC',\n",
       " 'TIPO_GEOCOD',\n",
       " 'GRAVEDAD',\n",
       " 'BARRIO',\n",
       " 'COMUNA',\n",
       " 'DISENO',\n",
       " 'MES_NOMBRE']"
      ]
     },
     "execution_count": 36,
     "metadata": {},
     "output_type": "execute_result"
    }
   ],
   "source": [
    "obj_cols"
   ]
  },
  {
   "cell_type": "code",
   "execution_count": 37,
   "metadata": {},
   "outputs": [],
   "source": [
    "accidentes_num = accidentes[num_cols]\n",
    "accidentes_obj = accidentes[obj_cols]"
   ]
  },
  {
   "cell_type": "code",
   "execution_count": 38,
   "metadata": {},
   "outputs": [],
   "source": [
    "accidentes_obj.to_csv(\"C:/Users/sergi/modalidad/Dataset/accidentes_obj.csv\",index = False)"
   ]
  },
  {
   "cell_type": "markdown",
   "metadata": {},
   "source": [
    "# Estadisticas de las columnas"
   ]
  },
  {
   "cell_type": "code",
   "execution_count": 39,
   "metadata": {
    "scrolled": true
   },
   "outputs": [
    {
     "data": {
      "text/html": [
       "<div>\n",
       "<style scoped>\n",
       "    .dataframe tbody tr th:only-of-type {\n",
       "        vertical-align: middle;\n",
       "    }\n",
       "\n",
       "    .dataframe tbody tr th {\n",
       "        vertical-align: top;\n",
       "    }\n",
       "\n",
       "    .dataframe thead th {\n",
       "        text-align: right;\n",
       "    }\n",
       "</style>\n",
       "<table border=\"1\" class=\"dataframe\">\n",
       "  <thead>\n",
       "    <tr style=\"text-align: right;\">\n",
       "      <th></th>\n",
       "      <th>X</th>\n",
       "      <th>Y</th>\n",
       "      <th>OBJECTID</th>\n",
       "      <th>RADICADO</th>\n",
       "      <th>DIA</th>\n",
       "      <th>PERIODO</th>\n",
       "      <th>CBML</th>\n",
       "      <th>DIA_SEMANA</th>\n",
       "      <th>MES</th>\n",
       "      <th>NUM_COMUNA</th>\n",
       "      <th>NUM_GRAVEDAD</th>\n",
       "      <th>NUM_DISENO</th>\n",
       "      <th>NUM_CLASE</th>\n",
       "    </tr>\n",
       "  </thead>\n",
       "  <tbody>\n",
       "    <tr>\n",
       "      <th>count</th>\n",
       "      <td>35472.000000</td>\n",
       "      <td>35472.000000</td>\n",
       "      <td>35472.000000</td>\n",
       "      <td>3.547200e+04</td>\n",
       "      <td>35472.000000</td>\n",
       "      <td>35472.000000</td>\n",
       "      <td>3.547200e+04</td>\n",
       "      <td>35472.000000</td>\n",
       "      <td>35472.000000</td>\n",
       "      <td>35472.000000</td>\n",
       "      <td>35472.000000</td>\n",
       "      <td>35472.000000</td>\n",
       "      <td>35472.000000</td>\n",
       "    </tr>\n",
       "    <tr>\n",
       "      <th>mean</th>\n",
       "      <td>-75.576881</td>\n",
       "      <td>6.250349</td>\n",
       "      <td>669641.569802</td>\n",
       "      <td>1.650399e+06</td>\n",
       "      <td>15.597457</td>\n",
       "      <td>2018.435019</td>\n",
       "      <td>4.046737e+06</td>\n",
       "      <td>3.817715</td>\n",
       "      <td>6.000056</td>\n",
       "      <td>9.908068</td>\n",
       "      <td>1.475276</td>\n",
       "      <td>1.697931</td>\n",
       "      <td>1.896594</td>\n",
       "    </tr>\n",
       "    <tr>\n",
       "      <th>std</th>\n",
       "      <td>0.019220</td>\n",
       "      <td>0.028612</td>\n",
       "      <td>65480.319456</td>\n",
       "      <td>2.245319e+04</td>\n",
       "      <td>8.672317</td>\n",
       "      <td>0.495766</td>\n",
       "      <td>1.598018e+08</td>\n",
       "      <td>1.906274</td>\n",
       "      <td>3.144029</td>\n",
       "      <td>4.313859</td>\n",
       "      <td>0.506570</td>\n",
       "      <td>1.141486</td>\n",
       "      <td>1.615666</td>\n",
       "    </tr>\n",
       "    <tr>\n",
       "      <th>min</th>\n",
       "      <td>-75.684655</td>\n",
       "      <td>6.167769</td>\n",
       "      <td>549559.000000</td>\n",
       "      <td>1.611518e+06</td>\n",
       "      <td>1.000000</td>\n",
       "      <td>2018.000000</td>\n",
       "      <td>1.000000e+01</td>\n",
       "      <td>1.000000</td>\n",
       "      <td>1.000000</td>\n",
       "      <td>1.000000</td>\n",
       "      <td>1.000000</td>\n",
       "      <td>1.000000</td>\n",
       "      <td>1.000000</td>\n",
       "    </tr>\n",
       "    <tr>\n",
       "      <th>25%</th>\n",
       "      <td>-75.586115</td>\n",
       "      <td>6.231943</td>\n",
       "      <td>662493.750000</td>\n",
       "      <td>1.630931e+06</td>\n",
       "      <td>8.000000</td>\n",
       "      <td>2018.000000</td>\n",
       "      <td>7.010000e+02</td>\n",
       "      <td>2.000000</td>\n",
       "      <td>3.000000</td>\n",
       "      <td>7.000000</td>\n",
       "      <td>1.000000</td>\n",
       "      <td>1.000000</td>\n",
       "      <td>1.000000</td>\n",
       "    </tr>\n",
       "    <tr>\n",
       "      <th>50%</th>\n",
       "      <td>-75.574644</td>\n",
       "      <td>6.250105</td>\n",
       "      <td>681557.500000</td>\n",
       "      <td>1.650214e+06</td>\n",
       "      <td>16.000000</td>\n",
       "      <td>2018.000000</td>\n",
       "      <td>1.013000e+03</td>\n",
       "      <td>4.000000</td>\n",
       "      <td>6.000000</td>\n",
       "      <td>10.000000</td>\n",
       "      <td>1.000000</td>\n",
       "      <td>1.000000</td>\n",
       "      <td>1.000000</td>\n",
       "    </tr>\n",
       "    <tr>\n",
       "      <th>75%</th>\n",
       "      <td>-75.564945</td>\n",
       "      <td>6.271571</td>\n",
       "      <td>722916.750000</td>\n",
       "      <td>1.669899e+06</td>\n",
       "      <td>23.000000</td>\n",
       "      <td>2019.000000</td>\n",
       "      <td>1.403000e+03</td>\n",
       "      <td>5.000000</td>\n",
       "      <td>8.000000</td>\n",
       "      <td>14.000000</td>\n",
       "      <td>2.000000</td>\n",
       "      <td>2.000000</td>\n",
       "      <td>2.000000</td>\n",
       "    </tr>\n",
       "    <tr>\n",
       "      <th>max</th>\n",
       "      <td>-75.504666</td>\n",
       "      <td>6.312059</td>\n",
       "      <td>742350.000000</td>\n",
       "      <td>1.689537e+06</td>\n",
       "      <td>31.000000</td>\n",
       "      <td>2019.000000</td>\n",
       "      <td>9.140040e+09</td>\n",
       "      <td>7.000000</td>\n",
       "      <td>12.000000</td>\n",
       "      <td>21.000000</td>\n",
       "      <td>3.000000</td>\n",
       "      <td>12.000000</td>\n",
       "      <td>6.000000</td>\n",
       "    </tr>\n",
       "  </tbody>\n",
       "</table>\n",
       "</div>"
      ],
      "text/plain": [
       "                  X             Y       OBJECTID      RADICADO           DIA  \\\n",
       "count  35472.000000  35472.000000   35472.000000  3.547200e+04  35472.000000   \n",
       "mean     -75.576881      6.250349  669641.569802  1.650399e+06     15.597457   \n",
       "std        0.019220      0.028612   65480.319456  2.245319e+04      8.672317   \n",
       "min      -75.684655      6.167769  549559.000000  1.611518e+06      1.000000   \n",
       "25%      -75.586115      6.231943  662493.750000  1.630931e+06      8.000000   \n",
       "50%      -75.574644      6.250105  681557.500000  1.650214e+06     16.000000   \n",
       "75%      -75.564945      6.271571  722916.750000  1.669899e+06     23.000000   \n",
       "max      -75.504666      6.312059  742350.000000  1.689537e+06     31.000000   \n",
       "\n",
       "            PERIODO          CBML    DIA_SEMANA           MES    NUM_COMUNA  \\\n",
       "count  35472.000000  3.547200e+04  35472.000000  35472.000000  35472.000000   \n",
       "mean    2018.435019  4.046737e+06      3.817715      6.000056      9.908068   \n",
       "std        0.495766  1.598018e+08      1.906274      3.144029      4.313859   \n",
       "min     2018.000000  1.000000e+01      1.000000      1.000000      1.000000   \n",
       "25%     2018.000000  7.010000e+02      2.000000      3.000000      7.000000   \n",
       "50%     2018.000000  1.013000e+03      4.000000      6.000000     10.000000   \n",
       "75%     2019.000000  1.403000e+03      5.000000      8.000000     14.000000   \n",
       "max     2019.000000  9.140040e+09      7.000000     12.000000     21.000000   \n",
       "\n",
       "       NUM_GRAVEDAD    NUM_DISENO     NUM_CLASE  \n",
       "count  35472.000000  35472.000000  35472.000000  \n",
       "mean       1.475276      1.697931      1.896594  \n",
       "std        0.506570      1.141486      1.615666  \n",
       "min        1.000000      1.000000      1.000000  \n",
       "25%        1.000000      1.000000      1.000000  \n",
       "50%        1.000000      1.000000      1.000000  \n",
       "75%        2.000000      2.000000      2.000000  \n",
       "max        3.000000     12.000000      6.000000  "
      ]
     },
     "execution_count": 39,
     "metadata": {},
     "output_type": "execute_result"
    }
   ],
   "source": [
    "accidentes_num.describe()"
   ]
  },
  {
   "cell_type": "markdown",
   "metadata": {},
   "source": [
    "# Observando los datos con graficos"
   ]
  },
  {
   "cell_type": "code",
   "execution_count": 41,
   "metadata": {
    "scrolled": false
   },
   "outputs": [
    {
     "data": {
      "text/plain": [
       "<matplotlib.axes._subplots.AxesSubplot at 0x15c9cfb4d00>"
      ]
     },
     "execution_count": 41,
     "metadata": {},
     "output_type": "execute_result"
    },
    {
     "data": {
      "image/png": "[encoded data removed]",
      "text/plain": [
       "<Figure size 432x288 with 1 Axes>"
      ]
     },
     "metadata": {
      "needs_background": "light"
     },
     "output_type": "display_data"
    }
   ],
   "source": [
    "accidentes_num['MES'].hist()"
   ]
  },
  {
   "cell_type": "code",
   "execution_count": 42,
   "metadata": {},
   "outputs": [
    {
     "data": {
      "text/plain": [
       "array([ 9,  3,  8, 10, 12,  1, 11,  4,  5,  6,  7,  2], dtype=int64)"
      ]
     },
     "execution_count": 42,
     "metadata": {},
     "output_type": "execute_result"
    }
   ],
   "source": [
    "accidentes_num['MES'].unique()"
   ]
  },
  {
   "cell_type": "code",
   "execution_count": 43,
   "metadata": {
    "scrolled": true
   },
   "outputs": [
    {
     "name": "stdout",
     "output_type": "stream",
     "text": [
      "mes 0\n",
      " False    32520\n",
      "True      2952\n",
      "Name: MES, dtype: int64\n",
      " \n",
      "mes 1\n",
      " False    32287\n",
      "True      3185\n",
      "Name: MES, dtype: int64\n",
      " \n",
      "mes 2\n",
      " False    32225\n",
      "True      3247\n",
      "Name: MES, dtype: int64\n",
      " \n",
      "mes 3\n",
      " False    32226\n",
      "True      3246\n",
      "Name: MES, dtype: int64\n",
      " \n",
      "mes 4\n",
      " False    31958\n",
      "True      3514\n",
      "Name: MES, dtype: int64\n",
      " \n",
      "mes 5\n",
      " False    32169\n",
      "True      3303\n",
      "Name: MES, dtype: int64\n",
      " \n",
      "mes 6\n",
      " False    31998\n",
      "True      3474\n",
      "Name: MES, dtype: int64\n",
      " \n",
      "mes 7\n",
      " False    31611\n",
      "True      3861\n",
      "Name: MES, dtype: int64\n",
      " \n",
      "mes 8\n",
      " False    31846\n",
      "True      3626\n",
      "Name: MES, dtype: int64\n",
      " \n",
      "mes 9\n",
      " False    33677\n",
      "True      1795\n",
      "Name: MES, dtype: int64\n",
      " \n",
      "mes 10\n",
      " False    33853\n",
      "True      1619\n",
      "Name: MES, dtype: int64\n",
      " \n",
      "mes 11\n",
      " False    33822\n",
      "True      1650\n",
      "Name: MES, dtype: int64\n",
      " \n"
     ]
    }
   ],
   "source": [
    "\n",
    "\n",
    "\n",
    "for i in range(12):\n",
    "       \n",
    "    meses = (accidentes_num['MES'] == i+1 ).value_counts()\n",
    "    print(f'mes {i}\\n {meses}\\n ')\n",
    "           \n"
   ]
  },
  {
   "cell_type": "code",
   "execution_count": 44,
   "metadata": {},
   "outputs": [
    {
     "data": {
      "text/plain": [
       "(35472, 24)"
      ]
     },
     "execution_count": 44,
     "metadata": {},
     "output_type": "execute_result"
    }
   ],
   "source": [
    "accidentes.shape"
   ]
  },
  {
   "cell_type": "markdown",
   "metadata": {},
   "source": [
    "# Buscando datos faltantes (nulos o NaN)"
   ]
  },
  {
   "cell_type": "code",
   "execution_count": 45,
   "metadata": {},
   "outputs": [
    {
     "data": {
      "text/html": [
       "<div>\n",
       "<style scoped>\n",
       "    .dataframe tbody tr th:only-of-type {\n",
       "        vertical-align: middle;\n",
       "    }\n",
       "\n",
       "    .dataframe tbody tr th {\n",
       "        vertical-align: top;\n",
       "    }\n",
       "\n",
       "    .dataframe thead th {\n",
       "        text-align: right;\n",
       "    }\n",
       "</style>\n",
       "<table border=\"1\" class=\"dataframe\">\n",
       "  <thead>\n",
       "    <tr style=\"text-align: right;\">\n",
       "      <th></th>\n",
       "      <th>X</th>\n",
       "      <th>Y</th>\n",
       "      <th>OBJECTID</th>\n",
       "      <th>RADICADO</th>\n",
       "      <th>DIA</th>\n",
       "      <th>PERIODO</th>\n",
       "      <th>CBML</th>\n",
       "      <th>DIA_SEMANA</th>\n",
       "      <th>MES</th>\n",
       "      <th>NUM_COMUNA</th>\n",
       "      <th>NUM_GRAVEDAD</th>\n",
       "      <th>NUM_DISENO</th>\n",
       "      <th>NUM_CLASE</th>\n",
       "    </tr>\n",
       "  </thead>\n",
       "  <tbody>\n",
       "    <tr>\n",
       "      <th>True</th>\n",
       "      <td>35472</td>\n",
       "      <td>35472</td>\n",
       "      <td>35472</td>\n",
       "      <td>35472</td>\n",
       "      <td>35472</td>\n",
       "      <td>35472</td>\n",
       "      <td>35472</td>\n",
       "      <td>35472</td>\n",
       "      <td>35472</td>\n",
       "      <td>35472</td>\n",
       "      <td>35472</td>\n",
       "      <td>35472</td>\n",
       "      <td>35472</td>\n",
       "    </tr>\n",
       "  </tbody>\n",
       "</table>\n",
       "</div>"
      ],
      "text/plain": [
       "          X      Y  OBJECTID  RADICADO    DIA  PERIODO   CBML  DIA_SEMANA  \\\n",
       "True  35472  35472     35472     35472  35472    35472  35472       35472   \n",
       "\n",
       "        MES  NUM_COMUNA  NUM_GRAVEDAD  NUM_DISENO  NUM_CLASE  \n",
       "True  35472       35472         35472       35472      35472  "
      ]
     },
     "execution_count": 45,
     "metadata": {},
     "output_type": "execute_result"
    }
   ],
   "source": [
    "accidentes_num.notnull().apply(pd.Series.value_counts)"
   ]
  },
  {
   "cell_type": "code",
   "execution_count": 46,
   "metadata": {},
   "outputs": [
    {
     "data": {
      "text/html": [
       "<div>\n",
       "<style scoped>\n",
       "    .dataframe tbody tr th:only-of-type {\n",
       "        vertical-align: middle;\n",
       "    }\n",
       "\n",
       "    .dataframe tbody tr th {\n",
       "        vertical-align: top;\n",
       "    }\n",
       "\n",
       "    .dataframe thead th {\n",
       "        text-align: right;\n",
       "    }\n",
       "</style>\n",
       "<table border=\"1\" class=\"dataframe\">\n",
       "  <thead>\n",
       "    <tr style=\"text-align: right;\">\n",
       "      <th></th>\n",
       "      <th>X</th>\n",
       "      <th>Y</th>\n",
       "      <th>OBJECTID</th>\n",
       "      <th>RADICADO</th>\n",
       "      <th>DIA</th>\n",
       "      <th>PERIODO</th>\n",
       "      <th>CBML</th>\n",
       "      <th>DIA_SEMANA</th>\n",
       "      <th>MES</th>\n",
       "      <th>NUM_COMUNA</th>\n",
       "      <th>NUM_GRAVEDAD</th>\n",
       "      <th>NUM_DISENO</th>\n",
       "      <th>NUM_CLASE</th>\n",
       "    </tr>\n",
       "  </thead>\n",
       "  <tbody>\n",
       "    <tr>\n",
       "      <th>True</th>\n",
       "      <td>35472</td>\n",
       "      <td>35472</td>\n",
       "      <td>35472</td>\n",
       "      <td>35472</td>\n",
       "      <td>35472</td>\n",
       "      <td>35472</td>\n",
       "      <td>35472</td>\n",
       "      <td>35472</td>\n",
       "      <td>35472</td>\n",
       "      <td>35472</td>\n",
       "      <td>35472</td>\n",
       "      <td>35472</td>\n",
       "      <td>35472</td>\n",
       "    </tr>\n",
       "  </tbody>\n",
       "</table>\n",
       "</div>"
      ],
      "text/plain": [
       "          X      Y  OBJECTID  RADICADO    DIA  PERIODO   CBML  DIA_SEMANA  \\\n",
       "True  35472  35472     35472     35472  35472    35472  35472       35472   \n",
       "\n",
       "        MES  NUM_COMUNA  NUM_GRAVEDAD  NUM_DISENO  NUM_CLASE  \n",
       "True  35472       35472         35472       35472      35472  "
      ]
     },
     "execution_count": 46,
     "metadata": {},
     "output_type": "execute_result"
    }
   ],
   "source": [
    "(accidentes_num != 0).apply(pd.Series.value_counts)"
   ]
  },
  {
   "cell_type": "code",
   "execution_count": 47,
   "metadata": {},
   "outputs": [],
   "source": [
    "from sklearn.impute import SimpleImputer as Imputer\n",
    "imputer = Imputer(missing_values=np.nan, strategy='mean')"
   ]
  },
  {
   "cell_type": "code",
   "execution_count": 48,
   "metadata": {},
   "outputs": [],
   "source": [
    "values = imputer.fit_transform(accidentes_num)"
   ]
  },
  {
   "cell_type": "code",
   "execution_count": 49,
   "metadata": {},
   "outputs": [
    {
     "data": {
      "text/plain": [
       "array([[-7.55783574e+01,  6.21371873e+00,  6.73380000e+05, ...,\n",
       "         1.00000000e+00,  1.00000000e+00,  1.00000000e+00],\n",
       "       [-7.55920223e+01,  6.27915720e+00,  5.57526000e+05, ...,\n",
       "         1.00000000e+00,  1.00000000e+00,  2.00000000e+00],\n",
       "       [-7.55958815e+01,  6.27555463e+00,  6.74912000e+05, ...,\n",
       "         2.00000000e+00,  2.00000000e+00,  1.00000000e+00],\n",
       "       ...,\n",
       "       [-7.55638145e+01,  6.30139203e+00,  7.40535000e+05, ...,\n",
       "         1.00000000e+00,  1.00000000e+00,  1.00000000e+00],\n",
       "       [-7.55666172e+01,  6.24324978e+00,  7.11309000e+05, ...,\n",
       "         1.00000000e+00,  1.00000000e+00,  6.00000000e+00],\n",
       "       [-7.55591893e+01,  6.24096269e+00,  7.20466000e+05, ...,\n",
       "         1.00000000e+00,  2.00000000e+00,  1.00000000e+00]])"
      ]
     },
     "execution_count": 49,
     "metadata": {},
     "output_type": "execute_result"
    }
   ],
   "source": [
    "#Array numpy\n",
    "\n",
    "accidentes_num.values\n"
   ]
  },
  {
   "cell_type": "code",
   "execution_count": 51,
   "metadata": {},
   "outputs": [],
   "source": [
    "x = pd.DataFrame(values)"
   ]
  },
  {
   "cell_type": "code",
   "execution_count": 52,
   "metadata": {},
   "outputs": [],
   "source": [
    "x.columns = accidentes_num.columns"
   ]
  },
  {
   "cell_type": "code",
   "execution_count": 53,
   "metadata": {},
   "outputs": [],
   "source": [
    "x.index = accidentes_num.index"
   ]
  },
  {
   "cell_type": "code",
   "execution_count": 55,
   "metadata": {
    "scrolled": true
   },
   "outputs": [
    {
     "data": {
      "text/html": [
       "<div>\n",
       "<style scoped>\n",
       "    .dataframe tbody tr th:only-of-type {\n",
       "        vertical-align: middle;\n",
       "    }\n",
       "\n",
       "    .dataframe tbody tr th {\n",
       "        vertical-align: top;\n",
       "    }\n",
       "\n",
       "    .dataframe thead th {\n",
       "        text-align: right;\n",
       "    }\n",
       "</style>\n",
       "<table border=\"1\" class=\"dataframe\">\n",
       "  <thead>\n",
       "    <tr style=\"text-align: right;\">\n",
       "      <th></th>\n",
       "      <th>X</th>\n",
       "      <th>Y</th>\n",
       "      <th>OBJECTID</th>\n",
       "      <th>RADICADO</th>\n",
       "      <th>DIA</th>\n",
       "      <th>PERIODO</th>\n",
       "      <th>CBML</th>\n",
       "      <th>DIA_SEMANA</th>\n",
       "      <th>MES</th>\n",
       "      <th>NUM_COMUNA</th>\n",
       "      <th>NUM_GRAVEDAD</th>\n",
       "      <th>NUM_DISENO</th>\n",
       "      <th>NUM_CLASE</th>\n",
       "    </tr>\n",
       "  </thead>\n",
       "  <tbody>\n",
       "    <tr>\n",
       "      <th>0</th>\n",
       "      <td>-75.578357</td>\n",
       "      <td>6.213719</td>\n",
       "      <td>673380.0</td>\n",
       "      <td>1642888.0</td>\n",
       "      <td>20.0</td>\n",
       "      <td>2018.0</td>\n",
       "      <td>1507.0</td>\n",
       "      <td>4.0</td>\n",
       "      <td>9.0</td>\n",
       "      <td>15.0</td>\n",
       "      <td>1.0</td>\n",
       "      <td>1.0</td>\n",
       "      <td>1.0</td>\n",
       "    </tr>\n",
       "    <tr>\n",
       "      <th>1</th>\n",
       "      <td>-75.592022</td>\n",
       "      <td>6.279157</td>\n",
       "      <td>557526.0</td>\n",
       "      <td>1620950.0</td>\n",
       "      <td>21.0</td>\n",
       "      <td>2018.0</td>\n",
       "      <td>715.0</td>\n",
       "      <td>3.0</td>\n",
       "      <td>3.0</td>\n",
       "      <td>7.0</td>\n",
       "      <td>1.0</td>\n",
       "      <td>1.0</td>\n",
       "      <td>2.0</td>\n",
       "    </tr>\n",
       "    <tr>\n",
       "      <th>2</th>\n",
       "      <td>-75.595882</td>\n",
       "      <td>6.275555</td>\n",
       "      <td>674912.0</td>\n",
       "      <td>1640270.0</td>\n",
       "      <td>30.0</td>\n",
       "      <td>2018.0</td>\n",
       "      <td>717.0</td>\n",
       "      <td>4.0</td>\n",
       "      <td>8.0</td>\n",
       "      <td>7.0</td>\n",
       "      <td>2.0</td>\n",
       "      <td>2.0</td>\n",
       "      <td>1.0</td>\n",
       "    </tr>\n",
       "    <tr>\n",
       "      <th>3</th>\n",
       "      <td>-75.567284</td>\n",
       "      <td>6.248271</td>\n",
       "      <td>674286.0</td>\n",
       "      <td>1641770.0</td>\n",
       "      <td>10.0</td>\n",
       "      <td>2018.0</td>\n",
       "      <td>1019.0</td>\n",
       "      <td>1.0</td>\n",
       "      <td>9.0</td>\n",
       "      <td>10.0</td>\n",
       "      <td>2.0</td>\n",
       "      <td>2.0</td>\n",
       "      <td>1.0</td>\n",
       "    </tr>\n",
       "    <tr>\n",
       "      <th>4</th>\n",
       "      <td>-75.576195</td>\n",
       "      <td>6.213677</td>\n",
       "      <td>681701.0</td>\n",
       "      <td>1645768.0</td>\n",
       "      <td>12.0</td>\n",
       "      <td>2018.0</td>\n",
       "      <td>1419.0</td>\n",
       "      <td>5.0</td>\n",
       "      <td>10.0</td>\n",
       "      <td>14.0</td>\n",
       "      <td>2.0</td>\n",
       "      <td>1.0</td>\n",
       "      <td>1.0</td>\n",
       "    </tr>\n",
       "  </tbody>\n",
       "</table>\n",
       "</div>"
      ],
      "text/plain": [
       "           X         Y  OBJECTID   RADICADO   DIA  PERIODO    CBML  \\\n",
       "0 -75.578357  6.213719  673380.0  1642888.0  20.0   2018.0  1507.0   \n",
       "1 -75.592022  6.279157  557526.0  1620950.0  21.0   2018.0   715.0   \n",
       "2 -75.595882  6.275555  674912.0  1640270.0  30.0   2018.0   717.0   \n",
       "3 -75.567284  6.248271  674286.0  1641770.0  10.0   2018.0  1019.0   \n",
       "4 -75.576195  6.213677  681701.0  1645768.0  12.0   2018.0  1419.0   \n",
       "\n",
       "   DIA_SEMANA   MES  NUM_COMUNA  NUM_GRAVEDAD  NUM_DISENO  NUM_CLASE  \n",
       "0         4.0   9.0        15.0           1.0         1.0        1.0  \n",
       "1         3.0   3.0         7.0           1.0         1.0        2.0  \n",
       "2         4.0   8.0         7.0           2.0         2.0        1.0  \n",
       "3         1.0   9.0        10.0           2.0         2.0        1.0  \n",
       "4         5.0  10.0        14.0           2.0         1.0        1.0  "
      ]
     },
     "execution_count": 55,
     "metadata": {},
     "output_type": "execute_result"
    }
   ],
   "source": [
    "x.head()"
   ]
  },
  {
   "cell_type": "code",
   "execution_count": 57,
   "metadata": {},
   "outputs": [
    {
     "data": {
      "text/plain": [
       "array([1, 2, 3], dtype=int64)"
      ]
     },
     "execution_count": 57,
     "metadata": {},
     "output_type": "execute_result"
    }
   ],
   "source": [
    "accidentes['NUM_GRAVEDAD'].unique()"
   ]
  },
  {
   "cell_type": "code",
   "execution_count": 58,
   "metadata": {},
   "outputs": [],
   "source": [
    "x.to_csv(\"C:/Users/sergi/modalidad/Dataset/X.csv\",index = False)"
   ]
  }
 ],
 "metadata": {
  "kernelspec": {
   "display_name": "Python 3",
   "language": "python",
   "name": "python3"
  },
  "language_info": {
   "codemirror_mode": {
    "name": "ipython",
    "version": 3
   },
   "file_extension": ".py",
   "mimetype": "text/x-python",
   "name": "python",
   "nbconvert_exporter": "python",
   "pygments_lexer": "ipython3",
   "version": "3.8.1"
  }
 },
 "nbformat": 4,
 "nbformat_minor": 4
}
