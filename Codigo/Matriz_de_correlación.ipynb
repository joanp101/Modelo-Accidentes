{
  "nbformat": 4,
  "nbformat_minor": 0,
  "metadata": {
    "colab": {
      "name": "Matriz de correlación.ipynb",
      "provenance": []
    },
    "kernelspec": {
      "name": "python3",
      "display_name": "Python 3"
    },
    "accelerator": "GPU"
  },
  "cells": [
    {
      "cell_type": "code",
      "metadata": {
        "id": "0ynv2ECVIvRe",
        "colab_type": "code",
        "colab": {}
      },
      "source": [
        "%matplotlib inline\n",
        "import pandas as pd\n",
        "import seaborn as sns\n",
        "\n"
      ],
      "execution_count": 0,
      "outputs": []
    },
    {
      "cell_type": "code",
      "metadata": {
        "id": "r-uPY78rJACA",
        "colab_type": "code",
        "colab": {}
      },
      "source": [
        "X = pd.read_csv(\"X.csv\").drop(\"NUM_GRAVEDAD\",axis =1)"
      ],
      "execution_count": 0,
      "outputs": []
    },
    {
      "cell_type": "code",
      "metadata": {
        "id": "0qh3Nu1oJNps",
        "colab_type": "code",
        "colab": {
          "base_uri": "https://localhost:8080/",
          "height": 441
        },
        "outputId": "acdfff9e-56a6-43b7-8d10-8979727220bb"
      },
      "source": [
        "X.corr()"
      ],
      "execution_count": 6,
      "outputs": [
        {
          "output_type": "execute_result",
          "data": {
            "text/html": [
              "<div>\n",
              "<style scoped>\n",
              "    .dataframe tbody tr th:only-of-type {\n",
              "        vertical-align: middle;\n",
              "    }\n",
              "\n",
              "    .dataframe tbody tr th {\n",
              "        vertical-align: top;\n",
              "    }\n",
              "\n",
              "    .dataframe thead th {\n",
              "        text-align: right;\n",
              "    }\n",
              "</style>\n",
              "<table border=\"1\" class=\"dataframe\">\n",
              "  <thead>\n",
              "    <tr style=\"text-align: right;\">\n",
              "      <th></th>\n",
              "      <th>X</th>\n",
              "      <th>Y</th>\n",
              "      <th>OBJECTID</th>\n",
              "      <th>RADICADO</th>\n",
              "      <th>DIA</th>\n",
              "      <th>PERIODO</th>\n",
              "      <th>CBML</th>\n",
              "      <th>DIA_SEMANA</th>\n",
              "      <th>MES</th>\n",
              "      <th>NUM_COMUNA</th>\n",
              "      <th>NUM_DISENO</th>\n",
              "      <th>NUM_CLASE</th>\n",
              "    </tr>\n",
              "  </thead>\n",
              "  <tbody>\n",
              "    <tr>\n",
              "      <th>X</th>\n",
              "      <td>1.000000</td>\n",
              "      <td>0.265922</td>\n",
              "      <td>0.016898</td>\n",
              "      <td>0.015289</td>\n",
              "      <td>0.000955</td>\n",
              "      <td>0.008950</td>\n",
              "      <td>0.010048</td>\n",
              "      <td>-0.003554</td>\n",
              "      <td>0.012927</td>\n",
              "      <td>-0.610949</td>\n",
              "      <td>-0.007365</td>\n",
              "      <td>0.029897</td>\n",
              "    </tr>\n",
              "    <tr>\n",
              "      <th>Y</th>\n",
              "      <td>0.265922</td>\n",
              "      <td>1.000000</td>\n",
              "      <td>-0.014110</td>\n",
              "      <td>-0.018310</td>\n",
              "      <td>-0.012206</td>\n",
              "      <td>-0.009783</td>\n",
              "      <td>0.016405</td>\n",
              "      <td>0.039035</td>\n",
              "      <td>-0.014510</td>\n",
              "      <td>-0.787637</td>\n",
              "      <td>0.024583</td>\n",
              "      <td>0.134456</td>\n",
              "    </tr>\n",
              "    <tr>\n",
              "      <th>OBJECTID</th>\n",
              "      <td>0.016898</td>\n",
              "      <td>-0.014110</td>\n",
              "      <td>1.000000</td>\n",
              "      <td>0.912191</td>\n",
              "      <td>0.007661</td>\n",
              "      <td>0.748331</td>\n",
              "      <td>0.009928</td>\n",
              "      <td>0.009681</td>\n",
              "      <td>0.364550</td>\n",
              "      <td>0.001001</td>\n",
              "      <td>-0.013801</td>\n",
              "      <td>-0.003800</td>\n",
              "    </tr>\n",
              "    <tr>\n",
              "      <th>RADICADO</th>\n",
              "      <td>0.015289</td>\n",
              "      <td>-0.018310</td>\n",
              "      <td>0.912191</td>\n",
              "      <td>1.000000</td>\n",
              "      <td>0.039974</td>\n",
              "      <td>0.859648</td>\n",
              "      <td>0.006229</td>\n",
              "      <td>0.008679</td>\n",
              "      <td>0.319800</td>\n",
              "      <td>0.005753</td>\n",
              "      <td>-0.009279</td>\n",
              "      <td>0.001060</td>\n",
              "    </tr>\n",
              "    <tr>\n",
              "      <th>DIA</th>\n",
              "      <td>0.000955</td>\n",
              "      <td>-0.012206</td>\n",
              "      <td>0.007661</td>\n",
              "      <td>0.039974</td>\n",
              "      <td>1.000000</td>\n",
              "      <td>-0.010559</td>\n",
              "      <td>-0.006424</td>\n",
              "      <td>-0.022432</td>\n",
              "      <td>0.005704</td>\n",
              "      <td>0.006291</td>\n",
              "      <td>-0.001143</td>\n",
              "      <td>0.004872</td>\n",
              "    </tr>\n",
              "    <tr>\n",
              "      <th>PERIODO</th>\n",
              "      <td>0.008950</td>\n",
              "      <td>-0.009783</td>\n",
              "      <td>0.748331</td>\n",
              "      <td>0.859648</td>\n",
              "      <td>-0.010559</td>\n",
              "      <td>1.000000</td>\n",
              "      <td>0.008521</td>\n",
              "      <td>-0.000363</td>\n",
              "      <td>-0.206640</td>\n",
              "      <td>0.003514</td>\n",
              "      <td>-0.013738</td>\n",
              "      <td>0.008540</td>\n",
              "    </tr>\n",
              "    <tr>\n",
              "      <th>CBML</th>\n",
              "      <td>0.010048</td>\n",
              "      <td>0.016405</td>\n",
              "      <td>0.009928</td>\n",
              "      <td>0.006229</td>\n",
              "      <td>-0.006424</td>\n",
              "      <td>0.008521</td>\n",
              "      <td>1.000000</td>\n",
              "      <td>0.008553</td>\n",
              "      <td>-0.003858</td>\n",
              "      <td>-0.021723</td>\n",
              "      <td>-0.007786</td>\n",
              "      <td>-0.001726</td>\n",
              "    </tr>\n",
              "    <tr>\n",
              "      <th>DIA_SEMANA</th>\n",
              "      <td>-0.003554</td>\n",
              "      <td>0.039035</td>\n",
              "      <td>0.009681</td>\n",
              "      <td>0.008679</td>\n",
              "      <td>-0.022432</td>\n",
              "      <td>-0.000363</td>\n",
              "      <td>0.008553</td>\n",
              "      <td>1.000000</td>\n",
              "      <td>0.019161</td>\n",
              "      <td>-0.028713</td>\n",
              "      <td>-0.001816</td>\n",
              "      <td>-0.006184</td>\n",
              "    </tr>\n",
              "    <tr>\n",
              "      <th>MES</th>\n",
              "      <td>0.012927</td>\n",
              "      <td>-0.014510</td>\n",
              "      <td>0.364550</td>\n",
              "      <td>0.319800</td>\n",
              "      <td>0.005704</td>\n",
              "      <td>-0.206640</td>\n",
              "      <td>-0.003858</td>\n",
              "      <td>0.019161</td>\n",
              "      <td>1.000000</td>\n",
              "      <td>0.002902</td>\n",
              "      <td>0.008222</td>\n",
              "      <td>-0.011065</td>\n",
              "    </tr>\n",
              "    <tr>\n",
              "      <th>NUM_COMUNA</th>\n",
              "      <td>-0.610949</td>\n",
              "      <td>-0.787637</td>\n",
              "      <td>0.001001</td>\n",
              "      <td>0.005753</td>\n",
              "      <td>0.006291</td>\n",
              "      <td>0.003514</td>\n",
              "      <td>-0.021723</td>\n",
              "      <td>-0.028713</td>\n",
              "      <td>0.002902</td>\n",
              "      <td>1.000000</td>\n",
              "      <td>-0.019306</td>\n",
              "      <td>-0.110160</td>\n",
              "    </tr>\n",
              "    <tr>\n",
              "      <th>NUM_DISENO</th>\n",
              "      <td>-0.007365</td>\n",
              "      <td>0.024583</td>\n",
              "      <td>-0.013801</td>\n",
              "      <td>-0.009279</td>\n",
              "      <td>-0.001143</td>\n",
              "      <td>-0.013738</td>\n",
              "      <td>-0.007786</td>\n",
              "      <td>-0.001816</td>\n",
              "      <td>0.008222</td>\n",
              "      <td>-0.019306</td>\n",
              "      <td>1.000000</td>\n",
              "      <td>0.167218</td>\n",
              "    </tr>\n",
              "    <tr>\n",
              "      <th>NUM_CLASE</th>\n",
              "      <td>0.029897</td>\n",
              "      <td>0.134456</td>\n",
              "      <td>-0.003800</td>\n",
              "      <td>0.001060</td>\n",
              "      <td>0.004872</td>\n",
              "      <td>0.008540</td>\n",
              "      <td>-0.001726</td>\n",
              "      <td>-0.006184</td>\n",
              "      <td>-0.011065</td>\n",
              "      <td>-0.110160</td>\n",
              "      <td>0.167218</td>\n",
              "      <td>1.000000</td>\n",
              "    </tr>\n",
              "  </tbody>\n",
              "</table>\n",
              "</div>"
            ],
            "text/plain": [
              "                   X         Y  OBJECTID  ...  NUM_COMUNA  NUM_DISENO  NUM_CLASE\n",
              "X           1.000000  0.265922  0.016898  ...   -0.610949   -0.007365   0.029897\n",
              "Y           0.265922  1.000000 -0.014110  ...   -0.787637    0.024583   0.134456\n",
              "OBJECTID    0.016898 -0.014110  1.000000  ...    0.001001   -0.013801  -0.003800\n",
              "RADICADO    0.015289 -0.018310  0.912191  ...    0.005753   -0.009279   0.001060\n",
              "DIA         0.000955 -0.012206  0.007661  ...    0.006291   -0.001143   0.004872\n",
              "PERIODO     0.008950 -0.009783  0.748331  ...    0.003514   -0.013738   0.008540\n",
              "CBML        0.010048  0.016405  0.009928  ...   -0.021723   -0.007786  -0.001726\n",
              "DIA_SEMANA -0.003554  0.039035  0.009681  ...   -0.028713   -0.001816  -0.006184\n",
              "MES         0.012927 -0.014510  0.364550  ...    0.002902    0.008222  -0.011065\n",
              "NUM_COMUNA -0.610949 -0.787637  0.001001  ...    1.000000   -0.019306  -0.110160\n",
              "NUM_DISENO -0.007365  0.024583 -0.013801  ...   -0.019306    1.000000   0.167218\n",
              "NUM_CLASE   0.029897  0.134456 -0.003800  ...   -0.110160    0.167218   1.000000\n",
              "\n",
              "[12 rows x 12 columns]"
            ]
          },
          "metadata": {
            "tags": []
          },
          "execution_count": 6
        }
      ]
    },
    {
      "cell_type": "code",
      "metadata": {
        "id": "N4NDP30gJcHT",
        "colab_type": "code",
        "colab": {
          "base_uri": "https://localhost:8080/",
          "height": 350
        },
        "outputId": "2cfb2a01-2071-4dfa-fa8f-89e77e007d05"
      },
      "source": [
        "sns.heatmap(X.corr())"
      ],
      "execution_count": 8,
      "outputs": [
        {
          "output_type": "execute_result",
          "data": {
            "text/plain": [
              "<matplotlib.axes._subplots.AxesSubplot at 0x7fa2a35ed550>"
            ]
          },
          "metadata": {
            "tags": []
          },
          "execution_count": 8
        },
        {
          "output_type": "display_data",
          "data": {
            "image/png": "[encoded data removed]",
            "text/plain": [
              "<Figure size 432x288 with 2 Axes>"
            ]
          },
          "metadata": {
            "tags": []
          }
        }
      ]
    },
    {
      "cell_type": "code",
      "metadata": {
        "id": "VNN-4YteJpX8",
        "colab_type": "code",
        "colab": {}
      },
      "source": [
        ""
      ],
      "execution_count": 0,
      "outputs": []
    }
  ]
}