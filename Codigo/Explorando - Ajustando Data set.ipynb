{
 "cells": [
  {
   "cell_type": "code",
   "execution_count": 1,
   "metadata": {},
   "outputs": [],
   "source": [
    "import warnings\n",
    "warnings.simplefilter(\"ignore\")"
   ]
  },
  {
   "cell_type": "code",
   "execution_count": 2,
   "metadata": {},
   "outputs": [],
   "source": [
    "import pandas as pd\n",
    "import numpy as np"
   ]
  },
  {
   "cell_type": "code",
   "execution_count": 3,
   "metadata": {},
   "outputs": [],
   "source": [
    "accidentalidad_2018 = pd.read_csv(\"C:/Users/sergi/modalidad/DataSet/Accidentalidad_2018.csv\")\n",
    "accidentalidad_2019 = pd.read_csv(\"C:/Users/sergi/modalidad/DataSet/Accidentalidad_2019.csv\")\n",
    "\n"
   ]
  },
  {
   "cell_type": "markdown",
   "metadata": {},
   "source": [
    "# Data set 2018"
   ]
  },
  {
   "cell_type": "code",
   "execution_count": 4,
   "metadata": {},
   "outputs": [
    {
     "data": {
      "text/html": [
       "<div>\n",
       "<style scoped>\n",
       "    .dataframe tbody tr th:only-of-type {\n",
       "        vertical-align: middle;\n",
       "    }\n",
       "\n",
       "    .dataframe tbody tr th {\n",
       "        vertical-align: top;\n",
       "    }\n",
       "\n",
       "    .dataframe thead th {\n",
       "        text-align: right;\n",
       "    }\n",
       "</style>\n",
       "<table border=\"1\" class=\"dataframe\">\n",
       "  <thead>\n",
       "    <tr style=\"text-align: right;\">\n",
       "      <th></th>\n",
       "      <th>X</th>\n",
       "      <th>Y</th>\n",
       "      <th>OBJECTID</th>\n",
       "      <th>RADICADO</th>\n",
       "      <th>FECHA</th>\n",
       "      <th>HORA</th>\n",
       "      <th>DIA</th>\n",
       "      <th>PERIODO</th>\n",
       "      <th>CLASE</th>\n",
       "      <th>DIRECCION</th>\n",
       "      <th>...</th>\n",
       "      <th>BARRIO</th>\n",
       "      <th>COMUNA</th>\n",
       "      <th>DISENO</th>\n",
       "      <th>DIA_NOMBRE</th>\n",
       "      <th>MES</th>\n",
       "      <th>MES_NOMBRE</th>\n",
       "      <th>X_MAGNAMED</th>\n",
       "      <th>Y_MAGNAMED</th>\n",
       "      <th>LONGITUD</th>\n",
       "      <th>LATITUD</th>\n",
       "    </tr>\n",
       "  </thead>\n",
       "  <tbody>\n",
       "    <tr>\n",
       "      <th>0</th>\n",
       "      <td>-75.584608</td>\n",
       "      <td>6.261152</td>\n",
       "      <td>550556</td>\n",
       "      <td>1612819.0</td>\n",
       "      <td>2018-01-14T00:00:00.000Z</td>\n",
       "      <td>01:30 PM</td>\n",
       "      <td>14</td>\n",
       "      <td>2018</td>\n",
       "      <td>Choque</td>\n",
       "      <td>CR 70 CL 55</td>\n",
       "      <td>...</td>\n",
       "      <td>Carlos E. Restrepo</td>\n",
       "      <td>Laureles Estadio</td>\n",
       "      <td>Interseccion</td>\n",
       "      <td>DOMINGO</td>\n",
       "      <td>1</td>\n",
       "      <td>NaN</td>\n",
       "      <td>833195.78</td>\n",
       "      <td>1184350.27</td>\n",
       "      <td>-75.584608</td>\n",
       "      <td>6.261152</td>\n",
       "    </tr>\n",
       "    <tr>\n",
       "      <th>1</th>\n",
       "      <td>-75.582266</td>\n",
       "      <td>6.293102</td>\n",
       "      <td>550557</td>\n",
       "      <td>1612866.0</td>\n",
       "      <td>2018-01-14T00:00:00.000Z</td>\n",
       "      <td>01:30 PM</td>\n",
       "      <td>14</td>\n",
       "      <td>2018</td>\n",
       "      <td>Choque</td>\n",
       "      <td>CR 79 CL 95</td>\n",
       "      <td>...</td>\n",
       "      <td>San Martín de Porres</td>\n",
       "      <td>Doce de Octubre</td>\n",
       "      <td>Tramo de via</td>\n",
       "      <td>DOMINGO</td>\n",
       "      <td>1</td>\n",
       "      <td>NaN</td>\n",
       "      <td>833455.19</td>\n",
       "      <td>1187884.37</td>\n",
       "      <td>-75.582266</td>\n",
       "      <td>6.293102</td>\n",
       "    </tr>\n",
       "    <tr>\n",
       "      <th>2</th>\n",
       "      <td>-75.560337</td>\n",
       "      <td>6.252080</td>\n",
       "      <td>550558</td>\n",
       "      <td>1612809.0</td>\n",
       "      <td>2018-01-14T00:00:00.000Z</td>\n",
       "      <td>02:30 PM</td>\n",
       "      <td>14</td>\n",
       "      <td>2018</td>\n",
       "      <td>Caida Ocupante</td>\n",
       "      <td>CR 43 CL 57</td>\n",
       "      <td>...</td>\n",
       "      <td>Los Ángeles</td>\n",
       "      <td>La Candelaria</td>\n",
       "      <td>Tramo de via</td>\n",
       "      <td>DOMINGO</td>\n",
       "      <td>1</td>\n",
       "      <td>NaN</td>\n",
       "      <td>835882.26</td>\n",
       "      <td>1183346.78</td>\n",
       "      <td>-75.560337</td>\n",
       "      <td>6.252080</td>\n",
       "    </tr>\n",
       "    <tr>\n",
       "      <th>3</th>\n",
       "      <td>-75.597828</td>\n",
       "      <td>6.222382</td>\n",
       "      <td>550559</td>\n",
       "      <td>1612812.0</td>\n",
       "      <td>2018-01-14T00:00:00.000Z</td>\n",
       "      <td>02:30 PM</td>\n",
       "      <td>14</td>\n",
       "      <td>2018</td>\n",
       "      <td>Otro</td>\n",
       "      <td>CR 76 CL 16</td>\n",
       "      <td>...</td>\n",
       "      <td>San Bernardo</td>\n",
       "      <td>Belén</td>\n",
       "      <td>Interseccion</td>\n",
       "      <td>DOMINGO</td>\n",
       "      <td>1</td>\n",
       "      <td>NaN</td>\n",
       "      <td>831732.26</td>\n",
       "      <td>1180061.86</td>\n",
       "      <td>-75.597828</td>\n",
       "      <td>6.222382</td>\n",
       "    </tr>\n",
       "    <tr>\n",
       "      <th>4</th>\n",
       "      <td>-75.561804</td>\n",
       "      <td>6.236754</td>\n",
       "      <td>550560</td>\n",
       "      <td>1612817.0</td>\n",
       "      <td>2018-01-14T00:00:00.000Z</td>\n",
       "      <td>02:37 PM</td>\n",
       "      <td>14</td>\n",
       "      <td>2018</td>\n",
       "      <td>Choque</td>\n",
       "      <td>CR 36 CL 39</td>\n",
       "      <td>...</td>\n",
       "      <td>El Salvador</td>\n",
       "      <td>Buenos Aires</td>\n",
       "      <td>Tramo de via</td>\n",
       "      <td>DOMINGO</td>\n",
       "      <td>1</td>\n",
       "      <td>NaN</td>\n",
       "      <td>835719.88</td>\n",
       "      <td>1181651.42</td>\n",
       "      <td>-75.561804</td>\n",
       "      <td>6.236754</td>\n",
       "    </tr>\n",
       "  </tbody>\n",
       "</table>\n",
       "<p>5 rows × 24 columns</p>\n",
       "</div>"
      ],
      "text/plain": [
       "           X         Y  OBJECTID   RADICADO                     FECHA  \\\n",
       "0 -75.584608  6.261152    550556  1612819.0  2018-01-14T00:00:00.000Z   \n",
       "1 -75.582266  6.293102    550557  1612866.0  2018-01-14T00:00:00.000Z   \n",
       "2 -75.560337  6.252080    550558  1612809.0  2018-01-14T00:00:00.000Z   \n",
       "3 -75.597828  6.222382    550559  1612812.0  2018-01-14T00:00:00.000Z   \n",
       "4 -75.561804  6.236754    550560  1612817.0  2018-01-14T00:00:00.000Z   \n",
       "\n",
       "       HORA  DIA  PERIODO           CLASE    DIRECCION  ...  \\\n",
       "0  01:30 PM   14     2018          Choque  CR 70 CL 55  ...   \n",
       "1  01:30 PM   14     2018          Choque  CR 79 CL 95  ...   \n",
       "2  02:30 PM   14     2018  Caida Ocupante  CR 43 CL 57  ...   \n",
       "3  02:30 PM   14     2018            Otro  CR 76 CL 16  ...   \n",
       "4  02:37 PM   14     2018          Choque  CR 36 CL 39  ...   \n",
       "\n",
       "                 BARRIO            COMUNA        DISENO DIA_NOMBRE MES  \\\n",
       "0    Carlos E. Restrepo  Laureles Estadio  Interseccion  DOMINGO     1   \n",
       "1  San Martín de Porres   Doce de Octubre  Tramo de via  DOMINGO     1   \n",
       "2           Los Ángeles     La Candelaria  Tramo de via  DOMINGO     1   \n",
       "3          San Bernardo             Belén  Interseccion  DOMINGO     1   \n",
       "4           El Salvador      Buenos Aires  Tramo de via  DOMINGO     1   \n",
       "\n",
       "  MES_NOMBRE X_MAGNAMED  Y_MAGNAMED   LONGITUD   LATITUD  \n",
       "0        NaN  833195.78  1184350.27 -75.584608  6.261152  \n",
       "1        NaN  833455.19  1187884.37 -75.582266  6.293102  \n",
       "2        NaN  835882.26  1183346.78 -75.560337  6.252080  \n",
       "3        NaN  831732.26  1180061.86 -75.597828  6.222382  \n",
       "4        NaN  835719.88  1181651.42 -75.561804  6.236754  \n",
       "\n",
       "[5 rows x 24 columns]"
      ]
     },
     "execution_count": 4,
     "metadata": {},
     "output_type": "execute_result"
    }
   ],
   "source": [
    "accidentalidad_2018.head(5)"
   ]
  },
  {
   "cell_type": "code",
   "execution_count": 5,
   "metadata": {},
   "outputs": [],
   "source": [
    "accidentalidad_2018 = accidentalidad_2018.drop(['X_MAGNAMED','Y_MAGNAMED','LONGITUD','LATITUD'], axis=1)"
   ]
  },
  {
   "cell_type": "code",
   "execution_count": 6,
   "metadata": {},
   "outputs": [],
   "source": [
    "accidentalidad_2018['MES_NOMBRE'] = accidentalidad_2018['MES']"
   ]
  },
  {
   "cell_type": "code",
   "execution_count": 7,
   "metadata": {},
   "outputs": [
    {
     "data": {
      "text/plain": [
       "array([ 1,  2,  3,  4,  5,  7,  6,  8, 10,  9, 12, 11], dtype=int64)"
      ]
     },
     "execution_count": 7,
     "metadata": {},
     "output_type": "execute_result"
    }
   ],
   "source": [
    "accidentalidad_2018['MES_NOMBRE'].unique()"
   ]
  },
  {
   "cell_type": "code",
   "execution_count": 8,
   "metadata": {},
   "outputs": [],
   "source": [
    "accidentalidad_2018.MES_NOMBRE = accidentalidad_2018.MES_NOMBRE.replace({1:\"ENERO\",2:\"FEBRERO\",3:\"MARZO\",4:\"ABRIL\",5:\"MAYO\",6:\"JUNIO\",7:\"JULIO\",8:\"AGOSTO\",9:\"SEPTIEMBRE\",10:\"OCTUBRE\",11:\"NOVIEMBRE\",12:\"DICIEMBRE\"})"
   ]
  },
  {
   "cell_type": "code",
   "execution_count": 9,
   "metadata": {
    "scrolled": true
   },
   "outputs": [
    {
     "data": {
      "text/plain": [
       "(40348, 20)"
      ]
     },
     "execution_count": 9,
     "metadata": {},
     "output_type": "execute_result"
    }
   ],
   "source": [
    "accidentalidad_2018.shape"
   ]
  },
  {
   "cell_type": "code",
   "execution_count": 28,
   "metadata": {},
   "outputs": [
    {
     "data": {
      "text/plain": [
       "array(['Laureles Estadio', 'Doce de Octubre', 'La Candelaria', 'Belén',\n",
       "       'Buenos Aires', 'Manrique', 'La América', 'Castilla', 'Guayabal',\n",
       "       'El Poblado', 'Corregimiento de San Cristóbal', 'Aranjuez',\n",
       "       'Robledo', 'Popular', 'Villa Hermosa', 'San Javier', 'Santa Cruz',\n",
       "       'Corregimiento de San Antonio de Prado',\n",
       "       'Corregimiento de Santa Elena', 'Corregimiento de Altavista', nan,\n",
       "       'Corregimiento de San Sebastián de Palmitas'], dtype=object)"
      ]
     },
     "execution_count": 28,
     "metadata": {},
     "output_type": "execute_result"
    }
   ],
   "source": [
    "accidentalidad_2018['COMUNA'].unique()"
   ]
  },
  {
   "cell_type": "markdown",
   "metadata": {},
   "source": [
    "Eliminamos filas que no son relevantes en nuestro data set"
   ]
  },
  {
   "cell_type": "code",
   "execution_count": 12,
   "metadata": {},
   "outputs": [],
   "source": [
    "accidentalidad_2018 = accidentalidad_2018.drop(accidentalidad_2018[accidentalidad_2018['COMUNA']=='In'].index)\n",
    "accidentalidad_2018 = accidentalidad_2018.drop(accidentalidad_2018[accidentalidad_2018['COMUNA']=='AU'].index)"
   ]
  },
  {
   "cell_type": "code",
   "execution_count": 13,
   "metadata": {},
   "outputs": [
    {
     "data": {
      "text/plain": [
       "(40330, 20)"
      ]
     },
     "execution_count": 13,
     "metadata": {},
     "output_type": "execute_result"
    }
   ],
   "source": [
    "accidentalidad_2018.shape"
   ]
  },
  {
   "cell_type": "markdown",
   "metadata": {},
   "source": [
    "# Data set 2019"
   ]
  },
  {
   "cell_type": "code",
   "execution_count": 14,
   "metadata": {
    "scrolled": false
   },
   "outputs": [
    {
     "data": {
      "text/html": [
       "<div>\n",
       "<style scoped>\n",
       "    .dataframe tbody tr th:only-of-type {\n",
       "        vertical-align: middle;\n",
       "    }\n",
       "\n",
       "    .dataframe tbody tr th {\n",
       "        vertical-align: top;\n",
       "    }\n",
       "\n",
       "    .dataframe thead th {\n",
       "        text-align: right;\n",
       "    }\n",
       "</style>\n",
       "<table border=\"1\" class=\"dataframe\">\n",
       "  <thead>\n",
       "    <tr style=\"text-align: right;\">\n",
       "      <th></th>\n",
       "      <th>X</th>\n",
       "      <th>Y</th>\n",
       "      <th>OBJECTID</th>\n",
       "      <th>RADICADO</th>\n",
       "      <th>HORA</th>\n",
       "      <th>DIA_NOMBRE</th>\n",
       "      <th>PERIODO</th>\n",
       "      <th>CLASE</th>\n",
       "      <th>DIRECCION</th>\n",
       "      <th>DIRECCION_ENC</th>\n",
       "      <th>CBML</th>\n",
       "      <th>TIPO_GEOCOD</th>\n",
       "      <th>GRAVEDAD</th>\n",
       "      <th>BARRIO</th>\n",
       "      <th>COMUNA</th>\n",
       "      <th>DISENO</th>\n",
       "      <th>MES</th>\n",
       "      <th>DIA</th>\n",
       "      <th>FECHA</th>\n",
       "      <th>MES_NOMBRE</th>\n",
       "    </tr>\n",
       "  </thead>\n",
       "  <tbody>\n",
       "    <tr>\n",
       "      <th>0</th>\n",
       "      <td>-75.596093</td>\n",
       "      <td>6.256489</td>\n",
       "      <td>709812</td>\n",
       "      <td>1674223</td>\n",
       "      <td>12:30:00 p. m.</td>\n",
       "      <td>DOMINGO</td>\n",
       "      <td>2019</td>\n",
       "      <td>Choque</td>\n",
       "      <td>CL 47 CR 78</td>\n",
       "      <td>CL  047   078  000 00000</td>\n",
       "      <td>1112</td>\n",
       "      <td>Malla vial cruce invertido</td>\n",
       "      <td>SOLO DAÑOS</td>\n",
       "      <td>El Velódromo</td>\n",
       "      <td>Laureles Estadio</td>\n",
       "      <td>Tramo de via</td>\n",
       "      <td>6</td>\n",
       "      <td>9</td>\n",
       "      <td>2019-06-09T00:00:00.000Z</td>\n",
       "      <td>JUNIO</td>\n",
       "    </tr>\n",
       "    <tr>\n",
       "      <th>1</th>\n",
       "      <td>-75.583161</td>\n",
       "      <td>6.250155</td>\n",
       "      <td>709813</td>\n",
       "      <td>1675562</td>\n",
       "      <td>6:50:00 p. m.</td>\n",
       "      <td>VIERNES</td>\n",
       "      <td>2019</td>\n",
       "      <td>Choque</td>\n",
       "      <td>CR 65 CL 45</td>\n",
       "      <td>CR  065   045  000 00000</td>\n",
       "      <td>1103</td>\n",
       "      <td>Malla vial</td>\n",
       "      <td>SOLO DAÑOS</td>\n",
       "      <td>Naranjal</td>\n",
       "      <td>Laureles Estadio</td>\n",
       "      <td>Lote o Predio</td>\n",
       "      <td>6</td>\n",
       "      <td>21</td>\n",
       "      <td>2019-06-21T00:00:00.000Z</td>\n",
       "      <td>JUNIO</td>\n",
       "    </tr>\n",
       "    <tr>\n",
       "      <th>2</th>\n",
       "      <td>-75.563856</td>\n",
       "      <td>6.250657</td>\n",
       "      <td>709814</td>\n",
       "      <td>1661788</td>\n",
       "      <td>8:50:00 a. m.</td>\n",
       "      <td>MIÉRCOLES</td>\n",
       "      <td>2019</td>\n",
       "      <td>Volcamiento</td>\n",
       "      <td>CR 46 CL 53</td>\n",
       "      <td>CR  046   053  000 00000</td>\n",
       "      <td>1019</td>\n",
       "      <td>Malla vial</td>\n",
       "      <td>HERIDO</td>\n",
       "      <td>La Candelaria</td>\n",
       "      <td>La Candelaria</td>\n",
       "      <td>Tramo de via</td>\n",
       "      <td>2</td>\n",
       "      <td>27</td>\n",
       "      <td>2019-02-27T00:00:00.000Z</td>\n",
       "      <td>FEBRERO</td>\n",
       "    </tr>\n",
       "    <tr>\n",
       "      <th>3</th>\n",
       "      <td>-75.576757</td>\n",
       "      <td>6.268025</td>\n",
       "      <td>709815</td>\n",
       "      <td>1675911</td>\n",
       "      <td>7:00:00 a. m.</td>\n",
       "      <td>MARTES</td>\n",
       "      <td>2019</td>\n",
       "      <td>Choque</td>\n",
       "      <td>CR 65 CL 67</td>\n",
       "      <td>CR  065   067  000 00000</td>\n",
       "      <td>0517</td>\n",
       "      <td>Malla vial</td>\n",
       "      <td>SOLO DAÑOS</td>\n",
       "      <td>Caribe</td>\n",
       "      <td>Castilla</td>\n",
       "      <td>Tramo de via</td>\n",
       "      <td>6</td>\n",
       "      <td>25</td>\n",
       "      <td>2019-06-25T00:00:00.000Z</td>\n",
       "      <td>JUNIO</td>\n",
       "    </tr>\n",
       "    <tr>\n",
       "      <th>4</th>\n",
       "      <td>-75.571897</td>\n",
       "      <td>6.202827</td>\n",
       "      <td>709816</td>\n",
       "      <td>1673388</td>\n",
       "      <td>11:30:00 a. m.</td>\n",
       "      <td>MARTES</td>\n",
       "      <td>2019</td>\n",
       "      <td>Choque</td>\n",
       "      <td>CR 43 A CL 1 A Sur</td>\n",
       "      <td>CR  043 A  S 001 A  000 00000</td>\n",
       "      <td>1416</td>\n",
       "      <td>Malla vial</td>\n",
       "      <td>SOLO DAÑOS</td>\n",
       "      <td>Alejandría</td>\n",
       "      <td>El Poblado</td>\n",
       "      <td>Tramo de via</td>\n",
       "      <td>6</td>\n",
       "      <td>4</td>\n",
       "      <td>2019-06-04T00:00:00.000Z</td>\n",
       "      <td>JUNIO</td>\n",
       "    </tr>\n",
       "  </tbody>\n",
       "</table>\n",
       "</div>"
      ],
      "text/plain": [
       "           X         Y  OBJECTID  RADICADO            HORA DIA_NOMBRE  \\\n",
       "0 -75.596093  6.256489    709812   1674223  12:30:00 p. m.  DOMINGO     \n",
       "1 -75.583161  6.250155    709813   1675562   6:50:00 p. m.  VIERNES     \n",
       "2 -75.563856  6.250657    709814   1661788   8:50:00 a. m.  MIÉRCOLES   \n",
       "3 -75.576757  6.268025    709815   1675911   7:00:00 a. m.  MARTES      \n",
       "4 -75.571897  6.202827    709816   1673388  11:30:00 a. m.  MARTES      \n",
       "\n",
       "   PERIODO        CLASE           DIRECCION                  DIRECCION_ENC  \\\n",
       "0     2019       Choque         CL 47 CR 78       CL  047   078  000 00000   \n",
       "1     2019       Choque         CR 65 CL 45       CR  065   045  000 00000   \n",
       "2     2019  Volcamiento         CR 46 CL 53       CR  046   053  000 00000   \n",
       "3     2019       Choque         CR 65 CL 67       CR  065   067  000 00000   \n",
       "4     2019       Choque  CR 43 A CL 1 A Sur  CR  043 A  S 001 A  000 00000   \n",
       "\n",
       "   CBML                 TIPO_GEOCOD    GRAVEDAD         BARRIO  \\\n",
       "0  1112  Malla vial cruce invertido  SOLO DAÑOS   El Velódromo   \n",
       "1  1103                  Malla vial  SOLO DAÑOS       Naranjal   \n",
       "2  1019                  Malla vial      HERIDO  La Candelaria   \n",
       "3  0517                  Malla vial  SOLO DAÑOS         Caribe   \n",
       "4  1416                  Malla vial  SOLO DAÑOS     Alejandría   \n",
       "\n",
       "             COMUNA         DISENO  MES  DIA                     FECHA  \\\n",
       "0  Laureles Estadio   Tramo de via    6    9  2019-06-09T00:00:00.000Z   \n",
       "1  Laureles Estadio  Lote o Predio    6   21  2019-06-21T00:00:00.000Z   \n",
       "2     La Candelaria   Tramo de via    2   27  2019-02-27T00:00:00.000Z   \n",
       "3          Castilla   Tramo de via    6   25  2019-06-25T00:00:00.000Z   \n",
       "4        El Poblado   Tramo de via    6    4  2019-06-04T00:00:00.000Z   \n",
       "\n",
       "   MES_NOMBRE  \n",
       "0  JUNIO       \n",
       "1  JUNIO       \n",
       "2  FEBRERO     \n",
       "3  JUNIO       \n",
       "4  JUNIO       "
      ]
     },
     "execution_count": 14,
     "metadata": {},
     "output_type": "execute_result"
    }
   ],
   "source": [
    "accidentalidad_2019.head(5)"
   ]
  },
  {
   "cell_type": "markdown",
   "metadata": {},
   "source": [
    "# Inferencia estadistica de los data set\n"
   ]
  },
  {
   "cell_type": "markdown",
   "metadata": {},
   "source": [
    "Sacamos el 50% de cada data set"
   ]
  },
  {
   "cell_type": "code",
   "execution_count": 71,
   "metadata": {},
   "outputs": [],
   "source": [
    "submuestra_accidentalidad_2018 = accidentalidad_2018.sample(frac=0.5 , random_state=1)\n",
    "submuestra_accidentalidad_2019 = accidentalidad_2019.sample(frac=0.5 , random_state=1)"
   ]
  },
  {
   "cell_type": "code",
   "execution_count": 72,
   "metadata": {},
   "outputs": [
    {
     "name": "stdout",
     "output_type": "stream",
     "text": [
      "Submuestra 2018 ---> (20165, 20)\n",
      "Submuestra 2019 ---> (15454, 20)\n"
     ]
    }
   ],
   "source": [
    "print(f'Submuestra 2018 ---> {submuestra_accidentalidad_2018.shape}')\n",
    "print(f'Submuestra 2019 ---> {submuestra_accidentalidad_2019.shape}')"
   ]
  },
  {
   "cell_type": "code",
   "execution_count": 73,
   "metadata": {},
   "outputs": [],
   "source": [
    "accidentalidad = pd.concat([submuestra_accidentalidad_2018,submuestra_accidentalidad_2019])"
   ]
  },
  {
   "cell_type": "code",
   "execution_count": 74,
   "metadata": {},
   "outputs": [
    {
     "data": {
      "text/plain": [
       "(35619, 20)"
      ]
     },
     "execution_count": 74,
     "metadata": {},
     "output_type": "execute_result"
    }
   ],
   "source": [
    "accidentalidad.shape"
   ]
  },
  {
   "cell_type": "code",
   "execution_count": 75,
   "metadata": {},
   "outputs": [
    {
     "data": {
      "text/plain": [
       "array([ 9,  3,  8, 10, 12,  1, 11,  4,  5,  6,  7,  2], dtype=int64)"
      ]
     },
     "execution_count": 75,
     "metadata": {},
     "output_type": "execute_result"
    }
   ],
   "source": [
    "accidentalidad['MES'].unique()"
   ]
  },
  {
   "cell_type": "markdown",
   "metadata": {},
   "source": [
    "# Exportando el data set final"
   ]
  },
  {
   "cell_type": "code",
   "execution_count": 76,
   "metadata": {},
   "outputs": [],
   "source": [
    "accidentalidad.to_csv(\"C:/Users/sergi/modalidad/Dataset/Accidentalidad.csv\",index = False)"
   ]
  }
 ],
 "metadata": {
  "kernelspec": {
   "display_name": "Python 3",
   "language": "python",
   "name": "python3"
  },
  "language_info": {
   "codemirror_mode": {
    "name": "ipython",
    "version": 3
   },
   "file_extension": ".py",
   "mimetype": "text/x-python",
   "name": "python",
   "nbconvert_exporter": "python",
   "pygments_lexer": "ipython3",
   "version": "3.8.1"
  }
 },
 "nbformat": 4,
 "nbformat_minor": 4
}
