{
  "nbformat": 4,
  "nbformat_minor": 0,
  "metadata": {
    "colab": {
      "name": "scikit_RandomForest.ipynb",
      "provenance": [],
      "private_outputs": true,
      "collapsed_sections": []
    },
    "kernelspec": {
      "name": "python3",
      "display_name": "Python 3"
    }
  },
  "cells": [
    {
      "cell_type": "markdown",
      "metadata": {
        "id": "xMj3AmIvEioX",
        "colab_type": "text"
      },
      "source": [
        ""
      ]
    },
    {
      "cell_type": "code",
      "metadata": {
        "id": "cjMxCqqvEiq4",
        "colab_type": "code",
        "colab": {}
      },
      "source": [
        "from sklearn.datasets import load_iris\n",
        "\n",
        "from sklearn.ensemble import RandomForestClassifier\n",
        "\n",
        "import matplotlib.pyplot as plt\n",
        "import pandas as pd\n",
        "import numpy as np\n",
        "import seaborn as sns\n",
        "\n"
      ],
      "execution_count": 0,
      "outputs": []
    },
    {
      "cell_type": "code",
      "metadata": {
        "id": "5tiC7juGVdzD",
        "colab_type": "code",
        "colab": {}
      },
      "source": [
        "df = pd.read_csv('X.csv')\n",
        "obj = pd.read_csv('accidentes_obj.csv')\n"
      ],
      "execution_count": 0,
      "outputs": []
    },
    {
      "cell_type": "code",
      "metadata": {
        "id": "_PB9LMu_Vd-a",
        "colab_type": "code",
        "colab": {}
      },
      "source": [
        "df = df.drop(['NUM_GRAVEDAD'],axis=1)\n",
        "y = obj.drop(['FECHA',\t'HORA',\t'CLASE',\t'DIRECCION',\t'DIRECCION_ENC','CBML','TIPO_GEOCOD',\t'BARRIO',\t'COMUNA',\t'DISENO',\t'MES_NOMBRE'], axis = 1)"
      ],
      "execution_count": 0,
      "outputs": []
    },
    {
      "cell_type": "code",
      "metadata": {
        "id": "6lrABKFkI5xp",
        "colab_type": "code",
        "colab": {}
      },
      "source": [
        "df['clasificacion'] = y['GRAVEDAD']"
      ],
      "execution_count": 0,
      "outputs": []
    },
    {
      "cell_type": "code",
      "metadata": {
        "id": "qKxdqy9a2EtA",
        "colab_type": "code",
        "colab": {}
      },
      "source": [
        "df.head(5)"
      ],
      "execution_count": 0,
      "outputs": []
    },
    {
      "cell_type": "code",
      "metadata": {
        "id": "69K8nu_nzEeA",
        "colab_type": "code",
        "colab": {}
      },
      "source": [
        "df['clasificacion'].unique()"
      ],
      "execution_count": 0,
      "outputs": []
    },
    {
      "cell_type": "markdown",
      "metadata": {
        "id": "GcNrNxVWKqMu",
        "colab_type": "text"
      },
      "source": [
        "Submuestra de nuestra data set"
      ]
    },
    {
      "cell_type": "code",
      "metadata": {
        "id": "-bytWfN1JroD",
        "colab_type": "code",
        "colab": {}
      },
      "source": [
        "trainRandom = np.random.rand(len(df))< 0.6\n",
        "train= df[trainRandom]\n",
        "test = df[~trainRandom]"
      ],
      "execution_count": 0,
      "outputs": []
    },
    {
      "cell_type": "code",
      "metadata": {
        "id": "U-hV0vL6LGQp",
        "colab_type": "code",
        "colab": {}
      },
      "source": [
        "print(f'Numero en entrenamiento : {len(train)}')\n",
        "print(f'Numero en prueba : {len(test)}')"
      ],
      "execution_count": 0,
      "outputs": []
    },
    {
      "cell_type": "code",
      "metadata": {
        "id": "yHn59ltOMSbL",
        "colab_type": "code",
        "colab": {}
      },
      "source": [
        "features = df.columns[:12]"
      ],
      "execution_count": 0,
      "outputs": []
    },
    {
      "cell_type": "code",
      "metadata": {
        "id": "7YvDMNZeNWeH",
        "colab_type": "code",
        "colab": {}
      },
      "source": [
        "features"
      ],
      "execution_count": 0,
      "outputs": []
    },
    {
      "cell_type": "code",
      "metadata": {
        "id": "YEFtJlHHNdcg",
        "colab_type": "code",
        "colab": {}
      },
      "source": [
        "df.clasificacion.value_counts()"
      ],
      "execution_count": 0,
      "outputs": []
    },
    {
      "cell_type": "markdown",
      "metadata": {
        "id": "ayQxWQu2ONPR",
        "colab_type": "text"
      },
      "source": [
        "Factorizando a numeros nuestra columna"
      ]
    },
    {
      "cell_type": "code",
      "metadata": {
        "id": "BqOv2wI9OLih",
        "colab_type": "code",
        "colab": {}
      },
      "source": [
        "y_ = pd.factorize(train['clasificacion'])[0]\n",
        "p = pd.DataFrame({\"clase\":y_})"
      ],
      "execution_count": 0,
      "outputs": []
    },
    {
      "cell_type": "code",
      "metadata": {
        "id": "IFIES8U9Gglx",
        "colab_type": "code",
        "colab": {}
      },
      "source": [
        "p['clase'].value_counts()"
      ],
      "execution_count": 0,
      "outputs": []
    },
    {
      "cell_type": "markdown",
      "metadata": {
        "id": "I4ctKd_zPOJy",
        "colab_type": "text"
      },
      "source": [
        "Clasificador"
      ]
    },
    {
      "cell_type": "code",
      "metadata": {
        "id": "iCdCrldVPJ0S",
        "colab_type": "code",
        "colab": {}
      },
      "source": [
        "clf = RandomForestClassifier(n_jobs=5, random_state=1)"
      ],
      "execution_count": 0,
      "outputs": []
    },
    {
      "cell_type": "code",
      "metadata": {
        "id": "YxkSKjtCPJ6y",
        "colab_type": "code",
        "colab": {}
      },
      "source": [
        "clf.fit(train[features], y_)"
      ],
      "execution_count": 0,
      "outputs": []
    },
    {
      "cell_type": "code",
      "metadata": {
        "id": "acQiw2s8PJ_y",
        "colab_type": "code",
        "colab": {}
      },
      "source": [
        "clf.predict(test[features])"
      ],
      "execution_count": 0,
      "outputs": []
    },
    {
      "cell_type": "markdown",
      "metadata": {
        "id": "xiXRhcOiQmaB",
        "colab_type": "text"
      },
      "source": [
        "Predicción"
      ]
    },
    {
      "cell_type": "code",
      "metadata": {
        "id": "SJAJs2vsPKEY",
        "colab_type": "code",
        "colab": {}
      },
      "source": [
        "preds = df.clasificacion[clf.predict(test[features])]\n",
        "preds = np.array(preds[0:28461])"
      ],
      "execution_count": 0,
      "outputs": []
    },
    {
      "cell_type": "markdown",
      "metadata": {
        "id": "6DWIegHeRDmR",
        "colab_type": "text"
      },
      "source": [
        "Valores reales"
      ]
    },
    {
      "cell_type": "code",
      "metadata": {
        "id": "os4Tc-zlPKLY",
        "colab_type": "code",
        "colab": {}
      },
      "source": [
        "test['clasificacion'].value_counts()"
      ],
      "execution_count": 0,
      "outputs": []
    },
    {
      "cell_type": "code",
      "metadata": {
        "id": "KLfDr9uwPKOg",
        "colab_type": "code",
        "colab": {}
      },
      "source": [
        "from sklearn.metrics import confusion_matrix\n",
        "matrix = pd.crosstab(test['clasificacion'],preds, rownames=['Gravedad'], colnames=['Predicted'])\n",
        "matrix\n"
      ],
      "execution_count": 0,
      "outputs": []
    },
    {
      "cell_type": "code",
      "metadata": {
        "id": "McLo_oRsGs9I",
        "colab_type": "code",
        "colab": {}
      },
      "source": [
        "class_names = [0, 1]\n",
        "fig, ax = plt.subplots()\n",
        "tick_marks = np.arange(len(class_names))\n",
        "plt.xticks(tick_marks, class_names)\n",
        "plt.yticks(tick_marks, class_names)\n",
        "\n",
        "sns.heatmap(pd.DataFrame(matrix), annot = True, cmap = 'Blues_r', fmt = 'g')\n",
        "ax.xaxis.set_label_position('top')\n",
        "plt.tight_layout()\n",
        "plt.title('Matriz de confusion', y = 1.1)\n",
        "plt.ylabel('Etiqueta actual')\n",
        "plt.xlabel('Etiqueta de prediccion')"
      ],
      "execution_count": 0,
      "outputs": []
    },
    {
      "cell_type": "code",
      "metadata": {
        "id": "RnnJizU9H_Ew",
        "colab_type": "code",
        "colab": {}
      },
      "source": [
        "from sklearn.metrics import precision_score\n",
        "precision = precision_score(test['clasificacion'], preds, average='micro')\n",
        "print('Precisión del modelo:\\n',precision)"
      ],
      "execution_count": 0,
      "outputs": []
    },
    {
      "cell_type": "markdown",
      "metadata": {
        "id": "SUz_XthiTxZT",
        "colab_type": "text"
      },
      "source": [
        "Observar cual fue nuestra feature mas importante en nuestra predicción y cual es el menor relevante"
      ]
    },
    {
      "cell_type": "code",
      "metadata": {
        "id": "x7L8LvgiTihj",
        "colab_type": "code",
        "colab": {}
      },
      "source": [
        "list(zip(train[features],clf.feature_importances_))"
      ],
      "execution_count": 0,
      "outputs": []
    },
    {
      "cell_type": "code",
      "metadata": {
        "id": "pnivkEWZwDm4",
        "colab_type": "code",
        "colab": {}
      },
      "source": [
        ""
      ],
      "execution_count": 0,
      "outputs": []
    }
  ]
}