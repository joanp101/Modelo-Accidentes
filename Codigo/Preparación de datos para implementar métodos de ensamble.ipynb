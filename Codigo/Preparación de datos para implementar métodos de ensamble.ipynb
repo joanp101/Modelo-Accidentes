{
 "cells": [
  {
   "cell_type": "code",
   "execution_count": 1,
   "metadata": {},
   "outputs": [],
   "source": [
    "import warnings\n",
    "warnings.simplefilter(\"ignore\")"
   ]
  },
  {
   "cell_type": "code",
   "execution_count": 2,
   "metadata": {},
   "outputs": [],
   "source": [
    "import pandas as pd\n",
    "\n",
    "from sklearn.neighbors import KNeighborsClassifier\n",
    "from sklearn.ensemble import BaggingClassifier\n",
    "\n",
    "\n",
    "from sklearn.model_selection import train_test_split\n",
    "from sklearn.metrics import accuracy_score"
   ]
  },
  {
   "cell_type": "code",
   "execution_count": 3,
   "metadata": {},
   "outputs": [],
   "source": [
    "df_accidentes = pd.read_csv(\"C:/Users/sergi/modalidad/Dataset/X.csv\", encoding = 'utf-8')"
   ]
  },
  {
   "cell_type": "code",
   "execution_count": 4,
   "metadata": {},
   "outputs": [
    {
     "data": {
      "text/plain": [
       "count    30862.000000\n",
       "mean        15.540503\n",
       "std          8.673975\n",
       "min          1.000000\n",
       "25%          8.000000\n",
       "50%         15.000000\n",
       "75%         23.000000\n",
       "max         31.000000\n",
       "Name: DIA, dtype: float64"
      ]
     },
     "execution_count": 4,
     "metadata": {},
     "output_type": "execute_result"
    }
   ],
   "source": [
    "df_accidentes['DIA'].describe()"
   ]
  },
  {
   "cell_type": "code",
   "execution_count": 5,
   "metadata": {},
   "outputs": [],
   "source": [
    "X = df_accidentes.drop(['DIA'], axis = 1)\n",
    "y = df_accidentes['DIA']"
   ]
  },
  {
   "cell_type": "code",
   "execution_count": 6,
   "metadata": {},
   "outputs": [],
   "source": [
    "X_train, X_test, y_train, y_test = train_test_split(X,y, test_size = 0.35)"
   ]
  },
  {
   "cell_type": "code",
   "execution_count": 7,
   "metadata": {},
   "outputs": [
    {
     "name": "stdout",
     "output_type": "stream",
     "text": [
      "==================================\n",
      "0.2039437141270135\n",
      "==================================\n",
      "0.22745787817070912\n"
     ]
    }
   ],
   "source": [
    "knn_class = KNeighborsClassifier().fit(X_train, y_train)\n",
    "knn_pred = knn_class.predict(X_test)\n",
    "\n",
    "print(\"=\"*34)\n",
    "print(accuracy_score(knn_pred, y_test))\n",
    "\n",
    "bag_class = BaggingClassifier(base_estimator = KNeighborsClassifier(), n_estimators=100).fit(X_train, y_train)\n",
    "bag_pred = bag_class.predict(X_test)\n",
    "print(\"=\"*34)\n",
    "print(accuracy_score(bag_pred, y_test))"
   ]
  },
  {
   "cell_type": "markdown",
   "metadata": {},
   "source": [
    "# Gradient Boosted Trees"
   ]
  },
  {
   "cell_type": "code",
   "execution_count": 8,
   "metadata": {},
   "outputs": [],
   "source": [
    "from sklearn.ensemble import GradientBoostingClassifier"
   ]
  },
  {
   "cell_type": "code",
   "execution_count": 9,
   "metadata": {},
   "outputs": [
    {
     "name": "stdout",
     "output_type": "stream",
     "text": [
      "==================================\n",
      "0.9022403258655805\n"
     ]
    }
   ],
   "source": [
    "boost = GradientBoostingClassifier(n_estimators=50).fit(X_train, y_train)\n",
    "boost_pred = boost.predict(X_test)\n",
    "print(\"=\"*34)\n",
    "print(accuracy_score(boost_pred, y_test))"
   ]
  },
  {
   "cell_type": "code",
   "execution_count": null,
   "metadata": {},
   "outputs": [],
   "source": []
  }
 ],
 "metadata": {
  "kernelspec": {
   "display_name": "Python 3",
   "language": "python",
   "name": "python3"
  },
  "language_info": {
   "codemirror_mode": {
    "name": "ipython",
    "version": 3
   },
   "file_extension": ".py",
   "mimetype": "text/x-python",
   "name": "python",
   "nbconvert_exporter": "python",
   "pygments_lexer": "ipython3",
   "version": "3.8.1"
  }
 },
 "nbformat": 4,
 "nbformat_minor": 4
}
