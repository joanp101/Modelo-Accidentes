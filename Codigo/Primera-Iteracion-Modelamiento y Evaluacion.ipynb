{
  "nbformat": 4,
  "nbformat_minor": 0,
  "metadata": {
    "kernelspec": {
      "name": "python3",
      "display_name": "Python 3"
    },
    "language_info": {
      "codemirror_mode": {
        "name": "ipython",
        "version": 3
      },
      "file_extension": ".py",
      "mimetype": "text/x-python",
      "name": "python",
      "nbconvert_exporter": "python",
      "pygments_lexer": "ipython3",
      "version": "3.8.1"
    },
    "colab": {
      "name": "Primera Iteracion - Modelamiento y Evaluacion.ipynb",
      "provenance": []
    },
    "accelerator": "GPU"
  },
  "cells": [
    {
      "cell_type": "code",
      "metadata": {
        "id": "GHxYVgrOOf7-",
        "colab_type": "code",
        "colab": {}
      },
      "source": [
        "import warnings\n",
        "warnings.simplefilter(\"ignore\")"
      ],
      "execution_count": 0,
      "outputs": []
    },
    {
      "cell_type": "code",
      "metadata": {
        "id": "cyHOVROEOf8D",
        "colab_type": "code",
        "colab": {}
      },
      "source": [
        "import numpy as np\n",
        "import pandas as pd"
      ],
      "execution_count": 0,
      "outputs": []
    },
    {
      "cell_type": "markdown",
      "metadata": {
        "id": "nz8fZ3YLOf8G",
        "colab_type": "text"
      },
      "source": [
        "# Modelo simple de regresion"
      ]
    },
    {
      "cell_type": "code",
      "metadata": {
        "id": "GJuyohJ4Of8H",
        "colab_type": "code",
        "colab": {}
      },
      "source": [
        "X =pd.read_csv(\"X.csv\")"
      ],
      "execution_count": 0,
      "outputs": []
    },
    {
      "cell_type": "code",
      "metadata": {
        "scrolled": true,
        "id": "xDsjuOPBOf8P",
        "colab_type": "code",
        "colab": {}
      },
      "source": [
        "y = X['NUM_GRAVEDAD']"
      ],
      "execution_count": 0,
      "outputs": []
    },
    {
      "cell_type": "code",
      "metadata": {
        "scrolled": false,
        "id": "Ooi9xBeEOf8S",
        "colab_type": "code",
        "colab": {}
      },
      "source": [
        "X = X.drop('NUM_GRAVEDAD',axis=1)"
      ],
      "execution_count": 0,
      "outputs": []
    },
    {
      "cell_type": "code",
      "metadata": {
        "id": "hvAEGA7JOf8X",
        "colab_type": "code",
        "colab": {}
      },
      "source": [
        "from sklearn.model_selection import train_test_split\n",
        "\n",
        "X_train, X_test, y_train, y_test = train_test_split(X,y,test_size =0.4)"
      ],
      "execution_count": 0,
      "outputs": []
    },
    {
      "cell_type": "code",
      "metadata": {
        "id": "VJ5YXGGgOf8a",
        "colab_type": "code",
        "outputId": "caf47320-7806-4eb1-d200-332a4ff1d7db",
        "colab": {
          "base_uri": "https://localhost:8080/",
          "height": 68
        }
      },
      "source": [
        "print(f'Total de los datos {len(X)}')\n",
        "print(f'60 % de los datos es {len(X_train)}')\n",
        "print(f'40 % de los datos es {len(X_test)}')"
      ],
      "execution_count": 136,
      "outputs": [
        {
          "output_type": "stream",
          "text": [
            "Total de los datos 35472\n",
            "60 % de los datos es 21283\n",
            "40 % de los datos es 14189\n"
          ],
          "name": "stdout"
        }
      ]
    },
    {
      "cell_type": "code",
      "metadata": {
        "id": "JLj3YBE7Of8c",
        "colab_type": "code",
        "outputId": "4362192c-f431-42cc-9cf8-4b096159ad20",
        "colab": {
          "base_uri": "https://localhost:8080/",
          "height": 80
        }
      },
      "source": [
        "X.head(1)"
      ],
      "execution_count": 137,
      "outputs": [
        {
          "output_type": "execute_result",
          "data": {
            "text/html": [
              "<div>\n",
              "<style scoped>\n",
              "    .dataframe tbody tr th:only-of-type {\n",
              "        vertical-align: middle;\n",
              "    }\n",
              "\n",
              "    .dataframe tbody tr th {\n",
              "        vertical-align: top;\n",
              "    }\n",
              "\n",
              "    .dataframe thead th {\n",
              "        text-align: right;\n",
              "    }\n",
              "</style>\n",
              "<table border=\"1\" class=\"dataframe\">\n",
              "  <thead>\n",
              "    <tr style=\"text-align: right;\">\n",
              "      <th></th>\n",
              "      <th>X</th>\n",
              "      <th>Y</th>\n",
              "      <th>OBJECTID</th>\n",
              "      <th>RADICADO</th>\n",
              "      <th>DIA</th>\n",
              "      <th>PERIODO</th>\n",
              "      <th>CBML</th>\n",
              "      <th>DIA_SEMANA</th>\n",
              "      <th>MES</th>\n",
              "      <th>NUM_COMUNA</th>\n",
              "      <th>NUM_DISENO</th>\n",
              "      <th>NUM_CLASE</th>\n",
              "    </tr>\n",
              "  </thead>\n",
              "  <tbody>\n",
              "    <tr>\n",
              "      <th>0</th>\n",
              "      <td>-75.578357</td>\n",
              "      <td>6.213719</td>\n",
              "      <td>673380.0</td>\n",
              "      <td>1642888.0</td>\n",
              "      <td>20.0</td>\n",
              "      <td>2018.0</td>\n",
              "      <td>1507.0</td>\n",
              "      <td>4.0</td>\n",
              "      <td>9.0</td>\n",
              "      <td>15.0</td>\n",
              "      <td>1.0</td>\n",
              "      <td>1.0</td>\n",
              "    </tr>\n",
              "  </tbody>\n",
              "</table>\n",
              "</div>"
            ],
            "text/plain": [
              "           X         Y  OBJECTID  ...  NUM_COMUNA  NUM_DISENO  NUM_CLASE\n",
              "0 -75.578357  6.213719  673380.0  ...        15.0         1.0        1.0\n",
              "\n",
              "[1 rows x 12 columns]"
            ]
          },
          "metadata": {
            "tags": []
          },
          "execution_count": 137
        }
      ]
    },
    {
      "cell_type": "markdown",
      "metadata": {
        "id": "PdqcjW9JOf8h",
        "colab_type": "text"
      },
      "source": [
        "# Regresion Lasso"
      ]
    },
    {
      "cell_type": "code",
      "metadata": {
        "id": "NDeCoHkmOf8j",
        "colab_type": "code",
        "colab": {}
      },
      "source": [
        "from sklearn.linear_model import Lasso\n",
        "\n",
        "model = Lasso()"
      ],
      "execution_count": 0,
      "outputs": []
    },
    {
      "cell_type": "markdown",
      "metadata": {
        "id": "tezuwhPzQQHl",
        "colab_type": "text"
      },
      "source": [
        "Ajuste de los datos"
      ]
    },
    {
      "cell_type": "code",
      "metadata": {
        "id": "baOv509mOf8o",
        "colab_type": "code",
        "outputId": "9027e163-2216-4a98-8f49-0a547218e8e6",
        "colab": {
          "base_uri": "https://localhost:8080/",
          "height": 68
        }
      },
      "source": [
        "model.fit(X_train, y_train)"
      ],
      "execution_count": 139,
      "outputs": [
        {
          "output_type": "execute_result",
          "data": {
            "text/plain": [
              "Lasso(alpha=1.0, copy_X=True, fit_intercept=True, max_iter=1000,\n",
              "      normalize=False, positive=False, precompute=False, random_state=None,\n",
              "      selection='cyclic', tol=0.0001, warm_start=False)"
            ]
          },
          "metadata": {
            "tags": []
          },
          "execution_count": 139
        }
      ]
    },
    {
      "cell_type": "code",
      "metadata": {
        "id": "67rHGGEeOf8q",
        "colab_type": "code",
        "colab": {}
      },
      "source": [
        "predicted = model.predict(X_test)"
      ],
      "execution_count": 0,
      "outputs": []
    },
    {
      "cell_type": "code",
      "metadata": {
        "id": "oNjcm3CPOf8t",
        "colab_type": "code",
        "outputId": "6e86becf-efe0-4973-f0a6-13620e17186b",
        "colab": {
          "base_uri": "https://localhost:8080/",
          "height": 51
        }
      },
      "source": [
        "predicted"
      ],
      "execution_count": 141,
      "outputs": [
        {
          "output_type": "execute_result",
          "data": {
            "text/plain": [
              "array([1.46940849, 1.47731538, 1.47762021, ..., 1.47519435, 1.47560372,\n",
              "       1.47737861])"
            ]
          },
          "metadata": {
            "tags": []
          },
          "execution_count": 141
        }
      ]
    },
    {
      "cell_type": "code",
      "metadata": {
        "id": "dydw1UbGOf8v",
        "colab_type": "code",
        "outputId": "445030f2-4740-45c0-fdd7-28cc548cf7ba",
        "colab": {
          "base_uri": "https://localhost:8080/",
          "height": 34
        }
      },
      "source": [
        "predicted.shape"
      ],
      "execution_count": 142,
      "outputs": [
        {
          "output_type": "execute_result",
          "data": {
            "text/plain": [
              "(14189,)"
            ]
          },
          "metadata": {
            "tags": []
          },
          "execution_count": 142
        }
      ]
    },
    {
      "cell_type": "markdown",
      "metadata": {
        "id": "jrzK3-BIOf8x",
        "colab_type": "text"
      },
      "source": [
        "# Distribucion geometrica"
      ]
    },
    {
      "cell_type": "code",
      "metadata": {
        "scrolled": false,
        "id": "2WXHyO6pOf8x",
        "colab_type": "code",
        "outputId": "3c994540-1639-4e0e-f18c-243576150f8a",
        "colab": {
          "base_uri": "https://localhost:8080/",
          "height": 265
        }
      },
      "source": [
        "import matplotlib.pyplot as plt\n",
        "%matplotlib inline\n",
        "\n",
        "plt.hist([predicted,y_test]);\n",
        "plt.legend(['predicted','y_test']);\n"
      ],
      "execution_count": 143,
      "outputs": [
        {
          "output_type": "display_data",
          "data": {
            "image/png": "[encoded data removed]",
            "text/plain": [
              "<Figure size 432x288 with 1 Axes>"
            ]
          },
          "metadata": {
            "tags": []
          }
        }
      ]
    },
    {
      "cell_type": "markdown",
      "metadata": {
        "id": "JUAP4aw7Of82",
        "colab_type": "text"
      },
      "source": [
        "Debemos evaluar de forma más fina el comportamiento de nuestro modelo."
      ]
    },
    {
      "cell_type": "markdown",
      "metadata": {
        "id": "tW53tH9YOf86",
        "colab_type": "text"
      },
      "source": [
        "# Evaluando de forma más fina el comportamiento de nuestro modelo"
      ]
    },
    {
      "cell_type": "markdown",
      "metadata": {
        "id": "bjxwRMeIOf87",
        "colab_type": "text"
      },
      "source": [
        "El score r2 entre mas cercano al 1 es mejor, podemos entender su poder predictivo"
      ]
    },
    {
      "cell_type": "code",
      "metadata": {
        "id": "VOh5ONVAOf87",
        "colab_type": "code",
        "outputId": "dd783f1b-5e88-405c-88b7-0aa99e2a9a4c",
        "colab": {
          "base_uri": "https://localhost:8080/",
          "height": 34
        }
      },
      "source": [
        "model.score(X_test, y_test)"
      ],
      "execution_count": 144,
      "outputs": [
        {
          "output_type": "execute_result",
          "data": {
            "text/plain": [
              "-0.00042531275498092214"
            ]
          },
          "metadata": {
            "tags": []
          },
          "execution_count": 144
        }
      ]
    },
    {
      "cell_type": "markdown",
      "metadata": {
        "id": "zJOQQQjgOf8-",
        "colab_type": "text"
      },
      "source": [
        "Muy malo el Score para un primer modelo"
      ]
    },
    {
      "cell_type": "code",
      "metadata": {
        "id": "yD2Js48kOf8-",
        "colab_type": "code",
        "outputId": "42bbe6e2-93c8-4ed8-d0a2-c476b32848f5",
        "colab": {
          "base_uri": "https://localhost:8080/",
          "height": 34
        }
      },
      "source": [
        "y_test.shape"
      ],
      "execution_count": 145,
      "outputs": [
        {
          "output_type": "execute_result",
          "data": {
            "text/plain": [
              "(14189,)"
            ]
          },
          "metadata": {
            "tags": []
          },
          "execution_count": 145
        }
      ]
    },
    {
      "cell_type": "code",
      "metadata": {
        "id": "-K88gRIYOf9B",
        "colab_type": "code",
        "colab": {}
      },
      "source": [
        "predicted=predicted.reshape(14189)"
      ],
      "execution_count": 0,
      "outputs": []
    },
    {
      "cell_type": "code",
      "metadata": {
        "id": "tWswofAlOf9D",
        "colab_type": "code",
        "colab": {}
      },
      "source": [
        "residuals = y_test - predicted"
      ],
      "execution_count": 0,
      "outputs": []
    },
    {
      "cell_type": "code",
      "metadata": {
        "id": "c7WqhOq-Of9G",
        "colab_type": "code",
        "outputId": "3b846d1e-72a6-4361-f864-b0d3a1a3bf95",
        "colab": {
          "base_uri": "https://localhost:8080/",
          "height": 282
        }
      },
      "source": [
        "plt.scatter(y_test,residuals)"
      ],
      "execution_count": 148,
      "outputs": [
        {
          "output_type": "execute_result",
          "data": {
            "text/plain": [
              "<matplotlib.collections.PathCollection at 0x7fa834f364a8>"
            ]
          },
          "metadata": {
            "tags": []
          },
          "execution_count": 148
        },
        {
          "output_type": "display_data",
          "data": {
            "image/png": "[encoded data removed]",
            "text/plain": [
              "<Figure size 432x288 with 1 Axes>"
            ]
          },
          "metadata": {
            "tags": []
          }
        }
      ]
    },
    {
      "cell_type": "markdown",
      "metadata": {
        "id": "I_ekoYDxaMyu",
        "colab_type": "text"
      },
      "source": [
        "En esta grafica hay patrones que estan juntos por lo tanto es malo"
      ]
    },
    {
      "cell_type": "code",
      "metadata": {
        "id": "rcVDsxVtOf9K",
        "colab_type": "code",
        "colab": {}
      },
      "source": [
        "ap_residuals = np.abs(residuals)/ y_test"
      ],
      "execution_count": 0,
      "outputs": []
    },
    {
      "cell_type": "markdown",
      "metadata": {
        "id": "3QWjE8yEOf9P",
        "colab_type": "text"
      },
      "source": [
        "Aplicando una escala logaritmica"
      ]
    },
    {
      "cell_type": "code",
      "metadata": {
        "id": "5vNnAw2AOf9Q",
        "colab_type": "code",
        "colab": {}
      },
      "source": [
        "lap_residuals = np.log(ap_residuals)"
      ],
      "execution_count": 0,
      "outputs": []
    },
    {
      "cell_type": "markdown",
      "metadata": {
        "id": "ZSjSVuv3cGIY",
        "colab_type": "text"
      },
      "source": [
        "grafica logaritmica"
      ]
    },
    {
      "cell_type": "code",
      "metadata": {
        "id": "DcgfCwBLOf9S",
        "colab_type": "code",
        "outputId": "19bcf6d1-2637-4f15-e1c9-faa7506e8279",
        "colab": {
          "base_uri": "https://localhost:8080/",
          "height": 286
        }
      },
      "source": [
        "plt.scatter(y_test,lap_residuals)"
      ],
      "execution_count": 151,
      "outputs": [
        {
          "output_type": "execute_result",
          "data": {
            "text/plain": [
              "<matplotlib.collections.PathCollection at 0x7fa83531bc88>"
            ]
          },
          "metadata": {
            "tags": []
          },
          "execution_count": 151
        },
        {
          "output_type": "display_data",
          "data": {
            "image/png": "[encoded data removed]",
            "text/plain": [
              "<Figure size 432x288 with 1 Axes>"
            ]
          },
          "metadata": {
            "tags": []
          }
        }
      ]
    },
    {
      "cell_type": "code",
      "metadata": {
        "id": "TqdmhsYIOf9U",
        "colab_type": "code",
        "colab": {
          "base_uri": "https://localhost:8080/",
          "height": 265
        },
        "outputId": "6a26ec4f-814f-4518-a46d-984755904915"
      },
      "source": [
        "plt.hist(lap_residuals, bins = 100, density = 1, histtype = 'step', cumulative = True);"
      ],
      "execution_count": 156,
      "outputs": [
        {
          "output_type": "display_data",
          "data": {
            "image/png": "[encoded data removed]",
            "text/plain": [
              "<Figure size 432x288 with 1 Axes>"
            ]
          },
          "metadata": {
            "tags": []
          }
        }
      ]
    },
    {
      "cell_type": "markdown",
      "metadata": {
        "id": "CdhQnr3NdfK3",
        "colab_type": "text"
      },
      "source": [
        "para el 100% de nuestros datos les fue mal"
      ]
    },
    {
      "cell_type": "code",
      "metadata": {
        "id": "sjrSppFTd5UU",
        "colab_type": "code",
        "colab": {
          "base_uri": "https://localhost:8080/",
          "height": 286
        },
        "outputId": "5dd2c249-39fc-4576-9ddb-8b2e6b7bc6a7"
      },
      "source": [
        "plt.hist(lap_residuals, bins = 100, density = 1, histtype = 'step', cumulative = True);\n",
        "plt.axis([-2,0,0,1])\n",
        "np.power(np.exp(1)*np.ones(5),np.linspace(-2,0,5))"
      ],
      "execution_count": 157,
      "outputs": [
        {
          "output_type": "execute_result",
          "data": {
            "text/plain": [
              "array([0.13533528, 0.22313016, 0.36787944, 0.60653066, 1.        ])"
            ]
          },
          "metadata": {
            "tags": []
          },
          "execution_count": 157
        },
        {
          "output_type": "display_data",
          "data": {
            "image/png": "[encoded data removed]",
            "text/plain": [
              "<Figure size 432x288 with 1 Axes>"
            ]
          },
          "metadata": {
            "tags": []
          }
        }
      ]
    },
    {
      "cell_type": "markdown",
      "metadata": {
        "id": "UllYSj6OemLH",
        "colab_type": "text"
      },
      "source": [
        "El error inferior de -1% para el 50% de los datos y el -0.75% inferior para el 100% de los *datos*"
      ]
    }
  ]
}