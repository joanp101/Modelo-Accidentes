{
  "nbformat": 4,
  "nbformat_minor": 0,
  "metadata": {
    "accelerator": "GPU",
    "colab": {
      "name": "Ensembles_y_optimización_de_Hiperparametros.ipynb",
      "provenance": []
    },
    "kernelspec": {
      "name": "python3",
      "display_name": "Python 3"
    },
    "language_info": {
      "codemirror_mode": {
        "name": "ipython",
        "version": 3
      },
      "file_extension": ".py",
      "mimetype": "text/x-python",
      "name": "python",
      "nbconvert_exporter": "python",
      "pygments_lexer": "ipython3",
      "version": "3.8.1"
    }
  },
  "cells": [
    {
      "cell_type": "code",
      "metadata": {
        "colab_type": "code",
        "id": "n-xlIhZkX4Tc",
        "colab": {}
      },
      "source": [
        "import warnings\n",
        "warnings.simplefilter(\"ignore\")"
      ],
      "execution_count": 0,
      "outputs": []
    },
    {
      "cell_type": "code",
      "metadata": {
        "colab_type": "code",
        "id": "tzFLjhZ-X4Tj",
        "colab": {}
      },
      "source": [
        "%matplotlib inline\n",
        "import numpy as np\n",
        "import pandas as pd\n",
        "import matplotlib.pyplot as plt\n"
      ],
      "execution_count": 0,
      "outputs": []
    },
    {
      "cell_type": "markdown",
      "metadata": {
        "colab_type": "text",
        "id": "0hwr3sfpX4Tn"
      },
      "source": [
        "# Decision Trees"
      ]
    },
    {
      "cell_type": "code",
      "metadata": {
        "colab_type": "code",
        "id": "IG0_5iTyX4Tp",
        "colab": {}
      },
      "source": [
        "from sklearn.tree import DecisionTreeRegressor\n",
        "\n",
        "model = DecisionTreeRegressor(max_depth = 4)"
      ],
      "execution_count": 0,
      "outputs": []
    },
    {
      "cell_type": "markdown",
      "metadata": {
        "colab_type": "text",
        "id": "HG1ocpomX4Tt"
      },
      "source": [
        "max_depth = profundidad del arbol"
      ]
    },
    {
      "cell_type": "code",
      "metadata": {
        "colab_type": "code",
        "id": "Mvvt1CEoX4Tu",
        "colab": {}
      },
      "source": [
        "from sklearn.model_selection import train_test_split\n",
        "\n",
        "X = pd.read_csv(\"X.csv\")\n",
        "y = X['NUM_GRAVEDAD']\n",
        "X = X.drop('NUM_GRAVEDAD',axis=1)"
      ],
      "execution_count": 0,
      "outputs": []
    },
    {
      "cell_type": "code",
      "metadata": {
        "colab_type": "code",
        "id": "PKmjyN_dX4Ty",
        "colab": {}
      },
      "source": [
        "X_train, X_test, y_train, y_test = train_test_split(X,y, random_state=1)"
      ],
      "execution_count": 0,
      "outputs": []
    },
    {
      "cell_type": "code",
      "metadata": {
        "colab_type": "code",
        "id": "b2VwJC5NX4T1",
        "outputId": "c168bb02-c8cf-4ff3-83a6-69565d056405",
        "colab": {
          "base_uri": "https://localhost:8080/",
          "height": 119
        }
      },
      "source": [
        "model.fit(X_train,y_train)"
      ],
      "execution_count": 7,
      "outputs": [
        {
          "output_type": "execute_result",
          "data": {
            "text/plain": [
              "DecisionTreeRegressor(ccp_alpha=0.0, criterion='mse', max_depth=4,\n",
              "                      max_features=None, max_leaf_nodes=None,\n",
              "                      min_impurity_decrease=0.0, min_impurity_split=None,\n",
              "                      min_samples_leaf=1, min_samples_split=2,\n",
              "                      min_weight_fraction_leaf=0.0, presort='deprecated',\n",
              "                      random_state=None, splitter='best')"
            ]
          },
          "metadata": {
            "tags": []
          },
          "execution_count": 7
        }
      ]
    },
    {
      "cell_type": "code",
      "metadata": {
        "colab_type": "code",
        "id": "toFY_wSMX4T7",
        "scrolled": true,
        "colab": {}
      },
      "source": [
        "import graphviz "
      ],
      "execution_count": 0,
      "outputs": []
    },
    {
      "cell_type": "markdown",
      "metadata": {
        "colab_type": "text",
        "id": "YaX7EEEEX4T-"
      },
      "source": [
        "libreria para visualizar grafos"
      ]
    },
    {
      "cell_type": "code",
      "metadata": {
        "colab_type": "code",
        "id": "oSz-DqBkX4UB",
        "colab": {}
      },
      "source": [
        "from sklearn.tree import export_graphviz\n",
        "\n",
        "treedot = export_graphviz(model,\n",
        "                         out_file =None,\n",
        "                          feature_names=X.columns\n",
        "                         )"
      ],
      "execution_count": 0,
      "outputs": []
    },
    {
      "cell_type": "code",
      "metadata": {
        "colab_type": "code",
        "id": "VDhIGVFRX4UF",
        "outputId": "937b83f1-ce18-447d-e5de-fe1a2729b0ad",
        "colab": {
          "base_uri": "https://localhost:8080/",
          "height": 54
        }
      },
      "source": [
        "treedot"
      ],
      "execution_count": 10,
      "outputs": [
        {
          "output_type": "execute_result",
          "data": {
            "text/plain": [
              "'digraph Tree {\\nnode [shape=box] ;\\n0 [label=\"NUM_CLASE <= 1.5\\\\nmse = 0.256\\\\nsamples = 26604\\\\nvalue = 1.477\"] ;\\n1 [label=\"NUM_DISENO <= 1.5\\\\nmse = 0.224\\\\nsamples = 18535\\\\nvalue = 1.677\"] ;\\n0 -> 1 [labeldistance=2.5, labelangle=45, headlabel=\"True\"] ;\\n2 [label=\"Y <= 6.259\\\\nmse = 0.209\\\\nsamples = 12002\\\\nvalue = 1.717\"] ;\\n1 -> 2 ;\\n3 [label=\"X <= -75.576\\\\nmse = 0.194\\\\nsamples = 8125\\\\nvalue = 1.748\"] ;\\n2 -> 3 ;\\n4 [label=\"mse = 0.211\\\\nsamples = 4156\\\\nvalue = 1.712\"] ;\\n3 -> 4 ;\\n5 [label=\"mse = 0.173\\\\nsamples = 3969\\\\nvalue = 1.786\"] ;\\n3 -> 5 ;\\n6 [label=\"RADICADO <= 1642394.5\\\\nmse = 0.234\\\\nsamples = 3877\\\\nvalue = 1.652\"] ;\\n2 -> 6 ;\\n7 [label=\"mse = 0.244\\\\nsamples = 1526\\\\nvalue = 1.611\"] ;\\n6 -> 7 ;\\n8 [label=\"mse = 0.225\\\\nsamples = 2351\\\\nvalue = 1.678\"] ;\\n6 -> 8 ;\\n9 [label=\"CBML <= 1001.5\\\\nmse = 0.244\\\\nsamples = 6533\\\\nvalue = 1.603\"] ;\\n1 -> 9 ;\\n10 [label=\"X <= -75.562\\\\nmse = 0.256\\\\nsamples = 2062\\\\nvalue = 1.499\"] ;\\n9 -> 10 ;\\n11 [label=\"mse = 0.256\\\\nsamples = 1209\\\\nvalue = 1.546\"] ;\\n10 -> 11 ;\\n12 [label=\"mse = 0.248\\\\nsamples = 853\\\\nvalue = 1.431\"] ;\\n10 -> 12 ;\\n13 [label=\"NUM_DISENO <= 2.5\\\\nmse = 0.231\\\\nsamples = 4471\\\\nvalue = 1.651\"] ;\\n9 -> 13 ;\\n14 [label=\"mse = 0.243\\\\nsamples = 2906\\\\nvalue = 1.6\"] ;\\n13 -> 14 ;\\n15 [label=\"mse = 0.194\\\\nsamples = 1565\\\\nvalue = 1.747\"] ;\\n13 -> 15 ;\\n16 [label=\"NUM_DISENO <= 2.5\\\\nmse = 0.027\\\\nsamples = 8069\\\\nvalue = 1.017\"] ;\\n0 -> 16 [labeldistance=2.5, labelangle=-45, headlabel=\"False\"] ;\\n17 [label=\"NUM_CLASE <= 3.5\\\\nmse = 0.043\\\\nsamples = 4861\\\\nvalue = 1.026\"] ;\\n16 -> 17 ;\\n18 [label=\"RADICADO <= 1626655.0\\\\nmse = 0.071\\\\nsamples = 2451\\\\nvalue = 1.04\"] ;\\n17 -> 18 ;\\n19 [label=\"mse = 0.162\\\\nsamples = 430\\\\nvalue = 1.091\"] ;\\n18 -> 19 ;\\n20 [label=\"mse = 0.051\\\\nsamples = 2021\\\\nvalue = 1.029\"] ;\\n18 -> 20 ;\\n21 [label=\"NUM_CLASE <= 4.5\\\\nmse = 0.014\\\\nsamples = 2410\\\\nvalue = 1.012\"] ;\\n17 -> 21 ;\\n22 [label=\"mse = 0.0\\\\nsamples = 1126\\\\nvalue = 1.0\"] ;\\n21 -> 22 ;\\n23 [label=\"mse = 0.025\\\\nsamples = 1284\\\\nvalue = 1.023\"] ;\\n21 -> 23 ;\\n24 [label=\"Y <= 6.249\\\\nmse = 0.002\\\\nsamples = 3208\\\\nvalue = 1.002\"] ;\\n16 -> 24 ;\\n25 [label=\"Y <= 6.249\\\\nmse = 0.007\\\\nsamples = 990\\\\nvalue = 1.007\"] ;\\n24 -> 25 ;\\n26 [label=\"mse = 0.006\\\\nsamples = 988\\\\nvalue = 1.006\"] ;\\n25 -> 26 ;\\n27 [label=\"mse = 0.25\\\\nsamples = 2\\\\nvalue = 1.5\"] ;\\n25 -> 27 ;\\n28 [label=\"RADICADO <= 1683569.5\\\\nmse = 0.0\\\\nsamples = 2218\\\\nvalue = 1.0\"] ;\\n24 -> 28 ;\\n29 [label=\"mse = 0.0\\\\nsamples = 2036\\\\nvalue = 1.0\"] ;\\n28 -> 29 ;\\n30 [label=\"mse = 0.005\\\\nsamples = 182\\\\nvalue = 1.005\"] ;\\n28 -> 30 ;\\n}'"
            ]
          },
          "metadata": {
            "tags": []
          },
          "execution_count": 10
        }
      ]
    },
    {
      "cell_type": "code",
      "metadata": {
        "colab_type": "code",
        "id": "ZtCcu3GnX4UJ",
        "outputId": "dbf9e16d-e28e-4249-e279-30d2bd06aaea",
        "colab": {
          "base_uri": "https://localhost:8080/",
          "height": 677
        }
      },
      "source": [
        "graphviz.Source(treedot)"
      ],
      "execution_count": 11,
      "outputs": [
        {
          "output_type": "execute_result",
          "data": {
            "text/plain": [
              "<graphviz.files.Source at 0x7fcb9b904a58>"
            ],
            "image/svg+xml": "<?xml version=\"1.0\" encoding=\"UTF-8\" standalone=\"no\"?>\n<!DOCTYPE svg PUBLIC \"-//W3C//DTD SVG 1.1//EN\"\n \"http://www.w3.org/Graphics/SVG/1.1/DTD/svg11.dtd\">\n<!-- Generated by graphviz version 2.40.1 (20161225.0304)\n -->\n<!-- Title: Tree Pages: 1 -->\n<svg width=\"1944pt\" height=\"477pt\"\n viewBox=\"0.00 0.00 1943.50 477.00\" xmlns=\"http://www.w3.org/2000/svg\" xmlns:xlink=\"http://www.w3.org/1999/xlink\">\n<g id=\"graph0\" class=\"graph\" transform=\"scale(1 1) rotate(0) translate(4 473)\">\n<title>Tree</title>\n<polygon fill=\"#ffffff\" stroke=\"transparent\" points=\"-4,4 -4,-473 1939.5,-473 1939.5,4 -4,4\"/>\n<!-- 0 -->\n<g id=\"node1\" class=\"node\">\n<title>0</title>\n<polygon fill=\"none\" stroke=\"#000000\" points=\"1039,-469 892,-469 892,-401 1039,-401 1039,-469\"/>\n<text text-anchor=\"middle\" x=\"965.5\" y=\"-453.8\" font-family=\"Times,serif\" font-size=\"14.00\" fill=\"#000000\">NUM_CLASE &lt;= 1.5</text>\n<text text-anchor=\"middle\" x=\"965.5\" y=\"-438.8\" font-family=\"Times,serif\" font-size=\"14.00\" fill=\"#000000\">mse = 0.256</text>\n<text text-anchor=\"middle\" x=\"965.5\" y=\"-423.8\" font-family=\"Times,serif\" font-size=\"14.00\" fill=\"#000000\">samples = 26604</text>\n<text text-anchor=\"middle\" x=\"965.5\" y=\"-408.8\" font-family=\"Times,serif\" font-size=\"14.00\" fill=\"#000000\">value = 1.477</text>\n</g>\n<!-- 1 -->\n<g id=\"node2\" class=\"node\">\n<title>1</title>\n<polygon fill=\"none\" stroke=\"#000000\" points=\"812.5,-365 658.5,-365 658.5,-297 812.5,-297 812.5,-365\"/>\n<text text-anchor=\"middle\" x=\"735.5\" y=\"-349.8\" font-family=\"Times,serif\" font-size=\"14.00\" fill=\"#000000\">NUM_DISENO &lt;= 1.5</text>\n<text text-anchor=\"middle\" x=\"735.5\" y=\"-334.8\" font-family=\"Times,serif\" font-size=\"14.00\" fill=\"#000000\">mse = 0.224</text>\n<text text-anchor=\"middle\" x=\"735.5\" y=\"-319.8\" font-family=\"Times,serif\" font-size=\"14.00\" fill=\"#000000\">samples = 18535</text>\n<text text-anchor=\"middle\" x=\"735.5\" y=\"-304.8\" font-family=\"Times,serif\" font-size=\"14.00\" fill=\"#000000\">value = 1.677</text>\n</g>\n<!-- 0&#45;&gt;1 -->\n<g id=\"edge1\" class=\"edge\">\n<title>0&#45;&gt;1</title>\n<path fill=\"none\" stroke=\"#000000\" d=\"M891.7775,-401.6646C868.9261,-391.3318 843.5676,-379.8654 820.0418,-369.2276\"/>\n<polygon fill=\"#000000\" stroke=\"#000000\" points=\"821.334,-365.9708 810.7801,-365.0397 818.4499,-372.349 821.334,-365.9708\"/>\n<text text-anchor=\"middle\" x=\"819.6042\" y=\"-384.7306\" font-family=\"Times,serif\" font-size=\"14.00\" fill=\"#000000\">True</text>\n</g>\n<!-- 16 -->\n<g id=\"node17\" class=\"node\">\n<title>16</title>\n<polygon fill=\"none\" stroke=\"#000000\" points=\"1305.5,-365 1151.5,-365 1151.5,-297 1305.5,-297 1305.5,-365\"/>\n<text text-anchor=\"middle\" x=\"1228.5\" y=\"-349.8\" font-family=\"Times,serif\" font-size=\"14.00\" fill=\"#000000\">NUM_DISENO &lt;= 2.5</text>\n<text text-anchor=\"middle\" x=\"1228.5\" y=\"-334.8\" font-family=\"Times,serif\" font-size=\"14.00\" fill=\"#000000\">mse = 0.027</text>\n<text text-anchor=\"middle\" x=\"1228.5\" y=\"-319.8\" font-family=\"Times,serif\" font-size=\"14.00\" fill=\"#000000\">samples = 8069</text>\n<text text-anchor=\"middle\" x=\"1228.5\" y=\"-304.8\" font-family=\"Times,serif\" font-size=\"14.00\" fill=\"#000000\">value = 1.017</text>\n</g>\n<!-- 0&#45;&gt;16 -->\n<g id=\"edge16\" class=\"edge\">\n<title>0&#45;&gt;16</title>\n<path fill=\"none\" stroke=\"#000000\" d=\"M1039.1099,-405.8919C1070.921,-393.3126 1108.3792,-378.5002 1141.549,-365.3837\"/>\n<polygon fill=\"#000000\" stroke=\"#000000\" points=\"1143.2246,-368.4849 1151.2368,-361.5527 1140.6504,-361.9753 1143.2246,-368.4849\"/>\n<text text-anchor=\"middle\" x=\"1141.2984\" y=\"-380.7924\" font-family=\"Times,serif\" font-size=\"14.00\" fill=\"#000000\">False</text>\n</g>\n<!-- 2 -->\n<g id=\"node3\" class=\"node\">\n<title>2</title>\n<polygon fill=\"none\" stroke=\"#000000\" points=\"442,-261 327,-261 327,-193 442,-193 442,-261\"/>\n<text text-anchor=\"middle\" x=\"384.5\" y=\"-245.8\" font-family=\"Times,serif\" font-size=\"14.00\" fill=\"#000000\">Y &lt;= 6.259</text>\n<text text-anchor=\"middle\" x=\"384.5\" y=\"-230.8\" font-family=\"Times,serif\" font-size=\"14.00\" fill=\"#000000\">mse = 0.209</text>\n<text text-anchor=\"middle\" x=\"384.5\" y=\"-215.8\" font-family=\"Times,serif\" font-size=\"14.00\" fill=\"#000000\">samples = 12002</text>\n<text text-anchor=\"middle\" x=\"384.5\" y=\"-200.8\" font-family=\"Times,serif\" font-size=\"14.00\" fill=\"#000000\">value = 1.717</text>\n</g>\n<!-- 1&#45;&gt;2 -->\n<g id=\"edge2\" class=\"edge\">\n<title>1&#45;&gt;2</title>\n<path fill=\"none\" stroke=\"#000000\" d=\"M658.4716,-308.1768C596.6313,-289.8537 510.6732,-264.3847 451.6197,-246.8873\"/>\n<polygon fill=\"#000000\" stroke=\"#000000\" points=\"452.5984,-243.527 442.0161,-244.0418 450.6098,-250.2386 452.5984,-243.527\"/>\n</g>\n<!-- 9 -->\n<g id=\"node10\" class=\"node\">\n<title>9</title>\n<polygon fill=\"none\" stroke=\"#000000\" points=\"796.5,-261 674.5,-261 674.5,-193 796.5,-193 796.5,-261\"/>\n<text text-anchor=\"middle\" x=\"735.5\" y=\"-245.8\" font-family=\"Times,serif\" font-size=\"14.00\" fill=\"#000000\">CBML &lt;= 1001.5</text>\n<text text-anchor=\"middle\" x=\"735.5\" y=\"-230.8\" font-family=\"Times,serif\" font-size=\"14.00\" fill=\"#000000\">mse = 0.244</text>\n<text text-anchor=\"middle\" x=\"735.5\" y=\"-215.8\" font-family=\"Times,serif\" font-size=\"14.00\" fill=\"#000000\">samples = 6533</text>\n<text text-anchor=\"middle\" x=\"735.5\" y=\"-200.8\" font-family=\"Times,serif\" font-size=\"14.00\" fill=\"#000000\">value = 1.603</text>\n</g>\n<!-- 1&#45;&gt;9 -->\n<g id=\"edge9\" class=\"edge\">\n<title>1&#45;&gt;9</title>\n<path fill=\"none\" stroke=\"#000000\" d=\"M735.5,-296.9465C735.5,-288.776 735.5,-279.9318 735.5,-271.3697\"/>\n<polygon fill=\"#000000\" stroke=\"#000000\" points=\"739.0001,-271.13 735.5,-261.13 732.0001,-271.13 739.0001,-271.13\"/>\n</g>\n<!-- 3 -->\n<g id=\"node4\" class=\"node\">\n<title>3</title>\n<polygon fill=\"none\" stroke=\"#000000\" points=\"232,-157 125,-157 125,-89 232,-89 232,-157\"/>\n<text text-anchor=\"middle\" x=\"178.5\" y=\"-141.8\" font-family=\"Times,serif\" font-size=\"14.00\" fill=\"#000000\">X &lt;= &#45;75.576</text>\n<text text-anchor=\"middle\" x=\"178.5\" y=\"-126.8\" font-family=\"Times,serif\" font-size=\"14.00\" fill=\"#000000\">mse = 0.194</text>\n<text text-anchor=\"middle\" x=\"178.5\" y=\"-111.8\" font-family=\"Times,serif\" font-size=\"14.00\" fill=\"#000000\">samples = 8125</text>\n<text text-anchor=\"middle\" x=\"178.5\" y=\"-96.8\" font-family=\"Times,serif\" font-size=\"14.00\" fill=\"#000000\">value = 1.748</text>\n</g>\n<!-- 2&#45;&gt;3 -->\n<g id=\"edge3\" class=\"edge\">\n<title>2&#45;&gt;3</title>\n<path fill=\"none\" stroke=\"#000000\" d=\"M326.8436,-197.8919C300.2158,-184.4488 268.5366,-168.4554 241.3039,-154.7068\"/>\n<polygon fill=\"#000000\" stroke=\"#000000\" points=\"242.7569,-151.5197 232.2526,-150.1372 239.6021,-157.7685 242.7569,-151.5197\"/>\n</g>\n<!-- 6 -->\n<g id=\"node7\" class=\"node\">\n<title>6</title>\n<polygon fill=\"none\" stroke=\"#000000\" points=\"475,-157 294,-157 294,-89 475,-89 475,-157\"/>\n<text text-anchor=\"middle\" x=\"384.5\" y=\"-141.8\" font-family=\"Times,serif\" font-size=\"14.00\" fill=\"#000000\">RADICADO &lt;= 1642394.5</text>\n<text text-anchor=\"middle\" x=\"384.5\" y=\"-126.8\" font-family=\"Times,serif\" font-size=\"14.00\" fill=\"#000000\">mse = 0.234</text>\n<text text-anchor=\"middle\" x=\"384.5\" y=\"-111.8\" font-family=\"Times,serif\" font-size=\"14.00\" fill=\"#000000\">samples = 3877</text>\n<text text-anchor=\"middle\" x=\"384.5\" y=\"-96.8\" font-family=\"Times,serif\" font-size=\"14.00\" fill=\"#000000\">value = 1.652</text>\n</g>\n<!-- 2&#45;&gt;6 -->\n<g id=\"edge6\" class=\"edge\">\n<title>2&#45;&gt;6</title>\n<path fill=\"none\" stroke=\"#000000\" d=\"M384.5,-192.9465C384.5,-184.776 384.5,-175.9318 384.5,-167.3697\"/>\n<polygon fill=\"#000000\" stroke=\"#000000\" points=\"388.0001,-167.13 384.5,-157.13 381.0001,-167.13 388.0001,-167.13\"/>\n</g>\n<!-- 4 -->\n<g id=\"node5\" class=\"node\">\n<title>4</title>\n<polygon fill=\"none\" stroke=\"#000000\" points=\"107,-53 0,-53 0,0 107,0 107,-53\"/>\n<text text-anchor=\"middle\" x=\"53.5\" y=\"-37.8\" font-family=\"Times,serif\" font-size=\"14.00\" fill=\"#000000\">mse = 0.211</text>\n<text text-anchor=\"middle\" x=\"53.5\" y=\"-22.8\" font-family=\"Times,serif\" font-size=\"14.00\" fill=\"#000000\">samples = 4156</text>\n<text text-anchor=\"middle\" x=\"53.5\" y=\"-7.8\" font-family=\"Times,serif\" font-size=\"14.00\" fill=\"#000000\">value = 1.712</text>\n</g>\n<!-- 3&#45;&gt;4 -->\n<g id=\"edge4\" class=\"edge\">\n<title>3&#45;&gt;4</title>\n<path fill=\"none\" stroke=\"#000000\" d=\"M134.4297,-88.9777C121.9752,-79.3629 108.4485,-68.9203 96.0833,-59.3743\"/>\n<polygon fill=\"#000000\" stroke=\"#000000\" points=\"98.2028,-56.5889 88.1483,-53.2485 93.9251,-62.1299 98.2028,-56.5889\"/>\n</g>\n<!-- 5 -->\n<g id=\"node6\" class=\"node\">\n<title>5</title>\n<polygon fill=\"none\" stroke=\"#000000\" points=\"232,-53 125,-53 125,0 232,0 232,-53\"/>\n<text text-anchor=\"middle\" x=\"178.5\" y=\"-37.8\" font-family=\"Times,serif\" font-size=\"14.00\" fill=\"#000000\">mse = 0.173</text>\n<text text-anchor=\"middle\" x=\"178.5\" y=\"-22.8\" font-family=\"Times,serif\" font-size=\"14.00\" fill=\"#000000\">samples = 3969</text>\n<text text-anchor=\"middle\" x=\"178.5\" y=\"-7.8\" font-family=\"Times,serif\" font-size=\"14.00\" fill=\"#000000\">value = 1.786</text>\n</g>\n<!-- 3&#45;&gt;5 -->\n<g id=\"edge5\" class=\"edge\">\n<title>3&#45;&gt;5</title>\n<path fill=\"none\" stroke=\"#000000\" d=\"M178.5,-88.9777C178.5,-80.7364 178.5,-71.887 178.5,-63.5153\"/>\n<polygon fill=\"#000000\" stroke=\"#000000\" points=\"182.0001,-63.2484 178.5,-53.2485 175.0001,-63.2485 182.0001,-63.2484\"/>\n</g>\n<!-- 7 -->\n<g id=\"node8\" class=\"node\">\n<title>7</title>\n<polygon fill=\"none\" stroke=\"#000000\" points=\"357,-53 250,-53 250,0 357,0 357,-53\"/>\n<text text-anchor=\"middle\" x=\"303.5\" y=\"-37.8\" font-family=\"Times,serif\" font-size=\"14.00\" fill=\"#000000\">mse = 0.244</text>\n<text text-anchor=\"middle\" x=\"303.5\" y=\"-22.8\" font-family=\"Times,serif\" font-size=\"14.00\" fill=\"#000000\">samples = 1526</text>\n<text text-anchor=\"middle\" x=\"303.5\" y=\"-7.8\" font-family=\"Times,serif\" font-size=\"14.00\" fill=\"#000000\">value = 1.611</text>\n</g>\n<!-- 6&#45;&gt;7 -->\n<g id=\"edge7\" class=\"edge\">\n<title>6&#45;&gt;7</title>\n<path fill=\"none\" stroke=\"#000000\" d=\"M355.9424,-88.9777C348.3331,-79.9123 340.1061,-70.111 332.4747,-61.0192\"/>\n<polygon fill=\"#000000\" stroke=\"#000000\" points=\"335.062,-58.6577 325.9521,-53.2485 329.7005,-63.1581 335.062,-58.6577\"/>\n</g>\n<!-- 8 -->\n<g id=\"node9\" class=\"node\">\n<title>8</title>\n<polygon fill=\"none\" stroke=\"#000000\" points=\"482,-53 375,-53 375,0 482,0 482,-53\"/>\n<text text-anchor=\"middle\" x=\"428.5\" y=\"-37.8\" font-family=\"Times,serif\" font-size=\"14.00\" fill=\"#000000\">mse = 0.225</text>\n<text text-anchor=\"middle\" x=\"428.5\" y=\"-22.8\" font-family=\"Times,serif\" font-size=\"14.00\" fill=\"#000000\">samples = 2351</text>\n<text text-anchor=\"middle\" x=\"428.5\" y=\"-7.8\" font-family=\"Times,serif\" font-size=\"14.00\" fill=\"#000000\">value = 1.678</text>\n</g>\n<!-- 6&#45;&gt;8 -->\n<g id=\"edge8\" class=\"edge\">\n<title>6&#45;&gt;8</title>\n<path fill=\"none\" stroke=\"#000000\" d=\"M400.0128,-88.9777C403.9374,-80.3702 408.1646,-71.0992 412.1302,-62.402\"/>\n<polygon fill=\"#000000\" stroke=\"#000000\" points=\"415.3397,-63.7994 416.3038,-53.2485 408.9705,-60.8952 415.3397,-63.7994\"/>\n</g>\n<!-- 10 -->\n<g id=\"node11\" class=\"node\">\n<title>10</title>\n<polygon fill=\"none\" stroke=\"#000000\" points=\"715,-157 608,-157 608,-89 715,-89 715,-157\"/>\n<text text-anchor=\"middle\" x=\"661.5\" y=\"-141.8\" font-family=\"Times,serif\" font-size=\"14.00\" fill=\"#000000\">X &lt;= &#45;75.562</text>\n<text text-anchor=\"middle\" x=\"661.5\" y=\"-126.8\" font-family=\"Times,serif\" font-size=\"14.00\" fill=\"#000000\">mse = 0.256</text>\n<text text-anchor=\"middle\" x=\"661.5\" y=\"-111.8\" font-family=\"Times,serif\" font-size=\"14.00\" fill=\"#000000\">samples = 2062</text>\n<text text-anchor=\"middle\" x=\"661.5\" y=\"-96.8\" font-family=\"Times,serif\" font-size=\"14.00\" fill=\"#000000\">value = 1.499</text>\n</g>\n<!-- 9&#45;&gt;10 -->\n<g id=\"edge10\" class=\"edge\">\n<title>9&#45;&gt;10</title>\n<path fill=\"none\" stroke=\"#000000\" d=\"M711.2696,-192.9465C705.0088,-184.1475 698.192,-174.5672 691.6687,-165.3993\"/>\n<polygon fill=\"#000000\" stroke=\"#000000\" points=\"694.4342,-163.2488 685.7848,-157.13 688.7306,-167.3071 694.4342,-163.2488\"/>\n</g>\n<!-- 13 -->\n<g id=\"node14\" class=\"node\">\n<title>13</title>\n<polygon fill=\"none\" stroke=\"#000000\" points=\"887.5,-157 733.5,-157 733.5,-89 887.5,-89 887.5,-157\"/>\n<text text-anchor=\"middle\" x=\"810.5\" y=\"-141.8\" font-family=\"Times,serif\" font-size=\"14.00\" fill=\"#000000\">NUM_DISENO &lt;= 2.5</text>\n<text text-anchor=\"middle\" x=\"810.5\" y=\"-126.8\" font-family=\"Times,serif\" font-size=\"14.00\" fill=\"#000000\">mse = 0.231</text>\n<text text-anchor=\"middle\" x=\"810.5\" y=\"-111.8\" font-family=\"Times,serif\" font-size=\"14.00\" fill=\"#000000\">samples = 4471</text>\n<text text-anchor=\"middle\" x=\"810.5\" y=\"-96.8\" font-family=\"Times,serif\" font-size=\"14.00\" fill=\"#000000\">value = 1.651</text>\n</g>\n<!-- 9&#45;&gt;13 -->\n<g id=\"edge13\" class=\"edge\">\n<title>9&#45;&gt;13</title>\n<path fill=\"none\" stroke=\"#000000\" d=\"M760.0578,-192.9465C766.4032,-184.1475 773.3121,-174.5672 779.9236,-165.3993\"/>\n<polygon fill=\"#000000\" stroke=\"#000000\" points=\"782.8766,-167.2882 785.887,-157.13 777.1989,-163.1937 782.8766,-167.2882\"/>\n</g>\n<!-- 11 -->\n<g id=\"node12\" class=\"node\">\n<title>11</title>\n<polygon fill=\"none\" stroke=\"#000000\" points=\"607,-53 500,-53 500,0 607,0 607,-53\"/>\n<text text-anchor=\"middle\" x=\"553.5\" y=\"-37.8\" font-family=\"Times,serif\" font-size=\"14.00\" fill=\"#000000\">mse = 0.256</text>\n<text text-anchor=\"middle\" x=\"553.5\" y=\"-22.8\" font-family=\"Times,serif\" font-size=\"14.00\" fill=\"#000000\">samples = 1209</text>\n<text text-anchor=\"middle\" x=\"553.5\" y=\"-7.8\" font-family=\"Times,serif\" font-size=\"14.00\" fill=\"#000000\">value = 1.546</text>\n</g>\n<!-- 10&#45;&gt;11 -->\n<g id=\"edge11\" class=\"edge\">\n<title>10&#45;&gt;11</title>\n<path fill=\"none\" stroke=\"#000000\" d=\"M623.4232,-88.9777C612.8676,-79.546 601.4204,-69.3178 590.9036,-59.9208\"/>\n<polygon fill=\"#000000\" stroke=\"#000000\" points=\"593.2251,-57.3015 583.4361,-53.2485 588.561,-62.5213 593.2251,-57.3015\"/>\n</g>\n<!-- 12 -->\n<g id=\"node13\" class=\"node\">\n<title>12</title>\n<polygon fill=\"none\" stroke=\"#000000\" points=\"725.5,-53 625.5,-53 625.5,0 725.5,0 725.5,-53\"/>\n<text text-anchor=\"middle\" x=\"675.5\" y=\"-37.8\" font-family=\"Times,serif\" font-size=\"14.00\" fill=\"#000000\">mse = 0.248</text>\n<text text-anchor=\"middle\" x=\"675.5\" y=\"-22.8\" font-family=\"Times,serif\" font-size=\"14.00\" fill=\"#000000\">samples = 853</text>\n<text text-anchor=\"middle\" x=\"675.5\" y=\"-7.8\" font-family=\"Times,serif\" font-size=\"14.00\" fill=\"#000000\">value = 1.431</text>\n</g>\n<!-- 10&#45;&gt;12 -->\n<g id=\"edge12\" class=\"edge\">\n<title>10&#45;&gt;12</title>\n<path fill=\"none\" stroke=\"#000000\" d=\"M666.4359,-88.9777C667.6448,-80.6449 668.9439,-71.6903 670.1704,-63.2364\"/>\n<polygon fill=\"#000000\" stroke=\"#000000\" points=\"673.6473,-63.6474 671.6194,-53.2485 666.7198,-62.6423 673.6473,-63.6474\"/>\n</g>\n<!-- 14 -->\n<g id=\"node15\" class=\"node\">\n<title>14</title>\n<polygon fill=\"none\" stroke=\"#000000\" points=\"851,-53 744,-53 744,0 851,0 851,-53\"/>\n<text text-anchor=\"middle\" x=\"797.5\" y=\"-37.8\" font-family=\"Times,serif\" font-size=\"14.00\" fill=\"#000000\">mse = 0.243</text>\n<text text-anchor=\"middle\" x=\"797.5\" y=\"-22.8\" font-family=\"Times,serif\" font-size=\"14.00\" fill=\"#000000\">samples = 2906</text>\n<text text-anchor=\"middle\" x=\"797.5\" y=\"-7.8\" font-family=\"Times,serif\" font-size=\"14.00\" fill=\"#000000\">value = 1.6</text>\n</g>\n<!-- 13&#45;&gt;14 -->\n<g id=\"edge14\" class=\"edge\">\n<title>13&#45;&gt;14</title>\n<path fill=\"none\" stroke=\"#000000\" d=\"M805.9167,-88.9777C804.7941,-80.6449 803.5878,-71.6903 802.449,-63.2364\"/>\n<polygon fill=\"#000000\" stroke=\"#000000\" points=\"805.9073,-62.6916 801.1034,-53.2485 798.9699,-63.6263 805.9073,-62.6916\"/>\n</g>\n<!-- 15 -->\n<g id=\"node16\" class=\"node\">\n<title>15</title>\n<polygon fill=\"none\" stroke=\"#000000\" points=\"976,-53 869,-53 869,0 976,0 976,-53\"/>\n<text text-anchor=\"middle\" x=\"922.5\" y=\"-37.8\" font-family=\"Times,serif\" font-size=\"14.00\" fill=\"#000000\">mse = 0.194</text>\n<text text-anchor=\"middle\" x=\"922.5\" y=\"-22.8\" font-family=\"Times,serif\" font-size=\"14.00\" fill=\"#000000\">samples = 1565</text>\n<text text-anchor=\"middle\" x=\"922.5\" y=\"-7.8\" font-family=\"Times,serif\" font-size=\"14.00\" fill=\"#000000\">value = 1.747</text>\n</g>\n<!-- 13&#45;&gt;15 -->\n<g id=\"edge15\" class=\"edge\">\n<title>13&#45;&gt;15</title>\n<path fill=\"none\" stroke=\"#000000\" d=\"M849.987,-88.9777C860.9336,-79.546 872.8047,-69.3178 883.7111,-59.9208\"/>\n<polygon fill=\"#000000\" stroke=\"#000000\" points=\"886.1639,-62.4274 891.4551,-53.2485 881.5947,-57.1244 886.1639,-62.4274\"/>\n</g>\n<!-- 17 -->\n<g id=\"node18\" class=\"node\">\n<title>17</title>\n<polygon fill=\"none\" stroke=\"#000000\" points=\"1302,-261 1155,-261 1155,-193 1302,-193 1302,-261\"/>\n<text text-anchor=\"middle\" x=\"1228.5\" y=\"-245.8\" font-family=\"Times,serif\" font-size=\"14.00\" fill=\"#000000\">NUM_CLASE &lt;= 3.5</text>\n<text text-anchor=\"middle\" x=\"1228.5\" y=\"-230.8\" font-family=\"Times,serif\" font-size=\"14.00\" fill=\"#000000\">mse = 0.043</text>\n<text text-anchor=\"middle\" x=\"1228.5\" y=\"-215.8\" font-family=\"Times,serif\" font-size=\"14.00\" fill=\"#000000\">samples = 4861</text>\n<text text-anchor=\"middle\" x=\"1228.5\" y=\"-200.8\" font-family=\"Times,serif\" font-size=\"14.00\" fill=\"#000000\">value = 1.026</text>\n</g>\n<!-- 16&#45;&gt;17 -->\n<g id=\"edge17\" class=\"edge\">\n<title>16&#45;&gt;17</title>\n<path fill=\"none\" stroke=\"#000000\" d=\"M1228.5,-296.9465C1228.5,-288.776 1228.5,-279.9318 1228.5,-271.3697\"/>\n<polygon fill=\"#000000\" stroke=\"#000000\" points=\"1232.0001,-271.13 1228.5,-261.13 1225.0001,-271.13 1232.0001,-271.13\"/>\n</g>\n<!-- 24 -->\n<g id=\"node25\" class=\"node\">\n<title>24</title>\n<polygon fill=\"none\" stroke=\"#000000\" points=\"1625,-261 1518,-261 1518,-193 1625,-193 1625,-261\"/>\n<text text-anchor=\"middle\" x=\"1571.5\" y=\"-245.8\" font-family=\"Times,serif\" font-size=\"14.00\" fill=\"#000000\">Y &lt;= 6.249</text>\n<text text-anchor=\"middle\" x=\"1571.5\" y=\"-230.8\" font-family=\"Times,serif\" font-size=\"14.00\" fill=\"#000000\">mse = 0.002</text>\n<text text-anchor=\"middle\" x=\"1571.5\" y=\"-215.8\" font-family=\"Times,serif\" font-size=\"14.00\" fill=\"#000000\">samples = 3208</text>\n<text text-anchor=\"middle\" x=\"1571.5\" y=\"-200.8\" font-family=\"Times,serif\" font-size=\"14.00\" fill=\"#000000\">value = 1.002</text>\n</g>\n<!-- 16&#45;&gt;24 -->\n<g id=\"edge24\" class=\"edge\">\n<title>16&#45;&gt;24</title>\n<path fill=\"none\" stroke=\"#000000\" d=\"M1305.9036,-307.5307C1366.981,-289.0116 1451.1199,-263.5001 1508.2107,-246.1897\"/>\n<polygon fill=\"#000000\" stroke=\"#000000\" points=\"1509.2836,-249.5219 1517.8378,-243.2708 1507.2524,-242.823 1509.2836,-249.5219\"/>\n</g>\n<!-- 18 -->\n<g id=\"node19\" class=\"node\">\n<title>18</title>\n<polygon fill=\"none\" stroke=\"#000000\" points=\"1228,-157 1047,-157 1047,-89 1228,-89 1228,-157\"/>\n<text text-anchor=\"middle\" x=\"1137.5\" y=\"-141.8\" font-family=\"Times,serif\" font-size=\"14.00\" fill=\"#000000\">RADICADO &lt;= 1626655.0</text>\n<text text-anchor=\"middle\" x=\"1137.5\" y=\"-126.8\" font-family=\"Times,serif\" font-size=\"14.00\" fill=\"#000000\">mse = 0.071</text>\n<text text-anchor=\"middle\" x=\"1137.5\" y=\"-111.8\" font-family=\"Times,serif\" font-size=\"14.00\" fill=\"#000000\">samples = 2451</text>\n<text text-anchor=\"middle\" x=\"1137.5\" y=\"-96.8\" font-family=\"Times,serif\" font-size=\"14.00\" fill=\"#000000\">value = 1.04</text>\n</g>\n<!-- 17&#45;&gt;18 -->\n<g id=\"edge18\" class=\"edge\">\n<title>17&#45;&gt;18</title>\n<path fill=\"none\" stroke=\"#000000\" d=\"M1198.7032,-192.9465C1190.847,-183.968 1182.2788,-174.1758 1174.1087,-164.8385\"/>\n<polygon fill=\"#000000\" stroke=\"#000000\" points=\"1176.5829,-162.351 1167.3637,-157.13 1171.3148,-166.9606 1176.5829,-162.351\"/>\n</g>\n<!-- 21 -->\n<g id=\"node22\" class=\"node\">\n<title>21</title>\n<polygon fill=\"none\" stroke=\"#000000\" points=\"1393,-157 1246,-157 1246,-89 1393,-89 1393,-157\"/>\n<text text-anchor=\"middle\" x=\"1319.5\" y=\"-141.8\" font-family=\"Times,serif\" font-size=\"14.00\" fill=\"#000000\">NUM_CLASE &lt;= 4.5</text>\n<text text-anchor=\"middle\" x=\"1319.5\" y=\"-126.8\" font-family=\"Times,serif\" font-size=\"14.00\" fill=\"#000000\">mse = 0.014</text>\n<text text-anchor=\"middle\" x=\"1319.5\" y=\"-111.8\" font-family=\"Times,serif\" font-size=\"14.00\" fill=\"#000000\">samples = 2410</text>\n<text text-anchor=\"middle\" x=\"1319.5\" y=\"-96.8\" font-family=\"Times,serif\" font-size=\"14.00\" fill=\"#000000\">value = 1.012</text>\n</g>\n<!-- 17&#45;&gt;21 -->\n<g id=\"edge21\" class=\"edge\">\n<title>17&#45;&gt;21</title>\n<path fill=\"none\" stroke=\"#000000\" d=\"M1258.2968,-192.9465C1266.153,-183.968 1274.7212,-174.1758 1282.8913,-164.8385\"/>\n<polygon fill=\"#000000\" stroke=\"#000000\" points=\"1285.6852,-166.9606 1289.6363,-157.13 1280.4171,-162.351 1285.6852,-166.9606\"/>\n</g>\n<!-- 19 -->\n<g id=\"node20\" class=\"node\">\n<title>19</title>\n<polygon fill=\"none\" stroke=\"#000000\" points=\"1094.5,-53 994.5,-53 994.5,0 1094.5,0 1094.5,-53\"/>\n<text text-anchor=\"middle\" x=\"1044.5\" y=\"-37.8\" font-family=\"Times,serif\" font-size=\"14.00\" fill=\"#000000\">mse = 0.162</text>\n<text text-anchor=\"middle\" x=\"1044.5\" y=\"-22.8\" font-family=\"Times,serif\" font-size=\"14.00\" fill=\"#000000\">samples = 430</text>\n<text text-anchor=\"middle\" x=\"1044.5\" y=\"-7.8\" font-family=\"Times,serif\" font-size=\"14.00\" fill=\"#000000\">value = 1.091</text>\n</g>\n<!-- 18&#45;&gt;19 -->\n<g id=\"edge19\" class=\"edge\">\n<title>18&#45;&gt;19</title>\n<path fill=\"none\" stroke=\"#000000\" d=\"M1104.7117,-88.9777C1095.7986,-79.7292 1086.1473,-69.7147 1077.2371,-60.4691\"/>\n<polygon fill=\"#000000\" stroke=\"#000000\" points=\"1079.7378,-58.0202 1070.2783,-53.2485 1074.6975,-62.8777 1079.7378,-58.0202\"/>\n</g>\n<!-- 20 -->\n<g id=\"node21\" class=\"node\">\n<title>20</title>\n<polygon fill=\"none\" stroke=\"#000000\" points=\"1220,-53 1113,-53 1113,0 1220,0 1220,-53\"/>\n<text text-anchor=\"middle\" x=\"1166.5\" y=\"-37.8\" font-family=\"Times,serif\" font-size=\"14.00\" fill=\"#000000\">mse = 0.051</text>\n<text text-anchor=\"middle\" x=\"1166.5\" y=\"-22.8\" font-family=\"Times,serif\" font-size=\"14.00\" fill=\"#000000\">samples = 2021</text>\n<text text-anchor=\"middle\" x=\"1166.5\" y=\"-7.8\" font-family=\"Times,serif\" font-size=\"14.00\" fill=\"#000000\">value = 1.029</text>\n</g>\n<!-- 18&#45;&gt;20 -->\n<g id=\"edge20\" class=\"edge\">\n<title>18&#45;&gt;20</title>\n<path fill=\"none\" stroke=\"#000000\" d=\"M1147.7243,-88.9777C1150.256,-80.5533 1152.9787,-71.4934 1155.5437,-62.9579\"/>\n<polygon fill=\"#000000\" stroke=\"#000000\" points=\"1158.9354,-63.8327 1158.4616,-53.2485 1152.2316,-61.818 1158.9354,-63.8327\"/>\n</g>\n<!-- 22 -->\n<g id=\"node23\" class=\"node\">\n<title>22</title>\n<polygon fill=\"none\" stroke=\"#000000\" points=\"1345,-53 1238,-53 1238,0 1345,0 1345,-53\"/>\n<text text-anchor=\"middle\" x=\"1291.5\" y=\"-37.8\" font-family=\"Times,serif\" font-size=\"14.00\" fill=\"#000000\">mse = 0.0</text>\n<text text-anchor=\"middle\" x=\"1291.5\" y=\"-22.8\" font-family=\"Times,serif\" font-size=\"14.00\" fill=\"#000000\">samples = 1126</text>\n<text text-anchor=\"middle\" x=\"1291.5\" y=\"-7.8\" font-family=\"Times,serif\" font-size=\"14.00\" fill=\"#000000\">value = 1.0</text>\n</g>\n<!-- 21&#45;&gt;22 -->\n<g id=\"edge22\" class=\"edge\">\n<title>21&#45;&gt;22</title>\n<path fill=\"none\" stroke=\"#000000\" d=\"M1309.6282,-88.9777C1307.1839,-80.5533 1304.5551,-71.4934 1302.0785,-62.9579\"/>\n<polygon fill=\"#000000\" stroke=\"#000000\" points=\"1305.4093,-61.877 1299.2612,-53.2485 1298.6865,-63.8277 1305.4093,-61.877\"/>\n</g>\n<!-- 23 -->\n<g id=\"node24\" class=\"node\">\n<title>23</title>\n<polygon fill=\"none\" stroke=\"#000000\" points=\"1470,-53 1363,-53 1363,0 1470,0 1470,-53\"/>\n<text text-anchor=\"middle\" x=\"1416.5\" y=\"-37.8\" font-family=\"Times,serif\" font-size=\"14.00\" fill=\"#000000\">mse = 0.025</text>\n<text text-anchor=\"middle\" x=\"1416.5\" y=\"-22.8\" font-family=\"Times,serif\" font-size=\"14.00\" fill=\"#000000\">samples = 1284</text>\n<text text-anchor=\"middle\" x=\"1416.5\" y=\"-7.8\" font-family=\"Times,serif\" font-size=\"14.00\" fill=\"#000000\">value = 1.023</text>\n</g>\n<!-- 21&#45;&gt;23 -->\n<g id=\"edge23\" class=\"edge\">\n<title>21&#45;&gt;23</title>\n<path fill=\"none\" stroke=\"#000000\" d=\"M1353.6986,-88.9777C1362.995,-79.7292 1373.0614,-69.7147 1382.3549,-60.4691\"/>\n<polygon fill=\"#000000\" stroke=\"#000000\" points=\"1384.9921,-62.7825 1389.6129,-53.2485 1380.0551,-57.82 1384.9921,-62.7825\"/>\n</g>\n<!-- 25 -->\n<g id=\"node26\" class=\"node\">\n<title>25</title>\n<polygon fill=\"none\" stroke=\"#000000\" points=\"1621.5,-157 1521.5,-157 1521.5,-89 1621.5,-89 1621.5,-157\"/>\n<text text-anchor=\"middle\" x=\"1571.5\" y=\"-141.8\" font-family=\"Times,serif\" font-size=\"14.00\" fill=\"#000000\">Y &lt;= 6.249</text>\n<text text-anchor=\"middle\" x=\"1571.5\" y=\"-126.8\" font-family=\"Times,serif\" font-size=\"14.00\" fill=\"#000000\">mse = 0.007</text>\n<text text-anchor=\"middle\" x=\"1571.5\" y=\"-111.8\" font-family=\"Times,serif\" font-size=\"14.00\" fill=\"#000000\">samples = 990</text>\n<text text-anchor=\"middle\" x=\"1571.5\" y=\"-96.8\" font-family=\"Times,serif\" font-size=\"14.00\" fill=\"#000000\">value = 1.007</text>\n</g>\n<!-- 24&#45;&gt;25 -->\n<g id=\"edge25\" class=\"edge\">\n<title>24&#45;&gt;25</title>\n<path fill=\"none\" stroke=\"#000000\" d=\"M1571.5,-192.9465C1571.5,-184.776 1571.5,-175.9318 1571.5,-167.3697\"/>\n<polygon fill=\"#000000\" stroke=\"#000000\" points=\"1575.0001,-167.13 1571.5,-157.13 1568.0001,-167.13 1575.0001,-167.13\"/>\n</g>\n<!-- 28 -->\n<g id=\"node29\" class=\"node\">\n<title>28</title>\n<polygon fill=\"none\" stroke=\"#000000\" points=\"1854,-157 1673,-157 1673,-89 1854,-89 1854,-157\"/>\n<text text-anchor=\"middle\" x=\"1763.5\" y=\"-141.8\" font-family=\"Times,serif\" font-size=\"14.00\" fill=\"#000000\">RADICADO &lt;= 1683569.5</text>\n<text text-anchor=\"middle\" x=\"1763.5\" y=\"-126.8\" font-family=\"Times,serif\" font-size=\"14.00\" fill=\"#000000\">mse = 0.0</text>\n<text text-anchor=\"middle\" x=\"1763.5\" y=\"-111.8\" font-family=\"Times,serif\" font-size=\"14.00\" fill=\"#000000\">samples = 2218</text>\n<text text-anchor=\"middle\" x=\"1763.5\" y=\"-96.8\" font-family=\"Times,serif\" font-size=\"14.00\" fill=\"#000000\">value = 1.0</text>\n</g>\n<!-- 24&#45;&gt;28 -->\n<g id=\"edge28\" class=\"edge\">\n<title>24&#45;&gt;28</title>\n<path fill=\"none\" stroke=\"#000000\" d=\"M1625.238,-197.8919C1645.8114,-186.748 1669.6202,-173.8516 1691.6215,-161.9342\"/>\n<polygon fill=\"#000000\" stroke=\"#000000\" points=\"1693.4734,-164.9116 1700.5993,-157.0712 1690.1394,-158.7566 1693.4734,-164.9116\"/>\n</g>\n<!-- 26 -->\n<g id=\"node27\" class=\"node\">\n<title>26</title>\n<polygon fill=\"none\" stroke=\"#000000\" points=\"1588.5,-53 1488.5,-53 1488.5,0 1588.5,0 1588.5,-53\"/>\n<text text-anchor=\"middle\" x=\"1538.5\" y=\"-37.8\" font-family=\"Times,serif\" font-size=\"14.00\" fill=\"#000000\">mse = 0.006</text>\n<text text-anchor=\"middle\" x=\"1538.5\" y=\"-22.8\" font-family=\"Times,serif\" font-size=\"14.00\" fill=\"#000000\">samples = 988</text>\n<text text-anchor=\"middle\" x=\"1538.5\" y=\"-7.8\" font-family=\"Times,serif\" font-size=\"14.00\" fill=\"#000000\">value = 1.006</text>\n</g>\n<!-- 25&#45;&gt;26 -->\n<g id=\"edge26\" class=\"edge\">\n<title>25&#45;&gt;26</title>\n<path fill=\"none\" stroke=\"#000000\" d=\"M1559.8654,-88.9777C1556.9845,-80.5533 1553.8863,-71.4934 1550.9675,-62.9579\"/>\n<polygon fill=\"#000000\" stroke=\"#000000\" points=\"1554.1946,-61.578 1547.6471,-53.2485 1547.5712,-63.843 1554.1946,-61.578\"/>\n</g>\n<!-- 27 -->\n<g id=\"node28\" class=\"node\">\n<title>27</title>\n<polygon fill=\"none\" stroke=\"#000000\" points=\"1692,-53 1607,-53 1607,0 1692,0 1692,-53\"/>\n<text text-anchor=\"middle\" x=\"1649.5\" y=\"-37.8\" font-family=\"Times,serif\" font-size=\"14.00\" fill=\"#000000\">mse = 0.25</text>\n<text text-anchor=\"middle\" x=\"1649.5\" y=\"-22.8\" font-family=\"Times,serif\" font-size=\"14.00\" fill=\"#000000\">samples = 2</text>\n<text text-anchor=\"middle\" x=\"1649.5\" y=\"-7.8\" font-family=\"Times,serif\" font-size=\"14.00\" fill=\"#000000\">value = 1.5</text>\n</g>\n<!-- 25&#45;&gt;27 -->\n<g id=\"edge27\" class=\"edge\">\n<title>25&#45;&gt;27</title>\n<path fill=\"none\" stroke=\"#000000\" d=\"M1598.9999,-88.9777C1606.2533,-80.0039 1614.0897,-70.3089 1621.3756,-61.295\"/>\n<polygon fill=\"#000000\" stroke=\"#000000\" points=\"1624.3153,-63.2258 1627.8795,-53.2485 1618.8712,-58.8255 1624.3153,-63.2258\"/>\n</g>\n<!-- 29 -->\n<g id=\"node30\" class=\"node\">\n<title>29</title>\n<polygon fill=\"none\" stroke=\"#000000\" points=\"1817,-53 1710,-53 1710,0 1817,0 1817,-53\"/>\n<text text-anchor=\"middle\" x=\"1763.5\" y=\"-37.8\" font-family=\"Times,serif\" font-size=\"14.00\" fill=\"#000000\">mse = 0.0</text>\n<text text-anchor=\"middle\" x=\"1763.5\" y=\"-22.8\" font-family=\"Times,serif\" font-size=\"14.00\" fill=\"#000000\">samples = 2036</text>\n<text text-anchor=\"middle\" x=\"1763.5\" y=\"-7.8\" font-family=\"Times,serif\" font-size=\"14.00\" fill=\"#000000\">value = 1.0</text>\n</g>\n<!-- 28&#45;&gt;29 -->\n<g id=\"edge29\" class=\"edge\">\n<title>28&#45;&gt;29</title>\n<path fill=\"none\" stroke=\"#000000\" d=\"M1763.5,-88.9777C1763.5,-80.7364 1763.5,-71.887 1763.5,-63.5153\"/>\n<polygon fill=\"#000000\" stroke=\"#000000\" points=\"1767.0001,-63.2484 1763.5,-53.2485 1760.0001,-63.2485 1767.0001,-63.2484\"/>\n</g>\n<!-- 30 -->\n<g id=\"node31\" class=\"node\">\n<title>30</title>\n<polygon fill=\"none\" stroke=\"#000000\" points=\"1935.5,-53 1835.5,-53 1835.5,0 1935.5,0 1935.5,-53\"/>\n<text text-anchor=\"middle\" x=\"1885.5\" y=\"-37.8\" font-family=\"Times,serif\" font-size=\"14.00\" fill=\"#000000\">mse = 0.005</text>\n<text text-anchor=\"middle\" x=\"1885.5\" y=\"-22.8\" font-family=\"Times,serif\" font-size=\"14.00\" fill=\"#000000\">samples = 182</text>\n<text text-anchor=\"middle\" x=\"1885.5\" y=\"-7.8\" font-family=\"Times,serif\" font-size=\"14.00\" fill=\"#000000\">value = 1.005</text>\n</g>\n<!-- 28&#45;&gt;30 -->\n<g id=\"edge30\" class=\"edge\">\n<title>28&#45;&gt;30</title>\n<path fill=\"none\" stroke=\"#000000\" d=\"M1806.5126,-88.9777C1818.5524,-79.4545 1831.6188,-69.1191 1843.5935,-59.6473\"/>\n<polygon fill=\"#000000\" stroke=\"#000000\" points=\"1846.0115,-62.1973 1851.6833,-53.2485 1841.6689,-56.7072 1846.0115,-62.1973\"/>\n</g>\n</g>\n</svg>\n"
          },
          "metadata": {
            "tags": []
          },
          "execution_count": 11
        }
      ]
    },
    {
      "cell_type": "markdown",
      "metadata": {
        "colab_type": "text",
        "id": "i7nJcwEZX4UO"
      },
      "source": [
        "nuestra mejor variable de predicion fue NUM_CLASE"
      ]
    },
    {
      "cell_type": "markdown",
      "metadata": {
        "colab_type": "text",
        "id": "C9dKwYmDX4UP"
      },
      "source": [
        "# Random Forest"
      ]
    },
    {
      "cell_type": "code",
      "metadata": {
        "colab_type": "code",
        "id": "B8sJLBihX4UQ",
        "colab": {}
      },
      "source": [
        "from sklearn.ensemble import RandomForestRegressor\n",
        "from sklearn.model_selection import cross_validate\n",
        "\n",
        "forest = RandomForestRegressor()\n",
        "results = cross_validate(forest,X,y,cv=5,scoring='r2',return_train_score=True)"
      ],
      "execution_count": 0,
      "outputs": []
    },
    {
      "cell_type": "code",
      "metadata": {
        "colab_type": "code",
        "id": "tdMuQpC6X4UT",
        "outputId": "55d7bb12-fd36-496c-92fc-d7cc018cb631",
        "colab": {
          "base_uri": "https://localhost:8080/",
          "height": 51
        }
      },
      "source": [
        "test_scores = results['test_score']\n",
        "train_scores = results['train_score']\n",
        "print(np.mean(train_scores))\n",
        "print(np.mean(test_scores))"
      ],
      "execution_count": 23,
      "outputs": [
        {
          "output_type": "stream",
          "text": [
            "0.9107535399829182\n",
            "0.36121173859907224\n"
          ],
          "name": "stdout"
        }
      ]
    },
    {
      "cell_type": "markdown",
      "metadata": {
        "colab_type": "text",
        "id": "WG5tuaoSX4UW"
      },
      "source": [
        "Mejor resultado que Lasso! Y ano tenemos Bias y tenemos un mejor score r2. Sin embargo tenemos una diferencia importante entre score de entrenamiento y test(overfit)"
      ]
    },
    {
      "cell_type": "markdown",
      "metadata": {
        "colab_type": "text",
        "id": "JIF51jVEX4UW"
      },
      "source": [
        "# Gradient Boosted Trees"
      ]
    },
    {
      "cell_type": "code",
      "metadata": {
        "colab_type": "code",
        "id": "USx1R4VbX4UX",
        "colab": {}
      },
      "source": [
        "from sklearn.ensemble import GradientBoostingRegressor\n",
        "\n",
        "ensemble = GradientBoostingRegressor()\n",
        "results = cross_validate(forest,X,y,cv=5,scoring='r2',return_train_score=True)"
      ],
      "execution_count": 0,
      "outputs": []
    },
    {
      "cell_type": "code",
      "metadata": {
        "colab_type": "code",
        "id": "kXNI4hJUX4Ue",
        "outputId": "dd4e4c55-8c91-4687-aafe-12ffdbc8b32c",
        "colab": {
          "base_uri": "https://localhost:8080/",
          "height": 51
        }
      },
      "source": [
        "test_scores = results['test_score']\n",
        "train_scores = results['train_score']\n",
        "print(np.mean(train_scores))\n",
        "print(np.mean(test_scores))"
      ],
      "execution_count": 20,
      "outputs": [
        {
          "output_type": "stream",
          "text": [
            "0.9126762301257099\n",
            "0.36461608920634064\n"
          ],
          "name": "stdout"
        }
      ]
    },
    {
      "cell_type": "markdown",
      "metadata": {
        "colab_type": "text",
        "id": "lwG29XwEX4Ui"
      },
      "source": [
        "# Optimización de hiperparámetros"
      ]
    },
    {
      "cell_type": "markdown",
      "metadata": {
        "colab_type": "text",
        "id": "xp7WDUkCX4Uj"
      },
      "source": [
        "Buenas practicas del Gradient Boosted Trees, siguiendo el modelo"
      ]
    },
    {
      "cell_type": "code",
      "metadata": {
        "colab_type": "code",
        "id": "6hZU7v_hX4Uk",
        "colab": {}
      },
      "source": [
        "from sklearn.model_selection import train_test_split\n",
        "\n",
        "X_train, X_test, y_train, y_test = train_test_split(X,y,random_state=1)"
      ],
      "execution_count": 0,
      "outputs": []
    },
    {
      "cell_type": "code",
      "metadata": {
        "colab_type": "code",
        "id": "3WuEjuKJX4Un",
        "colab": {}
      },
      "source": [
        "from sklearn.model_selection import GridSearchCV\n",
        "\n",
        "param_test1 = {'n_estimators':range(20,501,20)}"
      ],
      "execution_count": 0,
      "outputs": []
    },
    {
      "cell_type": "code",
      "metadata": {
        "colab_type": "code",
        "id": "GWHItTOtX4Up",
        "outputId": "3926e98c-b55f-422b-b790-3386860adc5a",
        "colab": {
          "base_uri": "https://localhost:8080/",
          "height": 442
        }
      },
      "source": [
        "list(param_test1['n_estimators'])"
      ],
      "execution_count": 27,
      "outputs": [
        {
          "output_type": "execute_result",
          "data": {
            "text/plain": [
              "[20,\n",
              " 40,\n",
              " 60,\n",
              " 80,\n",
              " 100,\n",
              " 120,\n",
              " 140,\n",
              " 160,\n",
              " 180,\n",
              " 200,\n",
              " 220,\n",
              " 240,\n",
              " 260,\n",
              " 280,\n",
              " 300,\n",
              " 320,\n",
              " 340,\n",
              " 360,\n",
              " 380,\n",
              " 400,\n",
              " 420,\n",
              " 440,\n",
              " 460,\n",
              " 480,\n",
              " 500]"
            ]
          },
          "metadata": {
            "tags": []
          },
          "execution_count": 27
        }
      ]
    },
    {
      "cell_type": "markdown",
      "metadata": {
        "colab_type": "text",
        "id": "sCxbY6LbX4Ut"
      },
      "source": [
        "se hace por que con GridSearch se busca el mejor valor para la cantidad de estimadores "
      ]
    },
    {
      "cell_type": "code",
      "metadata": {
        "colab_type": "code",
        "id": "adz1itAvX4Uv",
        "colab": {}
      },
      "source": [
        "estimador = GradientBoostingRegressor(learning_rate =0.1,\n",
        "                                     min_samples_split=500,\n",
        "                                     min_samples_leaf=50,\n",
        "                                     max_depth=8,\n",
        "                                     max_features='sqrt',\n",
        "                                     subsample=0.8,\n",
        "                                     random_state=10)"
      ],
      "execution_count": 0,
      "outputs": []
    },
    {
      "cell_type": "markdown",
      "metadata": {
        "colab_type": "text",
        "id": "32_NoF40X4Uy"
      },
      "source": [
        "parametros de los arboles"
      ]
    },
    {
      "cell_type": "code",
      "metadata": {
        "colab_type": "code",
        "id": "Zbt30Uj4X4Uz",
        "colab": {}
      },
      "source": [
        "gsearch1 = GridSearchCV(estimador,\n",
        "                       param_grid = param_test1,\n",
        "                       scoring='r2',\n",
        "                       cv=5)"
      ],
      "execution_count": 0,
      "outputs": []
    },
    {
      "cell_type": "code",
      "metadata": {
        "colab_type": "code",
        "id": "p4dliQ_0X4U2",
        "outputId": "040e3302-8cda-4b87-91af-315aac7b62dc",
        "colab": {
          "base_uri": "https://localhost:8080/",
          "height": 408
        }
      },
      "source": [
        "gsearch1.fit(X_train,y_train)"
      ],
      "execution_count": 31,
      "outputs": [
        {
          "output_type": "execute_result",
          "data": {
            "text/plain": [
              "GridSearchCV(cv=5, error_score=nan,\n",
              "             estimator=GradientBoostingRegressor(alpha=0.9, ccp_alpha=0.0,\n",
              "                                                 criterion='friedman_mse',\n",
              "                                                 init=None, learning_rate=0.1,\n",
              "                                                 loss='ls', max_depth=8,\n",
              "                                                 max_features='sqrt',\n",
              "                                                 max_leaf_nodes=None,\n",
              "                                                 min_impurity_decrease=0.0,\n",
              "                                                 min_impurity_split=None,\n",
              "                                                 min_samples_leaf=50,\n",
              "                                                 min_samples_split=500,\n",
              "                                                 min_weight_fraction_leaf=0.0,\n",
              "                                                 n_estimators=100,\n",
              "                                                 n_iter_no_change=None,\n",
              "                                                 presort='deprecated',\n",
              "                                                 random_state=10, subsample=0.8,\n",
              "                                                 tol=0.0001,\n",
              "                                                 validation_fraction=0.1,\n",
              "                                                 verbose=0, warm_start=False),\n",
              "             iid='deprecated', n_jobs=None,\n",
              "             param_grid={'n_estimators': range(20, 501, 20)},\n",
              "             pre_dispatch='2*n_jobs', refit=True, return_train_score=False,\n",
              "             scoring='r2', verbose=0)"
            ]
          },
          "metadata": {
            "tags": []
          },
          "execution_count": 31
        }
      ]
    },
    {
      "cell_type": "code",
      "metadata": {
        "colab_type": "code",
        "id": "gOMl9Io8X4U5",
        "outputId": "4d5e724a-0dcc-4027-b8d4-56f63478dba2",
        "scrolled": true,
        "colab": {
          "base_uri": "https://localhost:8080/",
          "height": 476
        }
      },
      "source": [
        "list(zip(gsearch1.cv_results_['mean_test_score'], gsearch1.cv_results_['std_test_score'], gsearch1.cv_results_['params'])), gsearch1.best_params_, gsearch1.best_score_"
      ],
      "execution_count": 34,
      "outputs": [
        {
          "output_type": "execute_result",
          "data": {
            "text/plain": [
              "([(0.3779695805388923, 0.008022776449313412, {'n_estimators': 20}),\n",
              "  (0.389617247836085, 0.009169043928205691, {'n_estimators': 40}),\n",
              "  (0.3910775225549353, 0.009871768676890822, {'n_estimators': 60}),\n",
              "  (0.3918268903671054, 0.01015663527092471, {'n_estimators': 80}),\n",
              "  (0.3927176219606883, 0.01039419981578081, {'n_estimators': 100}),\n",
              "  (0.39364348010901773, 0.010706710054520055, {'n_estimators': 120}),\n",
              "  (0.39371920465144716, 0.010953254246164144, {'n_estimators': 140}),\n",
              "  (0.3941020840798166, 0.0112749805030889, {'n_estimators': 160}),\n",
              "  (0.39415265189701926, 0.011434119971208875, {'n_estimators': 180}),\n",
              "  (0.3943182231926172, 0.011881806392778665, {'n_estimators': 200}),\n",
              "  (0.3949337951533762, 0.011980834567221743, {'n_estimators': 220}),\n",
              "  (0.39511864114044776, 0.01216096970906808, {'n_estimators': 240}),\n",
              "  (0.39531324574254856, 0.012476890591107829, {'n_estimators': 260}),\n",
              "  (0.39562145223944534, 0.012969274885378535, {'n_estimators': 280}),\n",
              "  (0.39586305133165045, 0.013450140773758678, {'n_estimators': 300}),\n",
              "  (0.3960314194883153, 0.013505345910211122, {'n_estimators': 320}),\n",
              "  (0.3961029329112402, 0.013069821635861881, {'n_estimators': 340}),\n",
              "  (0.39606763146236545, 0.013181436681205626, {'n_estimators': 360}),\n",
              "  (0.396258940895365, 0.012951691968789019, {'n_estimators': 380}),\n",
              "  (0.396563358567635, 0.012861373607332598, {'n_estimators': 400}),\n",
              "  (0.3961671787883544, 0.013094724409371086, {'n_estimators': 420}),\n",
              "  (0.39611774924817433, 0.013864413393000416, {'n_estimators': 440}),\n",
              "  (0.39576703671248853, 0.013758846710557266, {'n_estimators': 460}),\n",
              "  (0.39594492471678827, 0.0139190519761826, {'n_estimators': 480}),\n",
              "  (0.3959441953370579, 0.013612916387941936, {'n_estimators': 500})],\n",
              " {'n_estimators': 400},\n",
              " 0.396563358567635)"
            ]
          },
          "metadata": {
            "tags": []
          },
          "execution_count": 34
        }
      ]
    },
    {
      "cell_type": "markdown",
      "metadata": {
        "colab_type": "text",
        "id": "SaziAyPfX4U8"
      },
      "source": [
        " mejoramos nuestro performarce 0.4\n",
        "\n"
      ]
    },
    {
      "cell_type": "code",
      "metadata": {
        "colab_type": "code",
        "id": "RgJlA1QgX4U9",
        "colab": {}
      },
      "source": [
        "final_results = cross_validate(gsearch1.best_estimator_,X_train,y_train)"
      ],
      "execution_count": 0,
      "outputs": []
    },
    {
      "cell_type": "code",
      "metadata": {
        "colab_type": "code",
        "id": "_BUkvWLlX4VB",
        "outputId": "a227b19e-6226-4247-f406-0020b8b18dd2",
        "colab": {
          "base_uri": "https://localhost:8080/",
          "height": 51
        }
      },
      "source": [
        "test_scores = results['test_score']\n",
        "train_scores = results['train_score']\n",
        "print(np.mean(train_scores))\n",
        "print(np.mean(test_scores))"
      ],
      "execution_count": 36,
      "outputs": [
        {
          "output_type": "stream",
          "text": [
            "0.9107535399829182\n",
            "0.36121173859907224\n"
          ],
          "name": "stdout"
        }
      ]
    },
    {
      "cell_type": "code",
      "metadata": {
        "colab_type": "code",
        "id": "E95O9rXLX4VG",
        "colab": {}
      },
      "source": [
        "estimador = GradientBoostingRegressor(learning_rate =0.1,\n",
        "                                     min_samples_split=500,\n",
        "                                     min_samples_leaf=50,\n",
        "                                     max_depth=8,\n",
        "                                     max_features='sqrt',\n",
        "                                     subsample=0.8,\n",
        "                                     random_state=10,\n",
        "                                     n_estimators=400)"
      ],
      "execution_count": 0,
      "outputs": []
    },
    {
      "cell_type": "code",
      "metadata": {
        "colab_type": "code",
        "id": "71fgwjWBX4VJ",
        "outputId": "03d77097-d7b6-4fd5-e4ea-5a0163142673",
        "colab": {
          "base_uri": "https://localhost:8080/",
          "height": 170
        }
      },
      "source": [
        "estimador.fit(X_train,y_train)"
      ],
      "execution_count": 41,
      "outputs": [
        {
          "output_type": "execute_result",
          "data": {
            "text/plain": [
              "GradientBoostingRegressor(alpha=0.9, ccp_alpha=0.0, criterion='friedman_mse',\n",
              "                          init=None, learning_rate=0.1, loss='ls', max_depth=8,\n",
              "                          max_features='sqrt', max_leaf_nodes=None,\n",
              "                          min_impurity_decrease=0.0, min_impurity_split=None,\n",
              "                          min_samples_leaf=50, min_samples_split=500,\n",
              "                          min_weight_fraction_leaf=0.0, n_estimators=400,\n",
              "                          n_iter_no_change=None, presort='deprecated',\n",
              "                          random_state=10, subsample=0.8, tol=0.0001,\n",
              "                          validation_fraction=0.1, verbose=0, warm_start=False)"
            ]
          },
          "metadata": {
            "tags": []
          },
          "execution_count": 41
        }
      ]
    },
    {
      "cell_type": "code",
      "metadata": {
        "colab_type": "code",
        "id": "U7_0F5abX4VM",
        "outputId": "fc9860e9-c536-40cc-f24d-b0cbfb1964e6",
        "colab": {
          "base_uri": "https://localhost:8080/",
          "height": 34
        }
      },
      "source": [
        "estimador.score(X_test, y_test)"
      ],
      "execution_count": 43,
      "outputs": [
        {
          "output_type": "execute_result",
          "data": {
            "text/plain": [
              "0.4008068257681944"
            ]
          },
          "metadata": {
            "tags": []
          },
          "execution_count": 43
        }
      ]
    },
    {
      "cell_type": "markdown",
      "metadata": {
        "colab_type": "text",
        "id": "w9Eu0jIhX4VS"
      },
      "source": [
        "Conclusion final"
      ]
    },
    {
      "cell_type": "markdown",
      "metadata": {
        "colab_type": "text",
        "id": "B2aMOeYnX4VT"
      },
      "source": [
        "en Score r2 gracias al haber trabajado sobre las features y tomar varios modelos y finalmente con gsearch1 al haber optimizado los parametros de nuestro modelo"
      ]
    }
  ]
}