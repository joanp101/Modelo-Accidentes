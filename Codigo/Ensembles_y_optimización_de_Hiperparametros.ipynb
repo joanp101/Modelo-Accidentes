{
  "nbformat": 4,
  "nbformat_minor": 0,
  "metadata": {
    "accelerator": "GPU",
    "colab": {
      "name": "Ensembles_y_optimización_de_Hiperparametros.ipynb",
      "provenance": [],
      "toc_visible": true
    },
    "kernelspec": {
      "name": "python3",
      "display_name": "Python 3"
    },
    "language_info": {
      "codemirror_mode": {
        "name": "ipython",
        "version": 3
      },
      "file_extension": ".py",
      "mimetype": "text/x-python",
      "name": "python",
      "nbconvert_exporter": "python",
      "pygments_lexer": "ipython3",
      "version": "3.8.1"
    }
  },
  "cells": [
    {
      "cell_type": "code",
      "metadata": {
        "colab_type": "code",
        "id": "n-xlIhZkX4Tc",
        "colab": {}
      },
      "source": [
        "import warnings\n",
        "warnings.simplefilter(\"ignore\")"
      ],
      "execution_count": 0,
      "outputs": []
    },
    {
      "cell_type": "code",
      "metadata": {
        "colab_type": "code",
        "id": "tzFLjhZ-X4Tj",
        "colab": {}
      },
      "source": [
        "%matplotlib inline\n",
        "import numpy as np\n",
        "import pandas as pd\n",
        "import matplotlib.pyplot as plt\n"
      ],
      "execution_count": 0,
      "outputs": []
    },
    {
      "cell_type": "markdown",
      "metadata": {
        "colab_type": "text",
        "id": "0hwr3sfpX4Tn"
      },
      "source": [
        "# Decision Trees"
      ]
    },
    {
      "cell_type": "code",
      "metadata": {
        "colab_type": "code",
        "id": "IG0_5iTyX4Tp",
        "colab": {}
      },
      "source": [
        "from sklearn.tree import DecisionTreeRegressor\n",
        "\n",
        "model = DecisionTreeRegressor(max_depth = 4)"
      ],
      "execution_count": 0,
      "outputs": []
    },
    {
      "cell_type": "markdown",
      "metadata": {
        "colab_type": "text",
        "id": "HG1ocpomX4Tt"
      },
      "source": [
        "max_depth = profundidad del arbol"
      ]
    },
    {
      "cell_type": "code",
      "metadata": {
        "colab_type": "code",
        "id": "Mvvt1CEoX4Tu",
        "colab": {}
      },
      "source": [
        "from sklearn.model_selection import train_test_split\n",
        "\n",
        "X = pd.read_csv(\"X.csv\")\n",
        "y = X['NUM_GRAVEDAD']\n",
        "X = X.drop(['NUM_GRAVEDAD','X',\t'Y'],axis=1)"
      ],
      "execution_count": 0,
      "outputs": []
    },
    {
      "cell_type": "code",
      "metadata": {
        "id": "7JtoZRgjIHCJ",
        "colab_type": "code",
        "outputId": "3524dc1b-bbf2-4508-9cd9-bfd754ac433e",
        "colab": {
          "base_uri": "https://localhost:8080/",
          "height": 202
        }
      },
      "source": [
        "X.head(5)"
      ],
      "execution_count": 137,
      "outputs": [
        {
          "output_type": "execute_result",
          "data": {
            "text/html": [
              "<div>\n",
              "<style scoped>\n",
              "    .dataframe tbody tr th:only-of-type {\n",
              "        vertical-align: middle;\n",
              "    }\n",
              "\n",
              "    .dataframe tbody tr th {\n",
              "        vertical-align: top;\n",
              "    }\n",
              "\n",
              "    .dataframe thead th {\n",
              "        text-align: right;\n",
              "    }\n",
              "</style>\n",
              "<table border=\"1\" class=\"dataframe\">\n",
              "  <thead>\n",
              "    <tr style=\"text-align: right;\">\n",
              "      <th></th>\n",
              "      <th>DIA</th>\n",
              "      <th>PERIODO</th>\n",
              "      <th>CBML</th>\n",
              "      <th>DIA_SEMANA</th>\n",
              "      <th>MES</th>\n",
              "      <th>NUM_COMUNA</th>\n",
              "      <th>NUM_DISENO</th>\n",
              "      <th>NUM_CLASE</th>\n",
              "      <th>NUM_BARRIO</th>\n",
              "    </tr>\n",
              "  </thead>\n",
              "  <tbody>\n",
              "    <tr>\n",
              "      <th>0</th>\n",
              "      <td>20.0</td>\n",
              "      <td>2018.0</td>\n",
              "      <td>1507.0</td>\n",
              "      <td>0.0</td>\n",
              "      <td>9.0</td>\n",
              "      <td>0.0</td>\n",
              "      <td>0.0</td>\n",
              "      <td>0.0</td>\n",
              "      <td>0.0</td>\n",
              "    </tr>\n",
              "    <tr>\n",
              "      <th>1</th>\n",
              "      <td>21.0</td>\n",
              "      <td>2018.0</td>\n",
              "      <td>715.0</td>\n",
              "      <td>1.0</td>\n",
              "      <td>3.0</td>\n",
              "      <td>1.0</td>\n",
              "      <td>0.0</td>\n",
              "      <td>1.0</td>\n",
              "      <td>1.0</td>\n",
              "    </tr>\n",
              "    <tr>\n",
              "      <th>2</th>\n",
              "      <td>30.0</td>\n",
              "      <td>2018.0</td>\n",
              "      <td>717.0</td>\n",
              "      <td>0.0</td>\n",
              "      <td>8.0</td>\n",
              "      <td>1.0</td>\n",
              "      <td>1.0</td>\n",
              "      <td>0.0</td>\n",
              "      <td>2.0</td>\n",
              "    </tr>\n",
              "    <tr>\n",
              "      <th>3</th>\n",
              "      <td>10.0</td>\n",
              "      <td>2018.0</td>\n",
              "      <td>1019.0</td>\n",
              "      <td>2.0</td>\n",
              "      <td>9.0</td>\n",
              "      <td>2.0</td>\n",
              "      <td>1.0</td>\n",
              "      <td>0.0</td>\n",
              "      <td>3.0</td>\n",
              "    </tr>\n",
              "    <tr>\n",
              "      <th>4</th>\n",
              "      <td>12.0</td>\n",
              "      <td>2018.0</td>\n",
              "      <td>1419.0</td>\n",
              "      <td>3.0</td>\n",
              "      <td>10.0</td>\n",
              "      <td>3.0</td>\n",
              "      <td>0.0</td>\n",
              "      <td>0.0</td>\n",
              "      <td>4.0</td>\n",
              "    </tr>\n",
              "  </tbody>\n",
              "</table>\n",
              "</div>"
            ],
            "text/plain": [
              "    DIA  PERIODO    CBML  ...  NUM_DISENO  NUM_CLASE  NUM_BARRIO\n",
              "0  20.0   2018.0  1507.0  ...         0.0        0.0         0.0\n",
              "1  21.0   2018.0   715.0  ...         0.0        1.0         1.0\n",
              "2  30.0   2018.0   717.0  ...         1.0        0.0         2.0\n",
              "3  10.0   2018.0  1019.0  ...         1.0        0.0         3.0\n",
              "4  12.0   2018.0  1419.0  ...         0.0        0.0         4.0\n",
              "\n",
              "[5 rows x 9 columns]"
            ]
          },
          "metadata": {
            "tags": []
          },
          "execution_count": 137
        }
      ]
    },
    {
      "cell_type": "code",
      "metadata": {
        "colab_type": "code",
        "id": "PKmjyN_dX4Ty",
        "colab": {}
      },
      "source": [
        "X_train, X_test, y_train, y_test = train_test_split(X,y, random_state=1)"
      ],
      "execution_count": 0,
      "outputs": []
    },
    {
      "cell_type": "code",
      "metadata": {
        "colab_type": "code",
        "id": "b2VwJC5NX4T1",
        "outputId": "46393139-2a30-4e36-e33c-c88062b019cb",
        "colab": {
          "base_uri": "https://localhost:8080/",
          "height": 121
        }
      },
      "source": [
        "model.fit(X_train,y_train)"
      ],
      "execution_count": 139,
      "outputs": [
        {
          "output_type": "execute_result",
          "data": {
            "text/plain": [
              "DecisionTreeRegressor(ccp_alpha=0.0, criterion='mse', max_depth=4,\n",
              "                      max_features=None, max_leaf_nodes=None,\n",
              "                      min_impurity_decrease=0.0, min_impurity_split=None,\n",
              "                      min_samples_leaf=1, min_samples_split=2,\n",
              "                      min_weight_fraction_leaf=0.0, presort='deprecated',\n",
              "                      random_state=None, splitter='best')"
            ]
          },
          "metadata": {
            "tags": []
          },
          "execution_count": 139
        }
      ]
    },
    {
      "cell_type": "code",
      "metadata": {
        "colab_type": "code",
        "id": "toFY_wSMX4T7",
        "scrolled": true,
        "colab": {}
      },
      "source": [
        "import graphviz "
      ],
      "execution_count": 0,
      "outputs": []
    },
    {
      "cell_type": "markdown",
      "metadata": {
        "colab_type": "text",
        "id": "YaX7EEEEX4T-"
      },
      "source": [
        "libreria para visualizar grafos"
      ]
    },
    {
      "cell_type": "code",
      "metadata": {
        "colab_type": "code",
        "id": "oSz-DqBkX4UB",
        "colab": {}
      },
      "source": [
        "from sklearn.tree import export_graphviz\n",
        "\n",
        "treedot = export_graphviz(model,\n",
        "                         out_file =None,\n",
        "                          feature_names=X.columns\n",
        "                         )"
      ],
      "execution_count": 0,
      "outputs": []
    },
    {
      "cell_type": "code",
      "metadata": {
        "colab_type": "code",
        "id": "VDhIGVFRX4UF",
        "outputId": "8921d8da-1799-416f-f474-3bb968bdc705",
        "colab": {
          "base_uri": "https://localhost:8080/",
          "height": 55
        }
      },
      "source": [
        "treedot"
      ],
      "execution_count": 142,
      "outputs": [
        {
          "output_type": "execute_result",
          "data": {
            "text/plain": [
              "'digraph Tree {\\nnode [shape=box] ;\\n0 [label=\"NUM_CLASE <= 0.5\\\\nmse = 0.256\\\\nsamples = 26604\\\\nvalue = 0.477\"] ;\\n1 [label=\"NUM_DISENO <= 0.5\\\\nmse = 0.224\\\\nsamples = 18535\\\\nvalue = 0.677\"] ;\\n0 -> 1 [labeldistance=2.5, labelangle=45, headlabel=\"True\"] ;\\n2 [label=\"CBML <= 907.5\\\\nmse = 0.209\\\\nsamples = 12002\\\\nvalue = 0.717\"] ;\\n1 -> 2 ;\\n3 [label=\"CBML <= 305.5\\\\nmse = 0.235\\\\nsamples = 3703\\\\nvalue = 0.65\"] ;\\n2 -> 3 ;\\n4 [label=\"mse = 0.228\\\\nsamples = 410\\\\nvalue = 0.715\"] ;\\n3 -> 4 ;\\n5 [label=\"mse = 0.235\\\\nsamples = 3293\\\\nvalue = 0.642\"] ;\\n3 -> 5 ;\\n6 [label=\"CBML <= 1101.5\\\\nmse = 0.194\\\\nsamples = 8299\\\\nvalue = 0.747\"] ;\\n2 -> 6 ;\\n7 [label=\"mse = 0.17\\\\nsamples = 3045\\\\nvalue = 0.793\"] ;\\n6 -> 7 ;\\n8 [label=\"mse = 0.206\\\\nsamples = 5254\\\\nvalue = 0.72\"] ;\\n6 -> 8 ;\\n9 [label=\"CBML <= 1001.5\\\\nmse = 0.244\\\\nsamples = 6533\\\\nvalue = 0.603\"] ;\\n1 -> 9 ;\\n10 [label=\"NUM_DISENO <= 2.5\\\\nmse = 0.256\\\\nsamples = 2062\\\\nvalue = 0.499\"] ;\\n9 -> 10 ;\\n11 [label=\"mse = 0.254\\\\nsamples = 1857\\\\nvalue = 0.481\"] ;\\n10 -> 11 ;\\n12 [label=\"mse = 0.244\\\\nsamples = 205\\\\nvalue = 0.659\"] ;\\n10 -> 12 ;\\n13 [label=\"NUM_DISENO <= 1.5\\\\nmse = 0.231\\\\nsamples = 4471\\\\nvalue = 0.651\"] ;\\n9 -> 13 ;\\n14 [label=\"mse = 0.243\\\\nsamples = 2906\\\\nvalue = 0.6\"] ;\\n13 -> 14 ;\\n15 [label=\"mse = 0.194\\\\nsamples = 1565\\\\nvalue = 0.747\"] ;\\n13 -> 15 ;\\n16 [label=\"NUM_CLASE <= 5.0\\\\nmse = 0.027\\\\nsamples = 8069\\\\nvalue = 0.017\"] ;\\n0 -> 16 [labeldistance=2.5, labelangle=-45, headlabel=\"False\"] ;\\n17 [label=\"NUM_DISENO <= 1.5\\\\nmse = 0.027\\\\nsamples = 8066\\\\nvalue = 0.016\"] ;\\n16 -> 17 ;\\n18 [label=\"NUM_CLASE <= 2.5\\\\nmse = 0.042\\\\nsamples = 4859\\\\nvalue = 0.026\"] ;\\n17 -> 18 ;\\n19 [label=\"mse = 0.071\\\\nsamples = 2451\\\\nvalue = 0.04\"] ;\\n18 -> 19 ;\\n20 [label=\"mse = 0.013\\\\nsamples = 2408\\\\nvalue = 0.011\"] ;\\n18 -> 20 ;\\n21 [label=\"NUM_BARRIO <= 0.5\\\\nmse = 0.002\\\\nsamples = 3207\\\\nvalue = 0.002\"] ;\\n17 -> 21 ;\\n22 [label=\"mse = 0.023\\\\nsamples = 43\\\\nvalue = 0.023\"] ;\\n21 -> 22 ;\\n23 [label=\"mse = 0.002\\\\nsamples = 3164\\\\nvalue = 0.002\"] ;\\n21 -> 23 ;\\n24 [label=\"NUM_COMUNA <= 3.5\\\\nmse = 0.222\\\\nsamples = 3\\\\nvalue = 0.667\"] ;\\n16 -> 24 ;\\n25 [label=\"mse = 0.0\\\\nsamples = 1\\\\nvalue = 0.0\"] ;\\n24 -> 25 ;\\n26 [label=\"mse = 0.0\\\\nsamples = 2\\\\nvalue = 1.0\"] ;\\n24 -> 26 ;\\n}'"
            ]
          },
          "metadata": {
            "tags": []
          },
          "execution_count": 142
        }
      ]
    },
    {
      "cell_type": "code",
      "metadata": {
        "colab_type": "code",
        "id": "ZtCcu3GnX4UJ",
        "outputId": "236752d9-10d0-40dd-ce55-1679062edfc2",
        "colab": {
          "base_uri": "https://localhost:8080/",
          "height": 677
        }
      },
      "source": [
        "graphviz.Source(treedot)"
      ],
      "execution_count": 143,
      "outputs": [
        {
          "output_type": "execute_result",
          "data": {
            "text/plain": [
              "<graphviz.files.Source at 0x7f0f340ac898>"
            ],
            "image/svg+xml": "<?xml version=\"1.0\" encoding=\"UTF-8\" standalone=\"no\"?>\n<!DOCTYPE svg PUBLIC \"-//W3C//DTD SVG 1.1//EN\"\n \"http://www.w3.org/Graphics/SVG/1.1/DTD/svg11.dtd\">\n<!-- Generated by graphviz version 2.40.1 (20161225.0304)\n -->\n<!-- Title: Tree Pages: 1 -->\n<svg width=\"1578pt\" height=\"477pt\"\n viewBox=\"0.00 0.00 1577.50 477.00\" xmlns=\"http://www.w3.org/2000/svg\" xmlns:xlink=\"http://www.w3.org/1999/xlink\">\n<g id=\"graph0\" class=\"graph\" transform=\"scale(1 1) rotate(0) translate(4 473)\">\n<title>Tree</title>\n<polygon fill=\"#ffffff\" stroke=\"transparent\" points=\"-4,4 -4,-473 1573.5,-473 1573.5,4 -4,4\"/>\n<!-- 0 -->\n<g id=\"node1\" class=\"node\">\n<title>0</title>\n<polygon fill=\"none\" stroke=\"#000000\" points=\"1052.5,-469 905.5,-469 905.5,-401 1052.5,-401 1052.5,-469\"/>\n<text text-anchor=\"middle\" x=\"979\" y=\"-453.8\" font-family=\"Times,serif\" font-size=\"14.00\" fill=\"#000000\">NUM_CLASE &lt;= 0.5</text>\n<text text-anchor=\"middle\" x=\"979\" y=\"-438.8\" font-family=\"Times,serif\" font-size=\"14.00\" fill=\"#000000\">mse = 0.256</text>\n<text text-anchor=\"middle\" x=\"979\" y=\"-423.8\" font-family=\"Times,serif\" font-size=\"14.00\" fill=\"#000000\">samples = 26604</text>\n<text text-anchor=\"middle\" x=\"979\" y=\"-408.8\" font-family=\"Times,serif\" font-size=\"14.00\" fill=\"#000000\">value = 0.477</text>\n</g>\n<!-- 1 -->\n<g id=\"node2\" class=\"node\">\n<title>1</title>\n<polygon fill=\"none\" stroke=\"#000000\" points=\"807,-365 653,-365 653,-297 807,-297 807,-365\"/>\n<text text-anchor=\"middle\" x=\"730\" y=\"-349.8\" font-family=\"Times,serif\" font-size=\"14.00\" fill=\"#000000\">NUM_DISENO &lt;= 0.5</text>\n<text text-anchor=\"middle\" x=\"730\" y=\"-334.8\" font-family=\"Times,serif\" font-size=\"14.00\" fill=\"#000000\">mse = 0.224</text>\n<text text-anchor=\"middle\" x=\"730\" y=\"-319.8\" font-family=\"Times,serif\" font-size=\"14.00\" fill=\"#000000\">samples = 18535</text>\n<text text-anchor=\"middle\" x=\"730\" y=\"-304.8\" font-family=\"Times,serif\" font-size=\"14.00\" fill=\"#000000\">value = 0.677</text>\n</g>\n<!-- 0&#45;&gt;1 -->\n<g id=\"edge1\" class=\"edge\">\n<title>0&#45;&gt;1</title>\n<path fill=\"none\" stroke=\"#000000\" d=\"M905.3024,-404.2187C877.481,-392.5985 845.5743,-379.272 816.6727,-367.2006\"/>\n<polygon fill=\"#000000\" stroke=\"#000000\" points=\"817.98,-363.9537 807.4036,-363.3292 815.2822,-370.4129 817.98,-363.9537\"/>\n<text text-anchor=\"middle\" x=\"816.9026\" y=\"-382.7543\" font-family=\"Times,serif\" font-size=\"14.00\" fill=\"#000000\">True</text>\n</g>\n<!-- 16 -->\n<g id=\"node17\" class=\"node\">\n<title>16</title>\n<polygon fill=\"none\" stroke=\"#000000\" points=\"1255.5,-365 1108.5,-365 1108.5,-297 1255.5,-297 1255.5,-365\"/>\n<text text-anchor=\"middle\" x=\"1182\" y=\"-349.8\" font-family=\"Times,serif\" font-size=\"14.00\" fill=\"#000000\">NUM_CLASE &lt;= 5.0</text>\n<text text-anchor=\"middle\" x=\"1182\" y=\"-334.8\" font-family=\"Times,serif\" font-size=\"14.00\" fill=\"#000000\">mse = 0.027</text>\n<text text-anchor=\"middle\" x=\"1182\" y=\"-319.8\" font-family=\"Times,serif\" font-size=\"14.00\" fill=\"#000000\">samples = 8069</text>\n<text text-anchor=\"middle\" x=\"1182\" y=\"-304.8\" font-family=\"Times,serif\" font-size=\"14.00\" fill=\"#000000\">value = 0.017</text>\n</g>\n<!-- 0&#45;&gt;16 -->\n<g id=\"edge16\" class=\"edge\">\n<title>0&#45;&gt;16</title>\n<path fill=\"none\" stroke=\"#000000\" d=\"M1045.4698,-400.9465C1064.923,-390.9803 1086.3329,-380.0117 1106.3134,-369.7754\"/>\n<polygon fill=\"#000000\" stroke=\"#000000\" points=\"1108.0767,-372.8047 1115.3809,-365.13 1104.885,-366.5747 1108.0767,-372.8047\"/>\n<text text-anchor=\"middle\" x=\"1107.7081\" y=\"-385.2234\" font-family=\"Times,serif\" font-size=\"14.00\" fill=\"#000000\">False</text>\n</g>\n<!-- 2 -->\n<g id=\"node3\" class=\"node\">\n<title>2</title>\n<polygon fill=\"none\" stroke=\"#000000\" points=\"423.5,-261 308.5,-261 308.5,-193 423.5,-193 423.5,-261\"/>\n<text text-anchor=\"middle\" x=\"366\" y=\"-245.8\" font-family=\"Times,serif\" font-size=\"14.00\" fill=\"#000000\">CBML &lt;= 907.5</text>\n<text text-anchor=\"middle\" x=\"366\" y=\"-230.8\" font-family=\"Times,serif\" font-size=\"14.00\" fill=\"#000000\">mse = 0.209</text>\n<text text-anchor=\"middle\" x=\"366\" y=\"-215.8\" font-family=\"Times,serif\" font-size=\"14.00\" fill=\"#000000\">samples = 12002</text>\n<text text-anchor=\"middle\" x=\"366\" y=\"-200.8\" font-family=\"Times,serif\" font-size=\"14.00\" fill=\"#000000\">value = 0.717</text>\n</g>\n<!-- 1&#45;&gt;2 -->\n<g id=\"edge2\" class=\"edge\">\n<title>1&#45;&gt;2</title>\n<path fill=\"none\" stroke=\"#000000\" d=\"M652.805,-308.9443C587.7318,-290.3519 495.5428,-264.0122 433.4022,-246.2578\"/>\n<polygon fill=\"#000000\" stroke=\"#000000\" points=\"434.2725,-242.8664 423.6957,-243.4845 432.3494,-249.5971 434.2725,-242.8664\"/>\n</g>\n<!-- 9 -->\n<g id=\"node10\" class=\"node\">\n<title>9</title>\n<polygon fill=\"none\" stroke=\"#000000\" points=\"791,-261 669,-261 669,-193 791,-193 791,-261\"/>\n<text text-anchor=\"middle\" x=\"730\" y=\"-245.8\" font-family=\"Times,serif\" font-size=\"14.00\" fill=\"#000000\">CBML &lt;= 1001.5</text>\n<text text-anchor=\"middle\" x=\"730\" y=\"-230.8\" font-family=\"Times,serif\" font-size=\"14.00\" fill=\"#000000\">mse = 0.244</text>\n<text text-anchor=\"middle\" x=\"730\" y=\"-215.8\" font-family=\"Times,serif\" font-size=\"14.00\" fill=\"#000000\">samples = 6533</text>\n<text text-anchor=\"middle\" x=\"730\" y=\"-200.8\" font-family=\"Times,serif\" font-size=\"14.00\" fill=\"#000000\">value = 0.603</text>\n</g>\n<!-- 1&#45;&gt;9 -->\n<g id=\"edge9\" class=\"edge\">\n<title>1&#45;&gt;9</title>\n<path fill=\"none\" stroke=\"#000000\" d=\"M730,-296.9465C730,-288.776 730,-279.9318 730,-271.3697\"/>\n<polygon fill=\"#000000\" stroke=\"#000000\" points=\"733.5001,-271.13 730,-261.13 726.5001,-271.13 733.5001,-271.13\"/>\n</g>\n<!-- 3 -->\n<g id=\"node4\" class=\"node\">\n<title>3</title>\n<polygon fill=\"none\" stroke=\"#000000\" points=\"229.5,-157 114.5,-157 114.5,-89 229.5,-89 229.5,-157\"/>\n<text text-anchor=\"middle\" x=\"172\" y=\"-141.8\" font-family=\"Times,serif\" font-size=\"14.00\" fill=\"#000000\">CBML &lt;= 305.5</text>\n<text text-anchor=\"middle\" x=\"172\" y=\"-126.8\" font-family=\"Times,serif\" font-size=\"14.00\" fill=\"#000000\">mse = 0.235</text>\n<text text-anchor=\"middle\" x=\"172\" y=\"-111.8\" font-family=\"Times,serif\" font-size=\"14.00\" fill=\"#000000\">samples = 3703</text>\n<text text-anchor=\"middle\" x=\"172\" y=\"-96.8\" font-family=\"Times,serif\" font-size=\"14.00\" fill=\"#000000\">value = 0.65</text>\n</g>\n<!-- 2&#45;&gt;3 -->\n<g id=\"edge3\" class=\"edge\">\n<title>2&#45;&gt;3</title>\n<path fill=\"none\" stroke=\"#000000\" d=\"M308.3189,-196.0782C286.4291,-184.3434 261.3237,-170.8848 238.6716,-158.7415\"/>\n<polygon fill=\"#000000\" stroke=\"#000000\" points=\"240.261,-155.6224 229.7939,-153.9823 236.9537,-161.7918 240.261,-155.6224\"/>\n</g>\n<!-- 6 -->\n<g id=\"node7\" class=\"node\">\n<title>6</title>\n<polygon fill=\"none\" stroke=\"#000000\" points=\"427,-157 305,-157 305,-89 427,-89 427,-157\"/>\n<text text-anchor=\"middle\" x=\"366\" y=\"-141.8\" font-family=\"Times,serif\" font-size=\"14.00\" fill=\"#000000\">CBML &lt;= 1101.5</text>\n<text text-anchor=\"middle\" x=\"366\" y=\"-126.8\" font-family=\"Times,serif\" font-size=\"14.00\" fill=\"#000000\">mse = 0.194</text>\n<text text-anchor=\"middle\" x=\"366\" y=\"-111.8\" font-family=\"Times,serif\" font-size=\"14.00\" fill=\"#000000\">samples = 8299</text>\n<text text-anchor=\"middle\" x=\"366\" y=\"-96.8\" font-family=\"Times,serif\" font-size=\"14.00\" fill=\"#000000\">value = 0.747</text>\n</g>\n<!-- 2&#45;&gt;6 -->\n<g id=\"edge6\" class=\"edge\">\n<title>2&#45;&gt;6</title>\n<path fill=\"none\" stroke=\"#000000\" d=\"M366,-192.9465C366,-184.776 366,-175.9318 366,-167.3697\"/>\n<polygon fill=\"#000000\" stroke=\"#000000\" points=\"369.5001,-167.13 366,-157.13 362.5001,-167.13 369.5001,-167.13\"/>\n</g>\n<!-- 4 -->\n<g id=\"node5\" class=\"node\">\n<title>4</title>\n<polygon fill=\"none\" stroke=\"#000000\" points=\"100,-53 0,-53 0,0 100,0 100,-53\"/>\n<text text-anchor=\"middle\" x=\"50\" y=\"-37.8\" font-family=\"Times,serif\" font-size=\"14.00\" fill=\"#000000\">mse = 0.228</text>\n<text text-anchor=\"middle\" x=\"50\" y=\"-22.8\" font-family=\"Times,serif\" font-size=\"14.00\" fill=\"#000000\">samples = 410</text>\n<text text-anchor=\"middle\" x=\"50\" y=\"-7.8\" font-family=\"Times,serif\" font-size=\"14.00\" fill=\"#000000\">value = 0.715</text>\n</g>\n<!-- 3&#45;&gt;4 -->\n<g id=\"edge4\" class=\"edge\">\n<title>3&#45;&gt;4</title>\n<path fill=\"none\" stroke=\"#000000\" d=\"M128.9874,-88.9777C116.9476,-79.4545 103.8812,-69.1191 91.9065,-59.6473\"/>\n<polygon fill=\"#000000\" stroke=\"#000000\" points=\"93.8311,-56.7072 83.8167,-53.2485 89.4885,-62.1973 93.8311,-56.7072\"/>\n</g>\n<!-- 5 -->\n<g id=\"node6\" class=\"node\">\n<title>5</title>\n<polygon fill=\"none\" stroke=\"#000000\" points=\"225.5,-53 118.5,-53 118.5,0 225.5,0 225.5,-53\"/>\n<text text-anchor=\"middle\" x=\"172\" y=\"-37.8\" font-family=\"Times,serif\" font-size=\"14.00\" fill=\"#000000\">mse = 0.235</text>\n<text text-anchor=\"middle\" x=\"172\" y=\"-22.8\" font-family=\"Times,serif\" font-size=\"14.00\" fill=\"#000000\">samples = 3293</text>\n<text text-anchor=\"middle\" x=\"172\" y=\"-7.8\" font-family=\"Times,serif\" font-size=\"14.00\" fill=\"#000000\">value = 0.642</text>\n</g>\n<!-- 3&#45;&gt;5 -->\n<g id=\"edge5\" class=\"edge\">\n<title>3&#45;&gt;5</title>\n<path fill=\"none\" stroke=\"#000000\" d=\"M172,-88.9777C172,-80.7364 172,-71.887 172,-63.5153\"/>\n<polygon fill=\"#000000\" stroke=\"#000000\" points=\"175.5001,-63.2484 172,-53.2485 168.5001,-63.2485 175.5001,-63.2484\"/>\n</g>\n<!-- 7 -->\n<g id=\"node8\" class=\"node\">\n<title>7</title>\n<polygon fill=\"none\" stroke=\"#000000\" points=\"350.5,-53 243.5,-53 243.5,0 350.5,0 350.5,-53\"/>\n<text text-anchor=\"middle\" x=\"297\" y=\"-37.8\" font-family=\"Times,serif\" font-size=\"14.00\" fill=\"#000000\">mse = 0.17</text>\n<text text-anchor=\"middle\" x=\"297\" y=\"-22.8\" font-family=\"Times,serif\" font-size=\"14.00\" fill=\"#000000\">samples = 3045</text>\n<text text-anchor=\"middle\" x=\"297\" y=\"-7.8\" font-family=\"Times,serif\" font-size=\"14.00\" fill=\"#000000\">value = 0.793</text>\n</g>\n<!-- 6&#45;&gt;7 -->\n<g id=\"edge7\" class=\"edge\">\n<title>6&#45;&gt;7</title>\n<path fill=\"none\" stroke=\"#000000\" d=\"M341.6732,-88.9777C335.3221,-80.0954 328.466,-70.5067 322.0768,-61.5711\"/>\n<polygon fill=\"#000000\" stroke=\"#000000\" points=\"324.7893,-59.3472 316.1259,-53.2485 319.0952,-63.4187 324.7893,-59.3472\"/>\n</g>\n<!-- 8 -->\n<g id=\"node9\" class=\"node\">\n<title>8</title>\n<polygon fill=\"none\" stroke=\"#000000\" points=\"475.5,-53 368.5,-53 368.5,0 475.5,0 475.5,-53\"/>\n<text text-anchor=\"middle\" x=\"422\" y=\"-37.8\" font-family=\"Times,serif\" font-size=\"14.00\" fill=\"#000000\">mse = 0.206</text>\n<text text-anchor=\"middle\" x=\"422\" y=\"-22.8\" font-family=\"Times,serif\" font-size=\"14.00\" fill=\"#000000\">samples = 5254</text>\n<text text-anchor=\"middle\" x=\"422\" y=\"-7.8\" font-family=\"Times,serif\" font-size=\"14.00\" fill=\"#000000\">value = 0.72</text>\n</g>\n<!-- 6&#45;&gt;8 -->\n<g id=\"edge8\" class=\"edge\">\n<title>6&#45;&gt;8</title>\n<path fill=\"none\" stroke=\"#000000\" d=\"M385.7435,-88.9777C390.7917,-80.2786 396.2331,-70.9018 401.3266,-62.1247\"/>\n<polygon fill=\"#000000\" stroke=\"#000000\" points=\"404.4855,-63.6544 406.4776,-53.2485 398.4311,-60.1409 404.4855,-63.6544\"/>\n</g>\n<!-- 10 -->\n<g id=\"node11\" class=\"node\">\n<title>10</title>\n<polygon fill=\"none\" stroke=\"#000000\" points=\"721,-157 567,-157 567,-89 721,-89 721,-157\"/>\n<text text-anchor=\"middle\" x=\"644\" y=\"-141.8\" font-family=\"Times,serif\" font-size=\"14.00\" fill=\"#000000\">NUM_DISENO &lt;= 2.5</text>\n<text text-anchor=\"middle\" x=\"644\" y=\"-126.8\" font-family=\"Times,serif\" font-size=\"14.00\" fill=\"#000000\">mse = 0.256</text>\n<text text-anchor=\"middle\" x=\"644\" y=\"-111.8\" font-family=\"Times,serif\" font-size=\"14.00\" fill=\"#000000\">samples = 2062</text>\n<text text-anchor=\"middle\" x=\"644\" y=\"-96.8\" font-family=\"Times,serif\" font-size=\"14.00\" fill=\"#000000\">value = 0.499</text>\n</g>\n<!-- 9&#45;&gt;10 -->\n<g id=\"edge10\" class=\"edge\">\n<title>9&#45;&gt;10</title>\n<path fill=\"none\" stroke=\"#000000\" d=\"M701.8404,-192.9465C694.4158,-183.968 686.3185,-174.1758 678.5972,-164.8385\"/>\n<polygon fill=\"#000000\" stroke=\"#000000\" points=\"681.2928,-162.606 672.2229,-157.13 675.8983,-167.0669 681.2928,-162.606\"/>\n</g>\n<!-- 13 -->\n<g id=\"node14\" class=\"node\">\n<title>13</title>\n<polygon fill=\"none\" stroke=\"#000000\" points=\"893,-157 739,-157 739,-89 893,-89 893,-157\"/>\n<text text-anchor=\"middle\" x=\"816\" y=\"-141.8\" font-family=\"Times,serif\" font-size=\"14.00\" fill=\"#000000\">NUM_DISENO &lt;= 1.5</text>\n<text text-anchor=\"middle\" x=\"816\" y=\"-126.8\" font-family=\"Times,serif\" font-size=\"14.00\" fill=\"#000000\">mse = 0.231</text>\n<text text-anchor=\"middle\" x=\"816\" y=\"-111.8\" font-family=\"Times,serif\" font-size=\"14.00\" fill=\"#000000\">samples = 4471</text>\n<text text-anchor=\"middle\" x=\"816\" y=\"-96.8\" font-family=\"Times,serif\" font-size=\"14.00\" fill=\"#000000\">value = 0.651</text>\n</g>\n<!-- 9&#45;&gt;13 -->\n<g id=\"edge13\" class=\"edge\">\n<title>9&#45;&gt;13</title>\n<path fill=\"none\" stroke=\"#000000\" d=\"M758.1596,-192.9465C765.5842,-183.968 773.6815,-174.1758 781.4028,-164.8385\"/>\n<polygon fill=\"#000000\" stroke=\"#000000\" points=\"784.1017,-167.0669 787.7771,-157.13 778.7072,-162.606 784.1017,-167.0669\"/>\n</g>\n<!-- 11 -->\n<g id=\"node12\" class=\"node\">\n<title>11</title>\n<polygon fill=\"none\" stroke=\"#000000\" points=\"600.5,-53 493.5,-53 493.5,0 600.5,0 600.5,-53\"/>\n<text text-anchor=\"middle\" x=\"547\" y=\"-37.8\" font-family=\"Times,serif\" font-size=\"14.00\" fill=\"#000000\">mse = 0.254</text>\n<text text-anchor=\"middle\" x=\"547\" y=\"-22.8\" font-family=\"Times,serif\" font-size=\"14.00\" fill=\"#000000\">samples = 1857</text>\n<text text-anchor=\"middle\" x=\"547\" y=\"-7.8\" font-family=\"Times,serif\" font-size=\"14.00\" fill=\"#000000\">value = 0.481</text>\n</g>\n<!-- 10&#45;&gt;11 -->\n<g id=\"edge11\" class=\"edge\">\n<title>10&#45;&gt;11</title>\n<path fill=\"none\" stroke=\"#000000\" d=\"M609.8014,-88.9777C600.505,-79.7292 590.4386,-69.7147 581.1451,-60.4691\"/>\n<polygon fill=\"#000000\" stroke=\"#000000\" points=\"583.4449,-57.82 573.8871,-53.2485 578.5079,-62.7825 583.4449,-57.82\"/>\n</g>\n<!-- 12 -->\n<g id=\"node13\" class=\"node\">\n<title>12</title>\n<polygon fill=\"none\" stroke=\"#000000\" points=\"719,-53 619,-53 619,0 719,0 719,-53\"/>\n<text text-anchor=\"middle\" x=\"669\" y=\"-37.8\" font-family=\"Times,serif\" font-size=\"14.00\" fill=\"#000000\">mse = 0.244</text>\n<text text-anchor=\"middle\" x=\"669\" y=\"-22.8\" font-family=\"Times,serif\" font-size=\"14.00\" fill=\"#000000\">samples = 205</text>\n<text text-anchor=\"middle\" x=\"669\" y=\"-7.8\" font-family=\"Times,serif\" font-size=\"14.00\" fill=\"#000000\">value = 0.659</text>\n</g>\n<!-- 10&#45;&gt;12 -->\n<g id=\"edge12\" class=\"edge\">\n<title>10&#45;&gt;12</title>\n<path fill=\"none\" stroke=\"#000000\" d=\"M652.8141,-88.9777C654.9966,-80.5533 657.3437,-71.4934 659.5549,-62.9579\"/>\n<polygon fill=\"#000000\" stroke=\"#000000\" points=\"662.9505,-63.8067 662.0703,-53.2485 656.1742,-62.0511 662.9505,-63.8067\"/>\n</g>\n<!-- 14 -->\n<g id=\"node15\" class=\"node\">\n<title>14</title>\n<polygon fill=\"none\" stroke=\"#000000\" points=\"844.5,-53 737.5,-53 737.5,0 844.5,0 844.5,-53\"/>\n<text text-anchor=\"middle\" x=\"791\" y=\"-37.8\" font-family=\"Times,serif\" font-size=\"14.00\" fill=\"#000000\">mse = 0.243</text>\n<text text-anchor=\"middle\" x=\"791\" y=\"-22.8\" font-family=\"Times,serif\" font-size=\"14.00\" fill=\"#000000\">samples = 2906</text>\n<text text-anchor=\"middle\" x=\"791\" y=\"-7.8\" font-family=\"Times,serif\" font-size=\"14.00\" fill=\"#000000\">value = 0.6</text>\n</g>\n<!-- 13&#45;&gt;14 -->\n<g id=\"edge14\" class=\"edge\">\n<title>13&#45;&gt;14</title>\n<path fill=\"none\" stroke=\"#000000\" d=\"M807.1859,-88.9777C805.0034,-80.5533 802.6563,-71.4934 800.4451,-62.9579\"/>\n<polygon fill=\"#000000\" stroke=\"#000000\" points=\"803.8258,-62.0511 797.9297,-53.2485 797.0495,-63.8067 803.8258,-62.0511\"/>\n</g>\n<!-- 15 -->\n<g id=\"node16\" class=\"node\">\n<title>15</title>\n<polygon fill=\"none\" stroke=\"#000000\" points=\"969.5,-53 862.5,-53 862.5,0 969.5,0 969.5,-53\"/>\n<text text-anchor=\"middle\" x=\"916\" y=\"-37.8\" font-family=\"Times,serif\" font-size=\"14.00\" fill=\"#000000\">mse = 0.194</text>\n<text text-anchor=\"middle\" x=\"916\" y=\"-22.8\" font-family=\"Times,serif\" font-size=\"14.00\" fill=\"#000000\">samples = 1565</text>\n<text text-anchor=\"middle\" x=\"916\" y=\"-7.8\" font-family=\"Times,serif\" font-size=\"14.00\" fill=\"#000000\">value = 0.747</text>\n</g>\n<!-- 13&#45;&gt;15 -->\n<g id=\"edge15\" class=\"edge\">\n<title>13&#45;&gt;15</title>\n<path fill=\"none\" stroke=\"#000000\" d=\"M851.2563,-88.9777C860.9351,-79.6376 871.4235,-69.5163 881.0832,-60.1947\"/>\n<polygon fill=\"#000000\" stroke=\"#000000\" points=\"883.5159,-62.7111 888.2814,-53.2485 878.6551,-57.674 883.5159,-62.7111\"/>\n</g>\n<!-- 17 -->\n<g id=\"node18\" class=\"node\">\n<title>17</title>\n<polygon fill=\"none\" stroke=\"#000000\" points=\"1259,-261 1105,-261 1105,-193 1259,-193 1259,-261\"/>\n<text text-anchor=\"middle\" x=\"1182\" y=\"-245.8\" font-family=\"Times,serif\" font-size=\"14.00\" fill=\"#000000\">NUM_DISENO &lt;= 1.5</text>\n<text text-anchor=\"middle\" x=\"1182\" y=\"-230.8\" font-family=\"Times,serif\" font-size=\"14.00\" fill=\"#000000\">mse = 0.027</text>\n<text text-anchor=\"middle\" x=\"1182\" y=\"-215.8\" font-family=\"Times,serif\" font-size=\"14.00\" fill=\"#000000\">samples = 8066</text>\n<text text-anchor=\"middle\" x=\"1182\" y=\"-200.8\" font-family=\"Times,serif\" font-size=\"14.00\" fill=\"#000000\">value = 0.016</text>\n</g>\n<!-- 16&#45;&gt;17 -->\n<g id=\"edge17\" class=\"edge\">\n<title>16&#45;&gt;17</title>\n<path fill=\"none\" stroke=\"#000000\" d=\"M1182,-296.9465C1182,-288.776 1182,-279.9318 1182,-271.3697\"/>\n<polygon fill=\"#000000\" stroke=\"#000000\" points=\"1185.5001,-271.13 1182,-261.13 1178.5001,-271.13 1185.5001,-271.13\"/>\n</g>\n<!-- 24 -->\n<g id=\"node25\" class=\"node\">\n<title>24</title>\n<polygon fill=\"none\" stroke=\"#000000\" points=\"1506,-261 1342,-261 1342,-193 1506,-193 1506,-261\"/>\n<text text-anchor=\"middle\" x=\"1424\" y=\"-245.8\" font-family=\"Times,serif\" font-size=\"14.00\" fill=\"#000000\">NUM_COMUNA &lt;= 3.5</text>\n<text text-anchor=\"middle\" x=\"1424\" y=\"-230.8\" font-family=\"Times,serif\" font-size=\"14.00\" fill=\"#000000\">mse = 0.222</text>\n<text text-anchor=\"middle\" x=\"1424\" y=\"-215.8\" font-family=\"Times,serif\" font-size=\"14.00\" fill=\"#000000\">samples = 3</text>\n<text text-anchor=\"middle\" x=\"1424\" y=\"-200.8\" font-family=\"Times,serif\" font-size=\"14.00\" fill=\"#000000\">value = 0.667</text>\n</g>\n<!-- 16&#45;&gt;24 -->\n<g id=\"edge24\" class=\"edge\">\n<title>16&#45;&gt;24</title>\n<path fill=\"none\" stroke=\"#000000\" d=\"M1255.5936,-299.373C1280.8452,-288.5211 1309.3686,-276.2631 1335.6667,-264.9614\"/>\n<polygon fill=\"#000000\" stroke=\"#000000\" points=\"1337.0612,-268.1717 1344.8668,-261.0077 1334.2973,-261.7404 1337.0612,-268.1717\"/>\n</g>\n<!-- 18 -->\n<g id=\"node19\" class=\"node\">\n<title>18</title>\n<polygon fill=\"none\" stroke=\"#000000\" points=\"1190.5,-157 1043.5,-157 1043.5,-89 1190.5,-89 1190.5,-157\"/>\n<text text-anchor=\"middle\" x=\"1117\" y=\"-141.8\" font-family=\"Times,serif\" font-size=\"14.00\" fill=\"#000000\">NUM_CLASE &lt;= 2.5</text>\n<text text-anchor=\"middle\" x=\"1117\" y=\"-126.8\" font-family=\"Times,serif\" font-size=\"14.00\" fill=\"#000000\">mse = 0.042</text>\n<text text-anchor=\"middle\" x=\"1117\" y=\"-111.8\" font-family=\"Times,serif\" font-size=\"14.00\" fill=\"#000000\">samples = 4859</text>\n<text text-anchor=\"middle\" x=\"1117\" y=\"-96.8\" font-family=\"Times,serif\" font-size=\"14.00\" fill=\"#000000\">value = 0.026</text>\n</g>\n<!-- 17&#45;&gt;18 -->\n<g id=\"edge18\" class=\"edge\">\n<title>17&#45;&gt;18</title>\n<path fill=\"none\" stroke=\"#000000\" d=\"M1160.7166,-192.9465C1155.2733,-184.2373 1149.3516,-174.7626 1143.675,-165.6801\"/>\n<polygon fill=\"#000000\" stroke=\"#000000\" points=\"1146.5993,-163.755 1138.3312,-157.13 1140.6633,-167.465 1146.5993,-163.755\"/>\n</g>\n<!-- 21 -->\n<g id=\"node22\" class=\"node\">\n<title>21</title>\n<polygon fill=\"none\" stroke=\"#000000\" points=\"1363.5,-157 1208.5,-157 1208.5,-89 1363.5,-89 1363.5,-157\"/>\n<text text-anchor=\"middle\" x=\"1286\" y=\"-141.8\" font-family=\"Times,serif\" font-size=\"14.00\" fill=\"#000000\">NUM_BARRIO &lt;= 0.5</text>\n<text text-anchor=\"middle\" x=\"1286\" y=\"-126.8\" font-family=\"Times,serif\" font-size=\"14.00\" fill=\"#000000\">mse = 0.002</text>\n<text text-anchor=\"middle\" x=\"1286\" y=\"-111.8\" font-family=\"Times,serif\" font-size=\"14.00\" fill=\"#000000\">samples = 3207</text>\n<text text-anchor=\"middle\" x=\"1286\" y=\"-96.8\" font-family=\"Times,serif\" font-size=\"14.00\" fill=\"#000000\">value = 0.002</text>\n</g>\n<!-- 17&#45;&gt;21 -->\n<g id=\"edge21\" class=\"edge\">\n<title>17&#45;&gt;21</title>\n<path fill=\"none\" stroke=\"#000000\" d=\"M1216.0535,-192.9465C1225.2116,-183.7884 1235.2162,-173.7838 1244.7212,-164.2788\"/>\n<polygon fill=\"#000000\" stroke=\"#000000\" points=\"1247.2738,-166.676 1251.87,-157.13 1242.324,-161.7262 1247.2738,-166.676\"/>\n</g>\n<!-- 19 -->\n<g id=\"node20\" class=\"node\">\n<title>19</title>\n<polygon fill=\"none\" stroke=\"#000000\" points=\"1094.5,-53 987.5,-53 987.5,0 1094.5,0 1094.5,-53\"/>\n<text text-anchor=\"middle\" x=\"1041\" y=\"-37.8\" font-family=\"Times,serif\" font-size=\"14.00\" fill=\"#000000\">mse = 0.071</text>\n<text text-anchor=\"middle\" x=\"1041\" y=\"-22.8\" font-family=\"Times,serif\" font-size=\"14.00\" fill=\"#000000\">samples = 2451</text>\n<text text-anchor=\"middle\" x=\"1041\" y=\"-7.8\" font-family=\"Times,serif\" font-size=\"14.00\" fill=\"#000000\">value = 0.04</text>\n</g>\n<!-- 18&#45;&gt;19 -->\n<g id=\"edge19\" class=\"edge\">\n<title>18&#45;&gt;19</title>\n<path fill=\"none\" stroke=\"#000000\" d=\"M1090.2052,-88.9777C1083.1378,-80.0039 1075.5024,-70.3089 1068.4033,-61.295\"/>\n<polygon fill=\"#000000\" stroke=\"#000000\" points=\"1071.003,-58.9391 1062.0662,-53.2485 1065.5037,-63.2701 1071.003,-58.9391\"/>\n</g>\n<!-- 20 -->\n<g id=\"node21\" class=\"node\">\n<title>20</title>\n<polygon fill=\"none\" stroke=\"#000000\" points=\"1219.5,-53 1112.5,-53 1112.5,0 1219.5,0 1219.5,-53\"/>\n<text text-anchor=\"middle\" x=\"1166\" y=\"-37.8\" font-family=\"Times,serif\" font-size=\"14.00\" fill=\"#000000\">mse = 0.013</text>\n<text text-anchor=\"middle\" x=\"1166\" y=\"-22.8\" font-family=\"Times,serif\" font-size=\"14.00\" fill=\"#000000\">samples = 2408</text>\n<text text-anchor=\"middle\" x=\"1166\" y=\"-7.8\" font-family=\"Times,serif\" font-size=\"14.00\" fill=\"#000000\">value = 0.011</text>\n</g>\n<!-- 18&#45;&gt;20 -->\n<g id=\"edge20\" class=\"edge\">\n<title>18&#45;&gt;20</title>\n<path fill=\"none\" stroke=\"#000000\" d=\"M1134.2756,-88.9777C1138.6462,-80.3702 1143.3538,-71.0992 1147.77,-62.402\"/>\n<polygon fill=\"#000000\" stroke=\"#000000\" points=\"1151.0111,-63.7495 1152.4179,-53.2485 1144.7696,-60.5802 1151.0111,-63.7495\"/>\n</g>\n<!-- 22 -->\n<g id=\"node23\" class=\"node\">\n<title>22</title>\n<polygon fill=\"none\" stroke=\"#000000\" points=\"1334.5,-53 1237.5,-53 1237.5,0 1334.5,0 1334.5,-53\"/>\n<text text-anchor=\"middle\" x=\"1286\" y=\"-37.8\" font-family=\"Times,serif\" font-size=\"14.00\" fill=\"#000000\">mse = 0.023</text>\n<text text-anchor=\"middle\" x=\"1286\" y=\"-22.8\" font-family=\"Times,serif\" font-size=\"14.00\" fill=\"#000000\">samples = 43</text>\n<text text-anchor=\"middle\" x=\"1286\" y=\"-7.8\" font-family=\"Times,serif\" font-size=\"14.00\" fill=\"#000000\">value = 0.023</text>\n</g>\n<!-- 21&#45;&gt;22 -->\n<g id=\"edge22\" class=\"edge\">\n<title>21&#45;&gt;22</title>\n<path fill=\"none\" stroke=\"#000000\" d=\"M1286,-88.9777C1286,-80.7364 1286,-71.887 1286,-63.5153\"/>\n<polygon fill=\"#000000\" stroke=\"#000000\" points=\"1289.5001,-63.2484 1286,-53.2485 1282.5001,-63.2485 1289.5001,-63.2484\"/>\n</g>\n<!-- 23 -->\n<g id=\"node24\" class=\"node\">\n<title>23</title>\n<polygon fill=\"none\" stroke=\"#000000\" points=\"1459.5,-53 1352.5,-53 1352.5,0 1459.5,0 1459.5,-53\"/>\n<text text-anchor=\"middle\" x=\"1406\" y=\"-37.8\" font-family=\"Times,serif\" font-size=\"14.00\" fill=\"#000000\">mse = 0.002</text>\n<text text-anchor=\"middle\" x=\"1406\" y=\"-22.8\" font-family=\"Times,serif\" font-size=\"14.00\" fill=\"#000000\">samples = 3164</text>\n<text text-anchor=\"middle\" x=\"1406\" y=\"-7.8\" font-family=\"Times,serif\" font-size=\"14.00\" fill=\"#000000\">value = 0.002</text>\n</g>\n<!-- 21&#45;&gt;23 -->\n<g id=\"edge23\" class=\"edge\">\n<title>21&#45;&gt;23</title>\n<path fill=\"none\" stroke=\"#000000\" d=\"M1328.3075,-88.9777C1340.1499,-79.4545 1353.0021,-69.1191 1364.7805,-59.6473\"/>\n<polygon fill=\"#000000\" stroke=\"#000000\" points=\"1367.1382,-62.2427 1372.7376,-53.2485 1362.7514,-56.7877 1367.1382,-62.2427\"/>\n</g>\n<!-- 25 -->\n<g id=\"node26\" class=\"node\">\n<title>25</title>\n<polygon fill=\"none\" stroke=\"#000000\" points=\"1466.5,-149.5 1381.5,-149.5 1381.5,-96.5 1466.5,-96.5 1466.5,-149.5\"/>\n<text text-anchor=\"middle\" x=\"1424\" y=\"-134.3\" font-family=\"Times,serif\" font-size=\"14.00\" fill=\"#000000\">mse = 0.0</text>\n<text text-anchor=\"middle\" x=\"1424\" y=\"-119.3\" font-family=\"Times,serif\" font-size=\"14.00\" fill=\"#000000\">samples = 1</text>\n<text text-anchor=\"middle\" x=\"1424\" y=\"-104.3\" font-family=\"Times,serif\" font-size=\"14.00\" fill=\"#000000\">value = 0.0</text>\n</g>\n<!-- 24&#45;&gt;25 -->\n<g id=\"edge25\" class=\"edge\">\n<title>24&#45;&gt;25</title>\n<path fill=\"none\" stroke=\"#000000\" d=\"M1424,-192.9465C1424,-182.2621 1424,-170.4254 1424,-159.5742\"/>\n<polygon fill=\"#000000\" stroke=\"#000000\" points=\"1427.5001,-159.5421 1424,-149.5422 1420.5001,-159.5422 1427.5001,-159.5421\"/>\n</g>\n<!-- 26 -->\n<g id=\"node27\" class=\"node\">\n<title>26</title>\n<polygon fill=\"none\" stroke=\"#000000\" points=\"1569.5,-149.5 1484.5,-149.5 1484.5,-96.5 1569.5,-96.5 1569.5,-149.5\"/>\n<text text-anchor=\"middle\" x=\"1527\" y=\"-134.3\" font-family=\"Times,serif\" font-size=\"14.00\" fill=\"#000000\">mse = 0.0</text>\n<text text-anchor=\"middle\" x=\"1527\" y=\"-119.3\" font-family=\"Times,serif\" font-size=\"14.00\" fill=\"#000000\">samples = 2</text>\n<text text-anchor=\"middle\" x=\"1527\" y=\"-104.3\" font-family=\"Times,serif\" font-size=\"14.00\" fill=\"#000000\">value = 1.0</text>\n</g>\n<!-- 24&#45;&gt;26 -->\n<g id=\"edge26\" class=\"edge\">\n<title>24&#45;&gt;26</title>\n<path fill=\"none\" stroke=\"#000000\" d=\"M1457.7261,-192.9465C1469.1805,-181.3809 1481.972,-168.4652 1493.4154,-156.9107\"/>\n<polygon fill=\"#000000\" stroke=\"#000000\" points=\"1496.163,-159.1102 1500.713,-149.5422 1491.1894,-154.1844 1496.163,-159.1102\"/>\n</g>\n</g>\n</svg>\n"
          },
          "metadata": {
            "tags": []
          },
          "execution_count": 143
        }
      ]
    },
    {
      "cell_type": "markdown",
      "metadata": {
        "colab_type": "text",
        "id": "i7nJcwEZX4UO"
      },
      "source": [
        "nuestra mejor variable de predicion fue NUM_CLASE"
      ]
    },
    {
      "cell_type": "markdown",
      "metadata": {
        "colab_type": "text",
        "id": "C9dKwYmDX4UP"
      },
      "source": [
        "# Random Forest"
      ]
    },
    {
      "cell_type": "code",
      "metadata": {
        "colab_type": "code",
        "id": "B8sJLBihX4UQ",
        "colab": {}
      },
      "source": [
        "from sklearn.ensemble import RandomForestRegressor\n",
        "from sklearn.model_selection import cross_validate\n",
        "\n",
        "forest = RandomForestRegressor()\n",
        "results = cross_validate(forest,X,y,cv=5,scoring='r2',return_train_score=True)"
      ],
      "execution_count": 0,
      "outputs": []
    },
    {
      "cell_type": "code",
      "metadata": {
        "colab_type": "code",
        "id": "tdMuQpC6X4UT",
        "outputId": "8f63bd7c-c35b-4f91-b541-da5dc1dcbd7a",
        "colab": {
          "base_uri": "https://localhost:8080/",
          "height": 52
        }
      },
      "source": [
        "test_scores = results['test_score']\n",
        "train_scores = results['train_score']\n",
        "print(np.mean(train_scores))\n",
        "print(np.mean(test_scores))"
      ],
      "execution_count": 162,
      "outputs": [
        {
          "output_type": "stream",
          "text": [
            "0.8775858998614975\n",
            "0.3135986870412239\n"
          ],
          "name": "stdout"
        }
      ]
    },
    {
      "cell_type": "markdown",
      "metadata": {
        "colab_type": "text",
        "id": "WG5tuaoSX4UW"
      },
      "source": [
        "Mejor resultado que Lasso! Y ano tenemos Bias y tenemos un mejor score r2. Sin embargo tenemos una diferencia importante entre score de entrenamiento y test(overfit)"
      ]
    },
    {
      "cell_type": "markdown",
      "metadata": {
        "colab_type": "text",
        "id": "JIF51jVEX4UW"
      },
      "source": [
        "# Gradient Boosted Trees"
      ]
    },
    {
      "cell_type": "code",
      "metadata": {
        "colab_type": "code",
        "id": "USx1R4VbX4UX",
        "colab": {}
      },
      "source": [
        "from sklearn.ensemble import GradientBoostingRegressor\n",
        "\n",
        "ensemble = GradientBoostingRegressor()\n",
        "results = cross_validate(forest,X,y,cv=5,scoring='r2',return_train_score=True)"
      ],
      "execution_count": 0,
      "outputs": []
    },
    {
      "cell_type": "code",
      "metadata": {
        "colab_type": "code",
        "id": "kXNI4hJUX4Ue",
        "outputId": "99e63e35-ae2e-4684-b34e-c55f029f59b5",
        "colab": {
          "base_uri": "https://localhost:8080/",
          "height": 52
        }
      },
      "source": [
        "test_scores = results['test_score']\n",
        "train_scores = results['train_score']\n",
        "print(np.mean(train_scores))\n",
        "print(np.mean(test_scores))"
      ],
      "execution_count": 164,
      "outputs": [
        {
          "output_type": "stream",
          "text": [
            "0.8773410618630937\n",
            "0.31499848122745366\n"
          ],
          "name": "stdout"
        }
      ]
    },
    {
      "cell_type": "markdown",
      "metadata": {
        "colab_type": "text",
        "id": "lwG29XwEX4Ui"
      },
      "source": [
        "# Optimización de hiperparámetros"
      ]
    },
    {
      "cell_type": "markdown",
      "metadata": {
        "colab_type": "text",
        "id": "xp7WDUkCX4Uj"
      },
      "source": [
        "Buenas practicas del Gradient Boosted Trees, siguiendo el modelo"
      ]
    },
    {
      "cell_type": "code",
      "metadata": {
        "colab_type": "code",
        "id": "6hZU7v_hX4Uk",
        "colab": {}
      },
      "source": [
        "from sklearn.model_selection import train_test_split\n",
        "\n",
        "X_train, X_test, y_train, y_test = train_test_split(X,y,random_state=1)"
      ],
      "execution_count": 0,
      "outputs": []
    },
    {
      "cell_type": "code",
      "metadata": {
        "colab_type": "code",
        "id": "3WuEjuKJX4Un",
        "colab": {}
      },
      "source": [
        "from sklearn.model_selection import GridSearchCV\n",
        "\n",
        "param_test1 = {'n_estimators':range(20,501,20)}"
      ],
      "execution_count": 0,
      "outputs": []
    },
    {
      "cell_type": "code",
      "metadata": {
        "colab_type": "code",
        "id": "GWHItTOtX4Up",
        "outputId": "5a69197d-6479-4cb6-cc63-9226ace96ce2",
        "colab": {
          "base_uri": "https://localhost:8080/",
          "height": 451
        }
      },
      "source": [
        "list(param_test1['n_estimators'])"
      ],
      "execution_count": 167,
      "outputs": [
        {
          "output_type": "execute_result",
          "data": {
            "text/plain": [
              "[20,\n",
              " 40,\n",
              " 60,\n",
              " 80,\n",
              " 100,\n",
              " 120,\n",
              " 140,\n",
              " 160,\n",
              " 180,\n",
              " 200,\n",
              " 220,\n",
              " 240,\n",
              " 260,\n",
              " 280,\n",
              " 300,\n",
              " 320,\n",
              " 340,\n",
              " 360,\n",
              " 380,\n",
              " 400,\n",
              " 420,\n",
              " 440,\n",
              " 460,\n",
              " 480,\n",
              " 500]"
            ]
          },
          "metadata": {
            "tags": []
          },
          "execution_count": 167
        }
      ]
    },
    {
      "cell_type": "markdown",
      "metadata": {
        "colab_type": "text",
        "id": "sCxbY6LbX4Ut"
      },
      "source": [
        "se hace por que con GridSearch se busca el mejor valor para la cantidad de estimadores "
      ]
    },
    {
      "cell_type": "code",
      "metadata": {
        "colab_type": "code",
        "id": "adz1itAvX4Uv",
        "colab": {}
      },
      "source": [
        "estimador = GradientBoostingRegressor(learning_rate =0.1,\n",
        "                                     min_samples_split=500,\n",
        "                                     min_samples_leaf=50,\n",
        "                                     max_depth=8,\n",
        "                                     max_features='sqrt',\n",
        "                                     subsample=0.8,\n",
        "                                     random_state=10)"
      ],
      "execution_count": 0,
      "outputs": []
    },
    {
      "cell_type": "markdown",
      "metadata": {
        "colab_type": "text",
        "id": "32_NoF40X4Uy"
      },
      "source": [
        "parametros de los arboles"
      ]
    },
    {
      "cell_type": "code",
      "metadata": {
        "colab_type": "code",
        "id": "Zbt30Uj4X4Uz",
        "colab": {}
      },
      "source": [
        "gsearch1 = GridSearchCV(estimador,\n",
        "                       param_grid = param_test1,\n",
        "                       scoring='r2',\n",
        "                       cv=5)"
      ],
      "execution_count": 0,
      "outputs": []
    },
    {
      "cell_type": "code",
      "metadata": {
        "colab_type": "code",
        "id": "p4dliQ_0X4U2",
        "outputId": "220e0c18-424c-4378-90d5-4c91011fe1fb",
        "colab": {
          "base_uri": "https://localhost:8080/",
          "height": 416
        }
      },
      "source": [
        "gsearch1.fit(X_train,y_train)"
      ],
      "execution_count": 170,
      "outputs": [
        {
          "output_type": "execute_result",
          "data": {
            "text/plain": [
              "GridSearchCV(cv=5, error_score=nan,\n",
              "             estimator=GradientBoostingRegressor(alpha=0.9, ccp_alpha=0.0,\n",
              "                                                 criterion='friedman_mse',\n",
              "                                                 init=None, learning_rate=0.1,\n",
              "                                                 loss='ls', max_depth=8,\n",
              "                                                 max_features='sqrt',\n",
              "                                                 max_leaf_nodes=None,\n",
              "                                                 min_impurity_decrease=0.0,\n",
              "                                                 min_impurity_split=None,\n",
              "                                                 min_samples_leaf=50,\n",
              "                                                 min_samples_split=500,\n",
              "                                                 min_weight_fraction_leaf=0.0,\n",
              "                                                 n_estimators=100,\n",
              "                                                 n_iter_no_change=None,\n",
              "                                                 presort='deprecated',\n",
              "                                                 random_state=10, subsample=0.8,\n",
              "                                                 tol=0.0001,\n",
              "                                                 validation_fraction=0.1,\n",
              "                                                 verbose=0, warm_start=False),\n",
              "             iid='deprecated', n_jobs=None,\n",
              "             param_grid={'n_estimators': range(20, 501, 20)},\n",
              "             pre_dispatch='2*n_jobs', refit=True, return_train_score=False,\n",
              "             scoring='r2', verbose=0)"
            ]
          },
          "metadata": {
            "tags": []
          },
          "execution_count": 170
        }
      ]
    },
    {
      "cell_type": "code",
      "metadata": {
        "colab_type": "code",
        "id": "gOMl9Io8X4U5",
        "outputId": "7fb3ecfd-e299-435f-eade-97c0f1f8d071",
        "scrolled": true,
        "colab": {
          "base_uri": "https://localhost:8080/",
          "height": 485
        }
      },
      "source": [
        "list(zip(gsearch1.cv_results_['mean_test_score'], gsearch1.cv_results_['std_test_score'], gsearch1.cv_results_['params'])), gsearch1.best_params_, gsearch1.best_score_"
      ],
      "execution_count": 171,
      "outputs": [
        {
          "output_type": "execute_result",
          "data": {
            "text/plain": [
              "([(0.37789308427732526, 0.008506464926491656, {'n_estimators': 20}),\n",
              "  (0.3864473879713494, 0.008590631887123352, {'n_estimators': 40}),\n",
              "  (0.38574504777957125, 0.008760289260897874, {'n_estimators': 60}),\n",
              "  (0.38500436186316717, 0.009173286274442981, {'n_estimators': 80}),\n",
              "  (0.38462309923651766, 0.009356626255869324, {'n_estimators': 100}),\n",
              "  (0.38321819259536927, 0.009266966423080274, {'n_estimators': 120}),\n",
              "  (0.3818565291358502, 0.00937932969297019, {'n_estimators': 140}),\n",
              "  (0.38099217317835066, 0.009467027112127486, {'n_estimators': 160}),\n",
              "  (0.3798260107935321, 0.009451340059165043, {'n_estimators': 180}),\n",
              "  (0.37871871803108287, 0.009688059433656386, {'n_estimators': 200}),\n",
              "  (0.3771833337204179, 0.009797724818457714, {'n_estimators': 220}),\n",
              "  (0.3760620960678917, 0.009970616154116275, {'n_estimators': 240}),\n",
              "  (0.3748715227246585, 0.010037190386219612, {'n_estimators': 260}),\n",
              "  (0.37387829311915943, 0.009936782518393831, {'n_estimators': 280}),\n",
              "  (0.37291527289531806, 0.009806622603538755, {'n_estimators': 300}),\n",
              "  (0.37157251318362744, 0.010027452409993427, {'n_estimators': 320}),\n",
              "  (0.3704116633440321, 0.010076739753426916, {'n_estimators': 340}),\n",
              "  (0.36899073618697387, 0.010202763348774476, {'n_estimators': 360}),\n",
              "  (0.3675853908101866, 0.010408058762177748, {'n_estimators': 380}),\n",
              "  (0.36674186305722695, 0.010480395236783424, {'n_estimators': 400}),\n",
              "  (0.36577653620805106, 0.010484502178387718, {'n_estimators': 420}),\n",
              "  (0.3645209506645356, 0.010724299613615146, {'n_estimators': 440}),\n",
              "  (0.3633229027399368, 0.010426208468877478, {'n_estimators': 460}),\n",
              "  (0.3627072592241671, 0.010345778976899022, {'n_estimators': 480}),\n",
              "  (0.36127616437555626, 0.010511051986791307, {'n_estimators': 500})],\n",
              " {'n_estimators': 40},\n",
              " 0.3864473879713494)"
            ]
          },
          "metadata": {
            "tags": []
          },
          "execution_count": 171
        }
      ]
    },
    {
      "cell_type": "markdown",
      "metadata": {
        "colab_type": "text",
        "id": "SaziAyPfX4U8"
      },
      "source": [
        " mejoramos nuestro performarce 0.4\n",
        "\n"
      ]
    },
    {
      "cell_type": "code",
      "metadata": {
        "colab_type": "code",
        "id": "RgJlA1QgX4U9",
        "colab": {}
      },
      "source": [
        "final_results = cross_validate(gsearch1.best_estimator_,X_train,y_train)"
      ],
      "execution_count": 0,
      "outputs": []
    },
    {
      "cell_type": "code",
      "metadata": {
        "colab_type": "code",
        "id": "_BUkvWLlX4VB",
        "outputId": "945986d0-ead2-4a3b-942a-65278298fd1a",
        "colab": {
          "base_uri": "https://localhost:8080/",
          "height": 52
        }
      },
      "source": [
        "test_scores = results['test_score']\n",
        "train_scores = results['train_score']\n",
        "print(np.mean(train_scores))\n",
        "print(np.mean(test_scores))"
      ],
      "execution_count": 173,
      "outputs": [
        {
          "output_type": "stream",
          "text": [
            "0.8773410618630937\n",
            "0.31499848122745366\n"
          ],
          "name": "stdout"
        }
      ]
    },
    {
      "cell_type": "code",
      "metadata": {
        "colab_type": "code",
        "id": "E95O9rXLX4VG",
        "colab": {}
      },
      "source": [
        "estimador = GradientBoostingRegressor(learning_rate =0.1,\n",
        "                                     min_samples_split=500,\n",
        "                                     min_samples_leaf=50,\n",
        "                                     max_depth=8,\n",
        "                                     max_features='sqrt',\n",
        "                                     subsample=0.8,\n",
        "                                     random_state=10,\n",
        "                                     n_estimators=40)"
      ],
      "execution_count": 0,
      "outputs": []
    },
    {
      "cell_type": "code",
      "metadata": {
        "colab_type": "code",
        "id": "71fgwjWBX4VJ",
        "outputId": "b3b4875f-621b-4cb3-8245-b4fb3a8559c9",
        "colab": {
          "base_uri": "https://localhost:8080/",
          "height": 173
        }
      },
      "source": [
        "estimador.fit(X_train,y_train)"
      ],
      "execution_count": 196,
      "outputs": [
        {
          "output_type": "execute_result",
          "data": {
            "text/plain": [
              "GradientBoostingRegressor(alpha=0.9, ccp_alpha=0.0, criterion='friedman_mse',\n",
              "                          init=None, learning_rate=0.1, loss='ls', max_depth=8,\n",
              "                          max_features='sqrt', max_leaf_nodes=None,\n",
              "                          min_impurity_decrease=0.0, min_impurity_split=None,\n",
              "                          min_samples_leaf=50, min_samples_split=500,\n",
              "                          min_weight_fraction_leaf=0.0, n_estimators=40,\n",
              "                          n_iter_no_change=None, presort='deprecated',\n",
              "                          random_state=10, subsample=0.8, tol=0.0001,\n",
              "                          validation_fraction=0.1, verbose=0, warm_start=False)"
            ]
          },
          "metadata": {
            "tags": []
          },
          "execution_count": 196
        }
      ]
    },
    {
      "cell_type": "code",
      "metadata": {
        "colab_type": "code",
        "id": "U7_0F5abX4VM",
        "outputId": "65d656e7-a2fa-4a41-9145-7c9885e6b871",
        "colab": {
          "base_uri": "https://localhost:8080/",
          "height": 35
        }
      },
      "source": [
        "estimador.score(X_test, y_test)"
      ],
      "execution_count": 197,
      "outputs": [
        {
          "output_type": "execute_result",
          "data": {
            "text/plain": [
              "0.38380893404292427"
            ]
          },
          "metadata": {
            "tags": []
          },
          "execution_count": 197
        }
      ]
    },
    {
      "cell_type": "markdown",
      "metadata": {
        "colab_type": "text",
        "id": "w9Eu0jIhX4VS"
      },
      "source": [
        "Conclusion final"
      ]
    },
    {
      "cell_type": "markdown",
      "metadata": {
        "colab_type": "text",
        "id": "B2aMOeYnX4VT"
      },
      "source": [
        "en Score r2 gracias al haber trabajado sobre las features y tomar varios modelos y finalmente con gsearch1 al haber optimizado los parametros de nuestro modelo"
      ]
    }
  ]
}