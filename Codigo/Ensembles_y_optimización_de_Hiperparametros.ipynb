{
  "nbformat": 4,
  "nbformat_minor": 0,
  "metadata": {
    "accelerator": "GPU",
    "colab": {
      "name": "Ensembles_y_optimización_de_Hiperparametros.ipynb",
      "provenance": []
    },
    "kernelspec": {
      "name": "python3",
      "display_name": "Python 3"
    },
    "language_info": {
      "codemirror_mode": {
        "name": "ipython",
        "version": 3
      },
      "file_extension": ".py",
      "mimetype": "text/x-python",
      "name": "python",
      "nbconvert_exporter": "python",
      "pygments_lexer": "ipython3",
      "version": "3.8.1"
    }
  },
  "cells": [
    {
      "cell_type": "code",
      "metadata": {
        "colab_type": "code",
        "id": "n-xlIhZkX4Tc",
        "colab": {}
      },
      "source": [
        "import warnings\n",
        "warnings.simplefilter(\"ignore\")"
      ],
      "execution_count": 0,
      "outputs": []
    },
    {
      "cell_type": "code",
      "metadata": {
        "colab_type": "code",
        "id": "tzFLjhZ-X4Tj",
        "colab": {}
      },
      "source": [
        "%matplotlib inline\n",
        "import numpy as np\n",
        "import pandas as pd\n",
        "import matplotlib.pyplot as plt\n"
      ],
      "execution_count": 0,
      "outputs": []
    },
    {
      "cell_type": "markdown",
      "metadata": {
        "colab_type": "text",
        "id": "0hwr3sfpX4Tn"
      },
      "source": [
        "# Decision Trees"
      ]
    },
    {
      "cell_type": "code",
      "metadata": {
        "colab_type": "code",
        "id": "IG0_5iTyX4Tp",
        "colab": {}
      },
      "source": [
        "from sklearn.tree import DecisionTreeRegressor\n",
        "\n",
        "model = DecisionTreeRegressor(max_depth = 2)"
      ],
      "execution_count": 0,
      "outputs": []
    },
    {
      "cell_type": "markdown",
      "metadata": {
        "colab_type": "text",
        "id": "HG1ocpomX4Tt"
      },
      "source": [
        "max_depth = profundidad del arbol"
      ]
    },
    {
      "cell_type": "code",
      "metadata": {
        "colab_type": "code",
        "id": "Mvvt1CEoX4Tu",
        "colab": {}
      },
      "source": [
        "from sklearn.model_selection import train_test_split\n",
        "\n",
        "X = pd.read_csv(\"X.csv\")\n",
        "y = X['NUM_GRAVEDAD']\n",
        "X = X.drop('NUM_GRAVEDAD',axis=1)"
      ],
      "execution_count": 0,
      "outputs": []
    },
    {
      "cell_type": "code",
      "metadata": {
        "colab_type": "code",
        "id": "PKmjyN_dX4Ty",
        "colab": {}
      },
      "source": [
        "X_train, X_test, y_train, y_test = train_test_split(X,y, random_state=1)"
      ],
      "execution_count": 0,
      "outputs": []
    },
    {
      "cell_type": "code",
      "metadata": {
        "colab_type": "code",
        "id": "b2VwJC5NX4T1",
        "outputId": "9a3b7ee4-2e25-49a2-d3cd-9a3ccaf99264",
        "colab": {
          "base_uri": "https://localhost:8080/",
          "height": 119
        }
      },
      "source": [
        "model.fit(X_train,y_train)"
      ],
      "execution_count": 6,
      "outputs": [
        {
          "output_type": "execute_result",
          "data": {
            "text/plain": [
              "DecisionTreeRegressor(ccp_alpha=0.0, criterion='mse', max_depth=2,\n",
              "                      max_features=None, max_leaf_nodes=None,\n",
              "                      min_impurity_decrease=0.0, min_impurity_split=None,\n",
              "                      min_samples_leaf=1, min_samples_split=2,\n",
              "                      min_weight_fraction_leaf=0.0, presort='deprecated',\n",
              "                      random_state=None, splitter='best')"
            ]
          },
          "metadata": {
            "tags": []
          },
          "execution_count": 6
        }
      ]
    },
    {
      "cell_type": "code",
      "metadata": {
        "colab_type": "code",
        "id": "toFY_wSMX4T7",
        "scrolled": true,
        "colab": {}
      },
      "source": [
        "import graphviz "
      ],
      "execution_count": 0,
      "outputs": []
    },
    {
      "cell_type": "markdown",
      "metadata": {
        "colab_type": "text",
        "id": "YaX7EEEEX4T-"
      },
      "source": [
        "libreria para visualizar grafos"
      ]
    },
    {
      "cell_type": "code",
      "metadata": {
        "colab_type": "code",
        "id": "oSz-DqBkX4UB",
        "colab": {}
      },
      "source": [
        "from sklearn.tree import export_graphviz\n",
        "\n",
        "treedot = export_graphviz(model,\n",
        "                         out_file =None,\n",
        "                          feature_names=X.columns\n",
        "                         )"
      ],
      "execution_count": 0,
      "outputs": []
    },
    {
      "cell_type": "code",
      "metadata": {
        "colab_type": "code",
        "id": "VDhIGVFRX4UF",
        "outputId": "57b2bb02-52bb-4f49-bfdb-78a9885ea9de",
        "colab": {
          "base_uri": "https://localhost:8080/",
          "height": 54
        }
      },
      "source": [
        "treedot"
      ],
      "execution_count": 9,
      "outputs": [
        {
          "output_type": "execute_result",
          "data": {
            "text/plain": [
              "'digraph Tree {\\nnode [shape=box] ;\\n0 [label=\"NUM_CLASE <= 1.5\\\\nmse = 0.256\\\\nsamples = 26604\\\\nvalue = 1.477\"] ;\\n1 [label=\"NUM_DISENO <= 1.5\\\\nmse = 0.224\\\\nsamples = 18535\\\\nvalue = 1.677\"] ;\\n0 -> 1 [labeldistance=2.5, labelangle=45, headlabel=\"True\"] ;\\n2 [label=\"mse = 0.209\\\\nsamples = 12002\\\\nvalue = 1.717\"] ;\\n1 -> 2 ;\\n3 [label=\"mse = 0.244\\\\nsamples = 6533\\\\nvalue = 1.603\"] ;\\n1 -> 3 ;\\n4 [label=\"NUM_DISENO <= 2.5\\\\nmse = 0.027\\\\nsamples = 8069\\\\nvalue = 1.017\"] ;\\n0 -> 4 [labeldistance=2.5, labelangle=-45, headlabel=\"False\"] ;\\n5 [label=\"mse = 0.043\\\\nsamples = 4861\\\\nvalue = 1.026\"] ;\\n4 -> 5 ;\\n6 [label=\"mse = 0.002\\\\nsamples = 3208\\\\nvalue = 1.002\"] ;\\n4 -> 6 ;\\n}'"
            ]
          },
          "metadata": {
            "tags": []
          },
          "execution_count": 9
        }
      ]
    },
    {
      "cell_type": "code",
      "metadata": {
        "colab_type": "code",
        "id": "ZtCcu3GnX4UJ",
        "outputId": "7c43bdf6-c837-49c3-9e49-d4850b3be74b",
        "colab": {
          "base_uri": "https://localhost:8080/",
          "height": 380
        }
      },
      "source": [
        "graphviz.Source(treedot)"
      ],
      "execution_count": 11,
      "outputs": [
        {
          "output_type": "execute_result",
          "data": {
            "text/plain": [
              "<graphviz.files.Source at 0x7f5d252ef978>"
            ],
            "image/svg+xml": "<?xml version=\"1.0\" encoding=\"UTF-8\" standalone=\"no\"?>\n<!DOCTYPE svg PUBLIC \"-//W3C//DTD SVG 1.1//EN\"\n \"http://www.w3.org/Graphics/SVG/1.1/DTD/svg11.dtd\">\n<!-- Generated by graphviz version 2.40.1 (20161225.0304)\n -->\n<!-- Title: Tree Pages: 1 -->\n<svg width=\"521pt\" height=\"269pt\"\n viewBox=\"0.00 0.00 521.00 269.00\" xmlns=\"http://www.w3.org/2000/svg\" xmlns:xlink=\"http://www.w3.org/1999/xlink\">\n<g id=\"graph0\" class=\"graph\" transform=\"scale(1 1) rotate(0) translate(4 265)\">\n<title>Tree</title>\n<polygon fill=\"#ffffff\" stroke=\"transparent\" points=\"-4,4 -4,-265 517,-265 517,4 -4,4\"/>\n<!-- 0 -->\n<g id=\"node1\" class=\"node\">\n<title>0</title>\n<polygon fill=\"none\" stroke=\"#000000\" points=\"334,-261 187,-261 187,-193 334,-193 334,-261\"/>\n<text text-anchor=\"middle\" x=\"260.5\" y=\"-245.8\" font-family=\"Times,serif\" font-size=\"14.00\" fill=\"#000000\">NUM_CLASE &lt;= 1.5</text>\n<text text-anchor=\"middle\" x=\"260.5\" y=\"-230.8\" font-family=\"Times,serif\" font-size=\"14.00\" fill=\"#000000\">mse = 0.256</text>\n<text text-anchor=\"middle\" x=\"260.5\" y=\"-215.8\" font-family=\"Times,serif\" font-size=\"14.00\" fill=\"#000000\">samples = 26604</text>\n<text text-anchor=\"middle\" x=\"260.5\" y=\"-200.8\" font-family=\"Times,serif\" font-size=\"14.00\" fill=\"#000000\">value = 1.477</text>\n</g>\n<!-- 1 -->\n<g id=\"node2\" class=\"node\">\n<title>1</title>\n<polygon fill=\"none\" stroke=\"#000000\" points=\"251.5,-157 97.5,-157 97.5,-89 251.5,-89 251.5,-157\"/>\n<text text-anchor=\"middle\" x=\"174.5\" y=\"-141.8\" font-family=\"Times,serif\" font-size=\"14.00\" fill=\"#000000\">NUM_DISENO &lt;= 1.5</text>\n<text text-anchor=\"middle\" x=\"174.5\" y=\"-126.8\" font-family=\"Times,serif\" font-size=\"14.00\" fill=\"#000000\">mse = 0.224</text>\n<text text-anchor=\"middle\" x=\"174.5\" y=\"-111.8\" font-family=\"Times,serif\" font-size=\"14.00\" fill=\"#000000\">samples = 18535</text>\n<text text-anchor=\"middle\" x=\"174.5\" y=\"-96.8\" font-family=\"Times,serif\" font-size=\"14.00\" fill=\"#000000\">value = 1.677</text>\n</g>\n<!-- 0&#45;&gt;1 -->\n<g id=\"edge1\" class=\"edge\">\n<title>0&#45;&gt;1</title>\n<path fill=\"none\" stroke=\"#000000\" d=\"M232.3404,-192.9465C224.9158,-183.968 216.8185,-174.1758 209.0972,-164.8385\"/>\n<polygon fill=\"#000000\" stroke=\"#000000\" points=\"211.7928,-162.606 202.7229,-157.13 206.3983,-167.0669 211.7928,-162.606\"/>\n<text text-anchor=\"middle\" x=\"200.365\" y=\"-178.3186\" font-family=\"Times,serif\" font-size=\"14.00\" fill=\"#000000\">True</text>\n</g>\n<!-- 4 -->\n<g id=\"node5\" class=\"node\">\n<title>4</title>\n<polygon fill=\"none\" stroke=\"#000000\" points=\"423.5,-157 269.5,-157 269.5,-89 423.5,-89 423.5,-157\"/>\n<text text-anchor=\"middle\" x=\"346.5\" y=\"-141.8\" font-family=\"Times,serif\" font-size=\"14.00\" fill=\"#000000\">NUM_DISENO &lt;= 2.5</text>\n<text text-anchor=\"middle\" x=\"346.5\" y=\"-126.8\" font-family=\"Times,serif\" font-size=\"14.00\" fill=\"#000000\">mse = 0.027</text>\n<text text-anchor=\"middle\" x=\"346.5\" y=\"-111.8\" font-family=\"Times,serif\" font-size=\"14.00\" fill=\"#000000\">samples = 8069</text>\n<text text-anchor=\"middle\" x=\"346.5\" y=\"-96.8\" font-family=\"Times,serif\" font-size=\"14.00\" fill=\"#000000\">value = 1.017</text>\n</g>\n<!-- 0&#45;&gt;4 -->\n<g id=\"edge4\" class=\"edge\">\n<title>0&#45;&gt;4</title>\n<path fill=\"none\" stroke=\"#000000\" d=\"M288.6596,-192.9465C296.0842,-183.968 304.1815,-174.1758 311.9028,-164.8385\"/>\n<polygon fill=\"#000000\" stroke=\"#000000\" points=\"314.6017,-167.0669 318.2771,-157.13 309.2072,-162.606 314.6017,-167.0669\"/>\n<text text-anchor=\"middle\" x=\"320.635\" y=\"-178.3186\" font-family=\"Times,serif\" font-size=\"14.00\" fill=\"#000000\">False</text>\n</g>\n<!-- 2 -->\n<g id=\"node3\" class=\"node\">\n<title>2</title>\n<polygon fill=\"none\" stroke=\"#000000\" points=\"115,-53 0,-53 0,0 115,0 115,-53\"/>\n<text text-anchor=\"middle\" x=\"57.5\" y=\"-37.8\" font-family=\"Times,serif\" font-size=\"14.00\" fill=\"#000000\">mse = 0.209</text>\n<text text-anchor=\"middle\" x=\"57.5\" y=\"-22.8\" font-family=\"Times,serif\" font-size=\"14.00\" fill=\"#000000\">samples = 12002</text>\n<text text-anchor=\"middle\" x=\"57.5\" y=\"-7.8\" font-family=\"Times,serif\" font-size=\"14.00\" fill=\"#000000\">value = 1.717</text>\n</g>\n<!-- 1&#45;&gt;2 -->\n<g id=\"edge2\" class=\"edge\">\n<title>1&#45;&gt;2</title>\n<path fill=\"none\" stroke=\"#000000\" d=\"M133.2502,-88.9777C121.7039,-79.4545 109.1729,-69.1191 97.689,-59.6473\"/>\n<polygon fill=\"#000000\" stroke=\"#000000\" points=\"99.8724,-56.9113 89.9308,-53.2485 95.4184,-62.3115 99.8724,-56.9113\"/>\n</g>\n<!-- 3 -->\n<g id=\"node4\" class=\"node\">\n<title>3</title>\n<polygon fill=\"none\" stroke=\"#000000\" points=\"240,-53 133,-53 133,0 240,0 240,-53\"/>\n<text text-anchor=\"middle\" x=\"186.5\" y=\"-37.8\" font-family=\"Times,serif\" font-size=\"14.00\" fill=\"#000000\">mse = 0.244</text>\n<text text-anchor=\"middle\" x=\"186.5\" y=\"-22.8\" font-family=\"Times,serif\" font-size=\"14.00\" fill=\"#000000\">samples = 6533</text>\n<text text-anchor=\"middle\" x=\"186.5\" y=\"-7.8\" font-family=\"Times,serif\" font-size=\"14.00\" fill=\"#000000\">value = 1.603</text>\n</g>\n<!-- 1&#45;&gt;3 -->\n<g id=\"edge3\" class=\"edge\">\n<title>1&#45;&gt;3</title>\n<path fill=\"none\" stroke=\"#000000\" d=\"M178.7308,-88.9777C179.767,-80.6449 180.8805,-71.6903 181.9317,-63.2364\"/>\n<polygon fill=\"#000000\" stroke=\"#000000\" points=\"185.4129,-63.604 183.1738,-53.2485 178.4664,-62.7401 185.4129,-63.604\"/>\n</g>\n<!-- 5 -->\n<g id=\"node6\" class=\"node\">\n<title>5</title>\n<polygon fill=\"none\" stroke=\"#000000\" points=\"388,-53 281,-53 281,0 388,0 388,-53\"/>\n<text text-anchor=\"middle\" x=\"334.5\" y=\"-37.8\" font-family=\"Times,serif\" font-size=\"14.00\" fill=\"#000000\">mse = 0.043</text>\n<text text-anchor=\"middle\" x=\"334.5\" y=\"-22.8\" font-family=\"Times,serif\" font-size=\"14.00\" fill=\"#000000\">samples = 4861</text>\n<text text-anchor=\"middle\" x=\"334.5\" y=\"-7.8\" font-family=\"Times,serif\" font-size=\"14.00\" fill=\"#000000\">value = 1.026</text>\n</g>\n<!-- 4&#45;&gt;5 -->\n<g id=\"edge5\" class=\"edge\">\n<title>4&#45;&gt;5</title>\n<path fill=\"none\" stroke=\"#000000\" d=\"M342.2692,-88.9777C341.233,-80.6449 340.1195,-71.6903 339.0683,-63.2364\"/>\n<polygon fill=\"#000000\" stroke=\"#000000\" points=\"342.5336,-62.7401 337.8262,-53.2485 335.5871,-63.604 342.5336,-62.7401\"/>\n</g>\n<!-- 6 -->\n<g id=\"node7\" class=\"node\">\n<title>6</title>\n<polygon fill=\"none\" stroke=\"#000000\" points=\"513,-53 406,-53 406,0 513,0 513,-53\"/>\n<text text-anchor=\"middle\" x=\"459.5\" y=\"-37.8\" font-family=\"Times,serif\" font-size=\"14.00\" fill=\"#000000\">mse = 0.002</text>\n<text text-anchor=\"middle\" x=\"459.5\" y=\"-22.8\" font-family=\"Times,serif\" font-size=\"14.00\" fill=\"#000000\">samples = 3208</text>\n<text text-anchor=\"middle\" x=\"459.5\" y=\"-7.8\" font-family=\"Times,serif\" font-size=\"14.00\" fill=\"#000000\">value = 1.002</text>\n</g>\n<!-- 4&#45;&gt;6 -->\n<g id=\"edge6\" class=\"edge\">\n<title>4&#45;&gt;6</title>\n<path fill=\"none\" stroke=\"#000000\" d=\"M386.3396,-88.9777C397.3839,-79.546 409.361,-69.3178 420.3648,-59.9208\"/>\n<polygon fill=\"#000000\" stroke=\"#000000\" points=\"422.8464,-62.4041 428.1779,-53.2485 418.3006,-57.081 422.8464,-62.4041\"/>\n</g>\n</g>\n</svg>\n"
          },
          "metadata": {
            "tags": []
          },
          "execution_count": 11
        }
      ]
    },
    {
      "cell_type": "markdown",
      "metadata": {
        "colab_type": "text",
        "id": "i7nJcwEZX4UO"
      },
      "source": [
        "nuestra mejor variable de predicion fue NUM_CLASE"
      ]
    },
    {
      "cell_type": "markdown",
      "metadata": {
        "colab_type": "text",
        "id": "C9dKwYmDX4UP"
      },
      "source": [
        "# Random Forest"
      ]
    },
    {
      "cell_type": "code",
      "metadata": {
        "colab_type": "code",
        "id": "B8sJLBihX4UQ",
        "colab": {}
      },
      "source": [
        "from sklearn.ensemble import RandomForestRegressor\n",
        "from sklearn.model_selection import cross_validate\n",
        "\n",
        "forest = RandomForestRegressor(200)\n",
        "results = cross_validate(forest,X,y,cv=5,scoring='r2',return_train_score=True)"
      ],
      "execution_count": 0,
      "outputs": []
    },
    {
      "cell_type": "code",
      "metadata": {
        "colab_type": "code",
        "id": "tdMuQpC6X4UT",
        "outputId": "5e07b91d-4aba-4a9d-847b-cae241360b7d",
        "colab": {
          "base_uri": "https://localhost:8080/",
          "height": 51
        }
      },
      "source": [
        "test_scores = results['test_score']\n",
        "train_scores = results['train_score']\n",
        "print(np.mean(train_scores))\n",
        "print(np.mean(test_scores))"
      ],
      "execution_count": 13,
      "outputs": [
        {
          "output_type": "stream",
          "text": [
            "0.9126062035376062\n",
            "0.36434070270641516\n"
          ],
          "name": "stdout"
        }
      ]
    },
    {
      "cell_type": "markdown",
      "metadata": {
        "colab_type": "text",
        "id": "WG5tuaoSX4UW"
      },
      "source": [
        "Mejor resultado que Lasso! Y ano tenemos Bias y tenemos un mejor score r2. Sin embargo tenemos una diferencia importante entre score de entrenamiento y test(overfit)"
      ]
    },
    {
      "cell_type": "markdown",
      "metadata": {
        "colab_type": "text",
        "id": "JIF51jVEX4UW"
      },
      "source": [
        "# Gradient Boosted Trees"
      ]
    },
    {
      "cell_type": "code",
      "metadata": {
        "colab_type": "code",
        "id": "USx1R4VbX4UX",
        "colab": {}
      },
      "source": [
        "from sklearn.ensemble import GradientBoostingRegressor\n",
        "\n",
        "ensemble = GradientBoostingRegressor()\n",
        "results = cross_validate(forest,X,y,cv=5,scoring='r2',return_train_score=True)"
      ],
      "execution_count": 0,
      "outputs": []
    },
    {
      "cell_type": "code",
      "metadata": {
        "colab_type": "code",
        "id": "kXNI4hJUX4Ue",
        "outputId": "37b29053-9f38-4d28-bf54-d103305e8667",
        "colab": {
          "base_uri": "https://localhost:8080/",
          "height": 51
        }
      },
      "source": [
        "test_scores = results['test_score']\n",
        "train_scores = results['train_score']\n",
        "print(np.mean(train_scores))\n",
        "print(np.mean(test_scores))"
      ],
      "execution_count": 0,
      "outputs": [
        {
          "output_type": "stream",
          "text": [
            "0.8716282694263648\n",
            "0.06892558136267857\n"
          ],
          "name": "stdout"
        }
      ]
    },
    {
      "cell_type": "markdown",
      "metadata": {
        "colab_type": "text",
        "id": "lwG29XwEX4Ui"
      },
      "source": [
        "# Optimización de hiperparámetros"
      ]
    },
    {
      "cell_type": "markdown",
      "metadata": {
        "colab_type": "text",
        "id": "xp7WDUkCX4Uj"
      },
      "source": [
        "Buenas practicas del Gradient Boosted Trees, siguiendo el modelo"
      ]
    },
    {
      "cell_type": "code",
      "metadata": {
        "colab_type": "code",
        "id": "6hZU7v_hX4Uk",
        "colab": {}
      },
      "source": [
        "from sklearn.model_selection import train_test_split\n",
        "\n",
        "X_train, X_test, y_train, y_test = train_test_split(X,y,random_state=1)"
      ],
      "execution_count": 0,
      "outputs": []
    },
    {
      "cell_type": "code",
      "metadata": {
        "colab_type": "code",
        "id": "3WuEjuKJX4Un",
        "colab": {}
      },
      "source": [
        "from sklearn.model_selection import GridSearchCV\n",
        "\n",
        "param_test1 = {'n_estimators':range(20,501,20)}"
      ],
      "execution_count": 0,
      "outputs": []
    },
    {
      "cell_type": "code",
      "metadata": {
        "colab_type": "code",
        "id": "GWHItTOtX4Up",
        "outputId": "a83d0c56-f0cd-4b90-ebc4-cb75a9ab0c6d",
        "colab": {
          "base_uri": "https://localhost:8080/",
          "height": 442
        }
      },
      "source": [
        "list(param_test1['n_estimators'])"
      ],
      "execution_count": 16,
      "outputs": [
        {
          "output_type": "execute_result",
          "data": {
            "text/plain": [
              "[20,\n",
              " 40,\n",
              " 60,\n",
              " 80,\n",
              " 100,\n",
              " 120,\n",
              " 140,\n",
              " 160,\n",
              " 180,\n",
              " 200,\n",
              " 220,\n",
              " 240,\n",
              " 260,\n",
              " 280,\n",
              " 300,\n",
              " 320,\n",
              " 340,\n",
              " 360,\n",
              " 380,\n",
              " 400,\n",
              " 420,\n",
              " 440,\n",
              " 460,\n",
              " 480,\n",
              " 500]"
            ]
          },
          "metadata": {
            "tags": []
          },
          "execution_count": 16
        }
      ]
    },
    {
      "cell_type": "markdown",
      "metadata": {
        "colab_type": "text",
        "id": "sCxbY6LbX4Ut"
      },
      "source": [
        "se hace por que con GridSearch se busca el mejor valor para la cantidad de estimadores "
      ]
    },
    {
      "cell_type": "code",
      "metadata": {
        "colab_type": "code",
        "id": "adz1itAvX4Uv",
        "colab": {}
      },
      "source": [
        "estimador = GradientBoostingRegressor(learning_rate =0.1,\n",
        "                                     min_samples_split=500,\n",
        "                                     min_samples_leaf=500,\n",
        "                                     max_depth=8,\n",
        "                                     max_features='sqrt',\n",
        "                                     subsample=0.8,\n",
        "                                     random_state=10)"
      ],
      "execution_count": 0,
      "outputs": []
    },
    {
      "cell_type": "markdown",
      "metadata": {
        "colab_type": "text",
        "id": "32_NoF40X4Uy"
      },
      "source": [
        "parametros de los arboles"
      ]
    },
    {
      "cell_type": "code",
      "metadata": {
        "colab_type": "code",
        "id": "Zbt30Uj4X4Uz",
        "colab": {}
      },
      "source": [
        "gsearch1 = GridSearchCV(estimador,\n",
        "                       param_grid = param_test1,\n",
        "                       scoring='r2',\n",
        "                       cv=5)"
      ],
      "execution_count": 0,
      "outputs": []
    },
    {
      "cell_type": "code",
      "metadata": {
        "colab_type": "code",
        "id": "p4dliQ_0X4U2",
        "outputId": "4060e4f9-b0b3-4c0c-99f9-c0a3bb2d11d8",
        "colab": {
          "base_uri": "https://localhost:8080/",
          "height": 408
        }
      },
      "source": [
        "gsearch1.fit(X_train,y_train)"
      ],
      "execution_count": 23,
      "outputs": [
        {
          "output_type": "execute_result",
          "data": {
            "text/plain": [
              "GridSearchCV(cv=5, error_score=nan,\n",
              "             estimator=GradientBoostingRegressor(alpha=0.9, ccp_alpha=0.0,\n",
              "                                                 criterion='friedman_mse',\n",
              "                                                 init=None, learning_rate=0.1,\n",
              "                                                 loss='ls', max_depth=8,\n",
              "                                                 max_features='sqrt',\n",
              "                                                 max_leaf_nodes=None,\n",
              "                                                 min_impurity_decrease=0.0,\n",
              "                                                 min_impurity_split=None,\n",
              "                                                 min_samples_leaf=500,\n",
              "                                                 min_samples_split=500,\n",
              "                                                 min_weight_fraction_leaf=0.0,\n",
              "                                                 n_estimators=100,\n",
              "                                                 n_iter_no_change=None,\n",
              "                                                 presort='deprecated',\n",
              "                                                 random_state=10, subsample=0.8,\n",
              "                                                 tol=0.0001,\n",
              "                                                 validation_fraction=0.1,\n",
              "                                                 verbose=0, warm_start=False),\n",
              "             iid='deprecated', n_jobs=None,\n",
              "             param_grid={'n_estimators': range(20, 501, 20)},\n",
              "             pre_dispatch='2*n_jobs', refit=True, return_train_score=False,\n",
              "             scoring='r2', verbose=0)"
            ]
          },
          "metadata": {
            "tags": []
          },
          "execution_count": 23
        }
      ]
    },
    {
      "cell_type": "code",
      "metadata": {
        "colab_type": "code",
        "id": "gOMl9Io8X4U5",
        "outputId": "027e85c4-1c09-4088-b4b3-86b731489f49",
        "scrolled": true,
        "colab": {
          "base_uri": "https://localhost:8080/",
          "height": 442
        }
      },
      "source": [
        "list(zip(gsearch1.cv_results_['mean_test_score'], gsearch1.cv_results_['std_test_score'], gsearch1.cv_results_['params']))"
      ],
      "execution_count": 24,
      "outputs": [
        {
          "output_type": "execute_result",
          "data": {
            "text/plain": [
              "[(0.36968743277442534, 0.007705709501499276, {'n_estimators': 20}),\n",
              " (0.3851857584255656, 0.008222161062052296, {'n_estimators': 40}),\n",
              " (0.3864410382621378, 0.008271093485793801, {'n_estimators': 60}),\n",
              " (0.38687880724806795, 0.00840105732428415, {'n_estimators': 80}),\n",
              " (0.3873483441575848, 0.008622406120776771, {'n_estimators': 100}),\n",
              " (0.3874415315461497, 0.008738657351306755, {'n_estimators': 120}),\n",
              " (0.3877867779956958, 0.00909164375862956, {'n_estimators': 140}),\n",
              " (0.38775366386620946, 0.009345975737555585, {'n_estimators': 160}),\n",
              " (0.38768478493637876, 0.009430017645203301, {'n_estimators': 180}),\n",
              " (0.38776665190557963, 0.009476946345380587, {'n_estimators': 200}),\n",
              " (0.387827056922491, 0.010026808114123462, {'n_estimators': 220}),\n",
              " (0.38772009061879426, 0.010629214670240304, {'n_estimators': 240}),\n",
              " (0.38786198828941004, 0.010653215277977867, {'n_estimators': 260}),\n",
              " (0.38735548920323465, 0.010760255464691499, {'n_estimators': 280}),\n",
              " (0.3873287247066461, 0.011020436501457611, {'n_estimators': 300}),\n",
              " (0.3873014026224859, 0.011191856936394623, {'n_estimators': 320}),\n",
              " (0.38731865005688587, 0.011222826037918635, {'n_estimators': 340}),\n",
              " (0.38717181959151475, 0.011171301153144847, {'n_estimators': 360}),\n",
              " (0.38711627976608115, 0.01123920867435542, {'n_estimators': 380}),\n",
              " (0.38729072762466005, 0.011573969500553932, {'n_estimators': 400}),\n",
              " (0.3872761179433283, 0.01145106293895492, {'n_estimators': 420}),\n",
              " (0.38703961365772194, 0.01154254485331891, {'n_estimators': 440}),\n",
              " (0.38691051646487634, 0.011901490719301383, {'n_estimators': 460}),\n",
              " (0.38680439181106296, 0.012207652044153132, {'n_estimators': 480}),\n",
              " (0.38685768741187526, 0.012116086971588136, {'n_estimators': 500})]"
            ]
          },
          "metadata": {
            "tags": []
          },
          "execution_count": 24
        }
      ]
    },
    {
      "cell_type": "markdown",
      "metadata": {
        "colab_type": "text",
        "id": "SaziAyPfX4U8"
      },
      "source": [
        " mejoramos nuestro performarce 0.8\n",
        "\n"
      ]
    },
    {
      "cell_type": "code",
      "metadata": {
        "colab_type": "code",
        "id": "RgJlA1QgX4U9",
        "colab": {}
      },
      "source": [
        "final_results = cross_validate(gsearch1.best_estimator_,X_train,y_train)"
      ],
      "execution_count": 0,
      "outputs": []
    },
    {
      "cell_type": "code",
      "metadata": {
        "colab_type": "code",
        "id": "_BUkvWLlX4VB",
        "outputId": "c88fd85f-22f4-4028-e213-9b9a43d34840",
        "colab": {
          "base_uri": "https://localhost:8080/",
          "height": 51
        }
      },
      "source": [
        "test_scores = results['test_score']\n",
        "train_scores = results['train_score']\n",
        "print(np.mean(train_scores))\n",
        "print(np.mean(test_scores))"
      ],
      "execution_count": 26,
      "outputs": [
        {
          "output_type": "stream",
          "text": [
            "0.9125789738365\n",
            "0.3644431893556015\n"
          ],
          "name": "stdout"
        }
      ]
    },
    {
      "cell_type": "code",
      "metadata": {
        "colab_type": "code",
        "id": "E95O9rXLX4VG",
        "colab": {}
      },
      "source": [
        "estimador = GradientBoostingRegressor(learning_rate =0.1,\n",
        "                                     min_samples_split=500,\n",
        "                                     min_samples_leaf=500,\n",
        "                                     max_depth=8,\n",
        "                                     max_features='sqrt',\n",
        "                                     subsample=0.8,\n",
        "                                     random_state=10,\n",
        "                                     n_estimators=240)"
      ],
      "execution_count": 0,
      "outputs": []
    },
    {
      "cell_type": "code",
      "metadata": {
        "colab_type": "code",
        "id": "71fgwjWBX4VJ",
        "outputId": "2a0384f2-d5f3-459a-9ec1-e4a6af65018c",
        "colab": {
          "base_uri": "https://localhost:8080/",
          "height": 170
        }
      },
      "source": [
        "estimador.fit(X_train,y_train)"
      ],
      "execution_count": 28,
      "outputs": [
        {
          "output_type": "execute_result",
          "data": {
            "text/plain": [
              "GradientBoostingRegressor(alpha=0.9, ccp_alpha=0.0, criterion='friedman_mse',\n",
              "                          init=None, learning_rate=0.1, loss='ls', max_depth=8,\n",
              "                          max_features='sqrt', max_leaf_nodes=None,\n",
              "                          min_impurity_decrease=0.0, min_impurity_split=None,\n",
              "                          min_samples_leaf=500, min_samples_split=500,\n",
              "                          min_weight_fraction_leaf=0.0, n_estimators=240,\n",
              "                          n_iter_no_change=None, presort='deprecated',\n",
              "                          random_state=10, subsample=0.8, tol=0.0001,\n",
              "                          validation_fraction=0.1, verbose=0, warm_start=False)"
            ]
          },
          "metadata": {
            "tags": []
          },
          "execution_count": 28
        }
      ]
    },
    {
      "cell_type": "code",
      "metadata": {
        "colab_type": "code",
        "id": "U7_0F5abX4VM",
        "outputId": "83efb0fa-3944-44f0-d955-55f249469932",
        "colab": {
          "base_uri": "https://localhost:8080/",
          "height": 34
        }
      },
      "source": [
        "estimador.score(X_test, y_test)"
      ],
      "execution_count": 29,
      "outputs": [
        {
          "output_type": "execute_result",
          "data": {
            "text/plain": [
              "0.38519620992253256"
            ]
          },
          "metadata": {
            "tags": []
          },
          "execution_count": 29
        }
      ]
    },
    {
      "cell_type": "markdown",
      "metadata": {
        "colab_type": "text",
        "id": "w9Eu0jIhX4VS"
      },
      "source": [
        "Conclusion final"
      ]
    },
    {
      "cell_type": "markdown",
      "metadata": {
        "colab_type": "text",
        "id": "B2aMOeYnX4VT"
      },
      "source": [
        "en Score r2 gracias al haber trabajado sobre las features y tomar varios modelos y finalmente con gsearch1 al haber optimizado los parametros de nuestro modelo"
      ]
    }
  ]
}